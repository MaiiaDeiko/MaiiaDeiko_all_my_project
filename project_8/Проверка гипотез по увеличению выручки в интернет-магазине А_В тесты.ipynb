{
 "cells": [
  {
   "cell_type": "markdown",
   "metadata": {},
   "source": [
    "# Проверка гипотез по увеличению выручки в интернет-магазине. Оценка результатов A/B теста"
   ]
  },
  {
   "cell_type": "markdown",
   "metadata": {
    "toc": true
   },
   "source": [
    "<h1>Содержание<span class=\"tocSkip\"></span></h1>\n",
    "<div class=\"toc\"><ul class=\"toc-item\"><li><span><a href=\"#Описание-данных\" data-toc-modified-id=\"Описание-данных-1\"><span class=\"toc-item-num\">1&nbsp;&nbsp;</span>Описание данных</a></span></li><li><span><a href=\"#Описание-проекта\" data-toc-modified-id=\"Описание-проекта-2\"><span class=\"toc-item-num\">2&nbsp;&nbsp;</span>Описание проекта</a></span></li><li><span><a href=\"#Часть-1.-Приоритезация-гипотез.\" data-toc-modified-id=\"Часть-1.-Приоритезация-гипотез.-3\"><span class=\"toc-item-num\">3&nbsp;&nbsp;</span>Часть 1. Приоритезация гипотез.</a></span><ul class=\"toc-item\"><li><span><a href=\"#Вывод\" data-toc-modified-id=\"Вывод-3.1\"><span class=\"toc-item-num\">3.1&nbsp;&nbsp;</span>Вывод</a></span></li></ul></li><li><span><a href=\"#Часть-2.-Анализ-A/B-теста\" data-toc-modified-id=\"Часть-2.-Анализ-A/B-теста-4\"><span class=\"toc-item-num\">4&nbsp;&nbsp;</span>Часть 2. Анализ A/B-теста</a></span><ul class=\"toc-item\"><li><span><a href=\"#Предобработка-данных\" data-toc-modified-id=\"Предобработка-данных-4.1\"><span class=\"toc-item-num\">4.1&nbsp;&nbsp;</span>Предобработка данных</a></span><ul class=\"toc-item\"><li><span><a href=\"#Вывод\" data-toc-modified-id=\"Вывод-4.1.1\"><span class=\"toc-item-num\">4.1.1&nbsp;&nbsp;</span>Вывод</a></span></li></ul></li><li><span><a href=\"#График-кумулятивной-выручки-по-группам.\" data-toc-modified-id=\"График-кумулятивной-выручки-по-группам.-4.2\"><span class=\"toc-item-num\">4.2&nbsp;&nbsp;</span>График кумулятивной выручки по группам.</a></span><ul class=\"toc-item\"><li><span><a href=\"#Выводы\" data-toc-modified-id=\"Выводы-4.2.1\"><span class=\"toc-item-num\">4.2.1&nbsp;&nbsp;</span>Выводы</a></span></li></ul></li><li><span><a href=\"#График-кумулятивного-среднего-чека-по-группам\" data-toc-modified-id=\"График-кумулятивного-среднего-чека-по-группам-4.3\"><span class=\"toc-item-num\">4.3&nbsp;&nbsp;</span>График кумулятивного среднего чека по группам</a></span><ul class=\"toc-item\"><li><span><a href=\"#Выводы\" data-toc-modified-id=\"Выводы-4.3.1\"><span class=\"toc-item-num\">4.3.1&nbsp;&nbsp;</span>Выводы</a></span></li></ul></li><li><span><a href=\"#График-относительного-изменения-кумулятивного-среднего-чека-группы-B-к-группе-A\" data-toc-modified-id=\"График-относительного-изменения-кумулятивного-среднего-чека-группы-B-к-группе-A-4.4\"><span class=\"toc-item-num\">4.4&nbsp;&nbsp;</span>График относительного изменения кумулятивного среднего чека группы B к группе A</a></span><ul class=\"toc-item\"><li><span><a href=\"#Выводы\" data-toc-modified-id=\"Выводы-4.4.1\"><span class=\"toc-item-num\">4.4.1&nbsp;&nbsp;</span>Выводы</a></span></li></ul></li><li><span><a href=\"#График-кумулятивной-конверсии-по-группам\" data-toc-modified-id=\"График-кумулятивной-конверсии-по-группам-4.5\"><span class=\"toc-item-num\">4.5&nbsp;&nbsp;</span>График кумулятивной конверсии по группам</a></span><ul class=\"toc-item\"><li><span><a href=\"#Выводы\" data-toc-modified-id=\"Выводы-4.5.1\"><span class=\"toc-item-num\">4.5.1&nbsp;&nbsp;</span>Выводы</a></span></li></ul></li><li><span><a href=\"#График-относительного-изменения-кумулятивной-конверсии-группы-B-к-группе-A\" data-toc-modified-id=\"График-относительного-изменения-кумулятивной-конверсии-группы-B-к-группе-A-4.6\"><span class=\"toc-item-num\">4.6&nbsp;&nbsp;</span>График относительного изменения кумулятивной конверсии группы B к группе A</a></span><ul class=\"toc-item\"><li><span><a href=\"#Выводы\" data-toc-modified-id=\"Выводы-4.6.1\"><span class=\"toc-item-num\">4.6.1&nbsp;&nbsp;</span>Выводы</a></span></li></ul></li><li><span><a href=\"#Точечный-график-количества-заказов-по-пользователям\" data-toc-modified-id=\"Точечный-график-количества-заказов-по-пользователям-4.7\"><span class=\"toc-item-num\">4.7&nbsp;&nbsp;</span>Точечный график количества заказов по пользователям</a></span><ul class=\"toc-item\"><li><span><a href=\"#Выводы\" data-toc-modified-id=\"Выводы-4.7.1\"><span class=\"toc-item-num\">4.7.1&nbsp;&nbsp;</span>Выводы</a></span></li></ul></li><li><span><a href=\"#Определение-аномальных-пользователей\" data-toc-modified-id=\"Определение-аномальных-пользователей-4.8\"><span class=\"toc-item-num\">4.8&nbsp;&nbsp;</span>Определение аномальных пользователей</a></span><ul class=\"toc-item\"><li><span><a href=\"#Выводы\" data-toc-modified-id=\"Выводы-4.8.1\"><span class=\"toc-item-num\">4.8.1&nbsp;&nbsp;</span>Выводы</a></span></li></ul></li><li><span><a href=\"#Точечный-график-стоимостей-заказов\" data-toc-modified-id=\"Точечный-график-стоимостей-заказов-4.9\"><span class=\"toc-item-num\">4.9&nbsp;&nbsp;</span>Точечный график стоимостей заказов</a></span><ul class=\"toc-item\"><li><span><a href=\"#Выводы\" data-toc-modified-id=\"Выводы-4.9.1\"><span class=\"toc-item-num\">4.9.1&nbsp;&nbsp;</span>Выводы</a></span></li></ul></li><li><span><a href=\"#Определение-аномальных-заказов\" data-toc-modified-id=\"Определение-аномальных-заказов-4.10\"><span class=\"toc-item-num\">4.10&nbsp;&nbsp;</span>Определение аномальных заказов</a></span><ul class=\"toc-item\"><li><span><a href=\"#Выводы\" data-toc-modified-id=\"Выводы-4.10.1\"><span class=\"toc-item-num\">4.10.1&nbsp;&nbsp;</span>Выводы</a></span></li></ul></li><li><span><a href=\"#Статистическая-значимость-различий-в-конверсии-между-группами-по-«сырым»-данным\" data-toc-modified-id=\"Статистическая-значимость-различий-в-конверсии-между-группами-по-«сырым»-данным-4.11\"><span class=\"toc-item-num\">4.11&nbsp;&nbsp;</span>Статистическая значимость различий в конверсии между группами по «сырым» данным</a></span><ul class=\"toc-item\"><li><span><a href=\"#Выводы\" data-toc-modified-id=\"Выводы-4.11.1\"><span class=\"toc-item-num\">4.11.1&nbsp;&nbsp;</span>Выводы</a></span></li></ul></li><li><span><a href=\"#Статистическая-значимость-различий-в-среднем-чеке-заказа-между-группами-по-«сырым»-данным\" data-toc-modified-id=\"Статистическая-значимость-различий-в-среднем-чеке-заказа-между-группами-по-«сырым»-данным-4.12\"><span class=\"toc-item-num\">4.12&nbsp;&nbsp;</span>Статистическая значимость различий в среднем чеке заказа между группами по «сырым» данным</a></span><ul class=\"toc-item\"><li><span><a href=\"#Выводы\" data-toc-modified-id=\"Выводы-4.12.1\"><span class=\"toc-item-num\">4.12.1&nbsp;&nbsp;</span>Выводы</a></span></li></ul></li><li><span><a href=\"#Статистическая-значимость-различий-в-конверсии-между-группами-по-«очищенным»-данным\" data-toc-modified-id=\"Статистическая-значимость-различий-в-конверсии-между-группами-по-«очищенным»-данным-4.13\"><span class=\"toc-item-num\">4.13&nbsp;&nbsp;</span>Статистическая значимость различий в конверсии между группами по «очищенным» данным</a></span><ul class=\"toc-item\"><li><span><a href=\"#Выводы\" data-toc-modified-id=\"Выводы-4.13.1\"><span class=\"toc-item-num\">4.13.1&nbsp;&nbsp;</span>Выводы</a></span></li></ul></li><li><span><a href=\"#Статистическая-значимость-различий-в-среднем-чеке-заказа-между-группами-по-«очищенным»-данным\" data-toc-modified-id=\"Статистическая-значимость-различий-в-среднем-чеке-заказа-между-группами-по-«очищенным»-данным-4.14\"><span class=\"toc-item-num\">4.14&nbsp;&nbsp;</span>Статистическая значимость различий в среднем чеке заказа между группами по «очищенным» данным</a></span><ul class=\"toc-item\"><li><span><a href=\"#Выводы\" data-toc-modified-id=\"Выводы-4.14.1\"><span class=\"toc-item-num\">4.14.1&nbsp;&nbsp;</span>Выводы</a></span></li></ul></li><li><span><a href=\"#Выводы-из-А/В-теста\" data-toc-modified-id=\"Выводы-из-А/В-теста-4.15\"><span class=\"toc-item-num\">4.15&nbsp;&nbsp;</span>Выводы из А/В-теста</a></span></li></ul></li></ul></div>"
   ]
  },
  {
   "cell_type": "markdown",
   "metadata": {},
   "source": [
    "## Описание данных"
   ]
  },
  {
   "cell_type": "markdown",
   "metadata": {},
   "source": [
    "**Данные для первой части**   \n",
    "\n",
    "Файл /datasets/hypothesis.csv. Скачать датасет   \n",
    "\n",
    "* `Hypothesis` — краткое описание гипотезы;\n",
    "* `Reach` — охват пользователей по 10-балльной шкале;\n",
    "* `Impact` — влияние на пользователей по 10-балльной шкале;\n",
    "* `Confidence` — уверенность в гипотезе по 10-балльной шкале;\n",
    "* `fforts` — затраты ресурсов на проверку гипотезы по 10-балльной шкале. Чем больше значение Efforts, тем дороже проверка гипотезы."
   ]
  },
  {
   "cell_type": "markdown",
   "metadata": {},
   "source": [
    "**Данные для второй части**   \n",
    "\n",
    "Файл /datasets/orders.csv. Скачать датасет   \n",
    "\n",
    "* `transactionId` — идентификатор заказа;\n",
    "* `visitorId` — идентификатор пользователя, совершившего заказ;\n",
    "* `date` — дата, когда был совершён заказ;\n",
    "* `revenue` — выручка заказа;\n",
    "* `group` — группа A/B-теста, в которую попал заказ.   \n",
    "\n",
    "Файл /datasets/visitors.csv. Скачать датасет   \n",
    "\n",
    "* `date` — дата;\n",
    "* `group` — группа A/B-теста;\n",
    "* `visitors` — количество пользователей в указанную дату в указанной группе A/B-теста"
   ]
  },
  {
   "cell_type": "markdown",
   "metadata": {},
   "source": [
    "## Описание проекта\n",
    "**Контекст**   \n",
    "\n",
    "Вы — аналитик крупного интернет-магазина. Вместе с отделом маркетинга вы подготовили список гипотез для увеличения выручки.\n",
    "Приоритизируйте гипотезы, запустите A/B-тест и проанализируйте результаты."
   ]
  },
  {
   "cell_type": "markdown",
   "metadata": {},
   "source": [
    "## Часть 1. Приоретизация гипотез.   \n",
    "\n",
    "В файле /datasets/hypothesis.csv 9 гипотез по увеличению выручки интернет-магазина с указанными параметрами Reach, Impact, Confidence, Effort.   \n",
    "\n",
    "**Задача**   \n",
    "\n",
    "Примените фреймворк ICE для приоритизации гипотез. Отсортируйте их по убыванию приоритета.\n",
    "Примените фреймворк RICE для приоритизации гипотез. Отсортируйте их по убыванию приоритета.\n",
    "Укажите, как изменилась приоритизация гипотез при применении RICE вместо ICE. Объясните, почему так произошло."
   ]
  },
  {
   "cell_type": "code",
   "execution_count": 1,
   "metadata": {},
   "outputs": [],
   "source": [
    "import pandas as pd\n",
    "import datetime as dt\n",
    "import numpy as np\n",
    "import seaborn as sns\n",
    "import scipy.stats as stats\n",
    "import matplotlib.pyplot as plt\n",
    "%matplotlib inline\n",
    "from pandas.plotting import register_matplotlib_converters\n",
    "import warnings\n",
    "# конвертеры, которые позволяют использовать типы pandas в matplotlib  \n",
    "register_matplotlib_converters()"
   ]
  },
  {
   "cell_type": "code",
   "execution_count": 2,
   "metadata": {},
   "outputs": [
    {
     "data": {
      "text/html": [
       "<div>\n",
       "<style scoped>\n",
       "    .dataframe tbody tr th:only-of-type {\n",
       "        vertical-align: middle;\n",
       "    }\n",
       "\n",
       "    .dataframe tbody tr th {\n",
       "        vertical-align: top;\n",
       "    }\n",
       "\n",
       "    .dataframe thead th {\n",
       "        text-align: right;\n",
       "    }\n",
       "</style>\n",
       "<table border=\"1\" class=\"dataframe\">\n",
       "  <thead>\n",
       "    <tr style=\"text-align: right;\">\n",
       "      <th></th>\n",
       "      <th>Hypothesis</th>\n",
       "      <th>Reach</th>\n",
       "      <th>Impact</th>\n",
       "      <th>Confidence</th>\n",
       "      <th>Efforts</th>\n",
       "    </tr>\n",
       "  </thead>\n",
       "  <tbody>\n",
       "    <tr>\n",
       "      <th>0</th>\n",
       "      <td>Добавить два новых канала привлечения трафика, что позволит привлекать на 30% больше пользователей</td>\n",
       "      <td>3</td>\n",
       "      <td>10</td>\n",
       "      <td>8</td>\n",
       "      <td>6</td>\n",
       "    </tr>\n",
       "    <tr>\n",
       "      <th>1</th>\n",
       "      <td>Запустить собственную службу доставки, что сократит срок доставки заказов</td>\n",
       "      <td>2</td>\n",
       "      <td>5</td>\n",
       "      <td>4</td>\n",
       "      <td>10</td>\n",
       "    </tr>\n",
       "    <tr>\n",
       "      <th>2</th>\n",
       "      <td>Добавить блоки рекомендаций товаров на сайт интернет магазина, чтобы повысить конверсию и средний чек заказа</td>\n",
       "      <td>8</td>\n",
       "      <td>3</td>\n",
       "      <td>7</td>\n",
       "      <td>3</td>\n",
       "    </tr>\n",
       "    <tr>\n",
       "      <th>3</th>\n",
       "      <td>Изменить структура категорий, что увеличит конверсию, т.к. пользователи быстрее найдут нужный товар</td>\n",
       "      <td>8</td>\n",
       "      <td>3</td>\n",
       "      <td>3</td>\n",
       "      <td>8</td>\n",
       "    </tr>\n",
       "    <tr>\n",
       "      <th>4</th>\n",
       "      <td>Изменить цвет фона главной страницы, чтобы увеличить вовлеченность пользователей</td>\n",
       "      <td>3</td>\n",
       "      <td>1</td>\n",
       "      <td>1</td>\n",
       "      <td>1</td>\n",
       "    </tr>\n",
       "    <tr>\n",
       "      <th>5</th>\n",
       "      <td>Добавить страницу отзывов клиентов о магазине, что позволит увеличить количество заказов</td>\n",
       "      <td>3</td>\n",
       "      <td>2</td>\n",
       "      <td>2</td>\n",
       "      <td>3</td>\n",
       "    </tr>\n",
       "    <tr>\n",
       "      <th>6</th>\n",
       "      <td>Показать на главной странице баннеры с актуальными акциями и распродажами, чтобы увеличить конверсию</td>\n",
       "      <td>5</td>\n",
       "      <td>3</td>\n",
       "      <td>8</td>\n",
       "      <td>3</td>\n",
       "    </tr>\n",
       "    <tr>\n",
       "      <th>7</th>\n",
       "      <td>Добавить форму подписки на все основные страницы, чтобы собрать базу клиентов для email-рассылок</td>\n",
       "      <td>10</td>\n",
       "      <td>7</td>\n",
       "      <td>8</td>\n",
       "      <td>5</td>\n",
       "    </tr>\n",
       "    <tr>\n",
       "      <th>8</th>\n",
       "      <td>Запустить акцию, дающую скидку на товар в день рождения</td>\n",
       "      <td>1</td>\n",
       "      <td>9</td>\n",
       "      <td>9</td>\n",
       "      <td>5</td>\n",
       "    </tr>\n",
       "  </tbody>\n",
       "</table>\n",
       "</div>"
      ],
      "text/plain": [
       "                                                                                                     Hypothesis  \\\n",
       "0            Добавить два новых канала привлечения трафика, что позволит привлекать на 30% больше пользователей   \n",
       "1                                     Запустить собственную службу доставки, что сократит срок доставки заказов   \n",
       "2  Добавить блоки рекомендаций товаров на сайт интернет магазина, чтобы повысить конверсию и средний чек заказа   \n",
       "3           Изменить структура категорий, что увеличит конверсию, т.к. пользователи быстрее найдут нужный товар   \n",
       "4                              Изменить цвет фона главной страницы, чтобы увеличить вовлеченность пользователей   \n",
       "5                      Добавить страницу отзывов клиентов о магазине, что позволит увеличить количество заказов   \n",
       "6          Показать на главной странице баннеры с актуальными акциями и распродажами, чтобы увеличить конверсию   \n",
       "7              Добавить форму подписки на все основные страницы, чтобы собрать базу клиентов для email-рассылок   \n",
       "8                                                       Запустить акцию, дающую скидку на товар в день рождения   \n",
       "\n",
       "   Reach  Impact  Confidence  Efforts  \n",
       "0      3      10           8        6  \n",
       "1      2       5           4       10  \n",
       "2      8       3           7        3  \n",
       "3      8       3           3        8  \n",
       "4      3       1           1        1  \n",
       "5      3       2           2        3  \n",
       "6      5       3           8        3  \n",
       "7     10       7           8        5  \n",
       "8      1       9           9        5  "
      ]
     },
     "execution_count": 2,
     "metadata": {},
     "output_type": "execute_result"
    }
   ],
   "source": [
    "data = pd.read_csv(\n",
    "    r'C:\\Users\\802279\\Downloads\\Аналитик данных\\Проекты\\8 Проверка гипотез по увеличению выручки в интернет-магазине А_В тесты\\hypothesis.csv'\n",
    "                  )\n",
    "pd.options.display.max_colwidth = 120\n",
    "data"
   ]
  },
  {
   "cell_type": "code",
   "execution_count": 3,
   "metadata": {},
   "outputs": [
    {
     "data": {
      "text/plain": [
       "Index(['hypothesis', 'reach', 'impact', 'confidence', 'efforts'], dtype='object')"
      ]
     },
     "execution_count": 3,
     "metadata": {},
     "output_type": "execute_result"
    }
   ],
   "source": [
    "# приведем названия столбцов к нижнему регистру\n",
    "\n",
    "data.columns = data.columns.str.lower()\n",
    "data.columns"
   ]
  },
  {
   "cell_type": "code",
   "execution_count": 4,
   "metadata": {},
   "outputs": [
    {
     "data": {
      "text/html": [
       "<div>\n",
       "<style scoped>\n",
       "    .dataframe tbody tr th:only-of-type {\n",
       "        vertical-align: middle;\n",
       "    }\n",
       "\n",
       "    .dataframe tbody tr th {\n",
       "        vertical-align: top;\n",
       "    }\n",
       "\n",
       "    .dataframe thead th {\n",
       "        text-align: right;\n",
       "    }\n",
       "</style>\n",
       "<table border=\"1\" class=\"dataframe\">\n",
       "  <thead>\n",
       "    <tr style=\"text-align: right;\">\n",
       "      <th></th>\n",
       "      <th>hypothesis</th>\n",
       "      <th>ICE</th>\n",
       "    </tr>\n",
       "  </thead>\n",
       "  <tbody>\n",
       "    <tr>\n",
       "      <th>8</th>\n",
       "      <td>Запустить акцию, дающую скидку на товар в день рождения</td>\n",
       "      <td>16.20</td>\n",
       "    </tr>\n",
       "    <tr>\n",
       "      <th>0</th>\n",
       "      <td>Добавить два новых канала привлечения трафика, что позволит привлекать на 30% больше пользователей</td>\n",
       "      <td>13.33</td>\n",
       "    </tr>\n",
       "    <tr>\n",
       "      <th>7</th>\n",
       "      <td>Добавить форму подписки на все основные страницы, чтобы собрать базу клиентов для email-рассылок</td>\n",
       "      <td>11.20</td>\n",
       "    </tr>\n",
       "    <tr>\n",
       "      <th>6</th>\n",
       "      <td>Показать на главной странице баннеры с актуальными акциями и распродажами, чтобы увеличить конверсию</td>\n",
       "      <td>8.00</td>\n",
       "    </tr>\n",
       "    <tr>\n",
       "      <th>2</th>\n",
       "      <td>Добавить блоки рекомендаций товаров на сайт интернет магазина, чтобы повысить конверсию и средний чек заказа</td>\n",
       "      <td>7.00</td>\n",
       "    </tr>\n",
       "    <tr>\n",
       "      <th>1</th>\n",
       "      <td>Запустить собственную службу доставки, что сократит срок доставки заказов</td>\n",
       "      <td>2.00</td>\n",
       "    </tr>\n",
       "    <tr>\n",
       "      <th>5</th>\n",
       "      <td>Добавить страницу отзывов клиентов о магазине, что позволит увеличить количество заказов</td>\n",
       "      <td>1.33</td>\n",
       "    </tr>\n",
       "    <tr>\n",
       "      <th>3</th>\n",
       "      <td>Изменить структура категорий, что увеличит конверсию, т.к. пользователи быстрее найдут нужный товар</td>\n",
       "      <td>1.12</td>\n",
       "    </tr>\n",
       "    <tr>\n",
       "      <th>4</th>\n",
       "      <td>Изменить цвет фона главной страницы, чтобы увеличить вовлеченность пользователей</td>\n",
       "      <td>1.00</td>\n",
       "    </tr>\n",
       "  </tbody>\n",
       "</table>\n",
       "</div>"
      ],
      "text/plain": [
       "                                                                                                     hypothesis  \\\n",
       "8                                                       Запустить акцию, дающую скидку на товар в день рождения   \n",
       "0            Добавить два новых канала привлечения трафика, что позволит привлекать на 30% больше пользователей   \n",
       "7              Добавить форму подписки на все основные страницы, чтобы собрать базу клиентов для email-рассылок   \n",
       "6          Показать на главной странице баннеры с актуальными акциями и распродажами, чтобы увеличить конверсию   \n",
       "2  Добавить блоки рекомендаций товаров на сайт интернет магазина, чтобы повысить конверсию и средний чек заказа   \n",
       "1                                     Запустить собственную службу доставки, что сократит срок доставки заказов   \n",
       "5                      Добавить страницу отзывов клиентов о магазине, что позволит увеличить количество заказов   \n",
       "3           Изменить структура категорий, что увеличит конверсию, т.к. пользователи быстрее найдут нужный товар   \n",
       "4                              Изменить цвет фона главной страницы, чтобы увеличить вовлеченность пользователей   \n",
       "\n",
       "     ICE  \n",
       "8  16.20  \n",
       "0  13.33  \n",
       "7  11.20  \n",
       "6   8.00  \n",
       "2   7.00  \n",
       "1   2.00  \n",
       "5   1.33  \n",
       "3   1.12  \n",
       "4   1.00  "
      ]
     },
     "execution_count": 4,
     "metadata": {},
     "output_type": "execute_result"
    }
   ],
   "source": [
    "data['ICE'] = round(data['impact'] * data['confidence']/data['efforts'], 2)\n",
    "#\n",
    "data[['hypothesis', 'ICE']].sort_values(by='ICE', ascending=False)"
   ]
  },
  {
   "cell_type": "markdown",
   "metadata": {},
   "source": [
    "Наиболее перспективные гипотезы 8, 0, 7, 6 и 2"
   ]
  },
  {
   "cell_type": "code",
   "execution_count": 5,
   "metadata": {},
   "outputs": [
    {
     "data": {
      "text/html": [
       "<div>\n",
       "<style scoped>\n",
       "    .dataframe tbody tr th:only-of-type {\n",
       "        vertical-align: middle;\n",
       "    }\n",
       "\n",
       "    .dataframe tbody tr th {\n",
       "        vertical-align: top;\n",
       "    }\n",
       "\n",
       "    .dataframe thead th {\n",
       "        text-align: right;\n",
       "    }\n",
       "</style>\n",
       "<table border=\"1\" class=\"dataframe\">\n",
       "  <thead>\n",
       "    <tr style=\"text-align: right;\">\n",
       "      <th></th>\n",
       "      <th>hypothesis</th>\n",
       "      <th>RICE</th>\n",
       "    </tr>\n",
       "  </thead>\n",
       "  <tbody>\n",
       "    <tr>\n",
       "      <th>7</th>\n",
       "      <td>Добавить форму подписки на все основные страницы, чтобы собрать базу клиентов для email-рассылок</td>\n",
       "      <td>112.0</td>\n",
       "    </tr>\n",
       "    <tr>\n",
       "      <th>2</th>\n",
       "      <td>Добавить блоки рекомендаций товаров на сайт интернет магазина, чтобы повысить конверсию и средний чек заказа</td>\n",
       "      <td>56.0</td>\n",
       "    </tr>\n",
       "    <tr>\n",
       "      <th>0</th>\n",
       "      <td>Добавить два новых канала привлечения трафика, что позволит привлекать на 30% больше пользователей</td>\n",
       "      <td>40.0</td>\n",
       "    </tr>\n",
       "    <tr>\n",
       "      <th>6</th>\n",
       "      <td>Показать на главной странице баннеры с актуальными акциями и распродажами, чтобы увеличить конверсию</td>\n",
       "      <td>40.0</td>\n",
       "    </tr>\n",
       "    <tr>\n",
       "      <th>8</th>\n",
       "      <td>Запустить акцию, дающую скидку на товар в день рождения</td>\n",
       "      <td>16.2</td>\n",
       "    </tr>\n",
       "    <tr>\n",
       "      <th>3</th>\n",
       "      <td>Изменить структура категорий, что увеличит конверсию, т.к. пользователи быстрее найдут нужный товар</td>\n",
       "      <td>9.0</td>\n",
       "    </tr>\n",
       "    <tr>\n",
       "      <th>1</th>\n",
       "      <td>Запустить собственную службу доставки, что сократит срок доставки заказов</td>\n",
       "      <td>4.0</td>\n",
       "    </tr>\n",
       "    <tr>\n",
       "      <th>5</th>\n",
       "      <td>Добавить страницу отзывов клиентов о магазине, что позволит увеличить количество заказов</td>\n",
       "      <td>4.0</td>\n",
       "    </tr>\n",
       "    <tr>\n",
       "      <th>4</th>\n",
       "      <td>Изменить цвет фона главной страницы, чтобы увеличить вовлеченность пользователей</td>\n",
       "      <td>3.0</td>\n",
       "    </tr>\n",
       "  </tbody>\n",
       "</table>\n",
       "</div>"
      ],
      "text/plain": [
       "                                                                                                     hypothesis  \\\n",
       "7              Добавить форму подписки на все основные страницы, чтобы собрать базу клиентов для email-рассылок   \n",
       "2  Добавить блоки рекомендаций товаров на сайт интернет магазина, чтобы повысить конверсию и средний чек заказа   \n",
       "0            Добавить два новых канала привлечения трафика, что позволит привлекать на 30% больше пользователей   \n",
       "6          Показать на главной странице баннеры с актуальными акциями и распродажами, чтобы увеличить конверсию   \n",
       "8                                                       Запустить акцию, дающую скидку на товар в день рождения   \n",
       "3           Изменить структура категорий, что увеличит конверсию, т.к. пользователи быстрее найдут нужный товар   \n",
       "1                                     Запустить собственную службу доставки, что сократит срок доставки заказов   \n",
       "5                      Добавить страницу отзывов клиентов о магазине, что позволит увеличить количество заказов   \n",
       "4                              Изменить цвет фона главной страницы, чтобы увеличить вовлеченность пользователей   \n",
       "\n",
       "    RICE  \n",
       "7  112.0  \n",
       "2   56.0  \n",
       "0   40.0  \n",
       "6   40.0  \n",
       "8   16.2  \n",
       "3    9.0  \n",
       "1    4.0  \n",
       "5    4.0  \n",
       "4    3.0  "
      ]
     },
     "execution_count": 5,
     "metadata": {},
     "output_type": "execute_result"
    }
   ],
   "source": [
    "data['RICE'] = (data['reach']*data['impact']*data['confidence'])/data['efforts']\n",
    "data[['hypothesis', 'RICE']].sort_values(by='RICE', ascending=False)"
   ]
  },
  {
   "cell_type": "markdown",
   "metadata": {},
   "source": [
    "### Вывод\n",
    "В случае применения фреймворка **ICE** наиболее перспективные гипотезы -  8, 0, 7, 6 и 2.   \n",
    "Наиболее перспективные гипотезы случае применения фреймворка **RICE** - 7, 2, 0, 6 и 8.    \n",
    "Пятерка лидеров осталась таже, но они поменялись местами.   \n",
    "Это произошло из-за того, что в **RICE** добавляляется параметр **reach** в числитель. У 7 гипотезы он самый большой - 10, поэтому у остальных гипотез при прочих равных нет шансов."
   ]
  },
  {
   "cell_type": "markdown",
   "metadata": {},
   "source": [
    "## Часть 2. Анализ A/B-теста   \n",
    "\n",
    "Мы провели A/B-тест и получили результаты, которые описаны в файлах /datasets/orders.csv и /datasets/visitors.csv."
   ]
  },
  {
   "cell_type": "markdown",
   "metadata": {},
   "source": [
    "### Предобработка данных"
   ]
  },
  {
   "cell_type": "code",
   "execution_count": 6,
   "metadata": {},
   "outputs": [],
   "source": [
    "# прочтем файлы\n",
    "orders = pd.read_csv(\n",
    "    r'C:\\Users\\802279\\Downloads\\Аналитик данных\\Проекты\\8 Проверка гипотез по увеличению выручки в интернет-магазине А_В тесты\\orders.csv'\n",
    "                    )\n",
    "\n",
    "visitors = pd.read_csv(\n",
    "    r'C:\\Users\\802279\\Downloads\\Аналитик данных\\Проекты\\8 Проверка гипотез по увеличению выручки в интернет-магазине А_В тесты\\visitors.csv'\n",
    "                      )"
   ]
  },
  {
   "cell_type": "code",
   "execution_count": 7,
   "metadata": {
    "scrolled": true
   },
   "outputs": [
    {
     "name": "stdout",
     "output_type": "stream",
     "text": [
      "<class 'pandas.core.frame.DataFrame'>\n",
      "RangeIndex: 1197 entries, 0 to 1196\n",
      "Data columns (total 5 columns):\n",
      " #   Column         Non-Null Count  Dtype \n",
      "---  ------         --------------  ----- \n",
      " 0   transactionId  1197 non-null   int64 \n",
      " 1   visitorId      1197 non-null   int64 \n",
      " 2   date           1197 non-null   object\n",
      " 3   revenue        1197 non-null   int64 \n",
      " 4   group          1197 non-null   object\n",
      "dtypes: int64(3), object(2)\n",
      "memory usage: 46.9+ KB\n"
     ]
    }
   ],
   "source": [
    "# составим представление о данных\n",
    "orders.info()"
   ]
  },
  {
   "cell_type": "markdown",
   "metadata": {},
   "source": [
    "В таблице `orders` 1197 записей, 5 столбцов. Пропусков нет. Названия столбцов `transactionId` и `visitorId` надо привести к хорошему стилю. Тип данных столбца `date` - преобразовать в нужный."
   ]
  },
  {
   "cell_type": "code",
   "execution_count": 8,
   "metadata": {},
   "outputs": [],
   "source": [
    "# преобразуем тип\n",
    "orders['date'] = pd.to_datetime(orders['date'], format='%Y-%m-%d')\n",
    "# переименование столбцов\n",
    "orders = orders.rename(columns = {\n",
    "    'transactionId' : 'transaction_id',\n",
    "    'visitorId' : 'visitor_id'\n",
    "})"
   ]
  },
  {
   "cell_type": "code",
   "execution_count": 9,
   "metadata": {},
   "outputs": [
    {
     "data": {
      "text/plain": [
       "transaction_id             int64\n",
       "visitor_id                 int64\n",
       "date              datetime64[ns]\n",
       "revenue                    int64\n",
       "group                     object\n",
       "dtype: object"
      ]
     },
     "execution_count": 9,
     "metadata": {},
     "output_type": "execute_result"
    }
   ],
   "source": [
    "# проверим результат\n",
    "orders.dtypes"
   ]
  },
  {
   "cell_type": "code",
   "execution_count": 10,
   "metadata": {},
   "outputs": [
    {
     "name": "stdout",
     "output_type": "stream",
     "text": [
      "<class 'pandas.core.frame.DataFrame'>\n",
      "RangeIndex: 62 entries, 0 to 61\n",
      "Data columns (total 3 columns):\n",
      " #   Column    Non-Null Count  Dtype \n",
      "---  ------    --------------  ----- \n",
      " 0   date      62 non-null     object\n",
      " 1   group     62 non-null     object\n",
      " 2   visitors  62 non-null     int64 \n",
      "dtypes: int64(1), object(2)\n",
      "memory usage: 1.6+ KB\n"
     ]
    },
    {
     "data": {
      "text/html": [
       "<div>\n",
       "<style scoped>\n",
       "    .dataframe tbody tr th:only-of-type {\n",
       "        vertical-align: middle;\n",
       "    }\n",
       "\n",
       "    .dataframe tbody tr th {\n",
       "        vertical-align: top;\n",
       "    }\n",
       "\n",
       "    .dataframe thead th {\n",
       "        text-align: right;\n",
       "    }\n",
       "</style>\n",
       "<table border=\"1\" class=\"dataframe\">\n",
       "  <thead>\n",
       "    <tr style=\"text-align: right;\">\n",
       "      <th></th>\n",
       "      <th>date</th>\n",
       "      <th>group</th>\n",
       "      <th>visitors</th>\n",
       "    </tr>\n",
       "  </thead>\n",
       "  <tbody>\n",
       "    <tr>\n",
       "      <th>0</th>\n",
       "      <td>2019-08-01</td>\n",
       "      <td>A</td>\n",
       "      <td>719</td>\n",
       "    </tr>\n",
       "    <tr>\n",
       "      <th>1</th>\n",
       "      <td>2019-08-02</td>\n",
       "      <td>A</td>\n",
       "      <td>619</td>\n",
       "    </tr>\n",
       "    <tr>\n",
       "      <th>2</th>\n",
       "      <td>2019-08-03</td>\n",
       "      <td>A</td>\n",
       "      <td>507</td>\n",
       "    </tr>\n",
       "    <tr>\n",
       "      <th>3</th>\n",
       "      <td>2019-08-04</td>\n",
       "      <td>A</td>\n",
       "      <td>717</td>\n",
       "    </tr>\n",
       "    <tr>\n",
       "      <th>4</th>\n",
       "      <td>2019-08-05</td>\n",
       "      <td>A</td>\n",
       "      <td>756</td>\n",
       "    </tr>\n",
       "  </tbody>\n",
       "</table>\n",
       "</div>"
      ],
      "text/plain": [
       "         date group  visitors\n",
       "0  2019-08-01     A       719\n",
       "1  2019-08-02     A       619\n",
       "2  2019-08-03     A       507\n",
       "3  2019-08-04     A       717\n",
       "4  2019-08-05     A       756"
      ]
     },
     "execution_count": 10,
     "metadata": {},
     "output_type": "execute_result"
    }
   ],
   "source": [
    "# \n",
    "visitors.info()\n",
    "visitors.head()"
   ]
  },
  {
   "cell_type": "markdown",
   "metadata": {},
   "source": [
    "В таблице `visitors` 62 записи и 3 столбца. Пропусков нет. Названия столбцов соответствуют хорошему стилю. Надо поработать с типом данных столбца `date`"
   ]
  },
  {
   "cell_type": "code",
   "execution_count": 11,
   "metadata": {},
   "outputs": [
    {
     "data": {
      "text/plain": [
       "date        datetime64[ns]\n",
       "group               object\n",
       "visitors             int64\n",
       "dtype: object"
      ]
     },
     "execution_count": 11,
     "metadata": {},
     "output_type": "execute_result"
    }
   ],
   "source": [
    "# преобразуем тип данных\n",
    "visitors['date'] = pd.to_datetime(visitors['date'], format='%Y-%m-%d')\n",
    "visitors.dtypes"
   ]
  },
  {
   "cell_type": "code",
   "execution_count": 12,
   "metadata": {},
   "outputs": [
    {
     "data": {
      "text/plain": [
       "array(['A', 'B'], dtype=object)"
      ]
     },
     "execution_count": 12,
     "metadata": {},
     "output_type": "execute_result"
    }
   ],
   "source": [
    "# найдем уникальные значения в столбце `group`\n",
    "visitors['group'].unique()"
   ]
  },
  {
   "cell_type": "markdown",
   "metadata": {},
   "source": [
    "Уникальных значений только 2: А и В. Количество групп подтверждено."
   ]
  },
  {
   "cell_type": "markdown",
   "metadata": {},
   "source": [
    "**Посмотрим на распределение количества пользователей в каждой группе.**"
   ]
  },
  {
   "cell_type": "code",
   "execution_count": 13,
   "metadata": {},
   "outputs": [
    {
     "data": {
      "text/html": [
       "<div>\n",
       "<style scoped>\n",
       "    .dataframe tbody tr th:only-of-type {\n",
       "        vertical-align: middle;\n",
       "    }\n",
       "\n",
       "    .dataframe tbody tr th {\n",
       "        vertical-align: top;\n",
       "    }\n",
       "\n",
       "    .dataframe thead th {\n",
       "        text-align: right;\n",
       "    }\n",
       "</style>\n",
       "<table border=\"1\" class=\"dataframe\">\n",
       "  <thead>\n",
       "    <tr style=\"text-align: right;\">\n",
       "      <th></th>\n",
       "      <th>visitors</th>\n",
       "    </tr>\n",
       "    <tr>\n",
       "      <th>group</th>\n",
       "      <th></th>\n",
       "    </tr>\n",
       "  </thead>\n",
       "  <tbody>\n",
       "    <tr>\n",
       "      <th>A</th>\n",
       "      <td>18736</td>\n",
       "    </tr>\n",
       "    <tr>\n",
       "      <th>B</th>\n",
       "      <td>18916</td>\n",
       "    </tr>\n",
       "  </tbody>\n",
       "</table>\n",
       "</div>"
      ],
      "text/plain": [
       "       visitors\n",
       "group          \n",
       "A         18736\n",
       "B         18916"
      ]
     },
     "execution_count": 13,
     "metadata": {},
     "output_type": "execute_result"
    }
   ],
   "source": [
    "visitors.groupby('group').sum()"
   ]
  },
  {
   "cell_type": "markdown",
   "metadata": {},
   "source": [
    "Количество пользователей в различных группах различается не более, чем на 1%"
   ]
  },
  {
   "cell_type": "markdown",
   "metadata": {},
   "source": [
    "**Установим самую раннюю и самую позднюю даты в наших данных:**"
   ]
  },
  {
   "cell_type": "code",
   "execution_count": 14,
   "metadata": {},
   "outputs": [
    {
     "data": {
      "text/html": [
       "<div>\n",
       "<style scoped>\n",
       "    .dataframe tbody tr th:only-of-type {\n",
       "        vertical-align: middle;\n",
       "    }\n",
       "\n",
       "    .dataframe tbody tr th {\n",
       "        vertical-align: top;\n",
       "    }\n",
       "\n",
       "    .dataframe thead tr th {\n",
       "        text-align: left;\n",
       "    }\n",
       "\n",
       "    .dataframe thead tr:last-of-type th {\n",
       "        text-align: right;\n",
       "    }\n",
       "</style>\n",
       "<table border=\"1\" class=\"dataframe\">\n",
       "  <thead>\n",
       "    <tr>\n",
       "      <th></th>\n",
       "      <th colspan=\"2\" halign=\"left\">date</th>\n",
       "    </tr>\n",
       "    <tr>\n",
       "      <th></th>\n",
       "      <th>min</th>\n",
       "      <th>max</th>\n",
       "    </tr>\n",
       "    <tr>\n",
       "      <th>group</th>\n",
       "      <th></th>\n",
       "      <th></th>\n",
       "    </tr>\n",
       "  </thead>\n",
       "  <tbody>\n",
       "    <tr>\n",
       "      <th>A</th>\n",
       "      <td>2019-08-01</td>\n",
       "      <td>2019-08-31</td>\n",
       "    </tr>\n",
       "    <tr>\n",
       "      <th>B</th>\n",
       "      <td>2019-08-01</td>\n",
       "      <td>2019-08-31</td>\n",
       "    </tr>\n",
       "  </tbody>\n",
       "</table>\n",
       "</div>"
      ],
      "text/plain": [
       "            date           \n",
       "             min        max\n",
       "group                      \n",
       "A     2019-08-01 2019-08-31\n",
       "B     2019-08-01 2019-08-31"
      ]
     },
     "execution_count": 14,
     "metadata": {},
     "output_type": "execute_result"
    }
   ],
   "source": [
    "visitors.groupby('group').agg({'date':['min', 'max']})"
   ]
  },
  {
   "cell_type": "markdown",
   "metadata": {},
   "source": [
    "Итак, имеем данные за август 2019 г."
   ]
  },
  {
   "cell_type": "markdown",
   "metadata": {},
   "source": [
    "**Проверим не попадают ли  пользователи в обе группы.**"
   ]
  },
  {
   "cell_type": "code",
   "execution_count": 15,
   "metadata": {},
   "outputs": [
    {
     "data": {
      "text/html": [
       "<div>\n",
       "<style scoped>\n",
       "    .dataframe tbody tr th:only-of-type {\n",
       "        vertical-align: middle;\n",
       "    }\n",
       "\n",
       "    .dataframe tbody tr th {\n",
       "        vertical-align: top;\n",
       "    }\n",
       "\n",
       "    .dataframe thead th {\n",
       "        text-align: right;\n",
       "    }\n",
       "</style>\n",
       "<table border=\"1\" class=\"dataframe\">\n",
       "  <thead>\n",
       "    <tr style=\"text-align: right;\">\n",
       "      <th></th>\n",
       "      <th>transaction_id</th>\n",
       "      <th>visitor_id</th>\n",
       "      <th>date</th>\n",
       "      <th>revenue</th>\n",
       "      <th>group</th>\n",
       "    </tr>\n",
       "  </thead>\n",
       "  <tbody>\n",
       "    <tr>\n",
       "      <th>0</th>\n",
       "      <td>3667963787</td>\n",
       "      <td>3312258926</td>\n",
       "      <td>2019-08-15</td>\n",
       "      <td>1650</td>\n",
       "      <td>B</td>\n",
       "    </tr>\n",
       "    <tr>\n",
       "      <th>1</th>\n",
       "      <td>2804400009</td>\n",
       "      <td>3642806036</td>\n",
       "      <td>2019-08-15</td>\n",
       "      <td>730</td>\n",
       "      <td>B</td>\n",
       "    </tr>\n",
       "    <tr>\n",
       "      <th>2</th>\n",
       "      <td>2961555356</td>\n",
       "      <td>4069496402</td>\n",
       "      <td>2019-08-15</td>\n",
       "      <td>400</td>\n",
       "      <td>A</td>\n",
       "    </tr>\n",
       "    <tr>\n",
       "      <th>3</th>\n",
       "      <td>3797467345</td>\n",
       "      <td>1196621759</td>\n",
       "      <td>2019-08-15</td>\n",
       "      <td>9759</td>\n",
       "      <td>B</td>\n",
       "    </tr>\n",
       "    <tr>\n",
       "      <th>4</th>\n",
       "      <td>2282983706</td>\n",
       "      <td>2322279887</td>\n",
       "      <td>2019-08-15</td>\n",
       "      <td>2308</td>\n",
       "      <td>B</td>\n",
       "    </tr>\n",
       "  </tbody>\n",
       "</table>\n",
       "</div>"
      ],
      "text/plain": [
       "   transaction_id  visitor_id       date  revenue group\n",
       "0      3667963787  3312258926 2019-08-15     1650     B\n",
       "1      2804400009  3642806036 2019-08-15      730     B\n",
       "2      2961555356  4069496402 2019-08-15      400     A\n",
       "3      3797467345  1196621759 2019-08-15     9759     B\n",
       "4      2282983706  2322279887 2019-08-15     2308     B"
      ]
     },
     "execution_count": 15,
     "metadata": {},
     "output_type": "execute_result"
    }
   ],
   "source": [
    "orders.head()"
   ]
  },
  {
   "cell_type": "code",
   "execution_count": 16,
   "metadata": {},
   "outputs": [],
   "source": [
    "#\n",
    "orders_A = orders.query('group == \"A\"')\n",
    "orders_B = orders.query('group == \"B\"')\n",
    "\n",
    "orders_id = orders_A.merge(orders_B, \n",
    "                           on='visitor_id', \n",
    "                           how='inner')\n",
    "\n",
    "id_list = orders_id['visitor_id'].unique()\n",
    "#id_list"
   ]
  },
  {
   "cell_type": "code",
   "execution_count": 17,
   "metadata": {},
   "outputs": [
    {
     "name": "stdout",
     "output_type": "stream",
     "text": [
      "58 пользователей попали в обе группы\n"
     ]
    }
   ],
   "source": [
    "print(len(id_list), 'пользователей попали в обе группы')"
   ]
  },
  {
   "cell_type": "markdown",
   "metadata": {},
   "source": [
    "Если пользователь видит разные версии исследуемой страницы в ходе одного исследования, неизвестно, какая именно повлияла на его решения. Значит, и результаты такого теста нельзя будет интерпретировать однозначно. \n",
    "\n",
    "Решение: этих пользователей надо удалить из данных."
   ]
  },
  {
   "cell_type": "code",
   "execution_count": 18,
   "metadata": {},
   "outputs": [
    {
     "data": {
      "text/html": [
       "<div>\n",
       "<style scoped>\n",
       "    .dataframe tbody tr th:only-of-type {\n",
       "        vertical-align: middle;\n",
       "    }\n",
       "\n",
       "    .dataframe tbody tr th {\n",
       "        vertical-align: top;\n",
       "    }\n",
       "\n",
       "    .dataframe thead th {\n",
       "        text-align: right;\n",
       "    }\n",
       "</style>\n",
       "<table border=\"1\" class=\"dataframe\">\n",
       "  <thead>\n",
       "    <tr style=\"text-align: right;\">\n",
       "      <th></th>\n",
       "      <th>transaction_id</th>\n",
       "      <th>visitor_id</th>\n",
       "      <th>date</th>\n",
       "      <th>revenue</th>\n",
       "      <th>group</th>\n",
       "    </tr>\n",
       "  </thead>\n",
       "  <tbody>\n",
       "    <tr>\n",
       "      <th>0</th>\n",
       "      <td>3667963787</td>\n",
       "      <td>3312258926</td>\n",
       "      <td>2019-08-15</td>\n",
       "      <td>1650</td>\n",
       "      <td>B</td>\n",
       "    </tr>\n",
       "    <tr>\n",
       "      <th>1</th>\n",
       "      <td>2804400009</td>\n",
       "      <td>3642806036</td>\n",
       "      <td>2019-08-15</td>\n",
       "      <td>730</td>\n",
       "      <td>B</td>\n",
       "    </tr>\n",
       "    <tr>\n",
       "      <th>3</th>\n",
       "      <td>3797467345</td>\n",
       "      <td>1196621759</td>\n",
       "      <td>2019-08-15</td>\n",
       "      <td>9759</td>\n",
       "      <td>B</td>\n",
       "    </tr>\n",
       "    <tr>\n",
       "      <th>4</th>\n",
       "      <td>2282983706</td>\n",
       "      <td>2322279887</td>\n",
       "      <td>2019-08-15</td>\n",
       "      <td>2308</td>\n",
       "      <td>B</td>\n",
       "    </tr>\n",
       "    <tr>\n",
       "      <th>5</th>\n",
       "      <td>182168103</td>\n",
       "      <td>935554773</td>\n",
       "      <td>2019-08-15</td>\n",
       "      <td>2210</td>\n",
       "      <td>B</td>\n",
       "    </tr>\n",
       "    <tr>\n",
       "      <th>...</th>\n",
       "      <td>...</td>\n",
       "      <td>...</td>\n",
       "      <td>...</td>\n",
       "      <td>...</td>\n",
       "      <td>...</td>\n",
       "    </tr>\n",
       "    <tr>\n",
       "      <th>1191</th>\n",
       "      <td>3592955527</td>\n",
       "      <td>608641596</td>\n",
       "      <td>2019-08-14</td>\n",
       "      <td>16490</td>\n",
       "      <td>B</td>\n",
       "    </tr>\n",
       "    <tr>\n",
       "      <th>1192</th>\n",
       "      <td>2662137336</td>\n",
       "      <td>3733762160</td>\n",
       "      <td>2019-08-14</td>\n",
       "      <td>6490</td>\n",
       "      <td>B</td>\n",
       "    </tr>\n",
       "    <tr>\n",
       "      <th>1193</th>\n",
       "      <td>2203539145</td>\n",
       "      <td>370388673</td>\n",
       "      <td>2019-08-14</td>\n",
       "      <td>3190</td>\n",
       "      <td>A</td>\n",
       "    </tr>\n",
       "    <tr>\n",
       "      <th>1194</th>\n",
       "      <td>1807773912</td>\n",
       "      <td>573423106</td>\n",
       "      <td>2019-08-14</td>\n",
       "      <td>10550</td>\n",
       "      <td>A</td>\n",
       "    </tr>\n",
       "    <tr>\n",
       "      <th>1196</th>\n",
       "      <td>3936777065</td>\n",
       "      <td>2108080724</td>\n",
       "      <td>2019-08-15</td>\n",
       "      <td>202740</td>\n",
       "      <td>B</td>\n",
       "    </tr>\n",
       "  </tbody>\n",
       "</table>\n",
       "<p>1016 rows × 5 columns</p>\n",
       "</div>"
      ],
      "text/plain": [
       "      transaction_id  visitor_id       date  revenue group\n",
       "0         3667963787  3312258926 2019-08-15     1650     B\n",
       "1         2804400009  3642806036 2019-08-15      730     B\n",
       "3         3797467345  1196621759 2019-08-15     9759     B\n",
       "4         2282983706  2322279887 2019-08-15     2308     B\n",
       "5          182168103   935554773 2019-08-15     2210     B\n",
       "...              ...         ...        ...      ...   ...\n",
       "1191      3592955527   608641596 2019-08-14    16490     B\n",
       "1192      2662137336  3733762160 2019-08-14     6490     B\n",
       "1193      2203539145   370388673 2019-08-14     3190     A\n",
       "1194      1807773912   573423106 2019-08-14    10550     A\n",
       "1196      3936777065  2108080724 2019-08-15   202740     B\n",
       "\n",
       "[1016 rows x 5 columns]"
      ]
     },
     "execution_count": 18,
     "metadata": {},
     "output_type": "execute_result"
    }
   ],
   "source": [
    "#\n",
    "orders = orders[~orders['visitor_id'].isin(id_list)]\n",
    "orders"
   ]
  },
  {
   "cell_type": "markdown",
   "metadata": {},
   "source": [
    "#### Вывод\n",
    "* Данные приведены к нужному типу, названия столбцов приведены к хорошему стилю. \n",
    "* Количество групп и распределение пользователей по ним проверено. \n",
    "* Для анализа доступны данные за август 2019 г. (даты начала и окончания теста)\n",
    "* 58 пользователей, которые попали в обе группы, были удалены из анализа.   \n",
    "\n",
    "Можно приступать к анализу А/В-теста."
   ]
  },
  {
   "cell_type": "markdown",
   "metadata": {},
   "source": [
    "**Задача**  \n",
    "\n",
    "Проанализируйте A/B-тест:   \n",
    "\n",
    "### График кумулятивной выручки по группам. \n",
    "Построим график кумулятивной выручки по группам. Сделаем выводы и предположения.   "
   ]
  },
  {
   "cell_type": "markdown",
   "metadata": {},
   "source": [
    "Чтобы построить графики, нужно собрать кумулятивные данные.    \n",
    "Объявим датафрейм `cumulative_data` со столбцами:\n",
    "* `date` — дата;\n",
    "* `group` — группа A/B-теста (A или B);\n",
    "* `orders` — кумулятивное количество заказов на указанную дату в указанной группе;\n",
    "* `buyers` — кумулятивное количество пользователей, совершивших хотя бы один заказ, на указанную дату в указанной группе;\n",
    "* `revenue` — кумулятивная выручка на указанную дату в указанной группе (средний чек);\n",
    "* `visitors` — кумулятивное количество посетителей интернет-магазина на указанную дату в определённой группе."
   ]
  },
  {
   "cell_type": "code",
   "execution_count": 19,
   "metadata": {},
   "outputs": [
    {
     "name": "stdout",
     "output_type": "stream",
     "text": [
      "        date group  orders  buyers  revenue  visitors\n",
      "0 2019-08-01     A      23      19   142779       719\n",
      "1 2019-08-01     B      17      17    59758       713\n",
      "2 2019-08-02     A      42      36   234381      1338\n",
      "3 2019-08-02     B      40      39   221801      1294\n",
      "4 2019-08-03     A      66      60   346854      1845\n"
     ]
    }
   ],
   "source": [
    "# создаем массив уникальных пар значений дат и групп теста\n",
    "dates_groups = orders[['date','group']].drop_duplicates()\n",
    "\n",
    "# получаем агрегированные кумулятивные по дням данные о заказах \n",
    "orders_aggregated =(\n",
    "    dates_groups\n",
    "    .apply(lambda x: orders[np.logical_and(orders['date'] <= x['date'], orders['group'] == x['group'])]\n",
    "           .agg({'date' : 'max', \n",
    "                 'group' : 'max', \n",
    "                 'transaction_id' : 'nunique', \n",
    "                 'visitor_id' : 'nunique', \n",
    "                 'revenue' : 'sum'}), axis=1)\n",
    "    .sort_values(by=['date','group'])\n",
    ") \n",
    "# получаем агрегированные кумулятивные по дням данные о посетителях интернет-магазина \n",
    "visitors_aggregated =(\n",
    "    dates_groups\n",
    "    .apply(lambda x: visitors[np.logical_and(visitors['date'] <= x['date'], visitors['group'] == x['group'])]\n",
    "           .agg({'date' : 'max', \n",
    "                 'group' : 'max', \n",
    "                 'visitors' : 'sum'}), axis=1)\n",
    "    .sort_values(by=['date','group'])\n",
    ") \n",
    "# объединяем кумулятивные данные в одной таблице и присваиваем ее столбцам понятные названия\n",
    "cumulative_data = orders_aggregated.merge(visitors_aggregated, \n",
    "                                          left_on=['date', 'group'], \n",
    "                                          right_on=['date', 'group'])\n",
    "cumulative_data.columns = ['date', 'group', 'orders', 'buyers', 'revenue', 'visitors']\n",
    "\n",
    "print(cumulative_data.head(5))"
   ]
  },
  {
   "cell_type": "code",
   "execution_count": 20,
   "metadata": {},
   "outputs": [
    {
     "data": {
      "image/png": "[encoded data removed]",
      "text/plain": [
       "<Figure size 432x288 with 1 Axes>"
      ]
     },
     "metadata": {
      "needs_background": "light"
     },
     "output_type": "display_data"
    }
   ],
   "source": [
    "# датафрейм с кумулятивным количеством заказов и кумулятивной выручкой по дням в группе А\n",
    "cumulative_revenue_A = cumulative_data[cumulative_data['group']=='A'][['date','revenue', 'orders']]\n",
    "\n",
    "# датафрейм с кумулятивным количеством заказов и кумулятивной выручкой по дням в группе B\n",
    "cumulative_revenue_B = cumulative_data[cumulative_data['group']=='B'][['date','revenue', 'orders']]\n",
    "\n",
    "# Строим график выручки группы А\n",
    "plt.plot(cumulative_revenue_A['date'], cumulative_revenue_A['revenue'], label='A')\n",
    "\n",
    "# Строим график выручки группы B\n",
    "plt.plot(cumulative_revenue_B['date'], cumulative_revenue_B['revenue'], label='B')\n",
    "\n",
    "plt.xticks(rotation = 45)\n",
    "plt.legend()\n",
    "plt.ylabel('Сумма, руб.')\n",
    "plt.xlabel('Дата')\n",
    "plt.title('Кумулятивная выручка по группам')\n",
    "plt.show()"
   ]
  },
  {
   "cell_type": "markdown",
   "metadata": {},
   "source": [
    "#### Выводы"
   ]
  },
  {
   "cell_type": "markdown",
   "metadata": {},
   "source": [
    "Примерно до середины теста графики не имели значительных различий, затем сегмент В резко вырвался вперед и продолжал лидировать весь остаток теста. Скорее всего здесь появились аномально большие заказы."
   ]
  },
  {
   "cell_type": "markdown",
   "metadata": {},
   "source": [
    "### График кумулятивного среднего чека по группам\n",
    "Построим график кумулятивного среднего чека по группам. Сделаем выводы и предположения.  "
   ]
  },
  {
   "cell_type": "code",
   "execution_count": 21,
   "metadata": {},
   "outputs": [
    {
     "data": {
      "image/png": "[encoded data removed]",
      "text/plain": [
       "<Figure size 432x288 with 1 Axes>"
      ]
     },
     "metadata": {
      "needs_background": "light"
     },
     "output_type": "display_data"
    }
   ],
   "source": [
    "plt.plot(cumulative_revenue_A['date'], \n",
    "         cumulative_revenue_A['revenue']/cumulative_revenue_A['orders'], \n",
    "         label='A')\n",
    "plt.plot(cumulative_revenue_B['date'], \n",
    "         cumulative_revenue_B['revenue']/cumulative_revenue_B['orders'], \n",
    "         label='B')\n",
    "plt.xticks(rotation = 45)\n",
    "plt.legend()\n",
    "plt.ylabel('Сумма, руб.')\n",
    "plt.xlabel('Дата')\n",
    "plt.title('Кумулятивный средний чек по группам')\n",
    "plt.show()"
   ]
  },
  {
   "cell_type": "markdown",
   "metadata": {},
   "source": [
    "#### Выводы"
   ]
  },
  {
   "cell_type": "markdown",
   "metadata": {},
   "source": [
    "Кумулятивное значение среднего чека по сегментам колеблется. Скорее всего принимать решение по этой метрике не стоит. Требуется дополнительный анализ выбросов, которые могут сильно искажать результаты."
   ]
  },
  {
   "cell_type": "markdown",
   "metadata": {},
   "source": [
    "### График относительного изменения кумулятивного среднего чека группы B к группе A\n",
    "Построим график относительного изменения кумулятивного среднего чека группы B к группе A. Сделаем выводы и предположения.   "
   ]
  },
  {
   "cell_type": "code",
   "execution_count": 22,
   "metadata": {},
   "outputs": [
    {
     "data": {
      "image/png": "[encoded data removed]",
      "text/plain": [
       "<Figure size 432x288 with 1 Axes>"
      ]
     },
     "metadata": {
      "needs_background": "light"
     },
     "output_type": "display_data"
    }
   ],
   "source": [
    "# собираем данные в одном датафрейме\n",
    "merged_cumulative_revenue =(\n",
    "    cumulative_revenue_A\n",
    "    .merge(cumulative_revenue_B, \n",
    "           left_on='date', \n",
    "           right_on='date', \n",
    "           how='left', \n",
    "           suffixes=['_A', '_B'])\n",
    ") \n",
    "# merged_cumulative_revenue\n",
    "# cтроим отношение средних чеков\n",
    "plt.plot(merged_cumulative_revenue['date'], \n",
    "         (merged_cumulative_revenue['revenue_B']/merged_cumulative_revenue['orders_B'])/(merged_cumulative_revenue['revenue_A']/merged_cumulative_revenue['orders_A'])-1)\n",
    "\n",
    "# добавляем ось X\n",
    "plt.xticks(rotation = 45)\n",
    "plt.axhline(y=0, color='red', linestyle='--')\n",
    "plt.ylabel('Отношение')\n",
    "plt.xlabel('Дата')\n",
    "plt.title('Относительное изменение кумулятивного среднего чека группы B к группе A')\n",
    "plt.show()"
   ]
  },
  {
   "cell_type": "markdown",
   "metadata": {},
   "source": [
    "#### Выводы"
   ]
  },
  {
   "cell_type": "markdown",
   "metadata": {},
   "source": [
    "Результаты теста значительно и резко менялись в несколько дат. Скорее всего именно тогда были сделаны аномальные заказы."
   ]
  },
  {
   "cell_type": "markdown",
   "metadata": {},
   "source": [
    "### График кумулятивной конверсии по группам\n",
    "Построим график кумулятивной конверсии по группам. Сделаем выводы и предположения.   "
   ]
  },
  {
   "cell_type": "code",
   "execution_count": 23,
   "metadata": {},
   "outputs": [
    {
     "data": {
      "image/png": "[encoded data removed]",
      "text/plain": [
       "<Figure size 432x288 with 1 Axes>"
      ]
     },
     "metadata": {
      "needs_background": "light"
     },
     "output_type": "display_data"
    }
   ],
   "source": [
    "# считаем кумулятивную конверсию\n",
    "cumulative_data['conversion'] = cumulative_data['orders']/cumulative_data['visitors']\n",
    "\n",
    "# отделяем данные по группе A\n",
    "cumulative_data_A = cumulative_data[cumulative_data['group']=='A']\n",
    "\n",
    "# отделяем данные по группе B\n",
    "cumulative_data_B = cumulative_data[cumulative_data['group']=='B']\n",
    "\n",
    "# строим графики\n",
    "plt.plot(cumulative_data_A['date'], cumulative_data_A['conversion'], label='A')\n",
    "plt.plot(cumulative_data_B['date'], cumulative_data_B['conversion'], label='B')\n",
    "plt.legend()\n",
    "\n",
    "# задаем масштаб осей\n",
    "plt.axis([dt.datetime(2019, 8, 1), dt.datetime(2019, 9, 1), 0, 0.05])\n",
    "plt.xticks(rotation = 45)\n",
    "plt.ylabel('Отношение')\n",
    "plt.xlabel('Дата')\n",
    "plt.title('Кумулятивная конверсия по группам')\n",
    "plt.show()"
   ]
  },
  {
   "cell_type": "markdown",
   "metadata": {},
   "source": [
    "#### Выводы"
   ]
  },
  {
   "cell_type": "markdown",
   "metadata": {},
   "source": [
    "Вначале теста лидировала конверсия сегмента А, но затем сегмент В вырвался вперед и закрепился примерно на одном уровне.   \n",
    "Масштаб графика был изменен, что бы было видно, что абсолютное колебание вначале и в конце теста не слишком большое: от 3% до 4%. В относительных величинах это почти 0,75 раз. Поэтому если убрать масштаб осей, будет казаться, что колебания продолжаются и конверсия не установилась около своего среднего значения."
   ]
  },
  {
   "cell_type": "markdown",
   "metadata": {},
   "source": [
    "### График относительного изменения кумулятивной конверсии группы B к группе A\n",
    "Построим график относительного изменения кумулятивной конверсии группы B к группе A. Сделаем выводы и предположения. "
   ]
  },
  {
   "cell_type": "code",
   "execution_count": 24,
   "metadata": {},
   "outputs": [
    {
     "data": {
      "image/png": "[encoded data removed]",
      "text/plain": [
       "<Figure size 432x288 with 1 Axes>"
      ]
     },
     "metadata": {
      "needs_background": "light"
     },
     "output_type": "display_data"
    }
   ],
   "source": [
    "merged_cumulative_conversions =(\n",
    "    cumulative_data_A[['date','conversion']]\n",
    "    .merge(cumulative_data_B[['date','conversion']], \n",
    "           left_on='date', right_on='date', \n",
    "           how='left', \n",
    "           suffixes=['_A', '_B'])\n",
    ")\n",
    "\n",
    "plt.plot(merged_cumulative_conversions['date'], \n",
    "         merged_cumulative_conversions['conversion_B']/merged_cumulative_conversions['conversion_A']-1,\n",
    "         label=\"Относительный прирост конверсии группы B относительно группы A\"\n",
    "        )\n",
    "\n",
    "plt.legend(loc=(0.01, 0.9))\n",
    "plt.axhline(y=0, color='red', linestyle='--')\n",
    "plt.axhline(y=-0.1, color='grey', linestyle='--')\n",
    "plt.axis([\"2019-08-01\", '2019-09-01', -0.6, 0.6])\n",
    "plt.xticks(rotation = 45)\n",
    "plt.ylabel('Отношение')\n",
    "plt.xlabel('Дата')\n",
    "plt.show()"
   ]
  },
  {
   "cell_type": "markdown",
   "metadata": {},
   "source": [
    "#### Выводы"
   ]
  },
  {
   "cell_type": "markdown",
   "metadata": {},
   "source": [
    "В первые дни группа В проседала, но почти сразу начала лидировать по конверсии: становиться лучше и лучше, затем был небольшой спад и фиксация около прироста в 10% относительно группы А."
   ]
  },
  {
   "cell_type": "markdown",
   "metadata": {},
   "source": [
    "### Точечный график количества заказов по пользователям\n",
    "Построим точечный график количества заказов по пользователям. Сделаем выводы и предположения."
   ]
  },
  {
   "cell_type": "code",
   "execution_count": 25,
   "metadata": {},
   "outputs": [
    {
     "data": {
      "text/html": [
       "<div>\n",
       "<style scoped>\n",
       "    .dataframe tbody tr th:only-of-type {\n",
       "        vertical-align: middle;\n",
       "    }\n",
       "\n",
       "    .dataframe tbody tr th {\n",
       "        vertical-align: top;\n",
       "    }\n",
       "\n",
       "    .dataframe thead th {\n",
       "        text-align: right;\n",
       "    }\n",
       "</style>\n",
       "<table border=\"1\" class=\"dataframe\">\n",
       "  <thead>\n",
       "    <tr style=\"text-align: right;\">\n",
       "      <th></th>\n",
       "      <th>visitor_id</th>\n",
       "      <th>orders</th>\n",
       "    </tr>\n",
       "  </thead>\n",
       "  <tbody>\n",
       "    <tr>\n",
       "      <th>908</th>\n",
       "      <td>3967698036</td>\n",
       "      <td>3</td>\n",
       "    </tr>\n",
       "    <tr>\n",
       "      <th>55</th>\n",
       "      <td>249864742</td>\n",
       "      <td>3</td>\n",
       "    </tr>\n",
       "    <tr>\n",
       "      <th>478</th>\n",
       "      <td>2108163459</td>\n",
       "      <td>3</td>\n",
       "    </tr>\n",
       "    <tr>\n",
       "      <th>687</th>\n",
       "      <td>2988190573</td>\n",
       "      <td>3</td>\n",
       "    </tr>\n",
       "    <tr>\n",
       "      <th>890</th>\n",
       "      <td>3908431265</td>\n",
       "      <td>3</td>\n",
       "    </tr>\n",
       "    <tr>\n",
       "      <th>138</th>\n",
       "      <td>611059232</td>\n",
       "      <td>3</td>\n",
       "    </tr>\n",
       "    <tr>\n",
       "      <th>632</th>\n",
       "      <td>2742574263</td>\n",
       "      <td>3</td>\n",
       "    </tr>\n",
       "    <tr>\n",
       "      <th>157</th>\n",
       "      <td>678354126</td>\n",
       "      <td>2</td>\n",
       "    </tr>\n",
       "    <tr>\n",
       "      <th>323</th>\n",
       "      <td>1404560065</td>\n",
       "      <td>2</td>\n",
       "    </tr>\n",
       "    <tr>\n",
       "      <th>452</th>\n",
       "      <td>1985475298</td>\n",
       "      <td>2</td>\n",
       "    </tr>\n",
       "  </tbody>\n",
       "</table>\n",
       "</div>"
      ],
      "text/plain": [
       "     visitor_id  orders\n",
       "908  3967698036       3\n",
       "55    249864742       3\n",
       "478  2108163459       3\n",
       "687  2988190573       3\n",
       "890  3908431265       3\n",
       "138   611059232       3\n",
       "632  2742574263       3\n",
       "157   678354126       2\n",
       "323  1404560065       2\n",
       "452  1985475298       2"
      ]
     },
     "execution_count": 25,
     "metadata": {},
     "output_type": "execute_result"
    }
   ],
   "source": [
    "orders_by_users = (\n",
    "    orders.groupby('visitor_id', as_index=False,)\n",
    "    .agg({'transaction_id': 'nunique'})\n",
    ")\n",
    "\n",
    "orders_by_users.columns = ['visitor_id', 'orders']\n",
    "orders_by_users.sort_values(by='orders', ascending=False).head(10)"
   ]
  },
  {
   "cell_type": "code",
   "execution_count": 26,
   "metadata": {},
   "outputs": [
    {
     "data": {
      "image/png": "[encoded data removed]",
      "text/plain": [
       "<Figure size 432x288 with 1 Axes>"
      ]
     },
     "metadata": {
      "needs_background": "light"
     },
     "output_type": "display_data"
    }
   ],
   "source": [
    "#\n",
    "x_values = pd.Series(range(0,len(orders_by_users)))\n",
    "\n",
    "plt.scatter(x_values, orders_by_users['orders'])\n",
    "\n",
    "plt.ylabel('Заказы')\n",
    "plt.xlabel('Пользователи')\n",
    "plt.title('Количество заказов по пользователям')\n",
    "plt.show()"
   ]
  },
  {
   "cell_type": "markdown",
   "metadata": {},
   "source": [
    "#### Выводы"
   ]
  },
  {
   "cell_type": "markdown",
   "metadata": {},
   "source": [
    "Пользователей, заказавших больше 2-х мало. Они могут оказаться аномальными. Что бы это проверить, посчитаем выборочные перцентили."
   ]
  },
  {
   "cell_type": "markdown",
   "metadata": {},
   "source": [
    "### Определение аномальных пользователей   \n",
    "Посчитаем 95-й и 99-й перцентили количества заказов на пользователя. Выберем границу для определения аномальных пользователей.   "
   ]
  },
  {
   "cell_type": "code",
   "execution_count": 27,
   "metadata": {},
   "outputs": [
    {
     "data": {
      "text/plain": [
       "array([1., 1., 2.])"
      ]
     },
     "execution_count": 27,
     "metadata": {},
     "output_type": "execute_result"
    }
   ],
   "source": [
    "#\n",
    "np.percentile(orders_by_users['orders'], [90, 95, 99])"
   ]
  },
  {
   "cell_type": "markdown",
   "metadata": {},
   "source": [
    "#### Выводы"
   ]
  },
  {
   "cell_type": "markdown",
   "metadata": {},
   "source": [
    "Не более 5% пользователей совершали больше 2-х заказов и не более 1% пользователей - более 4-х."
   ]
  },
  {
   "cell_type": "markdown",
   "metadata": {},
   "source": [
    "### Точечный график стоимостей заказов\n",
    "Построим точечный график стоимостей заказов. Сделаем выводы и предположения.  "
   ]
  },
  {
   "cell_type": "code",
   "execution_count": 28,
   "metadata": {},
   "outputs": [
    {
     "data": {
      "image/png": "[encoded data removed]",
      "text/plain": [
       "<Figure size 432x288 with 1 Axes>"
      ]
     },
     "metadata": {
      "needs_background": "light"
     },
     "output_type": "display_data"
    }
   ],
   "source": [
    "x_values = pd.Series(range(0,len(orders['revenue'])))\n",
    "plt.scatter(x_values, orders['revenue'])\n",
    "\n",
    "plt.ylabel('Сумма, руб.')\n",
    "plt.xlabel('Заказы')\n",
    "plt.title('Стоимость заказов')\n",
    "plt.show()"
   ]
  },
  {
   "cell_type": "markdown",
   "metadata": {},
   "source": [
    "#### Выводы"
   ]
  },
  {
   "cell_type": "markdown",
   "metadata": {},
   "source": [
    "На графике видим заказ около 200 000 руб. и заказ более 1,2 млн руб. Что бы понять какие ещё заказы причислить к аномальным - найдем выборочные перцентили."
   ]
  },
  {
   "cell_type": "markdown",
   "metadata": {},
   "source": [
    "### Определение аномальных заказов\n",
    "Посчитаем 95-й и 99-й перцентили стоимости заказов. Выберем границу для определения аномальных заказов."
   ]
  },
  {
   "cell_type": "code",
   "execution_count": 29,
   "metadata": {},
   "outputs": [
    {
     "data": {
      "text/plain": [
       "array([17990., 26785., 53904.])"
      ]
     },
     "execution_count": 29,
     "metadata": {},
     "output_type": "execute_result"
    }
   ],
   "source": [
    "#\n",
    "np.percentile(orders['revenue'], [90, 95, 99])"
   ]
  },
  {
   "cell_type": "markdown",
   "metadata": {},
   "source": [
    "#### Выводы"
   ]
  },
  {
   "cell_type": "markdown",
   "metadata": {},
   "source": [
    "Не более 5% заказов чек больше 28 000 руб. и не более у 1% заказов чек выше 58 233 руб."
   ]
  },
  {
   "cell_type": "markdown",
   "metadata": {},
   "source": [
    "### Статистическая значимость различий в конверсии между группами по «сырым» данным\n",
    "Посчитайте статистическую значимость различий в конверсии между группами по «сырым» данным. Сделайте выводы и предположения.   "
   ]
  },
  {
   "cell_type": "code",
   "execution_count": 30,
   "metadata": {},
   "outputs": [],
   "source": [
    "#\n",
    "visitors_A_daily = visitors[visitors['group'] == 'A'][['date', 'visitors']]\n",
    "visitors_A_daily.columns = ['date', 'visitors_per_date_A']\n",
    "\n",
    "visitors_A_cummulative = visitors_A_daily.apply(\n",
    "    lambda x: visitors_A_daily[visitors_A_daily['date'] <= x['date']].agg(\n",
    "        {'date': 'max', 'visitors_per_date_A': 'sum'}\n",
    "    ),\n",
    "    axis=1,\n",
    ")\n",
    "visitors_A_cummulative.columns = ['date', 'visitors_cummulative_A']\n",
    "#\n",
    "visitors_B_daily = visitors[visitors['group'] == 'B'][['date', 'visitors']]\n",
    "visitors_B_daily.columns = ['date', 'visitors_per_date_B']\n",
    "\n",
    "visitors_B_cummulative = visitors_B_daily.apply(\n",
    "    lambda x: visitors_B_daily[visitors_B_daily['date'] <= x['date']].agg(\n",
    "        {'date': 'max', 'visitors_per_date_B': 'sum'}\n",
    "    ),\n",
    "    axis=1,\n",
    ")\n",
    "visitors_B_cummulative.columns = ['date', 'visitors_B_cummulative']\n",
    "#\n",
    "orders_A_daily = (\n",
    "    orders[orders['group'] == 'A'][['date', 'transaction_id', 'visitor_id', 'revenue']]\n",
    "    .groupby('date', as_index=False)\n",
    "    .agg({'transaction_id': pd.Series.nunique, 'revenue': 'sum'})\n",
    ")\n",
    "orders_A_daily.columns = ['date', 'orders_per_date_A', 'revenue_per_date_A']\n",
    "\n",
    "orders_A_cummulative = orders_A_daily.apply(\n",
    "    lambda x: orders_A_daily[orders_A_daily['date'] <= x['date']].agg(\n",
    "        {'date': 'max', 'orders_per_date_A': 'sum', 'revenue_per_date_A': 'sum'}\n",
    "    ),\n",
    "    axis=1,\n",
    ").sort_values(by=['date'])\n",
    "orders_A_cummulative.columns = [\n",
    "    'date',\n",
    "    'orders_cummulative_A',\n",
    "    'revenue_cummulative_A',\n",
    "]\n",
    "#\n",
    "orders_B_daily = (\n",
    "    orders[orders['group'] == 'B'][['date', 'transaction_id', 'visitor_id', 'revenue']]\n",
    "    .groupby('date', as_index=False)\n",
    "    .agg({'transaction_id': pd.Series.nunique, 'revenue': 'sum'})\n",
    ")\n",
    "orders_B_daily.columns = ['date', 'orders_per_date_B', 'revenue_per_date_B']\n",
    "\n",
    "orders_B_cummulative = orders_B_daily.apply(\n",
    "    lambda x: orders_B_daily[orders_B_daily['date'] <= x['date']].agg(\n",
    "        {'date': 'max', 'orders_per_date_B': 'sum', 'revenue_per_date_B': 'sum'}\n",
    "    ),\n",
    "    axis=1,\n",
    ").sort_values(by=['date'])\n",
    "orders_B_cummulative.columns = [\n",
    "    'date',\n",
    "    'orders_cummulative_B',\n",
    "    'revenue_cummulative_B',\n",
    "]\n",
    "\n",
    "data = (\n",
    "    orders_A_daily.merge(\n",
    "        orders_B_daily, left_on='date', right_on='date', how='left'\n",
    "    )\n",
    "    .merge(orders_A_cummulative, left_on='date', right_on='date', how='left')\n",
    "    .merge(orders_B_cummulative, left_on='date', right_on='date', how='left')\n",
    "    .merge(visitors_A_daily, left_on='date', right_on='date', how='left')\n",
    "    .merge(visitors_B_daily, left_on='date', right_on='date', how='left')\n",
    "    .merge(visitors_A_cummulative, left_on='date', right_on='date', how='left')\n",
    "    .merge(visitors_B_cummulative, left_on='date', right_on='date', how='left')\n",
    ")\n",
    "\n",
    "#data.head(5)"
   ]
  },
  {
   "cell_type": "markdown",
   "metadata": {},
   "source": [
    "Названия столбцов данных:   \n",
    "\n",
    "* `date` — дата;\n",
    "* `orders_per_date_A` — количество заказов в выбранную дату в группе A;\n",
    "* `revenue_per_date_A` — суммарная выручка в выбранную дату в группе A;\n",
    "* `orders_per_date_B` — количество заказов в выбранную дату в группе B;\n",
    "* `revenue_per_date_B` — суммарная выручка в выбранную дату в группе B;\n",
    "* `orders_cummulative_A` — суммарное число заказов до выбранной даты включительно в группе A;\n",
    "* `revenue_cummulative_A` — суммарная выручка до выбранной даты включительно в группе A;\n",
    "* `orders_cummulative_B` — суммарное количество заказов до выбранной даты включительно в группе B;\n",
    "* `revenue_cummulative_B` — суммарная выручка до выбранной даты включительно в группе B;\n",
    "* `visitors_per_date_A` — количество пользователей в выбранную дату в группе A;\n",
    "* `visitors_per_date_B` — количество пользователей в выбранную дату в группе B;\n",
    "* `visitors_cummulative_A` — количество пользователей до выбранной даты включительно в группе A;\n",
    "* `visitors_cummulative_B` — количество пользователей до выбранной даты включительно в группе B."
   ]
  },
  {
   "cell_type": "markdown",
   "metadata": {},
   "source": [
    "Создадим переменные orders_by_users_A и orders_by_users_B со столбцами `'visitor_id'`, `'orders'`. В них для пользователей, которые заказывали хотя бы 1 раз, укажем число совершённых заказов."
   ]
  },
  {
   "cell_type": "code",
   "execution_count": 31,
   "metadata": {},
   "outputs": [],
   "source": [
    "#\n",
    "orders_by_users_A = (\n",
    "    orders[orders['group'] == 'A']\n",
    "    .groupby('visitor_id', as_index=False)\n",
    "    .agg({'transaction_id': 'nunique'})\n",
    ")\n",
    "\n",
    "orders_by_users_A.columns = ['visitor_id', 'orders']\n",
    "# orders_by_users_A.sort_values(by='orders', ascending=False).head(5)"
   ]
  },
  {
   "cell_type": "code",
   "execution_count": 32,
   "metadata": {},
   "outputs": [],
   "source": [
    "orders_by_users_B = (\n",
    "    orders[orders['group'] == 'B']\n",
    "    .groupby('visitor_id', as_index=False)\n",
    "    .agg({'transaction_id': 'nunique'})\n",
    ")\n",
    "\n",
    "orders_by_users_B.columns = ['visitor_id', 'orders']\n",
    "# orders_by_users_B.sort_values(by='orders', ascending=False).head(5)"
   ]
  },
  {
   "cell_type": "markdown",
   "metadata": {},
   "source": [
    "Объявим переменные **sample_A** и **sample_B**, в которых пользователям с заказами будет соответствовать число заказов пользователя, а пользователям без заказов — нули:"
   ]
  },
  {
   "cell_type": "code",
   "execution_count": 33,
   "metadata": {},
   "outputs": [],
   "source": [
    "#\n",
    "sample_A =(\n",
    "    pd.concat([orders_by_users_A['orders'], \n",
    "               pd.Series(\n",
    "                   0, index=np.arange(data['visitors_per_date_A'].sum() - len(orders_by_users_A['orders'])), \n",
    "                   name='orders')], \n",
    "              axis=0)\n",
    ") \n",
    "sample_B =(\n",
    "    pd.concat([orders_by_users_B['orders'],\n",
    "               pd.Series(\n",
    "                   0, index=np.arange(data['visitors_per_date_B'].sum() - len(orders_by_users_B['orders'])), \n",
    "                   name='orders')],\n",
    "              axis=0)\n",
    ") "
   ]
  },
  {
   "cell_type": "markdown",
   "metadata": {},
   "source": [
    "Сформулируем нулевую и альтернативную гипотезы сырых данных:   \n",
    "* H0: Среднее количество заказов группы А равно среднему количеству заказов группы В   \n",
    "* Н1: Среднее количество заказов группы А не равно среднему количеству заказов группы В"
   ]
  },
  {
   "cell_type": "markdown",
   "metadata": {},
   "source": [
    "Посчитаем статистическую значимость различия среднего количества заказов по результатам двух недель теста, применив тест Манна-Уитни:"
   ]
  },
  {
   "cell_type": "code",
   "execution_count": 34,
   "metadata": {},
   "outputs": [
    {
     "name": "stdout",
     "output_type": "stream",
     "text": [
      "p-value для сравнения среднего между группами:\n",
      "0.00551\n",
      "\n",
      "Относительное различие в среднем между группами:\n",
      "0.160\n"
     ]
    }
   ],
   "source": [
    "print('p-value для сравнения среднего между группами:')\n",
    "\n",
    "alpha = .05 # критический уровень статистической значимости\n",
    "results = stats.mannwhitneyu(sample_A, sample_B)\n",
    "print(\"{0:.5f}\".format(results.pvalue))\n",
    "print()\n",
    "print('Относительное различие в среднем между группами:')\n",
    "\n",
    "print(\"{0:.3f}\".format(sample_B.mean() / sample_A.mean() - 1))"
   ]
  },
  {
   "cell_type": "markdown",
   "metadata": {},
   "source": [
    "#### Выводы"
   ]
  },
  {
   "cell_type": "markdown",
   "metadata": {},
   "source": [
    "Р-value значительно меньше 0.05, поэтому нулевую гипотезу отвергаем. Анализ \"сырых\" данных сообщает, что в среднем количестве заказов между группами есть статистически значимые различия.   \n",
    "\n",
    "Относительный прирост среднего группы В к коверсии группы А равен 13,8 %."
   ]
  },
  {
   "cell_type": "markdown",
   "metadata": {},
   "source": [
    "### Статистическая значимость различий в среднем чеке заказа между группами по «сырым» данным\n",
    "Посчитаем статистическую значимость различий в среднем чеке заказа между группами по «сырым» данным. Сделаем выводы и предположения.  "
   ]
  },
  {
   "cell_type": "markdown",
   "metadata": {},
   "source": [
    "Сформулируем нулевую и альтернативную гипотезы для сырых данных:   \n",
    "* H0: Средний чек группы А равен среднему чеку группы В   \n",
    "* Н1: Средний чек группы А не равен среднему чеку группы В"
   ]
  },
  {
   "cell_type": "code",
   "execution_count": 35,
   "metadata": {},
   "outputs": [
    {
     "name": "stdout",
     "output_type": "stream",
     "text": [
      "p-value для сравнения средних чеков между группами:\n",
      "0.415\n",
      "\n",
      "относительный прирост среднего чека группы B:\n",
      "0.287\n"
     ]
    }
   ],
   "source": [
    "print('p-value для сравнения средних чеков между группами:')\n",
    "print('{0:.3f}'.format(stats.mannwhitneyu(orders[orders['group']=='A']['revenue'], \n",
    "                                          orders[orders['group']=='B']['revenue'])[1]))\n",
    "print()\n",
    "print('относительный прирост среднего чека группы B:')\n",
    "print('{0:.3f}'.format(orders[orders['group']=='B']['revenue']\n",
    "                       .mean()/orders[orders['group']=='A']['revenue'].mean()-1))"
   ]
  },
  {
   "cell_type": "markdown",
   "metadata": {},
   "source": [
    "#### Выводы"
   ]
  },
  {
   "cell_type": "markdown",
   "metadata": {},
   "source": [
    "Р-value больше 0.05 - статистически значимых отличий в среднем чеке между группами нет.   \n",
    "Относительное различие среднего чека между сегментами всего 2,6 %."
   ]
  },
  {
   "cell_type": "markdown",
   "metadata": {},
   "source": [
    "### Статистическая значимость различий в конверсии между группами по «очищенным» данным\n",
    "Посчитаем статистическую значимость различий в конверсии между группами по «очищенным» данным. Сделаем выводы и предположения.   "
   ]
  },
  {
   "cell_type": "markdown",
   "metadata": {},
   "source": [
    "Вспомним, что 95-й и 99-й перцентили средних чеков равны 28 000 и 58 233 рублям [Определение аномальных заказов](#1) <a id=1></a>.  \n",
    "\n",
    "А 95-й и 99-й перцентили числа заказов на одного пользователя равны 2 и 4 заказам на пользователя [Определение аномальных пользователей](#section_id) <a id='section_id'></a>.  \n",
    "\n",
    "Примем за аномальных пользователей тех, кто совершил 2 заказа и более, или совершил заказ на сумму свыше 28 000 рублей. Так мы уберём 1% пользователей с наибольшим числом заказов и от 1% до 5% заказов с наибольшей стоимостью."
   ]
  },
  {
   "cell_type": "code",
   "execution_count": 36,
   "metadata": {},
   "outputs": [],
   "source": [
    "users_with_many_orders = pd.concat(\n",
    "    [\n",
    "        orders_by_users_A[orders_by_users_A['orders'] > 1]['visitor_id'],\n",
    "        orders_by_users_B[orders_by_users_B['orders'] > 1]['visitor_id'],\n",
    "    ],\n",
    "    axis=0,\n",
    ")\n",
    "users_with_expensive_orders = orders[orders['revenue'] > 28000]['visitor_id']\n",
    "abnormal_users = (\n",
    "    pd.concat([users_with_many_orders, users_with_expensive_orders], axis=0)\n",
    "    .drop_duplicates()\n",
    "    .sort_values()\n",
    ")\n",
    "# abnormal_users.head(5)"
   ]
  },
  {
   "cell_type": "markdown",
   "metadata": {},
   "source": [
    "Создадим переменные **sample_A_filtered** и **sample_B_filtered**, в которых сохраним очищенные данные о заказах — не включая аномальных пользователей."
   ]
  },
  {
   "cell_type": "code",
   "execution_count": 37,
   "metadata": {},
   "outputs": [],
   "source": [
    "sample_A_filtered = pd.concat(\n",
    "    [orders_by_users_A[np.logical_not(orders_by_users_A['visitor_id']\n",
    "                                      .isin(abnormal_users))]['orders'],     \n",
    "     pd.Series(0, \n",
    "               index=np.arange(data['visitors_per_date_A'].sum() - len(orders_by_users_A['orders'])),\n",
    "               name='orders')],\n",
    "    axis=0,\n",
    ")\n",
    "#\n",
    "sample_B_filtered = pd.concat(\n",
    "    [orders_by_users_B[np.logical_not(orders_by_users_B['visitor_id']\n",
    "                                      .isin(abnormal_users))]['orders'],     \n",
    "     pd.Series(0, \n",
    "               index=np.arange(data['visitors_per_date_B'].sum() - len(orders_by_users_B['orders'])),\n",
    "               name='orders')],\n",
    "    axis=0,\n",
    ")"
   ]
  },
  {
   "cell_type": "markdown",
   "metadata": {},
   "source": [
    "Сформулируем нулевую и альтернативную гипотезы для очищенных данных:   \n",
    "* H0: Среднее количество заказов группы А равно среднему количеству заказов группы В   \n",
    "* Н1: Среднее количество заказов группы А не равно среднему количеству заказов группы В"
   ]
  },
  {
   "cell_type": "code",
   "execution_count": 38,
   "metadata": {},
   "outputs": [
    {
     "name": "stdout",
     "output_type": "stream",
     "text": [
      "Р-value для сравнения среднего между очищенными группами:\n",
      "0.00611\n",
      "\n",
      "Относительный прирост среднего очищенной группы B:\n",
      "0.181\n"
     ]
    }
   ],
   "source": [
    "print('Р-value для сравнения среднего между очищенными группами:')\n",
    "print('{0:.5f}'.format(stats.mannwhitneyu(sample_A_filtered, sample_B_filtered)[1]))\n",
    "print()\n",
    "print('Относительный прирост среднего очищенной группы B:')\n",
    "print('{0:.3f}'.format(sample_B_filtered.mean()/sample_A_filtered.mean()-1))"
   ]
  },
  {
   "cell_type": "markdown",
   "metadata": {},
   "source": [
    "#### Выводы"
   ]
  },
  {
   "cell_type": "markdown",
   "metadata": {},
   "source": [
    "Как и в случае с сырыми данными статистическая значимость достигнута. Сегмент **В** Значительно лучше сегмента **А**."
   ]
  },
  {
   "cell_type": "markdown",
   "metadata": {},
   "source": [
    "### Статистическая значимость различий в среднем чеке заказа между группами по «очищенным» данным\n",
    "Посчитаем статистическую значимость различий в среднем чеке заказа между группами по «очищенным» данным. Сделаем выводы и предположения.  "
   ]
  },
  {
   "cell_type": "markdown",
   "metadata": {},
   "source": [
    "Сформулируем нулевую и альтернативную гипотезы для очищенных данных:   \n",
    "* H0: Средний чек группы А равен среднему чеку группы В   \n",
    "* Н1: Средний чек группы А не равен среднему чеку группы В"
   ]
  },
  {
   "cell_type": "code",
   "execution_count": 39,
   "metadata": {},
   "outputs": [
    {
     "name": "stdout",
     "output_type": "stream",
     "text": [
      "P-value для сравнения средних чеков между очищенными группами\n",
      "0.426\n",
      "\n",
      "Относительный прирост среднего чека очищенной группы B\n",
      "-0.006\n"
     ]
    }
   ],
   "source": [
    "print('P-value для сравнения средних чеков между очищенными группами')\n",
    "print('{0:.3f}'.format(stats.mannwhitneyu(orders[\n",
    "    np.logical_and(orders['group'] == 'A',\n",
    "                   np.logical_not(orders['visitor_id'].isin(abnormal_users)))]['revenue'],\n",
    "                                          orders[np.logical_and(orders['group'] == 'B',\n",
    "                                                                np.logical_not(orders['visitor_id']\n",
    "                                                                               .isin(abnormal_users)))\n",
    "                                                ]['revenue'])[1]))\n",
    "print()\n",
    "print('Относительный прирост среднего чека очищенной группы B')\n",
    "print(\"{0:.3f}\".format(orders[np.logical_and(orders['group'] == 'B',\n",
    "                                             np.logical_not(orders['visitor_id'].isin(abnormal_users)))\n",
    "                             ]['revenue'].mean()\n",
    "                       /orders[np.logical_and(orders['group'] == 'A',\n",
    "                                             np.logical_not(orders['visitor_id'].isin(abnormal_users)))\n",
    "                             ]['revenue'].mean() - 1))"
   ]
  },
  {
   "cell_type": "markdown",
   "metadata": {},
   "source": [
    "#### Выводы"
   ]
  },
  {
   "cell_type": "markdown",
   "metadata": {},
   "source": [
    "Р-value снова больше 0.05 - статистически значимых отличий в среднем чеке очищенных данных между группами нет.   \n",
    "Относительное различие среднего чека между сегментами всего -0,6 %."
   ]
  },
  {
   "cell_type": "markdown",
   "metadata": {},
   "source": [
    "### Выводы из А/В-теста\n",
    "*Примите решение по результатам теста и объясните его. Варианты решений: 1. Остановить тест, зафиксировать победу одной из групп. 2. Остановить тест, зафиксировать отсутствие различий между группами. 3. Продолжить тест.*"
   ]
  },
  {
   "cell_type": "markdown",
   "metadata": {},
   "source": [
    "**`Часть I. Вывод по приоритезации гипотез`**"
   ]
  },
  {
   "attachments": {
    "ICE.png": {
     "image/png": "[encoded data removed]"
    },
    "RICE.png": {
     "image/png": "[encoded data removed]"
    }
   },
   "cell_type": "markdown",
   "metadata": {},
   "source": [
    "В случае применения фреймворка **ICE** наиболее перспективные гипотезы -  8, 0, 7, 6 и 2. \n",
    "\n",
    "![ICE.png](attachment:ICE.png)\n",
    "\n",
    "Наиболее перспективные гипотезы случае применения фреймворка **RICE** - 7, 2, 0, 6 и 8.  \n",
    "\n",
    "![RICE.png](attachment:RICE.png)\n",
    "\n",
    "Пятерка лидеров осталась таже, но они поменялись местами.   \n",
    "Это произошло из-за того, что в **RICE** добавляляется параметр **reach** в числитель. У 7 гипотезы он самый большой - 10, поэтому у остальных гипотез при прочих равных нет шансов."
   ]
  },
  {
   "cell_type": "markdown",
   "metadata": {},
   "source": [
    "**`Часть II. Вывод по анализу А/В-теста`**"
   ]
  },
  {
   "attachments": {
    "2022-11-09_23-35-10.png": {
     "image/png": "[encoded data removed]"
    }
   },
   "cell_type": "markdown",
   "metadata": {},
   "source": [
    "**Анализ показал:**\n",
    "* Нет статистически значимого различия по среднему количеству заказов между группами ни по «сырым», ни по данным после фильтрации аномалий;\n",
    "* Нет статистически значимого различия по среднему чеку между группами по «сырым» данным, а по данным после фильтрации аномалий - статистически значимое различие есть;\n",
    "* График различия конверсии между группами сообщает, что результаты группы B лучше группы A: имеют тенденцию к росту, либо зафиксировались около среднего значения.\n",
    "\n",
    "![2022-11-09_23-35-10.png](attachment:2022-11-09_23-35-10.png)"
   ]
  },
  {
   "attachments": {
    "2022-11-09_23-36-00.png": {
     "image/png": "[encoded data removed]"
    }
   },
   "cell_type": "markdown",
   "metadata": {},
   "source": [
    "* График различия среднего чека колеблется: он-то и позволил найти аномалии. Сделать из этого графика определённые выводы нельзя\n",
    "\n",
    "![2022-11-09_23-36-00.png](attachment:2022-11-09_23-36-00.png)"
   ]
  },
  {
   "cell_type": "markdown",
   "metadata": {},
   "source": [
    "Исходя из фактов выше, предлагаю остановить тест, признать его успешным, зафиксировав победу группы В."
   ]
  }
 ],
 "metadata": {
  "ExecuteTimeLog": [
   {
    "duration": 448,
    "start_time": "2022-08-19T15:36:21.040Z"
   },
   {
    "duration": 112,
    "start_time": "2022-08-19T15:37:21.221Z"
   },
   {
    "duration": 80,
    "start_time": "2022-08-19T15:37:30.448Z"
   },
   {
    "duration": 31,
    "start_time": "2022-08-19T15:37:41.957Z"
   },
   {
    "duration": 1234,
    "start_time": "2022-08-19T15:48:02.368Z"
   },
   {
    "duration": 9,
    "start_time": "2022-08-19T15:58:20.487Z"
   },
   {
    "duration": 17,
    "start_time": "2022-08-19T15:58:26.544Z"
   },
   {
    "duration": 17,
    "start_time": "2022-08-19T15:59:06.727Z"
   },
   {
    "duration": 12,
    "start_time": "2022-08-19T16:10:38.658Z"
   },
   {
    "duration": 132,
    "start_time": "2022-08-19T16:26:38.628Z"
   },
   {
    "duration": 11,
    "start_time": "2022-08-19T16:28:22.405Z"
   },
   {
    "duration": 9,
    "start_time": "2022-08-19T16:33:16.514Z"
   },
   {
    "duration": 436,
    "start_time": "2022-08-19T16:35:58.638Z"
   },
   {
    "duration": 38,
    "start_time": "2022-08-19T16:35:59.076Z"
   },
   {
    "duration": 5,
    "start_time": "2022-08-19T16:35:59.115Z"
   },
   {
    "duration": 17,
    "start_time": "2022-08-19T16:35:59.123Z"
   },
   {
    "duration": 18,
    "start_time": "2022-08-19T16:35:59.142Z"
   },
   {
    "duration": 55,
    "start_time": "2022-08-19T16:35:59.162Z"
   },
   {
    "duration": 14,
    "start_time": "2022-08-19T16:35:59.219Z"
   },
   {
    "duration": 32,
    "start_time": "2022-08-19T16:35:59.234Z"
   },
   {
    "duration": 15,
    "start_time": "2022-08-19T16:40:18.330Z"
   },
   {
    "duration": 8,
    "start_time": "2022-08-19T16:41:31.022Z"
   },
   {
    "duration": 3,
    "start_time": "2022-08-19T16:46:13.216Z"
   },
   {
    "duration": 446,
    "start_time": "2022-08-19T16:46:20.116Z"
   },
   {
    "duration": 39,
    "start_time": "2022-08-19T16:46:20.564Z"
   },
   {
    "duration": 6,
    "start_time": "2022-08-19T16:46:20.604Z"
   },
   {
    "duration": 23,
    "start_time": "2022-08-19T16:46:20.613Z"
   },
   {
    "duration": 19,
    "start_time": "2022-08-19T16:46:20.637Z"
   },
   {
    "duration": 65,
    "start_time": "2022-08-19T16:46:20.658Z"
   },
   {
    "duration": 15,
    "start_time": "2022-08-19T16:46:20.726Z"
   },
   {
    "duration": 24,
    "start_time": "2022-08-19T16:46:20.744Z"
   },
   {
    "duration": 25,
    "start_time": "2022-08-19T16:46:20.770Z"
   },
   {
    "duration": 14,
    "start_time": "2022-08-19T16:46:20.799Z"
   },
   {
    "duration": 10,
    "start_time": "2022-08-19T16:47:32.059Z"
   },
   {
    "duration": 17,
    "start_time": "2022-08-19T16:48:04.233Z"
   },
   {
    "duration": 6,
    "start_time": "2022-08-19T16:49:03.354Z"
   },
   {
    "duration": 375,
    "start_time": "2022-08-19T16:49:22.511Z"
   },
   {
    "duration": 14,
    "start_time": "2022-08-19T16:56:35.148Z"
   },
   {
    "duration": 421,
    "start_time": "2022-08-19T16:57:00.836Z"
   },
   {
    "duration": 39,
    "start_time": "2022-08-19T16:57:01.259Z"
   },
   {
    "duration": 5,
    "start_time": "2022-08-19T16:57:01.299Z"
   },
   {
    "duration": 17,
    "start_time": "2022-08-19T16:57:01.306Z"
   },
   {
    "duration": 11,
    "start_time": "2022-08-19T16:57:01.325Z"
   },
   {
    "duration": 56,
    "start_time": "2022-08-19T16:57:01.338Z"
   },
   {
    "duration": 13,
    "start_time": "2022-08-19T16:57:01.395Z"
   },
   {
    "duration": 15,
    "start_time": "2022-08-19T16:57:01.410Z"
   },
   {
    "duration": 23,
    "start_time": "2022-08-19T16:57:01.427Z"
   },
   {
    "duration": 21,
    "start_time": "2022-08-19T16:57:01.453Z"
   },
   {
    "duration": 12,
    "start_time": "2022-08-19T17:01:05.277Z"
   },
   {
    "duration": 389,
    "start_time": "2022-08-19T17:03:31.090Z"
   },
   {
    "duration": 39,
    "start_time": "2022-08-19T17:03:31.481Z"
   },
   {
    "duration": 5,
    "start_time": "2022-08-19T17:03:31.522Z"
   },
   {
    "duration": 27,
    "start_time": "2022-08-19T17:03:31.528Z"
   },
   {
    "duration": 15,
    "start_time": "2022-08-19T17:03:31.558Z"
   },
   {
    "duration": 56,
    "start_time": "2022-08-19T17:03:31.575Z"
   },
   {
    "duration": 13,
    "start_time": "2022-08-19T17:03:31.633Z"
   },
   {
    "duration": 19,
    "start_time": "2022-08-19T17:03:31.648Z"
   },
   {
    "duration": 19,
    "start_time": "2022-08-19T17:03:31.669Z"
   },
   {
    "duration": 22,
    "start_time": "2022-08-19T17:03:31.690Z"
   },
   {
    "duration": 19,
    "start_time": "2022-08-19T17:03:31.714Z"
   },
   {
    "duration": 5,
    "start_time": "2022-08-19T17:06:01.824Z"
   },
   {
    "duration": 7,
    "start_time": "2022-08-19T17:06:28.170Z"
   },
   {
    "duration": 8,
    "start_time": "2022-08-19T17:06:49.845Z"
   },
   {
    "duration": 6,
    "start_time": "2022-08-19T17:07:02.068Z"
   },
   {
    "duration": 8,
    "start_time": "2022-08-19T17:07:13.665Z"
   },
   {
    "duration": 834,
    "start_time": "2022-08-19T17:48:09.663Z"
   },
   {
    "duration": 37,
    "start_time": "2022-08-19T17:48:10.499Z"
   },
   {
    "duration": 5,
    "start_time": "2022-08-19T17:48:10.537Z"
   },
   {
    "duration": 16,
    "start_time": "2022-08-19T17:48:10.543Z"
   },
   {
    "duration": 11,
    "start_time": "2022-08-19T17:48:10.561Z"
   },
   {
    "duration": 51,
    "start_time": "2022-08-19T17:48:10.574Z"
   },
   {
    "duration": 13,
    "start_time": "2022-08-19T17:48:10.627Z"
   },
   {
    "duration": 9,
    "start_time": "2022-08-19T17:48:10.642Z"
   },
   {
    "duration": 9,
    "start_time": "2022-08-19T17:48:10.653Z"
   },
   {
    "duration": 16,
    "start_time": "2022-08-19T17:48:10.664Z"
   },
   {
    "duration": 9,
    "start_time": "2022-08-19T17:48:10.681Z"
   },
   {
    "duration": 113,
    "start_time": "2022-08-19T17:48:10.691Z"
   },
   {
    "duration": 312,
    "start_time": "2022-08-19T17:50:58.077Z"
   },
   {
    "duration": 13,
    "start_time": "2022-08-19T17:54:03.181Z"
   },
   {
    "duration": 265,
    "start_time": "2022-08-19T17:54:25.438Z"
   },
   {
    "duration": 194,
    "start_time": "2022-08-19T17:54:41.766Z"
   },
   {
    "duration": 230,
    "start_time": "2022-08-19T17:54:47.630Z"
   },
   {
    "duration": 320,
    "start_time": "2022-08-19T17:58:27.645Z"
   },
   {
    "duration": 1424,
    "start_time": "2022-08-19T18:04:00.235Z"
   },
   {
    "duration": 642,
    "start_time": "2022-08-19T18:32:19.682Z"
   },
   {
    "duration": 36,
    "start_time": "2022-08-19T18:32:20.326Z"
   },
   {
    "duration": 5,
    "start_time": "2022-08-19T18:32:20.364Z"
   },
   {
    "duration": 17,
    "start_time": "2022-08-19T18:32:20.370Z"
   },
   {
    "duration": 18,
    "start_time": "2022-08-19T18:32:20.389Z"
   },
   {
    "duration": 54,
    "start_time": "2022-08-19T18:32:20.408Z"
   },
   {
    "duration": 12,
    "start_time": "2022-08-19T18:32:20.464Z"
   },
   {
    "duration": 10,
    "start_time": "2022-08-19T18:32:20.477Z"
   },
   {
    "duration": 9,
    "start_time": "2022-08-19T18:32:20.489Z"
   },
   {
    "duration": 18,
    "start_time": "2022-08-19T18:32:20.499Z"
   },
   {
    "duration": 27,
    "start_time": "2022-08-19T18:32:20.518Z"
   },
   {
    "duration": 320,
    "start_time": "2022-08-19T18:32:20.547Z"
   },
   {
    "duration": 283,
    "start_time": "2022-08-19T18:32:20.868Z"
   },
   {
    "duration": 208,
    "start_time": "2022-08-19T18:32:21.154Z"
   },
   {
    "duration": 1778,
    "start_time": "2022-08-19T18:32:21.364Z"
   },
   {
    "duration": 15,
    "start_time": "2022-08-19T18:34:09.363Z"
   },
   {
    "duration": 16,
    "start_time": "2022-08-19T18:34:23.558Z"
   },
   {
    "duration": 296,
    "start_time": "2022-08-19T18:34:57.169Z"
   },
   {
    "duration": 239,
    "start_time": "2022-08-19T18:45:08.435Z"
   },
   {
    "duration": 277,
    "start_time": "2022-08-19T18:45:27.994Z"
   },
   {
    "duration": 15,
    "start_time": "2022-08-19T18:53:54.980Z"
   },
   {
    "duration": 14,
    "start_time": "2022-08-19T18:54:04.623Z"
   },
   {
    "duration": 326,
    "start_time": "2022-08-19T18:57:43.555Z"
   },
   {
    "duration": 303,
    "start_time": "2022-08-19T18:58:05.057Z"
   },
   {
    "duration": 288,
    "start_time": "2022-08-19T18:58:12.967Z"
   },
   {
    "duration": 328,
    "start_time": "2022-08-19T18:58:21.939Z"
   },
   {
    "duration": 323,
    "start_time": "2022-08-19T19:00:29.836Z"
   },
   {
    "duration": 95,
    "start_time": "2022-08-19T19:00:46.624Z"
   },
   {
    "duration": 239,
    "start_time": "2022-08-19T19:01:47.814Z"
   },
   {
    "duration": 187,
    "start_time": "2022-08-19T19:01:54.272Z"
   },
   {
    "duration": 329,
    "start_time": "2022-08-19T19:02:06.736Z"
   },
   {
    "duration": 306,
    "start_time": "2022-08-19T19:04:41.359Z"
   },
   {
    "duration": 269,
    "start_time": "2022-08-19T19:05:29.165Z"
   },
   {
    "duration": 257,
    "start_time": "2022-08-19T19:05:37.640Z"
   },
   {
    "duration": 732,
    "start_time": "2022-08-19T19:05:47.364Z"
   },
   {
    "duration": 37,
    "start_time": "2022-08-19T19:05:48.098Z"
   },
   {
    "duration": 4,
    "start_time": "2022-08-19T19:05:48.137Z"
   },
   {
    "duration": 52,
    "start_time": "2022-08-19T19:05:48.143Z"
   },
   {
    "duration": 24,
    "start_time": "2022-08-19T19:05:48.197Z"
   },
   {
    "duration": 68,
    "start_time": "2022-08-19T19:05:48.224Z"
   },
   {
    "duration": 11,
    "start_time": "2022-08-19T19:05:48.294Z"
   },
   {
    "duration": 26,
    "start_time": "2022-08-19T19:05:48.307Z"
   },
   {
    "duration": 38,
    "start_time": "2022-08-19T19:05:48.335Z"
   },
   {
    "duration": 31,
    "start_time": "2022-08-19T19:05:48.376Z"
   },
   {
    "duration": 12,
    "start_time": "2022-08-19T19:05:48.409Z"
   },
   {
    "duration": 342,
    "start_time": "2022-08-19T19:05:48.423Z"
   },
   {
    "duration": 316,
    "start_time": "2022-08-19T19:05:48.767Z"
   },
   {
    "duration": 218,
    "start_time": "2022-08-19T19:05:49.085Z"
   },
   {
    "duration": 329,
    "start_time": "2022-08-19T19:05:49.305Z"
   },
   {
    "duration": 335,
    "start_time": "2022-08-19T19:06:38.484Z"
   },
   {
    "duration": 206,
    "start_time": "2022-08-19T19:06:45.484Z"
   },
   {
    "duration": 330,
    "start_time": "2022-08-19T19:06:52.005Z"
   },
   {
    "duration": 287,
    "start_time": "2022-08-19T19:07:11.868Z"
   },
   {
    "duration": 12,
    "start_time": "2022-08-19T19:15:27.485Z"
   },
   {
    "duration": 215,
    "start_time": "2022-08-19T19:15:38.660Z"
   },
   {
    "duration": 248,
    "start_time": "2022-08-19T19:16:04.184Z"
   },
   {
    "duration": 232,
    "start_time": "2022-08-19T19:16:22.304Z"
   },
   {
    "duration": 213,
    "start_time": "2022-08-19T19:18:27.548Z"
   },
   {
    "duration": 320,
    "start_time": "2022-08-19T19:25:01.110Z"
   },
   {
    "duration": 354,
    "start_time": "2022-08-19T19:28:26.506Z"
   },
   {
    "duration": 345,
    "start_time": "2022-08-19T19:28:36.227Z"
   },
   {
    "duration": 434,
    "start_time": "2022-08-19T19:28:43.838Z"
   },
   {
    "duration": 318,
    "start_time": "2022-08-19T19:28:51.004Z"
   },
   {
    "duration": 312,
    "start_time": "2022-08-19T19:28:58.260Z"
   },
   {
    "duration": 299,
    "start_time": "2022-08-19T19:29:16.968Z"
   },
   {
    "duration": 293,
    "start_time": "2022-08-19T19:29:39.793Z"
   },
   {
    "duration": 318,
    "start_time": "2022-08-19T19:30:08.860Z"
   },
   {
    "duration": 328,
    "start_time": "2022-08-19T19:30:29.943Z"
   },
   {
    "duration": 299,
    "start_time": "2022-08-19T19:30:40.375Z"
   },
   {
    "duration": 1851,
    "start_time": "2022-08-19T19:36:53.543Z"
   },
   {
    "duration": 165,
    "start_time": "2022-08-19T19:38:11.308Z"
   },
   {
    "duration": 144,
    "start_time": "2022-08-19T19:38:35.767Z"
   },
   {
    "duration": 6,
    "start_time": "2022-08-19T19:40:29.171Z"
   },
   {
    "duration": 7,
    "start_time": "2022-08-19T19:42:34.964Z"
   },
   {
    "duration": 6,
    "start_time": "2022-08-19T19:42:42.278Z"
   },
   {
    "duration": 6,
    "start_time": "2022-08-19T19:43:40.630Z"
   },
   {
    "duration": 7,
    "start_time": "2022-08-19T19:44:44.643Z"
   },
   {
    "duration": 6,
    "start_time": "2022-08-19T19:45:49.794Z"
   },
   {
    "duration": 13,
    "start_time": "2022-08-19T19:52:44.863Z"
   },
   {
    "duration": 137,
    "start_time": "2022-08-19T19:53:24.714Z"
   },
   {
    "duration": 13,
    "start_time": "2022-08-19T19:54:30.825Z"
   },
   {
    "duration": 209,
    "start_time": "2022-08-19T19:54:48.357Z"
   },
   {
    "duration": 5,
    "start_time": "2022-08-19T19:56:11.694Z"
   },
   {
    "duration": 149,
    "start_time": "2022-08-19T19:56:34.560Z"
   },
   {
    "duration": 6,
    "start_time": "2022-08-19T20:02:25.646Z"
   },
   {
    "duration": 820,
    "start_time": "2022-08-20T05:46:04.092Z"
   },
   {
    "duration": 84,
    "start_time": "2022-08-20T05:46:04.914Z"
   },
   {
    "duration": 4,
    "start_time": "2022-08-20T05:46:05.000Z"
   },
   {
    "duration": 15,
    "start_time": "2022-08-20T05:46:05.006Z"
   },
   {
    "duration": 11,
    "start_time": "2022-08-20T05:46:05.022Z"
   },
   {
    "duration": 160,
    "start_time": "2022-08-20T05:46:05.034Z"
   },
   {
    "duration": 11,
    "start_time": "2022-08-20T05:46:05.196Z"
   },
   {
    "duration": 8,
    "start_time": "2022-08-20T05:46:05.208Z"
   },
   {
    "duration": 7,
    "start_time": "2022-08-20T05:46:05.217Z"
   },
   {
    "duration": 14,
    "start_time": "2022-08-20T05:46:05.226Z"
   },
   {
    "duration": 8,
    "start_time": "2022-08-20T05:46:05.241Z"
   },
   {
    "duration": 296,
    "start_time": "2022-08-20T05:46:05.250Z"
   },
   {
    "duration": 252,
    "start_time": "2022-08-20T05:46:05.548Z"
   },
   {
    "duration": 161,
    "start_time": "2022-08-20T05:46:05.801Z"
   },
   {
    "duration": 345,
    "start_time": "2022-08-20T05:46:05.964Z"
   },
   {
    "duration": 250,
    "start_time": "2022-08-20T05:46:06.311Z"
   },
   {
    "duration": 307,
    "start_time": "2022-08-20T05:46:06.563Z"
   },
   {
    "duration": 16,
    "start_time": "2022-08-20T05:46:06.872Z"
   },
   {
    "duration": 134,
    "start_time": "2022-08-20T05:46:06.890Z"
   },
   {
    "duration": 5,
    "start_time": "2022-08-20T05:46:07.026Z"
   },
   {
    "duration": 139,
    "start_time": "2022-08-20T05:46:07.033Z"
   },
   {
    "duration": 11,
    "start_time": "2022-08-20T05:46:07.174Z"
   },
   {
    "duration": 5,
    "start_time": "2022-08-20T05:50:29.937Z"
   },
   {
    "duration": 12,
    "start_time": "2022-08-20T05:53:21.073Z"
   },
   {
    "duration": 11,
    "start_time": "2022-08-20T05:53:29.757Z"
   },
   {
    "duration": 7,
    "start_time": "2022-08-20T05:54:01.507Z"
   },
   {
    "duration": 11,
    "start_time": "2022-08-20T05:54:20.763Z"
   },
   {
    "duration": 8,
    "start_time": "2022-08-20T05:54:24.947Z"
   },
   {
    "duration": 68,
    "start_time": "2022-08-20T06:11:11.517Z"
   },
   {
    "duration": 861,
    "start_time": "2022-08-20T06:14:36.805Z"
   },
   {
    "duration": 991,
    "start_time": "2022-08-20T06:22:15.513Z"
   },
   {
    "duration": 40,
    "start_time": "2022-08-20T06:22:16.506Z"
   },
   {
    "duration": 4,
    "start_time": "2022-08-20T06:22:16.548Z"
   },
   {
    "duration": 23,
    "start_time": "2022-08-20T06:22:16.553Z"
   },
   {
    "duration": 16,
    "start_time": "2022-08-20T06:22:16.578Z"
   },
   {
    "duration": 69,
    "start_time": "2022-08-20T06:22:16.595Z"
   },
   {
    "duration": 10,
    "start_time": "2022-08-20T06:22:16.665Z"
   },
   {
    "duration": 38,
    "start_time": "2022-08-20T06:22:16.677Z"
   },
   {
    "duration": 22,
    "start_time": "2022-08-20T06:22:16.717Z"
   },
   {
    "duration": 17,
    "start_time": "2022-08-20T06:22:16.741Z"
   },
   {
    "duration": 7,
    "start_time": "2022-08-20T06:22:16.759Z"
   },
   {
    "duration": 270,
    "start_time": "2022-08-20T06:22:16.767Z"
   },
   {
    "duration": 257,
    "start_time": "2022-08-20T06:22:17.038Z"
   },
   {
    "duration": 177,
    "start_time": "2022-08-20T06:22:17.298Z"
   },
   {
    "duration": 274,
    "start_time": "2022-08-20T06:22:17.476Z"
   },
   {
    "duration": 172,
    "start_time": "2022-08-20T06:22:17.752Z"
   },
   {
    "duration": 259,
    "start_time": "2022-08-20T06:22:17.926Z"
   },
   {
    "duration": 11,
    "start_time": "2022-08-20T06:22:18.186Z"
   },
   {
    "duration": 118,
    "start_time": "2022-08-20T06:22:18.199Z"
   },
   {
    "duration": 5,
    "start_time": "2022-08-20T06:22:18.318Z"
   },
   {
    "duration": 130,
    "start_time": "2022-08-20T06:22:18.325Z"
   },
   {
    "duration": 4,
    "start_time": "2022-08-20T06:22:18.457Z"
   },
   {
    "duration": 23,
    "start_time": "2022-08-20T06:22:18.462Z"
   },
   {
    "duration": 7,
    "start_time": "2022-08-20T06:22:18.486Z"
   },
   {
    "duration": 842,
    "start_time": "2022-08-20T06:22:18.494Z"
   },
   {
    "duration": 221,
    "start_time": "2022-08-20T06:48:41.264Z"
   },
   {
    "duration": 200,
    "start_time": "2022-08-20T06:48:57.913Z"
   },
   {
    "duration": 16,
    "start_time": "2022-08-20T06:49:17.220Z"
   },
   {
    "duration": 24,
    "start_time": "2022-08-20T06:50:06.873Z"
   },
   {
    "duration": 1079,
    "start_time": "2022-08-20T06:51:51.743Z"
   },
   {
    "duration": 45,
    "start_time": "2022-08-20T06:51:52.824Z"
   },
   {
    "duration": 5,
    "start_time": "2022-08-20T06:51:52.871Z"
   },
   {
    "duration": 17,
    "start_time": "2022-08-20T06:51:52.878Z"
   },
   {
    "duration": 10,
    "start_time": "2022-08-20T06:51:52.898Z"
   },
   {
    "duration": 57,
    "start_time": "2022-08-20T06:51:52.910Z"
   },
   {
    "duration": 11,
    "start_time": "2022-08-20T06:51:52.968Z"
   },
   {
    "duration": 9,
    "start_time": "2022-08-20T06:51:52.981Z"
   },
   {
    "duration": 9,
    "start_time": "2022-08-20T06:51:52.991Z"
   },
   {
    "duration": 16,
    "start_time": "2022-08-20T06:51:53.002Z"
   },
   {
    "duration": 6,
    "start_time": "2022-08-20T06:51:53.019Z"
   },
   {
    "duration": 302,
    "start_time": "2022-08-20T06:51:53.026Z"
   },
   {
    "duration": 260,
    "start_time": "2022-08-20T06:51:53.329Z"
   },
   {
    "duration": 177,
    "start_time": "2022-08-20T06:51:53.591Z"
   },
   {
    "duration": 284,
    "start_time": "2022-08-20T06:51:53.769Z"
   },
   {
    "duration": 190,
    "start_time": "2022-08-20T06:51:54.054Z"
   },
   {
    "duration": 361,
    "start_time": "2022-08-20T06:51:54.246Z"
   },
   {
    "duration": 14,
    "start_time": "2022-08-20T06:51:54.609Z"
   },
   {
    "duration": 112,
    "start_time": "2022-08-20T06:51:54.625Z"
   },
   {
    "duration": 5,
    "start_time": "2022-08-20T06:51:54.739Z"
   },
   {
    "duration": 125,
    "start_time": "2022-08-20T06:51:54.745Z"
   },
   {
    "duration": 5,
    "start_time": "2022-08-20T06:51:54.872Z"
   },
   {
    "duration": 217,
    "start_time": "2022-08-20T06:51:54.884Z"
   },
   {
    "duration": 8,
    "start_time": "2022-08-20T06:51:55.103Z"
   },
   {
    "duration": 8,
    "start_time": "2022-08-20T06:51:55.114Z"
   },
   {
    "duration": 29,
    "start_time": "2022-08-20T06:51:55.124Z"
   },
   {
    "duration": 8,
    "start_time": "2022-08-20T06:52:05.117Z"
   },
   {
    "duration": 20,
    "start_time": "2022-08-20T06:59:42.796Z"
   },
   {
    "duration": 3,
    "start_time": "2022-08-20T07:00:36.365Z"
   },
   {
    "duration": 89,
    "start_time": "2022-08-20T07:00:44.564Z"
   },
   {
    "duration": 118,
    "start_time": "2022-08-20T07:01:02.063Z"
   },
   {
    "duration": 35,
    "start_time": "2022-08-20T07:02:13.424Z"
   },
   {
    "duration": 21,
    "start_time": "2022-08-20T07:02:48.303Z"
   },
   {
    "duration": 57,
    "start_time": "2022-08-20T07:03:47.815Z"
   },
   {
    "duration": 19,
    "start_time": "2022-08-20T07:04:55.240Z"
   },
   {
    "duration": 35,
    "start_time": "2022-08-20T07:05:09.133Z"
   },
   {
    "duration": 20,
    "start_time": "2022-08-20T07:05:20.561Z"
   },
   {
    "duration": 22,
    "start_time": "2022-08-20T07:05:49.443Z"
   },
   {
    "duration": 18,
    "start_time": "2022-08-20T07:07:46.029Z"
   },
   {
    "duration": 19,
    "start_time": "2022-08-20T07:08:05.666Z"
   },
   {
    "duration": 20,
    "start_time": "2022-08-20T07:08:10.120Z"
   },
   {
    "duration": 19,
    "start_time": "2022-08-20T07:09:51.611Z"
   },
   {
    "duration": 28,
    "start_time": "2022-08-20T07:10:10.176Z"
   },
   {
    "duration": 24,
    "start_time": "2022-08-20T07:11:29.822Z"
   },
   {
    "duration": 22,
    "start_time": "2022-08-20T07:11:37.817Z"
   },
   {
    "duration": 19,
    "start_time": "2022-08-20T07:13:23.260Z"
   },
   {
    "duration": 3,
    "start_time": "2022-08-20T07:16:34.087Z"
   },
   {
    "duration": 4,
    "start_time": "2022-08-20T07:21:31.917Z"
   },
   {
    "duration": 9,
    "start_time": "2022-08-20T07:27:43.515Z"
   },
   {
    "duration": 9,
    "start_time": "2022-08-20T07:34:06.944Z"
   },
   {
    "duration": 12,
    "start_time": "2022-08-20T07:34:44.996Z"
   },
   {
    "duration": 22,
    "start_time": "2022-08-20T07:35:19.529Z"
   },
   {
    "duration": 20,
    "start_time": "2022-08-20T07:35:31.325Z"
   },
   {
    "duration": 9,
    "start_time": "2022-08-20T08:19:21.952Z"
   },
   {
    "duration": 8,
    "start_time": "2022-08-20T08:23:15.689Z"
   },
   {
    "duration": 7,
    "start_time": "2022-08-20T08:27:49.072Z"
   },
   {
    "duration": 26,
    "start_time": "2022-08-20T08:28:37.016Z"
   },
   {
    "duration": 7,
    "start_time": "2022-08-20T08:28:55.949Z"
   },
   {
    "duration": 26,
    "start_time": "2022-08-20T08:28:57.778Z"
   },
   {
    "duration": 8,
    "start_time": "2022-08-20T08:30:23.139Z"
   },
   {
    "duration": 27,
    "start_time": "2022-08-20T08:30:23.998Z"
   },
   {
    "duration": 22,
    "start_time": "2022-08-20T08:37:51.803Z"
   },
   {
    "duration": 13,
    "start_time": "2022-08-20T08:47:08.425Z"
   },
   {
    "duration": 13,
    "start_time": "2022-08-20T09:07:11.469Z"
   },
   {
    "duration": 363,
    "start_time": "2022-08-20T10:13:45.478Z"
   },
   {
    "duration": 397,
    "start_time": "2022-08-20T10:13:54.982Z"
   },
   {
    "duration": 301,
    "start_time": "2022-08-20T10:15:20.062Z"
   },
   {
    "duration": 277,
    "start_time": "2022-08-20T10:21:05.001Z"
   },
   {
    "duration": 994,
    "start_time": "2022-08-20T10:21:11.443Z"
   },
   {
    "duration": 34,
    "start_time": "2022-08-20T10:21:12.439Z"
   },
   {
    "duration": 4,
    "start_time": "2022-08-20T10:21:12.475Z"
   },
   {
    "duration": 17,
    "start_time": "2022-08-20T10:21:12.481Z"
   },
   {
    "duration": 15,
    "start_time": "2022-08-20T10:21:12.500Z"
   },
   {
    "duration": 59,
    "start_time": "2022-08-20T10:21:12.516Z"
   },
   {
    "duration": 17,
    "start_time": "2022-08-20T10:21:12.577Z"
   },
   {
    "duration": 19,
    "start_time": "2022-08-20T10:21:12.595Z"
   },
   {
    "duration": 7,
    "start_time": "2022-08-20T10:21:12.615Z"
   },
   {
    "duration": 13,
    "start_time": "2022-08-20T10:21:12.624Z"
   },
   {
    "duration": 5,
    "start_time": "2022-08-20T10:21:12.639Z"
   },
   {
    "duration": 321,
    "start_time": "2022-08-20T10:21:12.645Z"
   },
   {
    "duration": 256,
    "start_time": "2022-08-20T10:21:12.967Z"
   },
   {
    "duration": 181,
    "start_time": "2022-08-20T10:21:13.225Z"
   },
   {
    "duration": 267,
    "start_time": "2022-08-20T10:21:13.407Z"
   },
   {
    "duration": 193,
    "start_time": "2022-08-20T10:21:13.675Z"
   },
   {
    "duration": 317,
    "start_time": "2022-08-20T10:21:13.869Z"
   },
   {
    "duration": 13,
    "start_time": "2022-08-20T10:21:14.192Z"
   },
   {
    "duration": 113,
    "start_time": "2022-08-20T10:21:14.207Z"
   },
   {
    "duration": 5,
    "start_time": "2022-08-20T10:21:14.322Z"
   },
   {
    "duration": 176,
    "start_time": "2022-08-20T10:21:14.329Z"
   },
   {
    "duration": 5,
    "start_time": "2022-08-20T10:21:14.508Z"
   },
   {
    "duration": 263,
    "start_time": "2022-08-20T10:21:14.515Z"
   },
   {
    "duration": 17,
    "start_time": "2022-08-20T10:21:14.780Z"
   },
   {
    "duration": 11,
    "start_time": "2022-08-20T10:21:14.801Z"
   },
   {
    "duration": 7,
    "start_time": "2022-08-20T10:21:14.813Z"
   },
   {
    "duration": 22,
    "start_time": "2022-08-20T10:21:14.821Z"
   },
   {
    "duration": 10,
    "start_time": "2022-08-20T10:21:14.846Z"
   },
   {
    "duration": 8,
    "start_time": "2022-08-20T10:21:14.858Z"
   },
   {
    "duration": 30,
    "start_time": "2022-08-20T10:21:14.867Z"
   },
   {
    "duration": 40,
    "start_time": "2022-08-20T10:21:14.900Z"
   },
   {
    "duration": 13,
    "start_time": "2022-08-20T10:21:14.942Z"
   },
   {
    "duration": 316,
    "start_time": "2022-08-20T10:21:14.957Z"
   },
   {
    "duration": 369,
    "start_time": "2022-08-20T10:21:15.275Z"
   },
   {
    "duration": 1210,
    "start_time": "2022-08-21T08:53:57.688Z"
   },
   {
    "duration": 76,
    "start_time": "2022-08-21T08:53:58.899Z"
   },
   {
    "duration": 5,
    "start_time": "2022-08-21T08:53:58.977Z"
   },
   {
    "duration": 11,
    "start_time": "2022-08-21T08:53:58.984Z"
   },
   {
    "duration": 9,
    "start_time": "2022-08-21T08:53:58.997Z"
   },
   {
    "duration": 141,
    "start_time": "2022-08-21T08:53:59.008Z"
   },
   {
    "duration": 10,
    "start_time": "2022-08-21T08:53:59.150Z"
   },
   {
    "duration": 8,
    "start_time": "2022-08-21T08:53:59.162Z"
   },
   {
    "duration": 9,
    "start_time": "2022-08-21T08:53:59.171Z"
   },
   {
    "duration": 13,
    "start_time": "2022-08-21T08:53:59.182Z"
   },
   {
    "duration": 5,
    "start_time": "2022-08-21T08:53:59.197Z"
   },
   {
    "duration": 265,
    "start_time": "2022-08-21T08:53:59.203Z"
   },
   {
    "duration": 245,
    "start_time": "2022-08-21T08:53:59.470Z"
   },
   {
    "duration": 166,
    "start_time": "2022-08-21T08:53:59.720Z"
   },
   {
    "duration": 316,
    "start_time": "2022-08-21T08:53:59.887Z"
   },
   {
    "duration": 156,
    "start_time": "2022-08-21T08:54:00.204Z"
   },
   {
    "duration": 269,
    "start_time": "2022-08-21T08:54:00.361Z"
   },
   {
    "duration": 10,
    "start_time": "2022-08-21T08:54:00.631Z"
   },
   {
    "duration": 112,
    "start_time": "2022-08-21T08:54:00.643Z"
   },
   {
    "duration": 4,
    "start_time": "2022-08-21T08:54:00.756Z"
   },
   {
    "duration": 124,
    "start_time": "2022-08-21T08:54:00.762Z"
   },
   {
    "duration": 5,
    "start_time": "2022-08-21T08:54:00.887Z"
   },
   {
    "duration": 213,
    "start_time": "2022-08-21T08:54:00.893Z"
   },
   {
    "duration": 7,
    "start_time": "2022-08-21T08:54:01.108Z"
   },
   {
    "duration": 21,
    "start_time": "2022-08-21T08:54:01.116Z"
   },
   {
    "duration": 7,
    "start_time": "2022-08-21T08:54:01.138Z"
   },
   {
    "duration": 22,
    "start_time": "2022-08-21T08:54:01.146Z"
   },
   {
    "duration": 9,
    "start_time": "2022-08-21T08:54:01.171Z"
   },
   {
    "duration": 14,
    "start_time": "2022-08-21T08:54:01.181Z"
   },
   {
    "duration": 14,
    "start_time": "2022-08-21T08:54:01.196Z"
   },
   {
    "duration": 33,
    "start_time": "2022-08-21T08:54:01.211Z"
   },
   {
    "duration": 12,
    "start_time": "2022-08-21T08:54:01.246Z"
   },
   {
    "duration": 256,
    "start_time": "2022-08-21T08:54:01.259Z"
   },
   {
    "duration": 348,
    "start_time": "2022-08-21T08:54:01.517Z"
   },
   {
    "duration": 1168,
    "start_time": "2022-08-21T12:49:03.546Z"
   },
   {
    "duration": 82,
    "start_time": "2022-08-21T12:49:04.716Z"
   },
   {
    "duration": 5,
    "start_time": "2022-08-21T12:49:04.799Z"
   },
   {
    "duration": 13,
    "start_time": "2022-08-21T12:49:04.805Z"
   },
   {
    "duration": 10,
    "start_time": "2022-08-21T12:49:04.819Z"
   },
   {
    "duration": 157,
    "start_time": "2022-08-21T12:49:04.831Z"
   },
   {
    "duration": 11,
    "start_time": "2022-08-21T12:49:04.990Z"
   },
   {
    "duration": 9,
    "start_time": "2022-08-21T12:49:05.002Z"
   },
   {
    "duration": 10,
    "start_time": "2022-08-21T12:49:05.013Z"
   },
   {
    "duration": 20,
    "start_time": "2022-08-21T12:49:05.026Z"
   },
   {
    "duration": 13,
    "start_time": "2022-08-21T12:49:05.048Z"
   },
   {
    "duration": 263,
    "start_time": "2022-08-21T12:49:05.063Z"
   },
   {
    "duration": 242,
    "start_time": "2022-08-21T12:49:05.327Z"
   },
   {
    "duration": 163,
    "start_time": "2022-08-21T12:49:05.571Z"
   },
   {
    "duration": 315,
    "start_time": "2022-08-21T12:49:05.735Z"
   },
   {
    "duration": 257,
    "start_time": "2022-08-21T12:49:06.053Z"
   },
   {
    "duration": 281,
    "start_time": "2022-08-21T12:49:06.312Z"
   },
   {
    "duration": 19,
    "start_time": "2022-08-21T12:49:06.595Z"
   },
   {
    "duration": 112,
    "start_time": "2022-08-21T12:49:06.615Z"
   },
   {
    "duration": 5,
    "start_time": "2022-08-21T12:49:06.729Z"
   },
   {
    "duration": 120,
    "start_time": "2022-08-21T12:49:06.736Z"
   },
   {
    "duration": 4,
    "start_time": "2022-08-21T12:49:06.857Z"
   },
   {
    "duration": 207,
    "start_time": "2022-08-21T12:49:06.862Z"
   },
   {
    "duration": 7,
    "start_time": "2022-08-21T12:49:07.071Z"
   },
   {
    "duration": 8,
    "start_time": "2022-08-21T12:49:07.080Z"
   },
   {
    "duration": 17,
    "start_time": "2022-08-21T12:49:07.089Z"
   },
   {
    "duration": 21,
    "start_time": "2022-08-21T12:49:07.107Z"
   },
   {
    "duration": 11,
    "start_time": "2022-08-21T12:49:07.131Z"
   },
   {
    "duration": 7,
    "start_time": "2022-08-21T12:49:07.144Z"
   },
   {
    "duration": 8,
    "start_time": "2022-08-21T12:49:07.152Z"
   },
   {
    "duration": 46,
    "start_time": "2022-08-21T12:49:07.162Z"
   },
   {
    "duration": 12,
    "start_time": "2022-08-21T12:49:07.210Z"
   },
   {
    "duration": 270,
    "start_time": "2022-08-21T12:49:07.223Z"
   },
   {
    "duration": 339,
    "start_time": "2022-08-21T12:49:07.495Z"
   },
   {
    "duration": 172,
    "start_time": "2022-08-21T12:52:07.196Z"
   },
   {
    "duration": 102,
    "start_time": "2022-08-21T12:52:14.431Z"
   },
   {
    "duration": 105,
    "start_time": "2022-08-21T12:52:39.834Z"
   },
   {
    "duration": 1023,
    "start_time": "2022-08-21T12:52:57.713Z"
   },
   {
    "duration": 34,
    "start_time": "2022-08-21T12:52:58.738Z"
   },
   {
    "duration": 4,
    "start_time": "2022-08-21T12:52:58.774Z"
   },
   {
    "duration": 16,
    "start_time": "2022-08-21T12:52:58.779Z"
   },
   {
    "duration": 15,
    "start_time": "2022-08-21T12:52:58.797Z"
   },
   {
    "duration": 61,
    "start_time": "2022-08-21T12:52:58.813Z"
   },
   {
    "duration": 9,
    "start_time": "2022-08-21T12:52:58.876Z"
   },
   {
    "duration": 15,
    "start_time": "2022-08-21T12:52:58.887Z"
   },
   {
    "duration": 18,
    "start_time": "2022-08-21T12:52:58.903Z"
   },
   {
    "duration": 29,
    "start_time": "2022-08-21T12:52:58.922Z"
   },
   {
    "duration": 19,
    "start_time": "2022-08-21T12:52:58.952Z"
   },
   {
    "duration": 267,
    "start_time": "2022-08-21T12:52:58.973Z"
   },
   {
    "duration": 240,
    "start_time": "2022-08-21T12:52:59.242Z"
   },
   {
    "duration": 182,
    "start_time": "2022-08-21T12:52:59.484Z"
   },
   {
    "duration": 292,
    "start_time": "2022-08-21T12:52:59.667Z"
   },
   {
    "duration": 174,
    "start_time": "2022-08-21T12:52:59.960Z"
   },
   {
    "duration": 254,
    "start_time": "2022-08-21T12:53:00.136Z"
   },
   {
    "duration": 20,
    "start_time": "2022-08-21T12:53:00.392Z"
   },
   {
    "duration": 114,
    "start_time": "2022-08-21T12:53:00.414Z"
   },
   {
    "duration": 5,
    "start_time": "2022-08-21T12:53:00.530Z"
   },
   {
    "duration": 129,
    "start_time": "2022-08-21T12:53:00.537Z"
   },
   {
    "duration": 5,
    "start_time": "2022-08-21T12:53:00.667Z"
   },
   {
    "duration": 223,
    "start_time": "2022-08-21T12:53:00.674Z"
   },
   {
    "duration": 12,
    "start_time": "2022-08-21T12:53:00.898Z"
   },
   {
    "duration": 8,
    "start_time": "2022-08-21T12:53:00.911Z"
   },
   {
    "duration": 22,
    "start_time": "2022-08-21T12:53:00.920Z"
   },
   {
    "duration": 26,
    "start_time": "2022-08-21T12:53:00.944Z"
   },
   {
    "duration": 10,
    "start_time": "2022-08-21T12:53:00.972Z"
   },
   {
    "duration": 28,
    "start_time": "2022-08-21T12:53:00.984Z"
   },
   {
    "duration": 10,
    "start_time": "2022-08-21T12:53:01.014Z"
   },
   {
    "duration": 25,
    "start_time": "2022-08-21T12:53:01.026Z"
   },
   {
    "duration": 13,
    "start_time": "2022-08-21T12:53:01.052Z"
   },
   {
    "duration": 303,
    "start_time": "2022-08-21T12:53:01.066Z"
   },
   {
    "duration": 310,
    "start_time": "2022-08-21T12:53:01.371Z"
   },
   {
    "duration": 368,
    "start_time": "2022-08-21T12:55:43.406Z"
   },
   {
    "duration": 12,
    "start_time": "2022-08-21T12:56:08.815Z"
   },
   {
    "duration": 61,
    "start_time": "2022-08-21T12:56:28.633Z"
   },
   {
    "duration": 109,
    "start_time": "2022-08-21T12:57:23.384Z"
   },
   {
    "duration": 3,
    "start_time": "2022-08-21T12:59:25.872Z"
   },
   {
    "duration": 125,
    "start_time": "2022-08-21T13:00:51.646Z"
   },
   {
    "duration": 83,
    "start_time": "2022-08-21T13:01:22.155Z"
   },
   {
    "duration": 9,
    "start_time": "2022-08-21T13:01:39.524Z"
   },
   {
    "duration": 1068,
    "start_time": "2022-08-21T13:01:46.517Z"
   },
   {
    "duration": 35,
    "start_time": "2022-08-21T13:01:47.587Z"
   },
   {
    "duration": 4,
    "start_time": "2022-08-21T13:01:47.624Z"
   },
   {
    "duration": 13,
    "start_time": "2022-08-21T13:01:47.629Z"
   },
   {
    "duration": 9,
    "start_time": "2022-08-21T13:01:47.643Z"
   },
   {
    "duration": 54,
    "start_time": "2022-08-21T13:01:47.654Z"
   },
   {
    "duration": 10,
    "start_time": "2022-08-21T13:01:47.710Z"
   },
   {
    "duration": 10,
    "start_time": "2022-08-21T13:01:47.721Z"
   },
   {
    "duration": 8,
    "start_time": "2022-08-21T13:01:47.733Z"
   },
   {
    "duration": 15,
    "start_time": "2022-08-21T13:01:47.743Z"
   },
   {
    "duration": 6,
    "start_time": "2022-08-21T13:01:47.760Z"
   },
   {
    "duration": 283,
    "start_time": "2022-08-21T13:01:47.767Z"
   },
   {
    "duration": 228,
    "start_time": "2022-08-21T13:01:48.052Z"
   },
   {
    "duration": 153,
    "start_time": "2022-08-21T13:01:48.281Z"
   },
   {
    "duration": 238,
    "start_time": "2022-08-21T13:01:48.435Z"
   },
   {
    "duration": 157,
    "start_time": "2022-08-21T13:01:48.675Z"
   },
   {
    "duration": 255,
    "start_time": "2022-08-21T13:01:48.833Z"
   },
   {
    "duration": 70,
    "start_time": "2022-08-21T13:01:49.089Z"
   },
   {
    "duration": 99,
    "start_time": "2022-08-21T13:01:49.161Z"
   },
   {
    "duration": 0,
    "start_time": "2022-08-21T13:01:49.262Z"
   },
   {
    "duration": 0,
    "start_time": "2022-08-21T13:01:49.263Z"
   },
   {
    "duration": 0,
    "start_time": "2022-08-21T13:01:49.264Z"
   },
   {
    "duration": 0,
    "start_time": "2022-08-21T13:01:49.265Z"
   },
   {
    "duration": 0,
    "start_time": "2022-08-21T13:01:49.266Z"
   },
   {
    "duration": 0,
    "start_time": "2022-08-21T13:01:49.267Z"
   },
   {
    "duration": 0,
    "start_time": "2022-08-21T13:01:49.268Z"
   },
   {
    "duration": 0,
    "start_time": "2022-08-21T13:01:49.269Z"
   },
   {
    "duration": 0,
    "start_time": "2022-08-21T13:01:49.270Z"
   },
   {
    "duration": 0,
    "start_time": "2022-08-21T13:01:49.271Z"
   },
   {
    "duration": 0,
    "start_time": "2022-08-21T13:01:49.271Z"
   },
   {
    "duration": 0,
    "start_time": "2022-08-21T13:01:49.273Z"
   },
   {
    "duration": 0,
    "start_time": "2022-08-21T13:01:49.274Z"
   },
   {
    "duration": 0,
    "start_time": "2022-08-21T13:01:49.274Z"
   },
   {
    "duration": 0,
    "start_time": "2022-08-21T13:01:49.276Z"
   },
   {
    "duration": 0,
    "start_time": "2022-08-21T13:01:49.277Z"
   },
   {
    "duration": 11,
    "start_time": "2022-08-21T13:02:09.837Z"
   },
   {
    "duration": 14,
    "start_time": "2022-08-21T13:02:12.417Z"
   },
   {
    "duration": 2,
    "start_time": "2022-08-21T13:02:18.128Z"
   },
   {
    "duration": 75,
    "start_time": "2022-08-21T13:03:20.515Z"
   },
   {
    "duration": 14,
    "start_time": "2022-08-21T13:03:30.079Z"
   },
   {
    "duration": 13,
    "start_time": "2022-08-21T13:03:58.370Z"
   },
   {
    "duration": 14,
    "start_time": "2022-08-21T13:04:01.362Z"
   },
   {
    "duration": 1242,
    "start_time": "2022-08-21T13:07:30.550Z"
   },
   {
    "duration": 15,
    "start_time": "2022-08-21T13:07:55.330Z"
   },
   {
    "duration": 128,
    "start_time": "2022-08-21T13:08:23.765Z"
   },
   {
    "duration": 115,
    "start_time": "2022-08-21T13:08:48.340Z"
   },
   {
    "duration": 122,
    "start_time": "2022-08-21T13:08:55.155Z"
   },
   {
    "duration": 175,
    "start_time": "2022-08-21T13:09:22.715Z"
   },
   {
    "duration": 12,
    "start_time": "2022-08-21T13:09:50.946Z"
   },
   {
    "duration": 108,
    "start_time": "2022-08-21T13:09:54.036Z"
   },
   {
    "duration": 1040,
    "start_time": "2022-08-21T13:10:06.243Z"
   },
   {
    "duration": 34,
    "start_time": "2022-08-21T13:10:07.285Z"
   },
   {
    "duration": 4,
    "start_time": "2022-08-21T13:10:07.320Z"
   },
   {
    "duration": 11,
    "start_time": "2022-08-21T13:10:07.325Z"
   },
   {
    "duration": 8,
    "start_time": "2022-08-21T13:10:07.338Z"
   },
   {
    "duration": 52,
    "start_time": "2022-08-21T13:10:07.347Z"
   },
   {
    "duration": 9,
    "start_time": "2022-08-21T13:10:07.401Z"
   },
   {
    "duration": 8,
    "start_time": "2022-08-21T13:10:07.411Z"
   },
   {
    "duration": 6,
    "start_time": "2022-08-21T13:10:07.420Z"
   },
   {
    "duration": 14,
    "start_time": "2022-08-21T13:10:07.428Z"
   },
   {
    "duration": 14,
    "start_time": "2022-08-21T13:10:07.443Z"
   },
   {
    "duration": 276,
    "start_time": "2022-08-21T13:10:07.459Z"
   },
   {
    "duration": 274,
    "start_time": "2022-08-21T13:10:07.737Z"
   },
   {
    "duration": 181,
    "start_time": "2022-08-21T13:10:08.013Z"
   },
   {
    "duration": 265,
    "start_time": "2022-08-21T13:10:08.196Z"
   },
   {
    "duration": 165,
    "start_time": "2022-08-21T13:10:08.463Z"
   },
   {
    "duration": 297,
    "start_time": "2022-08-21T13:10:08.629Z"
   },
   {
    "duration": 11,
    "start_time": "2022-08-21T13:10:08.927Z"
   },
   {
    "duration": 132,
    "start_time": "2022-08-21T13:10:08.940Z"
   },
   {
    "duration": 5,
    "start_time": "2022-08-21T13:10:09.073Z"
   },
   {
    "duration": 113,
    "start_time": "2022-08-21T13:10:09.080Z"
   },
   {
    "duration": 14,
    "start_time": "2022-08-21T13:10:09.195Z"
   },
   {
    "duration": 208,
    "start_time": "2022-08-21T13:10:09.210Z"
   },
   {
    "duration": 7,
    "start_time": "2022-08-21T13:10:09.419Z"
   },
   {
    "duration": 12,
    "start_time": "2022-08-21T13:10:09.427Z"
   },
   {
    "duration": 6,
    "start_time": "2022-08-21T13:10:09.440Z"
   },
   {
    "duration": 20,
    "start_time": "2022-08-21T13:10:09.447Z"
   },
   {
    "duration": 9,
    "start_time": "2022-08-21T13:10:09.469Z"
   },
   {
    "duration": 29,
    "start_time": "2022-08-21T13:10:09.479Z"
   },
   {
    "duration": 6,
    "start_time": "2022-08-21T13:10:09.510Z"
   },
   {
    "duration": 21,
    "start_time": "2022-08-21T13:10:09.517Z"
   },
   {
    "duration": 13,
    "start_time": "2022-08-21T13:10:09.539Z"
   },
   {
    "duration": 272,
    "start_time": "2022-08-21T13:10:09.553Z"
   },
   {
    "duration": 350,
    "start_time": "2022-08-21T13:10:09.826Z"
   },
   {
    "duration": 1304,
    "start_time": "2022-08-22T06:25:13.282Z"
   },
   {
    "duration": 74,
    "start_time": "2022-08-22T06:25:14.588Z"
   },
   {
    "duration": 5,
    "start_time": "2022-08-22T06:25:14.664Z"
   },
   {
    "duration": 16,
    "start_time": "2022-08-22T06:25:14.671Z"
   },
   {
    "duration": 11,
    "start_time": "2022-08-22T06:25:14.689Z"
   },
   {
    "duration": 141,
    "start_time": "2022-08-22T06:25:14.702Z"
   },
   {
    "duration": 10,
    "start_time": "2022-08-22T06:25:14.844Z"
   },
   {
    "duration": 17,
    "start_time": "2022-08-22T06:25:14.856Z"
   },
   {
    "duration": 28,
    "start_time": "2022-08-22T06:25:14.874Z"
   },
   {
    "duration": 16,
    "start_time": "2022-08-22T06:25:14.904Z"
   },
   {
    "duration": 10,
    "start_time": "2022-08-22T06:25:14.921Z"
   },
   {
    "duration": 264,
    "start_time": "2022-08-22T06:25:14.932Z"
   },
   {
    "duration": 266,
    "start_time": "2022-08-22T06:25:15.198Z"
   },
   {
    "duration": 165,
    "start_time": "2022-08-22T06:25:15.466Z"
   },
   {
    "duration": 344,
    "start_time": "2022-08-22T06:25:15.633Z"
   },
   {
    "duration": 157,
    "start_time": "2022-08-22T06:25:15.984Z"
   },
   {
    "duration": 279,
    "start_time": "2022-08-22T06:25:16.142Z"
   },
   {
    "duration": 11,
    "start_time": "2022-08-22T06:25:16.423Z"
   },
   {
    "duration": 126,
    "start_time": "2022-08-22T06:25:16.435Z"
   },
   {
    "duration": 5,
    "start_time": "2022-08-22T06:25:16.563Z"
   },
   {
    "duration": 137,
    "start_time": "2022-08-22T06:25:16.569Z"
   },
   {
    "duration": 4,
    "start_time": "2022-08-22T06:25:16.707Z"
   },
   {
    "duration": 284,
    "start_time": "2022-08-22T06:25:16.713Z"
   },
   {
    "duration": 8,
    "start_time": "2022-08-22T06:25:16.998Z"
   },
   {
    "duration": 6,
    "start_time": "2022-08-22T06:25:17.007Z"
   },
   {
    "duration": 8,
    "start_time": "2022-08-22T06:25:17.014Z"
   },
   {
    "duration": 22,
    "start_time": "2022-08-22T06:25:17.023Z"
   },
   {
    "duration": 9,
    "start_time": "2022-08-22T06:25:17.047Z"
   },
   {
    "duration": 31,
    "start_time": "2022-08-22T06:25:17.058Z"
   },
   {
    "duration": 10,
    "start_time": "2022-08-22T06:25:17.090Z"
   },
   {
    "duration": 31,
    "start_time": "2022-08-22T06:25:17.102Z"
   },
   {
    "duration": 13,
    "start_time": "2022-08-22T06:25:17.134Z"
   },
   {
    "duration": 298,
    "start_time": "2022-08-22T06:25:17.149Z"
   },
   {
    "duration": 258,
    "start_time": "2022-08-22T06:25:17.449Z"
   },
   {
    "duration": 1107,
    "start_time": "2022-08-22T06:26:53.445Z"
   },
   {
    "duration": 44,
    "start_time": "2022-08-22T06:26:54.554Z"
   },
   {
    "duration": 5,
    "start_time": "2022-08-22T06:26:54.600Z"
   },
   {
    "duration": 17,
    "start_time": "2022-08-22T06:26:54.607Z"
   },
   {
    "duration": 11,
    "start_time": "2022-08-22T06:26:54.626Z"
   },
   {
    "duration": 60,
    "start_time": "2022-08-22T06:26:54.638Z"
   },
   {
    "duration": 13,
    "start_time": "2022-08-22T06:26:54.700Z"
   },
   {
    "duration": 7,
    "start_time": "2022-08-22T06:26:54.715Z"
   },
   {
    "duration": 17,
    "start_time": "2022-08-22T06:26:54.725Z"
   },
   {
    "duration": 18,
    "start_time": "2022-08-22T06:26:54.744Z"
   },
   {
    "duration": 6,
    "start_time": "2022-08-22T06:26:54.763Z"
   },
   {
    "duration": 289,
    "start_time": "2022-08-22T06:26:54.771Z"
   },
   {
    "duration": 284,
    "start_time": "2022-08-22T06:26:55.062Z"
   },
   {
    "duration": 175,
    "start_time": "2022-08-22T06:26:55.349Z"
   },
   {
    "duration": 324,
    "start_time": "2022-08-22T06:26:55.526Z"
   },
   {
    "duration": 168,
    "start_time": "2022-08-22T06:26:55.852Z"
   },
   {
    "duration": 265,
    "start_time": "2022-08-22T06:26:56.021Z"
   },
   {
    "duration": 12,
    "start_time": "2022-08-22T06:26:56.288Z"
   },
   {
    "duration": 115,
    "start_time": "2022-08-22T06:26:56.302Z"
   },
   {
    "duration": 4,
    "start_time": "2022-08-22T06:26:56.419Z"
   },
   {
    "duration": 121,
    "start_time": "2022-08-22T06:26:56.425Z"
   },
   {
    "duration": 4,
    "start_time": "2022-08-22T06:26:56.548Z"
   },
   {
    "duration": 277,
    "start_time": "2022-08-22T06:26:56.554Z"
   },
   {
    "duration": 7,
    "start_time": "2022-08-22T06:26:56.833Z"
   },
   {
    "duration": 7,
    "start_time": "2022-08-22T06:26:56.841Z"
   },
   {
    "duration": 7,
    "start_time": "2022-08-22T06:26:56.849Z"
   },
   {
    "duration": 42,
    "start_time": "2022-08-22T06:26:56.857Z"
   },
   {
    "duration": 10,
    "start_time": "2022-08-22T06:26:56.901Z"
   },
   {
    "duration": 7,
    "start_time": "2022-08-22T06:26:56.913Z"
   },
   {
    "duration": 7,
    "start_time": "2022-08-22T06:26:56.921Z"
   },
   {
    "duration": 19,
    "start_time": "2022-08-22T06:26:56.929Z"
   },
   {
    "duration": 41,
    "start_time": "2022-08-22T06:26:56.949Z"
   },
   {
    "duration": 279,
    "start_time": "2022-08-22T06:26:56.991Z"
   },
   {
    "duration": 284,
    "start_time": "2022-08-22T06:26:57.271Z"
   },
   {
    "duration": 298,
    "start_time": "2022-08-22T06:30:19.746Z"
   },
   {
    "duration": 306,
    "start_time": "2022-08-22T06:33:14.049Z"
   },
   {
    "duration": 171,
    "start_time": "2022-08-22T06:34:41.514Z"
   },
   {
    "duration": 360,
    "start_time": "2022-08-22T06:35:40.071Z"
   },
   {
    "duration": 287,
    "start_time": "2022-08-22T06:36:44.337Z"
   },
   {
    "duration": 259,
    "start_time": "2022-08-22T07:05:01.344Z"
   },
   {
    "duration": 284,
    "start_time": "2022-08-22T07:05:17.793Z"
   },
   {
    "duration": 291,
    "start_time": "2022-08-22T07:06:17.474Z"
   },
   {
    "duration": 126,
    "start_time": "2022-08-22T07:13:42.832Z"
   },
   {
    "duration": 194,
    "start_time": "2022-08-22T07:14:41.542Z"
   },
   {
    "duration": 118,
    "start_time": "2022-08-22T07:15:50.505Z"
   },
   {
    "duration": 132,
    "start_time": "2022-08-22T07:17:56.749Z"
   },
   {
    "duration": 121,
    "start_time": "2022-08-22T07:18:43.408Z"
   },
   {
    "duration": 1110,
    "start_time": "2022-08-22T07:19:01.583Z"
   },
   {
    "duration": 36,
    "start_time": "2022-08-22T07:19:02.695Z"
   },
   {
    "duration": 4,
    "start_time": "2022-08-22T07:19:02.732Z"
   },
   {
    "duration": 14,
    "start_time": "2022-08-22T07:19:02.738Z"
   },
   {
    "duration": 9,
    "start_time": "2022-08-22T07:19:02.754Z"
   },
   {
    "duration": 58,
    "start_time": "2022-08-22T07:19:02.765Z"
   },
   {
    "duration": 14,
    "start_time": "2022-08-22T07:19:02.824Z"
   },
   {
    "duration": 14,
    "start_time": "2022-08-22T07:19:02.841Z"
   },
   {
    "duration": 14,
    "start_time": "2022-08-22T07:19:02.856Z"
   },
   {
    "duration": 18,
    "start_time": "2022-08-22T07:19:02.872Z"
   },
   {
    "duration": 7,
    "start_time": "2022-08-22T07:19:02.891Z"
   },
   {
    "duration": 288,
    "start_time": "2022-08-22T07:19:02.900Z"
   },
   {
    "duration": 248,
    "start_time": "2022-08-22T07:19:03.189Z"
   },
   {
    "duration": 184,
    "start_time": "2022-08-22T07:19:03.441Z"
   },
   {
    "duration": 278,
    "start_time": "2022-08-22T07:19:03.627Z"
   },
   {
    "duration": 190,
    "start_time": "2022-08-22T07:19:03.907Z"
   },
   {
    "duration": 292,
    "start_time": "2022-08-22T07:19:04.100Z"
   },
   {
    "duration": 15,
    "start_time": "2022-08-22T07:19:04.402Z"
   },
   {
    "duration": 163,
    "start_time": "2022-08-22T07:19:04.419Z"
   },
   {
    "duration": 5,
    "start_time": "2022-08-22T07:19:04.585Z"
   },
   {
    "duration": 161,
    "start_time": "2022-08-22T07:19:04.592Z"
   },
   {
    "duration": 4,
    "start_time": "2022-08-22T07:19:04.755Z"
   },
   {
    "duration": 287,
    "start_time": "2022-08-22T07:19:04.761Z"
   },
   {
    "duration": 13,
    "start_time": "2022-08-22T07:19:05.049Z"
   },
   {
    "duration": 18,
    "start_time": "2022-08-22T07:19:05.064Z"
   },
   {
    "duration": 12,
    "start_time": "2022-08-22T07:19:05.084Z"
   },
   {
    "duration": 30,
    "start_time": "2022-08-22T07:19:05.098Z"
   },
   {
    "duration": 10,
    "start_time": "2022-08-22T07:19:05.130Z"
   },
   {
    "duration": 8,
    "start_time": "2022-08-22T07:19:05.141Z"
   },
   {
    "duration": 8,
    "start_time": "2022-08-22T07:19:05.151Z"
   },
   {
    "duration": 39,
    "start_time": "2022-08-22T07:19:05.160Z"
   },
   {
    "duration": 14,
    "start_time": "2022-08-22T07:19:05.200Z"
   },
   {
    "duration": 280,
    "start_time": "2022-08-22T07:19:05.215Z"
   },
   {
    "duration": 297,
    "start_time": "2022-08-22T07:19:05.496Z"
   },
   {
    "duration": 4,
    "start_time": "2022-08-22T07:29:35.672Z"
   },
   {
    "duration": 68,
    "start_time": "2022-08-22T07:48:46.969Z"
   },
   {
    "duration": 85,
    "start_time": "2022-08-22T07:48:52.539Z"
   },
   {
    "duration": 4,
    "start_time": "2022-08-22T07:49:13.631Z"
   },
   {
    "duration": 4,
    "start_time": "2022-08-22T07:50:31.697Z"
   },
   {
    "duration": 7,
    "start_time": "2022-08-22T07:52:48.625Z"
   },
   {
    "duration": 9,
    "start_time": "2022-08-22T07:54:37.764Z"
   },
   {
    "duration": 8,
    "start_time": "2022-08-22T07:55:27.015Z"
   },
   {
    "duration": 6,
    "start_time": "2022-08-22T08:04:23.350Z"
   },
   {
    "duration": 4,
    "start_time": "2022-08-22T08:04:41.496Z"
   },
   {
    "duration": 5,
    "start_time": "2022-08-22T08:05:03.623Z"
   },
   {
    "duration": 4,
    "start_time": "2022-08-22T08:05:28.015Z"
   },
   {
    "duration": 4,
    "start_time": "2022-08-22T08:05:29.260Z"
   },
   {
    "duration": 9,
    "start_time": "2022-08-22T08:06:12.448Z"
   },
   {
    "duration": 9,
    "start_time": "2022-08-22T08:10:34.189Z"
   },
   {
    "duration": 9,
    "start_time": "2022-08-22T08:11:09.719Z"
   },
   {
    "duration": 8,
    "start_time": "2022-08-22T08:12:24.712Z"
   },
   {
    "duration": 9,
    "start_time": "2022-08-22T08:13:33.590Z"
   },
   {
    "duration": 13,
    "start_time": "2022-08-22T08:19:12.720Z"
   },
   {
    "duration": 1106,
    "start_time": "2022-08-22T08:19:33.826Z"
   },
   {
    "duration": 36,
    "start_time": "2022-08-22T08:19:34.933Z"
   },
   {
    "duration": 4,
    "start_time": "2022-08-22T08:19:34.970Z"
   },
   {
    "duration": 13,
    "start_time": "2022-08-22T08:19:34.975Z"
   },
   {
    "duration": 9,
    "start_time": "2022-08-22T08:19:34.990Z"
   },
   {
    "duration": 81,
    "start_time": "2022-08-22T08:19:35.001Z"
   },
   {
    "duration": 11,
    "start_time": "2022-08-22T08:19:35.083Z"
   },
   {
    "duration": 10,
    "start_time": "2022-08-22T08:19:35.095Z"
   },
   {
    "duration": 11,
    "start_time": "2022-08-22T08:19:35.108Z"
   },
   {
    "duration": 21,
    "start_time": "2022-08-22T08:19:35.121Z"
   },
   {
    "duration": 7,
    "start_time": "2022-08-22T08:19:35.144Z"
   },
   {
    "duration": 10,
    "start_time": "2022-08-22T08:19:35.153Z"
   },
   {
    "duration": 20,
    "start_time": "2022-08-22T08:19:35.165Z"
   },
   {
    "duration": 89,
    "start_time": "2022-08-22T08:19:35.188Z"
   },
   {
    "duration": 0,
    "start_time": "2022-08-22T08:19:35.285Z"
   },
   {
    "duration": 0,
    "start_time": "2022-08-22T08:19:35.286Z"
   },
   {
    "duration": 0,
    "start_time": "2022-08-22T08:19:35.287Z"
   },
   {
    "duration": 0,
    "start_time": "2022-08-22T08:19:35.288Z"
   },
   {
    "duration": 0,
    "start_time": "2022-08-22T08:19:35.289Z"
   },
   {
    "duration": 0,
    "start_time": "2022-08-22T08:19:35.290Z"
   },
   {
    "duration": 0,
    "start_time": "2022-08-22T08:19:35.291Z"
   },
   {
    "duration": 0,
    "start_time": "2022-08-22T08:19:35.292Z"
   },
   {
    "duration": 0,
    "start_time": "2022-08-22T08:19:35.293Z"
   },
   {
    "duration": 0,
    "start_time": "2022-08-22T08:19:35.294Z"
   },
   {
    "duration": 0,
    "start_time": "2022-08-22T08:19:35.295Z"
   },
   {
    "duration": 0,
    "start_time": "2022-08-22T08:19:35.296Z"
   },
   {
    "duration": 0,
    "start_time": "2022-08-22T08:19:35.297Z"
   },
   {
    "duration": 0,
    "start_time": "2022-08-22T08:19:35.298Z"
   },
   {
    "duration": 0,
    "start_time": "2022-08-22T08:19:35.299Z"
   },
   {
    "duration": 0,
    "start_time": "2022-08-22T08:19:35.300Z"
   },
   {
    "duration": 0,
    "start_time": "2022-08-22T08:19:35.301Z"
   },
   {
    "duration": 0,
    "start_time": "2022-08-22T08:19:35.302Z"
   },
   {
    "duration": 0,
    "start_time": "2022-08-22T08:19:35.303Z"
   },
   {
    "duration": 0,
    "start_time": "2022-08-22T08:19:35.304Z"
   },
   {
    "duration": 0,
    "start_time": "2022-08-22T08:19:35.305Z"
   },
   {
    "duration": 0,
    "start_time": "2022-08-22T08:19:35.307Z"
   },
   {
    "duration": 0,
    "start_time": "2022-08-22T08:19:35.308Z"
   },
   {
    "duration": 0,
    "start_time": "2022-08-22T08:19:35.309Z"
   },
   {
    "duration": 15,
    "start_time": "2022-08-22T08:20:23.460Z"
   },
   {
    "duration": 10,
    "start_time": "2022-08-22T08:20:50.295Z"
   },
   {
    "duration": 12,
    "start_time": "2022-08-22T08:23:26.295Z"
   },
   {
    "duration": 14,
    "start_time": "2022-08-22T08:25:58.427Z"
   },
   {
    "duration": 11,
    "start_time": "2022-08-22T08:36:34.264Z"
   },
   {
    "duration": 1294,
    "start_time": "2022-08-22T08:53:11.106Z"
   },
   {
    "duration": 35,
    "start_time": "2022-08-22T08:53:12.402Z"
   },
   {
    "duration": 4,
    "start_time": "2022-08-22T08:53:12.439Z"
   },
   {
    "duration": 15,
    "start_time": "2022-08-22T08:53:12.444Z"
   },
   {
    "duration": 29,
    "start_time": "2022-08-22T08:53:12.461Z"
   },
   {
    "duration": 54,
    "start_time": "2022-08-22T08:53:12.492Z"
   },
   {
    "duration": 10,
    "start_time": "2022-08-22T08:53:12.547Z"
   },
   {
    "duration": 10,
    "start_time": "2022-08-22T08:53:12.558Z"
   },
   {
    "duration": 6,
    "start_time": "2022-08-22T08:53:12.569Z"
   },
   {
    "duration": 16,
    "start_time": "2022-08-22T08:53:12.577Z"
   },
   {
    "duration": 5,
    "start_time": "2022-08-22T08:53:12.595Z"
   },
   {
    "duration": 5,
    "start_time": "2022-08-22T08:53:12.601Z"
   },
   {
    "duration": 10,
    "start_time": "2022-08-22T08:53:12.607Z"
   },
   {
    "duration": 10,
    "start_time": "2022-08-22T08:53:12.619Z"
   },
   {
    "duration": 12,
    "start_time": "2022-08-22T08:53:12.631Z"
   },
   {
    "duration": 185,
    "start_time": "2022-08-22T08:53:12.644Z"
   },
   {
    "duration": 0,
    "start_time": "2022-08-22T08:53:12.832Z"
   },
   {
    "duration": 0,
    "start_time": "2022-08-22T08:53:12.833Z"
   },
   {
    "duration": 0,
    "start_time": "2022-08-22T08:53:12.834Z"
   },
   {
    "duration": 0,
    "start_time": "2022-08-22T08:53:12.836Z"
   },
   {
    "duration": 0,
    "start_time": "2022-08-22T08:53:12.837Z"
   },
   {
    "duration": 0,
    "start_time": "2022-08-22T08:53:12.838Z"
   },
   {
    "duration": 0,
    "start_time": "2022-08-22T08:53:12.840Z"
   },
   {
    "duration": 0,
    "start_time": "2022-08-22T08:53:12.841Z"
   },
   {
    "duration": 0,
    "start_time": "2022-08-22T08:53:12.842Z"
   },
   {
    "duration": 0,
    "start_time": "2022-08-22T08:53:12.844Z"
   },
   {
    "duration": 0,
    "start_time": "2022-08-22T08:53:12.845Z"
   },
   {
    "duration": 0,
    "start_time": "2022-08-22T08:53:12.847Z"
   },
   {
    "duration": 0,
    "start_time": "2022-08-22T08:53:12.848Z"
   },
   {
    "duration": 0,
    "start_time": "2022-08-22T08:53:12.849Z"
   },
   {
    "duration": 1,
    "start_time": "2022-08-22T08:53:12.850Z"
   },
   {
    "duration": 0,
    "start_time": "2022-08-22T08:53:12.851Z"
   },
   {
    "duration": 0,
    "start_time": "2022-08-22T08:53:12.852Z"
   },
   {
    "duration": 1,
    "start_time": "2022-08-22T08:53:12.853Z"
   },
   {
    "duration": 0,
    "start_time": "2022-08-22T08:53:12.855Z"
   },
   {
    "duration": 0,
    "start_time": "2022-08-22T08:53:12.856Z"
   },
   {
    "duration": 0,
    "start_time": "2022-08-22T08:53:12.857Z"
   },
   {
    "duration": 0,
    "start_time": "2022-08-22T08:53:12.858Z"
   },
   {
    "duration": 0,
    "start_time": "2022-08-22T08:53:12.859Z"
   },
   {
    "duration": 71,
    "start_time": "2022-08-22T08:53:53.003Z"
   },
   {
    "duration": 2,
    "start_time": "2022-08-22T09:01:03.066Z"
   },
   {
    "duration": 10,
    "start_time": "2022-08-22T09:01:36.125Z"
   },
   {
    "duration": 26,
    "start_time": "2022-08-22T09:07:39.911Z"
   },
   {
    "duration": 30,
    "start_time": "2022-08-22T09:07:53.011Z"
   },
   {
    "duration": 19,
    "start_time": "2022-08-22T09:09:14.876Z"
   },
   {
    "duration": 1596,
    "start_time": "2022-08-22T09:10:22.384Z"
   },
   {
    "duration": 1202,
    "start_time": "2022-08-22T09:10:30.799Z"
   },
   {
    "duration": 5,
    "start_time": "2022-08-22T09:10:52.096Z"
   },
   {
    "duration": 19,
    "start_time": "2022-08-22T09:11:43.579Z"
   },
   {
    "duration": 14,
    "start_time": "2022-08-22T09:29:41.418Z"
   },
   {
    "duration": 8,
    "start_time": "2022-08-22T09:30:09.328Z"
   },
   {
    "duration": 17,
    "start_time": "2022-08-22T09:30:15.370Z"
   },
   {
    "duration": 10,
    "start_time": "2022-08-22T09:33:57.848Z"
   },
   {
    "duration": 289,
    "start_time": "2022-08-22T09:34:49.628Z"
   },
   {
    "duration": 2,
    "start_time": "2022-08-22T09:36:35.634Z"
   },
   {
    "duration": 13,
    "start_time": "2022-08-22T09:42:19.992Z"
   },
   {
    "duration": 14,
    "start_time": "2022-08-22T09:43:40.279Z"
   },
   {
    "duration": 12,
    "start_time": "2022-08-22T09:43:54.336Z"
   },
   {
    "duration": 4,
    "start_time": "2022-08-22T09:44:01.176Z"
   },
   {
    "duration": 82,
    "start_time": "2022-08-22T09:44:47.280Z"
   },
   {
    "duration": 3,
    "start_time": "2022-08-22T09:44:52.224Z"
   },
   {
    "duration": 16,
    "start_time": "2022-08-22T09:47:55.927Z"
   },
   {
    "duration": 13,
    "start_time": "2022-08-22T09:48:06.876Z"
   },
   {
    "duration": 11,
    "start_time": "2022-08-22T09:48:18.479Z"
   },
   {
    "duration": 44,
    "start_time": "2022-08-22T09:52:58.048Z"
   },
   {
    "duration": 1074,
    "start_time": "2022-08-22T09:55:09.828Z"
   },
   {
    "duration": 35,
    "start_time": "2022-08-22T09:55:10.904Z"
   },
   {
    "duration": 5,
    "start_time": "2022-08-22T09:55:10.940Z"
   },
   {
    "duration": 13,
    "start_time": "2022-08-22T09:55:10.947Z"
   },
   {
    "duration": 10,
    "start_time": "2022-08-22T09:55:10.961Z"
   },
   {
    "duration": 53,
    "start_time": "2022-08-22T09:55:10.972Z"
   },
   {
    "duration": 10,
    "start_time": "2022-08-22T09:55:11.027Z"
   },
   {
    "duration": 7,
    "start_time": "2022-08-22T09:55:11.039Z"
   },
   {
    "duration": 6,
    "start_time": "2022-08-22T09:55:11.048Z"
   },
   {
    "duration": 14,
    "start_time": "2022-08-22T09:55:11.056Z"
   },
   {
    "duration": 5,
    "start_time": "2022-08-22T09:55:11.071Z"
   },
   {
    "duration": 4,
    "start_time": "2022-08-22T09:55:11.078Z"
   },
   {
    "duration": 9,
    "start_time": "2022-08-22T09:55:11.084Z"
   },
   {
    "duration": 11,
    "start_time": "2022-08-22T09:55:11.095Z"
   },
   {
    "duration": 8,
    "start_time": "2022-08-22T09:55:11.107Z"
   },
   {
    "duration": 12,
    "start_time": "2022-08-22T09:55:11.116Z"
   },
   {
    "duration": 3,
    "start_time": "2022-08-22T09:55:11.129Z"
   },
   {
    "duration": 5,
    "start_time": "2022-08-22T09:55:11.133Z"
   },
   {
    "duration": 298,
    "start_time": "2022-08-22T09:55:11.139Z"
   },
   {
    "duration": 250,
    "start_time": "2022-08-22T09:55:11.438Z"
   },
   {
    "duration": 191,
    "start_time": "2022-08-22T09:55:11.689Z"
   },
   {
    "duration": 280,
    "start_time": "2022-08-22T09:55:11.884Z"
   },
   {
    "duration": 183,
    "start_time": "2022-08-22T09:55:12.165Z"
   },
   {
    "duration": 314,
    "start_time": "2022-08-22T09:55:12.350Z"
   },
   {
    "duration": 19,
    "start_time": "2022-08-22T09:55:12.666Z"
   },
   {
    "duration": 135,
    "start_time": "2022-08-22T09:55:12.687Z"
   },
   {
    "duration": 6,
    "start_time": "2022-08-22T09:55:12.824Z"
   },
   {
    "duration": 159,
    "start_time": "2022-08-22T09:55:12.834Z"
   },
   {
    "duration": 4,
    "start_time": "2022-08-22T09:55:12.995Z"
   },
   {
    "duration": 301,
    "start_time": "2022-08-22T09:55:13.001Z"
   },
   {
    "duration": 6,
    "start_time": "2022-08-22T09:55:13.304Z"
   },
   {
    "duration": 7,
    "start_time": "2022-08-22T09:55:13.312Z"
   },
   {
    "duration": 8,
    "start_time": "2022-08-22T09:55:13.320Z"
   },
   {
    "duration": 20,
    "start_time": "2022-08-22T09:55:13.330Z"
   },
   {
    "duration": 35,
    "start_time": "2022-08-22T09:55:13.351Z"
   },
   {
    "duration": 8,
    "start_time": "2022-08-22T09:55:13.387Z"
   },
   {
    "duration": 9,
    "start_time": "2022-08-22T09:55:13.397Z"
   },
   {
    "duration": 21,
    "start_time": "2022-08-22T09:55:13.408Z"
   },
   {
    "duration": 12,
    "start_time": "2022-08-22T09:55:13.431Z"
   },
   {
    "duration": 340,
    "start_time": "2022-08-22T09:55:13.445Z"
   },
   {
    "duration": 300,
    "start_time": "2022-08-22T09:55:13.787Z"
   },
   {
    "duration": 8,
    "start_time": "2022-08-22T09:55:50.589Z"
   },
   {
    "duration": 13,
    "start_time": "2022-08-22T09:55:58.152Z"
   },
   {
    "duration": 1086,
    "start_time": "2022-08-22T09:56:07.508Z"
   },
   {
    "duration": 36,
    "start_time": "2022-08-22T09:56:08.596Z"
   },
   {
    "duration": 4,
    "start_time": "2022-08-22T09:56:08.633Z"
   },
   {
    "duration": 12,
    "start_time": "2022-08-22T09:56:08.639Z"
   },
   {
    "duration": 9,
    "start_time": "2022-08-22T09:56:08.653Z"
   },
   {
    "duration": 54,
    "start_time": "2022-08-22T09:56:08.663Z"
   },
   {
    "duration": 10,
    "start_time": "2022-08-22T09:56:08.718Z"
   },
   {
    "duration": 8,
    "start_time": "2022-08-22T09:56:08.730Z"
   },
   {
    "duration": 9,
    "start_time": "2022-08-22T09:56:08.739Z"
   },
   {
    "duration": 14,
    "start_time": "2022-08-22T09:56:08.752Z"
   },
   {
    "duration": 7,
    "start_time": "2022-08-22T09:56:08.768Z"
   },
   {
    "duration": 5,
    "start_time": "2022-08-22T09:56:08.777Z"
   },
   {
    "duration": 9,
    "start_time": "2022-08-22T09:56:08.783Z"
   },
   {
    "duration": 12,
    "start_time": "2022-08-22T09:56:08.793Z"
   },
   {
    "duration": 8,
    "start_time": "2022-08-22T09:56:08.806Z"
   },
   {
    "duration": 13,
    "start_time": "2022-08-22T09:56:08.815Z"
   },
   {
    "duration": 5,
    "start_time": "2022-08-22T09:56:08.830Z"
   },
   {
    "duration": 17,
    "start_time": "2022-08-22T09:56:08.837Z"
   },
   {
    "duration": 276,
    "start_time": "2022-08-22T09:56:08.855Z"
   },
   {
    "duration": 266,
    "start_time": "2022-08-22T09:56:09.132Z"
   },
   {
    "duration": 190,
    "start_time": "2022-08-22T09:56:09.399Z"
   },
   {
    "duration": 279,
    "start_time": "2022-08-22T09:56:09.591Z"
   },
   {
    "duration": 189,
    "start_time": "2022-08-22T09:56:09.872Z"
   },
   {
    "duration": 333,
    "start_time": "2022-08-22T09:56:10.063Z"
   },
   {
    "duration": 11,
    "start_time": "2022-08-22T09:56:10.397Z"
   },
   {
    "duration": 145,
    "start_time": "2022-08-22T09:56:10.409Z"
   },
   {
    "duration": 5,
    "start_time": "2022-08-22T09:56:10.555Z"
   },
   {
    "duration": 134,
    "start_time": "2022-08-22T09:56:10.562Z"
   },
   {
    "duration": 4,
    "start_time": "2022-08-22T09:56:10.697Z"
   },
   {
    "duration": 267,
    "start_time": "2022-08-22T09:56:10.703Z"
   },
   {
    "duration": 6,
    "start_time": "2022-08-22T09:56:10.971Z"
   },
   {
    "duration": 6,
    "start_time": "2022-08-22T09:56:10.985Z"
   },
   {
    "duration": 5,
    "start_time": "2022-08-22T09:56:10.992Z"
   },
   {
    "duration": 20,
    "start_time": "2022-08-22T09:56:10.998Z"
   },
   {
    "duration": 8,
    "start_time": "2022-08-22T09:56:11.019Z"
   },
   {
    "duration": 12,
    "start_time": "2022-08-22T09:56:11.029Z"
   },
   {
    "duration": 10,
    "start_time": "2022-08-22T09:56:11.042Z"
   },
   {
    "duration": 41,
    "start_time": "2022-08-22T09:56:11.053Z"
   },
   {
    "duration": 13,
    "start_time": "2022-08-22T09:56:11.096Z"
   },
   {
    "duration": 262,
    "start_time": "2022-08-22T09:56:11.111Z"
   },
   {
    "duration": 273,
    "start_time": "2022-08-22T09:56:11.374Z"
   },
   {
    "duration": 1179,
    "start_time": "2022-08-22T10:05:17.646Z"
   },
   {
    "duration": 37,
    "start_time": "2022-08-22T10:05:18.827Z"
   },
   {
    "duration": 6,
    "start_time": "2022-08-22T10:05:18.866Z"
   },
   {
    "duration": 14,
    "start_time": "2022-08-22T10:05:18.874Z"
   },
   {
    "duration": 12,
    "start_time": "2022-08-22T10:05:18.891Z"
   },
   {
    "duration": 60,
    "start_time": "2022-08-22T10:05:18.905Z"
   },
   {
    "duration": 11,
    "start_time": "2022-08-22T10:05:18.967Z"
   },
   {
    "duration": 20,
    "start_time": "2022-08-22T10:05:18.980Z"
   },
   {
    "duration": 22,
    "start_time": "2022-08-22T10:05:19.001Z"
   },
   {
    "duration": 34,
    "start_time": "2022-08-22T10:05:19.024Z"
   },
   {
    "duration": 30,
    "start_time": "2022-08-22T10:05:19.060Z"
   },
   {
    "duration": 32,
    "start_time": "2022-08-22T10:05:19.092Z"
   },
   {
    "duration": 13,
    "start_time": "2022-08-22T10:05:19.126Z"
   },
   {
    "duration": 17,
    "start_time": "2022-08-22T10:05:19.143Z"
   },
   {
    "duration": 14,
    "start_time": "2022-08-22T10:05:19.161Z"
   },
   {
    "duration": 24,
    "start_time": "2022-08-22T10:05:19.177Z"
   },
   {
    "duration": 20,
    "start_time": "2022-08-22T10:05:19.204Z"
   },
   {
    "duration": 34,
    "start_time": "2022-08-22T10:05:19.226Z"
   },
   {
    "duration": 276,
    "start_time": "2022-08-22T10:05:19.262Z"
   },
   {
    "duration": 271,
    "start_time": "2022-08-22T10:05:19.540Z"
   },
   {
    "duration": 194,
    "start_time": "2022-08-22T10:05:19.812Z"
   },
   {
    "duration": 283,
    "start_time": "2022-08-22T10:05:20.008Z"
   },
   {
    "duration": 181,
    "start_time": "2022-08-22T10:05:20.293Z"
   },
   {
    "duration": 301,
    "start_time": "2022-08-22T10:05:20.476Z"
   },
   {
    "duration": 10,
    "start_time": "2022-08-22T10:05:20.784Z"
   },
   {
    "duration": 137,
    "start_time": "2022-08-22T10:05:20.795Z"
   },
   {
    "duration": 4,
    "start_time": "2022-08-22T10:05:20.934Z"
   },
   {
    "duration": 134,
    "start_time": "2022-08-22T10:05:20.939Z"
   },
   {
    "duration": 11,
    "start_time": "2022-08-22T10:05:21.075Z"
   },
   {
    "duration": 287,
    "start_time": "2022-08-22T10:05:21.088Z"
   },
   {
    "duration": 11,
    "start_time": "2022-08-22T10:05:21.377Z"
   },
   {
    "duration": 8,
    "start_time": "2022-08-22T10:05:21.390Z"
   },
   {
    "duration": 6,
    "start_time": "2022-08-22T10:05:21.399Z"
   },
   {
    "duration": 21,
    "start_time": "2022-08-22T10:05:21.407Z"
   },
   {
    "duration": 10,
    "start_time": "2022-08-22T10:05:21.429Z"
   },
   {
    "duration": 8,
    "start_time": "2022-08-22T10:05:21.441Z"
   },
   {
    "duration": 8,
    "start_time": "2022-08-22T10:05:21.484Z"
   },
   {
    "duration": 28,
    "start_time": "2022-08-22T10:05:21.493Z"
   },
   {
    "duration": 13,
    "start_time": "2022-08-22T10:05:21.523Z"
   },
   {
    "duration": 359,
    "start_time": "2022-08-22T10:05:21.538Z"
   },
   {
    "duration": 277,
    "start_time": "2022-08-22T10:05:21.900Z"
   },
   {
    "duration": 1061,
    "start_time": "2022-08-22T10:08:38.625Z"
   },
   {
    "duration": 36,
    "start_time": "2022-08-22T10:08:39.688Z"
   },
   {
    "duration": 5,
    "start_time": "2022-08-22T10:08:39.725Z"
   },
   {
    "duration": 17,
    "start_time": "2022-08-22T10:08:39.731Z"
   },
   {
    "duration": 11,
    "start_time": "2022-08-22T10:08:39.750Z"
   },
   {
    "duration": 55,
    "start_time": "2022-08-22T10:08:39.762Z"
   },
   {
    "duration": 10,
    "start_time": "2022-08-22T10:08:39.819Z"
   },
   {
    "duration": 9,
    "start_time": "2022-08-22T10:08:39.831Z"
   },
   {
    "duration": 7,
    "start_time": "2022-08-22T10:08:39.842Z"
   },
   {
    "duration": 16,
    "start_time": "2022-08-22T10:08:39.850Z"
   },
   {
    "duration": 7,
    "start_time": "2022-08-22T10:08:39.868Z"
   },
   {
    "duration": 7,
    "start_time": "2022-08-22T10:08:39.877Z"
   },
   {
    "duration": 10,
    "start_time": "2022-08-22T10:08:39.886Z"
   },
   {
    "duration": 11,
    "start_time": "2022-08-22T10:08:39.899Z"
   },
   {
    "duration": 9,
    "start_time": "2022-08-22T10:08:39.912Z"
   },
   {
    "duration": 12,
    "start_time": "2022-08-22T10:08:39.922Z"
   },
   {
    "duration": 3,
    "start_time": "2022-08-22T10:08:39.935Z"
   },
   {
    "duration": 15,
    "start_time": "2022-08-22T10:08:39.940Z"
   },
   {
    "duration": 315,
    "start_time": "2022-08-22T10:08:39.956Z"
   },
   {
    "duration": 284,
    "start_time": "2022-08-22T10:08:40.273Z"
   },
   {
    "duration": 181,
    "start_time": "2022-08-22T10:08:40.559Z"
   },
   {
    "duration": 299,
    "start_time": "2022-08-22T10:08:40.742Z"
   },
   {
    "duration": 190,
    "start_time": "2022-08-22T10:08:41.043Z"
   },
   {
    "duration": 297,
    "start_time": "2022-08-22T10:08:41.235Z"
   },
   {
    "duration": 10,
    "start_time": "2022-08-22T10:08:41.533Z"
   },
   {
    "duration": 139,
    "start_time": "2022-08-22T10:08:41.545Z"
   },
   {
    "duration": 4,
    "start_time": "2022-08-22T10:08:41.686Z"
   },
   {
    "duration": 127,
    "start_time": "2022-08-22T10:08:41.692Z"
   },
   {
    "duration": 5,
    "start_time": "2022-08-22T10:08:41.820Z"
   },
   {
    "duration": 301,
    "start_time": "2022-08-22T10:08:41.826Z"
   },
   {
    "duration": 7,
    "start_time": "2022-08-22T10:08:42.128Z"
   },
   {
    "duration": 8,
    "start_time": "2022-08-22T10:08:42.137Z"
   },
   {
    "duration": 5,
    "start_time": "2022-08-22T10:08:42.147Z"
   },
   {
    "duration": 42,
    "start_time": "2022-08-22T10:08:42.153Z"
   },
   {
    "duration": 11,
    "start_time": "2022-08-22T10:08:42.196Z"
   },
   {
    "duration": 7,
    "start_time": "2022-08-22T10:08:42.208Z"
   },
   {
    "duration": 15,
    "start_time": "2022-08-22T10:08:42.217Z"
   },
   {
    "duration": 37,
    "start_time": "2022-08-22T10:08:42.233Z"
   },
   {
    "duration": 23,
    "start_time": "2022-08-22T10:08:42.271Z"
   },
   {
    "duration": 283,
    "start_time": "2022-08-22T10:08:42.296Z"
   },
   {
    "duration": 282,
    "start_time": "2022-08-22T10:08:42.586Z"
   },
   {
    "duration": 1088,
    "start_time": "2022-08-22T10:15:24.118Z"
   },
   {
    "duration": 35,
    "start_time": "2022-08-22T10:15:25.207Z"
   },
   {
    "duration": 4,
    "start_time": "2022-08-22T10:15:25.243Z"
   },
   {
    "duration": 11,
    "start_time": "2022-08-22T10:15:25.249Z"
   },
   {
    "duration": 10,
    "start_time": "2022-08-22T10:15:25.261Z"
   },
   {
    "duration": 53,
    "start_time": "2022-08-22T10:15:25.273Z"
   },
   {
    "duration": 9,
    "start_time": "2022-08-22T10:15:25.327Z"
   },
   {
    "duration": 6,
    "start_time": "2022-08-22T10:15:25.338Z"
   },
   {
    "duration": 8,
    "start_time": "2022-08-22T10:15:25.345Z"
   },
   {
    "duration": 13,
    "start_time": "2022-08-22T10:15:25.356Z"
   },
   {
    "duration": 6,
    "start_time": "2022-08-22T10:15:25.371Z"
   },
   {
    "duration": 10,
    "start_time": "2022-08-22T10:15:25.378Z"
   },
   {
    "duration": 8,
    "start_time": "2022-08-22T10:15:25.390Z"
   },
   {
    "duration": 11,
    "start_time": "2022-08-22T10:15:25.400Z"
   },
   {
    "duration": 9,
    "start_time": "2022-08-22T10:15:25.412Z"
   },
   {
    "duration": 12,
    "start_time": "2022-08-22T10:15:25.423Z"
   },
   {
    "duration": 3,
    "start_time": "2022-08-22T10:15:25.436Z"
   },
   {
    "duration": 17,
    "start_time": "2022-08-22T10:15:25.440Z"
   },
   {
    "duration": 282,
    "start_time": "2022-08-22T10:15:25.458Z"
   },
   {
    "duration": 239,
    "start_time": "2022-08-22T10:15:25.741Z"
   },
   {
    "duration": 191,
    "start_time": "2022-08-22T10:15:25.981Z"
   },
   {
    "duration": 299,
    "start_time": "2022-08-22T10:15:26.173Z"
   },
   {
    "duration": 199,
    "start_time": "2022-08-22T10:15:26.474Z"
   },
   {
    "duration": 299,
    "start_time": "2022-08-22T10:15:26.675Z"
   },
   {
    "duration": 17,
    "start_time": "2022-08-22T10:15:26.976Z"
   },
   {
    "duration": 156,
    "start_time": "2022-08-22T10:15:26.995Z"
   },
   {
    "duration": 5,
    "start_time": "2022-08-22T10:15:27.152Z"
   },
   {
    "duration": 137,
    "start_time": "2022-08-22T10:15:27.159Z"
   },
   {
    "duration": 3,
    "start_time": "2022-08-22T10:15:27.298Z"
   },
   {
    "duration": 276,
    "start_time": "2022-08-22T10:15:27.303Z"
   },
   {
    "duration": 8,
    "start_time": "2022-08-22T10:15:27.580Z"
   },
   {
    "duration": 8,
    "start_time": "2022-08-22T10:15:27.589Z"
   },
   {
    "duration": 6,
    "start_time": "2022-08-22T10:15:27.598Z"
   },
   {
    "duration": 24,
    "start_time": "2022-08-22T10:15:27.606Z"
   },
   {
    "duration": 12,
    "start_time": "2022-08-22T10:15:27.632Z"
   },
   {
    "duration": 8,
    "start_time": "2022-08-22T10:15:27.645Z"
   },
   {
    "duration": 34,
    "start_time": "2022-08-22T10:15:27.654Z"
   },
   {
    "duration": 24,
    "start_time": "2022-08-22T10:15:27.690Z"
   },
   {
    "duration": 13,
    "start_time": "2022-08-22T10:15:27.716Z"
   },
   {
    "duration": 334,
    "start_time": "2022-08-22T10:15:27.731Z"
   },
   {
    "duration": 299,
    "start_time": "2022-08-22T10:15:28.067Z"
   },
   {
    "duration": 1304,
    "start_time": "2022-08-22T20:33:15.990Z"
   },
   {
    "duration": 69,
    "start_time": "2022-08-22T20:33:17.296Z"
   },
   {
    "duration": 5,
    "start_time": "2022-08-22T20:33:17.366Z"
   },
   {
    "duration": 20,
    "start_time": "2022-08-22T20:33:17.372Z"
   },
   {
    "duration": 14,
    "start_time": "2022-08-22T20:33:17.394Z"
   },
   {
    "duration": 137,
    "start_time": "2022-08-22T20:33:17.409Z"
   },
   {
    "duration": 10,
    "start_time": "2022-08-22T20:33:17.548Z"
   },
   {
    "duration": 12,
    "start_time": "2022-08-22T20:33:17.560Z"
   },
   {
    "duration": 15,
    "start_time": "2022-08-22T20:33:17.574Z"
   },
   {
    "duration": 27,
    "start_time": "2022-08-22T20:33:17.591Z"
   },
   {
    "duration": 16,
    "start_time": "2022-08-22T20:33:17.620Z"
   },
   {
    "duration": 19,
    "start_time": "2022-08-22T20:33:17.638Z"
   },
   {
    "duration": 18,
    "start_time": "2022-08-22T20:33:17.659Z"
   },
   {
    "duration": 22,
    "start_time": "2022-08-22T20:33:17.681Z"
   },
   {
    "duration": 13,
    "start_time": "2022-08-22T20:33:17.705Z"
   },
   {
    "duration": 17,
    "start_time": "2022-08-22T20:33:17.720Z"
   },
   {
    "duration": 27,
    "start_time": "2022-08-22T20:33:17.739Z"
   },
   {
    "duration": 26,
    "start_time": "2022-08-22T20:33:17.768Z"
   },
   {
    "duration": 256,
    "start_time": "2022-08-22T20:33:17.796Z"
   },
   {
    "duration": 256,
    "start_time": "2022-08-22T20:33:18.054Z"
   },
   {
    "duration": 177,
    "start_time": "2022-08-22T20:33:18.311Z"
   },
   {
    "duration": 332,
    "start_time": "2022-08-22T20:33:18.489Z"
   },
   {
    "duration": 177,
    "start_time": "2022-08-22T20:33:18.823Z"
   },
   {
    "duration": 291,
    "start_time": "2022-08-22T20:33:19.002Z"
   },
   {
    "duration": 11,
    "start_time": "2022-08-22T20:33:19.299Z"
   },
   {
    "duration": 144,
    "start_time": "2022-08-22T20:33:19.312Z"
   },
   {
    "duration": 5,
    "start_time": "2022-08-22T20:33:19.457Z"
   },
   {
    "duration": 128,
    "start_time": "2022-08-22T20:33:19.463Z"
   },
   {
    "duration": 5,
    "start_time": "2022-08-22T20:33:19.599Z"
   },
   {
    "duration": 319,
    "start_time": "2022-08-22T20:33:19.606Z"
   },
   {
    "duration": 7,
    "start_time": "2022-08-22T20:33:19.928Z"
   },
   {
    "duration": 11,
    "start_time": "2022-08-22T20:33:19.937Z"
   },
   {
    "duration": 5,
    "start_time": "2022-08-22T20:33:19.950Z"
   },
   {
    "duration": 23,
    "start_time": "2022-08-22T20:33:19.957Z"
   },
   {
    "duration": 25,
    "start_time": "2022-08-22T20:33:19.982Z"
   },
   {
    "duration": 10,
    "start_time": "2022-08-22T20:33:20.008Z"
   },
   {
    "duration": 13,
    "start_time": "2022-08-22T20:33:20.020Z"
   },
   {
    "duration": 30,
    "start_time": "2022-08-22T20:33:20.035Z"
   },
   {
    "duration": 36,
    "start_time": "2022-08-22T20:33:20.067Z"
   },
   {
    "duration": 280,
    "start_time": "2022-08-22T20:33:20.105Z"
   },
   {
    "duration": 265,
    "start_time": "2022-08-22T20:33:20.399Z"
   },
   {
    "duration": 96,
    "start_time": "2022-11-09T14:56:09.045Z"
   },
   {
    "duration": 1435,
    "start_time": "2022-11-09T14:56:27.090Z"
   },
   {
    "duration": 61,
    "start_time": "2022-11-09T14:56:28.527Z"
   },
   {
    "duration": 5,
    "start_time": "2022-11-09T14:56:28.589Z"
   },
   {
    "duration": 15,
    "start_time": "2022-11-09T14:56:28.597Z"
   },
   {
    "duration": 13,
    "start_time": "2022-11-09T14:56:28.613Z"
   },
   {
    "duration": 109,
    "start_time": "2022-11-09T14:56:28.628Z"
   },
   {
    "duration": 13,
    "start_time": "2022-11-09T14:56:28.738Z"
   },
   {
    "duration": 8,
    "start_time": "2022-11-09T14:56:28.753Z"
   },
   {
    "duration": 10,
    "start_time": "2022-11-09T14:56:28.763Z"
   },
   {
    "duration": 17,
    "start_time": "2022-11-09T14:56:28.775Z"
   },
   {
    "duration": 21,
    "start_time": "2022-11-09T14:56:28.793Z"
   },
   {
    "duration": 15,
    "start_time": "2022-11-09T14:56:28.817Z"
   },
   {
    "duration": 20,
    "start_time": "2022-11-09T14:56:28.835Z"
   },
   {
    "duration": 25,
    "start_time": "2022-11-09T14:56:28.857Z"
   },
   {
    "duration": 21,
    "start_time": "2022-11-09T14:56:28.884Z"
   },
   {
    "duration": 23,
    "start_time": "2022-11-09T14:56:28.907Z"
   },
   {
    "duration": 8,
    "start_time": "2022-11-09T14:56:28.932Z"
   },
   {
    "duration": 23,
    "start_time": "2022-11-09T14:56:28.942Z"
   },
   {
    "duration": 326,
    "start_time": "2022-11-09T14:56:28.967Z"
   },
   {
    "duration": 295,
    "start_time": "2022-11-09T14:56:29.295Z"
   },
   {
    "duration": 232,
    "start_time": "2022-11-09T14:56:29.592Z"
   },
   {
    "duration": 364,
    "start_time": "2022-11-09T14:56:29.826Z"
   },
   {
    "duration": 208,
    "start_time": "2022-11-09T14:56:30.192Z"
   },
   {
    "duration": 335,
    "start_time": "2022-11-09T14:56:30.402Z"
   },
   {
    "duration": 13,
    "start_time": "2022-11-09T14:56:30.738Z"
   },
   {
    "duration": 170,
    "start_time": "2022-11-09T14:56:30.752Z"
   },
   {
    "duration": 5,
    "start_time": "2022-11-09T14:56:30.924Z"
   },
   {
    "duration": 163,
    "start_time": "2022-11-09T14:56:30.933Z"
   },
   {
    "duration": 5,
    "start_time": "2022-11-09T14:56:31.097Z"
   },
   {
    "duration": 299,
    "start_time": "2022-11-09T14:56:31.114Z"
   },
   {
    "duration": 8,
    "start_time": "2022-11-09T14:56:31.415Z"
   },
   {
    "duration": 9,
    "start_time": "2022-11-09T14:56:31.425Z"
   },
   {
    "duration": 8,
    "start_time": "2022-11-09T14:56:31.436Z"
   },
   {
    "duration": 30,
    "start_time": "2022-11-09T14:56:31.446Z"
   },
   {
    "duration": 41,
    "start_time": "2022-11-09T14:56:31.477Z"
   },
   {
    "duration": 9,
    "start_time": "2022-11-09T14:56:31.520Z"
   },
   {
    "duration": 10,
    "start_time": "2022-11-09T14:56:31.530Z"
   },
   {
    "duration": 31,
    "start_time": "2022-11-09T14:56:31.542Z"
   },
   {
    "duration": 14,
    "start_time": "2022-11-09T14:56:31.575Z"
   },
   {
    "duration": 72,
    "start_time": "2022-11-09T14:56:31.614Z"
   },
   {
    "duration": 0,
    "start_time": "2022-11-09T14:56:31.688Z"
   },
   {
    "duration": 73,
    "start_time": "2022-11-09T14:58:52.433Z"
   },
   {
    "duration": 321,
    "start_time": "2022-11-09T14:59:02.309Z"
   },
   {
    "duration": 1250,
    "start_time": "2022-11-09T14:59:14.633Z"
   },
   {
    "duration": 32,
    "start_time": "2022-11-09T14:59:15.885Z"
   },
   {
    "duration": 6,
    "start_time": "2022-11-09T14:59:15.918Z"
   },
   {
    "duration": 18,
    "start_time": "2022-11-09T14:59:15.926Z"
   },
   {
    "duration": 12,
    "start_time": "2022-11-09T14:59:15.946Z"
   },
   {
    "duration": 40,
    "start_time": "2022-11-09T14:59:15.960Z"
   },
   {
    "duration": 12,
    "start_time": "2022-11-09T14:59:16.001Z"
   },
   {
    "duration": 8,
    "start_time": "2022-11-09T14:59:16.015Z"
   },
   {
    "duration": 7,
    "start_time": "2022-11-09T14:59:16.025Z"
   },
   {
    "duration": 17,
    "start_time": "2022-11-09T14:59:16.034Z"
   },
   {
    "duration": 6,
    "start_time": "2022-11-09T14:59:16.053Z"
   },
   {
    "duration": 5,
    "start_time": "2022-11-09T14:59:16.061Z"
   },
   {
    "duration": 10,
    "start_time": "2022-11-09T14:59:16.068Z"
   },
   {
    "duration": 13,
    "start_time": "2022-11-09T14:59:16.114Z"
   },
   {
    "duration": 10,
    "start_time": "2022-11-09T14:59:16.128Z"
   },
   {
    "duration": 13,
    "start_time": "2022-11-09T14:59:16.140Z"
   },
   {
    "duration": 4,
    "start_time": "2022-11-09T14:59:16.155Z"
   },
   {
    "duration": 17,
    "start_time": "2022-11-09T14:59:16.160Z"
   },
   {
    "duration": 349,
    "start_time": "2022-11-09T14:59:16.179Z"
   },
   {
    "duration": 303,
    "start_time": "2022-11-09T14:59:16.530Z"
   },
   {
    "duration": 227,
    "start_time": "2022-11-09T14:59:16.835Z"
   },
   {
    "duration": 359,
    "start_time": "2022-11-09T14:59:17.064Z"
   },
   {
    "duration": 229,
    "start_time": "2022-11-09T14:59:17.425Z"
   },
   {
    "duration": 332,
    "start_time": "2022-11-09T14:59:17.656Z"
   },
   {
    "duration": 24,
    "start_time": "2022-11-09T14:59:17.990Z"
   },
   {
    "duration": 167,
    "start_time": "2022-11-09T14:59:18.016Z"
   },
   {
    "duration": 6,
    "start_time": "2022-11-09T14:59:18.186Z"
   },
   {
    "duration": 162,
    "start_time": "2022-11-09T14:59:18.193Z"
   },
   {
    "duration": 6,
    "start_time": "2022-11-09T14:59:18.357Z"
   },
   {
    "duration": 328,
    "start_time": "2022-11-09T14:59:18.365Z"
   },
   {
    "duration": 18,
    "start_time": "2022-11-09T14:59:18.695Z"
   },
   {
    "duration": 9,
    "start_time": "2022-11-09T14:59:18.715Z"
   },
   {
    "duration": 7,
    "start_time": "2022-11-09T14:59:18.726Z"
   },
   {
    "duration": 27,
    "start_time": "2022-11-09T14:59:18.735Z"
   },
   {
    "duration": 12,
    "start_time": "2022-11-09T14:59:18.763Z"
   },
   {
    "duration": 8,
    "start_time": "2022-11-09T14:59:18.813Z"
   },
   {
    "duration": 9,
    "start_time": "2022-11-09T14:59:18.823Z"
   },
   {
    "duration": 27,
    "start_time": "2022-11-09T14:59:18.834Z"
   },
   {
    "duration": 14,
    "start_time": "2022-11-09T14:59:18.863Z"
   },
   {
    "duration": 383,
    "start_time": "2022-11-09T14:59:18.880Z"
   },
   {
    "duration": 308,
    "start_time": "2022-11-09T14:59:19.267Z"
   }
  ],
  "kernelspec": {
   "display_name": "Python 3",
   "language": "python",
   "name": "python3"
  },
  "language_info": {
   "codemirror_mode": {
    "name": "ipython",
    "version": 3
   },
   "file_extension": ".py",
   "mimetype": "text/x-python",
   "name": "python",
   "nbconvert_exporter": "python",
   "pygments_lexer": "ipython3",
   "version": "3.8.3"
  },
  "toc": {
   "base_numbering": 1,
   "nav_menu": {},
   "number_sections": true,
   "sideBar": true,
   "skip_h1_title": true,
   "title_cell": "Содердание",
   "title_sidebar": "Содержание",
   "toc_cell": true,
   "toc_position": {
    "height": "calc(100% - 180px)",
    "left": "10px",
    "top": "150px",
    "width": "217px"
   },
   "toc_section_display": true,
   "toc_window_display": true
  }
 },
 "nbformat": 4,
 "nbformat_minor": 2
}
