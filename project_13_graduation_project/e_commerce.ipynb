{
 "cells": [
  {
   "cell_type": "markdown",
   "metadata": {
    "toc": true
   },
   "source": [
    "<h1>Содержание<span class=\"tocSkip\"></span></h1>\n",
    "<div class=\"toc\"><ul class=\"toc-item\"><li><span><a href=\"#Постановка-задачи\" data-toc-modified-id=\"Постановка-задачи-1\"><span class=\"toc-item-num\">1&nbsp;&nbsp;</span>Постановка задачи</a></span></li><li><span><a href=\"#Обзор-данных\" data-toc-modified-id=\"Обзор-данных-2\"><span class=\"toc-item-num\">2&nbsp;&nbsp;</span>Обзор данных</a></span><ul class=\"toc-item\"><li><span><a href=\"#Вывод\" data-toc-modified-id=\"Вывод-2.1\"><span class=\"toc-item-num\">2.1&nbsp;&nbsp;</span>Вывод</a></span></li></ul></li><li><span><a href=\"#Предобработка-данных\" data-toc-modified-id=\"Предобработка-данных-3\"><span class=\"toc-item-num\">3&nbsp;&nbsp;</span>Предобработка данных</a></span><ul class=\"toc-item\"><li><span><a href=\"#Подготовка-данных\" data-toc-modified-id=\"Подготовка-данных-3.1\"><span class=\"toc-item-num\">3.1&nbsp;&nbsp;</span>Подготовка данных</a></span><ul class=\"toc-item\"><li><span><a href=\"#Вывод\" data-toc-modified-id=\"Вывод-3.1.1\"><span class=\"toc-item-num\">3.1.1&nbsp;&nbsp;</span>Вывод</a></span></li></ul></li><li><span><a href=\"#Проверка-на-аномалии.\" data-toc-modified-id=\"Проверка-на-аномалии.-3.2\"><span class=\"toc-item-num\">3.2&nbsp;&nbsp;</span>Проверка на аномалии.</a></span><ul class=\"toc-item\"><li><span><a href=\"#Вывод\" data-toc-modified-id=\"Вывод-3.2.1\"><span class=\"toc-item-num\">3.2.1&nbsp;&nbsp;</span>Вывод</a></span></li></ul></li><li><span><a href=\"#Провести-дополнительные-расчеты\" data-toc-modified-id=\"Провести-дополнительные-расчеты-3.3\"><span class=\"toc-item-num\">3.3&nbsp;&nbsp;</span>Провести дополнительные расчеты</a></span><ul class=\"toc-item\"><li><span><a href=\"#Общая-стоимость-покупки---purchase\" data-toc-modified-id=\"Общая-стоимость-покупки---purchase-3.3.1\"><span class=\"toc-item-num\">3.3.1&nbsp;&nbsp;</span>Общая стоимость покупки - <code>purchase</code></a></span></li><li><span><a href=\"#Категоризация-групп-товаров\" data-toc-modified-id=\"Категоризация-групп-товаров-3.3.2\"><span class=\"toc-item-num\">3.3.2&nbsp;&nbsp;</span>Категоризация групп товаров</a></span></li><li><span><a href=\"#Категоризация-дат-покупки,-сезонность\" data-toc-modified-id=\"Категоризация-дат-покупки,-сезонность-3.3.3\"><span class=\"toc-item-num\">3.3.3&nbsp;&nbsp;</span>Категоризация дат покупки, сезонность</a></span></li><li><span><a href=\"#Выводы\" data-toc-modified-id=\"Выводы-3.3.4\"><span class=\"toc-item-num\">3.3.4&nbsp;&nbsp;</span>Выводы</a></span></li></ul></li></ul></li><li><span><a href=\"#Анализ-данных\" data-toc-modified-id=\"Анализ-данных-4\"><span class=\"toc-item-num\">4&nbsp;&nbsp;</span>Анализ данных</a></span><ul class=\"toc-item\"><li><span><a href=\"#Изучение-поведения-пользователей\" data-toc-modified-id=\"Изучение-поведения-пользователей-4.1\"><span class=\"toc-item-num\">4.1&nbsp;&nbsp;</span>Изучение поведения пользователей</a></span><ul class=\"toc-item\"><li><span><a href=\"#Вывод\" data-toc-modified-id=\"Вывод-4.1.1\"><span class=\"toc-item-num\">4.1.1&nbsp;&nbsp;</span>Вывод</a></span></li></ul></li><li><span><a href=\"#Кластеризация-пользователей\" data-toc-modified-id=\"Кластеризация-пользователей-4.2\"><span class=\"toc-item-num\">4.2&nbsp;&nbsp;</span>Кластеризация пользователей</a></span><ul class=\"toc-item\"><li><span><a href=\"#Статистика-средних-значений-признаков-для-кластеров\" data-toc-modified-id=\"Статистика-средних-значений-признаков-для-кластеров-4.2.1\"><span class=\"toc-item-num\">4.2.1&nbsp;&nbsp;</span>Статистика средних значений признаков для кластеров</a></span><ul class=\"toc-item\"><li><span><a href=\"#Вывод\" data-toc-modified-id=\"Вывод-4.2.1.1\"><span class=\"toc-item-num\">4.2.1.1&nbsp;&nbsp;</span>Вывод</a></span></li></ul></li><li><span><a href=\"#Распределения-признаков-для-кластеров\" data-toc-modified-id=\"Распределения-признаков-для-кластеров-4.2.2\"><span class=\"toc-item-num\">4.2.2&nbsp;&nbsp;</span>Распределения признаков для кластеров</a></span><ul class=\"toc-item\"><li><span><a href=\"#Вывод\" data-toc-modified-id=\"Вывод-4.2.2.1\"><span class=\"toc-item-num\">4.2.2.1&nbsp;&nbsp;</span>Вывод</a></span></li></ul></li></ul></li></ul></li><li><span><a href=\"#Проверка-гипотез\" data-toc-modified-id=\"Проверка-гипотез-5\"><span class=\"toc-item-num\">5&nbsp;&nbsp;</span>Проверка гипотез</a></span><ul class=\"toc-item\"><li><ul class=\"toc-item\"><li><span><a href=\"#Вывод\" data-toc-modified-id=\"Вывод-5.0.1\"><span class=\"toc-item-num\">5.0.1&nbsp;&nbsp;</span>Вывод</a></span></li></ul></li></ul></li><li><span><a href=\"#Выводы-и-предложения\" data-toc-modified-id=\"Выводы-и-предложения-6\"><span class=\"toc-item-num\">6&nbsp;&nbsp;</span>Выводы и предложения</a></span></li></ul></div>"
   ]
  },
  {
   "cell_type": "markdown",
   "metadata": {},
   "source": [
    "# E-commerce — Выявление профилей потребления"
   ]
  },
  {
   "cell_type": "markdown",
   "metadata": {},
   "source": [
    "## Постановка задачи"
   ]
  },
  {
   "cell_type": "markdown",
   "metadata": {},
   "source": [
    "**Заказчик** - Интернет-магазин  \n",
    "\n",
    "**Цель заказчика** - Создать рекламную рассылку   \n",
    "\n",
    "**Задача**  - Сегментировать покупателей по профилю потребления\n",
    "\n",
    "Входные данные — таблица с заказами. О качестве данных ничего не известно. Поэтому перед анализом понадобится обзор данных.\n",
    "\n",
    "Проверим данные на ошибки и оценим их влияние на исследование. На этапе предобработки поищем возможность исправить самые критичные ошибки данных.\n",
    "\n",
    "Таким образом, исследование пройдёт в четыре этапа:\n",
    "\n",
    "* Обзор данных.\n",
    "* Предобработка данных.\n",
    "* Анализ данных.\n",
    "* Проверка гипотез.\n",
    "* Сделаем выводы."
   ]
  },
  {
   "cell_type": "markdown",
   "metadata": {},
   "source": [
    "Согласно документации колонки в  ecommerce_dataset.csv :\n",
    "- `date` — дата заказа;\n",
    "- `customer_id` — идентификатор покупателя;\n",
    "- `order_id` — идентификатор заказа;\n",
    "- `product` — наименование товара;\n",
    "- `quantity` — количество товара в заказе;\n",
    "- `price` — цена товара."
   ]
  },
  {
   "cell_type": "markdown",
   "metadata": {},
   "source": [
    "## Обзор данных"
   ]
  },
  {
   "cell_type": "markdown",
   "metadata": {},
   "source": [
    "***Импортируем библиотеки:***"
   ]
  },
  {
   "cell_type": "code",
   "execution_count": 1,
   "metadata": {},
   "outputs": [],
   "source": [
    "import pandas as pd\n",
    "import datetime as dt\n",
    "import numpy as np\n",
    "import seaborn as sns\n",
    "import scipy.stats as st\n",
    "import matplotlib.pyplot as plt\n",
    "%matplotlib inline\n",
    "from pandas.plotting import register_matplotlib_converters\n",
    "import warnings\n",
    "# конвертеры, которые позволяют использовать типы pandas в matplotlib  \n",
    "register_matplotlib_converters()\n",
    "from sklearn.linear_model import LogisticRegression, Lasso, Ridge \n",
    "from sklearn.ensemble import RandomForestRegressor, GradientBoostingRegressor, RandomForestClassifier\n",
    "from sklearn.tree import DecisionTreeClassifier, DecisionTreeRegressor \n",
    "from sklearn.metrics import accuracy_score, precision_score, recall_score, f1_score\n",
    "from sklearn.metrics import roc_auc_score\n",
    "from sklearn.metrics import mean_absolute_error, mean_squared_error, r2_score\n",
    "from sklearn.model_selection import train_test_split\n",
    "from sklearn.preprocessing import StandardScaler\n",
    "from sklearn.cluster import KMeans\n",
    "from itertools import combinations\n",
    "from scipy.cluster.hierarchy import dendrogram, linkage"
   ]
  },
  {
   "cell_type": "markdown",
   "metadata": {},
   "source": [
    "***Читаем файл:***"
   ]
  },
  {
   "cell_type": "code",
   "execution_count": 2,
   "metadata": {},
   "outputs": [],
   "source": [
    "df = pd.read_csv('/datasets/ecommerce_dataset.csv')"
   ]
  },
  {
   "cell_type": "markdown",
   "metadata": {},
   "source": [
    "***Составим общее представление***"
   ]
  },
  {
   "cell_type": "code",
   "execution_count": 3,
   "metadata": {},
   "outputs": [
    {
     "name": "stdout",
     "output_type": "stream",
     "text": [
      "<class 'pandas.core.frame.DataFrame'>\n",
      "RangeIndex: 6737 entries, 0 to 6736\n",
      "Data columns (total 6 columns):\n",
      " #   Column       Non-Null Count  Dtype  \n",
      "---  ------       --------------  -----  \n",
      " 0   date         6737 non-null   int64  \n",
      " 1   customer_id  6737 non-null   object \n",
      " 2   order_id     6737 non-null   int64  \n",
      " 3   product      6737 non-null   object \n",
      " 4   quantity     6737 non-null   int64  \n",
      " 5   price        6737 non-null   float64\n",
      "dtypes: float64(1), int64(3), object(2)\n",
      "memory usage: 315.9+ KB\n"
     ]
    }
   ],
   "source": [
    "df.info()"
   ]
  },
  {
   "cell_type": "markdown",
   "metadata": {},
   "source": [
    "***Посмотрим на первые пять строк:***"
   ]
  },
  {
   "cell_type": "code",
   "execution_count": 4,
   "metadata": {},
   "outputs": [
    {
     "data": {
      "text/html": [
       "<div>\n",
       "<style scoped>\n",
       "    .dataframe tbody tr th:only-of-type {\n",
       "        vertical-align: middle;\n",
       "    }\n",
       "\n",
       "    .dataframe tbody tr th {\n",
       "        vertical-align: top;\n",
       "    }\n",
       "\n",
       "    .dataframe thead th {\n",
       "        text-align: right;\n",
       "    }\n",
       "</style>\n",
       "<table border=\"1\" class=\"dataframe\">\n",
       "  <thead>\n",
       "    <tr style=\"text-align: right;\">\n",
       "      <th></th>\n",
       "      <th>date</th>\n",
       "      <th>customer_id</th>\n",
       "      <th>order_id</th>\n",
       "      <th>product</th>\n",
       "      <th>quantity</th>\n",
       "      <th>price</th>\n",
       "    </tr>\n",
       "  </thead>\n",
       "  <tbody>\n",
       "    <tr>\n",
       "      <th>0</th>\n",
       "      <td>2018100100</td>\n",
       "      <td>ee47d746-6d2f-4d3c-9622-c31412542920</td>\n",
       "      <td>68477</td>\n",
       "      <td>Комнатное растение в горшке Алое Вера, d12, h30</td>\n",
       "      <td>1</td>\n",
       "      <td>142.0</td>\n",
       "    </tr>\n",
       "    <tr>\n",
       "      <th>1</th>\n",
       "      <td>2018100100</td>\n",
       "      <td>ee47d746-6d2f-4d3c-9622-c31412542920</td>\n",
       "      <td>68477</td>\n",
       "      <td>Комнатное растение в горшке Кофе Арабика, d12,...</td>\n",
       "      <td>1</td>\n",
       "      <td>194.0</td>\n",
       "    </tr>\n",
       "    <tr>\n",
       "      <th>2</th>\n",
       "      <td>2018100100</td>\n",
       "      <td>ee47d746-6d2f-4d3c-9622-c31412542920</td>\n",
       "      <td>68477</td>\n",
       "      <td>Радермахера d-12 см h-20 см</td>\n",
       "      <td>1</td>\n",
       "      <td>112.0</td>\n",
       "    </tr>\n",
       "    <tr>\n",
       "      <th>3</th>\n",
       "      <td>2018100100</td>\n",
       "      <td>ee47d746-6d2f-4d3c-9622-c31412542920</td>\n",
       "      <td>68477</td>\n",
       "      <td>Хризолидокарпус Лутесценс d-9 см</td>\n",
       "      <td>1</td>\n",
       "      <td>179.0</td>\n",
       "    </tr>\n",
       "    <tr>\n",
       "      <th>4</th>\n",
       "      <td>2018100100</td>\n",
       "      <td>ee47d746-6d2f-4d3c-9622-c31412542920</td>\n",
       "      <td>68477</td>\n",
       "      <td>Циперус Зумула d-12 см h-25 см</td>\n",
       "      <td>1</td>\n",
       "      <td>112.0</td>\n",
       "    </tr>\n",
       "  </tbody>\n",
       "</table>\n",
       "</div>"
      ],
      "text/plain": [
       "         date                           customer_id  order_id  \\\n",
       "0  2018100100  ee47d746-6d2f-4d3c-9622-c31412542920     68477   \n",
       "1  2018100100  ee47d746-6d2f-4d3c-9622-c31412542920     68477   \n",
       "2  2018100100  ee47d746-6d2f-4d3c-9622-c31412542920     68477   \n",
       "3  2018100100  ee47d746-6d2f-4d3c-9622-c31412542920     68477   \n",
       "4  2018100100  ee47d746-6d2f-4d3c-9622-c31412542920     68477   \n",
       "\n",
       "                                             product  quantity  price  \n",
       "0    Комнатное растение в горшке Алое Вера, d12, h30         1  142.0  \n",
       "1  Комнатное растение в горшке Кофе Арабика, d12,...         1  194.0  \n",
       "2                        Радермахера d-12 см h-20 см         1  112.0  \n",
       "3                   Хризолидокарпус Лутесценс d-9 см         1  179.0  \n",
       "4                     Циперус Зумула d-12 см h-25 см         1  112.0  "
      ]
     },
     "execution_count": 4,
     "metadata": {},
     "output_type": "execute_result"
    }
   ],
   "source": [
    "df.head()"
   ]
  },
  {
   "cell_type": "markdown",
   "metadata": {},
   "source": [
    "### Вывод"
   ]
  },
  {
   "cell_type": "markdown",
   "metadata": {},
   "source": [
    "В таблице 6737 строк и 6 столбцов.   \n",
    "Пропущенные значения отсутствуют.   \n",
    "Необходимо привести данные столбца `date` к нужному типу."
   ]
  },
  {
   "cell_type": "markdown",
   "metadata": {},
   "source": [
    "## Предобработка данных"
   ]
  },
  {
   "cell_type": "code",
   "execution_count": 5,
   "metadata": {},
   "outputs": [],
   "source": [
    "df = df.copy()"
   ]
  },
  {
   "cell_type": "markdown",
   "metadata": {},
   "source": [
    "### Подготовка данных"
   ]
  },
  {
   "cell_type": "markdown",
   "metadata": {},
   "source": [
    "***Приведем данные к нужному типу***"
   ]
  },
  {
   "cell_type": "code",
   "execution_count": 6,
   "metadata": {},
   "outputs": [
    {
     "data": {
      "text/plain": [
       "date           datetime64[ns]\n",
       "customer_id            object\n",
       "order_id                int64\n",
       "product                object\n",
       "quantity                int64\n",
       "price                 float64\n",
       "dtype: object"
      ]
     },
     "execution_count": 6,
     "metadata": {},
     "output_type": "execute_result"
    }
   ],
   "source": [
    "# преобразуем данные в столбце `date` в нужный формат datetime\n",
    "df['date'] = pd.to_datetime(df['date'], format='%Y%m%d%H')\n",
    "\n",
    "# проверим результат:\n",
    "df.dtypes"
   ]
  },
  {
   "cell_type": "code",
   "execution_count": 7,
   "metadata": {
    "scrolled": true
   },
   "outputs": [
    {
     "data": {
      "text/plain": [
       "0   2018-10-01\n",
       "1   2018-10-01\n",
       "2   2018-10-01\n",
       "3   2018-10-01\n",
       "4   2018-10-01\n",
       "Name: date, dtype: datetime64[ns]"
      ]
     },
     "execution_count": 7,
     "metadata": {},
     "output_type": "execute_result"
    }
   ],
   "source": [
    "df['date'].head()"
   ]
  },
  {
   "cell_type": "markdown",
   "metadata": {},
   "source": [
    "***Проверим на дубликаты без учета даты***"
   ]
  },
  {
   "cell_type": "code",
   "execution_count": 8,
   "metadata": {},
   "outputs": [
    {
     "name": "stdout",
     "output_type": "stream",
     "text": [
      "Найдено дубликатов заказов: 1864\n"
     ]
    }
   ],
   "source": [
    "#\n",
    "duplicate_orders = df.duplicated(subset=['customer_id', 'order_id', \n",
    "                                         'product', 'quantity', 'price']).sum()\n",
    "print('Найдено дубликатов заказов:', duplicate_orders)"
   ]
  },
  {
   "cell_type": "markdown",
   "metadata": {},
   "source": [
    "***Удалим дублирующие строки с заказами***"
   ]
  },
  {
   "cell_type": "code",
   "execution_count": 9,
   "metadata": {},
   "outputs": [
    {
     "data": {
      "text/plain": [
       "(4873, 6)"
      ]
     },
     "execution_count": 9,
     "metadata": {},
     "output_type": "execute_result"
    }
   ],
   "source": [
    "df =(\n",
    "    df\n",
    "    .drop_duplicates(subset=['customer_id', 'order_id', \n",
    "                             'product', 'quantity', 'price'])\n",
    "    .reset_index(drop=True)\n",
    ")\n",
    "df.shape"
   ]
  },
  {
   "cell_type": "code",
   "execution_count": 10,
   "metadata": {
    "scrolled": true
   },
   "outputs": [
    {
     "name": "stdout",
     "output_type": "stream",
     "text": [
      "Дубликтов заказов после удаления стало: 0\n"
     ]
    }
   ],
   "source": [
    "# проверим результат\n",
    "duplicate_orders = df.duplicated(subset=['customer_id', 'order_id', \n",
    "                                            'product', 'quantity', 'price']).sum()\n",
    "print('Дубликтов заказов после удаления стало:', duplicate_orders)"
   ]
  },
  {
   "cell_type": "markdown",
   "metadata": {},
   "source": [
    "#### Вывод\n",
    "Данные преобразованы, дублирующие строки удалены."
   ]
  },
  {
   "cell_type": "markdown",
   "metadata": {},
   "source": [
    "### Проверка на аномалии.\n",
    "Возможно есть отрицательные значения и т.п."
   ]
  },
  {
   "cell_type": "code",
   "execution_count": 11,
   "metadata": {},
   "outputs": [
    {
     "data": {
      "text/html": [
       "<div>\n",
       "<style scoped>\n",
       "    .dataframe tbody tr th:only-of-type {\n",
       "        vertical-align: middle;\n",
       "    }\n",
       "\n",
       "    .dataframe tbody tr th {\n",
       "        vertical-align: top;\n",
       "    }\n",
       "\n",
       "    .dataframe thead th {\n",
       "        text-align: right;\n",
       "    }\n",
       "</style>\n",
       "<table border=\"1\" class=\"dataframe\">\n",
       "  <thead>\n",
       "    <tr style=\"text-align: right;\">\n",
       "      <th></th>\n",
       "      <th>order_id</th>\n",
       "      <th>quantity</th>\n",
       "      <th>price</th>\n",
       "    </tr>\n",
       "  </thead>\n",
       "  <tbody>\n",
       "    <tr>\n",
       "      <th>count</th>\n",
       "      <td>4873.000000</td>\n",
       "      <td>4873.000000</td>\n",
       "      <td>4873.000000</td>\n",
       "    </tr>\n",
       "    <tr>\n",
       "      <th>mean</th>\n",
       "      <td>48231.287503</td>\n",
       "      <td>2.837472</td>\n",
       "      <td>514.749846</td>\n",
       "    </tr>\n",
       "    <tr>\n",
       "      <th>std</th>\n",
       "      <td>27341.349829</td>\n",
       "      <td>17.606813</td>\n",
       "      <td>944.455480</td>\n",
       "    </tr>\n",
       "    <tr>\n",
       "      <th>min</th>\n",
       "      <td>12624.000000</td>\n",
       "      <td>1.000000</td>\n",
       "      <td>9.000000</td>\n",
       "    </tr>\n",
       "    <tr>\n",
       "      <th>25%</th>\n",
       "      <td>14776.000000</td>\n",
       "      <td>1.000000</td>\n",
       "      <td>90.000000</td>\n",
       "    </tr>\n",
       "    <tr>\n",
       "      <th>50%</th>\n",
       "      <td>68860.000000</td>\n",
       "      <td>1.000000</td>\n",
       "      <td>150.000000</td>\n",
       "    </tr>\n",
       "    <tr>\n",
       "      <th>75%</th>\n",
       "      <td>70833.000000</td>\n",
       "      <td>1.000000</td>\n",
       "      <td>488.000000</td>\n",
       "    </tr>\n",
       "    <tr>\n",
       "      <th>max</th>\n",
       "      <td>73164.000000</td>\n",
       "      <td>1000.000000</td>\n",
       "      <td>14917.000000</td>\n",
       "    </tr>\n",
       "  </tbody>\n",
       "</table>\n",
       "</div>"
      ],
      "text/plain": [
       "           order_id     quantity         price\n",
       "count   4873.000000  4873.000000   4873.000000\n",
       "mean   48231.287503     2.837472    514.749846\n",
       "std    27341.349829    17.606813    944.455480\n",
       "min    12624.000000     1.000000      9.000000\n",
       "25%    14776.000000     1.000000     90.000000\n",
       "50%    68860.000000     1.000000    150.000000\n",
       "75%    70833.000000     1.000000    488.000000\n",
       "max    73164.000000  1000.000000  14917.000000"
      ]
     },
     "execution_count": 11,
     "metadata": {},
     "output_type": "execute_result"
    }
   ],
   "source": [
    "df.describe()"
   ]
  },
  {
   "cell_type": "markdown",
   "metadata": {},
   "source": [
    "***Посмотрим выбросы на графиках.***"
   ]
  },
  {
   "cell_type": "code",
   "execution_count": 12,
   "metadata": {},
   "outputs": [
    {
     "data": {
      "image/png": "[encoded data removed]",
      "text/plain": [
       "<Figure size 864x72 with 1 Axes>"
      ]
     },
     "metadata": {
      "needs_background": "light"
     },
     "output_type": "display_data"
    },
    {
     "data": {
      "image/png": "[encoded data removed]",
      "text/plain": [
       "<Figure size 864x72 with 1 Axes>"
      ]
     },
     "metadata": {
      "needs_background": "light"
     },
     "output_type": "display_data"
    }
   ],
   "source": [
    "for column in ['quantity', 'price']:    \n",
    "    g = sns.catplot(x=column, kind=\"box\", \n",
    "                    data= df, orient='h', palette = 'pastel')\n",
    "    g.fig.set_figwidth(12)\n",
    "    g.fig.set_figheight(1)\n",
    "plt.title('Данные с выбросами.'+ \"\\n\")\n",
    "plt.xlabel(column);"
   ]
  },
  {
   "cell_type": "code",
   "execution_count": 13,
   "metadata": {
    "scrolled": true
   },
   "outputs": [
    {
     "data": {
      "image/png": "[encoded data removed]",
      "text/plain": [
       "<Figure size 864x72 with 1 Axes>"
      ]
     },
     "metadata": {
      "needs_background": "light"
     },
     "output_type": "display_data"
    },
    {
     "data": {
      "image/png": "[encoded data removed]",
      "text/plain": [
       "<Figure size 864x72 with 1 Axes>"
      ]
     },
     "metadata": {
      "needs_background": "light"
     },
     "output_type": "display_data"
    }
   ],
   "source": [
    "for column in ['quantity', 'price']:    \n",
    "    g = sns.catplot(x=column, kind=\"box\", \n",
    "                    data= df, orient='h', palette = 'pastel', showfliers=False)\n",
    "    g.fig.set_figwidth(12)\n",
    "    g.fig.set_figheight(1)\n",
    "plt.title('Данные без выбросов.'+ \"\\n\")\n",
    "plt.xlabel(column);\n",
    "#"
   ]
  },
  {
   "cell_type": "code",
   "execution_count": 14,
   "metadata": {
    "scrolled": false
   },
   "outputs": [
    {
     "data": {
      "text/html": [
       "<div>\n",
       "<style scoped>\n",
       "    .dataframe tbody tr th:only-of-type {\n",
       "        vertical-align: middle;\n",
       "    }\n",
       "\n",
       "    .dataframe tbody tr th {\n",
       "        vertical-align: top;\n",
       "    }\n",
       "\n",
       "    .dataframe thead th {\n",
       "        text-align: right;\n",
       "    }\n",
       "</style>\n",
       "<table border=\"1\" class=\"dataframe\">\n",
       "  <thead>\n",
       "    <tr style=\"text-align: right;\">\n",
       "      <th></th>\n",
       "      <th>date</th>\n",
       "      <th>customer_id</th>\n",
       "      <th>order_id</th>\n",
       "      <th>product</th>\n",
       "      <th>quantity</th>\n",
       "      <th>price</th>\n",
       "    </tr>\n",
       "  </thead>\n",
       "  <tbody>\n",
       "    <tr>\n",
       "      <th>0</th>\n",
       "      <td>2018-10-01</td>\n",
       "      <td>ee47d746-6d2f-4d3c-9622-c31412542920</td>\n",
       "      <td>68477</td>\n",
       "      <td>Комнатное растение в горшке Алое Вера, d12, h30</td>\n",
       "      <td>1</td>\n",
       "      <td>142.0</td>\n",
       "    </tr>\n",
       "    <tr>\n",
       "      <th>1</th>\n",
       "      <td>2018-10-01</td>\n",
       "      <td>ee47d746-6d2f-4d3c-9622-c31412542920</td>\n",
       "      <td>68477</td>\n",
       "      <td>Комнатное растение в горшке Кофе Арабика, d12,...</td>\n",
       "      <td>1</td>\n",
       "      <td>194.0</td>\n",
       "    </tr>\n",
       "  </tbody>\n",
       "</table>\n",
       "</div>"
      ],
      "text/plain": [
       "        date                           customer_id  order_id  \\\n",
       "0 2018-10-01  ee47d746-6d2f-4d3c-9622-c31412542920     68477   \n",
       "1 2018-10-01  ee47d746-6d2f-4d3c-9622-c31412542920     68477   \n",
       "\n",
       "                                             product  quantity  price  \n",
       "0    Комнатное растение в горшке Алое Вера, d12, h30         1  142.0  \n",
       "1  Комнатное растение в горшке Кофе Арабика, d12,...         1  194.0  "
      ]
     },
     "execution_count": 14,
     "metadata": {},
     "output_type": "execute_result"
    }
   ],
   "source": [
    "df.head(2)"
   ]
  },
  {
   "cell_type": "markdown",
   "metadata": {},
   "source": [
    "***Проверим всегда ли уникальный `order_id` соответствует 1 уникальному `customer_id`:***"
   ]
  },
  {
   "cell_type": "code",
   "execution_count": 15,
   "metadata": {},
   "outputs": [
    {
     "data": {
      "text/html": [
       "<div>\n",
       "<style scoped>\n",
       "    .dataframe tbody tr th:only-of-type {\n",
       "        vertical-align: middle;\n",
       "    }\n",
       "\n",
       "    .dataframe tbody tr th {\n",
       "        vertical-align: top;\n",
       "    }\n",
       "\n",
       "    .dataframe thead th {\n",
       "        text-align: right;\n",
       "    }\n",
       "</style>\n",
       "<table border=\"1\" class=\"dataframe\">\n",
       "  <thead>\n",
       "    <tr style=\"text-align: right;\">\n",
       "      <th></th>\n",
       "      <th>order_id</th>\n",
       "      <th>customer_id</th>\n",
       "    </tr>\n",
       "  </thead>\n",
       "  <tbody>\n",
       "    <tr>\n",
       "      <th>2610</th>\n",
       "      <td>72845</td>\n",
       "      <td>4</td>\n",
       "    </tr>\n",
       "    <tr>\n",
       "      <th>1914</th>\n",
       "      <td>71480</td>\n",
       "      <td>3</td>\n",
       "    </tr>\n",
       "    <tr>\n",
       "      <th>902</th>\n",
       "      <td>69485</td>\n",
       "      <td>3</td>\n",
       "    </tr>\n",
       "    <tr>\n",
       "      <th>817</th>\n",
       "      <td>69310</td>\n",
       "      <td>2</td>\n",
       "    </tr>\n",
       "    <tr>\n",
       "      <th>1066</th>\n",
       "      <td>69833</td>\n",
       "      <td>2</td>\n",
       "    </tr>\n",
       "  </tbody>\n",
       "</table>\n",
       "</div>"
      ],
      "text/plain": [
       "      order_id  customer_id\n",
       "2610     72845            4\n",
       "1914     71480            3\n",
       "902      69485            3\n",
       "817      69310            2\n",
       "1066     69833            2"
      ]
     },
     "execution_count": 15,
     "metadata": {},
     "output_type": "execute_result"
    }
   ],
   "source": [
    "groupby_order = (\n",
    "    \n",
    "    df.groupby('order_id', as_index=False,)\n",
    "    .agg({'customer_id': 'nunique'})\n",
    "    .sort_values(by='customer_id', ascending=False)\n",
    ")\n",
    "groupby_order.head()"
   ]
  },
  {
   "cell_type": "code",
   "execution_count": 16,
   "metadata": {},
   "outputs": [
    {
     "name": "stdout",
     "output_type": "stream",
     "text": [
      "Найдено 29 задублированных номеров заказов.\n"
     ]
    }
   ],
   "source": [
    "print('Найдено', len(groupby_order.query('customer_id>1')), 'задублированных номеров заказов.')"
   ]
  },
  {
   "cell_type": "markdown",
   "metadata": {},
   "source": [
    "**Строки с этими заказами придется удалить.**"
   ]
  },
  {
   "cell_type": "code",
   "execution_count": 17,
   "metadata": {},
   "outputs": [
    {
     "data": {
      "text/plain": [
       "dtype('int64')"
      ]
     },
     "execution_count": 17,
     "metadata": {},
     "output_type": "execute_result"
    }
   ],
   "source": [
    "# создадим массив задублированных 'order_id'\n",
    "\n",
    "double_order = groupby_order.query('customer_id>1')\n",
    "new_array = double_order['order_id'].to_numpy()\n",
    "\n",
    "# проверим тип данных new_array  \n",
    "new_array.dtype"
   ]
  },
  {
   "cell_type": "code",
   "execution_count": 18,
   "metadata": {},
   "outputs": [
    {
     "data": {
      "text/plain": [
       "array([72845, 71480, 69485, 69310, 69833, 72790, 72778, 14872, 71542,\n",
       "       71054, 71663, 70726, 69531, 70542, 70903, 69283, 71226, 71571,\n",
       "       69410, 69345, 70808, 70114, 70631, 71461, 72950, 71648, 70946,\n",
       "       68785, 72188])"
      ]
     },
     "execution_count": 18,
     "metadata": {},
     "output_type": "execute_result"
    }
   ],
   "source": [
    "# \n",
    "new_array"
   ]
  },
  {
   "cell_type": "code",
   "execution_count": 19,
   "metadata": {},
   "outputs": [],
   "source": [
    "# удалим заказы из списка 'new_array' в нашем 'df'\n",
    "df = df.query('order_id not in @new_array')"
   ]
  },
  {
   "cell_type": "code",
   "execution_count": 20,
   "metadata": {},
   "outputs": [
    {
     "data": {
      "text/plain": [
       "(4807, 6)"
      ]
     },
     "execution_count": 20,
     "metadata": {},
     "output_type": "execute_result"
    }
   ],
   "source": [
    "df.shape"
   ]
  },
  {
   "cell_type": "markdown",
   "metadata": {},
   "source": [
    "#### Вывод\n",
    "Отрицательные значения отсутствуют.   \n",
    "Количество единиц в заказе `quantity`: минимум - 1, максимум -1000, среднее - 2.5, медиана - 1. Обратим внимание, что чаще всего встречается 1.   \n",
    "Стоимости за единицу `price` не содержит никаких подозрительных данных: 25% товаров стоит менее 100 руб., 75% товаров стоят меньше 400 руб., ещё 25% товаров стоит от 400 до 850 руб.  \n",
    "Строки с выявленными `order_id`, которым соответствуют более одного `customer_id`, были удалены"
   ]
  },
  {
   "cell_type": "markdown",
   "metadata": {},
   "source": [
    "### Провести дополнительные расчеты"
   ]
  },
  {
   "cell_type": "markdown",
   "metadata": {},
   "source": [
    "#### Общая стоимость покупки - `purchase` "
   ]
  },
  {
   "cell_type": "code",
   "execution_count": 21,
   "metadata": {},
   "outputs": [
    {
     "name": "stderr",
     "output_type": "stream",
     "text": [
      "/tmp/ipykernel_235/4227310414.py:1: SettingWithCopyWarning: \n",
      "A value is trying to be set on a copy of a slice from a DataFrame.\n",
      "Try using .loc[row_indexer,col_indexer] = value instead\n",
      "\n",
      "See the caveats in the documentation: https://pandas.pydata.org/pandas-docs/stable/user_guide/indexing.html#returning-a-view-versus-a-copy\n",
      "  df['purchase'] = df['quantity']*df['price']\n"
     ]
    }
   ],
   "source": [
    "df['purchase'] = df['quantity']*df['price']"
   ]
  },
  {
   "cell_type": "code",
   "execution_count": 22,
   "metadata": {},
   "outputs": [
    {
     "data": {
      "text/html": [
       "<div>\n",
       "<style scoped>\n",
       "    .dataframe tbody tr th:only-of-type {\n",
       "        vertical-align: middle;\n",
       "    }\n",
       "\n",
       "    .dataframe tbody tr th {\n",
       "        vertical-align: top;\n",
       "    }\n",
       "\n",
       "    .dataframe thead th {\n",
       "        text-align: right;\n",
       "    }\n",
       "</style>\n",
       "<table border=\"1\" class=\"dataframe\">\n",
       "  <thead>\n",
       "    <tr style=\"text-align: right;\">\n",
       "      <th></th>\n",
       "      <th>date</th>\n",
       "      <th>customer_id</th>\n",
       "      <th>order_id</th>\n",
       "      <th>product</th>\n",
       "      <th>quantity</th>\n",
       "      <th>price</th>\n",
       "      <th>purchase</th>\n",
       "    </tr>\n",
       "  </thead>\n",
       "  <tbody>\n",
       "    <tr>\n",
       "      <th>0</th>\n",
       "      <td>2018-10-01</td>\n",
       "      <td>ee47d746-6d2f-4d3c-9622-c31412542920</td>\n",
       "      <td>68477</td>\n",
       "      <td>Комнатное растение в горшке Алое Вера, d12, h30</td>\n",
       "      <td>1</td>\n",
       "      <td>142.0</td>\n",
       "      <td>142.0</td>\n",
       "    </tr>\n",
       "  </tbody>\n",
       "</table>\n",
       "</div>"
      ],
      "text/plain": [
       "        date                           customer_id  order_id  \\\n",
       "0 2018-10-01  ee47d746-6d2f-4d3c-9622-c31412542920     68477   \n",
       "\n",
       "                                           product  quantity  price  purchase  \n",
       "0  Комнатное растение в горшке Алое Вера, d12, h30         1  142.0     142.0  "
      ]
     },
     "execution_count": 22,
     "metadata": {},
     "output_type": "execute_result"
    }
   ],
   "source": [
    "df.head(1)"
   ]
  },
  {
   "cell_type": "markdown",
   "metadata": {},
   "source": [
    "#### Категоризация групп товаров"
   ]
  },
  {
   "cell_type": "markdown",
   "metadata": {},
   "source": [
    "Сначала избавимся от неявных дубликатов и приведем названия к общему виду таким образом, что бы по первому слову можно было отнести товар к той или иной категории. "
   ]
  },
  {
   "cell_type": "code",
   "execution_count": 23,
   "metadata": {},
   "outputs": [
    {
     "name": "stderr",
     "output_type": "stream",
     "text": [
      "/tmp/ipykernel_235/853989989.py:1: SettingWithCopyWarning: \n",
      "A value is trying to be set on a copy of a slice from a DataFrame.\n",
      "Try using .loc[row_indexer,col_indexer] = value instead\n",
      "\n",
      "See the caveats in the documentation: https://pandas.pydata.org/pandas-docs/stable/user_guide/indexing.html#returning-a-view-versus-a-copy\n",
      "  df['product'] = df['product'].str.replace('Ёрш', 'Ерш')\n",
      "/tmp/ipykernel_235/853989989.py:2: SettingWithCopyWarning: \n",
      "A value is trying to be set on a copy of a slice from a DataFrame.\n",
      "Try using .loc[row_indexer,col_indexer] = value instead\n",
      "\n",
      "See the caveats in the documentation: https://pandas.pydata.org/pandas-docs/stable/user_guide/indexing.html#returning-a-view-versus-a-copy\n",
      "  df['product'] = df['product'].str.replace('Автоматическая щетка', 'Щетка автоматическая')\n",
      "/tmp/ipykernel_235/853989989.py:3: SettingWithCopyWarning: \n",
      "A value is trying to be set on a copy of a slice from a DataFrame.\n",
      "Try using .loc[row_indexer,col_indexer] = value instead\n",
      "\n",
      "See the caveats in the documentation: https://pandas.pydata.org/pandas-docs/stable/user_guide/indexing.html#returning-a-view-versus-a-copy\n",
      "  df['product'] = df['product'].str.replace('Вакуумный пакет', 'Пакет вакуумный')\n",
      "/tmp/ipykernel_235/853989989.py:5: SettingWithCopyWarning: \n",
      "A value is trying to be set on a copy of a slice from a DataFrame.\n",
      "Try using .loc[row_indexer,col_indexer] = value instead\n",
      "\n",
      "See the caveats in the documentation: https://pandas.pydata.org/pandas-docs/stable/user_guide/indexing.html#returning-a-view-versus-a-copy\n",
      "  df['product'] = df['product'].str.replace('Гладильная доска', 'Доска гладильная')\n",
      "/tmp/ipykernel_235/853989989.py:6: SettingWithCopyWarning: \n",
      "A value is trying to be set on a copy of a slice from a DataFrame.\n",
      "Try using .loc[row_indexer,col_indexer] = value instead\n",
      "\n",
      "See the caveats in the documentation: https://pandas.pydata.org/pandas-docs/stable/user_guide/indexing.html#returning-a-view-versus-a-copy\n",
      "  df['product'] = df['product'].str.replace('Готовая скатерть', 'Скатерть готовая')\n",
      "/tmp/ipykernel_235/853989989.py:7: SettingWithCopyWarning: \n",
      "A value is trying to be set on a copy of a slice from a DataFrame.\n",
      "Try using .loc[row_indexer,col_indexer] = value instead\n",
      "\n",
      "See the caveats in the documentation: https://pandas.pydata.org/pandas-docs/stable/user_guide/indexing.html#returning-a-view-versus-a-copy\n",
      "  df['product'] = df['product'].str.replace('Жестяная банка', 'Банка жестяная')\n",
      "/tmp/ipykernel_235/853989989.py:9: SettingWithCopyWarning: \n",
      "A value is trying to be set on a copy of a slice from a DataFrame.\n",
      "Try using .loc[row_indexer,col_indexer] = value instead\n",
      "\n",
      "See the caveats in the documentation: https://pandas.pydata.org/pandas-docs/stable/user_guide/indexing.html#returning-a-view-versus-a-copy\n",
      "  df['product'] = df['product'].str.replace('Жидкое мыло', 'Мыло жидкое')\n",
      "/tmp/ipykernel_235/853989989.py:10: SettingWithCopyWarning: \n",
      "A value is trying to be set on a copy of a slice from a DataFrame.\n",
      "Try using .loc[row_indexer,col_indexer] = value instead\n",
      "\n",
      "See the caveats in the documentation: https://pandas.pydata.org/pandas-docs/stable/user_guide/indexing.html#returning-a-view-versus-a-copy\n",
      "  df['product'] = df['product'].str.replace('Ковер придверный', 'Коврик придверный')\n",
      "/tmp/ipykernel_235/853989989.py:11: SettingWithCopyWarning: \n",
      "A value is trying to be set on a copy of a slice from a DataFrame.\n",
      "Try using .loc[row_indexer,col_indexer] = value instead\n",
      "\n",
      "See the caveats in the documentation: https://pandas.pydata.org/pandas-docs/stable/user_guide/indexing.html#returning-a-view-versus-a-copy\n",
      "  df['product'] = df['product'].str.replace('Ковёр придверный', 'Коврик придверный')\n",
      "/tmp/ipykernel_235/853989989.py:13: SettingWithCopyWarning: \n",
      "A value is trying to be set on a copy of a slice from a DataFrame.\n",
      "Try using .loc[row_indexer,col_indexer] = value instead\n",
      "\n",
      "See the caveats in the documentation: https://pandas.pydata.org/pandas-docs/stable/user_guide/indexing.html#returning-a-view-versus-a-copy\n",
      "  df['product'] = df['product'].str.replace('Корзинка', 'Корзина')\n",
      "/tmp/ipykernel_235/853989989.py:14: SettingWithCopyWarning: \n",
      "A value is trying to be set on a copy of a slice from a DataFrame.\n",
      "Try using .loc[row_indexer,col_indexer] = value instead\n",
      "\n",
      "See the caveats in the documentation: https://pandas.pydata.org/pandas-docs/stable/user_guide/indexing.html#returning-a-view-versus-a-copy\n",
      "  df['product'] = df['product'].str.replace('Кухонное полотенце', 'Полотенце кухонное')\n",
      "/tmp/ipykernel_235/853989989.py:15: SettingWithCopyWarning: \n",
      "A value is trying to be set on a copy of a slice from a DataFrame.\n",
      "Try using .loc[row_indexer,col_indexer] = value instead\n",
      "\n",
      "See the caveats in the documentation: https://pandas.pydata.org/pandas-docs/stable/user_guide/indexing.html#returning-a-view-versus-a-copy\n",
      "  df['product'] = df['product'].str.replace('Кухонные ножницы', 'Ножницы кухонные')\n",
      "/tmp/ipykernel_235/853989989.py:17: SettingWithCopyWarning: \n",
      "A value is trying to be set on a copy of a slice from a DataFrame.\n",
      "Try using .loc[row_indexer,col_indexer] = value instead\n",
      "\n",
      "See the caveats in the documentation: https://pandas.pydata.org/pandas-docs/stable/user_guide/indexing.html#returning-a-view-versus-a-copy\n",
      "  df['product'] = df['product'].str.replace('Махровое полотенце', 'Полотенце махровое')\n",
      "/tmp/ipykernel_235/853989989.py:18: SettingWithCopyWarning: \n",
      "A value is trying to be set on a copy of a slice from a DataFrame.\n",
      "Try using .loc[row_indexer,col_indexer] = value instead\n",
      "\n",
      "See the caveats in the documentation: https://pandas.pydata.org/pandas-docs/stable/user_guide/indexing.html#returning-a-view-versus-a-copy\n",
      "  df['product'] = df['product'].str.replace('Махровый халат', 'Халат махровый')\n",
      "/tmp/ipykernel_235/853989989.py:19: SettingWithCopyWarning: \n",
      "A value is trying to be set on a copy of a slice from a DataFrame.\n",
      "Try using .loc[row_indexer,col_indexer] = value instead\n",
      "\n",
      "See the caveats in the documentation: https://pandas.pydata.org/pandas-docs/stable/user_guide/indexing.html#returning-a-view-versus-a-copy\n",
      "  df['product'] = df['product'].str.replace('Мерный стакан', 'Стакан мерный')\n",
      "/tmp/ipykernel_235/853989989.py:21: SettingWithCopyWarning: \n",
      "A value is trying to be set on a copy of a slice from a DataFrame.\n",
      "Try using .loc[row_indexer,col_indexer] = value instead\n",
      "\n",
      "See the caveats in the documentation: https://pandas.pydata.org/pandas-docs/stable/user_guide/indexing.html#returning-a-view-versus-a-copy\n",
      "  df['product'] = df['product'].str.replace('Настенная сушилка', 'Сушилка настенная')\n",
      "/tmp/ipykernel_235/853989989.py:22: SettingWithCopyWarning: \n",
      "A value is trying to be set on a copy of a slice from a DataFrame.\n",
      "Try using .loc[row_indexer,col_indexer] = value instead\n",
      "\n",
      "See the caveats in the documentation: https://pandas.pydata.org/pandas-docs/stable/user_guide/indexing.html#returning-a-view-versus-a-copy\n",
      "  df['product'] = df['product'].str.replace('Настольная гладильная доска', 'Доска гладильная настольная')\n",
      "/tmp/ipykernel_235/853989989.py:24: SettingWithCopyWarning: \n",
      "A value is trying to be set on a copy of a slice from a DataFrame.\n",
      "Try using .loc[row_indexer,col_indexer] = value instead\n",
      "\n",
      "See the caveats in the documentation: https://pandas.pydata.org/pandas-docs/stable/user_guide/indexing.html#returning-a-view-versus-a-copy\n",
      "  df['product'] = df['product'].str.replace('Нетканые салфетки', 'Салфетка нетканые')\n",
      "/tmp/ipykernel_235/853989989.py:25: SettingWithCopyWarning: \n",
      "A value is trying to be set on a copy of a slice from a DataFrame.\n",
      "Try using .loc[row_indexer,col_indexer] = value instead\n",
      "\n",
      "See the caveats in the documentation: https://pandas.pydata.org/pandas-docs/stable/user_guide/indexing.html#returning-a-view-versus-a-copy\n",
      "  df['product'] = df['product'].str.replace('Стиральный биопорошок', 'Порошок стиральныйбио')\n",
      "/tmp/ipykernel_235/853989989.py:26: SettingWithCopyWarning: \n",
      "A value is trying to be set on a copy of a slice from a DataFrame.\n",
      "Try using .loc[row_indexer,col_indexer] = value instead\n",
      "\n",
      "See the caveats in the documentation: https://pandas.pydata.org/pandas-docs/stable/user_guide/indexing.html#returning-a-view-versus-a-copy\n",
      "  df['product'] = df['product'].str.replace('Простынь', 'Простыня')\n",
      "/tmp/ipykernel_235/853989989.py:28: SettingWithCopyWarning: \n",
      "A value is trying to be set on a copy of a slice from a DataFrame.\n",
      "Try using .loc[row_indexer,col_indexer] = value instead\n",
      "\n",
      "See the caveats in the documentation: https://pandas.pydata.org/pandas-docs/stable/user_guide/indexing.html#returning-a-view-versus-a-copy\n",
      "  df['product'] = df['product'].str.replace('Разделочная доска', 'Доска разделочная')\n",
      "/tmp/ipykernel_235/853989989.py:29: SettingWithCopyWarning: \n",
      "A value is trying to be set on a copy of a slice from a DataFrame.\n",
      "Try using .loc[row_indexer,col_indexer] = value instead\n",
      "\n",
      "See the caveats in the documentation: https://pandas.pydata.org/pandas-docs/stable/user_guide/indexing.html#returning-a-view-versus-a-copy\n",
      "  df['product'] = df['product'].str.replace('Стеклянная крышка', 'Крышка стеклянная')\n",
      "/tmp/ipykernel_235/853989989.py:30: SettingWithCopyWarning: \n",
      "A value is trying to be set on a copy of a slice from a DataFrame.\n",
      "Try using .loc[row_indexer,col_indexer] = value instead\n",
      "\n",
      "See the caveats in the documentation: https://pandas.pydata.org/pandas-docs/stable/user_guide/indexing.html#returning-a-view-versus-a-copy\n",
      "  df['product'] = df['product'].str.replace('Стремянка', 'Лестница')\n",
      "/tmp/ipykernel_235/853989989.py:32: SettingWithCopyWarning: \n",
      "A value is trying to be set on a copy of a slice from a DataFrame.\n",
      "Try using .loc[row_indexer,col_indexer] = value instead\n",
      "\n",
      "See the caveats in the documentation: https://pandas.pydata.org/pandas-docs/stable/user_guide/indexing.html#returning-a-view-versus-a-copy\n",
      "  df['product'] = df['product'].str.replace('Столовая ложка', 'Ложка столовая')\n",
      "/tmp/ipykernel_235/853989989.py:33: SettingWithCopyWarning: \n",
      "A value is trying to be set on a copy of a slice from a DataFrame.\n",
      "Try using .loc[row_indexer,col_indexer] = value instead\n",
      "\n",
      "See the caveats in the documentation: https://pandas.pydata.org/pandas-docs/stable/user_guide/indexing.html#returning-a-view-versus-a-copy\n",
      "  df['product'] = df['product'].str.replace('Увлажняющая маска', 'Маска увлажняющая')\n",
      "/tmp/ipykernel_235/853989989.py:34: SettingWithCopyWarning: \n",
      "A value is trying to be set on a copy of a slice from a DataFrame.\n",
      "Try using .loc[row_indexer,col_indexer] = value instead\n",
      "\n",
      "See the caveats in the documentation: https://pandas.pydata.org/pandas-docs/stable/user_guide/indexing.html#returning-a-view-versus-a-copy\n",
      "  df['product'] = df['product'].str.replace('Универсальное средство', 'Средство универсальное')\n",
      "/tmp/ipykernel_235/853989989.py:36: SettingWithCopyWarning: \n",
      "A value is trying to be set on a copy of a slice from a DataFrame.\n",
      "Try using .loc[row_indexer,col_indexer] = value instead\n",
      "\n",
      "See the caveats in the documentation: https://pandas.pydata.org/pandas-docs/stable/user_guide/indexing.html#returning-a-view-versus-a-copy\n",
      "  df['product'] = df['product'].str.replace('Универсальный нож', 'Нож универсальный')\n",
      "/tmp/ipykernel_235/853989989.py:37: SettingWithCopyWarning: \n",
      "A value is trying to be set on a copy of a slice from a DataFrame.\n",
      "Try using .loc[row_indexer,col_indexer] = value instead\n",
      "\n",
      "See the caveats in the documentation: https://pandas.pydata.org/pandas-docs/stable/user_guide/indexing.html#returning-a-view-versus-a-copy\n",
      "  df['product'] = df['product'].str.replace('Фарфоровая кружка', 'Кружка фарфоровая')\n",
      "/tmp/ipykernel_235/853989989.py:38: SettingWithCopyWarning: \n",
      "A value is trying to be set on a copy of a slice from a DataFrame.\n",
      "Try using .loc[row_indexer,col_indexer] = value instead\n",
      "\n",
      "See the caveats in the documentation: https://pandas.pydata.org/pandas-docs/stable/user_guide/indexing.html#returning-a-view-versus-a-copy\n",
      "  df['product'] = df['product'].str.replace('Чайная ложка', 'Ложка чайная')\n",
      "/tmp/ipykernel_235/853989989.py:40: SettingWithCopyWarning: \n",
      "A value is trying to be set on a copy of a slice from a DataFrame.\n",
      "Try using .loc[row_indexer,col_indexer] = value instead\n",
      "\n",
      "See the caveats in the documentation: https://pandas.pydata.org/pandas-docs/stable/user_guide/indexing.html#returning-a-view-versus-a-copy\n",
      "  df['product'] = df['product'].str.replace('Чайный набор', 'Набор чайный')\n",
      "/tmp/ipykernel_235/853989989.py:41: SettingWithCopyWarning: \n",
      "A value is trying to be set on a copy of a slice from a DataFrame.\n",
      "Try using .loc[row_indexer,col_indexer] = value instead\n",
      "\n",
      "See the caveats in the documentation: https://pandas.pydata.org/pandas-docs/stable/user_guide/indexing.html#returning-a-view-versus-a-copy\n",
      "  df['product'] = df['product'].str.replace('Чистящий крем', 'Крем чистящий')\n",
      "/tmp/ipykernel_235/853989989.py:42: SettingWithCopyWarning: \n",
      "A value is trying to be set on a copy of a slice from a DataFrame.\n",
      "Try using .loc[row_indexer,col_indexer] = value instead\n",
      "\n",
      "See the caveats in the documentation: https://pandas.pydata.org/pandas-docs/stable/user_guide/indexing.html#returning-a-view-versus-a-copy\n",
      "  df['product'] = df['product'].str.replace('Чистящий крем', 'Крем чистящий')\n",
      "/tmp/ipykernel_235/853989989.py:44: SettingWithCopyWarning: \n",
      "A value is trying to be set on a copy of a slice from a DataFrame.\n",
      "Try using .loc[row_indexer,col_indexer] = value instead\n",
      "\n",
      "See the caveats in the documentation: https://pandas.pydata.org/pandas-docs/stable/user_guide/indexing.html#returning-a-view-versus-a-copy\n",
      "  df['product'] = df['product'].str.replace('Щётка', 'Щетка')\n",
      "/tmp/ipykernel_235/853989989.py:45: SettingWithCopyWarning: \n",
      "A value is trying to be set on a copy of a slice from a DataFrame.\n",
      "Try using .loc[row_indexer,col_indexer] = value instead\n",
      "\n",
      "See the caveats in the documentation: https://pandas.pydata.org/pandas-docs/stable/user_guide/indexing.html#returning-a-view-versus-a-copy\n",
      "  df['product'] = df['product'].str.replace('Плечики пластмассовые', 'Вешалка гардеробная')\n"
     ]
    }
   ],
   "source": [
    "df['product'] = df['product'].str.replace('Ёрш', 'Ерш')\n",
    "df['product'] = df['product'].str.replace('Автоматическая щетка', 'Щетка автоматическая')\n",
    "df['product'] = df['product'].str.replace('Вакуумный пакет', 'Пакет вакуумный')\n",
    "\n",
    "df['product'] = df['product'].str.replace('Гладильная доска', 'Доска гладильная')\n",
    "df['product'] = df['product'].str.replace('Готовая скатерть', 'Скатерть готовая')\n",
    "df['product'] = df['product'].str.replace('Жестяная банка', 'Банка жестяная')\n",
    "\n",
    "df['product'] = df['product'].str.replace('Жидкое мыло', 'Мыло жидкое')\n",
    "df['product'] = df['product'].str.replace('Ковер придверный', 'Коврик придверный')\n",
    "df['product'] = df['product'].str.replace('Ковёр придверный', 'Коврик придверный')\n",
    "\n",
    "df['product'] = df['product'].str.replace('Корзинка', 'Корзина')\n",
    "df['product'] = df['product'].str.replace('Кухонное полотенце', 'Полотенце кухонное')\n",
    "df['product'] = df['product'].str.replace('Кухонные ножницы', 'Ножницы кухонные')\n",
    "  \n",
    "df['product'] = df['product'].str.replace('Махровое полотенце', 'Полотенце махровое')\n",
    "df['product'] = df['product'].str.replace('Махровый халат', 'Халат махровый')\n",
    "df['product'] = df['product'].str.replace('Мерный стакан', 'Стакан мерный')\n",
    "\n",
    "df['product'] = df['product'].str.replace('Настенная сушилка', 'Сушилка настенная')\n",
    "df['product'] = df['product'].str.replace('Настольная гладильная доска', 'Доска гладильная настольная')\n",
    "\n",
    "df['product'] = df['product'].str.replace('Нетканые салфетки', 'Салфетка нетканые')\n",
    "df['product'] = df['product'].str.replace('Стиральный биопорошок', 'Порошок стиральныйбио')\n",
    "df['product'] = df['product'].str.replace('Простынь', 'Простыня')\n",
    "\n",
    "df['product'] = df['product'].str.replace('Разделочная доска', 'Доска разделочная')\n",
    "df['product'] = df['product'].str.replace('Стеклянная крышка', 'Крышка стеклянная')\n",
    "df['product'] = df['product'].str.replace('Стремянка', 'Лестница')\n",
    "\n",
    "df['product'] = df['product'].str.replace('Столовая ложка', 'Ложка столовая')\n",
    "df['product'] = df['product'].str.replace('Увлажняющая маска', 'Маска увлажняющая')\n",
    "df['product'] = df['product'].str.replace('Универсальное средство', 'Средство универсальное')\n",
    "\n",
    "df['product'] = df['product'].str.replace('Универсальный нож', 'Нож универсальный')\n",
    "df['product'] = df['product'].str.replace('Фарфоровая кружка', 'Кружка фарфоровая')\n",
    "df['product'] = df['product'].str.replace('Чайная ложка', 'Ложка чайная')\n",
    "\n",
    "df['product'] = df['product'].str.replace('Чайный набор', 'Набор чайный')\n",
    "df['product'] = df['product'].str.replace('Чистящий крем', 'Крем чистящий')\n",
    "df['product'] = df['product'].str.replace('Чистящий крем', 'Крем чистящий')\n",
    "\n",
    "df['product'] = df['product'].str.replace('Щётка', 'Щетка')\n",
    "df['product'] = df['product'].str.replace('Плечики пластмассовые', 'Вешалка гардеробная')"
   ]
  },
  {
   "cell_type": "code",
   "execution_count": 24,
   "metadata": {},
   "outputs": [
    {
     "name": "stderr",
     "output_type": "stream",
     "text": [
      "/tmp/ipykernel_235/4294214884.py:1: SettingWithCopyWarning: \n",
      "A value is trying to be set on a copy of a slice from a DataFrame.\n",
      "Try using .loc[row_indexer,col_indexer] = value instead\n",
      "\n",
      "See the caveats in the documentation: https://pandas.pydata.org/pandas-docs/stable/user_guide/indexing.html#returning-a-view-versus-a-copy\n",
      "  df['product'] = df['product'].str.replace('Щетка-сметка', 'Щетка -сметка')\n",
      "/tmp/ipykernel_235/4294214884.py:2: SettingWithCopyWarning: \n",
      "A value is trying to be set on a copy of a slice from a DataFrame.\n",
      "Try using .loc[row_indexer,col_indexer] = value instead\n",
      "\n",
      "See the caveats in the documentation: https://pandas.pydata.org/pandas-docs/stable/user_guide/indexing.html#returning-a-view-versus-a-copy\n",
      "  df['product'] = df['product'].str.replace('Щетка-утюжок', 'Щетка -утюжок')\n",
      "/tmp/ipykernel_235/4294214884.py:3: SettingWithCopyWarning: \n",
      "A value is trying to be set on a copy of a slice from a DataFrame.\n",
      "Try using .loc[row_indexer,col_indexer] = value instead\n",
      "\n",
      "See the caveats in the documentation: https://pandas.pydata.org/pandas-docs/stable/user_guide/indexing.html#returning-a-view-versus-a-copy\n",
      "  df['product'] = df['product'].str.replace('Урна-пепельница', 'Урна -пепельница')\n",
      "/tmp/ipykernel_235/4294214884.py:4: SettingWithCopyWarning: \n",
      "A value is trying to be set on a copy of a slice from a DataFrame.\n",
      "Try using .loc[row_indexer,col_indexer] = value instead\n",
      "\n",
      "See the caveats in the documentation: https://pandas.pydata.org/pandas-docs/stable/user_guide/indexing.html#returning-a-view-versus-a-copy\n",
      "  df['product'] = df['product'].str.replace('Сумка-тележка', 'Сумка -тележка')\n",
      "/tmp/ipykernel_235/4294214884.py:5: SettingWithCopyWarning: \n",
      "A value is trying to be set on a copy of a slice from a DataFrame.\n",
      "Try using .loc[row_indexer,col_indexer] = value instead\n",
      "\n",
      "See the caveats in the documentation: https://pandas.pydata.org/pandas-docs/stable/user_guide/indexing.html#returning-a-view-versus-a-copy\n",
      "  df['product'] = df['product'].str.replace('Стяжки', 'Стяжка')\n",
      "/tmp/ipykernel_235/4294214884.py:6: SettingWithCopyWarning: \n",
      "A value is trying to be set on a copy of a slice from a DataFrame.\n",
      "Try using .loc[row_indexer,col_indexer] = value instead\n",
      "\n",
      "See the caveats in the documentation: https://pandas.pydata.org/pandas-docs/stable/user_guide/indexing.html#returning-a-view-versus-a-copy\n",
      "  df['product'] = df['product'].str.replace('Столовыйнож', 'Нож столовый')\n",
      "/tmp/ipykernel_235/4294214884.py:7: SettingWithCopyWarning: \n",
      "A value is trying to be set on a copy of a slice from a DataFrame.\n",
      "Try using .loc[row_indexer,col_indexer] = value instead\n",
      "\n",
      "See the caveats in the documentation: https://pandas.pydata.org/pandas-docs/stable/user_guide/indexing.html#returning-a-view-versus-a-copy\n",
      "  df['product'] = df['product'].str.replace('Стремянки', 'Лестница')\n"
     ]
    }
   ],
   "source": [
    "df['product'] = df['product'].str.replace('Щетка-сметка', 'Щетка -сметка')\n",
    "df['product'] = df['product'].str.replace('Щетка-утюжок', 'Щетка -утюжок')\n",
    "df['product'] = df['product'].str.replace('Урна-пепельница', 'Урна -пепельница')\n",
    "df['product'] = df['product'].str.replace('Сумка-тележка', 'Сумка -тележка')\n",
    "df['product'] = df['product'].str.replace('Стяжки', 'Стяжка')\n",
    "df['product'] = df['product'].str.replace('Столовыйнож', 'Нож столовый')\n",
    "df['product'] = df['product'].str.replace('Стремянки', 'Лестница')"
   ]
  },
  {
   "cell_type": "code",
   "execution_count": 25,
   "metadata": {},
   "outputs": [
    {
     "name": "stderr",
     "output_type": "stream",
     "text": [
      "/tmp/ipykernel_235/3982725002.py:1: SettingWithCopyWarning: \n",
      "A value is trying to be set on a copy of a slice from a DataFrame.\n",
      "Try using .loc[row_indexer,col_indexer] = value instead\n",
      "\n",
      "See the caveats in the documentation: https://pandas.pydata.org/pandas-docs/stable/user_guide/indexing.html#returning-a-view-versus-a-copy\n",
      "  df['product'] = df['product'].str.replace('Сверло-фреза', 'Сверло -фреза')\n",
      "/tmp/ipykernel_235/3982725002.py:2: SettingWithCopyWarning: \n",
      "A value is trying to be set on a copy of a slice from a DataFrame.\n",
      "Try using .loc[row_indexer,col_indexer] = value instead\n",
      "\n",
      "See the caveats in the documentation: https://pandas.pydata.org/pandas-docs/stable/user_guide/indexing.html#returning-a-view-versus-a-copy\n",
      "  df['product'] = df['product'].str.replace('Ручка-скоба', 'Ручка -скоба')\n",
      "/tmp/ipykernel_235/3982725002.py:3: SettingWithCopyWarning: \n",
      "A value is trying to be set on a copy of a slice from a DataFrame.\n",
      "Try using .loc[row_indexer,col_indexer] = value instead\n",
      "\n",
      "See the caveats in the documentation: https://pandas.pydata.org/pandas-docs/stable/user_guide/indexing.html#returning-a-view-versus-a-copy\n",
      "  df['product'] = df['product'].str.replace('Петля-стрела', 'Петля -стрела')\n",
      "/tmp/ipykernel_235/3982725002.py:4: SettingWithCopyWarning: \n",
      "A value is trying to be set on a copy of a slice from a DataFrame.\n",
      "Try using .loc[row_indexer,col_indexer] = value instead\n",
      "\n",
      "See the caveats in the documentation: https://pandas.pydata.org/pandas-docs/stable/user_guide/indexing.html#returning-a-view-versus-a-copy\n",
      "  df['product'] = df['product'].str.replace('Насадка-моп', 'Насадка -моп')\n",
      "/tmp/ipykernel_235/3982725002.py:5: SettingWithCopyWarning: \n",
      "A value is trying to be set on a copy of a slice from a DataFrame.\n",
      "Try using .loc[row_indexer,col_indexer] = value instead\n",
      "\n",
      "See the caveats in the documentation: https://pandas.pydata.org/pandas-docs/stable/user_guide/indexing.html#returning-a-view-versus-a-copy\n",
      "  df['product'] = df['product'].str.replace('Насадка-отжим', 'Насадка -отжим')\n",
      "/tmp/ipykernel_235/3982725002.py:6: SettingWithCopyWarning: \n",
      "A value is trying to be set on a copy of a slice from a DataFrame.\n",
      "Try using .loc[row_indexer,col_indexer] = value instead\n",
      "\n",
      "See the caveats in the documentation: https://pandas.pydata.org/pandas-docs/stable/user_guide/indexing.html#returning-a-view-versus-a-copy\n",
      "  df['product'] = df['product'].str.replace('Набор вешалок', 'Вешалка набор')\n",
      "/tmp/ipykernel_235/3982725002.py:7: SettingWithCopyWarning: \n",
      "A value is trying to be set on a copy of a slice from a DataFrame.\n",
      "Try using .loc[row_indexer,col_indexer] = value instead\n",
      "\n",
      "See the caveats in the documentation: https://pandas.pydata.org/pandas-docs/stable/user_guide/indexing.html#returning-a-view-versus-a-copy\n",
      "  df['product'] = df['product'].str.replace('Набор инструментов', 'Инструмент набор')\n",
      "/tmp/ipykernel_235/3982725002.py:8: SettingWithCopyWarning: \n",
      "A value is trying to be set on a copy of a slice from a DataFrame.\n",
      "Try using .loc[row_indexer,col_indexer] = value instead\n",
      "\n",
      "See the caveats in the documentation: https://pandas.pydata.org/pandas-docs/stable/user_guide/indexing.html#returning-a-view-versus-a-copy\n",
      "  df['product'] = df['product'].str.replace('Набор ковров', 'Коврик набор')\n",
      "/tmp/ipykernel_235/3982725002.py:9: SettingWithCopyWarning: \n",
      "A value is trying to be set on a copy of a slice from a DataFrame.\n",
      "Try using .loc[row_indexer,col_indexer] = value instead\n",
      "\n",
      "See the caveats in the documentation: https://pandas.pydata.org/pandas-docs/stable/user_guide/indexing.html#returning-a-view-versus-a-copy\n",
      "  df['product'] = df['product'].str.replace('Набор кухонных', 'Полотенце кухонное набор')\n",
      "/tmp/ipykernel_235/3982725002.py:10: SettingWithCopyWarning: \n",
      "A value is trying to be set on a copy of a slice from a DataFrame.\n",
      "Try using .loc[row_indexer,col_indexer] = value instead\n",
      "\n",
      "See the caveats in the documentation: https://pandas.pydata.org/pandas-docs/stable/user_guide/indexing.html#returning-a-view-versus-a-copy\n",
      "  df['product'] = df['product'].str.replace('Набор махровых', 'Полотенце махровое набор')\n",
      "/tmp/ipykernel_235/3982725002.py:11: SettingWithCopyWarning: \n",
      "A value is trying to be set on a copy of a slice from a DataFrame.\n",
      "Try using .loc[row_indexer,col_indexer] = value instead\n",
      "\n",
      "See the caveats in the documentation: https://pandas.pydata.org/pandas-docs/stable/user_guide/indexing.html#returning-a-view-versus-a-copy\n",
      "  df['product'] = df['product'].str.replace('Набор прищепок', 'Прищепки набор')\n",
      "/tmp/ipykernel_235/3982725002.py:12: SettingWithCopyWarning: \n",
      "A value is trying to be set on a copy of a slice from a DataFrame.\n",
      "Try using .loc[row_indexer,col_indexer] = value instead\n",
      "\n",
      "See the caveats in the documentation: https://pandas.pydata.org/pandas-docs/stable/user_guide/indexing.html#returning-a-view-versus-a-copy\n",
      "  df['product'] = df['product'].str.replace('Набор сверел', 'Сверло набор')\n",
      "/tmp/ipykernel_235/3982725002.py:13: SettingWithCopyWarning: \n",
      "A value is trying to be set on a copy of a slice from a DataFrame.\n",
      "Try using .loc[row_indexer,col_indexer] = value instead\n",
      "\n",
      "See the caveats in the documentation: https://pandas.pydata.org/pandas-docs/stable/user_guide/indexing.html#returning-a-view-versus-a-copy\n",
      "  df['product'] = df['product'].str.replace('Мыло-скраб', 'Мыло -скраб')\n",
      "/tmp/ipykernel_235/3982725002.py:14: SettingWithCopyWarning: \n",
      "A value is trying to be set on a copy of a slice from a DataFrame.\n",
      "Try using .loc[row_indexer,col_indexer] = value instead\n",
      "\n",
      "See the caveats in the documentation: https://pandas.pydata.org/pandas-docs/stable/user_guide/indexing.html#returning-a-view-versus-a-copy\n",
      "  df['product'] = df['product'].str.replace('Мусорный контейнер', 'Контейнер мусорный')\n",
      "/tmp/ipykernel_235/3982725002.py:15: SettingWithCopyWarning: \n",
      "A value is trying to be set on a copy of a slice from a DataFrame.\n",
      "Try using .loc[row_indexer,col_indexer] = value instead\n",
      "\n",
      "See the caveats in the documentation: https://pandas.pydata.org/pandas-docs/stable/user_guide/indexing.html#returning-a-view-versus-a-copy\n",
      "  df['product'] = df['product'].str.replace('Мини-сковорода', 'Сковорода -мини')\n",
      "/tmp/ipykernel_235/3982725002.py:16: SettingWithCopyWarning: \n",
      "A value is trying to be set on a copy of a slice from a DataFrame.\n",
      "Try using .loc[row_indexer,col_indexer] = value instead\n",
      "\n",
      "See the caveats in the documentation: https://pandas.pydata.org/pandas-docs/stable/user_guide/indexing.html#returning-a-view-versus-a-copy\n",
      "  df['product'] = df['product'].str.replace('Мантоварка-пароварка', 'Мантоварка -пароварка')\n",
      "/tmp/ipykernel_235/3982725002.py:17: SettingWithCopyWarning: \n",
      "A value is trying to be set on a copy of a slice from a DataFrame.\n",
      "Try using .loc[row_indexer,col_indexer] = value instead\n",
      "\n",
      "See the caveats in the documentation: https://pandas.pydata.org/pandas-docs/stable/user_guide/indexing.html#returning-a-view-versus-a-copy\n",
      "  df['product'] = df['product'].str.replace('Лестница-стремянка', 'Лестница -стремянка')\n",
      "/tmp/ipykernel_235/3982725002.py:18: SettingWithCopyWarning: \n",
      "A value is trying to be set on a copy of a slice from a DataFrame.\n",
      "Try using .loc[row_indexer,col_indexer] = value instead\n",
      "\n",
      "See the caveats in the documentation: https://pandas.pydata.org/pandas-docs/stable/user_guide/indexing.html#returning-a-view-versus-a-copy\n",
      "  df['product'] = df['product'].str.replace('Лестница-табурет', 'Лестница -табурет')\n",
      "/tmp/ipykernel_235/3982725002.py:19: SettingWithCopyWarning: \n",
      "A value is trying to be set on a copy of a slice from a DataFrame.\n",
      "Try using .loc[row_indexer,col_indexer] = value instead\n",
      "\n",
      "See the caveats in the documentation: https://pandas.pydata.org/pandas-docs/stable/user_guide/indexing.html#returning-a-view-versus-a-copy\n",
      "  df['product'] = df['product'].str.replace('Ароматизированное средство', 'Средство ароматизированное')\n",
      "/tmp/ipykernel_235/3982725002.py:20: SettingWithCopyWarning: \n",
      "A value is trying to be set on a copy of a slice from a DataFrame.\n",
      "Try using .loc[row_indexer,col_indexer] = value instead\n",
      "\n",
      "See the caveats in the documentation: https://pandas.pydata.org/pandas-docs/stable/user_guide/indexing.html#returning-a-view-versus-a-copy\n",
      "  df['product'] = df['product'].str.replace('Бельевые прищепки', 'Прищепки бельевые')\n",
      "/tmp/ipykernel_235/3982725002.py:21: SettingWithCopyWarning: \n",
      "A value is trying to be set on a copy of a slice from a DataFrame.\n",
      "Try using .loc[row_indexer,col_indexer] = value instead\n",
      "\n",
      "See the caveats in the documentation: https://pandas.pydata.org/pandas-docs/stable/user_guide/indexing.html#returning-a-view-versus-a-copy\n",
      "  df['product'] = df['product'].str.replace('Вешалки мягкие', 'Вешалка мягкая')\n",
      "/tmp/ipykernel_235/3982725002.py:22: SettingWithCopyWarning: \n",
      "A value is trying to be set on a copy of a slice from a DataFrame.\n",
      "Try using .loc[row_indexer,col_indexer] = value instead\n",
      "\n",
      "See the caveats in the documentation: https://pandas.pydata.org/pandas-docs/stable/user_guide/indexing.html#returning-a-view-versus-a-copy\n",
      "  df['product'] = df['product'].str.replace('Вешалка-перекладина', 'Вешалка -перекладина')\n",
      "/tmp/ipykernel_235/3982725002.py:23: SettingWithCopyWarning: \n",
      "A value is trying to be set on a copy of a slice from a DataFrame.\n",
      "Try using .loc[row_indexer,col_indexer] = value instead\n",
      "\n",
      "See the caveats in the documentation: https://pandas.pydata.org/pandas-docs/stable/user_guide/indexing.html#returning-a-view-versus-a-copy\n",
      "  df['product'] = df['product'].str.replace('Вешалка-плечики', 'Вешалка -плечики')\n",
      "/tmp/ipykernel_235/3982725002.py:24: SettingWithCopyWarning: \n",
      "A value is trying to be set on a copy of a slice from a DataFrame.\n",
      "Try using .loc[row_indexer,col_indexer] = value instead\n",
      "\n",
      "See the caveats in the documentation: https://pandas.pydata.org/pandas-docs/stable/user_guide/indexing.html#returning-a-view-versus-a-copy\n",
      "  df['product'] = df['product'].str.replace('Вешалка-стойка', 'Вешалка -стойка')\n",
      "/tmp/ipykernel_235/3982725002.py:25: SettingWithCopyWarning: \n",
      "A value is trying to be set on a copy of a slice from a DataFrame.\n",
      "Try using .loc[row_indexer,col_indexer] = value instead\n",
      "\n",
      "See the caveats in the documentation: https://pandas.pydata.org/pandas-docs/stable/user_guide/indexing.html#returning-a-view-versus-a-copy\n",
      "  df['product'] = df['product'].str.replace('Вешалка-сушилка', 'Вешалка -сушилка')\n",
      "/tmp/ipykernel_235/3982725002.py:27: SettingWithCopyWarning: \n",
      "A value is trying to be set on a copy of a slice from a DataFrame.\n",
      "Try using .loc[row_indexer,col_indexer] = value instead\n",
      "\n",
      "See the caveats in the documentation: https://pandas.pydata.org/pandas-docs/stable/user_guide/indexing.html#returning-a-view-versus-a-copy\n",
      "  df['product'] = df['product'].str.replace('Tepмокружка', 'Термокружка')\n",
      "/tmp/ipykernel_235/3982725002.py:28: SettingWithCopyWarning: \n",
      "A value is trying to be set on a copy of a slice from a DataFrame.\n",
      "Try using .loc[row_indexer,col_indexer] = value instead\n",
      "\n",
      "See the caveats in the documentation: https://pandas.pydata.org/pandas-docs/stable/user_guide/indexing.html#returning-a-view-versus-a-copy\n",
      "  df['product'] = df['product'].str.replace('Наматрацник', 'Наматрасник')\n",
      "/tmp/ipykernel_235/3982725002.py:29: SettingWithCopyWarning: \n",
      "A value is trying to be set on a copy of a slice from a DataFrame.\n",
      "Try using .loc[row_indexer,col_indexer] = value instead\n",
      "\n",
      "See the caveats in the documentation: https://pandas.pydata.org/pandas-docs/stable/user_guide/indexing.html#returning-a-view-versus-a-copy\n",
      "  df['product'] = df['product'].str.replace('Наматрицник-чехол', 'Наматрасник -чехол')\n",
      "/tmp/ipykernel_235/3982725002.py:30: SettingWithCopyWarning: \n",
      "A value is trying to be set on a copy of a slice from a DataFrame.\n",
      "Try using .loc[row_indexer,col_indexer] = value instead\n",
      "\n",
      "See the caveats in the documentation: https://pandas.pydata.org/pandas-docs/stable/user_guide/indexing.html#returning-a-view-versus-a-copy\n",
      "  df['product'] = df['product'].str.replace('Полки', 'Полка')\n"
     ]
    }
   ],
   "source": [
    "df['product'] = df['product'].str.replace('Сверло-фреза', 'Сверло -фреза')\n",
    "df['product'] = df['product'].str.replace('Ручка-скоба', 'Ручка -скоба')\n",
    "df['product'] = df['product'].str.replace('Петля-стрела', 'Петля -стрела')\n",
    "df['product'] = df['product'].str.replace('Насадка-моп', 'Насадка -моп')\n",
    "df['product'] = df['product'].str.replace('Насадка-отжим', 'Насадка -отжим')\n",
    "df['product'] = df['product'].str.replace('Набор вешалок', 'Вешалка набор')\n",
    "df['product'] = df['product'].str.replace('Набор инструментов', 'Инструмент набор')\n",
    "df['product'] = df['product'].str.replace('Набор ковров', 'Коврик набор')\n",
    "df['product'] = df['product'].str.replace('Набор кухонных', 'Полотенце кухонное набор')\n",
    "df['product'] = df['product'].str.replace('Набор махровых', 'Полотенце махровое набор')\n",
    "df['product'] = df['product'].str.replace('Набор прищепок', 'Прищепки набор')\n",
    "df['product'] = df['product'].str.replace('Набор сверел', 'Сверло набор')\n",
    "df['product'] = df['product'].str.replace('Мыло-скраб', 'Мыло -скраб')\n",
    "df['product'] = df['product'].str.replace('Мусорный контейнер', 'Контейнер мусорный')\n",
    "df['product'] = df['product'].str.replace('Мини-сковорода', 'Сковорода -мини')\n",
    "df['product'] = df['product'].str.replace('Мантоварка-пароварка', 'Мантоварка -пароварка')\n",
    "df['product'] = df['product'].str.replace('Лестница-стремянка', 'Лестница -стремянка')\n",
    "df['product'] = df['product'].str.replace('Лестница-табурет', 'Лестница -табурет')\n",
    "df['product'] = df['product'].str.replace('Ароматизированное средство', 'Средство ароматизированное')\n",
    "df['product'] = df['product'].str.replace('Бельевые прищепки', 'Прищепки бельевые')\n",
    "df['product'] = df['product'].str.replace('Вешалки мягкие', 'Вешалка мягкая')\n",
    "df['product'] = df['product'].str.replace('Вешалка-перекладина', 'Вешалка -перекладина')\n",
    "df['product'] = df['product'].str.replace('Вешалка-плечики', 'Вешалка -плечики')\n",
    "df['product'] = df['product'].str.replace('Вешалка-стойка', 'Вешалка -стойка')\n",
    "df['product'] = df['product'].str.replace('Вешалка-сушилка', 'Вешалка -сушилка')\n",
    "\n",
    "df['product'] = df['product'].str.replace('Tepмокружка', 'Термокружка')\n",
    "df['product'] = df['product'].str.replace('Наматрацник', 'Наматрасник')\n",
    "df['product'] = df['product'].str.replace('Наматрицник-чехол', 'Наматрасник -чехол')\n",
    "df['product'] = df['product'].str.replace('Полки', 'Полка')"
   ]
  },
  {
   "cell_type": "markdown",
   "metadata": {},
   "source": [
    "Создадим столбец `name_product`, который будет содержать первое слово из наименования товара:"
   ]
  },
  {
   "cell_type": "code",
   "execution_count": 26,
   "metadata": {
    "scrolled": false
   },
   "outputs": [
    {
     "name": "stderr",
     "output_type": "stream",
     "text": [
      "/tmp/ipykernel_235/3749919557.py:1: SettingWithCopyWarning: \n",
      "A value is trying to be set on a copy of a slice from a DataFrame.\n",
      "Try using .loc[row_indexer,col_indexer] = value instead\n",
      "\n",
      "See the caveats in the documentation: https://pandas.pydata.org/pandas-docs/stable/user_guide/indexing.html#returning-a-view-versus-a-copy\n",
      "  df['name_product'] = df['product'].str.split(\" \")\n",
      "/tmp/ipykernel_235/3749919557.py:2: SettingWithCopyWarning: \n",
      "A value is trying to be set on a copy of a slice from a DataFrame.\n",
      "Try using .loc[row_indexer,col_indexer] = value instead\n",
      "\n",
      "See the caveats in the documentation: https://pandas.pydata.org/pandas-docs/stable/user_guide/indexing.html#returning-a-view-versus-a-copy\n",
      "  df['name_product'] = df['name_product'].apply(lambda x: x[0])\n"
     ]
    },
    {
     "data": {
      "text/html": [
       "<div>\n",
       "<style scoped>\n",
       "    .dataframe tbody tr th:only-of-type {\n",
       "        vertical-align: middle;\n",
       "    }\n",
       "\n",
       "    .dataframe tbody tr th {\n",
       "        vertical-align: top;\n",
       "    }\n",
       "\n",
       "    .dataframe thead th {\n",
       "        text-align: right;\n",
       "    }\n",
       "</style>\n",
       "<table border=\"1\" class=\"dataframe\">\n",
       "  <thead>\n",
       "    <tr style=\"text-align: right;\">\n",
       "      <th></th>\n",
       "      <th>date</th>\n",
       "      <th>customer_id</th>\n",
       "      <th>order_id</th>\n",
       "      <th>product</th>\n",
       "      <th>quantity</th>\n",
       "      <th>price</th>\n",
       "      <th>purchase</th>\n",
       "      <th>name_product</th>\n",
       "    </tr>\n",
       "  </thead>\n",
       "  <tbody>\n",
       "    <tr>\n",
       "      <th>0</th>\n",
       "      <td>2018-10-01</td>\n",
       "      <td>ee47d746-6d2f-4d3c-9622-c31412542920</td>\n",
       "      <td>68477</td>\n",
       "      <td>Комнатное растение в горшке Алое Вера, d12, h30</td>\n",
       "      <td>1</td>\n",
       "      <td>142.0</td>\n",
       "      <td>142.0</td>\n",
       "      <td>Комнатное</td>\n",
       "    </tr>\n",
       "    <tr>\n",
       "      <th>1</th>\n",
       "      <td>2018-10-01</td>\n",
       "      <td>ee47d746-6d2f-4d3c-9622-c31412542920</td>\n",
       "      <td>68477</td>\n",
       "      <td>Комнатное растение в горшке Кофе Арабика, d12,...</td>\n",
       "      <td>1</td>\n",
       "      <td>194.0</td>\n",
       "      <td>194.0</td>\n",
       "      <td>Комнатное</td>\n",
       "    </tr>\n",
       "    <tr>\n",
       "      <th>2</th>\n",
       "      <td>2018-10-01</td>\n",
       "      <td>ee47d746-6d2f-4d3c-9622-c31412542920</td>\n",
       "      <td>68477</td>\n",
       "      <td>Радермахера d-12 см h-20 см</td>\n",
       "      <td>1</td>\n",
       "      <td>112.0</td>\n",
       "      <td>112.0</td>\n",
       "      <td>Радермахера</td>\n",
       "    </tr>\n",
       "  </tbody>\n",
       "</table>\n",
       "</div>"
      ],
      "text/plain": [
       "        date                           customer_id  order_id  \\\n",
       "0 2018-10-01  ee47d746-6d2f-4d3c-9622-c31412542920     68477   \n",
       "1 2018-10-01  ee47d746-6d2f-4d3c-9622-c31412542920     68477   \n",
       "2 2018-10-01  ee47d746-6d2f-4d3c-9622-c31412542920     68477   \n",
       "\n",
       "                                             product  quantity  price  \\\n",
       "0    Комнатное растение в горшке Алое Вера, d12, h30         1  142.0   \n",
       "1  Комнатное растение в горшке Кофе Арабика, d12,...         1  194.0   \n",
       "2                        Радермахера d-12 см h-20 см         1  112.0   \n",
       "\n",
       "   purchase name_product  \n",
       "0     142.0    Комнатное  \n",
       "1     194.0    Комнатное  \n",
       "2     112.0  Радермахера  "
      ]
     },
     "execution_count": 26,
     "metadata": {},
     "output_type": "execute_result"
    }
   ],
   "source": [
    "df['name_product'] = df['product'].str.split(\" \")\n",
    "df['name_product'] = df['name_product'].apply(lambda x: x[0])\n",
    "#\n",
    "df.head(3)"
   ]
  },
  {
   "cell_type": "code",
   "execution_count": 27,
   "metadata": {
    "scrolled": true
   },
   "outputs": [
    {
     "data": {
      "text/plain": [
       "['Агератум',\n",
       " 'Адиантум',\n",
       " 'Азалия',\n",
       " 'Аквилегия',\n",
       " 'Алиссум',\n",
       " 'Алоэ',\n",
       " 'Альбука',\n",
       " 'Амариллис',\n",
       " 'Анемона',\n",
       " 'Антижир',\n",
       " 'Антинакипин',\n",
       " 'Антуриум',\n",
       " 'Аптения',\n",
       " 'Арбуз',\n",
       " 'Аргирантерум',\n",
       " 'Артемизия',\n",
       " 'Аспарагус',\n",
       " 'Астра',\n",
       " 'Афеляндра',\n",
       " 'Бадан',\n",
       " 'Базилик',\n",
       " 'Бак',\n",
       " 'Баклажан',\n",
       " 'Бакопа',\n",
       " 'Бальзам',\n",
       " 'Бальзамин',\n",
       " 'Банка',\n",
       " 'Барвинок',\n",
       " 'Бархатцы',\n",
       " 'Бегония',\n",
       " 'Бензин',\n",
       " 'Бидон',\n",
       " 'Блюдо',\n",
       " 'Блюдце',\n",
       " 'Буддлея',\n",
       " 'Бузульник',\n",
       " 'Бульонница',\n",
       " 'Ваза',\n",
       " 'Валериана',\n",
       " 'Ванна',\n",
       " 'Вантуз',\n",
       " 'Ведро',\n",
       " 'Веник',\n",
       " 'Венчик',\n",
       " 'Вербейник',\n",
       " 'Вербена',\n",
       " 'Веревка',\n",
       " 'Вероника',\n",
       " 'Весы',\n",
       " 'Вешалка',\n",
       " 'Вигна',\n",
       " 'Вилка',\n",
       " 'Виола',\n",
       " 'Вкладыши',\n",
       " 'Газания',\n",
       " 'Гайлардия',\n",
       " 'Гардения',\n",
       " 'Гвоздика',\n",
       " 'Георгина',\n",
       " 'Герань',\n",
       " 'Гербера',\n",
       " 'Гиацинт',\n",
       " 'Гимнокалициум',\n",
       " 'Гиностемма',\n",
       " 'Гипоаллергенный',\n",
       " 'Гипсофила',\n",
       " 'Глоксиния',\n",
       " 'Годеция',\n",
       " 'Горох',\n",
       " 'Гортензия',\n",
       " 'Губка',\n",
       " 'Двуспальное',\n",
       " 'Девичий',\n",
       " 'Декабрист',\n",
       " 'Декоративная',\n",
       " 'Дендробиум',\n",
       " 'Держатель',\n",
       " 'Джункус',\n",
       " 'Диффенбахия',\n",
       " 'Дозатор',\n",
       " 'Доска',\n",
       " 'Драцена',\n",
       " 'Душица',\n",
       " 'Дыня',\n",
       " 'Ель',\n",
       " 'Емкость',\n",
       " 'Ерш',\n",
       " 'Завертка',\n",
       " 'Замиокулькас',\n",
       " 'Запасная',\n",
       " 'Защитная',\n",
       " 'Защитный',\n",
       " 'Зверобой',\n",
       " 'Земляника',\n",
       " 'Змееголовник',\n",
       " 'Зубная',\n",
       " 'Измельчитель',\n",
       " 'Измерительный',\n",
       " 'Импатиенс',\n",
       " 'Инструмент',\n",
       " 'Искусственная',\n",
       " 'Искусственный',\n",
       " 'Иссоп',\n",
       " 'Кабачок',\n",
       " 'Каланхое',\n",
       " 'Калатея',\n",
       " 'Календула',\n",
       " 'Калибрахоа',\n",
       " 'Калла',\n",
       " 'Каллуна',\n",
       " 'Калоцефалус',\n",
       " 'Камнеломка',\n",
       " 'Кампанула',\n",
       " 'Капсикум',\n",
       " 'Капуста',\n",
       " 'Карниз',\n",
       " 'Картофелемялка',\n",
       " 'Кастрюля',\n",
       " 'Кипарисовик',\n",
       " 'Кипятильник',\n",
       " 'Кисточка',\n",
       " 'Клен',\n",
       " 'Клубника',\n",
       " 'Ключница',\n",
       " 'Коврик',\n",
       " 'Ковш',\n",
       " 'Кодонанта',\n",
       " 'Колеус',\n",
       " 'Колокольчик',\n",
       " 'Кольца',\n",
       " 'Комнатное',\n",
       " 'Комод',\n",
       " 'Комплект',\n",
       " 'Кондиционер',\n",
       " 'Контейнер',\n",
       " 'Концентрат',\n",
       " 'Кореопсис',\n",
       " 'Корзина',\n",
       " 'Кориандр',\n",
       " 'Короб',\n",
       " 'Коробка',\n",
       " 'Корыто',\n",
       " 'Космея',\n",
       " 'Котел',\n",
       " 'Котовник',\n",
       " 'Кофе',\n",
       " 'Кофр',\n",
       " 'Крассула',\n",
       " 'Крем',\n",
       " 'Крепеж',\n",
       " 'Крокусы',\n",
       " 'Кружка',\n",
       " 'Крышка',\n",
       " 'Крючок',\n",
       " 'Кувшин',\n",
       " 'Лаванда',\n",
       " 'Лаватера',\n",
       " 'Лавр',\n",
       " 'Лантана',\n",
       " 'Лапчатка',\n",
       " 'Левкой',\n",
       " 'Лен',\n",
       " 'Лестница',\n",
       " 'Лилейник',\n",
       " 'Линейка,',\n",
       " 'Литопс',\n",
       " 'Лобелия',\n",
       " 'Ложка',\n",
       " 'Лопатка',\n",
       " 'Лоток',\n",
       " 'Лук',\n",
       " 'Львиный',\n",
       " 'Любисток',\n",
       " 'Мантоварка',\n",
       " 'Маска',\n",
       " 'Масленка',\n",
       " 'Маттиола',\n",
       " 'Мединилла',\n",
       " 'Мелисса',\n",
       " 'Мешок',\n",
       " 'Миксер',\n",
       " 'Мимоза',\n",
       " 'Мирт',\n",
       " 'Миска',\n",
       " 'Многолетнее',\n",
       " 'Многофункциональный',\n",
       " 'Модульная',\n",
       " 'Молодило',\n",
       " 'Монарда',\n",
       " 'Морковь',\n",
       " 'Муляж',\n",
       " 'Муррайя',\n",
       " 'Мускари',\n",
       " 'Мыло',\n",
       " 'Мыльница',\n",
       " 'Мята',\n",
       " 'Набор',\n",
       " 'Наволочка',\n",
       " 'Наматрасник',\n",
       " 'Насадка',\n",
       " 'Настурция',\n",
       " 'Незабудка',\n",
       " 'Нефролепис',\n",
       " 'Нивянник',\n",
       " 'Новогоднее',\n",
       " 'Нож',\n",
       " 'Ножеточка',\n",
       " 'Ножницы',\n",
       " 'Нолина',\n",
       " 'Обувница-3',\n",
       " 'Овощеварка',\n",
       " 'Овощечистка',\n",
       " 'Овсянница',\n",
       " 'Огурец',\n",
       " 'Одеяло',\n",
       " 'Однолетнее',\n",
       " 'Окномойка',\n",
       " 'Ополаскиватель',\n",
       " 'Орехоколка',\n",
       " 'Осина',\n",
       " 'Основание',\n",
       " 'Отбеливатель',\n",
       " 'Отделитель',\n",
       " 'Отжим',\n",
       " 'Пакет',\n",
       " 'Папоротник',\n",
       " 'Паста',\n",
       " 'Патиссон',\n",
       " 'Пахира',\n",
       " 'Пеларгония',\n",
       " 'Пена',\n",
       " 'Пеперомия',\n",
       " 'Перчатки',\n",
       " 'Петля',\n",
       " 'Петрушка',\n",
       " 'Петуния',\n",
       " 'Пиретрум',\n",
       " 'Платикодон',\n",
       " 'Плед',\n",
       " 'Подарочный',\n",
       " 'Подвесное',\n",
       " 'Подголовник',\n",
       " 'Подкладка',\n",
       " 'Пододеяльник',\n",
       " 'Подрукавник',\n",
       " 'Подсолнечник',\n",
       " 'Подставка',\n",
       " 'Подушка',\n",
       " 'Покрывало',\n",
       " 'Покрытие',\n",
       " 'Полка',\n",
       " 'Половник',\n",
       " 'Полотенце',\n",
       " 'Порошок',\n",
       " 'Портулак',\n",
       " 'Пресс',\n",
       " 'Примула',\n",
       " 'Прищепки',\n",
       " 'Пробка',\n",
       " 'Просеиватель',\n",
       " 'Простыня',\n",
       " 'Противень',\n",
       " 'Пружина',\n",
       " 'Пряные',\n",
       " 'Пуансетия',\n",
       " 'Пуансеттия',\n",
       " 'Пылесос',\n",
       " 'Пьезозажигалка',\n",
       " 'Радермахера',\n",
       " 'Ранункулус',\n",
       " 'Рассада',\n",
       " 'Рассекатель',\n",
       " 'Решетка',\n",
       " 'Роза',\n",
       " 'Розмарин',\n",
       " 'Ролик',\n",
       " 'Рудбекия',\n",
       " 'Рукав',\n",
       " 'Ручка',\n",
       " 'Рыбочистка',\n",
       " 'Салат',\n",
       " 'Салатник',\n",
       " 'Салфетка',\n",
       " 'Салфетница',\n",
       " 'Сальвия',\n",
       " 'Сантолина',\n",
       " 'Сахарница',\n",
       " 'Сверло',\n",
       " 'Светильник',\n",
       " 'Седум',\n",
       " 'Сельдерей',\n",
       " 'Сервировочная',\n",
       " 'Сетка',\n",
       " 'Сиденье',\n",
       " 'Синнингия',\n",
       " 'Сито',\n",
       " 'Скалка',\n",
       " 'Скатерть',\n",
       " 'Скиммия',\n",
       " 'Складная',\n",
       " 'Складной',\n",
       " 'Сковорода',\n",
       " 'Скребок',\n",
       " 'Сменная',\n",
       " 'Сменный',\n",
       " 'Сметка',\n",
       " 'Смолевка',\n",
       " 'Совок',\n",
       " 'Соковарка',\n",
       " 'Соковыжималка',\n",
       " 'Соланум',\n",
       " 'Солидаго',\n",
       " 'Сотейник',\n",
       " 'Спатифиллум',\n",
       " 'Средство',\n",
       " 'Стакан',\n",
       " 'Стеллаж',\n",
       " 'Столовый',\n",
       " 'Стяжка',\n",
       " 'Суккулент',\n",
       " 'Сумка',\n",
       " 'Сушилка',\n",
       " 'Сциндапсус',\n",
       " 'Табак',\n",
       " 'Тагетис',\n",
       " 'Таз',\n",
       " 'Тарелка',\n",
       " 'Тележка',\n",
       " 'Терка',\n",
       " 'Термокружка',\n",
       " 'Термометр',\n",
       " 'Термос',\n",
       " 'Термостакан',\n",
       " 'Тимьян',\n",
       " 'Ткань',\n",
       " 'Толкушка',\n",
       " 'Томат',\n",
       " 'Тортница',\n",
       " 'Тряпка',\n",
       " 'Тряпкодержатель',\n",
       " 'Тыква',\n",
       " 'Тюльпан',\n",
       " 'Уголок',\n",
       " 'Укроп',\n",
       " 'Урна',\n",
       " 'Утюг',\n",
       " 'Фал',\n",
       " 'Фаленопсис',\n",
       " 'Фатсия',\n",
       " 'Фен',\n",
       " 'Фиалка',\n",
       " 'Физостегия',\n",
       " 'Фиксатор-шар',\n",
       " 'Фикус',\n",
       " 'Фиттония',\n",
       " 'Флокс',\n",
       " 'Форма',\n",
       " 'Фоторамка',\n",
       " 'Фуксия',\n",
       " 'Халат',\n",
       " 'Хамедорея',\n",
       " 'Хлебница',\n",
       " 'Хлорофитум',\n",
       " 'Холодная',\n",
       " 'Хоста',\n",
       " 'Хризантема',\n",
       " 'Хризолидокарпус',\n",
       " 'Цветок',\n",
       " 'Цветущее',\n",
       " 'Целозия',\n",
       " 'Цикламен',\n",
       " 'Цикламен,',\n",
       " 'Цинерания',\n",
       " 'Цинерария',\n",
       " 'Циния',\n",
       " 'Цинния',\n",
       " 'Циперус',\n",
       " 'Цитрофортунелла',\n",
       " 'Чабер',\n",
       " 'Чайник',\n",
       " 'Чехол',\n",
       " 'Шалфей',\n",
       " 'Швабра',\n",
       " 'Шеффлера',\n",
       " 'Шило',\n",
       " 'Шнур',\n",
       " 'Шпагат',\n",
       " 'Шпингалет',\n",
       " 'Шприц',\n",
       " 'Штанга',\n",
       " 'Штангенциркуль',\n",
       " 'Штора',\n",
       " 'Щетка',\n",
       " 'Эвкалипт',\n",
       " 'Электроштопор',\n",
       " 'Энотера',\n",
       " 'Эпипремнум',\n",
       " 'Этажерка',\n",
       " 'Эхеверия',\n",
       " 'Эхинацея',\n",
       " 'Эхинокактус',\n",
       " 'Эшшольция',\n",
       " 'Юкка',\n",
       " 'Ясколка',\n",
       " 'Ящик',\n",
       " 'томата']"
      ]
     },
     "execution_count": 27,
     "metadata": {},
     "output_type": "execute_result"
    }
   ],
   "source": [
    "# Выведем уникальные наименования, которые надо распределить по категориям:\n",
    "sorted(df['name_product'].unique())"
   ]
  },
  {
   "cell_type": "markdown",
   "metadata": {},
   "source": [
    "На основании данных из столбца `name_product` сформируем новый столбец `product_category`, в который войдут следующие категории:\n",
    "* 1 - Цветы и растения\n",
    "* 2 - Для кухни\n",
    "* 3 - Хранение вещей и домашний текстиль\n",
    "* 4 - Мебель, техника, декор интерьера\n",
    "* 5 - Хоз.товары, быт.химия и косметика"
   ]
  },
  {
   "cell_type": "code",
   "execution_count": 28,
   "metadata": {},
   "outputs": [
    {
     "data": {
      "text/plain": [
       "'Для кухни'"
      ]
     },
     "execution_count": 28,
     "metadata": {},
     "output_type": "execute_result"
    }
   ],
   "source": [
    "# сначала создадим функцию, которая присваивает категорию по значению, садержащемуся в name_product\n",
    "def product_category(row):\n",
    "    name_product = row['name_product']\n",
    "    if ('Банка' in name_product)|('Бидон' in name_product)|('Блюдо' in name_product)|(\n",
    "        'Блюдце' in name_product)|('Бульонница' in name_product)|('Венчик' in name_product)|(\n",
    "        'Весы' in name_product)|('Вилка' in name_product)|('Доска' in name_product)|(\n",
    "        'Емкость' in name_product)|('Завертка' in name_product)|('Измельчитель' in name_product)|(\n",
    "        'Картофелемялка' in name_product)|('Кастрюля' in name_product)|(\n",
    "        'Кипятильник' in name_product)|('Ковш' in name_product)|('Контейнер' in name_product)|(\n",
    "        'Котел' in name_product)|('Кружка' in name_product)|('Крышка' in name_product)|(\n",
    "        'Кувшин' in name_product)|('Ложка' in name_product)|('Лопатка' in name_product)|(\n",
    "        'Лоток' in name_product)|('Мантоварка' in name_product)|('Миксер' in name_product)|(\n",
    "        'Миска' in name_product)|('Набор' in name_product)|('Насадка' in name_product)|(\n",
    "        'Нож' in name_product)|('Ножеточка' in name_product)|('Овощеварка' in name_product)|(\n",
    "        'Овощечистка' in name_product)|('Орехоколка' in name_product)|('Отделитель' in name_product)|(\n",
    "        'Отжим' in name_product)|('Подставка' in name_product)|('Половник' in name_product)|(\n",
    "        'Пресс' in name_product)|('Пробка' in name_product)|('Просеиватель' in name_product)|(\n",
    "        'Противень' in name_product)|('Пьезозажигалка' in name_product)|(\n",
    "        'Рассекатель' in name_product)|('Рыбочистка' in name_product)|('Салатник' in name_product)|(\n",
    "        'Салфетница' in name_product)|('Сахарница' in name_product)|('Сервировочная' in name_product)|(\n",
    "        'Сито' in name_product)|('Скалка' in name_product)|('Сковорода' in name_product)|(\n",
    "        'Соковарка' in name_product)|('Соковыжималка' in name_product)|('Сотейник' in name_product)|(\n",
    "        'Стакан' in name_product)|('Столовый' in name_product)|('Тарелка' in name_product)|(\n",
    "        'Терка' in name_product)|('Термокружка' in name_product)|('Термос' in name_product)|(\n",
    "        'Термостакан' in name_product)|('Толкушка' in name_product)|('Тортница' in name_product)|(\n",
    "        'Форма' in name_product)|('Хлебница' in name_product)|('Чайник' in name_product)|(\n",
    "        'Электроштопор' in name_product):\n",
    "        return 'Для кухни'\n",
    "    if ('Двуспальное' in name_product)|('Комплект' in name_product)|('Маска' in name_product)|(\n",
    "        'Наволочка' in name_product)|('Наматрасник' in name_product)|('Одеяло' in name_product)|(\n",
    "        'Плед' in name_product)|('Подголовник' in name_product)|('Подкладка' in name_product)|(\n",
    "        'Пододеяльник' in name_product)|('Подрукавник' in name_product)|('Подушка' in name_product)|(\n",
    "        'Покрывало' in name_product)|('Полотенце' in name_product)|('Простыня' in name_product)|(\n",
    "        'Рукав' in name_product)|('Сетка' in name_product)|('Скатерть' in name_product)|(\n",
    "        'Ткань' in name_product)|('Халат' in name_product)|('Вешалка' in name_product)|(\n",
    "        'Вкладыши' in name_product)|('Держатель' in name_product)|('Корзина' in name_product)|(\n",
    "        'Короб' in name_product)|('Коробка' in name_product)|('Кофр' in name_product)|(\n",
    "        'Крючок' in name_product)|('Ролик' in name_product)|('Чехол' in name_product)|(\n",
    "        'Штанга' in name_product)|('Штора' in name_product)|('Ящик' in name_product):\n",
    "        return 'Хранение вещей и домашний текстиль'\n",
    "    if ('Ваза' in name_product)|('Ванна' in name_product)|('Декоративная' in name_product)|(\n",
    "        'Искусственная' in name_product)|('Искусственный' in name_product)|('Карниз' in name_product)|(\n",
    "        'Ключница' in name_product)|('Коврик' in name_product)|('Комод' in name_product)|(\n",
    "        'Кондиционер' in name_product)|('Лестница' in name_product)|('Линейка' in name_product)|(\n",
    "        'Модульная' in name_product)|('Муляж' in name_product)|('Новогоднее' in name_product)|(\n",
    "        'Обувница-3' in name_product)|('Петля' in name_product)|('Полка' in name_product)|(\n",
    "        'Пылесос' in name_product)|('Сверло' in name_product)|('Светильник' in name_product)|(\n",
    "        'Сиденье' in name_product)|('Стеллаж' in name_product)|('Сушилка' in name_product)|(\n",
    "        'Утюг' in name_product)|('Фен' in name_product)|('Фоторамка' in name_product)|(\n",
    "        'Штангенциркуль' in name_product)|('Этажерка' in name_product):\n",
    "        return 'Мебель, техника, декор интерьера'\n",
    "    if ('Антижир' in name_product)|('Антинакипин' in name_product)|('Бак' in name_product)|(\n",
    "        'Бальзам' in name_product)|('Бензин' in name_product)|('Вантуз' in name_product)|(\n",
    "        'Ведро' in name_product)|('Веник' in name_product)|('Веревка' in name_product)|(\n",
    "        'Губка' in name_product)|('Гипоаллергенный' in name_product)|('Дозатор' in name_product)|(\n",
    "        'Ерш' in name_product)|('Запасная' in name_product)|('Защитная' in name_product)|(\n",
    "        'Защитный' in name_product)|('Зубная' in name_product)|('Измерительный' in name_product)|(\n",
    "        'Инструмент' in name_product)|('Кисточка' in name_product)|('Кольца' in name_product)|(\n",
    "        'Концентрат' in name_product)|('Корыто' in name_product)|('Крем' in name_product)|(\n",
    "        'Крепеж' in name_product)|('Масленка' in name_product)|('Мешок' in name_product)|(\n",
    "        'Многофункциональный' in name_product)|('Мыло' in name_product)|('Мыльница' in name_product)|(\n",
    "        'Ножницы' in name_product)|('Окномойка' in name_product)|('Ополаскиватель' in name_product)|(\n",
    "        'Основание' in name_product)|('Отбеливатель' in name_product)|('Пакет' in name_product)|(\n",
    "        'Паста' in name_product)|('Пена' in name_product)|('Перчатки' in name_product)|(\n",
    "        'Подарочный' in name_product)|('Покрытие' in name_product)|('Порошок' in name_product)|(\n",
    "        'Прищепки' in name_product)|('Пружина' in name_product)|('Решетка' in name_product)|(\n",
    "        'Ручка' in name_product)|('Салфетка' in name_product)|('Складная' in name_product)|(\n",
    "        'Складной' in name_product)|('Скребок' in name_product)|('Сменная' in name_product)|(\n",
    "        'Сменный' in name_product)|('Совок' in name_product)|('Средство' in name_product)|(\n",
    "        'Стяжка' in name_product)|('Сумка' in name_product)|('Таз' in name_product)|(\n",
    "        'Тележка' in name_product)|('Термометр' in name_product)|('Тряпка' in name_product)|(\n",
    "        'Тряпкодержатель' in name_product)|('Уголок' in name_product)|('Урна' in name_product)|(\n",
    "        'Фиксатор-шар' in name_product)|('Швабра' in name_product)|('Шило' in name_product)|(\n",
    "        'Шнур' in name_product)|('Шпагат' in name_product)|('Шпингалет' in name_product)|(\n",
    "        'Шприц' in name_product)|('Щетка' in name_product):\n",
    "        return 'Хоз.товары, быт.химия и косметика'\n",
    "    return 'Цветы и растения'\n",
    "\n",
    "# проверим работоспособность\n",
    "row_values = ['Кружка']\n",
    "row_columns = ['name_product']\n",
    "row = pd.Series(data=row_values, index=row_columns)\n",
    "product_category(row)"
   ]
  },
  {
   "cell_type": "markdown",
   "metadata": {},
   "source": [
    "Применив метод apply(), где аргументом будет функция ***product_category()***, сформируем новый столбец `product_category`"
   ]
  },
  {
   "cell_type": "code",
   "execution_count": 29,
   "metadata": {
    "scrolled": false
   },
   "outputs": [
    {
     "name": "stderr",
     "output_type": "stream",
     "text": [
      "/tmp/ipykernel_235/350987861.py:1: SettingWithCopyWarning: \n",
      "A value is trying to be set on a copy of a slice from a DataFrame.\n",
      "Try using .loc[row_indexer,col_indexer] = value instead\n",
      "\n",
      "See the caveats in the documentation: https://pandas.pydata.org/pandas-docs/stable/user_guide/indexing.html#returning-a-view-versus-a-copy\n",
      "  df['product_category'] = df.apply(product_category, axis=1)\n"
     ]
    }
   ],
   "source": [
    "df['product_category'] = df.apply(product_category, axis=1)"
   ]
  },
  {
   "cell_type": "markdown",
   "metadata": {},
   "source": [
    "**Посмотрим как распределен ассортимент по категориям:**"
   ]
  },
  {
   "cell_type": "code",
   "execution_count": 30,
   "metadata": {},
   "outputs": [
    {
     "data": {
      "text/plain": [
       "Цветы и растения                      2459\n",
       "Мебель, техника, декор интерьера       768\n",
       "Хоз.товары, быт.химия и косметика      684\n",
       "Для кухни                              485\n",
       "Хранение вещей и домашний текстиль     411\n",
       "Name: product_category, dtype: int64"
      ]
     },
     "execution_count": 30,
     "metadata": {},
     "output_type": "execute_result"
    }
   ],
   "source": [
    "df['product_category'].value_counts()"
   ]
  },
  {
   "cell_type": "code",
   "execution_count": 31,
   "metadata": {},
   "outputs": [
    {
     "data": {
      "text/plain": [
       "['Агератум',\n",
       " 'Адиантум',\n",
       " 'Азалия',\n",
       " 'Аквилегия',\n",
       " 'Алиссум',\n",
       " 'Алоэ',\n",
       " 'Альбука',\n",
       " 'Амариллис',\n",
       " 'Анемона',\n",
       " 'Антуриум',\n",
       " 'Аптения',\n",
       " 'Арбуз',\n",
       " 'Аргирантерум',\n",
       " 'Артемизия',\n",
       " 'Аспарагус',\n",
       " 'Астра',\n",
       " 'Афеляндра',\n",
       " 'Бадан',\n",
       " 'Базилик',\n",
       " 'Барвинок',\n",
       " 'Бархатцы',\n",
       " 'Бегония',\n",
       " 'Буддлея',\n",
       " 'Бузульник',\n",
       " 'Валериана',\n",
       " 'Вербейник',\n",
       " 'Вербена',\n",
       " 'Вероника',\n",
       " 'Вигна',\n",
       " 'Виола',\n",
       " 'Газания',\n",
       " 'Гайлардия',\n",
       " 'Гардения',\n",
       " 'Гвоздика',\n",
       " 'Георгина',\n",
       " 'Герань',\n",
       " 'Гербера',\n",
       " 'Гиацинт',\n",
       " 'Гимнокалициум',\n",
       " 'Гиностемма',\n",
       " 'Гипсофила',\n",
       " 'Глоксиния',\n",
       " 'Годеция',\n",
       " 'Горох',\n",
       " 'Гортензия',\n",
       " 'Девичий',\n",
       " 'Декабрист',\n",
       " 'Дендробиум',\n",
       " 'Джункус',\n",
       " 'Диффенбахия',\n",
       " 'Драцена',\n",
       " 'Душица',\n",
       " 'Дыня',\n",
       " 'Ель',\n",
       " 'Замиокулькас',\n",
       " 'Зверобой',\n",
       " 'Земляника',\n",
       " 'Змееголовник',\n",
       " 'Импатиенс',\n",
       " 'Иссоп',\n",
       " 'Кабачок',\n",
       " 'Каланхое',\n",
       " 'Калатея',\n",
       " 'Календула',\n",
       " 'Калибрахоа',\n",
       " 'Калла',\n",
       " 'Каллуна',\n",
       " 'Калоцефалус',\n",
       " 'Камнеломка',\n",
       " 'Кампанула',\n",
       " 'Капсикум',\n",
       " 'Капуста',\n",
       " 'Кипарисовик',\n",
       " 'Клен',\n",
       " 'Клубника',\n",
       " 'Кодонанта',\n",
       " 'Колеус',\n",
       " 'Колокольчик',\n",
       " 'Комнатное',\n",
       " 'Кореопсис',\n",
       " 'Кориандр',\n",
       " 'Космея',\n",
       " 'Котовник',\n",
       " 'Кофе',\n",
       " 'Крассула',\n",
       " 'Крокусы',\n",
       " 'Лаванда',\n",
       " 'Лаватера',\n",
       " 'Лавр',\n",
       " 'Лантана',\n",
       " 'Лапчатка',\n",
       " 'Левкой',\n",
       " 'Лен',\n",
       " 'Лилейник',\n",
       " 'Литопс',\n",
       " 'Лобелия',\n",
       " 'Лук',\n",
       " 'Львиный',\n",
       " 'Любисток',\n",
       " 'Маттиола',\n",
       " 'Мединилла',\n",
       " 'Мелисса',\n",
       " 'Мимоза',\n",
       " 'Мирт',\n",
       " 'Многолетнее',\n",
       " 'Молодило',\n",
       " 'Монарда',\n",
       " 'Морковь',\n",
       " 'Муррайя',\n",
       " 'Мускари',\n",
       " 'Мята',\n",
       " 'Настурция',\n",
       " 'Незабудка',\n",
       " 'Нефролепис',\n",
       " 'Нивянник',\n",
       " 'Нолина',\n",
       " 'Овсянница',\n",
       " 'Огурец',\n",
       " 'Однолетнее',\n",
       " 'Осина',\n",
       " 'Папоротник',\n",
       " 'Патиссон',\n",
       " 'Пахира',\n",
       " 'Пеларгония',\n",
       " 'Пеперомия',\n",
       " 'Петрушка',\n",
       " 'Петуния',\n",
       " 'Пиретрум',\n",
       " 'Платикодон',\n",
       " 'Подвесное',\n",
       " 'Подсолнечник',\n",
       " 'Портулак',\n",
       " 'Примула',\n",
       " 'Пряные',\n",
       " 'Пуансетия',\n",
       " 'Пуансеттия',\n",
       " 'Радермахера',\n",
       " 'Ранункулус',\n",
       " 'Рассада',\n",
       " 'Роза',\n",
       " 'Розмарин',\n",
       " 'Рудбекия',\n",
       " 'Салат',\n",
       " 'Сальвия',\n",
       " 'Сантолина',\n",
       " 'Седум',\n",
       " 'Сельдерей',\n",
       " 'Синнингия',\n",
       " 'Скиммия',\n",
       " 'Сметка',\n",
       " 'Смолевка',\n",
       " 'Соланум',\n",
       " 'Солидаго',\n",
       " 'Спатифиллум',\n",
       " 'Суккулент',\n",
       " 'Сциндапсус',\n",
       " 'Табак',\n",
       " 'Тагетис',\n",
       " 'Тимьян',\n",
       " 'Томат',\n",
       " 'Тыква',\n",
       " 'Тюльпан',\n",
       " 'Укроп',\n",
       " 'Фал',\n",
       " 'Фаленопсис',\n",
       " 'Фатсия',\n",
       " 'Фиалка',\n",
       " 'Физостегия',\n",
       " 'Фикус',\n",
       " 'Фиттония',\n",
       " 'Флокс',\n",
       " 'Фуксия',\n",
       " 'Хамедорея',\n",
       " 'Хлорофитум',\n",
       " 'Холодная',\n",
       " 'Хоста',\n",
       " 'Хризантема',\n",
       " 'Хризолидокарпус',\n",
       " 'Цветок',\n",
       " 'Цветущее',\n",
       " 'Целозия',\n",
       " 'Цикламен',\n",
       " 'Цикламен,',\n",
       " 'Цинерания',\n",
       " 'Цинерария',\n",
       " 'Циния',\n",
       " 'Цинния',\n",
       " 'Циперус',\n",
       " 'Цитрофортунелла',\n",
       " 'Чабер',\n",
       " 'Шалфей',\n",
       " 'Шеффлера',\n",
       " 'Эвкалипт',\n",
       " 'Энотера',\n",
       " 'Эпипремнум',\n",
       " 'Эхеверия',\n",
       " 'Эхинацея',\n",
       " 'Эхинокактус',\n",
       " 'Эшшольция',\n",
       " 'Юкка',\n",
       " 'Ясколка',\n",
       " 'томата']"
      ]
     },
     "execution_count": 31,
     "metadata": {},
     "output_type": "execute_result"
    }
   ],
   "source": [
    "# проверим группу 'цветы и растения', не попало ли туда что-то постороннее:\n",
    "df_1 = df.query('product_category == \"Цветы и растения\"')\n",
    "sorted(df_1['name_product'].unique())"
   ]
  },
  {
   "cell_type": "markdown",
   "metadata": {},
   "source": [
    "#### Категоризация дат покупки, сезонность"
   ]
  },
  {
   "cell_type": "markdown",
   "metadata": {},
   "source": [
    "***Данными за какой период мы располагаем? Найдём максимальную и минимальную дату.***"
   ]
  },
  {
   "cell_type": "code",
   "execution_count": 32,
   "metadata": {
    "scrolled": true
   },
   "outputs": [
    {
     "name": "stdout",
     "output_type": "stream",
     "text": [
      "Мы располагаем данными за период:\n"
     ]
    },
    {
     "data": {
      "text/plain": [
       "min   2018-10-01 00:00:00\n",
       "max   2019-10-31 14:00:00\n",
       "Name: date, dtype: datetime64[ns]"
      ]
     },
     "execution_count": 32,
     "metadata": {},
     "output_type": "execute_result"
    }
   ],
   "source": [
    "print('Мы располагаем данными за период:')\n",
    "\n",
    "df['date'].agg(['min', 'max'])"
   ]
  },
  {
   "cell_type": "markdown",
   "metadata": {},
   "source": [
    "**Самая ранняя дата 1 октября 2018 года, а самая поздняя - 31 октября 2019 года. Мы располагаем данными за 13 месяцев.**"
   ]
  },
  {
   "cell_type": "code",
   "execution_count": 33,
   "metadata": {},
   "outputs": [
    {
     "data": {
      "text/html": [
       "<div>\n",
       "<style scoped>\n",
       "    .dataframe tbody tr th:only-of-type {\n",
       "        vertical-align: middle;\n",
       "    }\n",
       "\n",
       "    .dataframe tbody tr th {\n",
       "        vertical-align: top;\n",
       "    }\n",
       "\n",
       "    .dataframe thead th {\n",
       "        text-align: right;\n",
       "    }\n",
       "</style>\n",
       "<table border=\"1\" class=\"dataframe\">\n",
       "  <thead>\n",
       "    <tr style=\"text-align: right;\">\n",
       "      <th></th>\n",
       "      <th>date</th>\n",
       "      <th>customer_id</th>\n",
       "      <th>order_id</th>\n",
       "      <th>product</th>\n",
       "      <th>quantity</th>\n",
       "      <th>price</th>\n",
       "      <th>purchase</th>\n",
       "      <th>name_product</th>\n",
       "      <th>product_category</th>\n",
       "    </tr>\n",
       "  </thead>\n",
       "  <tbody>\n",
       "    <tr>\n",
       "      <th>4871</th>\n",
       "      <td>2019-10-31 13:00:00</td>\n",
       "      <td>25df96a7-c453-4708-9cea-a3dfc7c342ea</td>\n",
       "      <td>73162</td>\n",
       "      <td>Герань домашняя (пеларгония зональная) цветуща...</td>\n",
       "      <td>1</td>\n",
       "      <td>157.0</td>\n",
       "      <td>157.0</td>\n",
       "      <td>Герань</td>\n",
       "      <td>Цветы и растения</td>\n",
       "    </tr>\n",
       "    <tr>\n",
       "      <th>4872</th>\n",
       "      <td>2019-10-31 14:00:00</td>\n",
       "      <td>73d1cd35-5e5f-4629-8cf2-3fda829d4e58</td>\n",
       "      <td>73164</td>\n",
       "      <td>Таз пластмассовый со стиральной доской (Иж), 1...</td>\n",
       "      <td>1</td>\n",
       "      <td>397.0</td>\n",
       "      <td>397.0</td>\n",
       "      <td>Таз</td>\n",
       "      <td>Хоз.товары, быт.химия и косметика</td>\n",
       "    </tr>\n",
       "  </tbody>\n",
       "</table>\n",
       "</div>"
      ],
      "text/plain": [
       "                    date                           customer_id  order_id  \\\n",
       "4871 2019-10-31 13:00:00  25df96a7-c453-4708-9cea-a3dfc7c342ea     73162   \n",
       "4872 2019-10-31 14:00:00  73d1cd35-5e5f-4629-8cf2-3fda829d4e58     73164   \n",
       "\n",
       "                                                product  quantity  price  \\\n",
       "4871  Герань домашняя (пеларгония зональная) цветуща...         1  157.0   \n",
       "4872  Таз пластмассовый со стиральной доской (Иж), 1...         1  397.0   \n",
       "\n",
       "      purchase name_product                   product_category  \n",
       "4871     157.0       Герань                   Цветы и растения  \n",
       "4872     397.0          Таз  Хоз.товары, быт.химия и косметика  "
      ]
     },
     "execution_count": 33,
     "metadata": {},
     "output_type": "execute_result"
    }
   ],
   "source": [
    "df.tail(2)"
   ]
  },
  {
   "cell_type": "code",
   "execution_count": 34,
   "metadata": {},
   "outputs": [
    {
     "data": {
      "image/png": "[encoded data removed]",
      "text/plain": [
       "<Figure size 864x288 with 1 Axes>"
      ]
     },
     "metadata": {
      "needs_background": "light"
     },
     "output_type": "display_data"
    }
   ],
   "source": [
    "# Изучим график распределения заказов\n",
    "df['date'].hist(bins=15, figsize=(12, 4), color='c')\n",
    "\n",
    "plt.title('Распределение заказов по месяцам'+ \"\\n\")\n",
    "plt.xlabel('Месяцы')\n",
    "plt.ylabel('Количество')\n",
    "plt.show()"
   ]
  },
  {
   "cell_type": "markdown",
   "metadata": {},
   "source": [
    "**Мы располагаем сплошными данными за каждый месяц**"
   ]
  },
  {
   "cell_type": "markdown",
   "metadata": {},
   "source": [
    "Выделим отдельный столбец с месяцем и годом:"
   ]
  },
  {
   "cell_type": "code",
   "execution_count": 35,
   "metadata": {},
   "outputs": [
    {
     "name": "stderr",
     "output_type": "stream",
     "text": [
      "/tmp/ipykernel_235/44637620.py:1: SettingWithCopyWarning: \n",
      "A value is trying to be set on a copy of a slice from a DataFrame.\n",
      "Try using .loc[row_indexer,col_indexer] = value instead\n",
      "\n",
      "See the caveats in the documentation: https://pandas.pydata.org/pandas-docs/stable/user_guide/indexing.html#returning-a-view-versus-a-copy\n",
      "  df['date_column'] = df['date'].apply(lambda x: x.strftime('%Y-%m'))\n"
     ]
    },
    {
     "data": {
      "text/plain": [
       "array(['2018-10', '2018-11', '2018-12', '2019-01', '2019-02', '2019-03',\n",
       "       '2019-04', '2019-05', '2019-06', '2019-07', '2019-08', '2019-09',\n",
       "       '2019-10'], dtype=object)"
      ]
     },
     "execution_count": 35,
     "metadata": {},
     "output_type": "execute_result"
    }
   ],
   "source": [
    "df['date_column'] = df['date'].apply(lambda x: x.strftime('%Y-%m')) \n",
    "df['date_column'].sort_values().unique()"
   ]
  },
  {
   "cell_type": "markdown",
   "metadata": {},
   "source": [
    "#### Выводы\n",
    "Дополнительные расчеты проведены, результат в столбце `purchase`   \n",
    "Категоризация товаров проведена, результат в столбце `product_category`   \n",
    "Категоризация дат проведена, результат в столбце `month`."
   ]
  },
  {
   "cell_type": "code",
   "execution_count": 36,
   "metadata": {},
   "outputs": [
    {
     "data": {
      "text/html": [
       "<div>\n",
       "<style scoped>\n",
       "    .dataframe tbody tr th:only-of-type {\n",
       "        vertical-align: middle;\n",
       "    }\n",
       "\n",
       "    .dataframe tbody tr th {\n",
       "        vertical-align: top;\n",
       "    }\n",
       "\n",
       "    .dataframe thead th {\n",
       "        text-align: right;\n",
       "    }\n",
       "</style>\n",
       "<table border=\"1\" class=\"dataframe\">\n",
       "  <thead>\n",
       "    <tr style=\"text-align: right;\">\n",
       "      <th></th>\n",
       "      <th>date</th>\n",
       "      <th>customer_id</th>\n",
       "      <th>order_id</th>\n",
       "      <th>product</th>\n",
       "      <th>quantity</th>\n",
       "      <th>price</th>\n",
       "      <th>purchase</th>\n",
       "      <th>name_product</th>\n",
       "      <th>product_category</th>\n",
       "      <th>date_column</th>\n",
       "    </tr>\n",
       "  </thead>\n",
       "  <tbody>\n",
       "    <tr>\n",
       "      <th>0</th>\n",
       "      <td>2018-10-01</td>\n",
       "      <td>ee47d746-6d2f-4d3c-9622-c31412542920</td>\n",
       "      <td>68477</td>\n",
       "      <td>Комнатное растение в горшке Алое Вера, d12, h30</td>\n",
       "      <td>1</td>\n",
       "      <td>142.0</td>\n",
       "      <td>142.0</td>\n",
       "      <td>Комнатное</td>\n",
       "      <td>Цветы и растения</td>\n",
       "      <td>2018-10</td>\n",
       "    </tr>\n",
       "    <tr>\n",
       "      <th>1</th>\n",
       "      <td>2018-10-01</td>\n",
       "      <td>ee47d746-6d2f-4d3c-9622-c31412542920</td>\n",
       "      <td>68477</td>\n",
       "      <td>Комнатное растение в горшке Кофе Арабика, d12,...</td>\n",
       "      <td>1</td>\n",
       "      <td>194.0</td>\n",
       "      <td>194.0</td>\n",
       "      <td>Комнатное</td>\n",
       "      <td>Цветы и растения</td>\n",
       "      <td>2018-10</td>\n",
       "    </tr>\n",
       "    <tr>\n",
       "      <th>2</th>\n",
       "      <td>2018-10-01</td>\n",
       "      <td>ee47d746-6d2f-4d3c-9622-c31412542920</td>\n",
       "      <td>68477</td>\n",
       "      <td>Радермахера d-12 см h-20 см</td>\n",
       "      <td>1</td>\n",
       "      <td>112.0</td>\n",
       "      <td>112.0</td>\n",
       "      <td>Радермахера</td>\n",
       "      <td>Цветы и растения</td>\n",
       "      <td>2018-10</td>\n",
       "    </tr>\n",
       "  </tbody>\n",
       "</table>\n",
       "</div>"
      ],
      "text/plain": [
       "        date                           customer_id  order_id  \\\n",
       "0 2018-10-01  ee47d746-6d2f-4d3c-9622-c31412542920     68477   \n",
       "1 2018-10-01  ee47d746-6d2f-4d3c-9622-c31412542920     68477   \n",
       "2 2018-10-01  ee47d746-6d2f-4d3c-9622-c31412542920     68477   \n",
       "\n",
       "                                             product  quantity  price  \\\n",
       "0    Комнатное растение в горшке Алое Вера, d12, h30         1  142.0   \n",
       "1  Комнатное растение в горшке Кофе Арабика, d12,...         1  194.0   \n",
       "2                        Радермахера d-12 см h-20 см         1  112.0   \n",
       "\n",
       "   purchase name_product  product_category date_column  \n",
       "0     142.0    Комнатное  Цветы и растения     2018-10  \n",
       "1     194.0    Комнатное  Цветы и растения     2018-10  \n",
       "2     112.0  Радермахера  Цветы и растения     2018-10  "
      ]
     },
     "execution_count": 36,
     "metadata": {},
     "output_type": "execute_result"
    }
   ],
   "source": [
    "#\n",
    "df.head(3)"
   ]
  },
  {
   "cell_type": "markdown",
   "metadata": {},
   "source": [
    "## Анализ данных"
   ]
  },
  {
   "cell_type": "markdown",
   "metadata": {},
   "source": [
    "### Изучение поведения пользователей"
   ]
  },
  {
   "cell_type": "markdown",
   "metadata": {},
   "source": [
    "***Сколько всего уникальных пользователей***"
   ]
  },
  {
   "cell_type": "code",
   "execution_count": 37,
   "metadata": {
    "scrolled": true
   },
   "outputs": [
    {
     "name": "stdout",
     "output_type": "stream",
     "text": [
      "Количество уникальных пользоваелей: 2394\n"
     ]
    }
   ],
   "source": [
    "print('Количество уникальных пользоваелей:', len(df['customer_id'].unique()))"
   ]
  },
  {
   "cell_type": "markdown",
   "metadata": {},
   "source": [
    "***Сколько в среднем заказов приходится на пользователя***"
   ]
  },
  {
   "cell_type": "code",
   "execution_count": 38,
   "metadata": {
    "scrolled": false
   },
   "outputs": [
    {
     "name": "stdout",
     "output_type": "stream",
     "text": [
      "В среднем на пользователя приходится 1.15 заказов.\n"
     ]
    }
   ],
   "source": [
    "orders = len(df['order_id'].unique())/len(df['customer_id'].unique())\n",
    "print('В среднем на пользователя приходится', (round(orders, 2)), 'заказов.')"
   ]
  },
  {
   "cell_type": "markdown",
   "metadata": {},
   "source": [
    "***Количество и сумма заказов на пользователя***"
   ]
  },
  {
   "cell_type": "code",
   "execution_count": 39,
   "metadata": {},
   "outputs": [
    {
     "data": {
      "text/html": [
       "<div>\n",
       "<style scoped>\n",
       "    .dataframe tbody tr th:only-of-type {\n",
       "        vertical-align: middle;\n",
       "    }\n",
       "\n",
       "    .dataframe tbody tr th {\n",
       "        vertical-align: top;\n",
       "    }\n",
       "\n",
       "    .dataframe thead th {\n",
       "        text-align: right;\n",
       "    }\n",
       "</style>\n",
       "<table border=\"1\" class=\"dataframe\">\n",
       "  <thead>\n",
       "    <tr style=\"text-align: right;\">\n",
       "      <th></th>\n",
       "      <th>customer_id</th>\n",
       "      <th>orders</th>\n",
       "      <th>sum_purchase</th>\n",
       "    </tr>\n",
       "  </thead>\n",
       "  <tbody>\n",
       "    <tr>\n",
       "      <th>1870</th>\n",
       "      <td>c971fb21-d54c-4134-938f-16b62ee86d3b</td>\n",
       "      <td>126</td>\n",
       "      <td>159508.0</td>\n",
       "    </tr>\n",
       "    <tr>\n",
       "      <th>727</th>\n",
       "      <td>4d93d3f6-8b24-403b-a74b-f5173e40d7db</td>\n",
       "      <td>35</td>\n",
       "      <td>57278.0</td>\n",
       "    </tr>\n",
       "    <tr>\n",
       "      <th>1074</th>\n",
       "      <td>73d1cd35-5e5f-4629-8cf2-3fda829d4e58</td>\n",
       "      <td>17</td>\n",
       "      <td>21361.0</td>\n",
       "    </tr>\n",
       "    <tr>\n",
       "      <th>1706</th>\n",
       "      <td>b7b865ab-0735-407f-8d0c-31f74d2806cc</td>\n",
       "      <td>7</td>\n",
       "      <td>3779.0</td>\n",
       "    </tr>\n",
       "    <tr>\n",
       "      <th>16</th>\n",
       "      <td>0184f535-b60a-4914-a982-231e3f615206</td>\n",
       "      <td>5</td>\n",
       "      <td>5891.0</td>\n",
       "    </tr>\n",
       "    <tr>\n",
       "      <th>2094</th>\n",
       "      <td>e0535076-6270-4df2-8621-cb06264a94fa</td>\n",
       "      <td>4</td>\n",
       "      <td>636.0</td>\n",
       "    </tr>\n",
       "    <tr>\n",
       "      <th>1776</th>\n",
       "      <td>bea7a833-2074-42db-bc49-4457abd3c930</td>\n",
       "      <td>4</td>\n",
       "      <td>4409.0</td>\n",
       "    </tr>\n",
       "    <tr>\n",
       "      <th>685</th>\n",
       "      <td>498f12a4-6a62-4725-8516-cf5dc9ab8a3a</td>\n",
       "      <td>4</td>\n",
       "      <td>41900.0</td>\n",
       "    </tr>\n",
       "    <tr>\n",
       "      <th>981</th>\n",
       "      <td>6a86cc77-ef15-496f-b5d3-89005597ee5d</td>\n",
       "      <td>3</td>\n",
       "      <td>3151.0</td>\n",
       "    </tr>\n",
       "    <tr>\n",
       "      <th>2088</th>\n",
       "      <td>dfbcfde5-21de-4504-aff4-453e617d81c1</td>\n",
       "      <td>3</td>\n",
       "      <td>2804.0</td>\n",
       "    </tr>\n",
       "  </tbody>\n",
       "</table>\n",
       "</div>"
      ],
      "text/plain": [
       "                               customer_id  orders  sum_purchase\n",
       "1870  c971fb21-d54c-4134-938f-16b62ee86d3b     126      159508.0\n",
       "727   4d93d3f6-8b24-403b-a74b-f5173e40d7db      35       57278.0\n",
       "1074  73d1cd35-5e5f-4629-8cf2-3fda829d4e58      17       21361.0\n",
       "1706  b7b865ab-0735-407f-8d0c-31f74d2806cc       7        3779.0\n",
       "16    0184f535-b60a-4914-a982-231e3f615206       5        5891.0\n",
       "2094  e0535076-6270-4df2-8621-cb06264a94fa       4         636.0\n",
       "1776  bea7a833-2074-42db-bc49-4457abd3c930       4        4409.0\n",
       "685   498f12a4-6a62-4725-8516-cf5dc9ab8a3a       4       41900.0\n",
       "981   6a86cc77-ef15-496f-b5d3-89005597ee5d       3        3151.0\n",
       "2088  dfbcfde5-21de-4504-aff4-453e617d81c1       3        2804.0"
      ]
     },
     "execution_count": 39,
     "metadata": {},
     "output_type": "execute_result"
    }
   ],
   "source": [
    "orders_by_customers = (\n",
    "    df.groupby('customer_id', as_index=False,)\n",
    "    .agg({'order_id': 'nunique',\n",
    "         'purchase' : 'sum'})\n",
    ")\n",
    "\n",
    "orders_by_customers.columns = ['customer_id', 'orders', 'sum_purchase']\n",
    "orders_by_customers.sort_values(by='orders', ascending=False).head(10)"
   ]
  },
  {
   "cell_type": "markdown",
   "metadata": {},
   "source": [
    "Из 2394 уникальных покупателей - 5 и более заказов сделали всего 5 покупателей и всего 3 покупателя сделали 4 заказа. Остальные покупатели сделали 3 и менее заказов."
   ]
  },
  {
   "cell_type": "markdown",
   "metadata": {},
   "source": [
    "***Суммарная выручка в разрезе заказчиков***"
   ]
  },
  {
   "cell_type": "code",
   "execution_count": 40,
   "metadata": {},
   "outputs": [
    {
     "data": {
      "text/html": [
       "<div>\n",
       "<style scoped>\n",
       "    .dataframe tbody tr th:only-of-type {\n",
       "        vertical-align: middle;\n",
       "    }\n",
       "\n",
       "    .dataframe tbody tr th {\n",
       "        vertical-align: top;\n",
       "    }\n",
       "\n",
       "    .dataframe thead th {\n",
       "        text-align: right;\n",
       "    }\n",
       "</style>\n",
       "<table border=\"1\" class=\"dataframe\">\n",
       "  <thead>\n",
       "    <tr style=\"text-align: right;\">\n",
       "      <th></th>\n",
       "      <th>customer_id</th>\n",
       "      <th>orders</th>\n",
       "      <th>sum_purchase</th>\n",
       "    </tr>\n",
       "  </thead>\n",
       "  <tbody>\n",
       "    <tr>\n",
       "      <th>457</th>\n",
       "      <td>312e9a3e-5fca-43ff-a6a1-892d2b2d5ba6</td>\n",
       "      <td>1</td>\n",
       "      <td>675000.0</td>\n",
       "    </tr>\n",
       "    <tr>\n",
       "      <th>1870</th>\n",
       "      <td>c971fb21-d54c-4134-938f-16b62ee86d3b</td>\n",
       "      <td>126</td>\n",
       "      <td>159508.0</td>\n",
       "    </tr>\n",
       "    <tr>\n",
       "      <th>727</th>\n",
       "      <td>4d93d3f6-8b24-403b-a74b-f5173e40d7db</td>\n",
       "      <td>35</td>\n",
       "      <td>57278.0</td>\n",
       "    </tr>\n",
       "    <tr>\n",
       "      <th>820</th>\n",
       "      <td>58a4c3cc-504f-43ea-a74a-bae19e665552</td>\n",
       "      <td>2</td>\n",
       "      <td>53232.0</td>\n",
       "    </tr>\n",
       "    <tr>\n",
       "      <th>194</th>\n",
       "      <td>146cd9bf-a95c-4afb-915b-5f6684b17444</td>\n",
       "      <td>1</td>\n",
       "      <td>49432.0</td>\n",
       "    </tr>\n",
       "    <tr>\n",
       "      <th>685</th>\n",
       "      <td>498f12a4-6a62-4725-8516-cf5dc9ab8a3a</td>\n",
       "      <td>4</td>\n",
       "      <td>41900.0</td>\n",
       "    </tr>\n",
       "    <tr>\n",
       "      <th>1329</th>\n",
       "      <td>8fba3604-ef57-4b9f-b2fe-3402fa8825c8</td>\n",
       "      <td>1</td>\n",
       "      <td>33680.0</td>\n",
       "    </tr>\n",
       "    <tr>\n",
       "      <th>968</th>\n",
       "      <td>6987e6d6-a63a-4ce2-a2d0-f424092d235e</td>\n",
       "      <td>1</td>\n",
       "      <td>32718.0</td>\n",
       "    </tr>\n",
       "    <tr>\n",
       "      <th>262</th>\n",
       "      <td>1b2764ad-9151-4051-a46a-9b01b62e6335</td>\n",
       "      <td>1</td>\n",
       "      <td>24370.0</td>\n",
       "    </tr>\n",
       "    <tr>\n",
       "      <th>1471</th>\n",
       "      <td>9f1e7d7d-ff10-4eb1-b596-1cbf8075aa3f</td>\n",
       "      <td>1</td>\n",
       "      <td>22056.0</td>\n",
       "    </tr>\n",
       "    <tr>\n",
       "      <th>1074</th>\n",
       "      <td>73d1cd35-5e5f-4629-8cf2-3fda829d4e58</td>\n",
       "      <td>17</td>\n",
       "      <td>21361.0</td>\n",
       "    </tr>\n",
       "    <tr>\n",
       "      <th>1364</th>\n",
       "      <td>940c175f-ea87-44e0-9e16-0a3d0a9abecd</td>\n",
       "      <td>2</td>\n",
       "      <td>20232.0</td>\n",
       "    </tr>\n",
       "  </tbody>\n",
       "</table>\n",
       "</div>"
      ],
      "text/plain": [
       "                               customer_id  orders  sum_purchase\n",
       "457   312e9a3e-5fca-43ff-a6a1-892d2b2d5ba6       1      675000.0\n",
       "1870  c971fb21-d54c-4134-938f-16b62ee86d3b     126      159508.0\n",
       "727   4d93d3f6-8b24-403b-a74b-f5173e40d7db      35       57278.0\n",
       "820   58a4c3cc-504f-43ea-a74a-bae19e665552       2       53232.0\n",
       "194   146cd9bf-a95c-4afb-915b-5f6684b17444       1       49432.0\n",
       "685   498f12a4-6a62-4725-8516-cf5dc9ab8a3a       4       41900.0\n",
       "1329  8fba3604-ef57-4b9f-b2fe-3402fa8825c8       1       33680.0\n",
       "968   6987e6d6-a63a-4ce2-a2d0-f424092d235e       1       32718.0\n",
       "262   1b2764ad-9151-4051-a46a-9b01b62e6335       1       24370.0\n",
       "1471  9f1e7d7d-ff10-4eb1-b596-1cbf8075aa3f       1       22056.0\n",
       "1074  73d1cd35-5e5f-4629-8cf2-3fda829d4e58      17       21361.0\n",
       "1364  940c175f-ea87-44e0-9e16-0a3d0a9abecd       2       20232.0"
      ]
     },
     "execution_count": 40,
     "metadata": {},
     "output_type": "execute_result"
    }
   ],
   "source": [
    "#\n",
    "orders_by_customers.sort_values(by='sum_purchase', ascending=False).head(12)"
   ]
  },
  {
   "cell_type": "markdown",
   "metadata": {},
   "source": [
    "Заказы на общую сумму свыше 20 000 рублей сделали всего 12 покупателей из 2394."
   ]
  },
  {
   "cell_type": "markdown",
   "metadata": {},
   "source": [
    "***Построим точечный график количества заказов по пользователям.***"
   ]
  },
  {
   "cell_type": "code",
   "execution_count": 41,
   "metadata": {},
   "outputs": [
    {
     "data": {
      "image/png": "[encoded data removed]",
      "text/plain": [
       "<Figure size 432x288 with 1 Axes>"
      ]
     },
     "metadata": {
      "needs_background": "light"
     },
     "output_type": "display_data"
    }
   ],
   "source": [
    "#\n",
    "x_values = pd.Series(range(0,len(orders_by_customers)))\n",
    "\n",
    "plt.scatter(x_values, orders_by_customers['orders'])\n",
    "\n",
    "plt.ylabel('Заказы')\n",
    "plt.xlabel('Покупатели')\n",
    "plt.title('Количество заказов по покупателям')\n",
    "plt.show()"
   ]
  },
  {
   "cell_type": "markdown",
   "metadata": {},
   "source": [
    "***Посмотрим на график без выбросов:***   "
   ]
  },
  {
   "cell_type": "code",
   "execution_count": 42,
   "metadata": {},
   "outputs": [
    {
     "data": {
      "image/png": "[encoded data removed]",
      "text/plain": [
       "<Figure size 432x288 with 1 Axes>"
      ]
     },
     "metadata": {
      "needs_background": "light"
     },
     "output_type": "display_data"
    }
   ],
   "source": [
    "#\n",
    "orders_by_customers_1 = orders_by_customers.query('orders < 5')\n",
    "x_values = pd.Series(range(0,len(orders_by_customers_1)))\n",
    "\n",
    "plt.scatter(x_values, orders_by_customers_1['orders'])\n",
    "\n",
    "plt.ylabel('Заказы')\n",
    "plt.xlabel('Покупатели')\n",
    "plt.title('Количество заказов по покупателям')\n",
    "plt.show()"
   ]
  },
  {
   "cell_type": "markdown",
   "metadata": {},
   "source": [
    "***Посмотрим в какой квантиль попадают клиенты, сделавшие 3 и более заказов***"
   ]
  },
  {
   "cell_type": "code",
   "execution_count": 43,
   "metadata": {},
   "outputs": [
    {
     "data": {
      "text/plain": [
       "array([2., 2.])"
      ]
     },
     "execution_count": 43,
     "metadata": {},
     "output_type": "execute_result"
    }
   ],
   "source": [
    "np.percentile(orders_by_customers_1['orders'], [95, 99])"
   ]
  },
  {
   "cell_type": "markdown",
   "metadata": {},
   "source": [
    "За исследуемый период покупатели сделали 1-2 заказа. Покупателей с количеством заказов 3 и более - редкое явление - менее 1%."
   ]
  },
  {
   "cell_type": "markdown",
   "metadata": {},
   "source": [
    "***Посмотрим разбивку количества пользователей по категориям, а также выручку по категориям***"
   ]
  },
  {
   "cell_type": "code",
   "execution_count": 44,
   "metadata": {},
   "outputs": [
    {
     "data": {
      "text/html": [
       "<div>\n",
       "<style scoped>\n",
       "    .dataframe tbody tr th:only-of-type {\n",
       "        vertical-align: middle;\n",
       "    }\n",
       "\n",
       "    .dataframe tbody tr th {\n",
       "        vertical-align: top;\n",
       "    }\n",
       "\n",
       "    .dataframe thead th {\n",
       "        text-align: right;\n",
       "    }\n",
       "</style>\n",
       "<table border=\"1\" class=\"dataframe\">\n",
       "  <thead>\n",
       "    <tr style=\"text-align: right;\">\n",
       "      <th></th>\n",
       "      <th>product_category</th>\n",
       "      <th>customer_id</th>\n",
       "      <th>purchase</th>\n",
       "    </tr>\n",
       "  </thead>\n",
       "  <tbody>\n",
       "    <tr>\n",
       "      <th>4</th>\n",
       "      <td>Цветы и растения</td>\n",
       "      <td>656</td>\n",
       "      <td>508816.0</td>\n",
       "    </tr>\n",
       "    <tr>\n",
       "      <th>1</th>\n",
       "      <td>Мебель, техника, декор интерьера</td>\n",
       "      <td>599</td>\n",
       "      <td>800315.0</td>\n",
       "    </tr>\n",
       "    <tr>\n",
       "      <th>2</th>\n",
       "      <td>Хоз.товары, быт.химия и косметика</td>\n",
       "      <td>539</td>\n",
       "      <td>1691764.0</td>\n",
       "    </tr>\n",
       "    <tr>\n",
       "      <th>0</th>\n",
       "      <td>Для кухни</td>\n",
       "      <td>387</td>\n",
       "      <td>538525.0</td>\n",
       "    </tr>\n",
       "    <tr>\n",
       "      <th>3</th>\n",
       "      <td>Хранение вещей и домашний текстиль</td>\n",
       "      <td>332</td>\n",
       "      <td>555195.0</td>\n",
       "    </tr>\n",
       "  </tbody>\n",
       "</table>\n",
       "</div>"
      ],
      "text/plain": [
       "                     product_category  customer_id   purchase\n",
       "4                    Цветы и растения          656   508816.0\n",
       "1    Мебель, техника, декор интерьера          599   800315.0\n",
       "2   Хоз.товары, быт.химия и косметика          539  1691764.0\n",
       "0                           Для кухни          387   538525.0\n",
       "3  Хранение вещей и домашний текстиль          332   555195.0"
      ]
     },
     "execution_count": 44,
     "metadata": {},
     "output_type": "execute_result"
    }
   ],
   "source": [
    "category_by_customers = (\n",
    "    df.groupby('product_category', as_index=False,)\n",
    "    .agg({'customer_id': 'nunique',\n",
    "         'purchase': 'sum'})\n",
    ")\n",
    "\n",
    "category_by_customers.columns = ['product_category', 'customer_id', 'purchase']\n",
    "category_by_customers.sort_values(by='customer_id', ascending=False)"
   ]
  },
  {
   "cell_type": "code",
   "execution_count": 45,
   "metadata": {},
   "outputs": [
    {
     "data": {
      "image/png": "[encoded data removed]",
      "text/plain": [
       "<Figure size 576x288 with 1 Axes>"
      ]
     },
     "metadata": {
      "needs_background": "light"
     },
     "output_type": "display_data"
    }
   ],
   "source": [
    "plt.figure(figsize=(8, 4))\n",
    "sns.barplot(y='product_category', x=\"customer_id\", data=category_by_customers, palette='pastel')\n",
    "plt.title('Количество покупателей по категориям')\n",
    "\n",
    "plt.show()"
   ]
  },
  {
   "cell_type": "code",
   "execution_count": 46,
   "metadata": {},
   "outputs": [
    {
     "data": {
      "text/html": [
       "<div>\n",
       "<style scoped>\n",
       "    .dataframe tbody tr th:only-of-type {\n",
       "        vertical-align: middle;\n",
       "    }\n",
       "\n",
       "    .dataframe tbody tr th {\n",
       "        vertical-align: top;\n",
       "    }\n",
       "\n",
       "    .dataframe thead th {\n",
       "        text-align: right;\n",
       "    }\n",
       "</style>\n",
       "<table border=\"1\" class=\"dataframe\">\n",
       "  <thead>\n",
       "    <tr style=\"text-align: right;\">\n",
       "      <th></th>\n",
       "      <th>product_category</th>\n",
       "      <th>customer_id</th>\n",
       "      <th>purchase</th>\n",
       "    </tr>\n",
       "  </thead>\n",
       "  <tbody>\n",
       "    <tr>\n",
       "      <th>2</th>\n",
       "      <td>Хоз.товары, быт.химия и косметика</td>\n",
       "      <td>539</td>\n",
       "      <td>1691764.0</td>\n",
       "    </tr>\n",
       "    <tr>\n",
       "      <th>1</th>\n",
       "      <td>Мебель, техника, декор интерьера</td>\n",
       "      <td>599</td>\n",
       "      <td>800315.0</td>\n",
       "    </tr>\n",
       "    <tr>\n",
       "      <th>3</th>\n",
       "      <td>Хранение вещей и домашний текстиль</td>\n",
       "      <td>332</td>\n",
       "      <td>555195.0</td>\n",
       "    </tr>\n",
       "    <tr>\n",
       "      <th>0</th>\n",
       "      <td>Для кухни</td>\n",
       "      <td>387</td>\n",
       "      <td>538525.0</td>\n",
       "    </tr>\n",
       "    <tr>\n",
       "      <th>4</th>\n",
       "      <td>Цветы и растения</td>\n",
       "      <td>656</td>\n",
       "      <td>508816.0</td>\n",
       "    </tr>\n",
       "  </tbody>\n",
       "</table>\n",
       "</div>"
      ],
      "text/plain": [
       "                     product_category  customer_id   purchase\n",
       "2   Хоз.товары, быт.химия и косметика          539  1691764.0\n",
       "1    Мебель, техника, декор интерьера          599   800315.0\n",
       "3  Хранение вещей и домашний текстиль          332   555195.0\n",
       "0                           Для кухни          387   538525.0\n",
       "4                    Цветы и растения          656   508816.0"
      ]
     },
     "execution_count": 46,
     "metadata": {},
     "output_type": "execute_result"
    }
   ],
   "source": [
    "category_by_customers.sort_values(by='purchase', ascending=False)"
   ]
  },
  {
   "cell_type": "code",
   "execution_count": 47,
   "metadata": {},
   "outputs": [
    {
     "data": {
      "image/png": "[encoded data removed]",
      "text/plain": [
       "<Figure size 576x288 with 1 Axes>"
      ]
     },
     "metadata": {
      "needs_background": "light"
     },
     "output_type": "display_data"
    }
   ],
   "source": [
    "plt.figure(figsize=(8, 4))\n",
    "sns.barplot(y='product_category', x=\"purchase\", data=category_by_customers, palette='pastel')\n",
    "plt.title('Сумма покупок по категориям')\n",
    "\n",
    "plt.show()"
   ]
  },
  {
   "cell_type": "markdown",
   "metadata": {},
   "source": [
    "Самые популярные категории у пользователей - это `цветы и растения` и `мебель, техника, декор интерьера`, третье место у категории `хоз.товары, быт.химия и косметика`. Это сопоставимо с ассортиментом в категориях.   \n",
    "\n",
    "При этом по выручке лидируют `хоз.товары, быт.химия и косметика` и `мебель, техника, декор интерьера`. Это объясняется более высоким ценником за единицу товара на продукты данных категорий."
   ]
  },
  {
   "cell_type": "markdown",
   "metadata": {},
   "source": [
    "***Посмотрим средний чек по категориям***"
   ]
  },
  {
   "cell_type": "code",
   "execution_count": 48,
   "metadata": {},
   "outputs": [
    {
     "data": {
      "text/html": [
       "<div>\n",
       "<style scoped>\n",
       "    .dataframe tbody tr th:only-of-type {\n",
       "        vertical-align: middle;\n",
       "    }\n",
       "\n",
       "    .dataframe tbody tr th {\n",
       "        vertical-align: top;\n",
       "    }\n",
       "\n",
       "    .dataframe thead th {\n",
       "        text-align: right;\n",
       "    }\n",
       "</style>\n",
       "<table border=\"1\" class=\"dataframe\">\n",
       "  <thead>\n",
       "    <tr style=\"text-align: right;\">\n",
       "      <th></th>\n",
       "      <th>product_category</th>\n",
       "      <th>customer_id</th>\n",
       "      <th>purchase</th>\n",
       "      <th>avg_check</th>\n",
       "    </tr>\n",
       "  </thead>\n",
       "  <tbody>\n",
       "    <tr>\n",
       "      <th>2</th>\n",
       "      <td>Хоз.товары, быт.химия и косметика</td>\n",
       "      <td>539</td>\n",
       "      <td>1691764.0</td>\n",
       "      <td>3138.71</td>\n",
       "    </tr>\n",
       "    <tr>\n",
       "      <th>3</th>\n",
       "      <td>Хранение вещей и домашний текстиль</td>\n",
       "      <td>332</td>\n",
       "      <td>555195.0</td>\n",
       "      <td>1672.27</td>\n",
       "    </tr>\n",
       "    <tr>\n",
       "      <th>0</th>\n",
       "      <td>Для кухни</td>\n",
       "      <td>387</td>\n",
       "      <td>538525.0</td>\n",
       "      <td>1391.54</td>\n",
       "    </tr>\n",
       "    <tr>\n",
       "      <th>1</th>\n",
       "      <td>Мебель, техника, декор интерьера</td>\n",
       "      <td>599</td>\n",
       "      <td>800315.0</td>\n",
       "      <td>1336.09</td>\n",
       "    </tr>\n",
       "    <tr>\n",
       "      <th>4</th>\n",
       "      <td>Цветы и растения</td>\n",
       "      <td>656</td>\n",
       "      <td>508816.0</td>\n",
       "      <td>775.63</td>\n",
       "    </tr>\n",
       "  </tbody>\n",
       "</table>\n",
       "</div>"
      ],
      "text/plain": [
       "                     product_category  customer_id   purchase  avg_check\n",
       "2   Хоз.товары, быт.химия и косметика          539  1691764.0    3138.71\n",
       "3  Хранение вещей и домашний текстиль          332   555195.0    1672.27\n",
       "0                           Для кухни          387   538525.0    1391.54\n",
       "1    Мебель, техника, декор интерьера          599   800315.0    1336.09\n",
       "4                    Цветы и растения          656   508816.0     775.63"
      ]
     },
     "execution_count": 48,
     "metadata": {},
     "output_type": "execute_result"
    }
   ],
   "source": [
    "category_by_customers['avg_check'] = (\n",
    "    round((category_by_customers['purchase']/category_by_customers['customer_id']), 2)\n",
    ")\n",
    "category_by_customers.sort_values(by='avg_check', ascending=False)"
   ]
  },
  {
   "cell_type": "code",
   "execution_count": 49,
   "metadata": {},
   "outputs": [
    {
     "data": {
      "image/png": "[encoded data removed]",
      "text/plain": [
       "<Figure size 576x288 with 1 Axes>"
      ]
     },
     "metadata": {
      "needs_background": "light"
     },
     "output_type": "display_data"
    }
   ],
   "source": [
    "plt.figure(figsize=(8, 4))\n",
    "sns.barplot(y='product_category', x=\"avg_check\", data=category_by_customers, palette='pastel')\n",
    "plt.title('Средний чек по категориям')\n",
    "\n",
    "plt.show()"
   ]
  },
  {
   "cell_type": "markdown",
   "metadata": {},
   "source": [
    "Средний чек самый высокий в категории `хоз.товары, быт.химия и косметика`, самый низкий в категории `цветы и растения`, в остальных категориях средние чеки примерно на одном уровне. Но не следует забывать про наличие аномально больших покупок. "
   ]
  },
  {
   "cell_type": "markdown",
   "metadata": {},
   "source": [
    "***Для дальнейшего исследования удалим выбросы, т.к. кластеризация очень чувствительна к ним:*** выбросами будем считать покупателей, сделавших большое количество заказов (17 и более) или на крупную сумму (свыше 20 тыс. руб.)   \n",
    "Таких покупателей всего **12**. Это потенциальные оптовики. С ними нужно работать отдельно."
   ]
  },
  {
   "cell_type": "code",
   "execution_count": 50,
   "metadata": {},
   "outputs": [
    {
     "data": {
      "text/plain": [
       "array(['312e9a3e-5fca-43ff-a6a1-892d2b2d5ba6',\n",
       "       'c971fb21-d54c-4134-938f-16b62ee86d3b',\n",
       "       '4d93d3f6-8b24-403b-a74b-f5173e40d7db',\n",
       "       '58a4c3cc-504f-43ea-a74a-bae19e665552',\n",
       "       '146cd9bf-a95c-4afb-915b-5f6684b17444',\n",
       "       '498f12a4-6a62-4725-8516-cf5dc9ab8a3a',\n",
       "       '8fba3604-ef57-4b9f-b2fe-3402fa8825c8',\n",
       "       '6987e6d6-a63a-4ce2-a2d0-f424092d235e',\n",
       "       '1b2764ad-9151-4051-a46a-9b01b62e6335',\n",
       "       '9f1e7d7d-ff10-4eb1-b596-1cbf8075aa3f',\n",
       "       '73d1cd35-5e5f-4629-8cf2-3fda829d4e58',\n",
       "       '940c175f-ea87-44e0-9e16-0a3d0a9abecd'], dtype=object)"
      ]
     },
     "execution_count": 50,
     "metadata": {},
     "output_type": "execute_result"
    }
   ],
   "source": [
    "# \n",
    "array_by_customers = orders_by_customers.sort_values(by='sum_purchase', ascending=False).head(12)\n",
    "array_by_customers = array_by_customers['customer_id'].to_numpy()\n",
    "\n",
    "# проверим тип данных new_array  \n",
    "array_by_customers"
   ]
  },
  {
   "cell_type": "code",
   "execution_count": 51,
   "metadata": {},
   "outputs": [
    {
     "data": {
      "text/plain": [
       "(4563, 10)"
      ]
     },
     "execution_count": 51,
     "metadata": {},
     "output_type": "execute_result"
    }
   ],
   "source": [
    "# удалим оптовых клиентов из списка 'array_by_customers' в нашем 'df'\n",
    "df_net = df.query('customer_id not in @array_by_customers')\n",
    "df_net.shape"
   ]
  },
  {
   "cell_type": "code",
   "execution_count": 52,
   "metadata": {
    "scrolled": true
   },
   "outputs": [
    {
     "data": {
      "text/html": [
       "<div>\n",
       "<style scoped>\n",
       "    .dataframe tbody tr th:only-of-type {\n",
       "        vertical-align: middle;\n",
       "    }\n",
       "\n",
       "    .dataframe tbody tr th {\n",
       "        vertical-align: top;\n",
       "    }\n",
       "\n",
       "    .dataframe thead th {\n",
       "        text-align: right;\n",
       "    }\n",
       "</style>\n",
       "<table border=\"1\" class=\"dataframe\">\n",
       "  <thead>\n",
       "    <tr style=\"text-align: right;\">\n",
       "      <th></th>\n",
       "      <th>date</th>\n",
       "      <th>customer_id</th>\n",
       "      <th>order_id</th>\n",
       "      <th>product</th>\n",
       "      <th>quantity</th>\n",
       "      <th>price</th>\n",
       "      <th>purchase</th>\n",
       "      <th>name_product</th>\n",
       "      <th>product_category</th>\n",
       "      <th>date_column</th>\n",
       "    </tr>\n",
       "  </thead>\n",
       "  <tbody>\n",
       "    <tr>\n",
       "      <th>0</th>\n",
       "      <td>2018-10-01</td>\n",
       "      <td>ee47d746-6d2f-4d3c-9622-c31412542920</td>\n",
       "      <td>68477</td>\n",
       "      <td>Комнатное растение в горшке Алое Вера, d12, h30</td>\n",
       "      <td>1</td>\n",
       "      <td>142.0</td>\n",
       "      <td>142.0</td>\n",
       "      <td>Комнатное</td>\n",
       "      <td>Цветы и растения</td>\n",
       "      <td>2018-10</td>\n",
       "    </tr>\n",
       "    <tr>\n",
       "      <th>1</th>\n",
       "      <td>2018-10-01</td>\n",
       "      <td>ee47d746-6d2f-4d3c-9622-c31412542920</td>\n",
       "      <td>68477</td>\n",
       "      <td>Комнатное растение в горшке Кофе Арабика, d12,...</td>\n",
       "      <td>1</td>\n",
       "      <td>194.0</td>\n",
       "      <td>194.0</td>\n",
       "      <td>Комнатное</td>\n",
       "      <td>Цветы и растения</td>\n",
       "      <td>2018-10</td>\n",
       "    </tr>\n",
       "    <tr>\n",
       "      <th>2</th>\n",
       "      <td>2018-10-01</td>\n",
       "      <td>ee47d746-6d2f-4d3c-9622-c31412542920</td>\n",
       "      <td>68477</td>\n",
       "      <td>Радермахера d-12 см h-20 см</td>\n",
       "      <td>1</td>\n",
       "      <td>112.0</td>\n",
       "      <td>112.0</td>\n",
       "      <td>Радермахера</td>\n",
       "      <td>Цветы и растения</td>\n",
       "      <td>2018-10</td>\n",
       "    </tr>\n",
       "  </tbody>\n",
       "</table>\n",
       "</div>"
      ],
      "text/plain": [
       "        date                           customer_id  order_id  \\\n",
       "0 2018-10-01  ee47d746-6d2f-4d3c-9622-c31412542920     68477   \n",
       "1 2018-10-01  ee47d746-6d2f-4d3c-9622-c31412542920     68477   \n",
       "2 2018-10-01  ee47d746-6d2f-4d3c-9622-c31412542920     68477   \n",
       "\n",
       "                                             product  quantity  price  \\\n",
       "0    Комнатное растение в горшке Алое Вера, d12, h30         1  142.0   \n",
       "1  Комнатное растение в горшке Кофе Арабика, d12,...         1  194.0   \n",
       "2                        Радермахера d-12 см h-20 см         1  112.0   \n",
       "\n",
       "   purchase name_product  product_category date_column  \n",
       "0     142.0    Комнатное  Цветы и растения     2018-10  \n",
       "1     194.0    Комнатное  Цветы и растения     2018-10  \n",
       "2     112.0  Радермахера  Цветы и растения     2018-10  "
      ]
     },
     "execution_count": 52,
     "metadata": {},
     "output_type": "execute_result"
    }
   ],
   "source": [
    "df_net.head(3)"
   ]
  },
  {
   "cell_type": "code",
   "execution_count": 53,
   "metadata": {
    "scrolled": true
   },
   "outputs": [
    {
     "name": "stdout",
     "output_type": "stream",
     "text": [
      "Количество уникальных пользоваелей: 2382\n"
     ]
    }
   ],
   "source": [
    "# проверим, сколько уникальных пользователей осталось\n",
    "print('Количество уникальных пользоваелей:', len(df_net['customer_id'].unique()))"
   ]
  },
  {
   "cell_type": "markdown",
   "metadata": {},
   "source": [
    "**Посмотрим что, сколько и когда покупали оптовики**"
   ]
  },
  {
   "cell_type": "code",
   "execution_count": 54,
   "metadata": {},
   "outputs": [
    {
     "data": {
      "text/plain": [
       "(244, 10)"
      ]
     },
     "execution_count": 54,
     "metadata": {},
     "output_type": "execute_result"
    }
   ],
   "source": [
    "df_opt = df.query('customer_id in @array_by_customers')\n",
    "df_opt.shape"
   ]
  },
  {
   "cell_type": "code",
   "execution_count": 55,
   "metadata": {},
   "outputs": [
    {
     "data": {
      "image/png": "[encoded data removed]",
      "text/plain": [
       "<Figure size 864x432 with 1 Axes>"
      ]
     },
     "metadata": {
      "needs_background": "light"
     },
     "output_type": "display_data"
    }
   ],
   "source": [
    "#\n",
    "plt.figure(figsize=(12, 6))\n",
    "sns.countplot(y='product_category', hue=\"date_column\", data=df_opt, palette='pastel')\n",
    "plt.legend(loc=(0.85, 0.1))\n",
    "plt.title('Покупки оптовиков по категориям и месяцам')\n",
    "plt.xlabel('Подсчет')\n",
    "plt.ylabel('Категории товаров');\n",
    "plt.show()"
   ]
  },
  {
   "cell_type": "markdown",
   "metadata": {},
   "source": [
    "#### Вывод"
   ]
  },
  {
   "cell_type": "markdown",
   "metadata": {},
   "source": [
    "Поведение пользователей различается. На данном этапе выделен сегмент, который можно отнести к оптовым покупателям.  Выделим группы \"похожих\" пользователей при помощи кластеризации из оставшихся клиентов."
   ]
  },
  {
   "cell_type": "markdown",
   "metadata": {},
   "source": [
    "### Кластеризация пользователей"
   ]
  },
  {
   "cell_type": "markdown",
   "metadata": {},
   "source": [
    "#### Статистика средних значений признаков для кластеров"
   ]
  },
  {
   "cell_type": "markdown",
   "metadata": {},
   "source": [
    "***Сгруппируем по `customer_id`***"
   ]
  },
  {
   "cell_type": "code",
   "execution_count": 56,
   "metadata": {},
   "outputs": [
    {
     "data": {
      "text/html": [
       "<div>\n",
       "<style scoped>\n",
       "    .dataframe tbody tr th:only-of-type {\n",
       "        vertical-align: middle;\n",
       "    }\n",
       "\n",
       "    .dataframe tbody tr th {\n",
       "        vertical-align: top;\n",
       "    }\n",
       "\n",
       "    .dataframe thead th {\n",
       "        text-align: right;\n",
       "    }\n",
       "</style>\n",
       "<table border=\"1\" class=\"dataframe\">\n",
       "  <thead>\n",
       "    <tr style=\"text-align: right;\">\n",
       "      <th></th>\n",
       "      <th>customer_id</th>\n",
       "      <th>orders</th>\n",
       "      <th>quantity_mean</th>\n",
       "      <th>price_mean</th>\n",
       "      <th>purchase_mean</th>\n",
       "    </tr>\n",
       "  </thead>\n",
       "  <tbody>\n",
       "    <tr>\n",
       "      <th>1695</th>\n",
       "      <td>b7b865ab-0735-407f-8d0c-31f74d2806cc</td>\n",
       "      <td>7</td>\n",
       "      <td>3.78</td>\n",
       "      <td>83.39</td>\n",
       "      <td>209.94</td>\n",
       "    </tr>\n",
       "    <tr>\n",
       "      <th>16</th>\n",
       "      <td>0184f535-b60a-4914-a982-231e3f615206</td>\n",
       "      <td>5</td>\n",
       "      <td>1.93</td>\n",
       "      <td>110.33</td>\n",
       "      <td>196.37</td>\n",
       "    </tr>\n",
       "    <tr>\n",
       "      <th>2082</th>\n",
       "      <td>e0535076-6270-4df2-8621-cb06264a94fa</td>\n",
       "      <td>4</td>\n",
       "      <td>1.00</td>\n",
       "      <td>159.00</td>\n",
       "      <td>159.00</td>\n",
       "    </tr>\n",
       "    <tr>\n",
       "      <th>1765</th>\n",
       "      <td>bea7a833-2074-42db-bc49-4457abd3c930</td>\n",
       "      <td>4</td>\n",
       "      <td>2.14</td>\n",
       "      <td>131.07</td>\n",
       "      <td>314.93</td>\n",
       "    </tr>\n",
       "    <tr>\n",
       "      <th>127</th>\n",
       "      <td>0d1b15b6-9cf3-4642-8bc3-74c7dee7b40e</td>\n",
       "      <td>3</td>\n",
       "      <td>1.10</td>\n",
       "      <td>140.30</td>\n",
       "      <td>153.80</td>\n",
       "    </tr>\n",
       "  </tbody>\n",
       "</table>\n",
       "</div>"
      ],
      "text/plain": [
       "                               customer_id  orders  quantity_mean  price_mean  \\\n",
       "1695  b7b865ab-0735-407f-8d0c-31f74d2806cc       7           3.78       83.39   \n",
       "16    0184f535-b60a-4914-a982-231e3f615206       5           1.93      110.33   \n",
       "2082  e0535076-6270-4df2-8621-cb06264a94fa       4           1.00      159.00   \n",
       "1765  bea7a833-2074-42db-bc49-4457abd3c930       4           2.14      131.07   \n",
       "127   0d1b15b6-9cf3-4642-8bc3-74c7dee7b40e       3           1.10      140.30   \n",
       "\n",
       "      purchase_mean  \n",
       "1695         209.94  \n",
       "16           196.37  \n",
       "2082         159.00  \n",
       "1765         314.93  \n",
       "127          153.80  "
      ]
     },
     "execution_count": 56,
     "metadata": {},
     "output_type": "execute_result"
    }
   ],
   "source": [
    "df_final = (\n",
    "    df_net.groupby('customer_id', as_index=False)\n",
    "    .agg({'order_id':'nunique',\n",
    "         'quantity':'mean',\n",
    "         'price':'mean',\n",
    "         'purchase':'mean'})\n",
    "    .round(2)\n",
    ") \n",
    "df_final.columns = ['customer_id', 'orders', 'quantity_mean', 'price_mean', 'purchase_mean']\n",
    "df_final.sort_values(by='orders', ascending=False).head()\n"
   ]
  },
  {
   "cell_type": "code",
   "execution_count": 57,
   "metadata": {
    "scrolled": true
   },
   "outputs": [],
   "source": [
    "# стандартизируем данные\n",
    "sc = StandardScaler()\n",
    "x_sc = sc.fit_transform(df_final.drop(columns=['customer_id']))\n",
    "# строим матрицу расстояний\n",
    "linked = linkage(x_sc, method = 'ward')"
   ]
  },
  {
   "cell_type": "code",
   "execution_count": 58,
   "metadata": {},
   "outputs": [
    {
     "data": {
      "image/png": "[encoded data removed]",
      "text/plain": [
       "<Figure size 1080x720 with 1 Axes>"
      ]
     },
     "metadata": {
      "needs_background": "light"
     },
     "output_type": "display_data"
    }
   ],
   "source": [
    "# рисуем дендрограмму\n",
    "plt.figure(figsize=(15, 10))  \n",
    "dendrogram(linked, orientation='top', no_labels=True)\n",
    "plt.title('Иерархическая кластеризация для интернет-магазина')\n",
    "plt.show()"
   ]
  },
  {
   "cell_type": "markdown",
   "metadata": {},
   "source": [
    "Предложенное оптимальное число кластеров 4 - по количеству цветов."
   ]
  },
  {
   "cell_type": "code",
   "execution_count": 59,
   "metadata": {},
   "outputs": [],
   "source": [
    "# задаём модель k_means с числом кластеров 4 и фиксируем значение random_state\n",
    "km = KMeans(n_clusters=4, random_state=0)\n",
    "# прогнозируем кластеры для наблюдений (алгоритм присваивает им номера от 0 до 3)\n",
    "labels = km.fit_predict(x_sc)\n"
   ]
  },
  {
   "cell_type": "code",
   "execution_count": 60,
   "metadata": {},
   "outputs": [],
   "source": [
    "# сохраняем метки кластера в поле нашего датасета\n",
    "df_final['cluster'] = labels"
   ]
  },
  {
   "cell_type": "code",
   "execution_count": 61,
   "metadata": {
    "scrolled": false
   },
   "outputs": [
    {
     "data": {
      "text/html": [
       "<div>\n",
       "<style scoped>\n",
       "    .dataframe tbody tr th:only-of-type {\n",
       "        vertical-align: middle;\n",
       "    }\n",
       "\n",
       "    .dataframe tbody tr th {\n",
       "        vertical-align: top;\n",
       "    }\n",
       "\n",
       "    .dataframe thead th {\n",
       "        text-align: right;\n",
       "    }\n",
       "</style>\n",
       "<table border=\"1\" class=\"dataframe\">\n",
       "  <thead>\n",
       "    <tr style=\"text-align: right;\">\n",
       "      <th></th>\n",
       "      <th>customer_id</th>\n",
       "      <th>orders</th>\n",
       "      <th>quantity_mean</th>\n",
       "      <th>price_mean</th>\n",
       "      <th>purchase_mean</th>\n",
       "      <th>cluster</th>\n",
       "    </tr>\n",
       "  </thead>\n",
       "  <tbody>\n",
       "    <tr>\n",
       "      <th>0</th>\n",
       "      <td>000d6849-084e-4d9f-ac03-37174eaf60c4</td>\n",
       "      <td>1</td>\n",
       "      <td>1.0</td>\n",
       "      <td>138.75</td>\n",
       "      <td>138.75</td>\n",
       "      <td>0</td>\n",
       "    </tr>\n",
       "    <tr>\n",
       "      <th>1</th>\n",
       "      <td>001cee7f-0b29-4716-b202-0042213ab038</td>\n",
       "      <td>1</td>\n",
       "      <td>1.0</td>\n",
       "      <td>442.00</td>\n",
       "      <td>442.00</td>\n",
       "      <td>0</td>\n",
       "    </tr>\n",
       "    <tr>\n",
       "      <th>2</th>\n",
       "      <td>00299f34-5385-4d13-9aea-c80b81658e1b</td>\n",
       "      <td>1</td>\n",
       "      <td>2.0</td>\n",
       "      <td>457.00</td>\n",
       "      <td>914.00</td>\n",
       "      <td>0</td>\n",
       "    </tr>\n",
       "    <tr>\n",
       "      <th>3</th>\n",
       "      <td>002d4d3a-4a59-406b-86ec-c3314357e498</td>\n",
       "      <td>1</td>\n",
       "      <td>1.0</td>\n",
       "      <td>1649.00</td>\n",
       "      <td>1649.00</td>\n",
       "      <td>0</td>\n",
       "    </tr>\n",
       "    <tr>\n",
       "      <th>4</th>\n",
       "      <td>003bbd39-0000-41ff-b7f9-2ddaec152037</td>\n",
       "      <td>1</td>\n",
       "      <td>2.0</td>\n",
       "      <td>1162.00</td>\n",
       "      <td>2324.00</td>\n",
       "      <td>0</td>\n",
       "    </tr>\n",
       "  </tbody>\n",
       "</table>\n",
       "</div>"
      ],
      "text/plain": [
       "                            customer_id  orders  quantity_mean  price_mean  \\\n",
       "0  000d6849-084e-4d9f-ac03-37174eaf60c4       1            1.0      138.75   \n",
       "1  001cee7f-0b29-4716-b202-0042213ab038       1            1.0      442.00   \n",
       "2  00299f34-5385-4d13-9aea-c80b81658e1b       1            2.0      457.00   \n",
       "3  002d4d3a-4a59-406b-86ec-c3314357e498       1            1.0     1649.00   \n",
       "4  003bbd39-0000-41ff-b7f9-2ddaec152037       1            2.0     1162.00   \n",
       "\n",
       "   purchase_mean  cluster  \n",
       "0         138.75        0  \n",
       "1         442.00        0  \n",
       "2         914.00        0  \n",
       "3        1649.00        0  \n",
       "4        2324.00        0  "
      ]
     },
     "execution_count": 61,
     "metadata": {},
     "output_type": "execute_result"
    }
   ],
   "source": [
    "df_final.head()"
   ]
  },
  {
   "cell_type": "code",
   "execution_count": 62,
   "metadata": {},
   "outputs": [
    {
     "data": {
      "text/html": [
       "<div>\n",
       "<style scoped>\n",
       "    .dataframe tbody tr th:only-of-type {\n",
       "        vertical-align: middle;\n",
       "    }\n",
       "\n",
       "    .dataframe tbody tr th {\n",
       "        vertical-align: top;\n",
       "    }\n",
       "\n",
       "    .dataframe thead th {\n",
       "        text-align: right;\n",
       "    }\n",
       "</style>\n",
       "<table border=\"1\" class=\"dataframe\">\n",
       "  <thead>\n",
       "    <tr style=\"text-align: right;\">\n",
       "      <th></th>\n",
       "      <th>cluster</th>\n",
       "      <th>customer_id</th>\n",
       "    </tr>\n",
       "  </thead>\n",
       "  <tbody>\n",
       "    <tr>\n",
       "      <th>0</th>\n",
       "      <td>0</td>\n",
       "      <td>1994</td>\n",
       "    </tr>\n",
       "    <tr>\n",
       "      <th>1</th>\n",
       "      <td>1</td>\n",
       "      <td>233</td>\n",
       "    </tr>\n",
       "    <tr>\n",
       "      <th>2</th>\n",
       "      <td>2</td>\n",
       "      <td>12</td>\n",
       "    </tr>\n",
       "    <tr>\n",
       "      <th>3</th>\n",
       "      <td>3</td>\n",
       "      <td>143</td>\n",
       "    </tr>\n",
       "  </tbody>\n",
       "</table>\n",
       "</div>"
      ],
      "text/plain": [
       "   cluster  customer_id\n",
       "0        0         1994\n",
       "1        1          233\n",
       "2        2           12\n",
       "3        3          143"
      ]
     },
     "execution_count": 62,
     "metadata": {},
     "output_type": "execute_result"
    }
   ],
   "source": [
    "# проверим, как рапределилось количество ползователей по кластерам\n",
    "df_final.groupby('cluster', as_index=False).agg({'customer_id':'nunique'})"
   ]
  },
  {
   "cell_type": "markdown",
   "metadata": {},
   "source": [
    "***Выведем статистику по средним значениям наших признаков по кластеру***"
   ]
  },
  {
   "cell_type": "code",
   "execution_count": 63,
   "metadata": {},
   "outputs": [
    {
     "data": {
      "text/html": [
       "<div>\n",
       "<style scoped>\n",
       "    .dataframe tbody tr th:only-of-type {\n",
       "        vertical-align: middle;\n",
       "    }\n",
       "\n",
       "    .dataframe tbody tr th {\n",
       "        vertical-align: top;\n",
       "    }\n",
       "\n",
       "    .dataframe thead th {\n",
       "        text-align: right;\n",
       "    }\n",
       "</style>\n",
       "<table border=\"1\" class=\"dataframe\">\n",
       "  <thead>\n",
       "    <tr style=\"text-align: right;\">\n",
       "      <th>cluster</th>\n",
       "      <th>0</th>\n",
       "      <th>1</th>\n",
       "      <th>2</th>\n",
       "      <th>3</th>\n",
       "    </tr>\n",
       "  </thead>\n",
       "  <tbody>\n",
       "    <tr>\n",
       "      <th>orders</th>\n",
       "      <td>1.00</td>\n",
       "      <td>1.03</td>\n",
       "      <td>1.00</td>\n",
       "      <td>2.22</td>\n",
       "    </tr>\n",
       "    <tr>\n",
       "      <th>quantity_mean</th>\n",
       "      <td>2.55</td>\n",
       "      <td>2.26</td>\n",
       "      <td>140.50</td>\n",
       "      <td>2.59</td>\n",
       "    </tr>\n",
       "    <tr>\n",
       "      <th>price_mean</th>\n",
       "      <td>492.49</td>\n",
       "      <td>3445.60</td>\n",
       "      <td>37.04</td>\n",
       "      <td>449.62</td>\n",
       "    </tr>\n",
       "    <tr>\n",
       "      <th>purchase_mean</th>\n",
       "      <td>641.95</td>\n",
       "      <td>4109.89</td>\n",
       "      <td>5404.42</td>\n",
       "      <td>572.08</td>\n",
       "    </tr>\n",
       "  </tbody>\n",
       "</table>\n",
       "</div>"
      ],
      "text/plain": [
       "cluster             0        1        2       3\n",
       "orders           1.00     1.03     1.00    2.22\n",
       "quantity_mean    2.55     2.26   140.50    2.59\n",
       "price_mean     492.49  3445.60    37.04  449.62\n",
       "purchase_mean  641.95  4109.89  5404.42  572.08"
      ]
     },
     "execution_count": 63,
     "metadata": {},
     "output_type": "execute_result"
    }
   ],
   "source": [
    "# выводим статистику по средним значениям наших признаков по кластеру\n",
    "df_final.groupby('cluster').mean().round(2).T"
   ]
  },
  {
   "cell_type": "markdown",
   "metadata": {},
   "source": [
    "##### Вывод\n",
    "\n",
    "* в 0-й кластер попали клиенты, которые сделали только один заказ, содержащий в среднем 2.55 позиций, среднйй ценник в пределах 500 руб. и средняя цена покупки до 642 рубля. \n",
    "* в 1-й кластер попали клиенты, которые сделали 1 или более заказов,содержащих в среднем 2.26 позиций. При этом более высокий средний ценник - 3445.60 руб. и  около 4000 общая стоимость покупки.   \n",
    "* во 2-й кластер попали клиенты, которые сделали 1 заказ, содержащий 140.5 позиций со средним ценником 37.04 рубля, общей стоимостью покупки 5404.42 рубля.\n",
    "* в 3-й кластер попали клиенты, которые сделали более двух заказов, содержащих в среднем 2.59 позиций, среднйй ценник в пределах 450 руб. и средняя цена покупки до 600 рублей"
   ]
  },
  {
   "cell_type": "markdown",
   "metadata": {},
   "source": [
    "#### Распределения признаков для кластеров"
   ]
  },
  {
   "cell_type": "markdown",
   "metadata": {},
   "source": [
    "Объединим таблицы ***df_net*** и ***df_final***, чтобы посмотреть попарное сочетание признаков для кластеров. "
   ]
  },
  {
   "cell_type": "code",
   "execution_count": 64,
   "metadata": {
    "scrolled": false
   },
   "outputs": [
    {
     "data": {
      "text/html": [
       "<div>\n",
       "<style scoped>\n",
       "    .dataframe tbody tr th:only-of-type {\n",
       "        vertical-align: middle;\n",
       "    }\n",
       "\n",
       "    .dataframe tbody tr th {\n",
       "        vertical-align: top;\n",
       "    }\n",
       "\n",
       "    .dataframe thead th {\n",
       "        text-align: right;\n",
       "    }\n",
       "</style>\n",
       "<table border=\"1\" class=\"dataframe\">\n",
       "  <thead>\n",
       "    <tr style=\"text-align: right;\">\n",
       "      <th></th>\n",
       "      <th>date</th>\n",
       "      <th>customer_id</th>\n",
       "      <th>order_id</th>\n",
       "      <th>product</th>\n",
       "      <th>quantity</th>\n",
       "      <th>price</th>\n",
       "      <th>purchase</th>\n",
       "      <th>name_product</th>\n",
       "      <th>product_category</th>\n",
       "      <th>date_column</th>\n",
       "      <th>orders</th>\n",
       "      <th>quantity_mean</th>\n",
       "      <th>price_mean</th>\n",
       "      <th>purchase_mean</th>\n",
       "      <th>cluster</th>\n",
       "    </tr>\n",
       "  </thead>\n",
       "  <tbody>\n",
       "    <tr>\n",
       "      <th>0</th>\n",
       "      <td>2018-10-01</td>\n",
       "      <td>ee47d746-6d2f-4d3c-9622-c31412542920</td>\n",
       "      <td>68477</td>\n",
       "      <td>Комнатное растение в горшке Алое Вера, d12, h30</td>\n",
       "      <td>1</td>\n",
       "      <td>142.0</td>\n",
       "      <td>142.0</td>\n",
       "      <td>Комнатное</td>\n",
       "      <td>Цветы и растения</td>\n",
       "      <td>2018-10</td>\n",
       "      <td>1</td>\n",
       "      <td>1.0</td>\n",
       "      <td>148.14</td>\n",
       "      <td>148.14</td>\n",
       "      <td>0</td>\n",
       "    </tr>\n",
       "    <tr>\n",
       "      <th>1</th>\n",
       "      <td>2018-10-01</td>\n",
       "      <td>ee47d746-6d2f-4d3c-9622-c31412542920</td>\n",
       "      <td>68477</td>\n",
       "      <td>Комнатное растение в горшке Кофе Арабика, d12,...</td>\n",
       "      <td>1</td>\n",
       "      <td>194.0</td>\n",
       "      <td>194.0</td>\n",
       "      <td>Комнатное</td>\n",
       "      <td>Цветы и растения</td>\n",
       "      <td>2018-10</td>\n",
       "      <td>1</td>\n",
       "      <td>1.0</td>\n",
       "      <td>148.14</td>\n",
       "      <td>148.14</td>\n",
       "      <td>0</td>\n",
       "    </tr>\n",
       "    <tr>\n",
       "      <th>2</th>\n",
       "      <td>2018-10-01</td>\n",
       "      <td>ee47d746-6d2f-4d3c-9622-c31412542920</td>\n",
       "      <td>68477</td>\n",
       "      <td>Радермахера d-12 см h-20 см</td>\n",
       "      <td>1</td>\n",
       "      <td>112.0</td>\n",
       "      <td>112.0</td>\n",
       "      <td>Радермахера</td>\n",
       "      <td>Цветы и растения</td>\n",
       "      <td>2018-10</td>\n",
       "      <td>1</td>\n",
       "      <td>1.0</td>\n",
       "      <td>148.14</td>\n",
       "      <td>148.14</td>\n",
       "      <td>0</td>\n",
       "    </tr>\n",
       "  </tbody>\n",
       "</table>\n",
       "</div>"
      ],
      "text/plain": [
       "        date                           customer_id  order_id  \\\n",
       "0 2018-10-01  ee47d746-6d2f-4d3c-9622-c31412542920     68477   \n",
       "1 2018-10-01  ee47d746-6d2f-4d3c-9622-c31412542920     68477   \n",
       "2 2018-10-01  ee47d746-6d2f-4d3c-9622-c31412542920     68477   \n",
       "\n",
       "                                             product  quantity  price  \\\n",
       "0    Комнатное растение в горшке Алое Вера, d12, h30         1  142.0   \n",
       "1  Комнатное растение в горшке Кофе Арабика, d12,...         1  194.0   \n",
       "2                        Радермахера d-12 см h-20 см         1  112.0   \n",
       "\n",
       "   purchase name_product  product_category date_column  orders  quantity_mean  \\\n",
       "0     142.0    Комнатное  Цветы и растения     2018-10       1            1.0   \n",
       "1     194.0    Комнатное  Цветы и растения     2018-10       1            1.0   \n",
       "2     112.0  Радермахера  Цветы и растения     2018-10       1            1.0   \n",
       "\n",
       "   price_mean  purchase_mean  cluster  \n",
       "0      148.14         148.14        0  \n",
       "1      148.14         148.14        0  \n",
       "2      148.14         148.14        0  "
      ]
     },
     "execution_count": 64,
     "metadata": {},
     "output_type": "execute_result"
    }
   ],
   "source": [
    "#  метод merge() для объединения таблиц\n",
    "df_merge = df_net.merge(df_final, on='customer_id', how='left')\n",
    "df_merge.head(3)"
   ]
  },
  {
   "cell_type": "markdown",
   "metadata": {},
   "source": [
    "***Выполним проверки***"
   ]
  },
  {
   "cell_type": "code",
   "execution_count": 65,
   "metadata": {
    "scrolled": true
   },
   "outputs": [
    {
     "name": "stdout",
     "output_type": "stream",
     "text": [
      "Количество уникальных пользоваелей: 2382\n"
     ]
    }
   ],
   "source": [
    "print('Количество уникальных пользоваелей:', len(df_merge['customer_id'].unique()))"
   ]
  },
  {
   "cell_type": "code",
   "execution_count": 66,
   "metadata": {
    "scrolled": false
   },
   "outputs": [
    {
     "name": "stdout",
     "output_type": "stream",
     "text": [
      "<class 'pandas.core.frame.DataFrame'>\n",
      "Int64Index: 4563 entries, 0 to 4562\n",
      "Data columns (total 15 columns):\n",
      " #   Column            Non-Null Count  Dtype         \n",
      "---  ------            --------------  -----         \n",
      " 0   date              4563 non-null   datetime64[ns]\n",
      " 1   customer_id       4563 non-null   object        \n",
      " 2   order_id          4563 non-null   int64         \n",
      " 3   product           4563 non-null   object        \n",
      " 4   quantity          4563 non-null   int64         \n",
      " 5   price             4563 non-null   float64       \n",
      " 6   purchase          4563 non-null   float64       \n",
      " 7   name_product      4563 non-null   object        \n",
      " 8   product_category  4563 non-null   object        \n",
      " 9   date_column       4563 non-null   object        \n",
      " 10  orders            4563 non-null   int64         \n",
      " 11  quantity_mean     4563 non-null   float64       \n",
      " 12  price_mean        4563 non-null   float64       \n",
      " 13  purchase_mean     4563 non-null   float64       \n",
      " 14  cluster           4563 non-null   int32         \n",
      "dtypes: datetime64[ns](1), float64(5), int32(1), int64(3), object(5)\n",
      "memory usage: 552.6+ KB\n"
     ]
    }
   ],
   "source": [
    "df_merge.info()"
   ]
  },
  {
   "cell_type": "code",
   "execution_count": 67,
   "metadata": {
    "scrolled": false
   },
   "outputs": [
    {
     "data": {
      "image/png": "[encoded data removed]",
      "text/plain": [
       "<Figure size 864x432 with 1 Axes>"
      ]
     },
     "metadata": {
      "needs_background": "light"
     },
     "output_type": "display_data"
    }
   ],
   "source": [
    "#\n",
    "plt.figure(figsize=(12, 6))\n",
    "sns.countplot(y='product_category', hue=\"cluster\", data=df_merge, palette='pastel')\n",
    "plt.title('Продажи категорий товаров по кластерам')\n",
    "plt.xlabel('Подсчет')\n",
    "plt.ylabel('Категории товаров');\n",
    "plt.show()"
   ]
  },
  {
   "cell_type": "code",
   "execution_count": 68,
   "metadata": {},
   "outputs": [
    {
     "data": {
      "image/png": "[encoded data removed]",
      "text/plain": [
       "<Figure size 864x432 with 1 Axes>"
      ]
     },
     "metadata": {
      "needs_background": "light"
     },
     "output_type": "display_data"
    }
   ],
   "source": [
    "#\n",
    "plt.figure(figsize=(12, 6))\n",
    "sns.countplot(x='date_column', hue=\"cluster\", data=df_merge, palette='pastel')\n",
    "plt.title('Месяц продажи товаров по кластерам')\n",
    "plt.xlabel('Номер месяца')\n",
    "plt.ylabel('Подсчет');\n",
    "plt.show()"
   ]
  },
  {
   "cell_type": "code",
   "execution_count": 69,
   "metadata": {
    "scrolled": false
   },
   "outputs": [
    {
     "data": {
      "image/png": "[encoded data removed]",
      "text/plain": [
       "<Figure size 432x288 with 1 Axes>"
      ]
     },
     "metadata": {
      "needs_background": "light"
     },
     "output_type": "display_data"
    },
    {
     "data": {
      "image/png": "[encoded data removed]",
      "text/plain": [
       "<Figure size 432x288 with 1 Axes>"
      ]
     },
     "metadata": {
      "needs_background": "light"
     },
     "output_type": "display_data"
    },
    {
     "data": {
      "image/png": "[encoded data removed]",
      "text/plain": [
       "<Figure size 432x288 with 1 Axes>"
      ]
     },
     "metadata": {
      "needs_background": "light"
     },
     "output_type": "display_data"
    }
   ],
   "source": [
    "numerical_columns = ['quantity_mean', 'price_mean', 'purchase_mean']\n",
    "\n",
    "for column in numerical_columns:\n",
    "    plt.figure(figsize=(6, 4))\n",
    "    sns.barplot(data=df_merge, y=df_merge[column], \n",
    "                x=df_merge['cluster'],palette='pastel')\n",
    "    plt.title(column)\n",
    "    plt.show()\n"
   ]
  },
  {
   "cell_type": "markdown",
   "metadata": {},
   "source": [
    "**Посмотрим подробнее когда и какие категории товаров покупали клиенты из 2 кластера:**"
   ]
  },
  {
   "cell_type": "code",
   "execution_count": 70,
   "metadata": {
    "scrolled": true
   },
   "outputs": [
    {
     "data": {
      "image/png": "[encoded data removed]",
      "text/plain": [
       "<Figure size 864x288 with 1 Axes>"
      ]
     },
     "metadata": {
      "needs_background": "light"
     },
     "output_type": "display_data"
    }
   ],
   "source": [
    "clas_2 = df_merge.query('cluster == 2')\n",
    "#\n",
    "plt.figure(figsize=(12, 4))\n",
    "sns.countplot(x='date_column', hue=\"product_category\", data=clas_2, palette='pastel')\n",
    "plt.legend(loc=(0.43, 0.68))\n",
    "plt.xlabel('Месяц, год')\n",
    "plt.ylabel('Подсчет');\n",
    "plt.title('Продажи для 2-го кластера')\n",
    "\n",
    "plt.show()"
   ]
  },
  {
   "cell_type": "markdown",
   "metadata": {},
   "source": [
    "##### Вывод"
   ]
  },
  {
   "cell_type": "markdown",
   "metadata": {},
   "source": [
    "0-й кластер лидирует во всех ктегориях товаров, но осабенно много продаж в категории *Цветы и растения*. 3-й кластер также много покупал из категории *Цветы и растения*. Поэтому для кластеров 0 и 3 наблюдается повышение продаж в дачный сезон (апрель-май). Продажи в 1 и 2 кластерах в течении года колеблются незначительно на фоне общего спроса. Покупатели 1 и 2 кластера преобретали товары из категорий, которые включают в себя различные товары для дома.   \n",
    "Отдельно стоит отметить, что во 2 кластер попали всего 12 клиентов, их характерная особеннось -  заказы, состоящие из большого количества единиц дешевых товаров в заказе. По сумме покупки они не превышают 5500 руб и не попадают под опт. Возможно стоит выделить таких покупателей как \"мелкий опт\". Еще одна характерная особенность - клиенты 2 кластера не покупали товары из категории Цветы и растения."
   ]
  },
  {
   "cell_type": "markdown",
   "metadata": {},
   "source": [
    "## Проверка гипотез"
   ]
  },
  {
   "cell_type": "markdown",
   "metadata": {},
   "source": [
    "***Проверим, нормально ли распределены суммы `purchase_mean`. Применим критерий Шапиро-Уилка***"
   ]
  },
  {
   "cell_type": "code",
   "execution_count": 71,
   "metadata": {},
   "outputs": [
    {
     "name": "stdout",
     "output_type": "stream",
     "text": [
      "p-значение:  0.0\n",
      "Отвергаем нулевую гипотезу: распределение не нормально\n"
     ]
    }
   ],
   "source": [
    "sample_1 = df_final['purchase_mean']\n",
    "\n",
    "alpha = 0.05  # критический уровень статистической значимости\n",
    "\n",
    "results = st.shapiro(sample_1)\n",
    "# второе значение в массиве результатов (с индексом 1) - это p-value:\n",
    "p_value = results[1]\n",
    "\n",
    "print('p-значение: ', p_value)\n",
    "\n",
    "if p_value < alpha:\n",
    "    print('Отвергаем нулевую гипотезу: распределение не нормально')\n",
    "else:\n",
    "    print('Не получилось отвергнуть нулевую гипотезу, всё нормально') \n"
   ]
  },
  {
   "cell_type": "markdown",
   "metadata": {},
   "source": [
    "С вязанная с измеряемой социальной активностью величина распределена ненормально `purchase_mean`: одни покупатели покупают много больше и дороже по сравнению с другими покупателями.    \n",
    "В таком случае для проверки гипотез следует применить непараметрический тест Уилкоксона-Манна-Уитни. Метод ***st.mannwhitneyu()***. "
   ]
  },
  {
   "cell_type": "code",
   "execution_count": 72,
   "metadata": {
    "scrolled": true
   },
   "outputs": [
    {
     "data": {
      "text/html": [
       "<div>\n",
       "<style scoped>\n",
       "    .dataframe tbody tr th:only-of-type {\n",
       "        vertical-align: middle;\n",
       "    }\n",
       "\n",
       "    .dataframe tbody tr th {\n",
       "        vertical-align: top;\n",
       "    }\n",
       "\n",
       "    .dataframe thead th {\n",
       "        text-align: right;\n",
       "    }\n",
       "</style>\n",
       "<table border=\"1\" class=\"dataframe\">\n",
       "  <thead>\n",
       "    <tr style=\"text-align: right;\">\n",
       "      <th>cluster</th>\n",
       "      <th>0</th>\n",
       "      <th>1</th>\n",
       "      <th>2</th>\n",
       "      <th>3</th>\n",
       "    </tr>\n",
       "  </thead>\n",
       "  <tbody>\n",
       "    <tr>\n",
       "      <th>orders</th>\n",
       "      <td>1.00</td>\n",
       "      <td>1.03</td>\n",
       "      <td>1.00</td>\n",
       "      <td>2.22</td>\n",
       "    </tr>\n",
       "    <tr>\n",
       "      <th>quantity_mean</th>\n",
       "      <td>2.55</td>\n",
       "      <td>2.26</td>\n",
       "      <td>140.50</td>\n",
       "      <td>2.59</td>\n",
       "    </tr>\n",
       "    <tr>\n",
       "      <th>price_mean</th>\n",
       "      <td>492.49</td>\n",
       "      <td>3445.60</td>\n",
       "      <td>37.04</td>\n",
       "      <td>449.62</td>\n",
       "    </tr>\n",
       "    <tr>\n",
       "      <th>purchase_mean</th>\n",
       "      <td>641.95</td>\n",
       "      <td>4109.89</td>\n",
       "      <td>5404.42</td>\n",
       "      <td>572.08</td>\n",
       "    </tr>\n",
       "  </tbody>\n",
       "</table>\n",
       "</div>"
      ],
      "text/plain": [
       "cluster             0        1        2       3\n",
       "orders           1.00     1.03     1.00    2.22\n",
       "quantity_mean    2.55     2.26   140.50    2.59\n",
       "price_mean     492.49  3445.60    37.04  449.62\n",
       "purchase_mean  641.95  4109.89  5404.42  572.08"
      ]
     },
     "execution_count": 72,
     "metadata": {},
     "output_type": "execute_result"
    }
   ],
   "source": [
    "# выводим статистику по средним значениям наших признаков по кластеру\n",
    "df_final.groupby('cluster').mean().round(2).T"
   ]
  },
  {
   "cell_type": "markdown",
   "metadata": {},
   "source": [
    "**Создадим функцию, которая будет проверять попарно гипотезы:**"
   ]
  },
  {
   "cell_type": "code",
   "execution_count": 73,
   "metadata": {},
   "outputs": [
    {
     "name": "stdout",
     "output_type": "stream",
     "text": [
      "p-значение: 3.550340697461741e-09\n",
      "Отвергнем нулевую гипотезу\n"
     ]
    }
   ],
   "source": [
    "# \n",
    "def check_hypothesis(x1, x2, col='purchase_mean', alpha=0.05):\n",
    "     \n",
    "    p1 = df_final.query('cluster == @x1')[col]\n",
    "    p2 = df_final.query('cluster == @x2')[col]\n",
    "\n",
    "    results = st.mannwhitneyu(p1, p2)\n",
    "    \n",
    "    print('p-значение:', results.pvalue)\n",
    "    \n",
    "    if results.pvalue < alpha:\n",
    "        print('Отвергнем нулевую гипотезу')\n",
    "    \n",
    "    else:\n",
    "        print('Не получилось отвергнуть нулевую гипотезу')\n",
    "\n",
    "# проверим работоспособность функции:\n",
    "check_hypothesis(0, 2)"
   ]
  },
  {
   "cell_type": "markdown",
   "metadata": {},
   "source": [
    "**Создадим переменную со списком возможных уникальных комбинаций кластеров:**"
   ]
  },
  {
   "cell_type": "code",
   "execution_count": 74,
   "metadata": {},
   "outputs": [
    {
     "data": {
      "text/plain": [
       "[(0, 1), (0, 3), (0, 2), (1, 3), (1, 2), (3, 2)]"
      ]
     },
     "execution_count": 74,
     "metadata": {},
     "output_type": "execute_result"
    }
   ],
   "source": [
    "comb_cluster = list(combinations(df_final['cluster'].unique(), 2))\n",
    "comb_cluster"
   ]
  },
  {
   "cell_type": "markdown",
   "metadata": {},
   "source": [
    "***Проверим гипотезы***   \n",
    "**I**   \n",
    "\n",
    "**Н0**: Средние суммы покупок клиентов из разных кластеров равны.   \n",
    "**Н1**: Средние суммы покупок клиентов из разных кластеров не равны."
   ]
  },
  {
   "cell_type": "code",
   "execution_count": 75,
   "metadata": {},
   "outputs": [
    {
     "name": "stdout",
     "output_type": "stream",
     "text": [
      "Для кластеров: (0, 1)\n",
      "p-значение: 4.284018707360538e-135\n",
      "Отвергнем нулевую гипотезу\n",
      "\n",
      "Для кластеров: (0, 3)\n",
      "p-значение: 0.06421001500943607\n",
      "Не получилось отвергнуть нулевую гипотезу\n",
      "\n",
      "Для кластеров: (0, 2)\n",
      "p-значение: 3.550340697461741e-09\n",
      "Отвергнем нулевую гипотезу\n",
      "\n",
      "Для кластеров: (1, 3)\n",
      "p-значение: 2.700829606663406e-57\n",
      "Отвергнем нулевую гипотезу\n",
      "\n",
      "Для кластеров: (1, 2)\n",
      "p-значение: 0.21698792882914175\n",
      "Не получилось отвергнуть нулевую гипотезу\n",
      "\n",
      "Для кластеров: (3, 2)\n",
      "p-значение: 1.6912419462158375e-08\n",
      "Отвергнем нулевую гипотезу\n",
      "\n"
     ]
    }
   ],
   "source": [
    "# средняя сумма покупки для уникальных пар кластеров\n",
    "for comb in comb_cluster:\n",
    "    print('Для кластеров:', comb)\n",
    "    \n",
    "    check_hypothesis(comb[0], comb[1])\n",
    "    print()"
   ]
  },
  {
   "cell_type": "markdown",
   "metadata": {},
   "source": [
    "**II**   \n",
    "\n",
    "**Н0**: Количество товаров в заказе клиентов из разных кластеров равны.   \n",
    "**Н1**: Количество товаров в заказе клиентов из разных кластеров не равны."
   ]
  },
  {
   "cell_type": "code",
   "execution_count": 76,
   "metadata": {},
   "outputs": [
    {
     "name": "stdout",
     "output_type": "stream",
     "text": [
      "Для кластеров: (0, 1)\n",
      "p-значение: 0.000311273976922737\n",
      "Отвергнем нулевую гипотезу\n",
      "\n",
      "Для кластеров: (0, 3)\n",
      "p-значение: 0.005796749314585784\n",
      "Отвергнем нулевую гипотезу\n",
      "\n",
      "Для кластеров: (0, 2)\n",
      "p-значение: 4.4848510623969945e-14\n",
      "Отвергнем нулевую гипотезу\n",
      "\n",
      "Для кластеров: (1, 3)\n",
      "p-значение: 1.25234579312635e-06\n",
      "Отвергнем нулевую гипотезу\n",
      "\n",
      "Для кластеров: (1, 2)\n",
      "p-значение: 6.381566891720765e-17\n",
      "Отвергнем нулевую гипотезу\n",
      "\n",
      "Для кластеров: (3, 2)\n",
      "p-значение: 3.30921157800456e-10\n",
      "Отвергнем нулевую гипотезу\n",
      "\n"
     ]
    }
   ],
   "source": [
    "# среднее количество товара в заказе для уникальных пар кластеров\n",
    "for comb in comb_cluster:\n",
    "    print('Для кластеров:', comb)\n",
    "    \n",
    "    check_hypothesis(comb[0], comb[1], 'quantity_mean')\n",
    "    print()"
   ]
  },
  {
   "cell_type": "markdown",
   "metadata": {},
   "source": [
    "####  Вывод\n",
    "\n",
    "Результаты тестов дают основания полагать, что пересечения интересов кластеров не значительны. Разбивка на кластеры корректна."
   ]
  },
  {
   "cell_type": "markdown",
   "metadata": {},
   "source": [
    "## Выводы и предложения\n",
    "*В рамках учебного проекта не будем углубляться в возможный скачок цен из-за инфляции, в реальном проекте при анализе необходимо учитывать все нюансы.*"
   ]
  },
  {
   "cell_type": "markdown",
   "metadata": {},
   "source": [
    "Среди клиентов интернет-магазина можно выделить следующие сегменты покупателей:   \n",
    "* `Оптовые покупатели:`\n",
    "клиенты, сделавшие большое количество заказов (17 и более) или на крупную сумму покупки (свыше 20 тыс. руб.)"
   ]
  },
  {
   "cell_type": "code",
   "execution_count": 77,
   "metadata": {},
   "outputs": [
    {
     "data": {
      "image/png": "[encoded data removed]",
      "text/plain": [
       "<Figure size 864x432 with 1 Axes>"
      ]
     },
     "metadata": {
      "needs_background": "light"
     },
     "output_type": "display_data"
    }
   ],
   "source": [
    "# \n",
    "plt.figure(figsize=(12, 6))\n",
    "sns.countplot(x='date_column', hue=\"product_category\", data=df_opt, palette='pastel')\n",
    "plt.legend(loc=(0.61, 0.7))\n",
    "plt.title('Продажи оптовым покупателям по категориям и месяцам 2018 г.')\n",
    "plt.xlabel('Месяц')\n",
    "plt.ylabel('Подсчет');\n",
    "plt.show()"
   ]
  },
  {
   "cell_type": "markdown",
   "metadata": {},
   "source": [
    "Самая востребованная категория товаров у оптовых покупателей - это все товары из категорий *для дома*. Категория *Цветы и растения* - не менее популярна. В период с октября 2018 г. продажи стали падать, а в июне 2018 г. почти сошли на нет и до октября 2019 г. не было продаж.    \n",
    "Требуются дополнительные данные, что бы разобраться в причинах падения продаж. Исходя из этого строить дальнейшую стратегию. В рамках учебного проекта недостаточно вводных данных, что бы дать какие-то рекомендации по увеличению продаж в этом сегменте.   "
   ]
  },
  {
   "cell_type": "markdown",
   "metadata": {},
   "source": [
    "* `Кластер 0`:\n",
    "в 0-й кластер попали клиенты, которые сделали только один заказ, содержащий в среднем 2.55 позиций, среднйй ценник за единицу товара в пределах 500 руб. и средняя сумма покупки до 642 рубля."
   ]
  },
  {
   "cell_type": "code",
   "execution_count": 78,
   "metadata": {
    "scrolled": true
   },
   "outputs": [
    {
     "data": {
      "image/png": "[encoded data removed]",
      "text/plain": [
       "<Figure size 864x288 with 1 Axes>"
      ]
     },
     "metadata": {
      "needs_background": "light"
     },
     "output_type": "display_data"
    }
   ],
   "source": [
    "clas_0 = df_merge.query('cluster == 0')\n",
    "#\n",
    "plt.figure(figsize=(12, 4))\n",
    "sns.countplot(x='date_column', hue=\"product_category\", data=clas_0, palette='pastel')\n",
    "#plt.legend(loc=(0.43, 0.68))\n",
    "plt.xlabel('Месяц, год')\n",
    "plt.ylabel('Подсчет');\n",
    "plt.title('Продажи для 0-го кластера')\n",
    "\n",
    "plt.show()"
   ]
  },
  {
   "cell_type": "markdown",
   "metadata": {},
   "source": [
    "Клиенты этого сегмента лишь однажды купили товары за исследуемый период. Продажи есть во всех категориях, но лидирует *Цветы и растения*.   \n",
    "Рост спроса наблюдается в дачный сезон, затем идет спад. Проблема -удержание клиентов и низкий средний чек.   \n",
    "\n",
    "*Рекомендации:* сформировать рассылку, исходя из предпочтений покупателей, включить специальные предложения, учесть сезонность товаров. Разработать систему бонусов для постоянных покупателей, о чем сообщить в рассылке."
   ]
  },
  {
   "cell_type": "markdown",
   "metadata": {},
   "source": [
    "* `Кластер 1:` \n",
    "клиенты, которые сделали в среднем 1.03 заказ, содержащий в среднем 2.26 позиций. При этом средний ценник - 3445.60 руб. и около 4000 средняя сумма покупки."
   ]
  },
  {
   "cell_type": "code",
   "execution_count": 79,
   "metadata": {
    "scrolled": false
   },
   "outputs": [
    {
     "data": {
      "image/png": "[encoded data removed]",
      "text/plain": [
       "<Figure size 864x288 with 1 Axes>"
      ]
     },
     "metadata": {
      "needs_background": "light"
     },
     "output_type": "display_data"
    }
   ],
   "source": [
    "clas_1 = df_merge.query('cluster == 1')\n",
    "#\n",
    "plt.figure(figsize=(12, 4))\n",
    "sns.countplot(x='date_column', hue=\"product_category\", data=clas_1, palette='pastel')\n",
    "plt.legend(loc=(0.001, 0.72))\n",
    "plt.xlabel('Месяц, год')\n",
    "plt.ylabel('Подсчет');\n",
    "plt.title('Продажи для 1-го кластера')\n",
    "\n",
    "plt.show()"
   ]
  },
  {
   "cell_type": "markdown",
   "metadata": {},
   "source": [
    "Среднее количество заказов = 1.03 говорит о том, что клиенты данной категории редко делали заказы больше 1 раза. Отдают предпочтение товарам *для дома*, редко покупают товары категории *Цветы и растения*. Проблема - удержание клиентов.   \n",
    "\n",
    "*Рекомендации:* сформировать рассылку, исходя из предпочтений покупателей, включить специальные предложения. Для удержания клиентов разработать систему бонусов для постоянных покупателей, о чем сообщить в рассылке."
   ]
  },
  {
   "cell_type": "markdown",
   "metadata": {},
   "source": [
    "* `Кластер 2 (мелкие оптовые покупатели):`\n",
    "во 2-й кластер попали клиенты, которые сделали 1 заказ, содержащий в среднем 140.5 позиций со средним ценником за единицу товара 37.04 рубля и  средней суммой покупки 5404.42 рубля."
   ]
  },
  {
   "cell_type": "code",
   "execution_count": 80,
   "metadata": {
    "scrolled": false
   },
   "outputs": [
    {
     "data": {
      "image/png": "[encoded data removed]",
      "text/plain": [
       "<Figure size 864x288 with 1 Axes>"
      ]
     },
     "metadata": {
      "needs_background": "light"
     },
     "output_type": "display_data"
    }
   ],
   "source": [
    "clas_2 = df_merge.query('cluster == 2')\n",
    "#\n",
    "plt.figure(figsize=(12, 4))\n",
    "sns.countplot(x='date_column', hue=\"product_category\", data=clas_2, palette='pastel')\n",
    "plt.legend(loc=(0.43, 0.68))\n",
    "plt.xlabel('Месяц, год')\n",
    "plt.ylabel('Подсчет');\n",
    "plt.title('Продажи для 2-го кластера, мелкий ОПТ')\n",
    "\n",
    "plt.show()"
   ]
  },
  {
   "cell_type": "markdown",
   "metadata": {},
   "source": [
    "В этот сегмент попали всего 12 клиентов, их характерная особеннось - единичные продажи, состоящие из большого количества единиц дешевых товаров в заказе. По сумме покупки они не превышают 5500 руб и не попадают под ОПТ.   \n",
    "Еще одна характерная особенность - клиенты этого сегмента не покупали товары из категории *Цветы и растения*, т.е. товары имеющие сезонный спрос.   \n",
    "Наибольший спрос наблюдается в октябре-декабре 2018 г., затем спад и снова рост в октябре 2019 г. сопоставимый с октябрем 2018 г. Проблема -удержание клиентов.    \n",
    "\n",
    "*Рекомендации:* \n",
    "В рамках учебного проекта мы не владеем информацией о том, кто эти покупатели - физ. лица или организации. Исходя из этого можно сформировать адресную рассылку с выгодными предложениями товаров интересующей категории, а также рассылку с другими товарами, которые могут заинтересовать покупателей.   "
   ]
  },
  {
   "cell_type": "markdown",
   "metadata": {},
   "source": [
    "* `Кластер 3:` \n",
    "клиенты, которые сделали более двух заказов, содержащих в среднем 2.59 позиций, среднйй ценник в пределах 450 руб. и средняя цена покупки до 600 рублей."
   ]
  },
  {
   "cell_type": "code",
   "execution_count": 81,
   "metadata": {
    "scrolled": false
   },
   "outputs": [
    {
     "data": {
      "image/png": "[encoded data removed]",
      "text/plain": [
       "<Figure size 864x288 with 1 Axes>"
      ]
     },
     "metadata": {
      "needs_background": "light"
     },
     "output_type": "display_data"
    }
   ],
   "source": [
    "clas_3 = df_merge.query('cluster == 3')\n",
    "#\n",
    "plt.figure(figsize=(12, 4))\n",
    "sns.countplot(x='date_column', hue=\"product_category\", data=clas_3, palette='pastel')\n",
    "plt.legend(loc=(0.01, 0.61))\n",
    "plt.xlabel('Месяц, год')\n",
    "plt.ylabel('Подсчет');\n",
    "plt.title('Продажи для 3-го кластера')\n",
    "\n",
    "plt.show()"
   ]
  },
  {
   "cell_type": "markdown",
   "metadata": {},
   "source": [
    "В этом сегменте клиенты сделали 2 и более заказа, т.е. клиенты возвращались. Клиентов интересуют товары всех категорий магазина. Проблема - низкий средний чек.   \n",
    "\n",
    "*Рекомендации*: сформировать рассылку, учитывающую сезонность некоторых категорий товаров. Повысить чек - специальными акциями и предложениями. Предложить систему бонусов для постоянных клиентов."
   ]
  }
 ],
 "metadata": {
  "ExecuteTimeLog": [
   {
    "duration": 364,
    "start_time": "2022-10-25T14:22:07.715Z"
   },
   {
    "duration": 75,
    "start_time": "2022-10-25T14:22:23.425Z"
   },
   {
    "duration": 81,
    "start_time": "2022-10-25T14:23:26.969Z"
   },
   {
    "duration": 12,
    "start_time": "2022-10-25T14:23:48.744Z"
   },
   {
    "duration": 13,
    "start_time": "2022-10-25T14:24:16.478Z"
   },
   {
    "duration": 79,
    "start_time": "2022-10-25T14:25:05.642Z"
   },
   {
    "duration": 13,
    "start_time": "2022-10-25T14:28:58.718Z"
   },
   {
    "duration": 8,
    "start_time": "2022-10-25T14:29:20.417Z"
   },
   {
    "duration": 5,
    "start_time": "2022-10-25T14:29:54.231Z"
   },
   {
    "duration": 5,
    "start_time": "2022-10-25T14:30:22.935Z"
   },
   {
    "duration": 10,
    "start_time": "2022-10-25T14:30:55.153Z"
   },
   {
    "duration": 9,
    "start_time": "2022-10-25T14:47:10.276Z"
   },
   {
    "duration": 4,
    "start_time": "2022-10-25T14:47:21.107Z"
   },
   {
    "duration": 71,
    "start_time": "2022-10-25T14:55:42.150Z"
   },
   {
    "duration": 5,
    "start_time": "2022-10-25T14:55:54.967Z"
   },
   {
    "duration": 12,
    "start_time": "2022-10-25T15:00:21.079Z"
   },
   {
    "duration": 7,
    "start_time": "2022-10-25T15:02:59.522Z"
   },
   {
    "duration": 81,
    "start_time": "2022-10-25T15:03:56.723Z"
   },
   {
    "duration": 8,
    "start_time": "2022-10-25T15:04:06.563Z"
   },
   {
    "duration": 7,
    "start_time": "2022-10-25T15:05:47.430Z"
   },
   {
    "duration": 7,
    "start_time": "2022-10-25T15:06:24.612Z"
   },
   {
    "duration": 76,
    "start_time": "2022-10-25T15:08:38.851Z"
   },
   {
    "duration": 3,
    "start_time": "2022-10-25T15:08:55.802Z"
   },
   {
    "duration": 6,
    "start_time": "2022-10-25T15:09:29.476Z"
   },
   {
    "duration": 18,
    "start_time": "2022-10-25T15:26:12.934Z"
   },
   {
    "duration": 6,
    "start_time": "2022-10-25T15:49:44.063Z"
   },
   {
    "duration": 3,
    "start_time": "2022-10-25T15:49:56.946Z"
   },
   {
    "duration": 356,
    "start_time": "2022-10-25T15:50:03.109Z"
   },
   {
    "duration": 44,
    "start_time": "2022-10-25T15:50:03.467Z"
   },
   {
    "duration": 12,
    "start_time": "2022-10-25T15:50:03.513Z"
   },
   {
    "duration": 22,
    "start_time": "2022-10-25T15:50:03.527Z"
   },
   {
    "duration": 13,
    "start_time": "2022-10-25T15:50:03.550Z"
   },
   {
    "duration": 8,
    "start_time": "2022-10-25T15:50:03.564Z"
   },
   {
    "duration": 12,
    "start_time": "2022-10-25T15:50:03.573Z"
   },
   {
    "duration": 17,
    "start_time": "2022-10-25T15:50:03.586Z"
   },
   {
    "duration": 16,
    "start_time": "2022-10-25T15:50:03.604Z"
   },
   {
    "duration": 36,
    "start_time": "2022-10-25T15:50:03.622Z"
   },
   {
    "duration": 19,
    "start_time": "2022-10-25T15:50:03.660Z"
   },
   {
    "duration": 35,
    "start_time": "2022-10-25T15:50:03.681Z"
   },
   {
    "duration": 35,
    "start_time": "2022-10-25T15:50:03.718Z"
   },
   {
    "duration": 56,
    "start_time": "2022-10-25T15:59:21.113Z"
   },
   {
    "duration": 1229,
    "start_time": "2022-10-25T16:00:38.001Z"
   },
   {
    "duration": 42,
    "start_time": "2022-10-25T16:00:39.232Z"
   },
   {
    "duration": 12,
    "start_time": "2022-10-25T16:00:39.276Z"
   },
   {
    "duration": 15,
    "start_time": "2022-10-25T16:00:39.290Z"
   },
   {
    "duration": 33,
    "start_time": "2022-10-25T16:00:39.307Z"
   },
   {
    "duration": 16,
    "start_time": "2022-10-25T16:00:39.341Z"
   },
   {
    "duration": 25,
    "start_time": "2022-10-25T16:00:39.359Z"
   },
   {
    "duration": 41,
    "start_time": "2022-10-25T16:00:39.385Z"
   },
   {
    "duration": 10,
    "start_time": "2022-10-25T16:00:39.427Z"
   },
   {
    "duration": 10,
    "start_time": "2022-10-25T16:00:39.438Z"
   },
   {
    "duration": 27,
    "start_time": "2022-10-25T16:00:39.449Z"
   },
   {
    "duration": 20,
    "start_time": "2022-10-25T16:00:39.477Z"
   },
   {
    "duration": 12,
    "start_time": "2022-10-25T16:00:39.498Z"
   },
   {
    "duration": 117,
    "start_time": "2022-10-25T16:00:39.512Z"
   },
   {
    "duration": 0,
    "start_time": "2022-10-25T16:00:39.631Z"
   },
   {
    "duration": 15,
    "start_time": "2022-10-25T16:01:13.423Z"
   },
   {
    "duration": 131,
    "start_time": "2022-10-25T16:02:13.987Z"
   },
   {
    "duration": 5,
    "start_time": "2022-10-25T16:04:54.278Z"
   },
   {
    "duration": 1146,
    "start_time": "2022-10-25T16:54:52.760Z"
   },
   {
    "duration": 42,
    "start_time": "2022-10-25T16:54:53.908Z"
   },
   {
    "duration": 11,
    "start_time": "2022-10-25T16:54:53.952Z"
   },
   {
    "duration": 15,
    "start_time": "2022-10-25T16:54:53.965Z"
   },
   {
    "duration": 13,
    "start_time": "2022-10-25T16:54:53.981Z"
   },
   {
    "duration": 11,
    "start_time": "2022-10-25T16:54:53.995Z"
   },
   {
    "duration": 14,
    "start_time": "2022-10-25T16:54:54.008Z"
   },
   {
    "duration": 21,
    "start_time": "2022-10-25T16:54:54.023Z"
   },
   {
    "duration": 549,
    "start_time": "2022-10-25T16:54:54.046Z"
   },
   {
    "duration": 8,
    "start_time": "2022-10-25T16:54:54.597Z"
   },
   {
    "duration": 6,
    "start_time": "2022-10-25T16:54:54.606Z"
   },
   {
    "duration": 6,
    "start_time": "2022-10-25T16:54:54.614Z"
   },
   {
    "duration": 8,
    "start_time": "2022-10-25T16:54:54.622Z"
   },
   {
    "duration": 16,
    "start_time": "2022-10-25T16:54:54.631Z"
   },
   {
    "duration": 30,
    "start_time": "2022-10-25T16:54:54.648Z"
   },
   {
    "duration": 157,
    "start_time": "2022-10-25T16:54:54.679Z"
   },
   {
    "duration": 601,
    "start_time": "2022-10-25T16:56:17.352Z"
   },
   {
    "duration": 665,
    "start_time": "2022-10-25T16:56:25.152Z"
   },
   {
    "duration": 581,
    "start_time": "2022-10-25T16:56:42.367Z"
   },
   {
    "duration": 588,
    "start_time": "2022-10-25T16:56:57.165Z"
   },
   {
    "duration": 559,
    "start_time": "2022-10-25T16:57:31.350Z"
   },
   {
    "duration": 630,
    "start_time": "2022-10-25T17:00:14.264Z"
   },
   {
    "duration": 504,
    "start_time": "2022-10-25T17:01:06.760Z"
   },
   {
    "duration": 538,
    "start_time": "2022-10-25T17:01:23.758Z"
   },
   {
    "duration": 588,
    "start_time": "2022-10-25T17:01:36.874Z"
   },
   {
    "duration": 526,
    "start_time": "2022-10-25T17:01:50.755Z"
   },
   {
    "duration": 453,
    "start_time": "2022-10-25T17:06:50.507Z"
   },
   {
    "duration": 514,
    "start_time": "2022-10-25T17:07:03.753Z"
   },
   {
    "duration": 621,
    "start_time": "2022-10-25T17:10:40.312Z"
   },
   {
    "duration": 572,
    "start_time": "2022-10-25T17:11:37.649Z"
   },
   {
    "duration": 75,
    "start_time": "2022-10-25T17:12:10.522Z"
   },
   {
    "duration": 532,
    "start_time": "2022-10-25T17:12:16.568Z"
   },
   {
    "duration": 18,
    "start_time": "2022-10-25T17:48:04.012Z"
   },
   {
    "duration": 20,
    "start_time": "2022-10-25T17:53:47.446Z"
   },
   {
    "duration": 1196,
    "start_time": "2022-10-25T17:54:09.144Z"
   },
   {
    "duration": 20,
    "start_time": "2022-10-25T17:54:34.048Z"
   },
   {
    "duration": 15,
    "start_time": "2022-10-25T17:57:14.853Z"
   },
   {
    "duration": 10,
    "start_time": "2022-10-25T18:04:45.965Z"
   },
   {
    "duration": 16,
    "start_time": "2022-10-25T18:06:20.923Z"
   },
   {
    "duration": 14,
    "start_time": "2022-10-25T18:07:09.254Z"
   },
   {
    "duration": 10,
    "start_time": "2022-10-25T18:08:11.694Z"
   },
   {
    "duration": 15,
    "start_time": "2022-10-25T18:08:30.381Z"
   },
   {
    "duration": 32,
    "start_time": "2022-10-25T18:09:39.991Z"
   },
   {
    "duration": 10,
    "start_time": "2022-10-25T18:09:49.222Z"
   },
   {
    "duration": 16,
    "start_time": "2022-10-25T18:11:38.607Z"
   },
   {
    "duration": 18,
    "start_time": "2022-10-25T18:16:51.309Z"
   },
   {
    "duration": 241,
    "start_time": "2022-10-25T18:19:40.610Z"
   },
   {
    "duration": 263,
    "start_time": "2022-10-25T18:19:55.578Z"
   },
   {
    "duration": 392,
    "start_time": "2022-10-25T18:22:13.556Z"
   },
   {
    "duration": 28,
    "start_time": "2022-10-25T18:23:58.025Z"
   },
   {
    "duration": 12,
    "start_time": "2022-10-25T18:24:11.538Z"
   },
   {
    "duration": 22,
    "start_time": "2022-10-25T18:24:35.397Z"
   },
   {
    "duration": 22,
    "start_time": "2022-10-25T18:24:48.657Z"
   },
   {
    "duration": 24,
    "start_time": "2022-10-25T18:24:55.489Z"
   },
   {
    "duration": 26,
    "start_time": "2022-10-25T18:25:06.729Z"
   },
   {
    "duration": 9,
    "start_time": "2022-10-25T18:26:43.326Z"
   },
   {
    "duration": 29,
    "start_time": "2022-10-25T18:26:54.964Z"
   },
   {
    "duration": 32,
    "start_time": "2022-10-25T18:28:04.780Z"
   },
   {
    "duration": 28,
    "start_time": "2022-10-25T18:29:16.698Z"
   },
   {
    "duration": 23,
    "start_time": "2022-10-25T18:30:03.459Z"
   },
   {
    "duration": 29,
    "start_time": "2022-10-25T18:30:28.188Z"
   },
   {
    "duration": 14,
    "start_time": "2022-10-25T18:36:01.925Z"
   },
   {
    "duration": 20,
    "start_time": "2022-10-25T18:36:10.110Z"
   },
   {
    "duration": 15,
    "start_time": "2022-10-25T18:42:14.259Z"
   },
   {
    "duration": 13,
    "start_time": "2022-10-25T18:42:27.987Z"
   },
   {
    "duration": 11,
    "start_time": "2022-10-25T18:43:00.873Z"
   },
   {
    "duration": 14,
    "start_time": "2022-10-25T18:44:16.218Z"
   },
   {
    "duration": 1059,
    "start_time": "2022-10-25T18:44:28.919Z"
   },
   {
    "duration": 42,
    "start_time": "2022-10-25T18:44:29.980Z"
   },
   {
    "duration": 12,
    "start_time": "2022-10-25T18:44:30.024Z"
   },
   {
    "duration": 18,
    "start_time": "2022-10-25T18:44:30.038Z"
   },
   {
    "duration": 16,
    "start_time": "2022-10-25T18:44:30.058Z"
   },
   {
    "duration": 9,
    "start_time": "2022-10-25T18:44:30.076Z"
   },
   {
    "duration": 32,
    "start_time": "2022-10-25T18:44:30.087Z"
   },
   {
    "duration": 11,
    "start_time": "2022-10-25T18:44:30.120Z"
   },
   {
    "duration": 16,
    "start_time": "2022-10-25T18:44:30.132Z"
   },
   {
    "duration": 25,
    "start_time": "2022-10-25T18:44:30.150Z"
   },
   {
    "duration": 518,
    "start_time": "2022-10-25T18:44:30.177Z"
   },
   {
    "duration": 486,
    "start_time": "2022-10-25T18:44:30.696Z"
   },
   {
    "duration": 6,
    "start_time": "2022-10-25T18:44:31.184Z"
   },
   {
    "duration": 8,
    "start_time": "2022-10-25T18:44:31.192Z"
   },
   {
    "duration": 8,
    "start_time": "2022-10-25T18:44:31.201Z"
   },
   {
    "duration": 17,
    "start_time": "2022-10-25T18:44:31.210Z"
   },
   {
    "duration": 18,
    "start_time": "2022-10-25T18:44:31.229Z"
   },
   {
    "duration": 5,
    "start_time": "2022-10-25T18:44:31.248Z"
   },
   {
    "duration": 136,
    "start_time": "2022-10-25T18:44:31.255Z"
   },
   {
    "duration": 14,
    "start_time": "2022-10-25T18:47:32.874Z"
   },
   {
    "duration": 29,
    "start_time": "2022-10-25T18:54:02.746Z"
   },
   {
    "duration": 26,
    "start_time": "2022-10-25T18:55:39.416Z"
   },
   {
    "duration": 19,
    "start_time": "2022-10-25T18:57:23.556Z"
   },
   {
    "duration": 10,
    "start_time": "2022-10-25T19:03:20.661Z"
   },
   {
    "duration": 11,
    "start_time": "2022-10-25T19:03:27.092Z"
   },
   {
    "duration": 17,
    "start_time": "2022-10-25T19:03:59.113Z"
   },
   {
    "duration": 11,
    "start_time": "2022-10-25T19:04:04.147Z"
   },
   {
    "duration": 640,
    "start_time": "2022-10-25T19:07:39.559Z"
   },
   {
    "duration": 557,
    "start_time": "2022-10-25T19:10:33.239Z"
   },
   {
    "duration": 1202,
    "start_time": "2022-10-25T19:10:40.986Z"
   },
   {
    "duration": 45,
    "start_time": "2022-10-25T19:10:42.190Z"
   },
   {
    "duration": 14,
    "start_time": "2022-10-25T19:10:42.236Z"
   },
   {
    "duration": 18,
    "start_time": "2022-10-25T19:10:42.252Z"
   },
   {
    "duration": 14,
    "start_time": "2022-10-25T19:10:42.271Z"
   },
   {
    "duration": 5,
    "start_time": "2022-10-25T19:10:42.287Z"
   },
   {
    "duration": 27,
    "start_time": "2022-10-25T19:10:42.293Z"
   },
   {
    "duration": 21,
    "start_time": "2022-10-25T19:10:42.321Z"
   },
   {
    "duration": 34,
    "start_time": "2022-10-25T19:10:42.344Z"
   },
   {
    "duration": 18,
    "start_time": "2022-10-25T19:10:42.381Z"
   },
   {
    "duration": 534,
    "start_time": "2022-10-25T19:10:42.401Z"
   },
   {
    "duration": 568,
    "start_time": "2022-10-25T19:10:42.937Z"
   },
   {
    "duration": 8,
    "start_time": "2022-10-25T19:10:43.507Z"
   },
   {
    "duration": 5,
    "start_time": "2022-10-25T19:10:43.517Z"
   },
   {
    "duration": 7,
    "start_time": "2022-10-25T19:10:43.524Z"
   },
   {
    "duration": 14,
    "start_time": "2022-10-25T19:10:43.533Z"
   },
   {
    "duration": 39,
    "start_time": "2022-10-25T19:10:43.549Z"
   },
   {
    "duration": 6,
    "start_time": "2022-10-25T19:10:43.590Z"
   },
   {
    "duration": 156,
    "start_time": "2022-10-25T19:10:43.598Z"
   },
   {
    "duration": 1197,
    "start_time": "2022-10-25T19:15:16.759Z"
   },
   {
    "duration": 46,
    "start_time": "2022-10-25T19:15:17.958Z"
   },
   {
    "duration": 17,
    "start_time": "2022-10-25T19:15:18.006Z"
   },
   {
    "duration": 13,
    "start_time": "2022-10-25T19:15:18.025Z"
   },
   {
    "duration": 12,
    "start_time": "2022-10-25T19:15:18.040Z"
   },
   {
    "duration": 5,
    "start_time": "2022-10-25T19:15:18.054Z"
   },
   {
    "duration": 20,
    "start_time": "2022-10-25T19:15:18.078Z"
   },
   {
    "duration": 19,
    "start_time": "2022-10-25T19:15:18.099Z"
   },
   {
    "duration": 11,
    "start_time": "2022-10-25T19:15:18.119Z"
   },
   {
    "duration": 16,
    "start_time": "2022-10-25T19:15:18.132Z"
   },
   {
    "duration": 540,
    "start_time": "2022-10-25T19:15:18.149Z"
   },
   {
    "duration": 476,
    "start_time": "2022-10-25T19:15:18.691Z"
   },
   {
    "duration": 12,
    "start_time": "2022-10-25T19:15:19.169Z"
   },
   {
    "duration": 17,
    "start_time": "2022-10-25T19:15:19.182Z"
   },
   {
    "duration": 19,
    "start_time": "2022-10-25T19:15:19.200Z"
   },
   {
    "duration": 24,
    "start_time": "2022-10-25T19:15:19.221Z"
   },
   {
    "duration": 6,
    "start_time": "2022-10-25T19:15:19.247Z"
   },
   {
    "duration": 13,
    "start_time": "2022-10-25T19:15:19.255Z"
   },
   {
    "duration": 4,
    "start_time": "2022-10-25T19:15:19.270Z"
   },
   {
    "duration": 127,
    "start_time": "2022-10-25T19:15:19.277Z"
   },
   {
    "duration": 13,
    "start_time": "2022-10-25T19:38:06.872Z"
   },
   {
    "duration": 1174,
    "start_time": "2022-10-25T19:38:41.295Z"
   },
   {
    "duration": 44,
    "start_time": "2022-10-25T19:38:42.471Z"
   },
   {
    "duration": 11,
    "start_time": "2022-10-25T19:38:42.517Z"
   },
   {
    "duration": 17,
    "start_time": "2022-10-25T19:38:42.530Z"
   },
   {
    "duration": 22,
    "start_time": "2022-10-25T19:38:42.549Z"
   },
   {
    "duration": 7,
    "start_time": "2022-10-25T19:38:42.572Z"
   },
   {
    "duration": 27,
    "start_time": "2022-10-25T19:38:42.580Z"
   },
   {
    "duration": 19,
    "start_time": "2022-10-25T19:38:42.609Z"
   },
   {
    "duration": 12,
    "start_time": "2022-10-25T19:38:42.629Z"
   },
   {
    "duration": 39,
    "start_time": "2022-10-25T19:38:42.643Z"
   },
   {
    "duration": 511,
    "start_time": "2022-10-25T19:38:42.684Z"
   },
   {
    "duration": 471,
    "start_time": "2022-10-25T19:38:43.197Z"
   },
   {
    "duration": 12,
    "start_time": "2022-10-25T19:38:43.669Z"
   },
   {
    "duration": 10,
    "start_time": "2022-10-25T19:38:43.682Z"
   },
   {
    "duration": 9,
    "start_time": "2022-10-25T19:38:43.693Z"
   },
   {
    "duration": 7,
    "start_time": "2022-10-25T19:38:43.703Z"
   },
   {
    "duration": 5,
    "start_time": "2022-10-25T19:38:43.712Z"
   },
   {
    "duration": 18,
    "start_time": "2022-10-25T19:38:43.719Z"
   },
   {
    "duration": 4,
    "start_time": "2022-10-25T19:38:43.739Z"
   },
   {
    "duration": 171,
    "start_time": "2022-10-25T19:38:43.745Z"
   },
   {
    "duration": 9,
    "start_time": "2022-10-25T19:41:51.064Z"
   },
   {
    "duration": 71,
    "start_time": "2022-10-25T19:42:06.612Z"
   },
   {
    "duration": 11,
    "start_time": "2022-10-25T19:42:11.587Z"
   },
   {
    "duration": 1156,
    "start_time": "2022-10-25T19:43:42.956Z"
   },
   {
    "duration": 42,
    "start_time": "2022-10-25T19:43:44.114Z"
   },
   {
    "duration": 11,
    "start_time": "2022-10-25T19:43:44.158Z"
   },
   {
    "duration": 16,
    "start_time": "2022-10-25T19:43:44.171Z"
   },
   {
    "duration": 12,
    "start_time": "2022-10-25T19:43:44.189Z"
   },
   {
    "duration": 5,
    "start_time": "2022-10-25T19:43:44.202Z"
   },
   {
    "duration": 11,
    "start_time": "2022-10-25T19:43:44.208Z"
   },
   {
    "duration": 18,
    "start_time": "2022-10-25T19:43:44.221Z"
   },
   {
    "duration": 8,
    "start_time": "2022-10-25T19:43:44.240Z"
   },
   {
    "duration": 43,
    "start_time": "2022-10-25T19:43:44.250Z"
   },
   {
    "duration": 504,
    "start_time": "2022-10-25T19:43:44.295Z"
   },
   {
    "duration": 489,
    "start_time": "2022-10-25T19:43:44.800Z"
   },
   {
    "duration": 6,
    "start_time": "2022-10-25T19:43:45.291Z"
   },
   {
    "duration": 12,
    "start_time": "2022-10-25T19:43:45.299Z"
   },
   {
    "duration": 14,
    "start_time": "2022-10-25T19:43:45.313Z"
   },
   {
    "duration": 14,
    "start_time": "2022-10-25T19:43:45.328Z"
   },
   {
    "duration": 8,
    "start_time": "2022-10-25T19:43:45.344Z"
   },
   {
    "duration": 25,
    "start_time": "2022-10-25T19:43:45.353Z"
   },
   {
    "duration": 5,
    "start_time": "2022-10-25T19:43:45.379Z"
   },
   {
    "duration": 151,
    "start_time": "2022-10-25T19:43:45.385Z"
   },
   {
    "duration": 1107,
    "start_time": "2022-10-25T19:47:02.888Z"
   },
   {
    "duration": 44,
    "start_time": "2022-10-25T19:47:03.997Z"
   },
   {
    "duration": 13,
    "start_time": "2022-10-25T19:47:04.043Z"
   },
   {
    "duration": 17,
    "start_time": "2022-10-25T19:47:04.057Z"
   },
   {
    "duration": 13,
    "start_time": "2022-10-25T19:47:04.077Z"
   },
   {
    "duration": 7,
    "start_time": "2022-10-25T19:47:04.091Z"
   },
   {
    "duration": 13,
    "start_time": "2022-10-25T19:47:04.099Z"
   },
   {
    "duration": 20,
    "start_time": "2022-10-25T19:47:04.113Z"
   },
   {
    "duration": 67,
    "start_time": "2022-10-25T19:47:04.134Z"
   },
   {
    "duration": 0,
    "start_time": "2022-10-25T19:47:04.203Z"
   },
   {
    "duration": 0,
    "start_time": "2022-10-25T19:47:04.204Z"
   },
   {
    "duration": 0,
    "start_time": "2022-10-25T19:47:04.205Z"
   },
   {
    "duration": 0,
    "start_time": "2022-10-25T19:47:04.206Z"
   },
   {
    "duration": 0,
    "start_time": "2022-10-25T19:47:04.207Z"
   },
   {
    "duration": 0,
    "start_time": "2022-10-25T19:47:04.208Z"
   },
   {
    "duration": 0,
    "start_time": "2022-10-25T19:47:04.209Z"
   },
   {
    "duration": 0,
    "start_time": "2022-10-25T19:47:04.210Z"
   },
   {
    "duration": 0,
    "start_time": "2022-10-25T19:47:04.211Z"
   },
   {
    "duration": 0,
    "start_time": "2022-10-25T19:47:04.212Z"
   },
   {
    "duration": 0,
    "start_time": "2022-10-25T19:47:04.213Z"
   },
   {
    "duration": 8,
    "start_time": "2022-10-25T19:47:26.735Z"
   },
   {
    "duration": 7,
    "start_time": "2022-10-25T19:47:38.493Z"
   },
   {
    "duration": 7,
    "start_time": "2022-10-25T19:48:10.597Z"
   },
   {
    "duration": 1037,
    "start_time": "2022-10-25T19:50:30.742Z"
   },
   {
    "duration": 42,
    "start_time": "2022-10-25T19:50:31.780Z"
   },
   {
    "duration": 13,
    "start_time": "2022-10-25T19:50:31.824Z"
   },
   {
    "duration": 17,
    "start_time": "2022-10-25T19:50:31.839Z"
   },
   {
    "duration": 23,
    "start_time": "2022-10-25T19:50:31.858Z"
   },
   {
    "duration": 6,
    "start_time": "2022-10-25T19:50:31.882Z"
   },
   {
    "duration": 11,
    "start_time": "2022-10-25T19:50:31.890Z"
   },
   {
    "duration": 18,
    "start_time": "2022-10-25T19:50:31.902Z"
   },
   {
    "duration": 7,
    "start_time": "2022-10-25T19:50:31.921Z"
   },
   {
    "duration": 22,
    "start_time": "2022-10-25T19:50:31.929Z"
   },
   {
    "duration": 533,
    "start_time": "2022-10-25T19:50:31.952Z"
   },
   {
    "duration": 516,
    "start_time": "2022-10-25T19:50:32.487Z"
   },
   {
    "duration": 4,
    "start_time": "2022-10-25T19:50:33.004Z"
   },
   {
    "duration": 16,
    "start_time": "2022-10-25T19:50:33.011Z"
   },
   {
    "duration": 8,
    "start_time": "2022-10-25T19:50:33.029Z"
   },
   {
    "duration": 6,
    "start_time": "2022-10-25T19:50:33.038Z"
   },
   {
    "duration": 6,
    "start_time": "2022-10-25T19:50:33.045Z"
   },
   {
    "duration": 31,
    "start_time": "2022-10-25T19:50:33.052Z"
   },
   {
    "duration": 6,
    "start_time": "2022-10-25T19:50:33.085Z"
   },
   {
    "duration": 141,
    "start_time": "2022-10-25T19:50:33.093Z"
   },
   {
    "duration": 23,
    "start_time": "2022-10-25T19:56:08.537Z"
   },
   {
    "duration": 378,
    "start_time": "2022-10-25T19:56:48.680Z"
   },
   {
    "duration": 21,
    "start_time": "2022-10-25T19:56:56.452Z"
   },
   {
    "duration": 21,
    "start_time": "2022-10-25T19:57:35.136Z"
   },
   {
    "duration": 17,
    "start_time": "2022-10-25T19:58:07.912Z"
   },
   {
    "duration": 86,
    "start_time": "2022-10-25T19:59:34.191Z"
   },
   {
    "duration": 25,
    "start_time": "2022-10-25T20:00:08.039Z"
   },
   {
    "duration": 307,
    "start_time": "2022-10-25T20:01:39.045Z"
   },
   {
    "duration": 25,
    "start_time": "2022-10-25T20:02:07.426Z"
   },
   {
    "duration": 1270,
    "start_time": "2022-10-25T20:02:59.763Z"
   },
   {
    "duration": 58,
    "start_time": "2022-10-25T20:03:01.035Z"
   },
   {
    "duration": 13,
    "start_time": "2022-10-25T20:03:01.095Z"
   },
   {
    "duration": 33,
    "start_time": "2022-10-25T20:03:01.109Z"
   },
   {
    "duration": 24,
    "start_time": "2022-10-25T20:03:01.144Z"
   },
   {
    "duration": 13,
    "start_time": "2022-10-25T20:03:01.170Z"
   },
   {
    "duration": 16,
    "start_time": "2022-10-25T20:03:01.186Z"
   },
   {
    "duration": 30,
    "start_time": "2022-10-25T20:03:01.204Z"
   },
   {
    "duration": 8,
    "start_time": "2022-10-25T20:03:01.235Z"
   },
   {
    "duration": 36,
    "start_time": "2022-10-25T20:03:01.245Z"
   },
   {
    "duration": 538,
    "start_time": "2022-10-25T20:03:01.283Z"
   },
   {
    "duration": 561,
    "start_time": "2022-10-25T20:03:01.823Z"
   },
   {
    "duration": 5,
    "start_time": "2022-10-25T20:03:02.386Z"
   },
   {
    "duration": 27,
    "start_time": "2022-10-25T20:03:02.394Z"
   },
   {
    "duration": 30,
    "start_time": "2022-10-25T20:03:02.422Z"
   },
   {
    "duration": 17,
    "start_time": "2022-10-25T20:03:02.453Z"
   },
   {
    "duration": 9,
    "start_time": "2022-10-25T20:03:02.472Z"
   },
   {
    "duration": 8,
    "start_time": "2022-10-25T20:03:02.483Z"
   },
   {
    "duration": 22,
    "start_time": "2022-10-25T20:03:02.493Z"
   },
   {
    "duration": 5,
    "start_time": "2022-10-25T20:03:02.517Z"
   },
   {
    "duration": 207,
    "start_time": "2022-10-25T20:03:02.524Z"
   },
   {
    "duration": 23,
    "start_time": "2022-10-25T20:05:45.320Z"
   },
   {
    "duration": 1165,
    "start_time": "2022-10-25T20:05:50.758Z"
   },
   {
    "duration": 43,
    "start_time": "2022-10-25T20:05:51.925Z"
   },
   {
    "duration": 15,
    "start_time": "2022-10-25T20:05:51.969Z"
   },
   {
    "duration": 22,
    "start_time": "2022-10-25T20:05:51.985Z"
   },
   {
    "duration": 12,
    "start_time": "2022-10-25T20:05:52.009Z"
   },
   {
    "duration": 6,
    "start_time": "2022-10-25T20:05:52.023Z"
   },
   {
    "duration": 10,
    "start_time": "2022-10-25T20:05:52.031Z"
   },
   {
    "duration": 17,
    "start_time": "2022-10-25T20:05:52.043Z"
   },
   {
    "duration": 31,
    "start_time": "2022-10-25T20:05:52.061Z"
   },
   {
    "duration": 18,
    "start_time": "2022-10-25T20:05:52.094Z"
   },
   {
    "duration": 503,
    "start_time": "2022-10-25T20:05:52.113Z"
   },
   {
    "duration": 468,
    "start_time": "2022-10-25T20:05:52.618Z"
   },
   {
    "duration": 5,
    "start_time": "2022-10-25T20:05:53.091Z"
   },
   {
    "duration": 10,
    "start_time": "2022-10-25T20:05:53.099Z"
   },
   {
    "duration": 23,
    "start_time": "2022-10-25T20:05:53.111Z"
   },
   {
    "duration": 7,
    "start_time": "2022-10-25T20:05:53.136Z"
   },
   {
    "duration": 10,
    "start_time": "2022-10-25T20:05:53.144Z"
   },
   {
    "duration": 35,
    "start_time": "2022-10-25T20:05:53.155Z"
   },
   {
    "duration": 14,
    "start_time": "2022-10-25T20:05:53.192Z"
   },
   {
    "duration": 4,
    "start_time": "2022-10-25T20:05:53.208Z"
   },
   {
    "duration": 143,
    "start_time": "2022-10-25T20:05:53.214Z"
   },
   {
    "duration": 22,
    "start_time": "2022-10-25T20:06:31.700Z"
   },
   {
    "duration": 25,
    "start_time": "2022-10-25T20:08:08.045Z"
   },
   {
    "duration": 10,
    "start_time": "2022-10-25T20:08:26.947Z"
   },
   {
    "duration": 12,
    "start_time": "2022-10-25T20:09:21.176Z"
   },
   {
    "duration": 6,
    "start_time": "2022-10-25T20:14:19.797Z"
   },
   {
    "duration": 12,
    "start_time": "2022-10-25T20:14:27.401Z"
   },
   {
    "duration": 24,
    "start_time": "2022-10-25T20:14:32.497Z"
   },
   {
    "duration": 13,
    "start_time": "2022-10-25T20:14:34.342Z"
   },
   {
    "duration": 10,
    "start_time": "2022-10-25T20:15:29.488Z"
   },
   {
    "duration": 91,
    "start_time": "2022-10-25T20:15:37.158Z"
   },
   {
    "duration": 20,
    "start_time": "2022-10-25T20:15:38.673Z"
   },
   {
    "duration": 17,
    "start_time": "2022-10-25T20:16:07.570Z"
   },
   {
    "duration": 20,
    "start_time": "2022-10-25T20:16:14.010Z"
   },
   {
    "duration": 13,
    "start_time": "2022-10-25T20:16:14.835Z"
   },
   {
    "duration": 10,
    "start_time": "2022-10-25T20:33:31.496Z"
   },
   {
    "duration": 22,
    "start_time": "2022-10-25T20:33:44.237Z"
   },
   {
    "duration": 13,
    "start_time": "2022-10-25T20:33:45.898Z"
   },
   {
    "duration": 92,
    "start_time": "2022-10-25T20:36:56.700Z"
   },
   {
    "duration": 13,
    "start_time": "2022-10-25T20:37:04.156Z"
   },
   {
    "duration": 28,
    "start_time": "2022-10-25T20:37:07.900Z"
   },
   {
    "duration": 14,
    "start_time": "2022-10-25T20:37:09.166Z"
   },
   {
    "duration": 23,
    "start_time": "2022-10-25T20:39:39.661Z"
   },
   {
    "duration": 17,
    "start_time": "2022-10-25T20:39:45.012Z"
   },
   {
    "duration": 22,
    "start_time": "2022-10-25T20:39:46.660Z"
   },
   {
    "duration": 15,
    "start_time": "2022-10-25T20:39:47.645Z"
   },
   {
    "duration": 19,
    "start_time": "2022-10-25T20:41:54.989Z"
   },
   {
    "duration": 22,
    "start_time": "2022-10-25T20:41:56.301Z"
   },
   {
    "duration": 24,
    "start_time": "2022-10-25T20:41:57.382Z"
   },
   {
    "duration": 25,
    "start_time": "2022-10-25T20:46:46.800Z"
   },
   {
    "duration": 21,
    "start_time": "2022-10-25T20:46:47.885Z"
   },
   {
    "duration": 12,
    "start_time": "2022-10-25T20:46:49.052Z"
   },
   {
    "duration": 30,
    "start_time": "2022-10-25T20:47:02.650Z"
   },
   {
    "duration": 21,
    "start_time": "2022-10-25T20:47:04.373Z"
   },
   {
    "duration": 15,
    "start_time": "2022-10-25T20:47:05.956Z"
   },
   {
    "duration": 1204,
    "start_time": "2022-10-25T20:47:20.768Z"
   },
   {
    "duration": 42,
    "start_time": "2022-10-25T20:47:21.974Z"
   },
   {
    "duration": 12,
    "start_time": "2022-10-25T20:47:22.018Z"
   },
   {
    "duration": 11,
    "start_time": "2022-10-25T20:47:22.032Z"
   },
   {
    "duration": 12,
    "start_time": "2022-10-25T20:47:22.044Z"
   },
   {
    "duration": 27,
    "start_time": "2022-10-25T20:47:22.057Z"
   },
   {
    "duration": 12,
    "start_time": "2022-10-25T20:47:22.086Z"
   },
   {
    "duration": 18,
    "start_time": "2022-10-25T20:47:22.099Z"
   },
   {
    "duration": 7,
    "start_time": "2022-10-25T20:47:22.118Z"
   },
   {
    "duration": 28,
    "start_time": "2022-10-25T20:47:22.127Z"
   },
   {
    "duration": 539,
    "start_time": "2022-10-25T20:47:22.157Z"
   },
   {
    "duration": 469,
    "start_time": "2022-10-25T20:47:22.697Z"
   },
   {
    "duration": 12,
    "start_time": "2022-10-25T20:47:23.167Z"
   },
   {
    "duration": 9,
    "start_time": "2022-10-25T20:47:23.180Z"
   },
   {
    "duration": 33,
    "start_time": "2022-10-25T20:47:23.190Z"
   },
   {
    "duration": 24,
    "start_time": "2022-10-25T20:47:23.225Z"
   },
   {
    "duration": 12,
    "start_time": "2022-10-25T20:47:23.251Z"
   },
   {
    "duration": 10,
    "start_time": "2022-10-25T20:47:23.277Z"
   },
   {
    "duration": 6,
    "start_time": "2022-10-25T20:47:23.289Z"
   },
   {
    "duration": 6,
    "start_time": "2022-10-25T20:47:23.296Z"
   },
   {
    "duration": 18,
    "start_time": "2022-10-25T20:47:23.304Z"
   },
   {
    "duration": 8,
    "start_time": "2022-10-25T20:47:23.323Z"
   },
   {
    "duration": 159,
    "start_time": "2022-10-25T20:47:23.333Z"
   },
   {
    "duration": 25,
    "start_time": "2022-10-25T20:48:04.647Z"
   },
   {
    "duration": 23,
    "start_time": "2022-10-25T20:48:07.415Z"
   },
   {
    "duration": 12,
    "start_time": "2022-10-25T20:48:08.568Z"
   },
   {
    "duration": 38,
    "start_time": "2022-10-25T20:52:11.064Z"
   },
   {
    "duration": 27,
    "start_time": "2022-10-25T20:52:12.187Z"
   },
   {
    "duration": 13,
    "start_time": "2022-10-25T20:52:12.900Z"
   },
   {
    "duration": 35,
    "start_time": "2022-10-25T20:54:20.156Z"
   },
   {
    "duration": 20,
    "start_time": "2022-10-25T20:54:21.217Z"
   },
   {
    "duration": 12,
    "start_time": "2022-10-25T20:54:22.048Z"
   },
   {
    "duration": 36,
    "start_time": "2022-10-25T20:56:17.417Z"
   },
   {
    "duration": 80,
    "start_time": "2022-10-25T20:56:18.838Z"
   },
   {
    "duration": 12,
    "start_time": "2022-10-25T20:56:19.722Z"
   },
   {
    "duration": 40,
    "start_time": "2022-10-25T20:57:29.844Z"
   },
   {
    "duration": 21,
    "start_time": "2022-10-25T20:57:31.174Z"
   },
   {
    "duration": 13,
    "start_time": "2022-10-25T20:57:32.238Z"
   },
   {
    "duration": 47,
    "start_time": "2022-10-25T21:05:25.912Z"
   },
   {
    "duration": 20,
    "start_time": "2022-10-25T21:05:27.077Z"
   },
   {
    "duration": 12,
    "start_time": "2022-10-25T21:05:27.803Z"
   },
   {
    "duration": 92,
    "start_time": "2022-10-25T21:09:47.523Z"
   },
   {
    "duration": 56,
    "start_time": "2022-10-25T21:09:56.353Z"
   },
   {
    "duration": 21,
    "start_time": "2022-10-25T21:09:57.853Z"
   },
   {
    "duration": 13,
    "start_time": "2022-10-25T21:09:58.418Z"
   },
   {
    "duration": 82,
    "start_time": "2022-10-25T21:24:01.448Z"
   },
   {
    "duration": 28,
    "start_time": "2022-10-25T21:24:02.713Z"
   },
   {
    "duration": 13,
    "start_time": "2022-10-25T21:24:04.957Z"
   },
   {
    "duration": 1369,
    "start_time": "2022-10-26T05:52:27.638Z"
   },
   {
    "duration": 176,
    "start_time": "2022-10-26T05:52:29.009Z"
   },
   {
    "duration": 14,
    "start_time": "2022-10-26T05:52:29.186Z"
   },
   {
    "duration": 22,
    "start_time": "2022-10-26T05:52:29.202Z"
   },
   {
    "duration": 16,
    "start_time": "2022-10-26T05:52:29.226Z"
   },
   {
    "duration": 12,
    "start_time": "2022-10-26T05:52:29.244Z"
   },
   {
    "duration": 14,
    "start_time": "2022-10-26T05:52:29.258Z"
   },
   {
    "duration": 32,
    "start_time": "2022-10-26T05:52:29.274Z"
   },
   {
    "duration": 11,
    "start_time": "2022-10-26T05:52:29.308Z"
   },
   {
    "duration": 31,
    "start_time": "2022-10-26T05:52:29.323Z"
   },
   {
    "duration": 564,
    "start_time": "2022-10-26T05:52:29.355Z"
   },
   {
    "duration": 547,
    "start_time": "2022-10-26T05:52:29.921Z"
   },
   {
    "duration": 10,
    "start_time": "2022-10-26T05:52:30.470Z"
   },
   {
    "duration": 64,
    "start_time": "2022-10-26T05:52:30.481Z"
   },
   {
    "duration": 184,
    "start_time": "2022-10-26T05:52:30.546Z"
   },
   {
    "duration": 28,
    "start_time": "2022-10-26T05:52:30.732Z"
   },
   {
    "duration": 38,
    "start_time": "2022-10-26T05:52:30.762Z"
   },
   {
    "duration": 38,
    "start_time": "2022-10-26T05:52:30.802Z"
   },
   {
    "duration": 27,
    "start_time": "2022-10-26T05:52:30.841Z"
   },
   {
    "duration": 25,
    "start_time": "2022-10-26T05:52:30.870Z"
   },
   {
    "duration": 38,
    "start_time": "2022-10-26T05:52:30.896Z"
   },
   {
    "duration": 25,
    "start_time": "2022-10-26T05:52:30.936Z"
   },
   {
    "duration": 169,
    "start_time": "2022-10-26T05:52:30.963Z"
   },
   {
    "duration": 1079,
    "start_time": "2022-10-26T06:03:35.985Z"
   },
   {
    "duration": 45,
    "start_time": "2022-10-26T06:03:37.066Z"
   },
   {
    "duration": 15,
    "start_time": "2022-10-26T06:03:37.113Z"
   },
   {
    "duration": 22,
    "start_time": "2022-10-26T06:03:37.131Z"
   },
   {
    "duration": 16,
    "start_time": "2022-10-26T06:03:37.156Z"
   },
   {
    "duration": 7,
    "start_time": "2022-10-26T06:03:37.175Z"
   },
   {
    "duration": 14,
    "start_time": "2022-10-26T06:03:37.184Z"
   },
   {
    "duration": 55,
    "start_time": "2022-10-26T06:03:37.200Z"
   },
   {
    "duration": 8,
    "start_time": "2022-10-26T06:03:37.257Z"
   },
   {
    "duration": 26,
    "start_time": "2022-10-26T06:03:37.269Z"
   },
   {
    "duration": 581,
    "start_time": "2022-10-26T06:03:37.297Z"
   },
   {
    "duration": 471,
    "start_time": "2022-10-26T06:03:37.880Z"
   },
   {
    "duration": 5,
    "start_time": "2022-10-26T06:03:38.352Z"
   },
   {
    "duration": 70,
    "start_time": "2022-10-26T06:03:38.359Z"
   },
   {
    "duration": 120,
    "start_time": "2022-10-26T06:03:38.430Z"
   },
   {
    "duration": 24,
    "start_time": "2022-10-26T06:03:38.552Z"
   },
   {
    "duration": 53,
    "start_time": "2022-10-26T06:03:38.578Z"
   },
   {
    "duration": 18,
    "start_time": "2022-10-26T06:03:38.634Z"
   },
   {
    "duration": 42,
    "start_time": "2022-10-26T06:03:38.654Z"
   },
   {
    "duration": 45,
    "start_time": "2022-10-26T06:03:38.698Z"
   },
   {
    "duration": 33,
    "start_time": "2022-10-26T06:03:38.744Z"
   },
   {
    "duration": 18,
    "start_time": "2022-10-26T06:03:38.778Z"
   },
   {
    "duration": 144,
    "start_time": "2022-10-26T06:03:38.803Z"
   },
   {
    "duration": 22,
    "start_time": "2022-10-26T06:04:51.045Z"
   },
   {
    "duration": 9,
    "start_time": "2022-10-26T06:05:11.971Z"
   },
   {
    "duration": 20,
    "start_time": "2022-10-26T06:18:39.904Z"
   },
   {
    "duration": 14,
    "start_time": "2022-10-26T06:18:43.861Z"
   },
   {
    "duration": 32,
    "start_time": "2022-10-26T06:23:35.087Z"
   },
   {
    "duration": 9,
    "start_time": "2022-10-26T06:23:36.088Z"
   },
   {
    "duration": 81,
    "start_time": "2022-10-26T06:23:39.131Z"
   },
   {
    "duration": 9,
    "start_time": "2022-10-26T06:23:39.827Z"
   },
   {
    "duration": 21,
    "start_time": "2022-10-26T06:36:03.538Z"
   },
   {
    "duration": 14,
    "start_time": "2022-10-26T06:36:04.485Z"
   },
   {
    "duration": 21,
    "start_time": "2022-10-26T06:36:51.112Z"
   },
   {
    "duration": 13,
    "start_time": "2022-10-26T06:36:51.834Z"
   },
   {
    "duration": 27,
    "start_time": "2022-10-26T08:12:41.185Z"
   },
   {
    "duration": 21,
    "start_time": "2022-10-26T08:12:42.940Z"
   },
   {
    "duration": 13,
    "start_time": "2022-10-26T08:12:47.654Z"
   },
   {
    "duration": 24,
    "start_time": "2022-10-26T08:13:21.542Z"
   },
   {
    "duration": 9,
    "start_time": "2022-10-26T08:13:22.478Z"
   },
   {
    "duration": 1095,
    "start_time": "2022-10-26T08:13:51.880Z"
   },
   {
    "duration": 42,
    "start_time": "2022-10-26T08:13:52.977Z"
   },
   {
    "duration": 11,
    "start_time": "2022-10-26T08:13:53.021Z"
   },
   {
    "duration": 17,
    "start_time": "2022-10-26T08:13:53.034Z"
   },
   {
    "duration": 14,
    "start_time": "2022-10-26T08:13:53.053Z"
   },
   {
    "duration": 5,
    "start_time": "2022-10-26T08:13:53.069Z"
   },
   {
    "duration": 9,
    "start_time": "2022-10-26T08:13:53.076Z"
   },
   {
    "duration": 20,
    "start_time": "2022-10-26T08:13:53.087Z"
   },
   {
    "duration": 36,
    "start_time": "2022-10-26T08:13:53.109Z"
   },
   {
    "duration": 24,
    "start_time": "2022-10-26T08:13:53.149Z"
   },
   {
    "duration": 508,
    "start_time": "2022-10-26T08:13:53.175Z"
   },
   {
    "duration": 556,
    "start_time": "2022-10-26T08:13:53.685Z"
   },
   {
    "duration": 5,
    "start_time": "2022-10-26T08:13:54.243Z"
   },
   {
    "duration": 14,
    "start_time": "2022-10-26T08:13:54.250Z"
   },
   {
    "duration": 143,
    "start_time": "2022-10-26T08:13:54.266Z"
   },
   {
    "duration": 36,
    "start_time": "2022-10-26T08:13:54.411Z"
   },
   {
    "duration": 34,
    "start_time": "2022-10-26T08:13:54.449Z"
   },
   {
    "duration": 22,
    "start_time": "2022-10-26T08:13:54.485Z"
   },
   {
    "duration": 8,
    "start_time": "2022-10-26T08:13:54.509Z"
   },
   {
    "duration": 20,
    "start_time": "2022-10-26T08:13:54.519Z"
   },
   {
    "duration": 5,
    "start_time": "2022-10-26T08:13:54.540Z"
   },
   {
    "duration": 15,
    "start_time": "2022-10-26T08:13:54.546Z"
   },
   {
    "duration": 5,
    "start_time": "2022-10-26T08:13:54.562Z"
   },
   {
    "duration": 174,
    "start_time": "2022-10-26T08:13:54.568Z"
   },
   {
    "duration": 60,
    "start_time": "2022-10-26T08:40:21.500Z"
   },
   {
    "duration": 83,
    "start_time": "2022-10-26T08:45:18.861Z"
   },
   {
    "duration": 22,
    "start_time": "2022-10-26T08:46:58.443Z"
   },
   {
    "duration": 9,
    "start_time": "2022-10-26T08:47:00.989Z"
   },
   {
    "duration": 90,
    "start_time": "2022-10-26T08:48:08.346Z"
   },
   {
    "duration": 29,
    "start_time": "2022-10-26T08:48:08.946Z"
   },
   {
    "duration": 10,
    "start_time": "2022-10-26T08:48:10.404Z"
   },
   {
    "duration": 22,
    "start_time": "2022-10-26T09:02:30.389Z"
   },
   {
    "duration": 14,
    "start_time": "2022-10-26T09:02:31.594Z"
   },
   {
    "duration": 1133,
    "start_time": "2022-10-26T09:11:09.053Z"
   },
   {
    "duration": 43,
    "start_time": "2022-10-26T09:11:10.188Z"
   },
   {
    "duration": 12,
    "start_time": "2022-10-26T09:11:10.232Z"
   },
   {
    "duration": 16,
    "start_time": "2022-10-26T09:11:10.245Z"
   },
   {
    "duration": 14,
    "start_time": "2022-10-26T09:11:10.263Z"
   },
   {
    "duration": 6,
    "start_time": "2022-10-26T09:11:10.278Z"
   },
   {
    "duration": 11,
    "start_time": "2022-10-26T09:11:10.285Z"
   },
   {
    "duration": 44,
    "start_time": "2022-10-26T09:11:10.298Z"
   },
   {
    "duration": 8,
    "start_time": "2022-10-26T09:11:10.343Z"
   },
   {
    "duration": 18,
    "start_time": "2022-10-26T09:11:10.352Z"
   },
   {
    "duration": 513,
    "start_time": "2022-10-26T09:11:10.371Z"
   },
   {
    "duration": 485,
    "start_time": "2022-10-26T09:11:10.885Z"
   },
   {
    "duration": 4,
    "start_time": "2022-10-26T09:11:11.372Z"
   },
   {
    "duration": 10,
    "start_time": "2022-10-26T09:11:11.379Z"
   },
   {
    "duration": 137,
    "start_time": "2022-10-26T09:11:11.391Z"
   },
   {
    "duration": 35,
    "start_time": "2022-10-26T09:11:11.529Z"
   },
   {
    "duration": 135,
    "start_time": "2022-10-26T09:11:11.566Z"
   },
   {
    "duration": 25,
    "start_time": "2022-10-26T09:11:11.702Z"
   },
   {
    "duration": 10,
    "start_time": "2022-10-26T09:11:11.737Z"
   },
   {
    "duration": 11,
    "start_time": "2022-10-26T09:11:11.748Z"
   },
   {
    "duration": 7,
    "start_time": "2022-10-26T09:11:11.760Z"
   },
   {
    "duration": 10,
    "start_time": "2022-10-26T09:11:11.769Z"
   },
   {
    "duration": 15,
    "start_time": "2022-10-26T09:11:11.780Z"
   },
   {
    "duration": 4,
    "start_time": "2022-10-26T09:11:11.796Z"
   },
   {
    "duration": 159,
    "start_time": "2022-10-26T09:11:11.801Z"
   },
   {
    "duration": 2,
    "start_time": "2022-10-26T09:20:17.647Z"
   },
   {
    "duration": 68,
    "start_time": "2022-10-26T11:58:35.252Z"
   },
   {
    "duration": 58,
    "start_time": "2022-10-26T11:59:00.855Z"
   },
   {
    "duration": 86,
    "start_time": "2022-10-26T12:00:56.084Z"
   },
   {
    "duration": 68,
    "start_time": "2022-10-26T12:01:26.616Z"
   },
   {
    "duration": 56,
    "start_time": "2022-10-26T12:04:16.715Z"
   },
   {
    "duration": 88,
    "start_time": "2022-10-26T12:06:05.712Z"
   },
   {
    "duration": 25,
    "start_time": "2022-10-26T12:12:10.240Z"
   },
   {
    "duration": 162,
    "start_time": "2022-10-26T12:13:32.765Z"
   },
   {
    "duration": 79,
    "start_time": "2022-10-26T12:13:37.682Z"
   },
   {
    "duration": 5,
    "start_time": "2022-10-26T12:14:16.894Z"
   },
   {
    "duration": 6,
    "start_time": "2022-10-26T12:15:25.056Z"
   },
   {
    "duration": 25,
    "start_time": "2022-10-26T12:19:24.261Z"
   },
   {
    "duration": 29,
    "start_time": "2022-10-26T12:19:31.207Z"
   },
   {
    "duration": 1105,
    "start_time": "2022-10-26T12:19:51.868Z"
   },
   {
    "duration": 43,
    "start_time": "2022-10-26T12:19:52.975Z"
   },
   {
    "duration": 12,
    "start_time": "2022-10-26T12:19:53.019Z"
   },
   {
    "duration": 23,
    "start_time": "2022-10-26T12:19:53.033Z"
   },
   {
    "duration": 28,
    "start_time": "2022-10-26T12:19:53.057Z"
   },
   {
    "duration": 13,
    "start_time": "2022-10-26T12:19:53.086Z"
   },
   {
    "duration": 26,
    "start_time": "2022-10-26T12:19:53.100Z"
   },
   {
    "duration": 27,
    "start_time": "2022-10-26T12:19:53.127Z"
   },
   {
    "duration": 7,
    "start_time": "2022-10-26T12:19:53.155Z"
   },
   {
    "duration": 21,
    "start_time": "2022-10-26T12:19:53.164Z"
   },
   {
    "duration": 570,
    "start_time": "2022-10-26T12:19:53.187Z"
   },
   {
    "duration": 488,
    "start_time": "2022-10-26T12:19:53.759Z"
   },
   {
    "duration": 6,
    "start_time": "2022-10-26T12:19:54.249Z"
   },
   {
    "duration": 23,
    "start_time": "2022-10-26T12:19:54.256Z"
   },
   {
    "duration": 128,
    "start_time": "2022-10-26T12:19:54.284Z"
   },
   {
    "duration": 32,
    "start_time": "2022-10-26T12:19:54.414Z"
   },
   {
    "duration": 110,
    "start_time": "2022-10-26T12:19:54.447Z"
   },
   {
    "duration": 23,
    "start_time": "2022-10-26T12:19:54.559Z"
   },
   {
    "duration": 10,
    "start_time": "2022-10-26T12:19:54.584Z"
   },
   {
    "duration": 46,
    "start_time": "2022-10-26T12:19:54.596Z"
   },
   {
    "duration": 136,
    "start_time": "2022-10-26T12:19:54.645Z"
   },
   {
    "duration": 0,
    "start_time": "2022-10-26T12:19:54.782Z"
   },
   {
    "duration": 0,
    "start_time": "2022-10-26T12:19:54.783Z"
   },
   {
    "duration": 0,
    "start_time": "2022-10-26T12:19:54.784Z"
   },
   {
    "duration": 0,
    "start_time": "2022-10-26T12:19:54.785Z"
   },
   {
    "duration": 0,
    "start_time": "2022-10-26T12:19:54.786Z"
   },
   {
    "duration": 0,
    "start_time": "2022-10-26T12:19:54.787Z"
   },
   {
    "duration": 0,
    "start_time": "2022-10-26T12:19:54.788Z"
   },
   {
    "duration": 30,
    "start_time": "2022-10-26T12:20:30.403Z"
   },
   {
    "duration": 27,
    "start_time": "2022-10-26T12:21:16.474Z"
   },
   {
    "duration": 92,
    "start_time": "2022-10-26T12:23:02.065Z"
   },
   {
    "duration": 78,
    "start_time": "2022-10-26T12:23:08.201Z"
   },
   {
    "duration": 81,
    "start_time": "2022-10-26T12:23:12.872Z"
   },
   {
    "duration": 7,
    "start_time": "2022-10-26T12:23:23.686Z"
   },
   {
    "duration": 21,
    "start_time": "2022-10-26T12:28:10.236Z"
   },
   {
    "duration": 9,
    "start_time": "2022-10-26T12:29:28.418Z"
   },
   {
    "duration": 12,
    "start_time": "2022-10-26T12:48:36.352Z"
   },
   {
    "duration": 11,
    "start_time": "2022-10-26T12:48:40.641Z"
   },
   {
    "duration": 1111,
    "start_time": "2022-10-26T12:49:00.869Z"
   },
   {
    "duration": 43,
    "start_time": "2022-10-26T12:49:01.982Z"
   },
   {
    "duration": 12,
    "start_time": "2022-10-26T12:49:02.026Z"
   },
   {
    "duration": 28,
    "start_time": "2022-10-26T12:49:02.040Z"
   },
   {
    "duration": 13,
    "start_time": "2022-10-26T12:49:02.070Z"
   },
   {
    "duration": 6,
    "start_time": "2022-10-26T12:49:02.084Z"
   },
   {
    "duration": 37,
    "start_time": "2022-10-26T12:49:02.092Z"
   },
   {
    "duration": 37,
    "start_time": "2022-10-26T12:49:02.131Z"
   },
   {
    "duration": 7,
    "start_time": "2022-10-26T12:49:02.170Z"
   },
   {
    "duration": 25,
    "start_time": "2022-10-26T12:49:02.178Z"
   },
   {
    "duration": 563,
    "start_time": "2022-10-26T12:49:02.205Z"
   },
   {
    "duration": 473,
    "start_time": "2022-10-26T12:49:02.770Z"
   },
   {
    "duration": 6,
    "start_time": "2022-10-26T12:49:03.245Z"
   },
   {
    "duration": 15,
    "start_time": "2022-10-26T12:49:03.254Z"
   },
   {
    "duration": 143,
    "start_time": "2022-10-26T12:49:03.271Z"
   },
   {
    "duration": 32,
    "start_time": "2022-10-26T12:49:03.416Z"
   },
   {
    "duration": 114,
    "start_time": "2022-10-26T12:49:03.450Z"
   },
   {
    "duration": 23,
    "start_time": "2022-10-26T12:49:03.567Z"
   },
   {
    "duration": 17,
    "start_time": "2022-10-26T12:49:03.592Z"
   },
   {
    "duration": 38,
    "start_time": "2022-10-26T12:49:03.611Z"
   },
   {
    "duration": 78,
    "start_time": "2022-10-26T12:49:03.651Z"
   },
   {
    "duration": 12,
    "start_time": "2022-10-26T12:49:03.730Z"
   },
   {
    "duration": 14,
    "start_time": "2022-10-26T12:49:03.744Z"
   },
   {
    "duration": 11,
    "start_time": "2022-10-26T12:49:03.760Z"
   },
   {
    "duration": 10,
    "start_time": "2022-10-26T12:49:03.773Z"
   },
   {
    "duration": 7,
    "start_time": "2022-10-26T12:49:03.784Z"
   },
   {
    "duration": 10,
    "start_time": "2022-10-26T12:49:03.792Z"
   },
   {
    "duration": 42,
    "start_time": "2022-10-26T12:49:03.803Z"
   },
   {
    "duration": 5,
    "start_time": "2022-10-26T12:49:03.847Z"
   },
   {
    "duration": 147,
    "start_time": "2022-10-26T12:49:03.853Z"
   },
   {
    "duration": 199,
    "start_time": "2022-10-26T12:53:17.527Z"
   },
   {
    "duration": 227,
    "start_time": "2022-10-26T12:54:37.023Z"
   },
   {
    "duration": 5,
    "start_time": "2022-10-26T12:57:49.056Z"
   },
   {
    "duration": 12,
    "start_time": "2022-10-26T13:09:14.164Z"
   },
   {
    "duration": 11,
    "start_time": "2022-10-26T13:09:20.639Z"
   },
   {
    "duration": 12,
    "start_time": "2022-10-26T13:11:12.342Z"
   },
   {
    "duration": 14,
    "start_time": "2022-10-26T13:11:49.417Z"
   },
   {
    "duration": 312,
    "start_time": "2022-10-26T13:16:54.379Z"
   },
   {
    "duration": 14,
    "start_time": "2022-10-26T13:17:19.658Z"
   },
   {
    "duration": 14,
    "start_time": "2022-10-26T13:18:20.842Z"
   },
   {
    "duration": 10,
    "start_time": "2022-10-26T13:23:47.471Z"
   },
   {
    "duration": 4,
    "start_time": "2022-10-26T13:24:06.358Z"
   },
   {
    "duration": 10,
    "start_time": "2022-10-26T13:24:14.007Z"
   },
   {
    "duration": 11,
    "start_time": "2022-10-26T13:27:26.948Z"
   },
   {
    "duration": 10,
    "start_time": "2022-10-26T13:27:49.144Z"
   },
   {
    "duration": 1150,
    "start_time": "2022-10-26T13:28:04.939Z"
   },
   {
    "duration": 43,
    "start_time": "2022-10-26T13:28:06.091Z"
   },
   {
    "duration": 19,
    "start_time": "2022-10-26T13:28:06.135Z"
   },
   {
    "duration": 53,
    "start_time": "2022-10-26T13:28:06.155Z"
   },
   {
    "duration": 30,
    "start_time": "2022-10-26T13:28:06.210Z"
   },
   {
    "duration": 21,
    "start_time": "2022-10-26T13:28:06.242Z"
   },
   {
    "duration": 60,
    "start_time": "2022-10-26T13:28:06.265Z"
   },
   {
    "duration": 80,
    "start_time": "2022-10-26T13:28:06.326Z"
   },
   {
    "duration": 29,
    "start_time": "2022-10-26T13:28:06.408Z"
   },
   {
    "duration": 52,
    "start_time": "2022-10-26T13:28:06.438Z"
   },
   {
    "duration": 561,
    "start_time": "2022-10-26T13:28:06.492Z"
   },
   {
    "duration": 517,
    "start_time": "2022-10-26T13:28:07.054Z"
   },
   {
    "duration": 5,
    "start_time": "2022-10-26T13:28:07.572Z"
   },
   {
    "duration": 32,
    "start_time": "2022-10-26T13:28:07.580Z"
   },
   {
    "duration": 137,
    "start_time": "2022-10-26T13:28:07.614Z"
   },
   {
    "duration": 29,
    "start_time": "2022-10-26T13:28:07.752Z"
   },
   {
    "duration": 149,
    "start_time": "2022-10-26T13:28:07.783Z"
   },
   {
    "duration": 26,
    "start_time": "2022-10-26T13:28:07.933Z"
   },
   {
    "duration": 24,
    "start_time": "2022-10-26T13:28:07.961Z"
   },
   {
    "duration": 41,
    "start_time": "2022-10-26T13:28:07.987Z"
   },
   {
    "duration": 93,
    "start_time": "2022-10-26T13:28:08.030Z"
   },
   {
    "duration": 6,
    "start_time": "2022-10-26T13:28:08.125Z"
   },
   {
    "duration": 16,
    "start_time": "2022-10-26T13:28:08.132Z"
   },
   {
    "duration": 20,
    "start_time": "2022-10-26T13:28:08.149Z"
   },
   {
    "duration": 33,
    "start_time": "2022-10-26T13:28:08.171Z"
   },
   {
    "duration": 16,
    "start_time": "2022-10-26T13:28:08.205Z"
   },
   {
    "duration": 26,
    "start_time": "2022-10-26T13:28:08.222Z"
   },
   {
    "duration": 23,
    "start_time": "2022-10-26T13:28:08.249Z"
   },
   {
    "duration": 156,
    "start_time": "2022-10-26T13:28:08.274Z"
   },
   {
    "duration": 234,
    "start_time": "2022-10-26T13:28:08.432Z"
   },
   {
    "duration": 6,
    "start_time": "2022-10-26T13:28:08.668Z"
   },
   {
    "duration": 37,
    "start_time": "2022-10-26T13:28:08.675Z"
   },
   {
    "duration": 41,
    "start_time": "2022-10-26T13:28:08.713Z"
   },
   {
    "duration": 17,
    "start_time": "2022-10-26T13:28:08.755Z"
   },
   {
    "duration": 1096,
    "start_time": "2022-10-26T13:28:24.875Z"
   },
   {
    "duration": 43,
    "start_time": "2022-10-26T13:28:25.973Z"
   },
   {
    "duration": 13,
    "start_time": "2022-10-26T13:28:26.017Z"
   },
   {
    "duration": 20,
    "start_time": "2022-10-26T13:28:26.032Z"
   },
   {
    "duration": 24,
    "start_time": "2022-10-26T13:28:26.054Z"
   },
   {
    "duration": 17,
    "start_time": "2022-10-26T13:28:26.079Z"
   },
   {
    "duration": 26,
    "start_time": "2022-10-26T13:28:26.097Z"
   },
   {
    "duration": 41,
    "start_time": "2022-10-26T13:28:26.124Z"
   },
   {
    "duration": 22,
    "start_time": "2022-10-26T13:28:26.166Z"
   },
   {
    "duration": 23,
    "start_time": "2022-10-26T13:28:26.191Z"
   },
   {
    "duration": 568,
    "start_time": "2022-10-26T13:28:26.216Z"
   },
   {
    "duration": 531,
    "start_time": "2022-10-26T13:28:26.786Z"
   },
   {
    "duration": 24,
    "start_time": "2022-10-26T13:28:27.319Z"
   },
   {
    "duration": 17,
    "start_time": "2022-10-26T13:28:27.345Z"
   },
   {
    "duration": 125,
    "start_time": "2022-10-26T13:28:27.364Z"
   },
   {
    "duration": 28,
    "start_time": "2022-10-26T13:28:27.491Z"
   },
   {
    "duration": 151,
    "start_time": "2022-10-26T13:28:27.521Z"
   },
   {
    "duration": 76,
    "start_time": "2022-10-26T13:28:27.674Z"
   },
   {
    "duration": 9,
    "start_time": "2022-10-26T13:28:27.751Z"
   },
   {
    "duration": 25,
    "start_time": "2022-10-26T13:28:27.762Z"
   },
   {
    "duration": 104,
    "start_time": "2022-10-26T13:28:27.789Z"
   },
   {
    "duration": 5,
    "start_time": "2022-10-26T13:28:27.895Z"
   },
   {
    "duration": 14,
    "start_time": "2022-10-26T13:28:27.902Z"
   },
   {
    "duration": 15,
    "start_time": "2022-10-26T13:28:27.917Z"
   },
   {
    "duration": 9,
    "start_time": "2022-10-26T13:28:27.933Z"
   },
   {
    "duration": 4,
    "start_time": "2022-10-26T13:28:27.943Z"
   },
   {
    "duration": 7,
    "start_time": "2022-10-26T13:28:27.948Z"
   },
   {
    "duration": 14,
    "start_time": "2022-10-26T13:28:27.958Z"
   },
   {
    "duration": 172,
    "start_time": "2022-10-26T13:28:27.973Z"
   },
   {
    "duration": 141,
    "start_time": "2022-10-26T13:28:28.146Z"
   },
   {
    "duration": 18,
    "start_time": "2022-10-26T13:28:28.288Z"
   },
   {
    "duration": 24,
    "start_time": "2022-10-26T13:28:28.307Z"
   },
   {
    "duration": 32,
    "start_time": "2022-10-26T13:28:28.333Z"
   },
   {
    "duration": 12,
    "start_time": "2022-10-26T13:28:28.367Z"
   },
   {
    "duration": 12,
    "start_time": "2022-10-26T13:29:51.058Z"
   },
   {
    "duration": 10,
    "start_time": "2022-10-26T13:45:43.982Z"
   },
   {
    "duration": 100,
    "start_time": "2022-10-26T14:02:15.428Z"
   },
   {
    "duration": 324,
    "start_time": "2022-10-26T14:03:13.938Z"
   },
   {
    "duration": 44,
    "start_time": "2022-10-26T14:03:17.763Z"
   },
   {
    "duration": 20,
    "start_time": "2022-10-26T14:04:30.651Z"
   },
   {
    "duration": 31,
    "start_time": "2022-10-26T14:06:59.813Z"
   },
   {
    "duration": 20,
    "start_time": "2022-10-26T14:13:23.746Z"
   },
   {
    "duration": 16,
    "start_time": "2022-10-26T16:14:10.595Z"
   },
   {
    "duration": 1570,
    "start_time": "2022-10-27T08:22:41.241Z"
   },
   {
    "duration": 91,
    "start_time": "2022-10-27T08:22:42.813Z"
   },
   {
    "duration": 14,
    "start_time": "2022-10-27T08:22:42.905Z"
   },
   {
    "duration": 12,
    "start_time": "2022-10-27T08:22:42.922Z"
   },
   {
    "duration": 12,
    "start_time": "2022-10-27T08:22:42.936Z"
   },
   {
    "duration": 4,
    "start_time": "2022-10-27T08:22:42.950Z"
   },
   {
    "duration": 10,
    "start_time": "2022-10-27T08:22:42.955Z"
   },
   {
    "duration": 19,
    "start_time": "2022-10-27T08:22:42.966Z"
   },
   {
    "duration": 6,
    "start_time": "2022-10-27T08:22:42.987Z"
   },
   {
    "duration": 49,
    "start_time": "2022-10-27T08:22:42.995Z"
   },
   {
    "duration": 643,
    "start_time": "2022-10-27T08:22:43.046Z"
   },
   {
    "duration": 594,
    "start_time": "2022-10-27T08:22:43.691Z"
   },
   {
    "duration": 6,
    "start_time": "2022-10-27T08:22:44.286Z"
   },
   {
    "duration": 9,
    "start_time": "2022-10-27T08:22:44.294Z"
   },
   {
    "duration": 172,
    "start_time": "2022-10-27T08:22:44.305Z"
   },
   {
    "duration": 29,
    "start_time": "2022-10-27T08:22:44.479Z"
   },
   {
    "duration": 128,
    "start_time": "2022-10-27T08:22:44.510Z"
   },
   {
    "duration": 21,
    "start_time": "2022-10-27T08:22:44.640Z"
   },
   {
    "duration": 9,
    "start_time": "2022-10-27T08:22:44.663Z"
   },
   {
    "duration": 25,
    "start_time": "2022-10-27T08:22:44.674Z"
   },
   {
    "duration": 101,
    "start_time": "2022-10-27T08:22:44.701Z"
   },
   {
    "duration": 5,
    "start_time": "2022-10-27T08:22:44.804Z"
   },
   {
    "duration": 24,
    "start_time": "2022-10-27T08:22:44.811Z"
   },
   {
    "duration": 15,
    "start_time": "2022-10-27T08:22:44.837Z"
   },
   {
    "duration": 8,
    "start_time": "2022-10-27T08:22:44.854Z"
   },
   {
    "duration": 7,
    "start_time": "2022-10-27T08:22:44.864Z"
   },
   {
    "duration": 13,
    "start_time": "2022-10-27T08:22:44.873Z"
   },
   {
    "duration": 16,
    "start_time": "2022-10-27T08:22:44.891Z"
   },
   {
    "duration": 135,
    "start_time": "2022-10-27T08:22:44.929Z"
   },
   {
    "duration": 145,
    "start_time": "2022-10-27T08:22:45.066Z"
   },
   {
    "duration": 4,
    "start_time": "2022-10-27T08:22:45.213Z"
   },
   {
    "duration": 23,
    "start_time": "2022-10-27T08:22:45.218Z"
   },
   {
    "duration": 29,
    "start_time": "2022-10-27T08:22:45.242Z"
   },
   {
    "duration": 9,
    "start_time": "2022-10-27T08:22:45.273Z"
   },
   {
    "duration": 133,
    "start_time": "2022-10-27T08:22:45.284Z"
   },
   {
    "duration": 0,
    "start_time": "2022-10-27T08:22:45.419Z"
   },
   {
    "duration": 0,
    "start_time": "2022-10-27T08:22:45.429Z"
   },
   {
    "duration": 0,
    "start_time": "2022-10-27T08:22:45.430Z"
   },
   {
    "duration": 0,
    "start_time": "2022-10-27T08:22:45.431Z"
   },
   {
    "duration": 18,
    "start_time": "2022-10-27T08:26:24.060Z"
   },
   {
    "duration": 15,
    "start_time": "2022-10-27T08:26:54.227Z"
   },
   {
    "duration": 15,
    "start_time": "2022-10-27T08:27:38.093Z"
   },
   {
    "duration": 12,
    "start_time": "2022-10-27T08:28:16.553Z"
   },
   {
    "duration": 14,
    "start_time": "2022-10-27T08:35:41.091Z"
   },
   {
    "duration": 9,
    "start_time": "2022-10-27T08:36:23.882Z"
   },
   {
    "duration": 1466,
    "start_time": "2022-10-27T08:37:05.044Z"
   },
   {
    "duration": 46,
    "start_time": "2022-10-27T08:37:06.512Z"
   },
   {
    "duration": 13,
    "start_time": "2022-10-27T08:37:06.560Z"
   },
   {
    "duration": 14,
    "start_time": "2022-10-27T08:37:06.574Z"
   },
   {
    "duration": 13,
    "start_time": "2022-10-27T08:37:06.590Z"
   },
   {
    "duration": 6,
    "start_time": "2022-10-27T08:37:06.604Z"
   },
   {
    "duration": 26,
    "start_time": "2022-10-27T08:37:06.611Z"
   },
   {
    "duration": 20,
    "start_time": "2022-10-27T08:37:06.638Z"
   },
   {
    "duration": 7,
    "start_time": "2022-10-27T08:37:06.660Z"
   },
   {
    "duration": 17,
    "start_time": "2022-10-27T08:37:06.669Z"
   },
   {
    "duration": 563,
    "start_time": "2022-10-27T08:37:06.688Z"
   },
   {
    "duration": 578,
    "start_time": "2022-10-27T08:37:07.252Z"
   },
   {
    "duration": 5,
    "start_time": "2022-10-27T08:37:07.832Z"
   },
   {
    "duration": 10,
    "start_time": "2022-10-27T08:37:07.840Z"
   },
   {
    "duration": 142,
    "start_time": "2022-10-27T08:37:07.851Z"
   },
   {
    "duration": 26,
    "start_time": "2022-10-27T08:37:07.995Z"
   },
   {
    "duration": 144,
    "start_time": "2022-10-27T08:37:08.029Z"
   },
   {
    "duration": 26,
    "start_time": "2022-10-27T08:37:08.176Z"
   },
   {
    "duration": 27,
    "start_time": "2022-10-27T08:37:08.204Z"
   },
   {
    "duration": 33,
    "start_time": "2022-10-27T08:37:08.234Z"
   },
   {
    "duration": 103,
    "start_time": "2022-10-27T08:37:08.269Z"
   },
   {
    "duration": 7,
    "start_time": "2022-10-27T08:37:08.374Z"
   },
   {
    "duration": 9,
    "start_time": "2022-10-27T08:37:08.382Z"
   },
   {
    "duration": 12,
    "start_time": "2022-10-27T08:37:08.392Z"
   },
   {
    "duration": 9,
    "start_time": "2022-10-27T08:37:08.428Z"
   },
   {
    "duration": 4,
    "start_time": "2022-10-27T08:37:08.438Z"
   },
   {
    "duration": 5,
    "start_time": "2022-10-27T08:37:08.444Z"
   },
   {
    "duration": 14,
    "start_time": "2022-10-27T08:37:08.451Z"
   },
   {
    "duration": 169,
    "start_time": "2022-10-27T08:37:08.466Z"
   },
   {
    "duration": 146,
    "start_time": "2022-10-27T08:37:08.637Z"
   },
   {
    "duration": 6,
    "start_time": "2022-10-27T08:37:08.785Z"
   },
   {
    "duration": 34,
    "start_time": "2022-10-27T08:37:08.793Z"
   },
   {
    "duration": 49,
    "start_time": "2022-10-27T08:37:08.830Z"
   },
   {
    "duration": 20,
    "start_time": "2022-10-27T08:37:08.881Z"
   },
   {
    "duration": 153,
    "start_time": "2022-10-27T08:37:08.903Z"
   },
   {
    "duration": 0,
    "start_time": "2022-10-27T08:37:09.057Z"
   },
   {
    "duration": 0,
    "start_time": "2022-10-27T08:37:09.059Z"
   },
   {
    "duration": 0,
    "start_time": "2022-10-27T08:37:09.060Z"
   },
   {
    "duration": 0,
    "start_time": "2022-10-27T08:37:09.061Z"
   },
   {
    "duration": 75,
    "start_time": "2022-10-27T08:57:06.001Z"
   },
   {
    "duration": 746,
    "start_time": "2022-10-27T08:57:29.513Z"
   },
   {
    "duration": 350,
    "start_time": "2022-10-27T08:57:40.098Z"
   },
   {
    "duration": 668,
    "start_time": "2022-10-27T08:59:54.665Z"
   },
   {
    "duration": 4,
    "start_time": "2022-10-27T08:59:58.360Z"
   },
   {
    "duration": 14,
    "start_time": "2022-10-27T09:00:02.105Z"
   },
   {
    "duration": 13,
    "start_time": "2022-10-27T09:03:21.520Z"
   },
   {
    "duration": 84204,
    "start_time": "2022-10-27T09:03:31.446Z"
   },
   {
    "duration": 23529,
    "start_time": "2022-10-27T09:11:24.805Z"
   },
   {
    "duration": 13,
    "start_time": "2022-10-27T09:23:50.639Z"
   },
   {
    "duration": 1518,
    "start_time": "2022-10-27T09:26:08.069Z"
   },
   {
    "duration": 48,
    "start_time": "2022-10-27T09:26:09.589Z"
   },
   {
    "duration": 12,
    "start_time": "2022-10-27T09:26:09.639Z"
   },
   {
    "duration": 12,
    "start_time": "2022-10-27T09:26:09.654Z"
   },
   {
    "duration": 13,
    "start_time": "2022-10-27T09:26:09.668Z"
   },
   {
    "duration": 5,
    "start_time": "2022-10-27T09:26:09.683Z"
   },
   {
    "duration": 40,
    "start_time": "2022-10-27T09:26:09.690Z"
   },
   {
    "duration": 21,
    "start_time": "2022-10-27T09:26:09.733Z"
   },
   {
    "duration": 8,
    "start_time": "2022-10-27T09:26:09.757Z"
   },
   {
    "duration": 16,
    "start_time": "2022-10-27T09:26:09.769Z"
   },
   {
    "duration": 578,
    "start_time": "2022-10-27T09:26:09.788Z"
   },
   {
    "duration": 574,
    "start_time": "2022-10-27T09:26:10.368Z"
   },
   {
    "duration": 5,
    "start_time": "2022-10-27T09:26:10.943Z"
   },
   {
    "duration": 10,
    "start_time": "2022-10-27T09:26:10.950Z"
   },
   {
    "duration": 140,
    "start_time": "2022-10-27T09:26:10.961Z"
   },
   {
    "duration": 34,
    "start_time": "2022-10-27T09:26:11.103Z"
   },
   {
    "duration": 113,
    "start_time": "2022-10-27T09:26:11.139Z"
   },
   {
    "duration": 21,
    "start_time": "2022-10-27T09:26:11.254Z"
   },
   {
    "duration": 10,
    "start_time": "2022-10-27T09:26:11.277Z"
   },
   {
    "duration": 46,
    "start_time": "2022-10-27T09:26:11.289Z"
   },
   {
    "duration": 79,
    "start_time": "2022-10-27T09:26:11.337Z"
   },
   {
    "duration": 15,
    "start_time": "2022-10-27T09:26:11.417Z"
   },
   {
    "duration": 7,
    "start_time": "2022-10-27T09:26:11.434Z"
   },
   {
    "duration": 12,
    "start_time": "2022-10-27T09:26:11.443Z"
   },
   {
    "duration": 7,
    "start_time": "2022-10-27T09:26:11.456Z"
   },
   {
    "duration": 5,
    "start_time": "2022-10-27T09:26:11.464Z"
   },
   {
    "duration": 5,
    "start_time": "2022-10-27T09:26:11.470Z"
   },
   {
    "duration": 55,
    "start_time": "2022-10-27T09:26:11.478Z"
   },
   {
    "duration": 145,
    "start_time": "2022-10-27T09:26:11.535Z"
   },
   {
    "duration": 175,
    "start_time": "2022-10-27T09:26:11.681Z"
   },
   {
    "duration": 5,
    "start_time": "2022-10-27T09:26:11.858Z"
   },
   {
    "duration": 17,
    "start_time": "2022-10-27T09:26:11.865Z"
   },
   {
    "duration": 13,
    "start_time": "2022-10-27T09:26:11.884Z"
   },
   {
    "duration": 31,
    "start_time": "2022-10-27T09:26:11.899Z"
   },
   {
    "duration": 138,
    "start_time": "2022-10-27T09:26:11.932Z"
   },
   {
    "duration": 0,
    "start_time": "2022-10-27T09:26:12.072Z"
   },
   {
    "duration": 0,
    "start_time": "2022-10-27T09:26:12.073Z"
   },
   {
    "duration": 0,
    "start_time": "2022-10-27T09:26:12.074Z"
   },
   {
    "duration": 0,
    "start_time": "2022-10-27T09:26:12.074Z"
   },
   {
    "duration": 11,
    "start_time": "2022-10-27T09:27:13.723Z"
   },
   {
    "duration": 715,
    "start_time": "2022-10-27T09:27:28.299Z"
   },
   {
    "duration": 363,
    "start_time": "2022-10-27T09:27:37.970Z"
   },
   {
    "duration": 498,
    "start_time": "2022-10-27T09:28:36.132Z"
   },
   {
    "duration": 3,
    "start_time": "2022-10-27T09:28:37.411Z"
   },
   {
    "duration": 13,
    "start_time": "2022-10-27T09:28:38.622Z"
   },
   {
    "duration": 690,
    "start_time": "2022-10-27T09:28:53.910Z"
   },
   {
    "duration": 425,
    "start_time": "2022-10-27T09:28:55.252Z"
   },
   {
    "duration": 290,
    "start_time": "2022-10-27T09:28:59.551Z"
   },
   {
    "duration": 3,
    "start_time": "2022-10-27T09:29:00.737Z"
   },
   {
    "duration": 13,
    "start_time": "2022-10-27T09:29:01.651Z"
   },
   {
    "duration": 16,
    "start_time": "2022-10-27T09:29:59.873Z"
   },
   {
    "duration": 17,
    "start_time": "2022-10-27T09:30:06.856Z"
   },
   {
    "duration": 4,
    "start_time": "2022-10-27T09:31:32.707Z"
   },
   {
    "duration": 1496,
    "start_time": "2022-10-27T09:45:43.801Z"
   },
   {
    "duration": 47,
    "start_time": "2022-10-27T09:45:45.300Z"
   },
   {
    "duration": 13,
    "start_time": "2022-10-27T09:45:45.349Z"
   },
   {
    "duration": 14,
    "start_time": "2022-10-27T09:45:45.364Z"
   },
   {
    "duration": 14,
    "start_time": "2022-10-27T09:45:45.380Z"
   },
   {
    "duration": 5,
    "start_time": "2022-10-27T09:45:45.396Z"
   },
   {
    "duration": 35,
    "start_time": "2022-10-27T09:45:45.403Z"
   },
   {
    "duration": 20,
    "start_time": "2022-10-27T09:45:45.440Z"
   },
   {
    "duration": 7,
    "start_time": "2022-10-27T09:45:45.461Z"
   },
   {
    "duration": 17,
    "start_time": "2022-10-27T09:45:45.470Z"
   },
   {
    "duration": 627,
    "start_time": "2022-10-27T09:45:45.488Z"
   },
   {
    "duration": 633,
    "start_time": "2022-10-27T09:45:46.117Z"
   },
   {
    "duration": 6,
    "start_time": "2022-10-27T09:45:46.752Z"
   },
   {
    "duration": 11,
    "start_time": "2022-10-27T09:45:46.762Z"
   },
   {
    "duration": 164,
    "start_time": "2022-10-27T09:45:46.775Z"
   },
   {
    "duration": 33,
    "start_time": "2022-10-27T09:45:46.941Z"
   },
   {
    "duration": 137,
    "start_time": "2022-10-27T09:45:46.976Z"
   },
   {
    "duration": 30,
    "start_time": "2022-10-27T09:45:47.115Z"
   },
   {
    "duration": 9,
    "start_time": "2022-10-27T09:45:47.146Z"
   },
   {
    "duration": 25,
    "start_time": "2022-10-27T09:45:47.157Z"
   },
   {
    "duration": 105,
    "start_time": "2022-10-27T09:45:47.184Z"
   },
   {
    "duration": 9,
    "start_time": "2022-10-27T09:45:47.301Z"
   },
   {
    "duration": 9,
    "start_time": "2022-10-27T09:45:47.312Z"
   },
   {
    "duration": 17,
    "start_time": "2022-10-27T09:45:47.323Z"
   },
   {
    "duration": 9,
    "start_time": "2022-10-27T09:45:47.342Z"
   },
   {
    "duration": 5,
    "start_time": "2022-10-27T09:45:47.353Z"
   },
   {
    "duration": 6,
    "start_time": "2022-10-27T09:45:47.360Z"
   },
   {
    "duration": 16,
    "start_time": "2022-10-27T09:45:47.368Z"
   },
   {
    "duration": 191,
    "start_time": "2022-10-27T09:45:47.386Z"
   },
   {
    "duration": 163,
    "start_time": "2022-10-27T09:45:47.579Z"
   },
   {
    "duration": 5,
    "start_time": "2022-10-27T09:45:47.744Z"
   },
   {
    "duration": 15,
    "start_time": "2022-10-27T09:45:47.751Z"
   },
   {
    "duration": 15,
    "start_time": "2022-10-27T09:45:47.768Z"
   },
   {
    "duration": 10,
    "start_time": "2022-10-27T09:45:47.785Z"
   },
   {
    "duration": 942,
    "start_time": "2022-10-27T09:45:47.797Z"
   },
   {
    "duration": 381,
    "start_time": "2022-10-27T09:45:48.742Z"
   },
   {
    "duration": 705,
    "start_time": "2022-10-27T09:45:49.125Z"
   },
   {
    "duration": 5,
    "start_time": "2022-10-27T09:45:49.832Z"
   },
   {
    "duration": 100,
    "start_time": "2022-10-27T09:45:49.839Z"
   },
   {
    "duration": 5,
    "start_time": "2022-10-27T09:45:49.941Z"
   },
   {
    "duration": 2564,
    "start_time": "2022-10-27T09:45:49.950Z"
   },
   {
    "duration": 1537,
    "start_time": "2022-10-27T10:07:25.010Z"
   },
   {
    "duration": 48,
    "start_time": "2022-10-27T10:07:26.549Z"
   },
   {
    "duration": 13,
    "start_time": "2022-10-27T10:07:26.598Z"
   },
   {
    "duration": 13,
    "start_time": "2022-10-27T10:07:26.613Z"
   },
   {
    "duration": 14,
    "start_time": "2022-10-27T10:07:26.629Z"
   },
   {
    "duration": 5,
    "start_time": "2022-10-27T10:07:26.645Z"
   },
   {
    "duration": 11,
    "start_time": "2022-10-27T10:07:26.652Z"
   },
   {
    "duration": 20,
    "start_time": "2022-10-27T10:07:26.665Z"
   },
   {
    "duration": 42,
    "start_time": "2022-10-27T10:07:26.687Z"
   },
   {
    "duration": 20,
    "start_time": "2022-10-27T10:07:26.731Z"
   },
   {
    "duration": 521,
    "start_time": "2022-10-27T10:07:26.752Z"
   },
   {
    "duration": 619,
    "start_time": "2022-10-27T10:07:27.274Z"
   },
   {
    "duration": 6,
    "start_time": "2022-10-27T10:07:27.895Z"
   },
   {
    "duration": 26,
    "start_time": "2022-10-27T10:07:27.905Z"
   },
   {
    "duration": 179,
    "start_time": "2022-10-27T10:07:27.933Z"
   },
   {
    "duration": 49,
    "start_time": "2022-10-27T10:07:28.114Z"
   },
   {
    "duration": 181,
    "start_time": "2022-10-27T10:07:28.166Z"
   },
   {
    "duration": 24,
    "start_time": "2022-10-27T10:07:28.349Z"
   },
   {
    "duration": 10,
    "start_time": "2022-10-27T10:07:28.375Z"
   },
   {
    "duration": 59,
    "start_time": "2022-10-27T10:07:28.387Z"
   },
   {
    "duration": 91,
    "start_time": "2022-10-27T10:07:28.448Z"
   },
   {
    "duration": 6,
    "start_time": "2022-10-27T10:07:28.541Z"
   },
   {
    "duration": 8,
    "start_time": "2022-10-27T10:07:28.549Z"
   },
   {
    "duration": 11,
    "start_time": "2022-10-27T10:07:28.559Z"
   },
   {
    "duration": 8,
    "start_time": "2022-10-27T10:07:28.572Z"
   },
   {
    "duration": 4,
    "start_time": "2022-10-27T10:07:28.582Z"
   },
   {
    "duration": 44,
    "start_time": "2022-10-27T10:07:28.588Z"
   },
   {
    "duration": 21,
    "start_time": "2022-10-27T10:07:28.635Z"
   },
   {
    "duration": 183,
    "start_time": "2022-10-27T10:07:28.658Z"
   },
   {
    "duration": 152,
    "start_time": "2022-10-27T10:07:28.843Z"
   },
   {
    "duration": 5,
    "start_time": "2022-10-27T10:07:28.997Z"
   },
   {
    "duration": 30,
    "start_time": "2022-10-27T10:07:29.004Z"
   },
   {
    "duration": 15,
    "start_time": "2022-10-27T10:07:29.036Z"
   },
   {
    "duration": 13,
    "start_time": "2022-10-27T10:07:29.053Z"
   },
   {
    "duration": 745,
    "start_time": "2022-10-27T10:07:29.068Z"
   },
   {
    "duration": 327,
    "start_time": "2022-10-27T10:07:29.815Z"
   },
   {
    "duration": 487,
    "start_time": "2022-10-27T10:07:30.144Z"
   },
   {
    "duration": 4,
    "start_time": "2022-10-27T10:07:30.634Z"
   },
   {
    "duration": 35,
    "start_time": "2022-10-27T10:07:30.728Z"
   },
   {
    "duration": 36,
    "start_time": "2022-10-27T10:07:30.765Z"
   },
   {
    "duration": 2494,
    "start_time": "2022-10-27T10:07:30.806Z"
   },
   {
    "duration": 1072,
    "start_time": "2022-10-27T10:08:30.477Z"
   },
   {
    "duration": 16,
    "start_time": "2022-10-27T10:29:11.780Z"
   },
   {
    "duration": 13,
    "start_time": "2022-10-27T10:29:16.405Z"
   },
   {
    "duration": 129,
    "start_time": "2022-10-27T10:30:16.003Z"
   },
   {
    "duration": 13,
    "start_time": "2022-10-27T10:31:04.547Z"
   },
   {
    "duration": 14,
    "start_time": "2022-10-27T10:32:13.090Z"
   },
   {
    "duration": 23,
    "start_time": "2022-10-27T10:32:32.017Z"
   },
   {
    "duration": 13,
    "start_time": "2022-10-27T10:33:29.594Z"
   },
   {
    "duration": 13,
    "start_time": "2022-10-27T10:37:30.956Z"
   },
   {
    "duration": 12,
    "start_time": "2022-10-27T10:37:53.571Z"
   },
   {
    "duration": 13,
    "start_time": "2022-10-27T10:38:01.961Z"
   },
   {
    "duration": 13,
    "start_time": "2022-10-27T10:59:33.961Z"
   },
   {
    "duration": 30,
    "start_time": "2022-10-27T11:00:53.263Z"
   },
   {
    "duration": 25,
    "start_time": "2022-10-27T11:01:57.395Z"
   },
   {
    "duration": 14,
    "start_time": "2022-10-27T11:03:33.111Z"
   },
   {
    "duration": 3,
    "start_time": "2022-10-27T11:13:06.803Z"
   },
   {
    "duration": 1632,
    "start_time": "2022-10-28T06:53:28.225Z"
   },
   {
    "duration": 176,
    "start_time": "2022-10-28T06:53:29.859Z"
   },
   {
    "duration": 14,
    "start_time": "2022-10-28T06:53:30.037Z"
   },
   {
    "duration": 21,
    "start_time": "2022-10-28T06:53:30.053Z"
   },
   {
    "duration": 19,
    "start_time": "2022-10-28T06:53:30.076Z"
   },
   {
    "duration": 25,
    "start_time": "2022-10-28T06:53:30.097Z"
   },
   {
    "duration": 31,
    "start_time": "2022-10-28T06:53:30.123Z"
   },
   {
    "duration": 48,
    "start_time": "2022-10-28T06:53:30.157Z"
   },
   {
    "duration": 12,
    "start_time": "2022-10-28T06:53:30.207Z"
   },
   {
    "duration": 40,
    "start_time": "2022-10-28T06:53:30.223Z"
   },
   {
    "duration": 583,
    "start_time": "2022-10-28T06:53:30.265Z"
   },
   {
    "duration": 586,
    "start_time": "2022-10-28T06:53:30.851Z"
   },
   {
    "duration": 5,
    "start_time": "2022-10-28T06:53:31.439Z"
   },
   {
    "duration": 13,
    "start_time": "2022-10-28T06:53:31.445Z"
   },
   {
    "duration": 140,
    "start_time": "2022-10-28T06:53:31.460Z"
   },
   {
    "duration": 34,
    "start_time": "2022-10-28T06:53:31.603Z"
   },
   {
    "duration": 115,
    "start_time": "2022-10-28T06:53:31.638Z"
   },
   {
    "duration": 21,
    "start_time": "2022-10-28T06:53:31.755Z"
   },
   {
    "duration": 8,
    "start_time": "2022-10-28T06:53:31.778Z"
   },
   {
    "duration": 47,
    "start_time": "2022-10-28T06:53:31.788Z"
   },
   {
    "duration": 103,
    "start_time": "2022-10-28T06:53:31.837Z"
   },
   {
    "duration": 6,
    "start_time": "2022-10-28T06:53:31.941Z"
   },
   {
    "duration": 11,
    "start_time": "2022-10-28T06:53:31.948Z"
   },
   {
    "duration": 12,
    "start_time": "2022-10-28T06:53:31.961Z"
   },
   {
    "duration": 11,
    "start_time": "2022-10-28T06:53:31.975Z"
   },
   {
    "duration": 11,
    "start_time": "2022-10-28T06:53:31.988Z"
   },
   {
    "duration": 14,
    "start_time": "2022-10-28T06:53:32.001Z"
   },
   {
    "duration": 19,
    "start_time": "2022-10-28T06:53:32.033Z"
   },
   {
    "duration": 187,
    "start_time": "2022-10-28T06:53:32.054Z"
   },
   {
    "duration": 213,
    "start_time": "2022-10-28T06:53:32.243Z"
   },
   {
    "duration": 7,
    "start_time": "2022-10-28T06:53:32.458Z"
   },
   {
    "duration": 31,
    "start_time": "2022-10-28T06:53:32.467Z"
   },
   {
    "duration": 33,
    "start_time": "2022-10-28T06:53:32.502Z"
   },
   {
    "duration": 15,
    "start_time": "2022-10-28T06:53:32.537Z"
   },
   {
    "duration": 661,
    "start_time": "2022-10-28T06:53:32.554Z"
   },
   {
    "duration": 377,
    "start_time": "2022-10-28T06:53:33.217Z"
   },
   {
    "duration": 446,
    "start_time": "2022-10-28T06:53:33.596Z"
   },
   {
    "duration": 4,
    "start_time": "2022-10-28T06:53:34.044Z"
   },
   {
    "duration": 100,
    "start_time": "2022-10-28T06:53:34.135Z"
   },
   {
    "duration": 4,
    "start_time": "2022-10-28T06:53:34.237Z"
   },
   {
    "duration": 2238,
    "start_time": "2022-10-28T06:53:34.242Z"
   },
   {
    "duration": 3,
    "start_time": "2022-10-28T06:53:36.483Z"
   },
   {
    "duration": 29,
    "start_time": "2022-10-28T06:53:36.488Z"
   },
   {
    "duration": 33,
    "start_time": "2022-10-28T06:53:36.519Z"
   },
   {
    "duration": 5,
    "start_time": "2022-10-28T07:03:15.936Z"
   },
   {
    "duration": 20,
    "start_time": "2022-10-28T07:03:27.468Z"
   },
   {
    "duration": 6,
    "start_time": "2022-10-28T07:06:56.875Z"
   },
   {
    "duration": 54,
    "start_time": "2022-10-28T07:08:54.731Z"
   },
   {
    "duration": 5,
    "start_time": "2022-10-28T07:10:56.827Z"
   },
   {
    "duration": 5,
    "start_time": "2022-10-28T07:11:25.235Z"
   },
   {
    "duration": 5,
    "start_time": "2022-10-28T07:11:35.959Z"
   },
   {
    "duration": 48,
    "start_time": "2022-10-28T08:46:05.382Z"
   },
   {
    "duration": 1706,
    "start_time": "2022-10-28T08:46:11.331Z"
   },
   {
    "duration": 174,
    "start_time": "2022-10-28T08:46:13.039Z"
   },
   {
    "duration": 13,
    "start_time": "2022-10-28T08:46:13.215Z"
   },
   {
    "duration": 12,
    "start_time": "2022-10-28T08:46:13.230Z"
   },
   {
    "duration": 13,
    "start_time": "2022-10-28T08:46:13.243Z"
   },
   {
    "duration": 5,
    "start_time": "2022-10-28T08:46:13.257Z"
   },
   {
    "duration": 11,
    "start_time": "2022-10-28T08:46:13.263Z"
   },
   {
    "duration": 7,
    "start_time": "2022-10-28T08:46:13.275Z"
   },
   {
    "duration": 7,
    "start_time": "2022-10-28T08:46:13.284Z"
   },
   {
    "duration": 47,
    "start_time": "2022-10-28T08:46:13.293Z"
   },
   {
    "duration": 530,
    "start_time": "2022-10-28T08:46:13.342Z"
   },
   {
    "duration": 566,
    "start_time": "2022-10-28T08:46:13.874Z"
   },
   {
    "duration": 9,
    "start_time": "2022-10-28T08:46:14.442Z"
   },
   {
    "duration": 8,
    "start_time": "2022-10-28T08:46:14.453Z"
   },
   {
    "duration": 9,
    "start_time": "2022-10-28T08:46:14.463Z"
   },
   {
    "duration": 156,
    "start_time": "2022-10-28T08:46:14.473Z"
   },
   {
    "duration": 29,
    "start_time": "2022-10-28T08:46:14.631Z"
   },
   {
    "duration": 108,
    "start_time": "2022-10-28T08:46:14.662Z"
   },
   {
    "duration": 20,
    "start_time": "2022-10-28T08:46:14.772Z"
   },
   {
    "duration": 12,
    "start_time": "2022-10-28T08:46:14.793Z"
   },
   {
    "duration": 42,
    "start_time": "2022-10-28T08:46:14.806Z"
   },
   {
    "duration": 81,
    "start_time": "2022-10-28T08:46:14.849Z"
   },
   {
    "duration": 7,
    "start_time": "2022-10-28T08:46:14.932Z"
   },
   {
    "duration": 9,
    "start_time": "2022-10-28T08:46:14.941Z"
   },
   {
    "duration": 13,
    "start_time": "2022-10-28T08:46:14.952Z"
   },
   {
    "duration": 19,
    "start_time": "2022-10-28T08:46:14.966Z"
   },
   {
    "duration": 7,
    "start_time": "2022-10-28T08:46:14.987Z"
   },
   {
    "duration": 19,
    "start_time": "2022-10-28T08:46:14.996Z"
   },
   {
    "duration": 23,
    "start_time": "2022-10-28T08:46:15.016Z"
   },
   {
    "duration": 138,
    "start_time": "2022-10-28T08:46:15.041Z"
   },
   {
    "duration": 142,
    "start_time": "2022-10-28T08:46:15.181Z"
   },
   {
    "duration": 5,
    "start_time": "2022-10-28T08:46:15.324Z"
   },
   {
    "duration": 14,
    "start_time": "2022-10-28T08:46:15.339Z"
   },
   {
    "duration": 17,
    "start_time": "2022-10-28T08:46:15.355Z"
   },
   {
    "duration": 12,
    "start_time": "2022-10-28T08:46:15.374Z"
   },
   {
    "duration": 702,
    "start_time": "2022-10-28T08:46:15.388Z"
   },
   {
    "duration": 332,
    "start_time": "2022-10-28T08:46:16.092Z"
   },
   {
    "duration": 421,
    "start_time": "2022-10-28T08:46:16.426Z"
   },
   {
    "duration": 5,
    "start_time": "2022-10-28T08:46:16.938Z"
   },
   {
    "duration": 104,
    "start_time": "2022-10-28T08:46:16.947Z"
   },
   {
    "duration": 5,
    "start_time": "2022-10-28T08:46:17.053Z"
   },
   {
    "duration": 2601,
    "start_time": "2022-10-28T08:46:17.060Z"
   },
   {
    "duration": 2,
    "start_time": "2022-10-28T08:46:19.663Z"
   },
   {
    "duration": 13,
    "start_time": "2022-10-28T08:46:19.666Z"
   },
   {
    "duration": 62,
    "start_time": "2022-10-28T08:46:19.680Z"
   },
   {
    "duration": 11,
    "start_time": "2022-10-28T08:47:58.493Z"
   },
   {
    "duration": 190,
    "start_time": "2022-10-28T08:48:07.994Z"
   },
   {
    "duration": 17,
    "start_time": "2022-10-28T08:48:15.454Z"
   },
   {
    "duration": 122,
    "start_time": "2022-10-28T08:49:29.715Z"
   },
   {
    "duration": 12,
    "start_time": "2022-10-28T08:49:49.857Z"
   },
   {
    "duration": 12,
    "start_time": "2022-10-28T08:50:07.055Z"
   },
   {
    "duration": 13,
    "start_time": "2022-10-28T08:52:26.129Z"
   },
   {
    "duration": 52,
    "start_time": "2022-10-28T08:55:00.895Z"
   },
   {
    "duration": 11,
    "start_time": "2022-10-28T08:55:10.863Z"
   },
   {
    "duration": 12,
    "start_time": "2022-10-28T08:56:28.493Z"
   },
   {
    "duration": 8,
    "start_time": "2022-10-28T09:03:02.236Z"
   },
   {
    "duration": 7,
    "start_time": "2022-10-28T09:03:05.800Z"
   },
   {
    "duration": 15,
    "start_time": "2022-10-28T09:03:13.368Z"
   },
   {
    "duration": 12,
    "start_time": "2022-10-28T09:03:47.731Z"
   },
   {
    "duration": 6,
    "start_time": "2022-10-28T09:03:51.554Z"
   },
   {
    "duration": 7,
    "start_time": "2022-10-28T09:08:17.391Z"
   },
   {
    "duration": 5,
    "start_time": "2022-10-28T09:08:26.956Z"
   },
   {
    "duration": 1488,
    "start_time": "2022-10-28T09:08:35.980Z"
   },
   {
    "duration": 44,
    "start_time": "2022-10-28T09:08:37.470Z"
   },
   {
    "duration": 13,
    "start_time": "2022-10-28T09:08:37.515Z"
   },
   {
    "duration": 17,
    "start_time": "2022-10-28T09:08:37.530Z"
   },
   {
    "duration": 21,
    "start_time": "2022-10-28T09:08:37.549Z"
   },
   {
    "duration": 7,
    "start_time": "2022-10-28T09:08:37.572Z"
   },
   {
    "duration": 12,
    "start_time": "2022-10-28T09:08:37.581Z"
   },
   {
    "duration": 8,
    "start_time": "2022-10-28T09:08:37.594Z"
   },
   {
    "duration": 8,
    "start_time": "2022-10-28T09:08:37.603Z"
   },
   {
    "duration": 36,
    "start_time": "2022-10-28T09:08:37.614Z"
   },
   {
    "duration": 523,
    "start_time": "2022-10-28T09:08:37.651Z"
   },
   {
    "duration": 573,
    "start_time": "2022-10-28T09:08:38.176Z"
   },
   {
    "duration": 9,
    "start_time": "2022-10-28T09:08:38.751Z"
   },
   {
    "duration": 12,
    "start_time": "2022-10-28T09:08:38.763Z"
   },
   {
    "duration": 8,
    "start_time": "2022-10-28T09:08:38.777Z"
   },
   {
    "duration": 4,
    "start_time": "2022-10-28T09:08:38.786Z"
   },
   {
    "duration": 12,
    "start_time": "2022-10-28T09:08:38.792Z"
   },
   {
    "duration": 133,
    "start_time": "2022-10-28T09:08:38.838Z"
   },
   {
    "duration": 27,
    "start_time": "2022-10-28T09:08:38.973Z"
   },
   {
    "duration": 122,
    "start_time": "2022-10-28T09:08:39.003Z"
   },
   {
    "duration": 28,
    "start_time": "2022-10-28T09:08:39.127Z"
   },
   {
    "duration": 11,
    "start_time": "2022-10-28T09:08:39.157Z"
   },
   {
    "duration": 26,
    "start_time": "2022-10-28T09:08:39.170Z"
   },
   {
    "duration": 101,
    "start_time": "2022-10-28T09:08:39.198Z"
   },
   {
    "duration": 5,
    "start_time": "2022-10-28T09:08:39.301Z"
   },
   {
    "duration": 10,
    "start_time": "2022-10-28T09:08:39.307Z"
   },
   {
    "duration": 22,
    "start_time": "2022-10-28T09:08:39.318Z"
   },
   {
    "duration": 8,
    "start_time": "2022-10-28T09:08:39.343Z"
   },
   {
    "duration": 4,
    "start_time": "2022-10-28T09:08:39.352Z"
   },
   {
    "duration": 7,
    "start_time": "2022-10-28T09:08:39.357Z"
   },
   {
    "duration": 15,
    "start_time": "2022-10-28T09:08:39.365Z"
   },
   {
    "duration": 158,
    "start_time": "2022-10-28T09:08:39.382Z"
   },
   {
    "duration": 141,
    "start_time": "2022-10-28T09:08:39.542Z"
   },
   {
    "duration": 5,
    "start_time": "2022-10-28T09:08:39.684Z"
   },
   {
    "duration": 19,
    "start_time": "2022-10-28T09:08:39.691Z"
   },
   {
    "duration": 29,
    "start_time": "2022-10-28T09:08:39.712Z"
   },
   {
    "duration": 11,
    "start_time": "2022-10-28T09:08:39.743Z"
   },
   {
    "duration": 742,
    "start_time": "2022-10-28T09:08:39.756Z"
   },
   {
    "duration": 321,
    "start_time": "2022-10-28T09:08:40.499Z"
   },
   {
    "duration": 425,
    "start_time": "2022-10-28T09:08:40.822Z"
   },
   {
    "duration": 6,
    "start_time": "2022-10-28T09:08:41.339Z"
   },
   {
    "duration": 20,
    "start_time": "2022-10-28T09:08:41.346Z"
   },
   {
    "duration": 71,
    "start_time": "2022-10-28T09:08:41.368Z"
   },
   {
    "duration": 2283,
    "start_time": "2022-10-28T09:08:41.441Z"
   },
   {
    "duration": 2,
    "start_time": "2022-10-28T09:08:43.726Z"
   },
   {
    "duration": 10,
    "start_time": "2022-10-28T09:08:43.737Z"
   },
   {
    "duration": 9,
    "start_time": "2022-10-28T09:08:43.749Z"
   },
   {
    "duration": 12,
    "start_time": "2022-10-28T09:15:15.554Z"
   },
   {
    "duration": 2,
    "start_time": "2022-10-28T09:15:57.536Z"
   },
   {
    "duration": 4,
    "start_time": "2022-10-28T09:26:29.057Z"
   },
   {
    "duration": 7,
    "start_time": "2022-10-28T09:28:09.545Z"
   },
   {
    "duration": 1429,
    "start_time": "2022-10-28T09:28:24.204Z"
   },
   {
    "duration": 46,
    "start_time": "2022-10-28T09:28:25.635Z"
   },
   {
    "duration": 14,
    "start_time": "2022-10-28T09:28:25.683Z"
   },
   {
    "duration": 18,
    "start_time": "2022-10-28T09:28:25.699Z"
   },
   {
    "duration": 19,
    "start_time": "2022-10-28T09:28:25.719Z"
   },
   {
    "duration": 5,
    "start_time": "2022-10-28T09:28:25.740Z"
   },
   {
    "duration": 15,
    "start_time": "2022-10-28T09:28:25.747Z"
   },
   {
    "duration": 8,
    "start_time": "2022-10-28T09:28:25.764Z"
   },
   {
    "duration": 7,
    "start_time": "2022-10-28T09:28:25.774Z"
   },
   {
    "duration": 18,
    "start_time": "2022-10-28T09:28:25.784Z"
   },
   {
    "duration": 565,
    "start_time": "2022-10-28T09:28:25.804Z"
   },
   {
    "duration": 569,
    "start_time": "2022-10-28T09:28:26.371Z"
   },
   {
    "duration": 10,
    "start_time": "2022-10-28T09:28:26.941Z"
   },
   {
    "duration": 13,
    "start_time": "2022-10-28T09:28:26.952Z"
   },
   {
    "duration": 6,
    "start_time": "2022-10-28T09:28:26.967Z"
   },
   {
    "duration": 4,
    "start_time": "2022-10-28T09:28:26.975Z"
   },
   {
    "duration": 7,
    "start_time": "2022-10-28T09:28:26.980Z"
   },
   {
    "duration": 11,
    "start_time": "2022-10-28T09:28:26.988Z"
   },
   {
    "duration": 180,
    "start_time": "2022-10-28T09:28:27.001Z"
   },
   {
    "duration": 38,
    "start_time": "2022-10-28T09:28:27.182Z"
   },
   {
    "duration": 163,
    "start_time": "2022-10-28T09:28:27.223Z"
   },
   {
    "duration": 29,
    "start_time": "2022-10-28T09:28:27.389Z"
   },
   {
    "duration": 27,
    "start_time": "2022-10-28T09:28:27.420Z"
   },
   {
    "duration": 25,
    "start_time": "2022-10-28T09:28:27.449Z"
   },
   {
    "duration": 87,
    "start_time": "2022-10-28T09:28:27.475Z"
   },
   {
    "duration": 6,
    "start_time": "2022-10-28T09:28:27.563Z"
   },
   {
    "duration": 19,
    "start_time": "2022-10-28T09:28:27.570Z"
   },
   {
    "duration": 13,
    "start_time": "2022-10-28T09:28:27.592Z"
   },
   {
    "duration": 16,
    "start_time": "2022-10-28T09:28:27.606Z"
   },
   {
    "duration": 10,
    "start_time": "2022-10-28T09:28:27.623Z"
   },
   {
    "duration": 10,
    "start_time": "2022-10-28T09:28:27.638Z"
   },
   {
    "duration": 20,
    "start_time": "2022-10-28T09:28:27.650Z"
   },
   {
    "duration": 142,
    "start_time": "2022-10-28T09:28:27.672Z"
   },
   {
    "duration": 151,
    "start_time": "2022-10-28T09:28:27.817Z"
   },
   {
    "duration": 5,
    "start_time": "2022-10-28T09:28:27.970Z"
   },
   {
    "duration": 19,
    "start_time": "2022-10-28T09:28:27.977Z"
   },
   {
    "duration": 22,
    "start_time": "2022-10-28T09:28:27.997Z"
   },
   {
    "duration": 19,
    "start_time": "2022-10-28T09:28:28.020Z"
   },
   {
    "duration": 736,
    "start_time": "2022-10-28T09:28:28.041Z"
   },
   {
    "duration": 323,
    "start_time": "2022-10-28T09:28:28.779Z"
   },
   {
    "duration": 444,
    "start_time": "2022-10-28T09:28:29.103Z"
   },
   {
    "duration": 5,
    "start_time": "2022-10-28T09:28:29.640Z"
   },
   {
    "duration": 100,
    "start_time": "2022-10-28T09:28:29.648Z"
   },
   {
    "duration": 3,
    "start_time": "2022-10-28T09:28:29.749Z"
   },
   {
    "duration": 2324,
    "start_time": "2022-10-28T09:28:29.753Z"
   },
   {
    "duration": 2,
    "start_time": "2022-10-28T09:28:32.079Z"
   },
   {
    "duration": 14,
    "start_time": "2022-10-28T09:28:32.083Z"
   },
   {
    "duration": 16,
    "start_time": "2022-10-28T09:28:32.098Z"
   },
   {
    "duration": 4,
    "start_time": "2022-10-28T09:30:34.132Z"
   },
   {
    "duration": 13,
    "start_time": "2022-10-28T10:04:17.770Z"
   },
   {
    "duration": 1526,
    "start_time": "2022-10-28T10:04:23.234Z"
   },
   {
    "duration": 47,
    "start_time": "2022-10-28T10:04:24.762Z"
   },
   {
    "duration": 14,
    "start_time": "2022-10-28T10:04:24.811Z"
   },
   {
    "duration": 13,
    "start_time": "2022-10-28T10:04:24.827Z"
   },
   {
    "duration": 13,
    "start_time": "2022-10-28T10:04:24.843Z"
   },
   {
    "duration": 6,
    "start_time": "2022-10-28T10:04:24.858Z"
   },
   {
    "duration": 10,
    "start_time": "2022-10-28T10:04:24.866Z"
   },
   {
    "duration": 9,
    "start_time": "2022-10-28T10:04:24.877Z"
   },
   {
    "duration": 8,
    "start_time": "2022-10-28T10:04:24.888Z"
   },
   {
    "duration": 50,
    "start_time": "2022-10-28T10:04:24.898Z"
   },
   {
    "duration": 520,
    "start_time": "2022-10-28T10:04:24.950Z"
   },
   {
    "duration": 568,
    "start_time": "2022-10-28T10:04:25.472Z"
   },
   {
    "duration": 9,
    "start_time": "2022-10-28T10:04:26.042Z"
   },
   {
    "duration": 20,
    "start_time": "2022-10-28T10:04:26.055Z"
   },
   {
    "duration": 29,
    "start_time": "2022-10-28T10:04:26.077Z"
   },
   {
    "duration": 28,
    "start_time": "2022-10-28T10:04:26.108Z"
   },
   {
    "duration": 30,
    "start_time": "2022-10-28T10:04:26.138Z"
   },
   {
    "duration": 15,
    "start_time": "2022-10-28T10:04:26.169Z"
   },
   {
    "duration": 18,
    "start_time": "2022-10-28T10:04:26.185Z"
   },
   {
    "duration": 141,
    "start_time": "2022-10-28T10:04:26.204Z"
   },
   {
    "duration": 25,
    "start_time": "2022-10-28T10:04:26.347Z"
   },
   {
    "duration": 119,
    "start_time": "2022-10-28T10:04:26.374Z"
   },
   {
    "duration": 22,
    "start_time": "2022-10-28T10:04:26.494Z"
   },
   {
    "duration": 36,
    "start_time": "2022-10-28T10:04:26.518Z"
   },
   {
    "duration": 39,
    "start_time": "2022-10-28T10:04:26.555Z"
   },
   {
    "duration": 86,
    "start_time": "2022-10-28T10:04:26.596Z"
   },
   {
    "duration": 5,
    "start_time": "2022-10-28T10:04:26.683Z"
   },
   {
    "duration": 15,
    "start_time": "2022-10-28T10:04:26.689Z"
   },
   {
    "duration": 35,
    "start_time": "2022-10-28T10:04:26.705Z"
   },
   {
    "duration": 36,
    "start_time": "2022-10-28T10:04:26.742Z"
   },
   {
    "duration": 10,
    "start_time": "2022-10-28T10:04:26.780Z"
   },
   {
    "duration": 18,
    "start_time": "2022-10-28T10:04:26.792Z"
   },
   {
    "duration": 27,
    "start_time": "2022-10-28T10:04:26.811Z"
   },
   {
    "duration": 141,
    "start_time": "2022-10-28T10:04:26.840Z"
   },
   {
    "duration": 156,
    "start_time": "2022-10-28T10:04:26.982Z"
   },
   {
    "duration": 7,
    "start_time": "2022-10-28T10:04:27.140Z"
   },
   {
    "duration": 45,
    "start_time": "2022-10-28T10:04:27.149Z"
   },
   {
    "duration": 35,
    "start_time": "2022-10-28T10:04:27.197Z"
   },
   {
    "duration": 23,
    "start_time": "2022-10-28T10:04:27.235Z"
   },
   {
    "duration": 699,
    "start_time": "2022-10-28T10:04:27.260Z"
   },
   {
    "duration": 351,
    "start_time": "2022-10-28T10:04:27.962Z"
   },
   {
    "duration": 524,
    "start_time": "2022-10-28T10:04:28.315Z"
   },
   {
    "duration": 4,
    "start_time": "2022-10-28T10:04:28.842Z"
   },
   {
    "duration": 109,
    "start_time": "2022-10-28T10:04:28.848Z"
   },
   {
    "duration": 5,
    "start_time": "2022-10-28T10:04:28.959Z"
   },
   {
    "duration": 2291,
    "start_time": "2022-10-28T10:04:28.966Z"
   },
   {
    "duration": 2,
    "start_time": "2022-10-28T10:04:31.259Z"
   },
   {
    "duration": 15,
    "start_time": "2022-10-28T10:04:31.263Z"
   },
   {
    "duration": 12,
    "start_time": "2022-10-28T10:04:31.280Z"
   },
   {
    "duration": 22,
    "start_time": "2022-10-28T10:30:01.129Z"
   },
   {
    "duration": 1419,
    "start_time": "2022-10-28T10:30:43.664Z"
   },
   {
    "duration": 45,
    "start_time": "2022-10-28T10:30:45.085Z"
   },
   {
    "duration": 12,
    "start_time": "2022-10-28T10:30:45.132Z"
   },
   {
    "duration": 12,
    "start_time": "2022-10-28T10:30:45.145Z"
   },
   {
    "duration": 23,
    "start_time": "2022-10-28T10:30:45.159Z"
   },
   {
    "duration": 12,
    "start_time": "2022-10-28T10:30:45.184Z"
   },
   {
    "duration": 22,
    "start_time": "2022-10-28T10:30:45.197Z"
   },
   {
    "duration": 27,
    "start_time": "2022-10-28T10:30:45.221Z"
   },
   {
    "duration": 15,
    "start_time": "2022-10-28T10:30:45.249Z"
   },
   {
    "duration": 22,
    "start_time": "2022-10-28T10:30:45.266Z"
   },
   {
    "duration": 575,
    "start_time": "2022-10-28T10:30:45.290Z"
   },
   {
    "duration": 561,
    "start_time": "2022-10-28T10:30:45.867Z"
   },
   {
    "duration": 18,
    "start_time": "2022-10-28T10:30:46.429Z"
   },
   {
    "duration": 13,
    "start_time": "2022-10-28T10:30:46.450Z"
   },
   {
    "duration": 8,
    "start_time": "2022-10-28T10:30:46.464Z"
   },
   {
    "duration": 5,
    "start_time": "2022-10-28T10:30:46.473Z"
   },
   {
    "duration": 6,
    "start_time": "2022-10-28T10:30:46.480Z"
   },
   {
    "duration": 54,
    "start_time": "2022-10-28T10:30:46.488Z"
   },
   {
    "duration": 6,
    "start_time": "2022-10-28T10:30:46.544Z"
   },
   {
    "duration": 17,
    "start_time": "2022-10-28T10:30:46.551Z"
   },
   {
    "duration": 143,
    "start_time": "2022-10-28T10:30:46.570Z"
   },
   {
    "duration": 40,
    "start_time": "2022-10-28T10:30:46.714Z"
   },
   {
    "duration": 110,
    "start_time": "2022-10-28T10:30:46.755Z"
   },
   {
    "duration": 22,
    "start_time": "2022-10-28T10:30:46.867Z"
   },
   {
    "duration": 11,
    "start_time": "2022-10-28T10:30:46.891Z"
   },
   {
    "duration": 41,
    "start_time": "2022-10-28T10:30:46.904Z"
   },
   {
    "duration": 81,
    "start_time": "2022-10-28T10:30:46.947Z"
   },
   {
    "duration": 11,
    "start_time": "2022-10-28T10:30:47.030Z"
   },
   {
    "duration": 10,
    "start_time": "2022-10-28T10:30:47.043Z"
   },
   {
    "duration": 16,
    "start_time": "2022-10-28T10:30:47.055Z"
   },
   {
    "duration": 10,
    "start_time": "2022-10-28T10:30:47.073Z"
   },
   {
    "duration": 9,
    "start_time": "2022-10-28T10:30:47.085Z"
   },
   {
    "duration": 6,
    "start_time": "2022-10-28T10:30:47.096Z"
   },
   {
    "duration": 53,
    "start_time": "2022-10-28T10:30:47.104Z"
   },
   {
    "duration": 187,
    "start_time": "2022-10-28T10:30:47.159Z"
   },
   {
    "duration": 169,
    "start_time": "2022-10-28T10:30:47.349Z"
   },
   {
    "duration": 5,
    "start_time": "2022-10-28T10:30:47.520Z"
   },
   {
    "duration": 22,
    "start_time": "2022-10-28T10:30:47.527Z"
   },
   {
    "duration": 17,
    "start_time": "2022-10-28T10:30:47.550Z"
   },
   {
    "duration": 11,
    "start_time": "2022-10-28T10:30:47.569Z"
   },
   {
    "duration": 667,
    "start_time": "2022-10-28T10:30:47.585Z"
   },
   {
    "duration": 346,
    "start_time": "2022-10-28T10:30:48.254Z"
   },
   {
    "duration": 537,
    "start_time": "2022-10-28T10:30:48.602Z"
   },
   {
    "duration": 5,
    "start_time": "2022-10-28T10:30:49.142Z"
   },
   {
    "duration": 107,
    "start_time": "2022-10-28T10:30:49.148Z"
   },
   {
    "duration": 4,
    "start_time": "2022-10-28T10:30:49.257Z"
   },
   {
    "duration": 2321,
    "start_time": "2022-10-28T10:30:49.262Z"
   },
   {
    "duration": 2,
    "start_time": "2022-10-28T10:30:51.585Z"
   },
   {
    "duration": 16,
    "start_time": "2022-10-28T10:30:51.588Z"
   },
   {
    "duration": 11,
    "start_time": "2022-10-28T10:30:51.605Z"
   },
   {
    "duration": 120,
    "start_time": "2022-10-28T10:31:18.760Z"
   },
   {
    "duration": 20,
    "start_time": "2022-10-28T10:31:25.480Z"
   },
   {
    "duration": 21,
    "start_time": "2022-10-28T10:31:56.884Z"
   },
   {
    "duration": 12,
    "start_time": "2022-10-28T10:57:53.896Z"
   },
   {
    "duration": 4,
    "start_time": "2022-10-28T10:58:34.562Z"
   },
   {
    "duration": 5,
    "start_time": "2022-10-28T11:34:49.624Z"
   },
   {
    "duration": 4,
    "start_time": "2022-10-28T11:34:53.217Z"
   },
   {
    "duration": 5,
    "start_time": "2022-10-28T11:35:07.160Z"
   },
   {
    "duration": 4,
    "start_time": "2022-10-28T11:35:07.796Z"
   },
   {
    "duration": 4,
    "start_time": "2022-10-28T11:35:56.472Z"
   },
   {
    "duration": 5,
    "start_time": "2022-10-28T11:35:58.131Z"
   },
   {
    "duration": 4,
    "start_time": "2022-10-28T11:36:50.789Z"
   },
   {
    "duration": 4,
    "start_time": "2022-10-28T11:36:51.771Z"
   },
   {
    "duration": 9,
    "start_time": "2022-10-28T11:37:26.738Z"
   },
   {
    "duration": 4,
    "start_time": "2022-10-28T11:37:34.452Z"
   },
   {
    "duration": 57,
    "start_time": "2022-10-28T11:38:11.210Z"
   },
   {
    "duration": 5,
    "start_time": "2022-10-28T11:38:19.289Z"
   },
   {
    "duration": 43,
    "start_time": "2022-10-28T11:38:31.429Z"
   },
   {
    "duration": 4,
    "start_time": "2022-10-28T11:38:41.512Z"
   },
   {
    "duration": 8,
    "start_time": "2022-10-28T11:40:10.064Z"
   },
   {
    "duration": 4,
    "start_time": "2022-10-28T11:40:10.921Z"
   },
   {
    "duration": 1427,
    "start_time": "2022-10-28T11:40:17.491Z"
   },
   {
    "duration": 44,
    "start_time": "2022-10-28T11:40:18.920Z"
   },
   {
    "duration": 12,
    "start_time": "2022-10-28T11:40:18.966Z"
   },
   {
    "duration": 15,
    "start_time": "2022-10-28T11:40:18.980Z"
   },
   {
    "duration": 15,
    "start_time": "2022-10-28T11:40:18.997Z"
   },
   {
    "duration": 25,
    "start_time": "2022-10-28T11:40:19.014Z"
   },
   {
    "duration": 12,
    "start_time": "2022-10-28T11:40:19.041Z"
   },
   {
    "duration": 20,
    "start_time": "2022-10-28T11:40:19.055Z"
   },
   {
    "duration": 11,
    "start_time": "2022-10-28T11:40:19.076Z"
   },
   {
    "duration": 27,
    "start_time": "2022-10-28T11:40:19.090Z"
   },
   {
    "duration": 556,
    "start_time": "2022-10-28T11:40:19.119Z"
   },
   {
    "duration": 575,
    "start_time": "2022-10-28T11:40:19.677Z"
   },
   {
    "duration": 9,
    "start_time": "2022-10-28T11:40:20.254Z"
   },
   {
    "duration": 14,
    "start_time": "2022-10-28T11:40:20.264Z"
   },
   {
    "duration": 10,
    "start_time": "2022-10-28T11:40:20.280Z"
   },
   {
    "duration": 14,
    "start_time": "2022-10-28T11:40:20.291Z"
   },
   {
    "duration": 33,
    "start_time": "2022-10-28T11:40:20.307Z"
   },
   {
    "duration": 9,
    "start_time": "2022-10-28T11:40:20.342Z"
   },
   {
    "duration": 11,
    "start_time": "2022-10-28T11:40:20.353Z"
   },
   {
    "duration": 7,
    "start_time": "2022-10-28T11:40:20.366Z"
   },
   {
    "duration": 13,
    "start_time": "2022-10-28T11:40:20.375Z"
   },
   {
    "duration": 52,
    "start_time": "2022-10-28T11:40:20.390Z"
   },
   {
    "duration": 19,
    "start_time": "2022-10-28T11:40:20.443Z"
   },
   {
    "duration": 28,
    "start_time": "2022-10-28T11:40:20.464Z"
   },
   {
    "duration": 22,
    "start_time": "2022-10-28T11:40:20.493Z"
   },
   {
    "duration": 11,
    "start_time": "2022-10-28T11:40:20.516Z"
   },
   {
    "duration": 35,
    "start_time": "2022-10-28T11:40:20.529Z"
   },
   {
    "duration": 875,
    "start_time": "2022-10-28T11:40:20.567Z"
   },
   {
    "duration": 0,
    "start_time": "2022-10-28T11:40:21.444Z"
   },
   {
    "duration": 0,
    "start_time": "2022-10-28T11:40:21.445Z"
   },
   {
    "duration": 0,
    "start_time": "2022-10-28T11:40:21.446Z"
   },
   {
    "duration": 0,
    "start_time": "2022-10-28T11:40:21.447Z"
   },
   {
    "duration": 0,
    "start_time": "2022-10-28T11:40:21.449Z"
   },
   {
    "duration": 0,
    "start_time": "2022-10-28T11:40:21.450Z"
   },
   {
    "duration": 0,
    "start_time": "2022-10-28T11:40:21.452Z"
   },
   {
    "duration": 0,
    "start_time": "2022-10-28T11:40:21.454Z"
   },
   {
    "duration": 0,
    "start_time": "2022-10-28T11:40:21.455Z"
   },
   {
    "duration": 0,
    "start_time": "2022-10-28T11:40:21.456Z"
   },
   {
    "duration": 0,
    "start_time": "2022-10-28T11:40:21.457Z"
   },
   {
    "duration": 0,
    "start_time": "2022-10-28T11:40:21.459Z"
   },
   {
    "duration": 0,
    "start_time": "2022-10-28T11:40:21.460Z"
   },
   {
    "duration": 0,
    "start_time": "2022-10-28T11:40:21.462Z"
   },
   {
    "duration": 0,
    "start_time": "2022-10-28T11:40:21.463Z"
   },
   {
    "duration": 0,
    "start_time": "2022-10-28T11:40:21.464Z"
   },
   {
    "duration": 0,
    "start_time": "2022-10-28T11:40:21.465Z"
   },
   {
    "duration": 0,
    "start_time": "2022-10-28T11:40:21.466Z"
   },
   {
    "duration": 0,
    "start_time": "2022-10-28T11:40:21.467Z"
   },
   {
    "duration": 0,
    "start_time": "2022-10-28T11:40:21.468Z"
   },
   {
    "duration": 0,
    "start_time": "2022-10-28T11:40:21.469Z"
   },
   {
    "duration": 1,
    "start_time": "2022-10-28T11:40:21.470Z"
   },
   {
    "duration": 0,
    "start_time": "2022-10-28T11:40:21.472Z"
   },
   {
    "duration": 16,
    "start_time": "2022-10-28T11:41:01.100Z"
   },
   {
    "duration": 1611,
    "start_time": "2022-10-28T11:41:08.732Z"
   },
   {
    "duration": 47,
    "start_time": "2022-10-28T11:41:10.345Z"
   },
   {
    "duration": 13,
    "start_time": "2022-10-28T11:41:10.394Z"
   },
   {
    "duration": 14,
    "start_time": "2022-10-28T11:41:10.410Z"
   },
   {
    "duration": 14,
    "start_time": "2022-10-28T11:41:10.426Z"
   },
   {
    "duration": 5,
    "start_time": "2022-10-28T11:41:10.442Z"
   },
   {
    "duration": 11,
    "start_time": "2022-10-28T11:41:10.449Z"
   },
   {
    "duration": 10,
    "start_time": "2022-10-28T11:41:10.461Z"
   },
   {
    "duration": 7,
    "start_time": "2022-10-28T11:41:10.472Z"
   },
   {
    "duration": 16,
    "start_time": "2022-10-28T11:41:10.482Z"
   },
   {
    "duration": 578,
    "start_time": "2022-10-28T11:41:10.500Z"
   },
   {
    "duration": 604,
    "start_time": "2022-10-28T11:41:11.080Z"
   },
   {
    "duration": 12,
    "start_time": "2022-10-28T11:41:11.687Z"
   },
   {
    "duration": 17,
    "start_time": "2022-10-28T11:41:11.700Z"
   },
   {
    "duration": 25,
    "start_time": "2022-10-28T11:41:11.719Z"
   },
   {
    "duration": 5,
    "start_time": "2022-10-28T11:41:11.747Z"
   },
   {
    "duration": 9,
    "start_time": "2022-10-28T11:41:11.754Z"
   },
   {
    "duration": 17,
    "start_time": "2022-10-28T11:41:11.765Z"
   },
   {
    "duration": 8,
    "start_time": "2022-10-28T11:41:11.785Z"
   },
   {
    "duration": 7,
    "start_time": "2022-10-28T11:41:11.795Z"
   },
   {
    "duration": 37,
    "start_time": "2022-10-28T11:41:11.805Z"
   },
   {
    "duration": 149,
    "start_time": "2022-10-28T11:41:11.845Z"
   },
   {
    "duration": 53,
    "start_time": "2022-10-28T11:41:11.997Z"
   },
   {
    "duration": 126,
    "start_time": "2022-10-28T11:41:12.052Z"
   },
   {
    "duration": 23,
    "start_time": "2022-10-28T11:41:12.179Z"
   },
   {
    "duration": 12,
    "start_time": "2022-10-28T11:41:12.204Z"
   },
   {
    "duration": 26,
    "start_time": "2022-10-28T11:41:12.238Z"
   },
   {
    "duration": 94,
    "start_time": "2022-10-28T11:41:12.269Z"
   },
   {
    "duration": 6,
    "start_time": "2022-10-28T11:41:12.364Z"
   },
   {
    "duration": 9,
    "start_time": "2022-10-28T11:41:12.372Z"
   },
   {
    "duration": 11,
    "start_time": "2022-10-28T11:41:12.383Z"
   },
   {
    "duration": 9,
    "start_time": "2022-10-28T11:41:12.396Z"
   },
   {
    "duration": 42,
    "start_time": "2022-10-28T11:41:12.407Z"
   },
   {
    "duration": 9,
    "start_time": "2022-10-28T11:41:12.452Z"
   },
   {
    "duration": 28,
    "start_time": "2022-10-28T11:41:12.464Z"
   },
   {
    "duration": 173,
    "start_time": "2022-10-28T11:41:12.494Z"
   },
   {
    "duration": 149,
    "start_time": "2022-10-28T11:41:12.668Z"
   },
   {
    "duration": 6,
    "start_time": "2022-10-28T11:41:12.819Z"
   },
   {
    "duration": 25,
    "start_time": "2022-10-28T11:41:12.838Z"
   },
   {
    "duration": 22,
    "start_time": "2022-10-28T11:41:12.865Z"
   },
   {
    "duration": 12,
    "start_time": "2022-10-28T11:41:12.888Z"
   },
   {
    "duration": 732,
    "start_time": "2022-10-28T11:41:12.902Z"
   },
   {
    "duration": 318,
    "start_time": "2022-10-28T11:41:13.639Z"
   },
   {
    "duration": 584,
    "start_time": "2022-10-28T11:41:13.959Z"
   },
   {
    "duration": 4,
    "start_time": "2022-10-28T11:41:14.545Z"
   },
   {
    "duration": 111,
    "start_time": "2022-10-28T11:41:14.550Z"
   },
   {
    "duration": 5,
    "start_time": "2022-10-28T11:41:14.663Z"
   },
   {
    "duration": 3258,
    "start_time": "2022-10-28T11:41:14.670Z"
   },
   {
    "duration": 8,
    "start_time": "2022-10-28T11:41:17.931Z"
   },
   {
    "duration": 33,
    "start_time": "2022-10-28T11:41:17.941Z"
   },
   {
    "duration": 11,
    "start_time": "2022-10-28T11:41:17.976Z"
   },
   {
    "duration": 5,
    "start_time": "2022-10-28T11:42:29.854Z"
   },
   {
    "duration": 4,
    "start_time": "2022-10-28T11:42:38.956Z"
   },
   {
    "duration": 14,
    "start_time": "2022-10-28T11:43:51.841Z"
   },
   {
    "duration": 4,
    "start_time": "2022-10-28T11:43:54.670Z"
   },
   {
    "duration": 10,
    "start_time": "2022-10-28T11:45:48.916Z"
   },
   {
    "duration": 4,
    "start_time": "2022-10-28T11:45:49.545Z"
   },
   {
    "duration": 5,
    "start_time": "2022-10-28T11:46:02.018Z"
   },
   {
    "duration": 4,
    "start_time": "2022-10-28T11:46:02.621Z"
   },
   {
    "duration": 12,
    "start_time": "2022-10-28T12:06:25.962Z"
   },
   {
    "duration": 114,
    "start_time": "2022-10-28T12:06:31.840Z"
   },
   {
    "duration": 2,
    "start_time": "2022-10-28T12:06:47.961Z"
   },
   {
    "duration": 13,
    "start_time": "2022-10-28T12:07:53.191Z"
   },
   {
    "duration": 4,
    "start_time": "2022-10-28T12:08:26.355Z"
   },
   {
    "duration": 1465,
    "start_time": "2022-10-28T12:08:47.185Z"
   },
   {
    "duration": 45,
    "start_time": "2022-10-28T12:08:48.652Z"
   },
   {
    "duration": 13,
    "start_time": "2022-10-28T12:08:48.698Z"
   },
   {
    "duration": 16,
    "start_time": "2022-10-28T12:08:48.712Z"
   },
   {
    "duration": 29,
    "start_time": "2022-10-28T12:08:48.731Z"
   },
   {
    "duration": 5,
    "start_time": "2022-10-28T12:08:48.763Z"
   },
   {
    "duration": 11,
    "start_time": "2022-10-28T12:08:48.770Z"
   },
   {
    "duration": 13,
    "start_time": "2022-10-28T12:08:48.782Z"
   },
   {
    "duration": 7,
    "start_time": "2022-10-28T12:08:48.797Z"
   },
   {
    "duration": 36,
    "start_time": "2022-10-28T12:08:48.805Z"
   },
   {
    "duration": 535,
    "start_time": "2022-10-28T12:08:48.843Z"
   },
   {
    "duration": 565,
    "start_time": "2022-10-28T12:08:49.379Z"
   },
   {
    "duration": 10,
    "start_time": "2022-10-28T12:08:49.945Z"
   },
   {
    "duration": 13,
    "start_time": "2022-10-28T12:08:49.957Z"
   },
   {
    "duration": 7,
    "start_time": "2022-10-28T12:08:49.972Z"
   },
   {
    "duration": 3,
    "start_time": "2022-10-28T12:08:49.981Z"
   },
   {
    "duration": 5,
    "start_time": "2022-10-28T12:08:49.986Z"
   },
   {
    "duration": 152,
    "start_time": "2022-10-28T12:08:49.992Z"
   },
   {
    "duration": 0,
    "start_time": "2022-10-28T12:08:50.146Z"
   },
   {
    "duration": 0,
    "start_time": "2022-10-28T12:08:50.147Z"
   },
   {
    "duration": 0,
    "start_time": "2022-10-28T12:08:50.148Z"
   },
   {
    "duration": 0,
    "start_time": "2022-10-28T12:08:50.149Z"
   },
   {
    "duration": 0,
    "start_time": "2022-10-28T12:08:50.151Z"
   },
   {
    "duration": 0,
    "start_time": "2022-10-28T12:08:50.152Z"
   },
   {
    "duration": 0,
    "start_time": "2022-10-28T12:08:50.153Z"
   },
   {
    "duration": 0,
    "start_time": "2022-10-28T12:08:50.154Z"
   },
   {
    "duration": 0,
    "start_time": "2022-10-28T12:08:50.156Z"
   },
   {
    "duration": 0,
    "start_time": "2022-10-28T12:08:50.157Z"
   },
   {
    "duration": 0,
    "start_time": "2022-10-28T12:08:50.158Z"
   },
   {
    "duration": 0,
    "start_time": "2022-10-28T12:08:50.159Z"
   },
   {
    "duration": 0,
    "start_time": "2022-10-28T12:08:50.160Z"
   },
   {
    "duration": 0,
    "start_time": "2022-10-28T12:08:50.161Z"
   },
   {
    "duration": 0,
    "start_time": "2022-10-28T12:08:50.162Z"
   },
   {
    "duration": 0,
    "start_time": "2022-10-28T12:08:50.163Z"
   },
   {
    "duration": 0,
    "start_time": "2022-10-28T12:08:50.164Z"
   },
   {
    "duration": 0,
    "start_time": "2022-10-28T12:08:50.165Z"
   },
   {
    "duration": 0,
    "start_time": "2022-10-28T12:08:50.166Z"
   },
   {
    "duration": 0,
    "start_time": "2022-10-28T12:08:50.167Z"
   },
   {
    "duration": 0,
    "start_time": "2022-10-28T12:08:50.168Z"
   },
   {
    "duration": 0,
    "start_time": "2022-10-28T12:08:50.169Z"
   },
   {
    "duration": 0,
    "start_time": "2022-10-28T12:08:50.170Z"
   },
   {
    "duration": 0,
    "start_time": "2022-10-28T12:08:50.171Z"
   },
   {
    "duration": 0,
    "start_time": "2022-10-28T12:08:50.172Z"
   },
   {
    "duration": 0,
    "start_time": "2022-10-28T12:08:50.173Z"
   },
   {
    "duration": 0,
    "start_time": "2022-10-28T12:08:50.173Z"
   },
   {
    "duration": 0,
    "start_time": "2022-10-28T12:08:50.174Z"
   },
   {
    "duration": 0,
    "start_time": "2022-10-28T12:08:50.175Z"
   },
   {
    "duration": 0,
    "start_time": "2022-10-28T12:08:50.176Z"
   },
   {
    "duration": 0,
    "start_time": "2022-10-28T12:08:50.177Z"
   },
   {
    "duration": 0,
    "start_time": "2022-10-28T12:08:50.178Z"
   },
   {
    "duration": 0,
    "start_time": "2022-10-28T12:08:50.179Z"
   },
   {
    "duration": 5,
    "start_time": "2022-10-28T12:11:53.233Z"
   },
   {
    "duration": 10,
    "start_time": "2022-10-28T12:11:55.116Z"
   },
   {
    "duration": 5,
    "start_time": "2022-10-28T12:12:06.560Z"
   },
   {
    "duration": 13,
    "start_time": "2022-10-28T12:13:06.633Z"
   },
   {
    "duration": 6,
    "start_time": "2022-10-28T12:13:25.726Z"
   },
   {
    "duration": 7,
    "start_time": "2022-10-28T12:13:55.232Z"
   },
   {
    "duration": 3,
    "start_time": "2022-10-28T12:14:22.032Z"
   },
   {
    "duration": 6,
    "start_time": "2022-10-28T12:15:12.024Z"
   },
   {
    "duration": 5,
    "start_time": "2022-10-28T12:15:13.226Z"
   },
   {
    "duration": 1439,
    "start_time": "2022-10-28T12:16:24.034Z"
   },
   {
    "duration": 48,
    "start_time": "2022-10-28T12:16:25.475Z"
   },
   {
    "duration": 13,
    "start_time": "2022-10-28T12:16:25.525Z"
   },
   {
    "duration": 26,
    "start_time": "2022-10-28T12:16:25.539Z"
   },
   {
    "duration": 14,
    "start_time": "2022-10-28T12:16:25.567Z"
   },
   {
    "duration": 8,
    "start_time": "2022-10-28T12:16:25.582Z"
   },
   {
    "duration": 24,
    "start_time": "2022-10-28T12:16:25.592Z"
   },
   {
    "duration": 9,
    "start_time": "2022-10-28T12:16:25.618Z"
   },
   {
    "duration": 9,
    "start_time": "2022-10-28T12:16:25.639Z"
   },
   {
    "duration": 19,
    "start_time": "2022-10-28T12:16:25.649Z"
   },
   {
    "duration": 596,
    "start_time": "2022-10-28T12:16:25.670Z"
   },
   {
    "duration": 598,
    "start_time": "2022-10-28T12:16:26.268Z"
   },
   {
    "duration": 10,
    "start_time": "2022-10-28T12:16:26.868Z"
   },
   {
    "duration": 14,
    "start_time": "2022-10-28T12:16:26.882Z"
   },
   {
    "duration": 8,
    "start_time": "2022-10-28T12:16:26.897Z"
   },
   {
    "duration": 134,
    "start_time": "2022-10-28T12:16:26.907Z"
   },
   {
    "duration": 0,
    "start_time": "2022-10-28T12:16:27.043Z"
   },
   {
    "duration": 0,
    "start_time": "2022-10-28T12:16:27.044Z"
   },
   {
    "duration": 0,
    "start_time": "2022-10-28T12:16:27.045Z"
   },
   {
    "duration": 0,
    "start_time": "2022-10-28T12:16:27.046Z"
   },
   {
    "duration": 0,
    "start_time": "2022-10-28T12:16:27.048Z"
   },
   {
    "duration": 0,
    "start_time": "2022-10-28T12:16:27.049Z"
   },
   {
    "duration": 0,
    "start_time": "2022-10-28T12:16:27.051Z"
   },
   {
    "duration": 0,
    "start_time": "2022-10-28T12:16:27.052Z"
   },
   {
    "duration": 0,
    "start_time": "2022-10-28T12:16:27.053Z"
   },
   {
    "duration": 0,
    "start_time": "2022-10-28T12:16:27.055Z"
   },
   {
    "duration": 0,
    "start_time": "2022-10-28T12:16:27.057Z"
   },
   {
    "duration": 0,
    "start_time": "2022-10-28T12:16:27.058Z"
   },
   {
    "duration": 0,
    "start_time": "2022-10-28T12:16:27.059Z"
   },
   {
    "duration": 0,
    "start_time": "2022-10-28T12:16:27.060Z"
   },
   {
    "duration": 0,
    "start_time": "2022-10-28T12:16:27.061Z"
   },
   {
    "duration": 0,
    "start_time": "2022-10-28T12:16:27.063Z"
   },
   {
    "duration": 0,
    "start_time": "2022-10-28T12:16:27.064Z"
   },
   {
    "duration": 0,
    "start_time": "2022-10-28T12:16:27.065Z"
   },
   {
    "duration": 0,
    "start_time": "2022-10-28T12:16:27.067Z"
   },
   {
    "duration": 0,
    "start_time": "2022-10-28T12:16:27.068Z"
   },
   {
    "duration": 0,
    "start_time": "2022-10-28T12:16:27.069Z"
   },
   {
    "duration": 0,
    "start_time": "2022-10-28T12:16:27.070Z"
   },
   {
    "duration": 0,
    "start_time": "2022-10-28T12:16:27.071Z"
   },
   {
    "duration": 0,
    "start_time": "2022-10-28T12:16:27.072Z"
   },
   {
    "duration": 0,
    "start_time": "2022-10-28T12:16:27.073Z"
   },
   {
    "duration": 0,
    "start_time": "2022-10-28T12:16:27.074Z"
   },
   {
    "duration": 0,
    "start_time": "2022-10-28T12:16:27.075Z"
   },
   {
    "duration": 0,
    "start_time": "2022-10-28T12:16:27.076Z"
   },
   {
    "duration": 0,
    "start_time": "2022-10-28T12:16:27.077Z"
   },
   {
    "duration": 0,
    "start_time": "2022-10-28T12:16:27.078Z"
   },
   {
    "duration": 0,
    "start_time": "2022-10-28T12:16:27.142Z"
   },
   {
    "duration": 0,
    "start_time": "2022-10-28T12:16:27.144Z"
   },
   {
    "duration": 0,
    "start_time": "2022-10-28T12:16:27.147Z"
   },
   {
    "duration": 0,
    "start_time": "2022-10-28T12:16:27.149Z"
   },
   {
    "duration": 0,
    "start_time": "2022-10-28T12:16:27.152Z"
   },
   {
    "duration": 4,
    "start_time": "2022-10-28T12:16:44.950Z"
   },
   {
    "duration": 5,
    "start_time": "2022-10-28T12:17:10.488Z"
   },
   {
    "duration": 7,
    "start_time": "2022-10-28T12:17:14.677Z"
   },
   {
    "duration": 5,
    "start_time": "2022-10-28T12:17:15.809Z"
   },
   {
    "duration": 12,
    "start_time": "2022-10-28T12:18:07.444Z"
   },
   {
    "duration": 10,
    "start_time": "2022-10-28T12:18:45.219Z"
   },
   {
    "duration": 4,
    "start_time": "2022-10-28T12:18:52.278Z"
   },
   {
    "duration": 8,
    "start_time": "2022-10-28T12:20:59.209Z"
   },
   {
    "duration": 13,
    "start_time": "2022-10-28T12:22:23.072Z"
   },
   {
    "duration": 13,
    "start_time": "2022-10-28T12:22:39.639Z"
   },
   {
    "duration": 13,
    "start_time": "2022-10-28T12:24:54.753Z"
   },
   {
    "duration": 6,
    "start_time": "2022-10-28T12:25:33.415Z"
   },
   {
    "duration": 5,
    "start_time": "2022-10-28T12:25:41.568Z"
   },
   {
    "duration": 6,
    "start_time": "2022-10-28T12:27:02.557Z"
   },
   {
    "duration": 4,
    "start_time": "2022-10-28T12:27:03.291Z"
   },
   {
    "duration": 884,
    "start_time": "2022-10-28T12:28:39.619Z"
   },
   {
    "duration": 8,
    "start_time": "2022-10-28T12:28:52.409Z"
   },
   {
    "duration": 8,
    "start_time": "2022-10-28T12:29:35.697Z"
   },
   {
    "duration": 7,
    "start_time": "2022-10-28T12:30:31.415Z"
   },
   {
    "duration": 7,
    "start_time": "2022-10-28T12:30:41.948Z"
   },
   {
    "duration": 8,
    "start_time": "2022-10-28T12:30:52.206Z"
   },
   {
    "duration": 1493,
    "start_time": "2022-10-28T12:32:17.890Z"
   },
   {
    "duration": 46,
    "start_time": "2022-10-28T12:32:19.385Z"
   },
   {
    "duration": 14,
    "start_time": "2022-10-28T12:32:19.432Z"
   },
   {
    "duration": 27,
    "start_time": "2022-10-28T12:32:19.448Z"
   },
   {
    "duration": 14,
    "start_time": "2022-10-28T12:32:19.477Z"
   },
   {
    "duration": 18,
    "start_time": "2022-10-28T12:32:19.492Z"
   },
   {
    "duration": 16,
    "start_time": "2022-10-28T12:32:19.511Z"
   },
   {
    "duration": 13,
    "start_time": "2022-10-28T12:32:19.528Z"
   },
   {
    "duration": 21,
    "start_time": "2022-10-28T12:32:19.543Z"
   },
   {
    "duration": 22,
    "start_time": "2022-10-28T12:32:19.567Z"
   },
   {
    "duration": 573,
    "start_time": "2022-10-28T12:32:19.591Z"
   },
   {
    "duration": 601,
    "start_time": "2022-10-28T12:32:20.165Z"
   },
   {
    "duration": 9,
    "start_time": "2022-10-28T12:32:20.768Z"
   },
   {
    "duration": 26,
    "start_time": "2022-10-28T12:32:20.779Z"
   },
   {
    "duration": 7,
    "start_time": "2022-10-28T12:32:20.806Z"
   },
   {
    "duration": 6,
    "start_time": "2022-10-28T12:32:20.815Z"
   },
   {
    "duration": 18,
    "start_time": "2022-10-28T12:32:20.822Z"
   },
   {
    "duration": 9,
    "start_time": "2022-10-28T12:32:20.842Z"
   },
   {
    "duration": 6,
    "start_time": "2022-10-28T12:32:20.852Z"
   },
   {
    "duration": 7,
    "start_time": "2022-10-28T12:32:20.859Z"
   },
   {
    "duration": 15,
    "start_time": "2022-10-28T12:32:20.868Z"
   },
   {
    "duration": 146,
    "start_time": "2022-10-28T12:32:20.885Z"
   },
   {
    "duration": 30,
    "start_time": "2022-10-28T12:32:21.037Z"
   },
   {
    "duration": 130,
    "start_time": "2022-10-28T12:32:21.069Z"
   },
   {
    "duration": 23,
    "start_time": "2022-10-28T12:32:21.201Z"
   },
   {
    "duration": 12,
    "start_time": "2022-10-28T12:32:21.238Z"
   },
   {
    "duration": 29,
    "start_time": "2022-10-28T12:32:21.252Z"
   },
   {
    "duration": 99,
    "start_time": "2022-10-28T12:32:21.285Z"
   },
   {
    "duration": 5,
    "start_time": "2022-10-28T12:32:21.386Z"
   },
   {
    "duration": 18,
    "start_time": "2022-10-28T12:32:21.393Z"
   },
   {
    "duration": 14,
    "start_time": "2022-10-28T12:32:21.413Z"
   },
   {
    "duration": 7,
    "start_time": "2022-10-28T12:32:21.438Z"
   },
   {
    "duration": 11,
    "start_time": "2022-10-28T12:32:21.447Z"
   },
   {
    "duration": 9,
    "start_time": "2022-10-28T12:32:21.460Z"
   },
   {
    "duration": 16,
    "start_time": "2022-10-28T12:32:21.471Z"
   },
   {
    "duration": 151,
    "start_time": "2022-10-28T12:32:21.489Z"
   },
   {
    "duration": 143,
    "start_time": "2022-10-28T12:32:21.642Z"
   },
   {
    "duration": 5,
    "start_time": "2022-10-28T12:32:21.787Z"
   },
   {
    "duration": 15,
    "start_time": "2022-10-28T12:32:21.793Z"
   },
   {
    "duration": 30,
    "start_time": "2022-10-28T12:32:21.810Z"
   },
   {
    "duration": 11,
    "start_time": "2022-10-28T12:32:21.842Z"
   },
   {
    "duration": 684,
    "start_time": "2022-10-28T12:32:21.855Z"
   },
   {
    "duration": 371,
    "start_time": "2022-10-28T12:32:22.541Z"
   },
   {
    "duration": 526,
    "start_time": "2022-10-28T12:32:22.913Z"
   },
   {
    "duration": 5,
    "start_time": "2022-10-28T12:32:23.441Z"
   },
   {
    "duration": 115,
    "start_time": "2022-10-28T12:32:23.448Z"
   },
   {
    "duration": 20,
    "start_time": "2022-10-28T12:32:23.564Z"
   },
   {
    "duration": 2580,
    "start_time": "2022-10-28T12:32:23.586Z"
   },
   {
    "duration": 2,
    "start_time": "2022-10-28T12:32:26.168Z"
   },
   {
    "duration": 12,
    "start_time": "2022-10-28T12:32:26.171Z"
   },
   {
    "duration": 65,
    "start_time": "2022-10-28T12:32:26.185Z"
   },
   {
    "duration": 1425,
    "start_time": "2022-10-28T12:32:45.315Z"
   },
   {
    "duration": 50,
    "start_time": "2022-10-28T12:32:46.742Z"
   },
   {
    "duration": 13,
    "start_time": "2022-10-28T12:32:46.794Z"
   },
   {
    "duration": 16,
    "start_time": "2022-10-28T12:32:46.808Z"
   },
   {
    "duration": 14,
    "start_time": "2022-10-28T12:32:46.826Z"
   },
   {
    "duration": 6,
    "start_time": "2022-10-28T12:32:46.841Z"
   },
   {
    "duration": 11,
    "start_time": "2022-10-28T12:32:46.848Z"
   },
   {
    "duration": 10,
    "start_time": "2022-10-28T12:32:46.860Z"
   },
   {
    "duration": 7,
    "start_time": "2022-10-28T12:32:46.871Z"
   },
   {
    "duration": 18,
    "start_time": "2022-10-28T12:32:46.879Z"
   },
   {
    "duration": 613,
    "start_time": "2022-10-28T12:32:46.898Z"
   },
   {
    "duration": 593,
    "start_time": "2022-10-28T12:32:47.513Z"
   },
   {
    "duration": 10,
    "start_time": "2022-10-28T12:32:48.108Z"
   },
   {
    "duration": 30,
    "start_time": "2022-10-28T12:32:48.120Z"
   },
   {
    "duration": 6,
    "start_time": "2022-10-28T12:32:48.152Z"
   },
   {
    "duration": 5,
    "start_time": "2022-10-28T12:32:48.160Z"
   },
   {
    "duration": 7,
    "start_time": "2022-10-28T12:32:48.167Z"
   },
   {
    "duration": 14,
    "start_time": "2022-10-28T12:32:48.176Z"
   },
   {
    "duration": 6,
    "start_time": "2022-10-28T12:32:48.192Z"
   },
   {
    "duration": 6,
    "start_time": "2022-10-28T12:32:48.199Z"
   },
   {
    "duration": 11,
    "start_time": "2022-10-28T12:32:48.207Z"
   },
   {
    "duration": 143,
    "start_time": "2022-10-28T12:32:48.239Z"
   },
   {
    "duration": 30,
    "start_time": "2022-10-28T12:32:48.384Z"
   },
   {
    "duration": 145,
    "start_time": "2022-10-28T12:32:48.416Z"
   },
   {
    "duration": 25,
    "start_time": "2022-10-28T12:32:48.562Z"
   },
   {
    "duration": 17,
    "start_time": "2022-10-28T12:32:48.589Z"
   },
   {
    "duration": 42,
    "start_time": "2022-10-28T12:32:48.608Z"
   },
   {
    "duration": 89,
    "start_time": "2022-10-28T12:32:48.651Z"
   },
   {
    "duration": 4,
    "start_time": "2022-10-28T12:32:48.742Z"
   },
   {
    "duration": 19,
    "start_time": "2022-10-28T12:32:48.748Z"
   },
   {
    "duration": 42,
    "start_time": "2022-10-28T12:32:48.768Z"
   },
   {
    "duration": 21,
    "start_time": "2022-10-28T12:32:48.812Z"
   },
   {
    "duration": 25,
    "start_time": "2022-10-28T12:32:48.834Z"
   },
   {
    "duration": 19,
    "start_time": "2022-10-28T12:32:48.861Z"
   },
   {
    "duration": 32,
    "start_time": "2022-10-28T12:32:48.882Z"
   },
   {
    "duration": 156,
    "start_time": "2022-10-28T12:32:48.916Z"
   },
   {
    "duration": 144,
    "start_time": "2022-10-28T12:32:49.074Z"
   },
   {
    "duration": 5,
    "start_time": "2022-10-28T12:32:49.219Z"
   },
   {
    "duration": 37,
    "start_time": "2022-10-28T12:32:49.226Z"
   },
   {
    "duration": 32,
    "start_time": "2022-10-28T12:32:49.264Z"
   },
   {
    "duration": 24,
    "start_time": "2022-10-28T12:32:49.300Z"
   },
   {
    "duration": 662,
    "start_time": "2022-10-28T12:32:49.326Z"
   },
   {
    "duration": 330,
    "start_time": "2022-10-28T12:32:49.990Z"
   },
   {
    "duration": 431,
    "start_time": "2022-10-28T12:32:50.322Z"
   },
   {
    "duration": 6,
    "start_time": "2022-10-28T12:32:50.839Z"
   },
   {
    "duration": 120,
    "start_time": "2022-10-28T12:32:50.847Z"
   },
   {
    "duration": 14,
    "start_time": "2022-10-28T12:32:50.968Z"
   },
   {
    "duration": 3022,
    "start_time": "2022-10-28T12:32:50.983Z"
   },
   {
    "duration": 2,
    "start_time": "2022-10-28T12:32:54.007Z"
   },
   {
    "duration": 12,
    "start_time": "2022-10-28T12:32:54.010Z"
   },
   {
    "duration": 19,
    "start_time": "2022-10-28T12:32:54.024Z"
   },
   {
    "duration": 7,
    "start_time": "2022-10-28T12:33:36.774Z"
   },
   {
    "duration": 1461,
    "start_time": "2022-10-28T12:38:33.708Z"
   },
   {
    "duration": 45,
    "start_time": "2022-10-28T12:38:35.171Z"
   },
   {
    "duration": 13,
    "start_time": "2022-10-28T12:38:35.217Z"
   },
   {
    "duration": 16,
    "start_time": "2022-10-28T12:38:35.231Z"
   },
   {
    "duration": 13,
    "start_time": "2022-10-28T12:38:35.249Z"
   },
   {
    "duration": 5,
    "start_time": "2022-10-28T12:38:35.264Z"
   },
   {
    "duration": 14,
    "start_time": "2022-10-28T12:38:35.270Z"
   },
   {
    "duration": 11,
    "start_time": "2022-10-28T12:38:35.286Z"
   },
   {
    "duration": 40,
    "start_time": "2022-10-28T12:38:35.299Z"
   },
   {
    "duration": 19,
    "start_time": "2022-10-28T12:38:35.341Z"
   },
   {
    "duration": 514,
    "start_time": "2022-10-28T12:38:35.362Z"
   },
   {
    "duration": 561,
    "start_time": "2022-10-28T12:38:35.878Z"
   },
   {
    "duration": 9,
    "start_time": "2022-10-28T12:38:36.441Z"
   },
   {
    "duration": 11,
    "start_time": "2022-10-28T12:38:36.454Z"
   },
   {
    "duration": 6,
    "start_time": "2022-10-28T12:38:36.467Z"
   },
   {
    "duration": 7,
    "start_time": "2022-10-28T12:38:36.475Z"
   },
   {
    "duration": 9,
    "start_time": "2022-10-28T12:38:36.483Z"
   },
   {
    "duration": 8,
    "start_time": "2022-10-28T12:38:36.493Z"
   },
   {
    "duration": 37,
    "start_time": "2022-10-28T12:38:36.503Z"
   },
   {
    "duration": 9,
    "start_time": "2022-10-28T12:38:36.541Z"
   },
   {
    "duration": 14,
    "start_time": "2022-10-28T12:38:36.552Z"
   },
   {
    "duration": 147,
    "start_time": "2022-10-28T12:38:36.567Z"
   },
   {
    "duration": 44,
    "start_time": "2022-10-28T12:38:36.716Z"
   },
   {
    "duration": 134,
    "start_time": "2022-10-28T12:38:36.762Z"
   },
   {
    "duration": 24,
    "start_time": "2022-10-28T12:38:36.898Z"
   },
   {
    "duration": 8,
    "start_time": "2022-10-28T12:38:36.939Z"
   },
   {
    "duration": 26,
    "start_time": "2022-10-28T12:38:36.949Z"
   },
   {
    "duration": 101,
    "start_time": "2022-10-28T12:38:36.977Z"
   },
   {
    "duration": 6,
    "start_time": "2022-10-28T12:38:37.081Z"
   },
   {
    "duration": 11,
    "start_time": "2022-10-28T12:38:37.089Z"
   },
   {
    "duration": 11,
    "start_time": "2022-10-28T12:38:37.102Z"
   },
   {
    "duration": 34,
    "start_time": "2022-10-28T12:38:37.114Z"
   },
   {
    "duration": 23,
    "start_time": "2022-10-28T12:38:37.150Z"
   },
   {
    "duration": 11,
    "start_time": "2022-10-28T12:38:37.175Z"
   },
   {
    "duration": 20,
    "start_time": "2022-10-28T12:38:37.190Z"
   },
   {
    "duration": 196,
    "start_time": "2022-10-28T12:38:37.211Z"
   },
   {
    "duration": 144,
    "start_time": "2022-10-28T12:38:37.409Z"
   },
   {
    "duration": 5,
    "start_time": "2022-10-28T12:38:37.555Z"
   },
   {
    "duration": 12,
    "start_time": "2022-10-28T12:38:37.561Z"
   },
   {
    "duration": 13,
    "start_time": "2022-10-28T12:38:37.575Z"
   },
   {
    "duration": 9,
    "start_time": "2022-10-28T12:38:37.592Z"
   },
   {
    "duration": 665,
    "start_time": "2022-10-28T12:38:37.603Z"
   },
   {
    "duration": 355,
    "start_time": "2022-10-28T12:38:38.269Z"
   },
   {
    "duration": 514,
    "start_time": "2022-10-28T12:38:38.625Z"
   },
   {
    "duration": 5,
    "start_time": "2022-10-28T12:38:39.141Z"
   },
   {
    "duration": 102,
    "start_time": "2022-10-28T12:38:39.148Z"
   },
   {
    "duration": 5,
    "start_time": "2022-10-28T12:38:39.252Z"
   },
   {
    "duration": 2137,
    "start_time": "2022-10-28T12:38:39.258Z"
   },
   {
    "duration": 2,
    "start_time": "2022-10-28T12:38:41.397Z"
   },
   {
    "duration": 15,
    "start_time": "2022-10-28T12:38:41.400Z"
   },
   {
    "duration": 24,
    "start_time": "2022-10-28T12:38:41.416Z"
   },
   {
    "duration": 1489,
    "start_time": "2022-10-28T12:41:20.616Z"
   },
   {
    "duration": 45,
    "start_time": "2022-10-28T12:41:22.107Z"
   },
   {
    "duration": 13,
    "start_time": "2022-10-28T12:41:22.154Z"
   },
   {
    "duration": 15,
    "start_time": "2022-10-28T12:41:22.169Z"
   },
   {
    "duration": 14,
    "start_time": "2022-10-28T12:41:22.186Z"
   },
   {
    "duration": 5,
    "start_time": "2022-10-28T12:41:22.202Z"
   },
   {
    "duration": 37,
    "start_time": "2022-10-28T12:41:22.208Z"
   },
   {
    "duration": 10,
    "start_time": "2022-10-28T12:41:22.247Z"
   },
   {
    "duration": 6,
    "start_time": "2022-10-28T12:41:22.259Z"
   },
   {
    "duration": 17,
    "start_time": "2022-10-28T12:41:22.268Z"
   },
   {
    "duration": 573,
    "start_time": "2022-10-28T12:41:22.287Z"
   },
   {
    "duration": 579,
    "start_time": "2022-10-28T12:41:22.861Z"
   },
   {
    "duration": 11,
    "start_time": "2022-10-28T12:41:23.442Z"
   },
   {
    "duration": 20,
    "start_time": "2022-10-28T12:41:23.454Z"
   },
   {
    "duration": 11,
    "start_time": "2022-10-28T12:41:23.476Z"
   },
   {
    "duration": 21,
    "start_time": "2022-10-28T12:41:23.489Z"
   },
   {
    "duration": 11,
    "start_time": "2022-10-28T12:41:23.512Z"
   },
   {
    "duration": 26,
    "start_time": "2022-10-28T12:41:23.524Z"
   },
   {
    "duration": 33,
    "start_time": "2022-10-28T12:41:23.552Z"
   },
   {
    "duration": 28,
    "start_time": "2022-10-28T12:41:23.586Z"
   },
   {
    "duration": 31,
    "start_time": "2022-10-28T12:41:23.616Z"
   },
   {
    "duration": 145,
    "start_time": "2022-10-28T12:41:23.648Z"
   },
   {
    "duration": 45,
    "start_time": "2022-10-28T12:41:23.794Z"
   },
   {
    "duration": 136,
    "start_time": "2022-10-28T12:41:23.841Z"
   },
   {
    "duration": 22,
    "start_time": "2022-10-28T12:41:23.978Z"
   },
   {
    "duration": 24,
    "start_time": "2022-10-28T12:41:24.002Z"
   },
   {
    "duration": 33,
    "start_time": "2022-10-28T12:41:24.028Z"
   },
   {
    "duration": 98,
    "start_time": "2022-10-28T12:41:24.064Z"
   },
   {
    "duration": 6,
    "start_time": "2022-10-28T12:41:24.163Z"
   },
   {
    "duration": 28,
    "start_time": "2022-10-28T12:41:24.170Z"
   },
   {
    "duration": 27,
    "start_time": "2022-10-28T12:41:24.200Z"
   },
   {
    "duration": 16,
    "start_time": "2022-10-28T12:41:24.229Z"
   },
   {
    "duration": 27,
    "start_time": "2022-10-28T12:41:24.246Z"
   },
   {
    "duration": 20,
    "start_time": "2022-10-28T12:41:24.275Z"
   },
   {
    "duration": 28,
    "start_time": "2022-10-28T12:41:24.298Z"
   },
   {
    "duration": 142,
    "start_time": "2022-10-28T12:41:24.327Z"
   },
   {
    "duration": 147,
    "start_time": "2022-10-28T12:41:24.471Z"
   },
   {
    "duration": 5,
    "start_time": "2022-10-28T12:41:24.620Z"
   },
   {
    "duration": 23,
    "start_time": "2022-10-28T12:41:24.638Z"
   },
   {
    "duration": 26,
    "start_time": "2022-10-28T12:41:24.662Z"
   },
   {
    "duration": 16,
    "start_time": "2022-10-28T12:41:24.690Z"
   },
   {
    "duration": 659,
    "start_time": "2022-10-28T12:41:24.708Z"
   },
   {
    "duration": 331,
    "start_time": "2022-10-28T12:41:25.368Z"
   },
   {
    "duration": 538,
    "start_time": "2022-10-28T12:41:25.701Z"
   },
   {
    "duration": 5,
    "start_time": "2022-10-28T12:41:26.242Z"
   },
   {
    "duration": 29,
    "start_time": "2022-10-28T12:41:26.339Z"
   },
   {
    "duration": 24,
    "start_time": "2022-10-28T12:41:26.369Z"
   },
   {
    "duration": 2257,
    "start_time": "2022-10-28T12:41:26.395Z"
   },
   {
    "duration": 3,
    "start_time": "2022-10-28T12:41:28.654Z"
   },
   {
    "duration": 14,
    "start_time": "2022-10-28T12:41:28.659Z"
   },
   {
    "duration": 14,
    "start_time": "2022-10-28T12:41:28.676Z"
   },
   {
    "duration": 11,
    "start_time": "2022-10-28T12:48:20.076Z"
   },
   {
    "duration": 1610,
    "start_time": "2022-10-28T12:48:29.517Z"
   },
   {
    "duration": 49,
    "start_time": "2022-10-28T12:48:31.129Z"
   },
   {
    "duration": 14,
    "start_time": "2022-10-28T12:48:31.180Z"
   },
   {
    "duration": 24,
    "start_time": "2022-10-28T12:48:31.195Z"
   },
   {
    "duration": 21,
    "start_time": "2022-10-28T12:48:31.222Z"
   },
   {
    "duration": 9,
    "start_time": "2022-10-28T12:48:31.245Z"
   },
   {
    "duration": 26,
    "start_time": "2022-10-28T12:48:31.255Z"
   },
   {
    "duration": 10,
    "start_time": "2022-10-28T12:48:31.283Z"
   },
   {
    "duration": 10,
    "start_time": "2022-10-28T12:48:31.295Z"
   },
   {
    "duration": 40,
    "start_time": "2022-10-28T12:48:31.307Z"
   },
   {
    "duration": 532,
    "start_time": "2022-10-28T12:48:31.349Z"
   },
   {
    "duration": 572,
    "start_time": "2022-10-28T12:48:31.883Z"
   },
   {
    "duration": 10,
    "start_time": "2022-10-28T12:48:32.457Z"
   },
   {
    "duration": 16,
    "start_time": "2022-10-28T12:48:32.470Z"
   },
   {
    "duration": 7,
    "start_time": "2022-10-28T12:48:32.488Z"
   },
   {
    "duration": 22,
    "start_time": "2022-10-28T12:48:32.497Z"
   },
   {
    "duration": 19,
    "start_time": "2022-10-28T12:48:32.521Z"
   },
   {
    "duration": 9,
    "start_time": "2022-10-28T12:48:32.541Z"
   },
   {
    "duration": 13,
    "start_time": "2022-10-28T12:48:32.552Z"
   },
   {
    "duration": 10,
    "start_time": "2022-10-28T12:48:32.567Z"
   },
   {
    "duration": 11,
    "start_time": "2022-10-28T12:48:32.579Z"
   },
   {
    "duration": 151,
    "start_time": "2022-10-28T12:48:32.591Z"
   },
   {
    "duration": 29,
    "start_time": "2022-10-28T12:48:32.744Z"
   },
   {
    "duration": 143,
    "start_time": "2022-10-28T12:48:32.774Z"
   },
   {
    "duration": 32,
    "start_time": "2022-10-28T12:48:32.919Z"
   },
   {
    "duration": 9,
    "start_time": "2022-10-28T12:48:32.953Z"
   },
   {
    "duration": 24,
    "start_time": "2022-10-28T12:48:32.964Z"
   },
   {
    "duration": 98,
    "start_time": "2022-10-28T12:48:32.990Z"
   },
   {
    "duration": 6,
    "start_time": "2022-10-28T12:48:33.089Z"
   },
   {
    "duration": 12,
    "start_time": "2022-10-28T12:48:33.096Z"
   },
   {
    "duration": 12,
    "start_time": "2022-10-28T12:48:33.110Z"
   },
   {
    "duration": 7,
    "start_time": "2022-10-28T12:48:33.139Z"
   },
   {
    "duration": 5,
    "start_time": "2022-10-28T12:48:33.148Z"
   },
   {
    "duration": 6,
    "start_time": "2022-10-28T12:48:33.154Z"
   },
   {
    "duration": 20,
    "start_time": "2022-10-28T12:48:33.161Z"
   },
   {
    "duration": 165,
    "start_time": "2022-10-28T12:48:33.183Z"
   },
   {
    "duration": 153,
    "start_time": "2022-10-28T12:48:33.351Z"
   },
   {
    "duration": 7,
    "start_time": "2022-10-28T12:48:33.507Z"
   },
   {
    "duration": 29,
    "start_time": "2022-10-28T12:48:33.516Z"
   },
   {
    "duration": 19,
    "start_time": "2022-10-28T12:48:33.547Z"
   },
   {
    "duration": 14,
    "start_time": "2022-10-28T12:48:33.570Z"
   },
   {
    "duration": 743,
    "start_time": "2022-10-28T12:48:33.586Z"
   },
   {
    "duration": 335,
    "start_time": "2022-10-28T12:48:34.331Z"
   },
   {
    "duration": 471,
    "start_time": "2022-10-28T12:48:34.668Z"
   },
   {
    "duration": 6,
    "start_time": "2022-10-28T12:48:35.141Z"
   },
   {
    "duration": 116,
    "start_time": "2022-10-28T12:48:35.149Z"
   },
   {
    "duration": 9,
    "start_time": "2022-10-28T12:48:35.268Z"
   },
   {
    "duration": 2363,
    "start_time": "2022-10-28T12:48:35.278Z"
   },
   {
    "duration": 3,
    "start_time": "2022-10-28T12:48:37.642Z"
   },
   {
    "duration": 20,
    "start_time": "2022-10-28T12:48:37.647Z"
   },
   {
    "duration": 20,
    "start_time": "2022-10-28T12:48:37.669Z"
   },
   {
    "duration": 219,
    "start_time": "2022-10-28T13:10:20.164Z"
   },
   {
    "duration": 154,
    "start_time": "2022-10-28T13:11:28.069Z"
   },
   {
    "duration": 168,
    "start_time": "2022-10-28T13:18:51.292Z"
   },
   {
    "duration": 166,
    "start_time": "2022-10-28T13:18:59.519Z"
   },
   {
    "duration": 216,
    "start_time": "2022-10-28T13:20:11.867Z"
   },
   {
    "duration": 255,
    "start_time": "2022-10-28T13:20:26.015Z"
   },
   {
    "duration": 155,
    "start_time": "2022-10-28T13:21:14.311Z"
   },
   {
    "duration": 13,
    "start_time": "2022-10-28T13:24:37.318Z"
   },
   {
    "duration": 13,
    "start_time": "2022-10-28T13:24:42.376Z"
   },
   {
    "duration": 1398,
    "start_time": "2022-10-28T13:26:14.065Z"
   },
   {
    "duration": 66,
    "start_time": "2022-10-28T13:26:15.465Z"
   },
   {
    "duration": 12,
    "start_time": "2022-10-28T13:26:15.533Z"
   },
   {
    "duration": 16,
    "start_time": "2022-10-28T13:26:15.547Z"
   },
   {
    "duration": 15,
    "start_time": "2022-10-28T13:26:15.565Z"
   },
   {
    "duration": 5,
    "start_time": "2022-10-28T13:26:15.582Z"
   },
   {
    "duration": 13,
    "start_time": "2022-10-28T13:26:15.589Z"
   },
   {
    "duration": 39,
    "start_time": "2022-10-28T13:26:15.604Z"
   },
   {
    "duration": 8,
    "start_time": "2022-10-28T13:26:15.645Z"
   },
   {
    "duration": 20,
    "start_time": "2022-10-28T13:26:15.655Z"
   },
   {
    "duration": 575,
    "start_time": "2022-10-28T13:26:15.677Z"
   },
   {
    "duration": 588,
    "start_time": "2022-10-28T13:26:16.254Z"
   },
   {
    "duration": 9,
    "start_time": "2022-10-28T13:26:16.843Z"
   },
   {
    "duration": 11,
    "start_time": "2022-10-28T13:26:16.855Z"
   },
   {
    "duration": 6,
    "start_time": "2022-10-28T13:26:16.868Z"
   },
   {
    "duration": 6,
    "start_time": "2022-10-28T13:26:16.876Z"
   },
   {
    "duration": 6,
    "start_time": "2022-10-28T13:26:16.884Z"
   },
   {
    "duration": 6,
    "start_time": "2022-10-28T13:26:16.892Z"
   },
   {
    "duration": 6,
    "start_time": "2022-10-28T13:26:16.900Z"
   },
   {
    "duration": 5,
    "start_time": "2022-10-28T13:26:16.939Z"
   },
   {
    "duration": 14,
    "start_time": "2022-10-28T13:26:16.945Z"
   },
   {
    "duration": 149,
    "start_time": "2022-10-28T13:26:16.961Z"
   },
   {
    "duration": 63,
    "start_time": "2022-10-28T13:26:17.112Z"
   },
   {
    "duration": 164,
    "start_time": "2022-10-28T13:26:17.177Z"
   },
   {
    "duration": 26,
    "start_time": "2022-10-28T13:26:17.344Z"
   },
   {
    "duration": 19,
    "start_time": "2022-10-28T13:26:17.372Z"
   },
   {
    "duration": 50,
    "start_time": "2022-10-28T13:26:17.394Z"
   },
   {
    "duration": 86,
    "start_time": "2022-10-28T13:26:17.446Z"
   },
   {
    "duration": 5,
    "start_time": "2022-10-28T13:26:17.538Z"
   },
   {
    "duration": 13,
    "start_time": "2022-10-28T13:26:17.545Z"
   },
   {
    "duration": 8,
    "start_time": "2022-10-28T13:26:17.560Z"
   },
   {
    "duration": 13,
    "start_time": "2022-10-28T13:26:17.569Z"
   },
   {
    "duration": 43233,
    "start_time": "2022-10-28T13:26:17.584Z"
   },
   {
    "duration": 133,
    "start_time": "2022-10-28T13:27:00.819Z"
   },
   {
    "duration": 0,
    "start_time": "2022-10-28T13:27:00.954Z"
   },
   {
    "duration": 0,
    "start_time": "2022-10-28T13:27:00.955Z"
   },
   {
    "duration": 0,
    "start_time": "2022-10-28T13:27:00.956Z"
   },
   {
    "duration": 0,
    "start_time": "2022-10-28T13:27:00.957Z"
   },
   {
    "duration": 0,
    "start_time": "2022-10-28T13:27:00.958Z"
   },
   {
    "duration": 0,
    "start_time": "2022-10-28T13:27:00.959Z"
   },
   {
    "duration": 0,
    "start_time": "2022-10-28T13:27:00.960Z"
   },
   {
    "duration": 0,
    "start_time": "2022-10-28T13:27:00.961Z"
   },
   {
    "duration": 0,
    "start_time": "2022-10-28T13:27:00.962Z"
   },
   {
    "duration": 0,
    "start_time": "2022-10-28T13:27:00.964Z"
   },
   {
    "duration": 0,
    "start_time": "2022-10-28T13:27:00.964Z"
   },
   {
    "duration": 0,
    "start_time": "2022-10-28T13:27:00.965Z"
   },
   {
    "duration": 0,
    "start_time": "2022-10-28T13:27:00.967Z"
   },
   {
    "duration": 0,
    "start_time": "2022-10-28T13:27:00.968Z"
   },
   {
    "duration": 0,
    "start_time": "2022-10-28T13:27:00.969Z"
   },
   {
    "duration": 0,
    "start_time": "2022-10-28T13:27:00.970Z"
   },
   {
    "duration": 0,
    "start_time": "2022-10-28T13:27:00.972Z"
   },
   {
    "duration": 0,
    "start_time": "2022-10-28T13:27:00.973Z"
   },
   {
    "duration": 0,
    "start_time": "2022-10-28T13:27:00.974Z"
   },
   {
    "duration": 0,
    "start_time": "2022-10-28T13:27:00.975Z"
   },
   {
    "duration": 1420,
    "start_time": "2022-10-28T13:30:32.417Z"
   },
   {
    "duration": 48,
    "start_time": "2022-10-28T13:30:33.839Z"
   },
   {
    "duration": 13,
    "start_time": "2022-10-28T13:30:33.888Z"
   },
   {
    "duration": 14,
    "start_time": "2022-10-28T13:30:33.902Z"
   },
   {
    "duration": 15,
    "start_time": "2022-10-28T13:30:33.919Z"
   },
   {
    "duration": 6,
    "start_time": "2022-10-28T13:30:33.938Z"
   },
   {
    "duration": 10,
    "start_time": "2022-10-28T13:30:33.946Z"
   },
   {
    "duration": 10,
    "start_time": "2022-10-28T13:30:33.958Z"
   },
   {
    "duration": 8,
    "start_time": "2022-10-28T13:30:33.970Z"
   },
   {
    "duration": 17,
    "start_time": "2022-10-28T13:30:33.979Z"
   },
   {
    "duration": 574,
    "start_time": "2022-10-28T13:30:33.998Z"
   },
   {
    "duration": 564,
    "start_time": "2022-10-28T13:30:34.574Z"
   },
   {
    "duration": 9,
    "start_time": "2022-10-28T13:30:35.140Z"
   },
   {
    "duration": 20,
    "start_time": "2022-10-28T13:30:35.151Z"
   },
   {
    "duration": 7,
    "start_time": "2022-10-28T13:30:35.172Z"
   },
   {
    "duration": 6,
    "start_time": "2022-10-28T13:30:35.180Z"
   },
   {
    "duration": 5,
    "start_time": "2022-10-28T13:30:35.188Z"
   },
   {
    "duration": 7,
    "start_time": "2022-10-28T13:30:35.195Z"
   },
   {
    "duration": 4,
    "start_time": "2022-10-28T13:30:35.203Z"
   },
   {
    "duration": 31,
    "start_time": "2022-10-28T13:30:35.209Z"
   },
   {
    "duration": 17,
    "start_time": "2022-10-28T13:30:35.242Z"
   },
   {
    "duration": 135,
    "start_time": "2022-10-28T13:30:35.260Z"
   },
   {
    "duration": 43,
    "start_time": "2022-10-28T13:30:35.397Z"
   },
   {
    "duration": 122,
    "start_time": "2022-10-28T13:30:35.442Z"
   },
   {
    "duration": 23,
    "start_time": "2022-10-28T13:30:35.566Z"
   },
   {
    "duration": 20,
    "start_time": "2022-10-28T13:30:35.591Z"
   },
   {
    "duration": 38,
    "start_time": "2022-10-28T13:30:35.613Z"
   },
   {
    "duration": 86,
    "start_time": "2022-10-28T13:30:35.653Z"
   },
   {
    "duration": 5,
    "start_time": "2022-10-28T13:30:35.740Z"
   },
   {
    "duration": 16,
    "start_time": "2022-10-28T13:30:35.747Z"
   },
   {
    "duration": 9,
    "start_time": "2022-10-28T13:30:35.765Z"
   },
   {
    "duration": 10,
    "start_time": "2022-10-28T13:30:35.776Z"
   },
   {
    "duration": 273,
    "start_time": "2022-10-28T13:30:35.788Z"
   },
   {
    "duration": 118,
    "start_time": "2022-10-28T13:30:36.063Z"
   },
   {
    "duration": 0,
    "start_time": "2022-10-28T13:30:36.184Z"
   },
   {
    "duration": 0,
    "start_time": "2022-10-28T13:30:36.185Z"
   },
   {
    "duration": 0,
    "start_time": "2022-10-28T13:30:36.186Z"
   },
   {
    "duration": 0,
    "start_time": "2022-10-28T13:30:36.188Z"
   },
   {
    "duration": 0,
    "start_time": "2022-10-28T13:30:36.190Z"
   },
   {
    "duration": 0,
    "start_time": "2022-10-28T13:30:36.191Z"
   },
   {
    "duration": 0,
    "start_time": "2022-10-28T13:30:36.192Z"
   },
   {
    "duration": 0,
    "start_time": "2022-10-28T13:30:36.193Z"
   },
   {
    "duration": 0,
    "start_time": "2022-10-28T13:30:36.195Z"
   },
   {
    "duration": 0,
    "start_time": "2022-10-28T13:30:36.196Z"
   },
   {
    "duration": 0,
    "start_time": "2022-10-28T13:30:36.197Z"
   },
   {
    "duration": 0,
    "start_time": "2022-10-28T13:30:36.198Z"
   },
   {
    "duration": 0,
    "start_time": "2022-10-28T13:30:36.199Z"
   },
   {
    "duration": 0,
    "start_time": "2022-10-28T13:30:36.200Z"
   },
   {
    "duration": 0,
    "start_time": "2022-10-28T13:30:36.201Z"
   },
   {
    "duration": 0,
    "start_time": "2022-10-28T13:30:36.202Z"
   },
   {
    "duration": 1,
    "start_time": "2022-10-28T13:30:36.202Z"
   },
   {
    "duration": 0,
    "start_time": "2022-10-28T13:30:36.239Z"
   },
   {
    "duration": 0,
    "start_time": "2022-10-28T13:30:36.240Z"
   },
   {
    "duration": 0,
    "start_time": "2022-10-28T13:30:36.242Z"
   },
   {
    "duration": 201,
    "start_time": "2022-10-28T13:32:11.513Z"
   },
   {
    "duration": 172,
    "start_time": "2022-10-28T13:32:18.821Z"
   },
   {
    "duration": 179,
    "start_time": "2022-10-28T13:32:28.612Z"
   },
   {
    "duration": 178,
    "start_time": "2022-10-28T13:32:43.123Z"
   },
   {
    "duration": 177,
    "start_time": "2022-10-28T13:37:00.011Z"
   },
   {
    "duration": 187,
    "start_time": "2022-10-28T13:37:24.604Z"
   },
   {
    "duration": 151,
    "start_time": "2022-10-28T13:37:36.342Z"
   },
   {
    "duration": 284,
    "start_time": "2022-10-28T13:37:40.748Z"
   },
   {
    "duration": 200,
    "start_time": "2022-10-28T13:37:50.439Z"
   },
   {
    "duration": 6,
    "start_time": "2022-10-28T13:46:20.138Z"
   },
   {
    "duration": 4,
    "start_time": "2022-10-28T13:46:47.529Z"
   },
   {
    "duration": 15,
    "start_time": "2022-10-28T13:47:17.085Z"
   },
   {
    "duration": 21,
    "start_time": "2022-10-28T13:50:22.410Z"
   },
   {
    "duration": 13,
    "start_time": "2022-10-28T13:53:07.778Z"
   },
   {
    "duration": 13,
    "start_time": "2022-10-28T13:53:14.843Z"
   },
   {
    "duration": 12,
    "start_time": "2022-10-28T13:53:26.925Z"
   },
   {
    "duration": 19,
    "start_time": "2022-10-28T13:53:41.105Z"
   },
   {
    "duration": 15,
    "start_time": "2022-10-28T13:55:58.532Z"
   },
   {
    "duration": 30,
    "start_time": "2022-10-28T13:58:06.175Z"
   },
   {
    "duration": 8,
    "start_time": "2022-10-28T13:58:16.745Z"
   },
   {
    "duration": 12,
    "start_time": "2022-10-28T13:59:06.065Z"
   },
   {
    "duration": 8,
    "start_time": "2022-10-28T13:59:13.978Z"
   },
   {
    "duration": 8,
    "start_time": "2022-10-28T13:59:39.291Z"
   },
   {
    "duration": 12,
    "start_time": "2022-10-28T14:00:11.202Z"
   },
   {
    "duration": 11,
    "start_time": "2022-10-28T14:00:23.247Z"
   },
   {
    "duration": 9,
    "start_time": "2022-10-28T14:00:43.384Z"
   },
   {
    "duration": 191,
    "start_time": "2022-10-28T14:02:34.666Z"
   },
   {
    "duration": 12,
    "start_time": "2022-10-28T14:04:46.944Z"
   },
   {
    "duration": 1527,
    "start_time": "2022-10-28T14:05:36.605Z"
   },
   {
    "duration": 46,
    "start_time": "2022-10-28T14:05:38.134Z"
   },
   {
    "duration": 13,
    "start_time": "2022-10-28T14:05:38.182Z"
   },
   {
    "duration": 17,
    "start_time": "2022-10-28T14:05:38.197Z"
   },
   {
    "duration": 24,
    "start_time": "2022-10-28T14:05:38.216Z"
   },
   {
    "duration": 13,
    "start_time": "2022-10-28T14:05:38.242Z"
   },
   {
    "duration": 34,
    "start_time": "2022-10-28T14:05:38.257Z"
   },
   {
    "duration": 37,
    "start_time": "2022-10-28T14:05:38.293Z"
   },
   {
    "duration": 44,
    "start_time": "2022-10-28T14:05:38.331Z"
   },
   {
    "duration": 38,
    "start_time": "2022-10-28T14:05:38.377Z"
   },
   {
    "duration": 564,
    "start_time": "2022-10-28T14:05:38.417Z"
   },
   {
    "duration": 635,
    "start_time": "2022-10-28T14:05:38.982Z"
   },
   {
    "duration": 10,
    "start_time": "2022-10-28T14:05:39.619Z"
   },
   {
    "duration": 25,
    "start_time": "2022-10-28T14:05:39.638Z"
   },
   {
    "duration": 28,
    "start_time": "2022-10-28T14:05:39.664Z"
   },
   {
    "duration": 19,
    "start_time": "2022-10-28T14:05:39.693Z"
   },
   {
    "duration": 26,
    "start_time": "2022-10-28T14:05:39.713Z"
   },
   {
    "duration": 13,
    "start_time": "2022-10-28T14:05:39.740Z"
   },
   {
    "duration": 31,
    "start_time": "2022-10-28T14:05:39.755Z"
   },
   {
    "duration": 13,
    "start_time": "2022-10-28T14:05:39.788Z"
   },
   {
    "duration": 31,
    "start_time": "2022-10-28T14:05:39.803Z"
   },
   {
    "duration": 150,
    "start_time": "2022-10-28T14:05:39.836Z"
   },
   {
    "duration": 37,
    "start_time": "2022-10-28T14:05:39.988Z"
   },
   {
    "duration": 133,
    "start_time": "2022-10-28T14:05:40.040Z"
   },
   {
    "duration": 23,
    "start_time": "2022-10-28T14:05:40.175Z"
   },
   {
    "duration": 25,
    "start_time": "2022-10-28T14:05:40.199Z"
   },
   {
    "duration": 45,
    "start_time": "2022-10-28T14:05:40.238Z"
   },
   {
    "duration": 110,
    "start_time": "2022-10-28T14:05:40.284Z"
   },
   {
    "duration": 6,
    "start_time": "2022-10-28T14:05:40.396Z"
   },
   {
    "duration": 60,
    "start_time": "2022-10-28T14:05:40.403Z"
   },
   {
    "duration": 9,
    "start_time": "2022-10-28T14:05:40.465Z"
   },
   {
    "duration": 25,
    "start_time": "2022-10-28T14:05:40.476Z"
   },
   {
    "duration": 300,
    "start_time": "2022-10-28T14:05:40.503Z"
   },
   {
    "duration": 7,
    "start_time": "2022-10-28T14:05:40.805Z"
   },
   {
    "duration": 34,
    "start_time": "2022-10-28T14:05:40.814Z"
   },
   {
    "duration": 20,
    "start_time": "2022-10-28T14:05:40.849Z"
   },
   {
    "duration": 20,
    "start_time": "2022-10-28T14:05:40.870Z"
   },
   {
    "duration": 19,
    "start_time": "2022-10-28T14:05:40.891Z"
   },
   {
    "duration": 162,
    "start_time": "2022-10-28T14:05:40.912Z"
   },
   {
    "duration": 157,
    "start_time": "2022-10-28T14:05:41.076Z"
   },
   {
    "duration": 4,
    "start_time": "2022-10-28T14:05:41.241Z"
   },
   {
    "duration": 26,
    "start_time": "2022-10-28T14:05:41.246Z"
   },
   {
    "duration": 39,
    "start_time": "2022-10-28T14:05:41.274Z"
   },
   {
    "duration": 21,
    "start_time": "2022-10-28T14:05:41.315Z"
   },
   {
    "duration": 759,
    "start_time": "2022-10-28T14:05:41.337Z"
   },
   {
    "duration": 424,
    "start_time": "2022-10-28T14:05:42.098Z"
   },
   {
    "duration": 623,
    "start_time": "2022-10-28T14:05:42.524Z"
   },
   {
    "duration": 92,
    "start_time": "2022-10-28T14:05:43.149Z"
   },
   {
    "duration": 28,
    "start_time": "2022-10-28T14:05:43.243Z"
   },
   {
    "duration": 40,
    "start_time": "2022-10-28T14:05:43.273Z"
   },
   {
    "duration": 3934,
    "start_time": "2022-10-28T14:05:43.315Z"
   },
   {
    "duration": 4,
    "start_time": "2022-10-28T14:05:47.251Z"
   },
   {
    "duration": 28,
    "start_time": "2022-10-28T14:05:47.257Z"
   },
   {
    "duration": 37,
    "start_time": "2022-10-28T14:05:47.287Z"
   },
   {
    "duration": 149,
    "start_time": "2022-10-28T14:17:31.570Z"
   },
   {
    "duration": 141,
    "start_time": "2022-10-28T14:18:01.188Z"
   },
   {
    "duration": 6,
    "start_time": "2022-10-28T14:18:06.385Z"
   },
   {
    "duration": 14,
    "start_time": "2022-10-28T14:18:37.937Z"
   },
   {
    "duration": 2,
    "start_time": "2022-10-28T14:18:49.022Z"
   },
   {
    "duration": 13,
    "start_time": "2022-10-28T14:28:49.207Z"
   },
   {
    "duration": 9,
    "start_time": "2022-10-28T14:32:08.608Z"
   },
   {
    "duration": 9,
    "start_time": "2022-10-28T14:32:15.166Z"
   },
   {
    "duration": 8,
    "start_time": "2022-10-28T14:32:22.422Z"
   },
   {
    "duration": 44,
    "start_time": "2022-10-28T14:37:24.976Z"
   },
   {
    "duration": 49,
    "start_time": "2022-10-28T14:38:32.917Z"
   },
   {
    "duration": 7,
    "start_time": "2022-10-28T14:39:22.952Z"
   },
   {
    "duration": 1471,
    "start_time": "2022-10-28T14:39:57.560Z"
   },
   {
    "duration": 46,
    "start_time": "2022-10-28T14:39:59.033Z"
   },
   {
    "duration": 13,
    "start_time": "2022-10-28T14:39:59.081Z"
   },
   {
    "duration": 20,
    "start_time": "2022-10-28T14:39:59.096Z"
   },
   {
    "duration": 15,
    "start_time": "2022-10-28T14:39:59.118Z"
   },
   {
    "duration": 8,
    "start_time": "2022-10-28T14:39:59.135Z"
   },
   {
    "duration": 17,
    "start_time": "2022-10-28T14:39:59.145Z"
   },
   {
    "duration": 14,
    "start_time": "2022-10-28T14:39:59.163Z"
   },
   {
    "duration": 7,
    "start_time": "2022-10-28T14:39:59.179Z"
   },
   {
    "duration": 20,
    "start_time": "2022-10-28T14:39:59.188Z"
   },
   {
    "duration": 581,
    "start_time": "2022-10-28T14:39:59.209Z"
   },
   {
    "duration": 619,
    "start_time": "2022-10-28T14:39:59.792Z"
   },
   {
    "duration": 10,
    "start_time": "2022-10-28T14:40:00.412Z"
   },
   {
    "duration": 25,
    "start_time": "2022-10-28T14:40:00.425Z"
   },
   {
    "duration": 17,
    "start_time": "2022-10-28T14:40:00.451Z"
   },
   {
    "duration": 27,
    "start_time": "2022-10-28T14:40:00.471Z"
   },
   {
    "duration": 28,
    "start_time": "2022-10-28T14:40:00.500Z"
   },
   {
    "duration": 30,
    "start_time": "2022-10-28T14:40:00.530Z"
   },
   {
    "duration": 24,
    "start_time": "2022-10-28T14:40:00.561Z"
   },
   {
    "duration": 10,
    "start_time": "2022-10-28T14:40:00.587Z"
   },
   {
    "duration": 15,
    "start_time": "2022-10-28T14:40:00.599Z"
   },
   {
    "duration": 154,
    "start_time": "2022-10-28T14:40:00.617Z"
   },
   {
    "duration": 32,
    "start_time": "2022-10-28T14:40:00.773Z"
   },
   {
    "duration": 150,
    "start_time": "2022-10-28T14:40:00.807Z"
   },
   {
    "duration": 25,
    "start_time": "2022-10-28T14:40:00.959Z"
   },
   {
    "duration": 35,
    "start_time": "2022-10-28T14:40:00.985Z"
   },
   {
    "duration": 39,
    "start_time": "2022-10-28T14:40:01.022Z"
   },
   {
    "duration": 125,
    "start_time": "2022-10-28T14:40:01.063Z"
   },
   {
    "duration": 6,
    "start_time": "2022-10-28T14:40:01.190Z"
   },
   {
    "duration": 60,
    "start_time": "2022-10-28T14:40:01.198Z"
   },
   {
    "duration": 43,
    "start_time": "2022-10-28T14:40:01.260Z"
   },
   {
    "duration": 29,
    "start_time": "2022-10-28T14:40:01.305Z"
   },
   {
    "duration": 274,
    "start_time": "2022-10-28T14:40:01.336Z"
   },
   {
    "duration": 7,
    "start_time": "2022-10-28T14:40:01.612Z"
   },
   {
    "duration": 28,
    "start_time": "2022-10-28T14:40:01.620Z"
   },
   {
    "duration": 9,
    "start_time": "2022-10-28T14:40:01.650Z"
   },
   {
    "duration": 15,
    "start_time": "2022-10-28T14:40:01.660Z"
   },
   {
    "duration": 19,
    "start_time": "2022-10-28T14:40:01.677Z"
   },
   {
    "duration": 152,
    "start_time": "2022-10-28T14:40:01.698Z"
   },
   {
    "duration": 157,
    "start_time": "2022-10-28T14:40:01.852Z"
   },
   {
    "duration": 5,
    "start_time": "2022-10-28T14:40:02.014Z"
   },
   {
    "duration": 27,
    "start_time": "2022-10-28T14:40:02.021Z"
   },
   {
    "duration": 10,
    "start_time": "2022-10-28T14:40:02.049Z"
   },
   {
    "duration": 10,
    "start_time": "2022-10-28T14:40:02.060Z"
   },
   {
    "duration": 15,
    "start_time": "2022-10-28T14:40:02.072Z"
   },
   {
    "duration": 43,
    "start_time": "2022-10-28T14:40:02.089Z"
   },
   {
    "duration": 690,
    "start_time": "2022-10-28T14:40:02.134Z"
   },
   {
    "duration": 391,
    "start_time": "2022-10-28T14:40:02.826Z"
   },
   {
    "duration": 726,
    "start_time": "2022-10-28T14:40:03.219Z"
   },
   {
    "duration": 91,
    "start_time": "2022-10-28T14:40:03.948Z"
   },
   {
    "duration": 15,
    "start_time": "2022-10-28T14:40:04.041Z"
   },
   {
    "duration": 4,
    "start_time": "2022-10-28T14:40:04.058Z"
   },
   {
    "duration": 3658,
    "start_time": "2022-10-28T14:40:04.063Z"
   },
   {
    "duration": 2,
    "start_time": "2022-10-28T14:40:07.723Z"
   },
   {
    "duration": 23,
    "start_time": "2022-10-28T14:40:07.727Z"
   },
   {
    "duration": 11,
    "start_time": "2022-10-28T14:40:07.752Z"
   },
   {
    "duration": 3,
    "start_time": "2022-10-28T14:46:39.679Z"
   },
   {
    "duration": 307,
    "start_time": "2022-10-28T14:49:51.407Z"
   },
   {
    "duration": 17,
    "start_time": "2022-10-28T14:50:23.285Z"
   },
   {
    "duration": 10,
    "start_time": "2022-10-28T14:50:52.359Z"
   },
   {
    "duration": 17,
    "start_time": "2022-10-28T14:51:37.176Z"
   },
   {
    "duration": 1477,
    "start_time": "2022-10-28T14:52:03.065Z"
   },
   {
    "duration": 49,
    "start_time": "2022-10-28T14:52:04.544Z"
   },
   {
    "duration": 16,
    "start_time": "2022-10-28T14:52:04.595Z"
   },
   {
    "duration": 17,
    "start_time": "2022-10-28T14:52:04.614Z"
   },
   {
    "duration": 16,
    "start_time": "2022-10-28T14:52:04.633Z"
   },
   {
    "duration": 5,
    "start_time": "2022-10-28T14:52:04.651Z"
   },
   {
    "duration": 15,
    "start_time": "2022-10-28T14:52:04.658Z"
   },
   {
    "duration": 12,
    "start_time": "2022-10-28T14:52:04.675Z"
   },
   {
    "duration": 13,
    "start_time": "2022-10-28T14:52:04.688Z"
   },
   {
    "duration": 48,
    "start_time": "2022-10-28T14:52:04.705Z"
   },
   {
    "duration": 585,
    "start_time": "2022-10-28T14:52:04.755Z"
   },
   {
    "duration": 598,
    "start_time": "2022-10-28T14:52:05.342Z"
   },
   {
    "duration": 9,
    "start_time": "2022-10-28T14:52:05.942Z"
   },
   {
    "duration": 27,
    "start_time": "2022-10-28T14:52:05.952Z"
   },
   {
    "duration": 9,
    "start_time": "2022-10-28T14:52:05.980Z"
   },
   {
    "duration": 6,
    "start_time": "2022-10-28T14:52:05.991Z"
   },
   {
    "duration": 10,
    "start_time": "2022-10-28T14:52:05.999Z"
   },
   {
    "duration": 9,
    "start_time": "2022-10-28T14:52:06.010Z"
   },
   {
    "duration": 17,
    "start_time": "2022-10-28T14:52:06.021Z"
   },
   {
    "duration": 5,
    "start_time": "2022-10-28T14:52:06.040Z"
   },
   {
    "duration": 16,
    "start_time": "2022-10-28T14:52:06.047Z"
   },
   {
    "duration": 155,
    "start_time": "2022-10-28T14:52:06.065Z"
   },
   {
    "duration": 39,
    "start_time": "2022-10-28T14:52:06.222Z"
   },
   {
    "duration": 136,
    "start_time": "2022-10-28T14:52:06.264Z"
   },
   {
    "duration": 23,
    "start_time": "2022-10-28T14:52:06.402Z"
   },
   {
    "duration": 19,
    "start_time": "2022-10-28T14:52:06.426Z"
   },
   {
    "duration": 26,
    "start_time": "2022-10-28T14:52:06.448Z"
   },
   {
    "duration": 108,
    "start_time": "2022-10-28T14:52:06.478Z"
   },
   {
    "duration": 5,
    "start_time": "2022-10-28T14:52:06.588Z"
   },
   {
    "duration": 16,
    "start_time": "2022-10-28T14:52:06.595Z"
   },
   {
    "duration": 6,
    "start_time": "2022-10-28T14:52:06.613Z"
   },
   {
    "duration": 11,
    "start_time": "2022-10-28T14:52:06.638Z"
   },
   {
    "duration": 288,
    "start_time": "2022-10-28T14:52:06.651Z"
   },
   {
    "duration": 8,
    "start_time": "2022-10-28T14:52:06.940Z"
   },
   {
    "duration": 21,
    "start_time": "2022-10-28T14:52:06.950Z"
   },
   {
    "duration": 14,
    "start_time": "2022-10-28T14:52:06.973Z"
   },
   {
    "duration": 9,
    "start_time": "2022-10-28T14:52:06.989Z"
   },
   {
    "duration": 26,
    "start_time": "2022-10-28T14:52:06.999Z"
   },
   {
    "duration": 18,
    "start_time": "2022-10-28T14:52:07.027Z"
   },
   {
    "duration": 178,
    "start_time": "2022-10-28T14:52:07.046Z"
   },
   {
    "duration": 201,
    "start_time": "2022-10-28T14:52:07.226Z"
   },
   {
    "duration": 13,
    "start_time": "2022-10-28T14:52:07.429Z"
   },
   {
    "duration": 17,
    "start_time": "2022-10-28T14:52:07.444Z"
   },
   {
    "duration": 11,
    "start_time": "2022-10-28T14:52:07.464Z"
   },
   {
    "duration": 4,
    "start_time": "2022-10-28T14:52:07.477Z"
   },
   {
    "duration": 11,
    "start_time": "2022-10-28T14:52:07.483Z"
   },
   {
    "duration": 713,
    "start_time": "2022-10-28T14:52:07.496Z"
   },
   {
    "duration": 431,
    "start_time": "2022-10-28T14:52:08.211Z"
   },
   {
    "duration": 702,
    "start_time": "2022-10-28T14:52:08.644Z"
   },
   {
    "duration": 92,
    "start_time": "2022-10-28T14:52:09.348Z"
   },
   {
    "duration": 23,
    "start_time": "2022-10-28T14:52:09.441Z"
   },
   {
    "duration": 19,
    "start_time": "2022-10-28T14:52:09.466Z"
   },
   {
    "duration": 3740,
    "start_time": "2022-10-28T14:52:09.487Z"
   },
   {
    "duration": 3,
    "start_time": "2022-10-28T14:52:13.228Z"
   },
   {
    "duration": 15,
    "start_time": "2022-10-28T14:52:13.238Z"
   },
   {
    "duration": 14,
    "start_time": "2022-10-28T14:52:13.255Z"
   },
   {
    "duration": 1526,
    "start_time": "2022-10-28T14:56:30.364Z"
   },
   {
    "duration": 61,
    "start_time": "2022-10-28T14:56:31.892Z"
   },
   {
    "duration": 12,
    "start_time": "2022-10-28T14:56:31.955Z"
   },
   {
    "duration": 15,
    "start_time": "2022-10-28T14:56:31.969Z"
   },
   {
    "duration": 18,
    "start_time": "2022-10-28T14:56:31.985Z"
   },
   {
    "duration": 7,
    "start_time": "2022-10-28T14:56:32.005Z"
   },
   {
    "duration": 30,
    "start_time": "2022-10-28T14:56:32.013Z"
   },
   {
    "duration": 16,
    "start_time": "2022-10-28T14:56:32.044Z"
   },
   {
    "duration": 8,
    "start_time": "2022-10-28T14:56:32.062Z"
   },
   {
    "duration": 17,
    "start_time": "2022-10-28T14:56:32.072Z"
   },
   {
    "duration": 605,
    "start_time": "2022-10-28T14:56:32.091Z"
   },
   {
    "duration": 599,
    "start_time": "2022-10-28T14:56:32.698Z"
   },
   {
    "duration": 9,
    "start_time": "2022-10-28T14:56:33.299Z"
   },
   {
    "duration": 30,
    "start_time": "2022-10-28T14:56:33.309Z"
   },
   {
    "duration": 8,
    "start_time": "2022-10-28T14:56:33.340Z"
   },
   {
    "duration": 8,
    "start_time": "2022-10-28T14:56:33.349Z"
   },
   {
    "duration": 5,
    "start_time": "2022-10-28T14:56:33.359Z"
   },
   {
    "duration": 7,
    "start_time": "2022-10-28T14:56:33.366Z"
   },
   {
    "duration": 8,
    "start_time": "2022-10-28T14:56:33.375Z"
   },
   {
    "duration": 7,
    "start_time": "2022-10-28T14:56:33.385Z"
   },
   {
    "duration": 11,
    "start_time": "2022-10-28T14:56:33.393Z"
   },
   {
    "duration": 175,
    "start_time": "2022-10-28T14:56:33.406Z"
   },
   {
    "duration": 30,
    "start_time": "2022-10-28T14:56:33.583Z"
   },
   {
    "duration": 158,
    "start_time": "2022-10-28T14:56:33.615Z"
   },
   {
    "duration": 25,
    "start_time": "2022-10-28T14:56:33.775Z"
   },
   {
    "duration": 8,
    "start_time": "2022-10-28T14:56:33.803Z"
   },
   {
    "duration": 44,
    "start_time": "2022-10-28T14:56:33.813Z"
   },
   {
    "duration": 102,
    "start_time": "2022-10-28T14:56:33.861Z"
   },
   {
    "duration": 6,
    "start_time": "2022-10-28T14:56:33.964Z"
   },
   {
    "duration": 23,
    "start_time": "2022-10-28T14:56:33.971Z"
   },
   {
    "duration": 23,
    "start_time": "2022-10-28T14:56:33.996Z"
   },
   {
    "duration": 43,
    "start_time": "2022-10-28T14:56:34.021Z"
   },
   {
    "duration": 277,
    "start_time": "2022-10-28T14:56:34.066Z"
   },
   {
    "duration": 7,
    "start_time": "2022-10-28T14:56:34.345Z"
   },
   {
    "duration": 15,
    "start_time": "2022-10-28T14:56:34.353Z"
   },
   {
    "duration": 12,
    "start_time": "2022-10-28T14:56:34.369Z"
   },
   {
    "duration": 18,
    "start_time": "2022-10-28T14:56:34.383Z"
   },
   {
    "duration": 31,
    "start_time": "2022-10-28T14:56:34.403Z"
   },
   {
    "duration": 9,
    "start_time": "2022-10-28T14:56:34.435Z"
   },
   {
    "duration": 144,
    "start_time": "2022-10-28T14:56:34.445Z"
   },
   {
    "duration": 147,
    "start_time": "2022-10-28T14:56:34.591Z"
   },
   {
    "duration": 5,
    "start_time": "2022-10-28T14:56:34.740Z"
   },
   {
    "duration": 28,
    "start_time": "2022-10-28T14:56:34.747Z"
   },
   {
    "duration": 19,
    "start_time": "2022-10-28T14:56:34.777Z"
   },
   {
    "duration": 11,
    "start_time": "2022-10-28T14:56:34.797Z"
   },
   {
    "duration": 39,
    "start_time": "2022-10-28T14:56:34.810Z"
   },
   {
    "duration": 755,
    "start_time": "2022-10-28T14:56:34.850Z"
   },
   {
    "duration": 414,
    "start_time": "2022-10-28T14:56:35.607Z"
   },
   {
    "duration": 816,
    "start_time": "2022-10-28T14:56:36.023Z"
   },
   {
    "duration": 5,
    "start_time": "2022-10-28T14:56:36.843Z"
   },
   {
    "duration": 100,
    "start_time": "2022-10-28T14:56:36.852Z"
   },
   {
    "duration": 4,
    "start_time": "2022-10-28T14:56:36.954Z"
   },
   {
    "duration": 3745,
    "start_time": "2022-10-28T14:56:36.959Z"
   },
   {
    "duration": 3,
    "start_time": "2022-10-28T14:56:40.706Z"
   },
   {
    "duration": 28,
    "start_time": "2022-10-28T14:56:40.711Z"
   },
   {
    "duration": 10,
    "start_time": "2022-10-28T14:56:40.741Z"
   },
   {
    "duration": 12,
    "start_time": "2022-10-28T15:02:29.935Z"
   },
   {
    "duration": 12,
    "start_time": "2022-10-28T15:13:00.042Z"
   },
   {
    "duration": 5,
    "start_time": "2022-10-28T15:14:24.836Z"
   },
   {
    "duration": 1428,
    "start_time": "2022-10-28T15:37:21.672Z"
   },
   {
    "duration": 50,
    "start_time": "2022-10-28T15:37:23.102Z"
   },
   {
    "duration": 12,
    "start_time": "2022-10-28T15:37:23.154Z"
   },
   {
    "duration": 13,
    "start_time": "2022-10-28T15:37:23.168Z"
   },
   {
    "duration": 16,
    "start_time": "2022-10-28T15:37:23.183Z"
   },
   {
    "duration": 12,
    "start_time": "2022-10-28T15:37:23.201Z"
   },
   {
    "duration": 30,
    "start_time": "2022-10-28T15:37:23.214Z"
   },
   {
    "duration": 10,
    "start_time": "2022-10-28T15:37:23.246Z"
   },
   {
    "duration": 8,
    "start_time": "2022-10-28T15:37:23.257Z"
   },
   {
    "duration": 17,
    "start_time": "2022-10-28T15:37:23.267Z"
   },
   {
    "duration": 588,
    "start_time": "2022-10-28T15:37:23.285Z"
   },
   {
    "duration": 570,
    "start_time": "2022-10-28T15:37:23.875Z"
   },
   {
    "duration": 10,
    "start_time": "2022-10-28T15:37:24.446Z"
   },
   {
    "duration": 11,
    "start_time": "2022-10-28T15:37:24.459Z"
   },
   {
    "duration": 7,
    "start_time": "2022-10-28T15:37:24.472Z"
   },
   {
    "duration": 11,
    "start_time": "2022-10-28T15:37:24.480Z"
   },
   {
    "duration": 13,
    "start_time": "2022-10-28T15:37:24.493Z"
   },
   {
    "duration": 32,
    "start_time": "2022-10-28T15:37:24.508Z"
   },
   {
    "duration": 4,
    "start_time": "2022-10-28T15:37:24.542Z"
   },
   {
    "duration": 6,
    "start_time": "2022-10-28T15:37:24.547Z"
   },
   {
    "duration": 11,
    "start_time": "2022-10-28T15:37:24.555Z"
   },
   {
    "duration": 159,
    "start_time": "2022-10-28T15:37:24.568Z"
   },
   {
    "duration": 39,
    "start_time": "2022-10-28T15:37:24.728Z"
   },
   {
    "duration": 130,
    "start_time": "2022-10-28T15:37:24.768Z"
   },
   {
    "duration": 39,
    "start_time": "2022-10-28T15:37:24.900Z"
   },
   {
    "duration": 9,
    "start_time": "2022-10-28T15:37:24.940Z"
   },
   {
    "duration": 27,
    "start_time": "2022-10-28T15:37:24.951Z"
   },
   {
    "duration": 102,
    "start_time": "2022-10-28T15:37:24.980Z"
   },
   {
    "duration": 6,
    "start_time": "2022-10-28T15:37:25.084Z"
   },
   {
    "duration": 12,
    "start_time": "2022-10-28T15:37:25.091Z"
   },
   {
    "duration": 9,
    "start_time": "2022-10-28T15:37:25.105Z"
   },
   {
    "duration": 28,
    "start_time": "2022-10-28T15:37:25.116Z"
   },
   {
    "duration": 274,
    "start_time": "2022-10-28T15:37:25.146Z"
   },
   {
    "duration": 18,
    "start_time": "2022-10-28T15:37:25.422Z"
   },
   {
    "duration": 15,
    "start_time": "2022-10-28T15:37:25.441Z"
   },
   {
    "duration": 6,
    "start_time": "2022-10-28T15:37:25.458Z"
   },
   {
    "duration": 13,
    "start_time": "2022-10-28T15:37:25.466Z"
   },
   {
    "duration": 18,
    "start_time": "2022-10-28T15:37:25.481Z"
   },
   {
    "duration": 10,
    "start_time": "2022-10-28T15:37:25.501Z"
   },
   {
    "duration": 166,
    "start_time": "2022-10-28T15:37:25.512Z"
   },
   {
    "duration": 147,
    "start_time": "2022-10-28T15:37:25.682Z"
   },
   {
    "duration": 9,
    "start_time": "2022-10-28T15:37:25.831Z"
   },
   {
    "duration": 14,
    "start_time": "2022-10-28T15:37:25.842Z"
   },
   {
    "duration": 10,
    "start_time": "2022-10-28T15:37:25.858Z"
   },
   {
    "duration": 13,
    "start_time": "2022-10-28T15:37:25.870Z"
   },
   {
    "duration": 155,
    "start_time": "2022-10-28T15:37:25.885Z"
   },
   {
    "duration": 0,
    "start_time": "2022-10-28T15:37:26.041Z"
   },
   {
    "duration": 0,
    "start_time": "2022-10-28T15:37:26.043Z"
   },
   {
    "duration": 0,
    "start_time": "2022-10-28T15:37:26.044Z"
   },
   {
    "duration": 0,
    "start_time": "2022-10-28T15:37:26.045Z"
   },
   {
    "duration": 0,
    "start_time": "2022-10-28T15:37:26.047Z"
   },
   {
    "duration": 1,
    "start_time": "2022-10-28T15:37:26.048Z"
   },
   {
    "duration": 0,
    "start_time": "2022-10-28T15:37:26.050Z"
   },
   {
    "duration": 0,
    "start_time": "2022-10-28T15:37:26.051Z"
   },
   {
    "duration": 0,
    "start_time": "2022-10-28T15:37:26.053Z"
   },
   {
    "duration": 0,
    "start_time": "2022-10-28T15:37:26.054Z"
   },
   {
    "duration": 1428,
    "start_time": "2022-10-28T16:57:54.006Z"
   },
   {
    "duration": 44,
    "start_time": "2022-10-28T16:57:55.435Z"
   },
   {
    "duration": 11,
    "start_time": "2022-10-28T16:57:55.481Z"
   },
   {
    "duration": 17,
    "start_time": "2022-10-28T16:57:55.494Z"
   },
   {
    "duration": 14,
    "start_time": "2022-10-28T16:57:55.513Z"
   },
   {
    "duration": 6,
    "start_time": "2022-10-28T16:57:55.528Z"
   },
   {
    "duration": 10,
    "start_time": "2022-10-28T16:57:55.538Z"
   },
   {
    "duration": 9,
    "start_time": "2022-10-28T16:57:55.550Z"
   },
   {
    "duration": 7,
    "start_time": "2022-10-28T16:57:55.560Z"
   },
   {
    "duration": 20,
    "start_time": "2022-10-28T16:57:55.568Z"
   },
   {
    "duration": 592,
    "start_time": "2022-10-28T16:57:55.589Z"
   },
   {
    "duration": 565,
    "start_time": "2022-10-28T16:57:56.183Z"
   },
   {
    "duration": 10,
    "start_time": "2022-10-28T16:57:56.750Z"
   },
   {
    "duration": 11,
    "start_time": "2022-10-28T16:57:56.763Z"
   },
   {
    "duration": 7,
    "start_time": "2022-10-28T16:57:56.776Z"
   },
   {
    "duration": 6,
    "start_time": "2022-10-28T16:57:56.784Z"
   },
   {
    "duration": 6,
    "start_time": "2022-10-28T16:57:56.791Z"
   },
   {
    "duration": 41,
    "start_time": "2022-10-28T16:57:56.798Z"
   },
   {
    "duration": 4,
    "start_time": "2022-10-28T16:57:56.840Z"
   },
   {
    "duration": 5,
    "start_time": "2022-10-28T16:57:56.846Z"
   },
   {
    "duration": 10,
    "start_time": "2022-10-28T16:57:56.852Z"
   },
   {
    "duration": 149,
    "start_time": "2022-10-28T16:57:56.863Z"
   },
   {
    "duration": 48,
    "start_time": "2022-10-28T16:57:57.015Z"
   },
   {
    "duration": 158,
    "start_time": "2022-10-28T16:57:57.065Z"
   },
   {
    "duration": 37,
    "start_time": "2022-10-28T16:57:57.225Z"
   },
   {
    "duration": 10,
    "start_time": "2022-10-28T16:57:57.264Z"
   },
   {
    "duration": 28,
    "start_time": "2022-10-28T16:57:57.276Z"
   },
   {
    "duration": 128,
    "start_time": "2022-10-28T16:57:57.307Z"
   },
   {
    "duration": 6,
    "start_time": "2022-10-28T16:57:57.436Z"
   },
   {
    "duration": 13,
    "start_time": "2022-10-28T16:57:57.444Z"
   },
   {
    "duration": 7,
    "start_time": "2022-10-28T16:57:57.458Z"
   },
   {
    "duration": 10,
    "start_time": "2022-10-28T16:57:57.466Z"
   },
   {
    "duration": 280,
    "start_time": "2022-10-28T16:57:57.478Z"
   },
   {
    "duration": 7,
    "start_time": "2022-10-28T16:57:57.760Z"
   },
   {
    "duration": 12,
    "start_time": "2022-10-28T16:57:57.769Z"
   },
   {
    "duration": 9,
    "start_time": "2022-10-28T16:57:57.783Z"
   },
   {
    "duration": 9,
    "start_time": "2022-10-28T16:57:57.794Z"
   },
   {
    "duration": 41,
    "start_time": "2022-10-28T16:57:57.805Z"
   },
   {
    "duration": 8,
    "start_time": "2022-10-28T16:57:57.848Z"
   },
   {
    "duration": 141,
    "start_time": "2022-10-28T16:57:57.857Z"
   },
   {
    "duration": 156,
    "start_time": "2022-10-28T16:57:58.002Z"
   },
   {
    "duration": 6,
    "start_time": "2022-10-28T16:57:58.160Z"
   },
   {
    "duration": 14,
    "start_time": "2022-10-28T16:57:58.168Z"
   },
   {
    "duration": 12,
    "start_time": "2022-10-28T16:57:58.184Z"
   },
   {
    "duration": 14,
    "start_time": "2022-10-28T16:57:58.198Z"
   },
   {
    "duration": 47,
    "start_time": "2022-10-28T16:57:58.214Z"
   },
   {
    "duration": 802,
    "start_time": "2022-10-28T16:57:58.263Z"
   },
   {
    "duration": 435,
    "start_time": "2022-10-28T16:57:59.067Z"
   },
   {
    "duration": 636,
    "start_time": "2022-10-28T16:57:59.503Z"
   },
   {
    "duration": 5,
    "start_time": "2022-10-28T16:58:00.142Z"
   },
   {
    "duration": 99,
    "start_time": "2022-10-28T16:58:00.149Z"
   },
   {
    "duration": 16,
    "start_time": "2022-10-28T16:58:00.250Z"
   },
   {
    "duration": 3346,
    "start_time": "2022-10-28T16:58:00.267Z"
   },
   {
    "duration": 3,
    "start_time": "2022-10-28T16:58:03.614Z"
   },
   {
    "duration": 24,
    "start_time": "2022-10-28T16:58:03.618Z"
   },
   {
    "duration": 28,
    "start_time": "2022-10-28T16:58:03.643Z"
   },
   {
    "duration": 22,
    "start_time": "2022-10-28T17:00:29.232Z"
   },
   {
    "duration": 1437,
    "start_time": "2022-10-28T17:01:19.662Z"
   },
   {
    "duration": 47,
    "start_time": "2022-10-28T17:01:21.101Z"
   },
   {
    "duration": 14,
    "start_time": "2022-10-28T17:01:21.149Z"
   },
   {
    "duration": 14,
    "start_time": "2022-10-28T17:01:21.165Z"
   },
   {
    "duration": 13,
    "start_time": "2022-10-28T17:01:21.180Z"
   },
   {
    "duration": 5,
    "start_time": "2022-10-28T17:01:21.195Z"
   },
   {
    "duration": 38,
    "start_time": "2022-10-28T17:01:21.201Z"
   },
   {
    "duration": 12,
    "start_time": "2022-10-28T17:01:21.240Z"
   },
   {
    "duration": 23,
    "start_time": "2022-10-28T17:01:21.254Z"
   },
   {
    "duration": 40,
    "start_time": "2022-10-28T17:01:21.281Z"
   },
   {
    "duration": 548,
    "start_time": "2022-10-28T17:01:21.323Z"
   },
   {
    "duration": 558,
    "start_time": "2022-10-28T17:01:21.872Z"
   },
   {
    "duration": 8,
    "start_time": "2022-10-28T17:01:22.439Z"
   },
   {
    "duration": 12,
    "start_time": "2022-10-28T17:01:22.449Z"
   },
   {
    "duration": 6,
    "start_time": "2022-10-28T17:01:22.462Z"
   },
   {
    "duration": 6,
    "start_time": "2022-10-28T17:01:22.470Z"
   },
   {
    "duration": 6,
    "start_time": "2022-10-28T17:01:22.478Z"
   },
   {
    "duration": 8,
    "start_time": "2022-10-28T17:01:22.486Z"
   },
   {
    "duration": 8,
    "start_time": "2022-10-28T17:01:22.495Z"
   },
   {
    "duration": 38,
    "start_time": "2022-10-28T17:01:22.505Z"
   },
   {
    "duration": 24,
    "start_time": "2022-10-28T17:01:22.544Z"
   },
   {
    "duration": 135,
    "start_time": "2022-10-28T17:01:22.569Z"
   },
   {
    "duration": 45,
    "start_time": "2022-10-28T17:01:22.705Z"
   },
   {
    "duration": 132,
    "start_time": "2022-10-28T17:01:22.751Z"
   },
   {
    "duration": 24,
    "start_time": "2022-10-28T17:01:22.884Z"
   },
   {
    "duration": 32,
    "start_time": "2022-10-28T17:01:22.909Z"
   },
   {
    "duration": 29,
    "start_time": "2022-10-28T17:01:22.943Z"
   },
   {
    "duration": 95,
    "start_time": "2022-10-28T17:01:22.976Z"
   },
   {
    "duration": 5,
    "start_time": "2022-10-28T17:01:23.073Z"
   },
   {
    "duration": 13,
    "start_time": "2022-10-28T17:01:23.080Z"
   },
   {
    "duration": 7,
    "start_time": "2022-10-28T17:01:23.095Z"
   },
   {
    "duration": 42,
    "start_time": "2022-10-28T17:01:23.104Z"
   },
   {
    "duration": 264,
    "start_time": "2022-10-28T17:01:23.148Z"
   },
   {
    "duration": 8,
    "start_time": "2022-10-28T17:01:23.414Z"
   },
   {
    "duration": 24,
    "start_time": "2022-10-28T17:01:23.424Z"
   },
   {
    "duration": 7,
    "start_time": "2022-10-28T17:01:23.450Z"
   },
   {
    "duration": 6,
    "start_time": "2022-10-28T17:01:23.459Z"
   },
   {
    "duration": 20,
    "start_time": "2022-10-28T17:01:23.466Z"
   },
   {
    "duration": 9,
    "start_time": "2022-10-28T17:01:23.487Z"
   },
   {
    "duration": 167,
    "start_time": "2022-10-28T17:01:23.498Z"
   },
   {
    "duration": 146,
    "start_time": "2022-10-28T17:01:23.667Z"
   },
   {
    "duration": 5,
    "start_time": "2022-10-28T17:01:23.815Z"
   },
   {
    "duration": 25,
    "start_time": "2022-10-28T17:01:23.822Z"
   },
   {
    "duration": 10,
    "start_time": "2022-10-28T17:01:23.849Z"
   },
   {
    "duration": 12,
    "start_time": "2022-10-28T17:01:23.861Z"
   },
   {
    "duration": 24,
    "start_time": "2022-10-28T17:01:23.874Z"
   },
   {
    "duration": 772,
    "start_time": "2022-10-28T17:01:23.899Z"
   },
   {
    "duration": 424,
    "start_time": "2022-10-28T17:01:24.673Z"
   },
   {
    "duration": 642,
    "start_time": "2022-10-28T17:01:25.098Z"
   },
   {
    "duration": 96,
    "start_time": "2022-10-28T17:01:25.743Z"
   },
   {
    "duration": 14,
    "start_time": "2022-10-28T17:01:25.841Z"
   },
   {
    "duration": 4,
    "start_time": "2022-10-28T17:01:25.856Z"
   },
   {
    "duration": 4311,
    "start_time": "2022-10-28T17:01:25.861Z"
   },
   {
    "duration": 3,
    "start_time": "2022-10-28T17:01:30.173Z"
   },
   {
    "duration": 68,
    "start_time": "2022-10-28T17:01:30.177Z"
   },
   {
    "duration": 29,
    "start_time": "2022-10-28T17:01:30.247Z"
   },
   {
    "duration": 118,
    "start_time": "2022-10-28T17:02:04.686Z"
   },
   {
    "duration": 11,
    "start_time": "2022-10-28T17:02:23.882Z"
   },
   {
    "duration": 2064,
    "start_time": "2022-10-28T17:03:14.251Z"
   },
   {
    "duration": 22,
    "start_time": "2022-10-28T17:04:16.353Z"
   },
   {
    "duration": 1471,
    "start_time": "2022-10-28T17:04:34.916Z"
   },
   {
    "duration": 46,
    "start_time": "2022-10-28T17:04:36.389Z"
   },
   {
    "duration": 12,
    "start_time": "2022-10-28T17:04:36.437Z"
   },
   {
    "duration": 16,
    "start_time": "2022-10-28T17:04:36.451Z"
   },
   {
    "duration": 18,
    "start_time": "2022-10-28T17:04:36.469Z"
   },
   {
    "duration": 15,
    "start_time": "2022-10-28T17:04:36.489Z"
   },
   {
    "duration": 33,
    "start_time": "2022-10-28T17:04:36.506Z"
   },
   {
    "duration": 18,
    "start_time": "2022-10-28T17:04:36.541Z"
   },
   {
    "duration": 19,
    "start_time": "2022-10-28T17:04:36.561Z"
   },
   {
    "duration": 25,
    "start_time": "2022-10-28T17:04:36.582Z"
   },
   {
    "duration": 584,
    "start_time": "2022-10-28T17:04:36.609Z"
   },
   {
    "duration": 631,
    "start_time": "2022-10-28T17:04:37.195Z"
   },
   {
    "duration": 17,
    "start_time": "2022-10-28T17:04:37.827Z"
   },
   {
    "duration": 14,
    "start_time": "2022-10-28T17:04:37.847Z"
   },
   {
    "duration": 9,
    "start_time": "2022-10-28T17:04:37.862Z"
   },
   {
    "duration": 10,
    "start_time": "2022-10-28T17:04:37.872Z"
   },
   {
    "duration": 32,
    "start_time": "2022-10-28T17:04:37.883Z"
   },
   {
    "duration": 13,
    "start_time": "2022-10-28T17:04:37.917Z"
   },
   {
    "duration": 14,
    "start_time": "2022-10-28T17:04:37.931Z"
   },
   {
    "duration": 16,
    "start_time": "2022-10-28T17:04:37.947Z"
   },
   {
    "duration": 17,
    "start_time": "2022-10-28T17:04:37.965Z"
   },
   {
    "duration": 132,
    "start_time": "2022-10-28T17:04:37.983Z"
   },
   {
    "duration": 42,
    "start_time": "2022-10-28T17:04:38.117Z"
   },
   {
    "duration": 124,
    "start_time": "2022-10-28T17:04:38.160Z"
   },
   {
    "duration": 24,
    "start_time": "2022-10-28T17:04:38.286Z"
   },
   {
    "duration": 32,
    "start_time": "2022-10-28T17:04:38.312Z"
   },
   {
    "duration": 24,
    "start_time": "2022-10-28T17:04:38.346Z"
   },
   {
    "duration": 95,
    "start_time": "2022-10-28T17:04:38.371Z"
   },
   {
    "duration": 4,
    "start_time": "2022-10-28T17:04:38.468Z"
   },
   {
    "duration": 13,
    "start_time": "2022-10-28T17:04:38.474Z"
   },
   {
    "duration": 7,
    "start_time": "2022-10-28T17:04:38.488Z"
   },
   {
    "duration": 15,
    "start_time": "2022-10-28T17:04:38.496Z"
   },
   {
    "duration": 295,
    "start_time": "2022-10-28T17:04:38.514Z"
   },
   {
    "duration": 7,
    "start_time": "2022-10-28T17:04:38.811Z"
   },
   {
    "duration": 29,
    "start_time": "2022-10-28T17:04:38.820Z"
   },
   {
    "duration": 31,
    "start_time": "2022-10-28T17:04:38.851Z"
   },
   {
    "duration": 23,
    "start_time": "2022-10-28T17:04:38.883Z"
   },
   {
    "duration": 38,
    "start_time": "2022-10-28T17:04:38.908Z"
   },
   {
    "duration": 12,
    "start_time": "2022-10-28T17:04:38.947Z"
   },
   {
    "duration": 151,
    "start_time": "2022-10-28T17:04:38.960Z"
   },
   {
    "duration": 144,
    "start_time": "2022-10-28T17:04:39.115Z"
   },
   {
    "duration": 4,
    "start_time": "2022-10-28T17:04:39.261Z"
   },
   {
    "duration": 37,
    "start_time": "2022-10-28T17:04:39.267Z"
   },
   {
    "duration": 25,
    "start_time": "2022-10-28T17:04:39.306Z"
   },
   {
    "duration": 25,
    "start_time": "2022-10-28T17:04:39.333Z"
   },
   {
    "duration": 43,
    "start_time": "2022-10-28T17:04:39.360Z"
   },
   {
    "duration": 742,
    "start_time": "2022-10-28T17:04:39.405Z"
   },
   {
    "duration": 428,
    "start_time": "2022-10-28T17:04:40.149Z"
   },
   {
    "duration": 660,
    "start_time": "2022-10-28T17:04:40.579Z"
   },
   {
    "duration": 4,
    "start_time": "2022-10-28T17:04:41.243Z"
   },
   {
    "duration": 103,
    "start_time": "2022-10-28T17:04:41.249Z"
   },
   {
    "duration": 21,
    "start_time": "2022-10-28T17:04:41.353Z"
   },
   {
    "duration": 3445,
    "start_time": "2022-10-28T17:04:41.375Z"
   },
   {
    "duration": 3,
    "start_time": "2022-10-28T17:04:44.821Z"
   },
   {
    "duration": 24,
    "start_time": "2022-10-28T17:04:44.825Z"
   },
   {
    "duration": 11,
    "start_time": "2022-10-28T17:04:44.851Z"
   },
   {
    "duration": 24,
    "start_time": "2022-10-28T17:16:02.857Z"
   },
   {
    "duration": 16,
    "start_time": "2022-10-28T17:19:32.665Z"
   },
   {
    "duration": 19,
    "start_time": "2022-10-28T17:21:48.480Z"
   },
   {
    "duration": 21,
    "start_time": "2022-10-28T17:22:28.090Z"
   },
   {
    "duration": 1399,
    "start_time": "2022-10-28T17:22:59.064Z"
   },
   {
    "duration": 47,
    "start_time": "2022-10-28T17:23:00.465Z"
   },
   {
    "duration": 16,
    "start_time": "2022-10-28T17:23:00.514Z"
   },
   {
    "duration": 38,
    "start_time": "2022-10-28T17:23:00.531Z"
   },
   {
    "duration": 14,
    "start_time": "2022-10-28T17:23:00.572Z"
   },
   {
    "duration": 13,
    "start_time": "2022-10-28T17:23:00.588Z"
   },
   {
    "duration": 13,
    "start_time": "2022-10-28T17:23:00.603Z"
   },
   {
    "duration": 13,
    "start_time": "2022-10-28T17:23:00.618Z"
   },
   {
    "duration": 10,
    "start_time": "2022-10-28T17:23:00.633Z"
   },
   {
    "duration": 25,
    "start_time": "2022-10-28T17:23:00.645Z"
   },
   {
    "duration": 621,
    "start_time": "2022-10-28T17:23:00.673Z"
   },
   {
    "duration": 648,
    "start_time": "2022-10-28T17:23:01.296Z"
   },
   {
    "duration": 9,
    "start_time": "2022-10-28T17:23:01.945Z"
   },
   {
    "duration": 15,
    "start_time": "2022-10-28T17:23:01.956Z"
   },
   {
    "duration": 6,
    "start_time": "2022-10-28T17:23:01.973Z"
   },
   {
    "duration": 10,
    "start_time": "2022-10-28T17:23:01.980Z"
   },
   {
    "duration": 57,
    "start_time": "2022-10-28T17:23:01.991Z"
   },
   {
    "duration": 21,
    "start_time": "2022-10-28T17:23:02.049Z"
   },
   {
    "duration": 7,
    "start_time": "2022-10-28T17:23:02.072Z"
   },
   {
    "duration": 14,
    "start_time": "2022-10-28T17:23:02.081Z"
   },
   {
    "duration": 20,
    "start_time": "2022-10-28T17:23:02.096Z"
   },
   {
    "duration": 141,
    "start_time": "2022-10-28T17:23:02.118Z"
   },
   {
    "duration": 38,
    "start_time": "2022-10-28T17:23:02.261Z"
   },
   {
    "duration": 139,
    "start_time": "2022-10-28T17:23:02.302Z"
   },
   {
    "duration": 22,
    "start_time": "2022-10-28T17:23:02.443Z"
   },
   {
    "duration": 10,
    "start_time": "2022-10-28T17:23:02.466Z"
   },
   {
    "duration": 25,
    "start_time": "2022-10-28T17:23:02.478Z"
   },
   {
    "duration": 100,
    "start_time": "2022-10-28T17:23:02.504Z"
   },
   {
    "duration": 6,
    "start_time": "2022-10-28T17:23:02.605Z"
   },
   {
    "duration": 13,
    "start_time": "2022-10-28T17:23:02.613Z"
   },
   {
    "duration": 8,
    "start_time": "2022-10-28T17:23:02.639Z"
   },
   {
    "duration": 13,
    "start_time": "2022-10-28T17:23:02.648Z"
   },
   {
    "duration": 262,
    "start_time": "2022-10-28T17:23:02.663Z"
   },
   {
    "duration": 15,
    "start_time": "2022-10-28T17:23:02.927Z"
   },
   {
    "duration": 11,
    "start_time": "2022-10-28T17:23:02.943Z"
   },
   {
    "duration": 5,
    "start_time": "2022-10-28T17:23:02.956Z"
   },
   {
    "duration": 6,
    "start_time": "2022-10-28T17:23:02.962Z"
   },
   {
    "duration": 16,
    "start_time": "2022-10-28T17:23:02.970Z"
   },
   {
    "duration": 8,
    "start_time": "2022-10-28T17:23:02.987Z"
   },
   {
    "duration": 167,
    "start_time": "2022-10-28T17:23:02.997Z"
   },
   {
    "duration": 150,
    "start_time": "2022-10-28T17:23:03.168Z"
   },
   {
    "duration": 6,
    "start_time": "2022-10-28T17:23:03.320Z"
   },
   {
    "duration": 21,
    "start_time": "2022-10-28T17:23:03.328Z"
   },
   {
    "duration": 10,
    "start_time": "2022-10-28T17:23:03.351Z"
   },
   {
    "duration": 12,
    "start_time": "2022-10-28T17:23:03.363Z"
   },
   {
    "duration": 20,
    "start_time": "2022-10-28T17:23:03.377Z"
   },
   {
    "duration": 775,
    "start_time": "2022-10-28T17:23:03.398Z"
   },
   {
    "duration": 430,
    "start_time": "2022-10-28T17:23:04.175Z"
   },
   {
    "duration": 638,
    "start_time": "2022-10-28T17:23:04.606Z"
   },
   {
    "duration": 93,
    "start_time": "2022-10-28T17:23:05.247Z"
   },
   {
    "duration": 19,
    "start_time": "2022-10-28T17:23:05.341Z"
   },
   {
    "duration": 3,
    "start_time": "2022-10-28T17:23:05.361Z"
   },
   {
    "duration": 3775,
    "start_time": "2022-10-28T17:23:05.366Z"
   },
   {
    "duration": 2,
    "start_time": "2022-10-28T17:23:09.143Z"
   },
   {
    "duration": 14,
    "start_time": "2022-10-28T17:23:09.147Z"
   },
   {
    "duration": 10,
    "start_time": "2022-10-28T17:23:09.163Z"
   },
   {
    "duration": 23,
    "start_time": "2022-10-28T17:25:33.293Z"
   },
   {
    "duration": 22,
    "start_time": "2022-10-28T17:26:05.197Z"
   },
   {
    "duration": 20,
    "start_time": "2022-10-28T17:26:22.784Z"
   },
   {
    "duration": 10,
    "start_time": "2022-10-28T17:32:14.671Z"
   },
   {
    "duration": 12,
    "start_time": "2022-10-28T17:35:20.386Z"
   },
   {
    "duration": 11,
    "start_time": "2022-10-28T17:35:43.018Z"
   },
   {
    "duration": 11,
    "start_time": "2022-10-28T17:37:16.783Z"
   },
   {
    "duration": 208,
    "start_time": "2022-10-28T17:38:12.283Z"
   },
   {
    "duration": 12,
    "start_time": "2022-10-28T17:38:37.801Z"
   },
   {
    "duration": 12,
    "start_time": "2022-10-28T17:43:18.481Z"
   },
   {
    "duration": 10,
    "start_time": "2022-10-28T17:45:11.356Z"
   },
   {
    "duration": 11,
    "start_time": "2022-10-28T17:45:19.442Z"
   },
   {
    "duration": 4,
    "start_time": "2022-10-28T17:48:38.388Z"
   },
   {
    "duration": 4,
    "start_time": "2022-10-28T17:48:46.120Z"
   },
   {
    "duration": 7,
    "start_time": "2022-10-28T17:51:52.486Z"
   },
   {
    "duration": 1441,
    "start_time": "2022-10-28T17:52:40.320Z"
   },
   {
    "duration": 48,
    "start_time": "2022-10-28T17:52:41.763Z"
   },
   {
    "duration": 13,
    "start_time": "2022-10-28T17:52:41.813Z"
   },
   {
    "duration": 14,
    "start_time": "2022-10-28T17:52:41.828Z"
   },
   {
    "duration": 12,
    "start_time": "2022-10-28T17:52:41.844Z"
   },
   {
    "duration": 4,
    "start_time": "2022-10-28T17:52:41.858Z"
   },
   {
    "duration": 32,
    "start_time": "2022-10-28T17:52:41.863Z"
   },
   {
    "duration": 11,
    "start_time": "2022-10-28T17:52:41.896Z"
   },
   {
    "duration": 31,
    "start_time": "2022-10-28T17:52:41.908Z"
   },
   {
    "duration": 17,
    "start_time": "2022-10-28T17:52:41.942Z"
   },
   {
    "duration": 510,
    "start_time": "2022-10-28T17:52:41.960Z"
   },
   {
    "duration": 577,
    "start_time": "2022-10-28T17:52:42.472Z"
   },
   {
    "duration": 9,
    "start_time": "2022-10-28T17:52:43.051Z"
   },
   {
    "duration": 13,
    "start_time": "2022-10-28T17:52:43.061Z"
   },
   {
    "duration": 7,
    "start_time": "2022-10-28T17:52:43.075Z"
   },
   {
    "duration": 6,
    "start_time": "2022-10-28T17:52:43.083Z"
   },
   {
    "duration": 6,
    "start_time": "2022-10-28T17:52:43.090Z"
   },
   {
    "duration": 7,
    "start_time": "2022-10-28T17:52:43.098Z"
   },
   {
    "duration": 34,
    "start_time": "2022-10-28T17:52:43.106Z"
   },
   {
    "duration": 6,
    "start_time": "2022-10-28T17:52:43.142Z"
   },
   {
    "duration": 13,
    "start_time": "2022-10-28T17:52:43.149Z"
   },
   {
    "duration": 159,
    "start_time": "2022-10-28T17:52:43.163Z"
   },
   {
    "duration": 40,
    "start_time": "2022-10-28T17:52:43.323Z"
   },
   {
    "duration": 138,
    "start_time": "2022-10-28T17:52:43.365Z"
   },
   {
    "duration": 34,
    "start_time": "2022-10-28T17:52:43.505Z"
   },
   {
    "duration": 9,
    "start_time": "2022-10-28T17:52:43.541Z"
   },
   {
    "duration": 24,
    "start_time": "2022-10-28T17:52:43.551Z"
   },
   {
    "duration": 96,
    "start_time": "2022-10-28T17:52:43.579Z"
   },
   {
    "duration": 4,
    "start_time": "2022-10-28T17:52:43.677Z"
   },
   {
    "duration": 14,
    "start_time": "2022-10-28T17:52:43.683Z"
   },
   {
    "duration": 19,
    "start_time": "2022-10-28T17:52:43.698Z"
   },
   {
    "duration": 27,
    "start_time": "2022-10-28T17:52:43.719Z"
   },
   {
    "duration": 263,
    "start_time": "2022-10-28T17:52:43.747Z"
   },
   {
    "duration": 7,
    "start_time": "2022-10-28T17:52:44.012Z"
   },
   {
    "duration": 26,
    "start_time": "2022-10-28T17:52:44.021Z"
   },
   {
    "duration": 6,
    "start_time": "2022-10-28T17:52:44.049Z"
   },
   {
    "duration": 6,
    "start_time": "2022-10-28T17:52:44.057Z"
   },
   {
    "duration": 18,
    "start_time": "2022-10-28T17:52:44.064Z"
   },
   {
    "duration": 8,
    "start_time": "2022-10-28T17:52:44.084Z"
   },
   {
    "duration": 45,
    "start_time": "2022-10-28T17:52:44.094Z"
   },
   {
    "duration": 0,
    "start_time": "2022-10-28T17:52:44.140Z"
   },
   {
    "duration": 0,
    "start_time": "2022-10-28T17:52:44.141Z"
   },
   {
    "duration": 0,
    "start_time": "2022-10-28T17:52:44.142Z"
   },
   {
    "duration": 0,
    "start_time": "2022-10-28T17:52:44.144Z"
   },
   {
    "duration": 0,
    "start_time": "2022-10-28T17:52:44.144Z"
   },
   {
    "duration": 0,
    "start_time": "2022-10-28T17:52:44.145Z"
   },
   {
    "duration": 0,
    "start_time": "2022-10-28T17:52:44.147Z"
   },
   {
    "duration": 0,
    "start_time": "2022-10-28T17:52:44.148Z"
   },
   {
    "duration": 0,
    "start_time": "2022-10-28T17:52:44.149Z"
   },
   {
    "duration": 0,
    "start_time": "2022-10-28T17:52:44.150Z"
   },
   {
    "duration": 0,
    "start_time": "2022-10-28T17:52:44.151Z"
   },
   {
    "duration": 0,
    "start_time": "2022-10-28T17:52:44.152Z"
   },
   {
    "duration": 0,
    "start_time": "2022-10-28T17:52:44.153Z"
   },
   {
    "duration": 0,
    "start_time": "2022-10-28T17:52:44.154Z"
   },
   {
    "duration": 0,
    "start_time": "2022-10-28T17:52:44.155Z"
   },
   {
    "duration": 0,
    "start_time": "2022-10-28T17:52:44.156Z"
   },
   {
    "duration": 0,
    "start_time": "2022-10-28T17:52:44.158Z"
   },
   {
    "duration": 0,
    "start_time": "2022-10-28T17:52:44.159Z"
   },
   {
    "duration": 0,
    "start_time": "2022-10-28T17:52:44.160Z"
   },
   {
    "duration": 1417,
    "start_time": "2022-10-28T17:53:43.323Z"
   },
   {
    "duration": 45,
    "start_time": "2022-10-28T17:53:44.743Z"
   },
   {
    "duration": 12,
    "start_time": "2022-10-28T17:53:44.789Z"
   },
   {
    "duration": 15,
    "start_time": "2022-10-28T17:53:44.803Z"
   },
   {
    "duration": 14,
    "start_time": "2022-10-28T17:53:44.820Z"
   },
   {
    "duration": 6,
    "start_time": "2022-10-28T17:53:44.835Z"
   },
   {
    "duration": 11,
    "start_time": "2022-10-28T17:53:44.842Z"
   },
   {
    "duration": 9,
    "start_time": "2022-10-28T17:53:44.855Z"
   },
   {
    "duration": 10,
    "start_time": "2022-10-28T17:53:44.865Z"
   },
   {
    "duration": 21,
    "start_time": "2022-10-28T17:53:44.877Z"
   },
   {
    "duration": 583,
    "start_time": "2022-10-28T17:53:44.900Z"
   },
   {
    "duration": 560,
    "start_time": "2022-10-28T17:53:45.485Z"
   },
   {
    "duration": 9,
    "start_time": "2022-10-28T17:53:46.047Z"
   },
   {
    "duration": 12,
    "start_time": "2022-10-28T17:53:46.059Z"
   },
   {
    "duration": 6,
    "start_time": "2022-10-28T17:53:46.073Z"
   },
   {
    "duration": 7,
    "start_time": "2022-10-28T17:53:46.080Z"
   },
   {
    "duration": 5,
    "start_time": "2022-10-28T17:53:46.089Z"
   },
   {
    "duration": 8,
    "start_time": "2022-10-28T17:53:46.096Z"
   },
   {
    "duration": 34,
    "start_time": "2022-10-28T17:53:46.106Z"
   },
   {
    "duration": 6,
    "start_time": "2022-10-28T17:53:46.142Z"
   },
   {
    "duration": 12,
    "start_time": "2022-10-28T17:53:46.149Z"
   },
   {
    "duration": 154,
    "start_time": "2022-10-28T17:53:46.163Z"
   },
   {
    "duration": 44,
    "start_time": "2022-10-28T17:53:46.319Z"
   },
   {
    "duration": 127,
    "start_time": "2022-10-28T17:53:46.364Z"
   },
   {
    "duration": 25,
    "start_time": "2022-10-28T17:53:46.493Z"
   },
   {
    "duration": 26,
    "start_time": "2022-10-28T17:53:46.520Z"
   },
   {
    "duration": 28,
    "start_time": "2022-10-28T17:53:46.547Z"
   },
   {
    "duration": 98,
    "start_time": "2022-10-28T17:53:46.577Z"
   },
   {
    "duration": 6,
    "start_time": "2022-10-28T17:53:46.677Z"
   },
   {
    "duration": 12,
    "start_time": "2022-10-28T17:53:46.684Z"
   },
   {
    "duration": 7,
    "start_time": "2022-10-28T17:53:46.697Z"
   },
   {
    "duration": 37,
    "start_time": "2022-10-28T17:53:46.706Z"
   },
   {
    "duration": 253,
    "start_time": "2022-10-28T17:53:46.745Z"
   },
   {
    "duration": 6,
    "start_time": "2022-10-28T17:53:47.000Z"
   },
   {
    "duration": 16,
    "start_time": "2022-10-28T17:53:47.008Z"
   },
   {
    "duration": 16,
    "start_time": "2022-10-28T17:53:47.025Z"
   },
   {
    "duration": 10,
    "start_time": "2022-10-28T17:53:47.043Z"
   },
   {
    "duration": 18,
    "start_time": "2022-10-28T17:53:47.055Z"
   },
   {
    "duration": 9,
    "start_time": "2022-10-28T17:53:47.075Z"
   },
   {
    "duration": 195,
    "start_time": "2022-10-28T17:53:47.087Z"
   },
   {
    "duration": 195,
    "start_time": "2022-10-28T17:53:47.287Z"
   },
   {
    "duration": 6,
    "start_time": "2022-10-28T17:53:47.484Z"
   },
   {
    "duration": 19,
    "start_time": "2022-10-28T17:53:47.491Z"
   },
   {
    "duration": 27,
    "start_time": "2022-10-28T17:53:47.512Z"
   },
   {
    "duration": 11,
    "start_time": "2022-10-28T17:53:47.541Z"
   },
   {
    "duration": 5,
    "start_time": "2022-10-28T17:53:47.554Z"
   },
   {
    "duration": 9,
    "start_time": "2022-10-28T17:53:47.561Z"
   },
   {
    "duration": 20,
    "start_time": "2022-10-28T17:53:47.572Z"
   },
   {
    "duration": 739,
    "start_time": "2022-10-28T17:53:47.594Z"
   },
   {
    "duration": 390,
    "start_time": "2022-10-28T17:53:48.335Z"
   },
   {
    "duration": 422,
    "start_time": "2022-10-28T17:53:48.727Z"
   },
   {
    "duration": 6,
    "start_time": "2022-10-28T17:53:49.239Z"
   },
   {
    "duration": 28,
    "start_time": "2022-10-28T17:53:49.247Z"
   },
   {
    "duration": 10,
    "start_time": "2022-10-28T17:53:49.277Z"
   },
   {
    "duration": 3869,
    "start_time": "2022-10-28T17:53:49.288Z"
   },
   {
    "duration": 2,
    "start_time": "2022-10-28T17:53:53.160Z"
   },
   {
    "duration": 17,
    "start_time": "2022-10-28T17:53:53.163Z"
   },
   {
    "duration": 63,
    "start_time": "2022-10-28T17:53:53.181Z"
   },
   {
    "duration": 7,
    "start_time": "2022-10-28T17:54:46.731Z"
   },
   {
    "duration": 12,
    "start_time": "2022-10-28T17:56:35.838Z"
   },
   {
    "duration": 13,
    "start_time": "2022-10-28T17:56:59.098Z"
   },
   {
    "duration": 1348,
    "start_time": "2022-10-28T17:57:04.793Z"
   },
   {
    "duration": 44,
    "start_time": "2022-10-28T17:57:06.144Z"
   },
   {
    "duration": 12,
    "start_time": "2022-10-28T17:57:06.190Z"
   },
   {
    "duration": 18,
    "start_time": "2022-10-28T17:57:06.204Z"
   },
   {
    "duration": 16,
    "start_time": "2022-10-28T17:57:06.223Z"
   },
   {
    "duration": 5,
    "start_time": "2022-10-28T17:57:06.241Z"
   },
   {
    "duration": 10,
    "start_time": "2022-10-28T17:57:06.248Z"
   },
   {
    "duration": 10,
    "start_time": "2022-10-28T17:57:06.259Z"
   },
   {
    "duration": 8,
    "start_time": "2022-10-28T17:57:06.270Z"
   },
   {
    "duration": 59,
    "start_time": "2022-10-28T17:57:06.281Z"
   },
   {
    "duration": 535,
    "start_time": "2022-10-28T17:57:06.342Z"
   },
   {
    "duration": 608,
    "start_time": "2022-10-28T17:57:06.878Z"
   },
   {
    "duration": 10,
    "start_time": "2022-10-28T17:57:07.488Z"
   },
   {
    "duration": 14,
    "start_time": "2022-10-28T17:57:07.500Z"
   },
   {
    "duration": 27,
    "start_time": "2022-10-28T17:57:07.516Z"
   },
   {
    "duration": 6,
    "start_time": "2022-10-28T17:57:07.544Z"
   },
   {
    "duration": 5,
    "start_time": "2022-10-28T17:57:07.552Z"
   },
   {
    "duration": 9,
    "start_time": "2022-10-28T17:57:07.558Z"
   },
   {
    "duration": 5,
    "start_time": "2022-10-28T17:57:07.568Z"
   },
   {
    "duration": 6,
    "start_time": "2022-10-28T17:57:07.574Z"
   },
   {
    "duration": 10,
    "start_time": "2022-10-28T17:57:07.581Z"
   },
   {
    "duration": 168,
    "start_time": "2022-10-28T17:57:07.593Z"
   },
   {
    "duration": 28,
    "start_time": "2022-10-28T17:57:07.762Z"
   },
   {
    "duration": 129,
    "start_time": "2022-10-28T17:57:07.793Z"
   },
   {
    "duration": 30,
    "start_time": "2022-10-28T17:57:07.924Z"
   },
   {
    "duration": 11,
    "start_time": "2022-10-28T17:57:07.955Z"
   },
   {
    "duration": 28,
    "start_time": "2022-10-28T17:57:07.969Z"
   },
   {
    "duration": 96,
    "start_time": "2022-10-28T17:57:08.001Z"
   },
   {
    "duration": 6,
    "start_time": "2022-10-28T17:57:08.099Z"
   },
   {
    "duration": 11,
    "start_time": "2022-10-28T17:57:08.107Z"
   },
   {
    "duration": 24,
    "start_time": "2022-10-28T17:57:08.120Z"
   },
   {
    "duration": 10,
    "start_time": "2022-10-28T17:57:08.146Z"
   },
   {
    "duration": 275,
    "start_time": "2022-10-28T17:57:08.158Z"
   },
   {
    "duration": 9,
    "start_time": "2022-10-28T17:57:08.439Z"
   },
   {
    "duration": 12,
    "start_time": "2022-10-28T17:57:08.450Z"
   },
   {
    "duration": 14,
    "start_time": "2022-10-28T17:57:08.464Z"
   },
   {
    "duration": 9,
    "start_time": "2022-10-28T17:57:08.480Z"
   },
   {
    "duration": 25,
    "start_time": "2022-10-28T17:57:08.491Z"
   },
   {
    "duration": 29,
    "start_time": "2022-10-28T17:57:08.518Z"
   },
   {
    "duration": 135,
    "start_time": "2022-10-28T17:57:08.549Z"
   },
   {
    "duration": 149,
    "start_time": "2022-10-28T17:57:08.685Z"
   },
   {
    "duration": 6,
    "start_time": "2022-10-28T17:57:08.835Z"
   },
   {
    "duration": 17,
    "start_time": "2022-10-28T17:57:08.843Z"
   },
   {
    "duration": 10,
    "start_time": "2022-10-28T17:57:08.861Z"
   },
   {
    "duration": 7,
    "start_time": "2022-10-28T17:57:08.873Z"
   },
   {
    "duration": 10,
    "start_time": "2022-10-28T17:57:08.881Z"
   },
   {
    "duration": 11,
    "start_time": "2022-10-28T17:57:08.892Z"
   },
   {
    "duration": 50,
    "start_time": "2022-10-28T17:57:08.904Z"
   },
   {
    "duration": 700,
    "start_time": "2022-10-28T17:57:08.955Z"
   },
   {
    "duration": 424,
    "start_time": "2022-10-28T17:57:09.657Z"
   },
   {
    "duration": 756,
    "start_time": "2022-10-28T17:57:10.083Z"
   },
   {
    "duration": 4,
    "start_time": "2022-10-28T17:57:10.841Z"
   },
   {
    "duration": 13,
    "start_time": "2022-10-28T17:57:10.847Z"
   },
   {
    "duration": 4,
    "start_time": "2022-10-28T17:57:10.861Z"
   },
   {
    "duration": 4361,
    "start_time": "2022-10-28T17:57:10.866Z"
   },
   {
    "duration": 2,
    "start_time": "2022-10-28T17:57:15.229Z"
   },
   {
    "duration": 12,
    "start_time": "2022-10-28T17:57:15.239Z"
   },
   {
    "duration": 16,
    "start_time": "2022-10-28T17:57:15.253Z"
   },
   {
    "duration": 20,
    "start_time": "2022-10-28T18:00:03.669Z"
   },
   {
    "duration": 1502,
    "start_time": "2022-10-28T18:00:50.661Z"
   },
   {
    "duration": 46,
    "start_time": "2022-10-28T18:00:52.165Z"
   },
   {
    "duration": 14,
    "start_time": "2022-10-28T18:00:52.212Z"
   },
   {
    "duration": 16,
    "start_time": "2022-10-28T18:00:52.228Z"
   },
   {
    "duration": 16,
    "start_time": "2022-10-28T18:00:52.246Z"
   },
   {
    "duration": 5,
    "start_time": "2022-10-28T18:00:52.264Z"
   },
   {
    "duration": 17,
    "start_time": "2022-10-28T18:00:52.271Z"
   },
   {
    "duration": 10,
    "start_time": "2022-10-28T18:00:52.290Z"
   },
   {
    "duration": 8,
    "start_time": "2022-10-28T18:00:52.301Z"
   },
   {
    "duration": 18,
    "start_time": "2022-10-28T18:00:52.338Z"
   },
   {
    "duration": 518,
    "start_time": "2022-10-28T18:00:52.358Z"
   },
   {
    "duration": 554,
    "start_time": "2022-10-28T18:00:52.877Z"
   },
   {
    "duration": 13,
    "start_time": "2022-10-28T18:00:53.432Z"
   },
   {
    "duration": 16,
    "start_time": "2022-10-28T18:00:53.447Z"
   },
   {
    "duration": 7,
    "start_time": "2022-10-28T18:00:53.464Z"
   },
   {
    "duration": 15,
    "start_time": "2022-10-28T18:00:53.472Z"
   },
   {
    "duration": 8,
    "start_time": "2022-10-28T18:00:53.489Z"
   },
   {
    "duration": 7,
    "start_time": "2022-10-28T18:00:53.499Z"
   },
   {
    "duration": 6,
    "start_time": "2022-10-28T18:00:53.516Z"
   },
   {
    "duration": 5,
    "start_time": "2022-10-28T18:00:53.538Z"
   },
   {
    "duration": 11,
    "start_time": "2022-10-28T18:00:53.545Z"
   },
   {
    "duration": 135,
    "start_time": "2022-10-28T18:00:53.557Z"
   },
   {
    "duration": 31,
    "start_time": "2022-10-28T18:00:53.694Z"
   },
   {
    "duration": 122,
    "start_time": "2022-10-28T18:00:53.740Z"
   },
   {
    "duration": 25,
    "start_time": "2022-10-28T18:00:53.864Z"
   },
   {
    "duration": 20,
    "start_time": "2022-10-28T18:00:53.891Z"
   },
   {
    "duration": 47,
    "start_time": "2022-10-28T18:00:53.913Z"
   },
   {
    "duration": 87,
    "start_time": "2022-10-28T18:00:53.964Z"
   },
   {
    "duration": 6,
    "start_time": "2022-10-28T18:00:54.053Z"
   },
   {
    "duration": 15,
    "start_time": "2022-10-28T18:00:54.061Z"
   },
   {
    "duration": 7,
    "start_time": "2022-10-28T18:00:54.078Z"
   },
   {
    "duration": 12,
    "start_time": "2022-10-28T18:00:54.087Z"
   },
   {
    "duration": 286,
    "start_time": "2022-10-28T18:00:54.100Z"
   },
   {
    "duration": 8,
    "start_time": "2022-10-28T18:00:54.388Z"
   },
   {
    "duration": 13,
    "start_time": "2022-10-28T18:00:54.398Z"
   },
   {
    "duration": 34,
    "start_time": "2022-10-28T18:00:54.413Z"
   },
   {
    "duration": 6,
    "start_time": "2022-10-28T18:00:54.449Z"
   },
   {
    "duration": 19,
    "start_time": "2022-10-28T18:00:54.456Z"
   },
   {
    "duration": 9,
    "start_time": "2022-10-28T18:00:54.476Z"
   },
   {
    "duration": 143,
    "start_time": "2022-10-28T18:00:54.486Z"
   },
   {
    "duration": 153,
    "start_time": "2022-10-28T18:00:54.631Z"
   },
   {
    "duration": 5,
    "start_time": "2022-10-28T18:00:54.785Z"
   },
   {
    "duration": 19,
    "start_time": "2022-10-28T18:00:54.792Z"
   },
   {
    "duration": 11,
    "start_time": "2022-10-28T18:00:54.813Z"
   },
   {
    "duration": 4,
    "start_time": "2022-10-28T18:00:54.839Z"
   },
   {
    "duration": 9,
    "start_time": "2022-10-28T18:00:54.844Z"
   },
   {
    "duration": 11,
    "start_time": "2022-10-28T18:00:54.855Z"
   },
   {
    "duration": 23,
    "start_time": "2022-10-28T18:00:54.868Z"
   },
   {
    "duration": 184,
    "start_time": "2022-10-28T18:00:54.893Z"
   },
   {
    "duration": 281,
    "start_time": "2022-10-28T18:00:55.079Z"
   },
   {
    "duration": 481,
    "start_time": "2022-10-28T18:00:55.362Z"
   },
   {
    "duration": 287,
    "start_time": "2022-10-28T18:00:55.846Z"
   },
   {
    "duration": 0,
    "start_time": "2022-10-28T18:00:56.138Z"
   },
   {
    "duration": 0,
    "start_time": "2022-10-28T18:00:56.140Z"
   },
   {
    "duration": 0,
    "start_time": "2022-10-28T18:00:56.141Z"
   },
   {
    "duration": 0,
    "start_time": "2022-10-28T18:00:56.142Z"
   },
   {
    "duration": 0,
    "start_time": "2022-10-28T18:00:56.143Z"
   },
   {
    "duration": 0,
    "start_time": "2022-10-28T18:00:56.144Z"
   },
   {
    "duration": 15,
    "start_time": "2022-10-28T18:03:01.153Z"
   },
   {
    "duration": 4,
    "start_time": "2022-10-28T18:03:43.891Z"
   },
   {
    "duration": 19,
    "start_time": "2022-10-28T18:03:50.525Z"
   },
   {
    "duration": 13,
    "start_time": "2022-10-28T18:03:57.824Z"
   },
   {
    "duration": 13,
    "start_time": "2022-10-28T18:10:59.737Z"
   },
   {
    "duration": 1421,
    "start_time": "2022-10-28T18:11:43.574Z"
   },
   {
    "duration": 44,
    "start_time": "2022-10-28T18:11:44.997Z"
   },
   {
    "duration": 13,
    "start_time": "2022-10-28T18:11:45.042Z"
   },
   {
    "duration": 12,
    "start_time": "2022-10-28T18:11:45.056Z"
   },
   {
    "duration": 16,
    "start_time": "2022-10-28T18:11:45.070Z"
   },
   {
    "duration": 11,
    "start_time": "2022-10-28T18:11:45.088Z"
   },
   {
    "duration": 37,
    "start_time": "2022-10-28T18:11:45.101Z"
   },
   {
    "duration": 11,
    "start_time": "2022-10-28T18:11:45.140Z"
   },
   {
    "duration": 8,
    "start_time": "2022-10-28T18:11:45.152Z"
   },
   {
    "duration": 19,
    "start_time": "2022-10-28T18:11:45.162Z"
   },
   {
    "duration": 598,
    "start_time": "2022-10-28T18:11:45.183Z"
   },
   {
    "duration": 617,
    "start_time": "2022-10-28T18:11:45.783Z"
   },
   {
    "duration": 10,
    "start_time": "2022-10-28T18:11:46.402Z"
   },
   {
    "duration": 28,
    "start_time": "2022-10-28T18:11:46.416Z"
   },
   {
    "duration": 7,
    "start_time": "2022-10-28T18:11:46.446Z"
   },
   {
    "duration": 6,
    "start_time": "2022-10-28T18:11:46.455Z"
   },
   {
    "duration": 5,
    "start_time": "2022-10-28T18:11:46.463Z"
   },
   {
    "duration": 7,
    "start_time": "2022-10-28T18:11:46.470Z"
   },
   {
    "duration": 6,
    "start_time": "2022-10-28T18:11:46.479Z"
   },
   {
    "duration": 5,
    "start_time": "2022-10-28T18:11:46.487Z"
   },
   {
    "duration": 47,
    "start_time": "2022-10-28T18:11:46.493Z"
   },
   {
    "duration": 140,
    "start_time": "2022-10-28T18:11:46.542Z"
   },
   {
    "duration": 27,
    "start_time": "2022-10-28T18:11:46.684Z"
   },
   {
    "duration": 130,
    "start_time": "2022-10-28T18:11:46.713Z"
   },
   {
    "duration": 22,
    "start_time": "2022-10-28T18:11:46.845Z"
   },
   {
    "duration": 12,
    "start_time": "2022-10-28T18:11:46.868Z"
   },
   {
    "duration": 24,
    "start_time": "2022-10-28T18:11:46.882Z"
   },
   {
    "duration": 102,
    "start_time": "2022-10-28T18:11:46.908Z"
   },
   {
    "duration": 5,
    "start_time": "2022-10-28T18:11:47.012Z"
   },
   {
    "duration": 33,
    "start_time": "2022-10-28T18:11:47.019Z"
   },
   {
    "duration": 10,
    "start_time": "2022-10-28T18:11:47.054Z"
   },
   {
    "duration": 19,
    "start_time": "2022-10-28T18:11:47.065Z"
   },
   {
    "duration": 356,
    "start_time": "2022-10-28T18:11:47.086Z"
   },
   {
    "duration": 9,
    "start_time": "2022-10-28T18:11:47.444Z"
   },
   {
    "duration": 16,
    "start_time": "2022-10-28T18:11:47.455Z"
   },
   {
    "duration": 6,
    "start_time": "2022-10-28T18:11:47.474Z"
   },
   {
    "duration": 6,
    "start_time": "2022-10-28T18:11:47.482Z"
   },
   {
    "duration": 53,
    "start_time": "2022-10-28T18:11:47.490Z"
   },
   {
    "duration": 9,
    "start_time": "2022-10-28T18:11:47.546Z"
   },
   {
    "duration": 144,
    "start_time": "2022-10-28T18:11:47.557Z"
   },
   {
    "duration": 144,
    "start_time": "2022-10-28T18:11:47.705Z"
   },
   {
    "duration": 5,
    "start_time": "2022-10-28T18:11:47.850Z"
   },
   {
    "duration": 21,
    "start_time": "2022-10-28T18:11:47.856Z"
   },
   {
    "duration": 10,
    "start_time": "2022-10-28T18:11:47.879Z"
   },
   {
    "duration": 6,
    "start_time": "2022-10-28T18:11:47.890Z"
   },
   {
    "duration": 10,
    "start_time": "2022-10-28T18:11:47.898Z"
   },
   {
    "duration": 41,
    "start_time": "2022-10-28T18:11:47.909Z"
   },
   {
    "duration": 26,
    "start_time": "2022-10-28T18:11:47.952Z"
   },
   {
    "duration": 180,
    "start_time": "2022-10-28T18:11:47.979Z"
   },
   {
    "duration": 279,
    "start_time": "2022-10-28T18:11:48.161Z"
   },
   {
    "duration": 502,
    "start_time": "2022-10-28T18:11:48.442Z"
   },
   {
    "duration": 93,
    "start_time": "2022-10-28T18:11:48.946Z"
   },
   {
    "duration": 22,
    "start_time": "2022-10-28T18:11:49.041Z"
   },
   {
    "duration": 4,
    "start_time": "2022-10-28T18:11:49.064Z"
   },
   {
    "duration": 161,
    "start_time": "2022-10-28T18:11:49.069Z"
   },
   {
    "duration": 0,
    "start_time": "2022-10-28T18:11:49.231Z"
   },
   {
    "duration": 0,
    "start_time": "2022-10-28T18:11:49.232Z"
   },
   {
    "duration": 0,
    "start_time": "2022-10-28T18:11:49.233Z"
   },
   {
    "duration": 23,
    "start_time": "2022-10-28T18:14:23.850Z"
   },
   {
    "duration": 23,
    "start_time": "2022-10-28T18:14:31.732Z"
   },
   {
    "duration": 20,
    "start_time": "2022-10-28T18:15:27.598Z"
   },
   {
    "duration": 1378,
    "start_time": "2022-10-28T18:15:49.885Z"
   },
   {
    "duration": 44,
    "start_time": "2022-10-28T18:15:51.265Z"
   },
   {
    "duration": 11,
    "start_time": "2022-10-28T18:15:51.311Z"
   },
   {
    "duration": 21,
    "start_time": "2022-10-28T18:15:51.324Z"
   },
   {
    "duration": 13,
    "start_time": "2022-10-28T18:15:51.346Z"
   },
   {
    "duration": 5,
    "start_time": "2022-10-28T18:15:51.360Z"
   },
   {
    "duration": 10,
    "start_time": "2022-10-28T18:15:51.367Z"
   },
   {
    "duration": 10,
    "start_time": "2022-10-28T18:15:51.378Z"
   },
   {
    "duration": 8,
    "start_time": "2022-10-28T18:15:51.390Z"
   },
   {
    "duration": 52,
    "start_time": "2022-10-28T18:15:51.401Z"
   },
   {
    "duration": 526,
    "start_time": "2022-10-28T18:15:51.455Z"
   },
   {
    "duration": 576,
    "start_time": "2022-10-28T18:15:51.984Z"
   },
   {
    "duration": 10,
    "start_time": "2022-10-28T18:15:52.561Z"
   },
   {
    "duration": 12,
    "start_time": "2022-10-28T18:15:52.573Z"
   },
   {
    "duration": 7,
    "start_time": "2022-10-28T18:15:52.587Z"
   },
   {
    "duration": 8,
    "start_time": "2022-10-28T18:15:52.595Z"
   },
   {
    "duration": 35,
    "start_time": "2022-10-28T18:15:52.605Z"
   },
   {
    "duration": 6,
    "start_time": "2022-10-28T18:15:52.642Z"
   },
   {
    "duration": 7,
    "start_time": "2022-10-28T18:15:52.649Z"
   },
   {
    "duration": 6,
    "start_time": "2022-10-28T18:15:52.657Z"
   },
   {
    "duration": 11,
    "start_time": "2022-10-28T18:15:52.664Z"
   },
   {
    "duration": 152,
    "start_time": "2022-10-28T18:15:52.676Z"
   },
   {
    "duration": 34,
    "start_time": "2022-10-28T18:15:52.830Z"
   },
   {
    "duration": 124,
    "start_time": "2022-10-28T18:15:52.865Z"
   },
   {
    "duration": 23,
    "start_time": "2022-10-28T18:15:52.991Z"
   },
   {
    "duration": 29,
    "start_time": "2022-10-28T18:15:53.016Z"
   },
   {
    "duration": 25,
    "start_time": "2022-10-28T18:15:53.047Z"
   },
   {
    "duration": 93,
    "start_time": "2022-10-28T18:15:53.076Z"
   },
   {
    "duration": 6,
    "start_time": "2022-10-28T18:15:53.170Z"
   },
   {
    "duration": 12,
    "start_time": "2022-10-28T18:15:53.177Z"
   },
   {
    "duration": 6,
    "start_time": "2022-10-28T18:15:53.190Z"
   },
   {
    "duration": 15,
    "start_time": "2022-10-28T18:15:53.197Z"
   },
   {
    "duration": 248,
    "start_time": "2022-10-28T18:15:53.238Z"
   },
   {
    "duration": 7,
    "start_time": "2022-10-28T18:15:53.487Z"
   },
   {
    "duration": 13,
    "start_time": "2022-10-28T18:15:53.495Z"
   },
   {
    "duration": 7,
    "start_time": "2022-10-28T18:15:53.509Z"
   },
   {
    "duration": 5,
    "start_time": "2022-10-28T18:15:53.539Z"
   },
   {
    "duration": 22,
    "start_time": "2022-10-28T18:15:53.545Z"
   },
   {
    "duration": 8,
    "start_time": "2022-10-28T18:15:53.568Z"
   },
   {
    "duration": 147,
    "start_time": "2022-10-28T18:15:53.577Z"
   },
   {
    "duration": 149,
    "start_time": "2022-10-28T18:15:53.725Z"
   },
   {
    "duration": 5,
    "start_time": "2022-10-28T18:15:53.875Z"
   },
   {
    "duration": 21,
    "start_time": "2022-10-28T18:15:53.882Z"
   },
   {
    "duration": 35,
    "start_time": "2022-10-28T18:15:53.905Z"
   },
   {
    "duration": 5,
    "start_time": "2022-10-28T18:15:53.942Z"
   },
   {
    "duration": 12,
    "start_time": "2022-10-28T18:15:53.948Z"
   },
   {
    "duration": 13,
    "start_time": "2022-10-28T18:15:53.962Z"
   },
   {
    "duration": 27,
    "start_time": "2022-10-28T18:15:53.978Z"
   },
   {
    "duration": 225,
    "start_time": "2022-10-28T18:15:54.007Z"
   },
   {
    "duration": 314,
    "start_time": "2022-10-28T18:15:54.234Z"
   },
   {
    "duration": 589,
    "start_time": "2022-10-28T18:15:54.550Z"
   },
   {
    "duration": 5,
    "start_time": "2022-10-28T18:15:55.141Z"
   },
   {
    "duration": 107,
    "start_time": "2022-10-28T18:15:55.150Z"
   },
   {
    "duration": 3,
    "start_time": "2022-10-28T18:15:55.259Z"
   },
   {
    "duration": 132,
    "start_time": "2022-10-28T18:15:55.264Z"
   },
   {
    "duration": 0,
    "start_time": "2022-10-28T18:15:55.398Z"
   },
   {
    "duration": 0,
    "start_time": "2022-10-28T18:15:55.400Z"
   },
   {
    "duration": 0,
    "start_time": "2022-10-28T18:15:55.401Z"
   },
   {
    "duration": 20,
    "start_time": "2022-10-28T18:17:39.724Z"
   },
   {
    "duration": 20,
    "start_time": "2022-10-28T18:18:51.743Z"
   },
   {
    "duration": 12,
    "start_time": "2022-10-28T18:44:08.796Z"
   },
   {
    "duration": 12,
    "start_time": "2022-10-28T18:47:49.172Z"
   },
   {
    "duration": 2,
    "start_time": "2022-10-28T18:48:22.401Z"
   },
   {
    "duration": 4,
    "start_time": "2022-10-28T18:48:27.756Z"
   },
   {
    "duration": 13,
    "start_time": "2022-10-28T18:48:31.297Z"
   },
   {
    "duration": 1491,
    "start_time": "2022-10-28T18:49:06.388Z"
   },
   {
    "duration": 59,
    "start_time": "2022-10-28T18:49:07.881Z"
   },
   {
    "duration": 14,
    "start_time": "2022-10-28T18:49:07.942Z"
   },
   {
    "duration": 13,
    "start_time": "2022-10-28T18:49:07.958Z"
   },
   {
    "duration": 14,
    "start_time": "2022-10-28T18:49:07.972Z"
   },
   {
    "duration": 4,
    "start_time": "2022-10-28T18:49:07.988Z"
   },
   {
    "duration": 12,
    "start_time": "2022-10-28T18:49:07.994Z"
   },
   {
    "duration": 42,
    "start_time": "2022-10-28T18:49:08.008Z"
   },
   {
    "duration": 8,
    "start_time": "2022-10-28T18:49:08.052Z"
   },
   {
    "duration": 19,
    "start_time": "2022-10-28T18:49:08.063Z"
   },
   {
    "duration": 592,
    "start_time": "2022-10-28T18:49:08.083Z"
   },
   {
    "duration": 571,
    "start_time": "2022-10-28T18:49:08.677Z"
   },
   {
    "duration": 10,
    "start_time": "2022-10-28T18:49:09.250Z"
   },
   {
    "duration": 15,
    "start_time": "2022-10-28T18:49:09.262Z"
   },
   {
    "duration": 8,
    "start_time": "2022-10-28T18:49:09.279Z"
   },
   {
    "duration": 7,
    "start_time": "2022-10-28T18:49:09.288Z"
   },
   {
    "duration": 5,
    "start_time": "2022-10-28T18:49:09.296Z"
   },
   {
    "duration": 6,
    "start_time": "2022-10-28T18:49:09.340Z"
   },
   {
    "duration": 6,
    "start_time": "2022-10-28T18:49:09.348Z"
   },
   {
    "duration": 6,
    "start_time": "2022-10-28T18:49:09.356Z"
   },
   {
    "duration": 13,
    "start_time": "2022-10-28T18:49:09.364Z"
   },
   {
    "duration": 164,
    "start_time": "2022-10-28T18:49:09.379Z"
   },
   {
    "duration": 30,
    "start_time": "2022-10-28T18:49:09.545Z"
   },
   {
    "duration": 144,
    "start_time": "2022-10-28T18:49:09.577Z"
   },
   {
    "duration": 31,
    "start_time": "2022-10-28T18:49:09.724Z"
   },
   {
    "duration": 10,
    "start_time": "2022-10-28T18:49:09.758Z"
   },
   {
    "duration": 27,
    "start_time": "2022-10-28T18:49:09.771Z"
   },
   {
    "duration": 108,
    "start_time": "2022-10-28T18:49:09.802Z"
   },
   {
    "duration": 6,
    "start_time": "2022-10-28T18:49:09.912Z"
   },
   {
    "duration": 24,
    "start_time": "2022-10-28T18:49:09.919Z"
   },
   {
    "duration": 8,
    "start_time": "2022-10-28T18:49:09.944Z"
   },
   {
    "duration": 19,
    "start_time": "2022-10-28T18:49:09.954Z"
   },
   {
    "duration": 291,
    "start_time": "2022-10-28T18:49:09.975Z"
   },
   {
    "duration": 8,
    "start_time": "2022-10-28T18:49:10.268Z"
   },
   {
    "duration": 23,
    "start_time": "2022-10-28T18:49:10.277Z"
   },
   {
    "duration": 8,
    "start_time": "2022-10-28T18:49:10.302Z"
   },
   {
    "duration": 7,
    "start_time": "2022-10-28T18:49:10.311Z"
   },
   {
    "duration": 20,
    "start_time": "2022-10-28T18:49:10.339Z"
   },
   {
    "duration": 14,
    "start_time": "2022-10-28T18:49:10.362Z"
   },
   {
    "duration": 164,
    "start_time": "2022-10-28T18:49:10.377Z"
   },
   {
    "duration": 184,
    "start_time": "2022-10-28T18:49:10.543Z"
   },
   {
    "duration": 10,
    "start_time": "2022-10-28T18:49:10.732Z"
   },
   {
    "duration": 32,
    "start_time": "2022-10-28T18:49:10.744Z"
   },
   {
    "duration": 12,
    "start_time": "2022-10-28T18:49:10.778Z"
   },
   {
    "duration": 11,
    "start_time": "2022-10-28T18:49:10.793Z"
   },
   {
    "duration": 10,
    "start_time": "2022-10-28T18:49:10.806Z"
   },
   {
    "duration": 24,
    "start_time": "2022-10-28T18:49:10.823Z"
   },
   {
    "duration": 33,
    "start_time": "2022-10-28T18:49:10.849Z"
   },
   {
    "duration": 161,
    "start_time": "2022-10-28T18:49:10.884Z"
   },
   {
    "duration": 291,
    "start_time": "2022-10-28T18:49:11.047Z"
   },
   {
    "duration": 405,
    "start_time": "2022-10-28T18:49:11.340Z"
   },
   {
    "duration": 5,
    "start_time": "2022-10-28T18:49:11.838Z"
   },
   {
    "duration": 98,
    "start_time": "2022-10-28T18:49:11.846Z"
   },
   {
    "duration": 16,
    "start_time": "2022-10-28T18:49:11.946Z"
   },
   {
    "duration": 7,
    "start_time": "2022-10-28T18:49:11.963Z"
   },
   {
    "duration": 129,
    "start_time": "2022-10-28T18:49:11.971Z"
   },
   {
    "duration": 0,
    "start_time": "2022-10-28T18:49:12.102Z"
   },
   {
    "duration": 0,
    "start_time": "2022-10-28T18:49:12.103Z"
   },
   {
    "duration": 0,
    "start_time": "2022-10-28T18:49:12.104Z"
   },
   {
    "duration": 11,
    "start_time": "2022-10-28T18:56:02.532Z"
   },
   {
    "duration": 1853,
    "start_time": "2022-10-29T08:16:37.611Z"
   },
   {
    "duration": 87,
    "start_time": "2022-10-29T08:16:39.465Z"
   },
   {
    "duration": 13,
    "start_time": "2022-10-29T08:16:39.553Z"
   },
   {
    "duration": 15,
    "start_time": "2022-10-29T08:16:39.568Z"
   },
   {
    "duration": 13,
    "start_time": "2022-10-29T08:16:39.584Z"
   },
   {
    "duration": 5,
    "start_time": "2022-10-29T08:16:39.599Z"
   },
   {
    "duration": 10,
    "start_time": "2022-10-29T08:16:39.606Z"
   },
   {
    "duration": 10,
    "start_time": "2022-10-29T08:16:39.617Z"
   },
   {
    "duration": 7,
    "start_time": "2022-10-29T08:16:39.630Z"
   },
   {
    "duration": 59,
    "start_time": "2022-10-29T08:16:39.641Z"
   },
   {
    "duration": 519,
    "start_time": "2022-10-29T08:16:39.702Z"
   },
   {
    "duration": 569,
    "start_time": "2022-10-29T08:16:40.223Z"
   },
   {
    "duration": 8,
    "start_time": "2022-10-29T08:16:40.794Z"
   },
   {
    "duration": 12,
    "start_time": "2022-10-29T08:16:40.803Z"
   },
   {
    "duration": 6,
    "start_time": "2022-10-29T08:16:40.817Z"
   },
   {
    "duration": 6,
    "start_time": "2022-10-29T08:16:40.824Z"
   },
   {
    "duration": 5,
    "start_time": "2022-10-29T08:16:40.831Z"
   },
   {
    "duration": 6,
    "start_time": "2022-10-29T08:16:40.837Z"
   },
   {
    "duration": 4,
    "start_time": "2022-10-29T08:16:40.844Z"
   },
   {
    "duration": 5,
    "start_time": "2022-10-29T08:16:40.849Z"
   },
   {
    "duration": 44,
    "start_time": "2022-10-29T08:16:40.855Z"
   },
   {
    "duration": 138,
    "start_time": "2022-10-29T08:16:40.901Z"
   },
   {
    "duration": 29,
    "start_time": "2022-10-29T08:16:41.041Z"
   },
   {
    "duration": 132,
    "start_time": "2022-10-29T08:16:41.072Z"
   },
   {
    "duration": 21,
    "start_time": "2022-10-29T08:16:41.206Z"
   },
   {
    "duration": 9,
    "start_time": "2022-10-29T08:16:41.229Z"
   },
   {
    "duration": 51,
    "start_time": "2022-10-29T08:16:41.240Z"
   },
   {
    "duration": 75,
    "start_time": "2022-10-29T08:16:41.295Z"
   },
   {
    "duration": 5,
    "start_time": "2022-10-29T08:16:41.372Z"
   },
   {
    "duration": 10,
    "start_time": "2022-10-29T08:16:41.391Z"
   },
   {
    "duration": 6,
    "start_time": "2022-10-29T08:16:41.402Z"
   },
   {
    "duration": 14,
    "start_time": "2022-10-29T08:16:41.410Z"
   },
   {
    "duration": 283,
    "start_time": "2022-10-29T08:16:41.426Z"
   },
   {
    "duration": 8,
    "start_time": "2022-10-29T08:16:41.711Z"
   },
   {
    "duration": 14,
    "start_time": "2022-10-29T08:16:41.721Z"
   },
   {
    "duration": 20,
    "start_time": "2022-10-29T08:16:41.736Z"
   },
   {
    "duration": 7,
    "start_time": "2022-10-29T08:16:41.758Z"
   },
   {
    "duration": 35,
    "start_time": "2022-10-29T08:16:41.767Z"
   },
   {
    "duration": 9,
    "start_time": "2022-10-29T08:16:41.804Z"
   },
   {
    "duration": 142,
    "start_time": "2022-10-29T08:16:41.814Z"
   },
   {
    "duration": 245,
    "start_time": "2022-10-29T08:16:41.957Z"
   },
   {
    "duration": 4,
    "start_time": "2022-10-29T08:16:42.203Z"
   },
   {
    "duration": 13,
    "start_time": "2022-10-29T08:16:42.209Z"
   },
   {
    "duration": 9,
    "start_time": "2022-10-29T08:16:42.224Z"
   },
   {
    "duration": 4,
    "start_time": "2022-10-29T08:16:42.291Z"
   },
   {
    "duration": 9,
    "start_time": "2022-10-29T08:16:42.296Z"
   },
   {
    "duration": 10,
    "start_time": "2022-10-29T08:16:42.307Z"
   },
   {
    "duration": 73,
    "start_time": "2022-10-29T08:16:42.319Z"
   },
   {
    "duration": 298,
    "start_time": "2022-10-29T08:16:42.393Z"
   },
   {
    "duration": 444,
    "start_time": "2022-10-29T08:16:42.693Z"
   },
   {
    "duration": 901,
    "start_time": "2022-10-29T08:16:43.190Z"
   },
   {
    "duration": 3,
    "start_time": "2022-10-29T08:16:44.093Z"
   },
   {
    "duration": 11,
    "start_time": "2022-10-29T08:16:44.097Z"
   },
   {
    "duration": 19,
    "start_time": "2022-10-29T08:16:44.109Z"
   },
   {
    "duration": 7,
    "start_time": "2022-10-29T08:16:44.129Z"
   },
   {
    "duration": 255,
    "start_time": "2022-10-29T08:16:44.137Z"
   },
   {
    "duration": 0,
    "start_time": "2022-10-29T08:16:44.394Z"
   },
   {
    "duration": 0,
    "start_time": "2022-10-29T08:16:44.395Z"
   },
   {
    "duration": 0,
    "start_time": "2022-10-29T08:16:44.396Z"
   },
   {
    "duration": 1475,
    "start_time": "2022-10-29T08:39:11.147Z"
   },
   {
    "duration": 44,
    "start_time": "2022-10-29T08:39:12.624Z"
   },
   {
    "duration": 15,
    "start_time": "2022-10-29T08:39:12.670Z"
   },
   {
    "duration": 14,
    "start_time": "2022-10-29T08:39:12.686Z"
   },
   {
    "duration": 2,
    "start_time": "2022-10-29T08:39:12.702Z"
   },
   {
    "duration": 15,
    "start_time": "2022-10-29T08:39:12.706Z"
   },
   {
    "duration": 4,
    "start_time": "2022-10-29T08:39:12.723Z"
   },
   {
    "duration": 9,
    "start_time": "2022-10-29T08:39:12.729Z"
   },
   {
    "duration": 9,
    "start_time": "2022-10-29T08:39:12.740Z"
   },
   {
    "duration": 7,
    "start_time": "2022-10-29T08:39:12.751Z"
   },
   {
    "duration": 18,
    "start_time": "2022-10-29T08:39:12.791Z"
   },
   {
    "duration": 514,
    "start_time": "2022-10-29T08:39:12.810Z"
   },
   {
    "duration": 577,
    "start_time": "2022-10-29T08:39:13.326Z"
   },
   {
    "duration": 10,
    "start_time": "2022-10-29T08:39:13.906Z"
   },
   {
    "duration": 16,
    "start_time": "2022-10-29T08:39:13.917Z"
   },
   {
    "duration": 7,
    "start_time": "2022-10-29T08:39:13.934Z"
   },
   {
    "duration": 6,
    "start_time": "2022-10-29T08:39:13.943Z"
   },
   {
    "duration": 5,
    "start_time": "2022-10-29T08:39:13.950Z"
   },
   {
    "duration": 34,
    "start_time": "2022-10-29T08:39:13.957Z"
   },
   {
    "duration": 7,
    "start_time": "2022-10-29T08:39:13.993Z"
   },
   {
    "duration": 6,
    "start_time": "2022-10-29T08:39:14.002Z"
   },
   {
    "duration": 10,
    "start_time": "2022-10-29T08:39:14.010Z"
   },
   {
    "duration": 148,
    "start_time": "2022-10-29T08:39:14.021Z"
   },
   {
    "duration": 40,
    "start_time": "2022-10-29T08:39:14.171Z"
   },
   {
    "duration": 132,
    "start_time": "2022-10-29T08:39:14.214Z"
   },
   {
    "duration": 25,
    "start_time": "2022-10-29T08:39:14.348Z"
   },
   {
    "duration": 10,
    "start_time": "2022-10-29T08:39:14.391Z"
   },
   {
    "duration": 31,
    "start_time": "2022-10-29T08:39:14.402Z"
   },
   {
    "duration": 105,
    "start_time": "2022-10-29T08:39:14.435Z"
   },
   {
    "duration": 6,
    "start_time": "2022-10-29T08:39:14.542Z"
   },
   {
    "duration": 11,
    "start_time": "2022-10-29T08:39:14.549Z"
   },
   {
    "duration": 7,
    "start_time": "2022-10-29T08:39:14.562Z"
   },
   {
    "duration": 14,
    "start_time": "2022-10-29T08:39:14.590Z"
   },
   {
    "duration": 280,
    "start_time": "2022-10-29T08:39:14.606Z"
   },
   {
    "duration": 7,
    "start_time": "2022-10-29T08:39:14.890Z"
   },
   {
    "duration": 12,
    "start_time": "2022-10-29T08:39:14.899Z"
   },
   {
    "duration": 8,
    "start_time": "2022-10-29T08:39:14.913Z"
   },
   {
    "duration": 6,
    "start_time": "2022-10-29T08:39:14.922Z"
   },
   {
    "duration": 16,
    "start_time": "2022-10-29T08:39:14.930Z"
   },
   {
    "duration": 46,
    "start_time": "2022-10-29T08:39:14.948Z"
   },
   {
    "duration": 148,
    "start_time": "2022-10-29T08:39:14.998Z"
   },
   {
    "duration": 150,
    "start_time": "2022-10-29T08:39:15.148Z"
   },
   {
    "duration": 5,
    "start_time": "2022-10-29T08:39:15.300Z"
   },
   {
    "duration": 14,
    "start_time": "2022-10-29T08:39:15.306Z"
   },
   {
    "duration": 10,
    "start_time": "2022-10-29T08:39:15.322Z"
   },
   {
    "duration": 5,
    "start_time": "2022-10-29T08:39:15.333Z"
   },
   {
    "duration": 9,
    "start_time": "2022-10-29T08:39:15.339Z"
   },
   {
    "duration": 44,
    "start_time": "2022-10-29T08:39:15.350Z"
   },
   {
    "duration": 24,
    "start_time": "2022-10-29T08:39:15.395Z"
   },
   {
    "duration": 153,
    "start_time": "2022-10-29T08:39:15.420Z"
   },
   {
    "duration": 296,
    "start_time": "2022-10-29T08:39:15.574Z"
   },
   {
    "duration": 524,
    "start_time": "2022-10-29T08:39:15.871Z"
   },
   {
    "duration": 4,
    "start_time": "2022-10-29T08:39:16.397Z"
   },
   {
    "duration": 5,
    "start_time": "2022-10-29T08:39:16.492Z"
   },
   {
    "duration": 95,
    "start_time": "2022-10-29T08:39:16.499Z"
   },
   {
    "duration": 5,
    "start_time": "2022-10-29T08:39:16.596Z"
   },
   {
    "duration": 168,
    "start_time": "2022-10-29T08:39:16.603Z"
   },
   {
    "duration": 0,
    "start_time": "2022-10-29T08:39:16.773Z"
   },
   {
    "duration": 0,
    "start_time": "2022-10-29T08:39:16.774Z"
   },
   {
    "duration": 0,
    "start_time": "2022-10-29T08:39:16.775Z"
   },
   {
    "duration": 1534,
    "start_time": "2022-10-29T08:40:56.977Z"
   },
   {
    "duration": 50,
    "start_time": "2022-10-29T08:40:58.513Z"
   },
   {
    "duration": 14,
    "start_time": "2022-10-29T08:40:58.565Z"
   },
   {
    "duration": 15,
    "start_time": "2022-10-29T08:40:58.580Z"
   },
   {
    "duration": 3,
    "start_time": "2022-10-29T08:40:58.597Z"
   },
   {
    "duration": 17,
    "start_time": "2022-10-29T08:40:58.601Z"
   },
   {
    "duration": 5,
    "start_time": "2022-10-29T08:40:58.620Z"
   },
   {
    "duration": 16,
    "start_time": "2022-10-29T08:40:58.627Z"
   },
   {
    "duration": 11,
    "start_time": "2022-10-29T08:40:58.645Z"
   },
   {
    "duration": 36,
    "start_time": "2022-10-29T08:40:58.659Z"
   },
   {
    "duration": 19,
    "start_time": "2022-10-29T08:40:58.697Z"
   },
   {
    "duration": 619,
    "start_time": "2022-10-29T08:40:58.718Z"
   },
   {
    "duration": 583,
    "start_time": "2022-10-29T08:40:59.339Z"
   },
   {
    "duration": 10,
    "start_time": "2022-10-29T08:40:59.924Z"
   },
   {
    "duration": 15,
    "start_time": "2022-10-29T08:40:59.936Z"
   },
   {
    "duration": 7,
    "start_time": "2022-10-29T08:40:59.953Z"
   },
   {
    "duration": 6,
    "start_time": "2022-10-29T08:40:59.962Z"
   },
   {
    "duration": 25,
    "start_time": "2022-10-29T08:40:59.969Z"
   },
   {
    "duration": 7,
    "start_time": "2022-10-29T08:40:59.996Z"
   },
   {
    "duration": 10,
    "start_time": "2022-10-29T08:41:00.006Z"
   },
   {
    "duration": 5,
    "start_time": "2022-10-29T08:41:00.018Z"
   },
   {
    "duration": 18,
    "start_time": "2022-10-29T08:41:00.025Z"
   },
   {
    "duration": 157,
    "start_time": "2022-10-29T08:41:00.045Z"
   },
   {
    "duration": 31,
    "start_time": "2022-10-29T08:41:00.204Z"
   },
   {
    "duration": 133,
    "start_time": "2022-10-29T08:41:00.237Z"
   },
   {
    "duration": 35,
    "start_time": "2022-10-29T08:41:00.372Z"
   },
   {
    "duration": 17,
    "start_time": "2022-10-29T08:41:00.409Z"
   },
   {
    "duration": 36,
    "start_time": "2022-10-29T08:41:00.428Z"
   },
   {
    "duration": 117,
    "start_time": "2022-10-29T08:41:00.466Z"
   },
   {
    "duration": 7,
    "start_time": "2022-10-29T08:41:00.585Z"
   },
   {
    "duration": 91,
    "start_time": "2022-10-29T08:41:00.593Z"
   },
   {
    "duration": 19,
    "start_time": "2022-10-29T08:41:00.685Z"
   },
   {
    "duration": 22,
    "start_time": "2022-10-29T08:41:00.705Z"
   },
   {
    "duration": 274,
    "start_time": "2022-10-29T08:41:00.729Z"
   },
   {
    "duration": 9,
    "start_time": "2022-10-29T08:41:01.004Z"
   },
   {
    "duration": 14,
    "start_time": "2022-10-29T08:41:01.015Z"
   },
   {
    "duration": 8,
    "start_time": "2022-10-29T08:41:01.032Z"
   },
   {
    "duration": 6,
    "start_time": "2022-10-29T08:41:01.042Z"
   },
   {
    "duration": 54,
    "start_time": "2022-10-29T08:41:01.051Z"
   },
   {
    "duration": 24,
    "start_time": "2022-10-29T08:41:01.107Z"
   },
   {
    "duration": 156,
    "start_time": "2022-10-29T08:41:01.135Z"
   },
   {
    "duration": 169,
    "start_time": "2022-10-29T08:41:01.292Z"
   },
   {
    "duration": 6,
    "start_time": "2022-10-29T08:41:01.463Z"
   },
   {
    "duration": 30,
    "start_time": "2022-10-29T08:41:01.471Z"
   },
   {
    "duration": 11,
    "start_time": "2022-10-29T08:41:01.503Z"
   },
   {
    "duration": 10,
    "start_time": "2022-10-29T08:41:01.516Z"
   },
   {
    "duration": 11,
    "start_time": "2022-10-29T08:41:01.528Z"
   },
   {
    "duration": 15,
    "start_time": "2022-10-29T08:41:01.540Z"
   },
   {
    "duration": 52,
    "start_time": "2022-10-29T08:41:01.557Z"
   },
   {
    "duration": 158,
    "start_time": "2022-10-29T08:41:01.610Z"
   },
   {
    "duration": 355,
    "start_time": "2022-10-29T08:41:01.770Z"
   },
   {
    "duration": 469,
    "start_time": "2022-10-29T08:41:02.126Z"
   },
   {
    "duration": 94,
    "start_time": "2022-10-29T08:41:02.597Z"
   },
   {
    "duration": 2,
    "start_time": "2022-10-29T08:41:02.694Z"
   },
   {
    "duration": 95,
    "start_time": "2022-10-29T08:41:02.698Z"
   },
   {
    "duration": 5,
    "start_time": "2022-10-29T08:41:02.795Z"
   },
   {
    "duration": 235,
    "start_time": "2022-10-29T08:41:02.802Z"
   },
   {
    "duration": 0,
    "start_time": "2022-10-29T08:41:03.091Z"
   },
   {
    "duration": 0,
    "start_time": "2022-10-29T08:41:03.093Z"
   },
   {
    "duration": 0,
    "start_time": "2022-10-29T08:41:03.093Z"
   },
   {
    "duration": 6,
    "start_time": "2022-10-29T08:47:55.903Z"
   },
   {
    "duration": 11,
    "start_time": "2022-10-29T08:48:27.646Z"
   },
   {
    "duration": 6,
    "start_time": "2022-10-29T08:48:43.788Z"
   },
   {
    "duration": 1470,
    "start_time": "2022-10-29T08:49:29.654Z"
   },
   {
    "duration": 44,
    "start_time": "2022-10-29T08:49:31.126Z"
   },
   {
    "duration": 14,
    "start_time": "2022-10-29T08:49:31.172Z"
   },
   {
    "duration": 29,
    "start_time": "2022-10-29T08:49:31.188Z"
   },
   {
    "duration": 15,
    "start_time": "2022-10-29T08:49:31.219Z"
   },
   {
    "duration": 38,
    "start_time": "2022-10-29T08:49:31.236Z"
   },
   {
    "duration": 17,
    "start_time": "2022-10-29T08:49:31.275Z"
   },
   {
    "duration": 22,
    "start_time": "2022-10-29T08:49:31.293Z"
   },
   {
    "duration": 11,
    "start_time": "2022-10-29T08:49:31.317Z"
   },
   {
    "duration": 26,
    "start_time": "2022-10-29T08:49:31.332Z"
   },
   {
    "duration": 22,
    "start_time": "2022-10-29T08:49:31.360Z"
   },
   {
    "duration": 542,
    "start_time": "2022-10-29T08:49:31.384Z"
   },
   {
    "duration": 580,
    "start_time": "2022-10-29T08:49:31.927Z"
   },
   {
    "duration": 10,
    "start_time": "2022-10-29T08:49:32.509Z"
   },
   {
    "duration": 16,
    "start_time": "2022-10-29T08:49:32.521Z"
   },
   {
    "duration": 10,
    "start_time": "2022-10-29T08:49:32.539Z"
   },
   {
    "duration": 22,
    "start_time": "2022-10-29T08:49:32.551Z"
   },
   {
    "duration": 17,
    "start_time": "2022-10-29T08:49:32.575Z"
   },
   {
    "duration": 17,
    "start_time": "2022-10-29T08:49:32.594Z"
   },
   {
    "duration": 8,
    "start_time": "2022-10-29T08:49:32.613Z"
   },
   {
    "duration": 16,
    "start_time": "2022-10-29T08:49:32.623Z"
   },
   {
    "duration": 20,
    "start_time": "2022-10-29T08:49:32.641Z"
   },
   {
    "duration": 122,
    "start_time": "2022-10-29T08:49:32.663Z"
   },
   {
    "duration": 27,
    "start_time": "2022-10-29T08:49:32.791Z"
   },
   {
    "duration": 127,
    "start_time": "2022-10-29T08:49:32.820Z"
   },
   {
    "duration": 24,
    "start_time": "2022-10-29T08:49:32.948Z"
   },
   {
    "duration": 9,
    "start_time": "2022-10-29T08:49:32.991Z"
   },
   {
    "duration": 26,
    "start_time": "2022-10-29T08:49:33.004Z"
   },
   {
    "duration": 88,
    "start_time": "2022-10-29T08:49:33.032Z"
   },
   {
    "duration": 6,
    "start_time": "2022-10-29T08:49:33.122Z"
   },
   {
    "duration": 11,
    "start_time": "2022-10-29T08:49:33.129Z"
   },
   {
    "duration": 6,
    "start_time": "2022-10-29T08:49:33.142Z"
   },
   {
    "duration": 12,
    "start_time": "2022-10-29T08:49:33.149Z"
   },
   {
    "duration": 268,
    "start_time": "2022-10-29T08:49:33.191Z"
   },
   {
    "duration": 7,
    "start_time": "2022-10-29T08:49:33.462Z"
   },
   {
    "duration": 28,
    "start_time": "2022-10-29T08:49:33.472Z"
   },
   {
    "duration": 4,
    "start_time": "2022-10-29T08:49:33.502Z"
   },
   {
    "duration": 5,
    "start_time": "2022-10-29T08:49:33.508Z"
   },
   {
    "duration": 16,
    "start_time": "2022-10-29T08:49:33.514Z"
   },
   {
    "duration": 10,
    "start_time": "2022-10-29T08:49:33.532Z"
   },
   {
    "duration": 168,
    "start_time": "2022-10-29T08:49:33.544Z"
   },
   {
    "duration": 141,
    "start_time": "2022-10-29T08:49:33.714Z"
   },
   {
    "duration": 6,
    "start_time": "2022-10-29T08:49:33.857Z"
   },
   {
    "duration": 31,
    "start_time": "2022-10-29T08:49:33.864Z"
   },
   {
    "duration": 11,
    "start_time": "2022-10-29T08:49:33.897Z"
   },
   {
    "duration": 6,
    "start_time": "2022-10-29T08:49:33.910Z"
   },
   {
    "duration": 9,
    "start_time": "2022-10-29T08:49:33.918Z"
   },
   {
    "duration": 8,
    "start_time": "2022-10-29T08:49:33.929Z"
   },
   {
    "duration": 55,
    "start_time": "2022-10-29T08:49:33.939Z"
   },
   {
    "duration": 130,
    "start_time": "2022-10-29T08:49:33.996Z"
   },
   {
    "duration": 0,
    "start_time": "2022-10-29T08:49:34.128Z"
   },
   {
    "duration": 0,
    "start_time": "2022-10-29T08:49:34.130Z"
   },
   {
    "duration": 0,
    "start_time": "2022-10-29T08:49:34.131Z"
   },
   {
    "duration": 0,
    "start_time": "2022-10-29T08:49:34.131Z"
   },
   {
    "duration": 0,
    "start_time": "2022-10-29T08:49:34.133Z"
   },
   {
    "duration": 0,
    "start_time": "2022-10-29T08:49:34.134Z"
   },
   {
    "duration": 0,
    "start_time": "2022-10-29T08:49:34.135Z"
   },
   {
    "duration": 0,
    "start_time": "2022-10-29T08:49:34.136Z"
   },
   {
    "duration": 0,
    "start_time": "2022-10-29T08:49:34.137Z"
   },
   {
    "duration": 0,
    "start_time": "2022-10-29T08:49:34.138Z"
   },
   {
    "duration": 1528,
    "start_time": "2022-10-29T08:56:18.013Z"
   },
   {
    "duration": 71,
    "start_time": "2022-10-29T08:56:19.542Z"
   },
   {
    "duration": 17,
    "start_time": "2022-10-29T08:56:19.616Z"
   },
   {
    "duration": 18,
    "start_time": "2022-10-29T08:56:19.636Z"
   },
   {
    "duration": 3,
    "start_time": "2022-10-29T08:56:19.656Z"
   },
   {
    "duration": 41,
    "start_time": "2022-10-29T08:56:19.661Z"
   },
   {
    "duration": 7,
    "start_time": "2022-10-29T08:56:19.704Z"
   },
   {
    "duration": 15,
    "start_time": "2022-10-29T08:56:19.713Z"
   },
   {
    "duration": 10,
    "start_time": "2022-10-29T08:56:19.730Z"
   },
   {
    "duration": 7,
    "start_time": "2022-10-29T08:56:19.742Z"
   },
   {
    "duration": 51,
    "start_time": "2022-10-29T08:56:19.750Z"
   },
   {
    "duration": 554,
    "start_time": "2022-10-29T08:56:19.804Z"
   },
   {
    "duration": 616,
    "start_time": "2022-10-29T08:56:20.360Z"
   },
   {
    "duration": 17,
    "start_time": "2022-10-29T08:56:20.977Z"
   },
   {
    "duration": 18,
    "start_time": "2022-10-29T08:56:20.996Z"
   },
   {
    "duration": 7,
    "start_time": "2022-10-29T08:56:21.016Z"
   },
   {
    "duration": 12,
    "start_time": "2022-10-29T08:56:21.024Z"
   },
   {
    "duration": 16,
    "start_time": "2022-10-29T08:56:21.038Z"
   },
   {
    "duration": 15,
    "start_time": "2022-10-29T08:56:21.055Z"
   },
   {
    "duration": 6,
    "start_time": "2022-10-29T08:56:21.072Z"
   },
   {
    "duration": 12,
    "start_time": "2022-10-29T08:56:21.079Z"
   },
   {
    "duration": 21,
    "start_time": "2022-10-29T08:56:21.092Z"
   },
   {
    "duration": 142,
    "start_time": "2022-10-29T08:56:21.115Z"
   },
   {
    "duration": 46,
    "start_time": "2022-10-29T08:56:21.258Z"
   },
   {
    "duration": 139,
    "start_time": "2022-10-29T08:56:21.306Z"
   },
   {
    "duration": 26,
    "start_time": "2022-10-29T08:56:21.447Z"
   },
   {
    "duration": 20,
    "start_time": "2022-10-29T08:56:21.492Z"
   },
   {
    "duration": 35,
    "start_time": "2022-10-29T08:56:21.518Z"
   },
   {
    "duration": 91,
    "start_time": "2022-10-29T08:56:21.554Z"
   },
   {
    "duration": 6,
    "start_time": "2022-10-29T08:56:21.647Z"
   },
   {
    "duration": 17,
    "start_time": "2022-10-29T08:56:21.655Z"
   },
   {
    "duration": 9,
    "start_time": "2022-10-29T08:56:21.674Z"
   },
   {
    "duration": 15,
    "start_time": "2022-10-29T08:56:21.691Z"
   },
   {
    "duration": 300,
    "start_time": "2022-10-29T08:56:21.707Z"
   },
   {
    "duration": 8,
    "start_time": "2022-10-29T08:56:22.009Z"
   },
   {
    "duration": 12,
    "start_time": "2022-10-29T08:56:22.019Z"
   },
   {
    "duration": 27,
    "start_time": "2022-10-29T08:56:22.033Z"
   },
   {
    "duration": 21,
    "start_time": "2022-10-29T08:56:22.062Z"
   },
   {
    "duration": 31,
    "start_time": "2022-10-29T08:56:22.085Z"
   },
   {
    "duration": 16,
    "start_time": "2022-10-29T08:56:22.119Z"
   },
   {
    "duration": 151,
    "start_time": "2022-10-29T08:56:22.136Z"
   },
   {
    "duration": 144,
    "start_time": "2022-10-29T08:56:22.290Z"
   },
   {
    "duration": 5,
    "start_time": "2022-10-29T08:56:22.436Z"
   },
   {
    "duration": 37,
    "start_time": "2022-10-29T08:56:22.442Z"
   },
   {
    "duration": 11,
    "start_time": "2022-10-29T08:56:22.480Z"
   },
   {
    "duration": 10,
    "start_time": "2022-10-29T08:56:22.493Z"
   },
   {
    "duration": 22,
    "start_time": "2022-10-29T08:56:22.505Z"
   },
   {
    "duration": 21,
    "start_time": "2022-10-29T08:56:22.528Z"
   },
   {
    "duration": 25,
    "start_time": "2022-10-29T08:56:22.551Z"
   },
   {
    "duration": 140,
    "start_time": "2022-10-29T08:56:22.577Z"
   },
   {
    "duration": 0,
    "start_time": "2022-10-29T08:56:22.719Z"
   },
   {
    "duration": 0,
    "start_time": "2022-10-29T08:56:22.720Z"
   },
   {
    "duration": 0,
    "start_time": "2022-10-29T08:56:22.721Z"
   },
   {
    "duration": 0,
    "start_time": "2022-10-29T08:56:22.722Z"
   },
   {
    "duration": 0,
    "start_time": "2022-10-29T08:56:22.723Z"
   },
   {
    "duration": 0,
    "start_time": "2022-10-29T08:56:22.724Z"
   },
   {
    "duration": 0,
    "start_time": "2022-10-29T08:56:22.724Z"
   },
   {
    "duration": 0,
    "start_time": "2022-10-29T08:56:22.725Z"
   },
   {
    "duration": 0,
    "start_time": "2022-10-29T08:56:22.726Z"
   },
   {
    "duration": 0,
    "start_time": "2022-10-29T08:56:22.727Z"
   },
   {
    "duration": 11,
    "start_time": "2022-10-29T08:56:58.008Z"
   },
   {
    "duration": 1474,
    "start_time": "2022-10-29T08:57:11.940Z"
   },
   {
    "duration": 43,
    "start_time": "2022-10-29T08:57:13.417Z"
   },
   {
    "duration": 13,
    "start_time": "2022-10-29T08:57:13.462Z"
   },
   {
    "duration": 14,
    "start_time": "2022-10-29T08:57:13.478Z"
   },
   {
    "duration": 3,
    "start_time": "2022-10-29T08:57:13.494Z"
   },
   {
    "duration": 18,
    "start_time": "2022-10-29T08:57:13.499Z"
   },
   {
    "duration": 16,
    "start_time": "2022-10-29T08:57:13.520Z"
   },
   {
    "duration": 12,
    "start_time": "2022-10-29T08:57:13.538Z"
   },
   {
    "duration": 12,
    "start_time": "2022-10-29T08:57:13.552Z"
   },
   {
    "duration": 29,
    "start_time": "2022-10-29T08:57:13.566Z"
   },
   {
    "duration": 19,
    "start_time": "2022-10-29T08:57:13.597Z"
   },
   {
    "duration": 513,
    "start_time": "2022-10-29T08:57:13.617Z"
   },
   {
    "duration": 584,
    "start_time": "2022-10-29T08:57:14.132Z"
   },
   {
    "duration": 10,
    "start_time": "2022-10-29T08:57:14.721Z"
   },
   {
    "duration": 11,
    "start_time": "2022-10-29T08:57:14.733Z"
   },
   {
    "duration": 9,
    "start_time": "2022-10-29T08:57:14.745Z"
   },
   {
    "duration": 6,
    "start_time": "2022-10-29T08:57:14.756Z"
   },
   {
    "duration": 29,
    "start_time": "2022-10-29T08:57:14.764Z"
   },
   {
    "duration": 6,
    "start_time": "2022-10-29T08:57:14.796Z"
   },
   {
    "duration": 7,
    "start_time": "2022-10-29T08:57:14.804Z"
   },
   {
    "duration": 5,
    "start_time": "2022-10-29T08:57:14.812Z"
   },
   {
    "duration": 11,
    "start_time": "2022-10-29T08:57:14.818Z"
   },
   {
    "duration": 177,
    "start_time": "2022-10-29T08:57:14.831Z"
   },
   {
    "duration": 31,
    "start_time": "2022-10-29T08:57:15.010Z"
   },
   {
    "duration": 131,
    "start_time": "2022-10-29T08:57:15.043Z"
   },
   {
    "duration": 39,
    "start_time": "2022-10-29T08:57:15.176Z"
   },
   {
    "duration": 18,
    "start_time": "2022-10-29T08:57:15.218Z"
   },
   {
    "duration": 29,
    "start_time": "2022-10-29T08:57:15.238Z"
   },
   {
    "duration": 71,
    "start_time": "2022-10-29T08:57:15.290Z"
   },
   {
    "duration": 6,
    "start_time": "2022-10-29T08:57:15.363Z"
   },
   {
    "duration": 11,
    "start_time": "2022-10-29T08:57:15.390Z"
   },
   {
    "duration": 6,
    "start_time": "2022-10-29T08:57:15.403Z"
   },
   {
    "duration": 10,
    "start_time": "2022-10-29T08:57:15.410Z"
   },
   {
    "duration": 257,
    "start_time": "2022-10-29T08:57:15.422Z"
   },
   {
    "duration": 13,
    "start_time": "2022-10-29T08:57:15.681Z"
   },
   {
    "duration": 13,
    "start_time": "2022-10-29T08:57:15.695Z"
   },
   {
    "duration": 5,
    "start_time": "2022-10-29T08:57:15.710Z"
   },
   {
    "duration": 7,
    "start_time": "2022-10-29T08:57:15.717Z"
   },
   {
    "duration": 15,
    "start_time": "2022-10-29T08:57:15.726Z"
   },
   {
    "duration": 9,
    "start_time": "2022-10-29T08:57:15.743Z"
   },
   {
    "duration": 180,
    "start_time": "2022-10-29T08:57:15.757Z"
   },
   {
    "duration": 149,
    "start_time": "2022-10-29T08:57:15.939Z"
   },
   {
    "duration": 5,
    "start_time": "2022-10-29T08:57:16.090Z"
   },
   {
    "duration": 15,
    "start_time": "2022-10-29T08:57:16.097Z"
   },
   {
    "duration": 25,
    "start_time": "2022-10-29T08:57:16.114Z"
   },
   {
    "duration": 15,
    "start_time": "2022-10-29T08:57:16.140Z"
   },
   {
    "duration": 8,
    "start_time": "2022-10-29T08:57:16.157Z"
   },
   {
    "duration": 26,
    "start_time": "2022-10-29T08:57:16.166Z"
   },
   {
    "duration": 17,
    "start_time": "2022-10-29T08:57:16.193Z"
   },
   {
    "duration": 122,
    "start_time": "2022-10-29T08:57:16.212Z"
   },
   {
    "duration": 0,
    "start_time": "2022-10-29T08:57:16.335Z"
   },
   {
    "duration": 0,
    "start_time": "2022-10-29T08:57:16.337Z"
   },
   {
    "duration": 0,
    "start_time": "2022-10-29T08:57:16.338Z"
   },
   {
    "duration": 0,
    "start_time": "2022-10-29T08:57:16.339Z"
   },
   {
    "duration": 0,
    "start_time": "2022-10-29T08:57:16.340Z"
   },
   {
    "duration": 0,
    "start_time": "2022-10-29T08:57:16.341Z"
   },
   {
    "duration": 0,
    "start_time": "2022-10-29T08:57:16.342Z"
   },
   {
    "duration": 0,
    "start_time": "2022-10-29T08:57:16.343Z"
   },
   {
    "duration": 0,
    "start_time": "2022-10-29T08:57:16.344Z"
   },
   {
    "duration": 0,
    "start_time": "2022-10-29T08:57:16.345Z"
   },
   {
    "duration": 9,
    "start_time": "2022-10-29T09:06:06.114Z"
   },
   {
    "duration": 16,
    "start_time": "2022-10-29T09:09:26.003Z"
   },
   {
    "duration": 6,
    "start_time": "2022-10-29T09:09:51.175Z"
   },
   {
    "duration": 8,
    "start_time": "2022-10-29T09:09:57.106Z"
   },
   {
    "duration": 12,
    "start_time": "2022-10-29T09:09:59.755Z"
   },
   {
    "duration": 1434,
    "start_time": "2022-10-29T09:12:59.929Z"
   },
   {
    "duration": 43,
    "start_time": "2022-10-29T09:13:01.365Z"
   },
   {
    "duration": 13,
    "start_time": "2022-10-29T09:13:01.410Z"
   },
   {
    "duration": 15,
    "start_time": "2022-10-29T09:13:01.424Z"
   },
   {
    "duration": 3,
    "start_time": "2022-10-29T09:13:01.441Z"
   },
   {
    "duration": 15,
    "start_time": "2022-10-29T09:13:01.446Z"
   },
   {
    "duration": 29,
    "start_time": "2022-10-29T09:13:01.463Z"
   },
   {
    "duration": 12,
    "start_time": "2022-10-29T09:13:01.493Z"
   },
   {
    "duration": 9,
    "start_time": "2022-10-29T09:13:01.506Z"
   },
   {
    "duration": 15,
    "start_time": "2022-10-29T09:13:01.517Z"
   },
   {
    "duration": 23,
    "start_time": "2022-10-29T09:13:01.534Z"
   },
   {
    "duration": 566,
    "start_time": "2022-10-29T09:13:01.558Z"
   },
   {
    "duration": 574,
    "start_time": "2022-10-29T09:13:02.126Z"
   },
   {
    "duration": 10,
    "start_time": "2022-10-29T09:13:02.703Z"
   },
   {
    "duration": 37,
    "start_time": "2022-10-29T09:13:02.715Z"
   },
   {
    "duration": 20,
    "start_time": "2022-10-29T09:13:02.754Z"
   },
   {
    "duration": 26,
    "start_time": "2022-10-29T09:13:02.776Z"
   },
   {
    "duration": 5,
    "start_time": "2022-10-29T09:13:02.804Z"
   },
   {
    "duration": 6,
    "start_time": "2022-10-29T09:13:02.811Z"
   },
   {
    "duration": 5,
    "start_time": "2022-10-29T09:13:02.818Z"
   },
   {
    "duration": 8,
    "start_time": "2022-10-29T09:13:02.824Z"
   },
   {
    "duration": 12,
    "start_time": "2022-10-29T09:13:02.834Z"
   },
   {
    "duration": 148,
    "start_time": "2022-10-29T09:13:02.847Z"
   },
   {
    "duration": 29,
    "start_time": "2022-10-29T09:13:02.996Z"
   },
   {
    "duration": 131,
    "start_time": "2022-10-29T09:13:03.026Z"
   },
   {
    "duration": 33,
    "start_time": "2022-10-29T09:13:03.159Z"
   },
   {
    "duration": 9,
    "start_time": "2022-10-29T09:13:03.193Z"
   },
   {
    "duration": 26,
    "start_time": "2022-10-29T09:13:03.203Z"
   },
   {
    "duration": 106,
    "start_time": "2022-10-29T09:13:03.230Z"
   },
   {
    "duration": 6,
    "start_time": "2022-10-29T09:13:03.337Z"
   },
   {
    "duration": 13,
    "start_time": "2022-10-29T09:13:03.345Z"
   },
   {
    "duration": 17,
    "start_time": "2022-10-29T09:13:03.359Z"
   },
   {
    "duration": 23,
    "start_time": "2022-10-29T09:13:03.377Z"
   },
   {
    "duration": 261,
    "start_time": "2022-10-29T09:13:03.402Z"
   },
   {
    "duration": 7,
    "start_time": "2022-10-29T09:13:03.665Z"
   },
   {
    "duration": 24,
    "start_time": "2022-10-29T09:13:03.673Z"
   },
   {
    "duration": 5,
    "start_time": "2022-10-29T09:13:03.698Z"
   },
   {
    "duration": 6,
    "start_time": "2022-10-29T09:13:03.705Z"
   },
   {
    "duration": 16,
    "start_time": "2022-10-29T09:13:03.712Z"
   },
   {
    "duration": 9,
    "start_time": "2022-10-29T09:13:03.730Z"
   },
   {
    "duration": 180,
    "start_time": "2022-10-29T09:13:03.743Z"
   },
   {
    "duration": 148,
    "start_time": "2022-10-29T09:13:03.924Z"
   },
   {
    "duration": 5,
    "start_time": "2022-10-29T09:13:04.074Z"
   },
   {
    "duration": 24,
    "start_time": "2022-10-29T09:13:04.080Z"
   },
   {
    "duration": 8,
    "start_time": "2022-10-29T09:13:04.106Z"
   },
   {
    "duration": 17,
    "start_time": "2022-10-29T09:13:04.116Z"
   },
   {
    "duration": 7,
    "start_time": "2022-10-29T09:13:04.135Z"
   },
   {
    "duration": 8,
    "start_time": "2022-10-29T09:13:04.144Z"
   },
   {
    "duration": 40,
    "start_time": "2022-10-29T09:13:04.154Z"
   },
   {
    "duration": 20,
    "start_time": "2022-10-29T09:13:04.196Z"
   },
   {
    "duration": 163,
    "start_time": "2022-10-29T09:13:04.218Z"
   },
   {
    "duration": 309,
    "start_time": "2022-10-29T09:13:04.383Z"
   },
   {
    "duration": 402,
    "start_time": "2022-10-29T09:13:04.694Z"
   },
   {
    "duration": 4,
    "start_time": "2022-10-29T09:13:05.190Z"
   },
   {
    "duration": 4,
    "start_time": "2022-10-29T09:13:05.196Z"
   },
   {
    "duration": 15,
    "start_time": "2022-10-29T09:13:05.201Z"
   },
   {
    "duration": 3,
    "start_time": "2022-10-29T09:13:05.218Z"
   },
   {
    "duration": 133,
    "start_time": "2022-10-29T09:13:05.223Z"
   },
   {
    "duration": 0,
    "start_time": "2022-10-29T09:13:05.357Z"
   },
   {
    "duration": 0,
    "start_time": "2022-10-29T09:13:05.358Z"
   },
   {
    "duration": 0,
    "start_time": "2022-10-29T09:13:05.360Z"
   },
   {
    "duration": 1413,
    "start_time": "2022-10-29T09:18:32.607Z"
   },
   {
    "duration": 41,
    "start_time": "2022-10-29T09:18:34.022Z"
   },
   {
    "duration": 12,
    "start_time": "2022-10-29T09:18:34.065Z"
   },
   {
    "duration": 27,
    "start_time": "2022-10-29T09:18:34.079Z"
   },
   {
    "duration": 6,
    "start_time": "2022-10-29T09:18:34.108Z"
   },
   {
    "duration": 35,
    "start_time": "2022-10-29T09:18:34.115Z"
   },
   {
    "duration": 16,
    "start_time": "2022-10-29T09:18:34.152Z"
   },
   {
    "duration": 30,
    "start_time": "2022-10-29T09:18:34.169Z"
   },
   {
    "duration": 14,
    "start_time": "2022-10-29T09:18:34.200Z"
   },
   {
    "duration": 8,
    "start_time": "2022-10-29T09:18:34.216Z"
   },
   {
    "duration": 32,
    "start_time": "2022-10-29T09:18:34.226Z"
   },
   {
    "duration": 580,
    "start_time": "2022-10-29T09:18:34.259Z"
   },
   {
    "duration": 610,
    "start_time": "2022-10-29T09:18:34.840Z"
   },
   {
    "duration": 10,
    "start_time": "2022-10-29T09:18:35.454Z"
   },
   {
    "duration": 30,
    "start_time": "2022-10-29T09:18:35.466Z"
   },
   {
    "duration": 7,
    "start_time": "2022-10-29T09:18:35.497Z"
   },
   {
    "duration": 7,
    "start_time": "2022-10-29T09:18:35.506Z"
   },
   {
    "duration": 8,
    "start_time": "2022-10-29T09:18:35.514Z"
   },
   {
    "duration": 7,
    "start_time": "2022-10-29T09:18:35.524Z"
   },
   {
    "duration": 4,
    "start_time": "2022-10-29T09:18:35.532Z"
   },
   {
    "duration": 5,
    "start_time": "2022-10-29T09:18:35.538Z"
   },
   {
    "duration": 52,
    "start_time": "2022-10-29T09:18:35.545Z"
   },
   {
    "duration": 157,
    "start_time": "2022-10-29T09:18:35.599Z"
   },
   {
    "duration": 47,
    "start_time": "2022-10-29T09:18:35.758Z"
   },
   {
    "duration": 123,
    "start_time": "2022-10-29T09:18:35.808Z"
   },
   {
    "duration": 25,
    "start_time": "2022-10-29T09:18:35.933Z"
   },
   {
    "duration": 33,
    "start_time": "2022-10-29T09:18:35.960Z"
   },
   {
    "duration": 35,
    "start_time": "2022-10-29T09:18:35.995Z"
   },
   {
    "duration": 136,
    "start_time": "2022-10-29T09:18:36.032Z"
   },
   {
    "duration": 9,
    "start_time": "2022-10-29T09:18:36.170Z"
   },
   {
    "duration": 13,
    "start_time": "2022-10-29T09:18:36.192Z"
   },
   {
    "duration": 15,
    "start_time": "2022-10-29T09:18:36.207Z"
   },
   {
    "duration": 13,
    "start_time": "2022-10-29T09:18:36.224Z"
   },
   {
    "duration": 324,
    "start_time": "2022-10-29T09:18:36.239Z"
   },
   {
    "duration": 9,
    "start_time": "2022-10-29T09:18:36.565Z"
   },
   {
    "duration": 15,
    "start_time": "2022-10-29T09:18:36.591Z"
   },
   {
    "duration": 5,
    "start_time": "2022-10-29T09:18:36.608Z"
   },
   {
    "duration": 7,
    "start_time": "2022-10-29T09:18:36.615Z"
   },
   {
    "duration": 20,
    "start_time": "2022-10-29T09:18:36.626Z"
   },
   {
    "duration": 44,
    "start_time": "2022-10-29T09:18:36.649Z"
   },
   {
    "duration": 193,
    "start_time": "2022-10-29T09:18:36.698Z"
   },
   {
    "duration": 146,
    "start_time": "2022-10-29T09:18:36.893Z"
   },
   {
    "duration": 6,
    "start_time": "2022-10-29T09:18:37.041Z"
   },
   {
    "duration": 19,
    "start_time": "2022-10-29T09:18:37.049Z"
   },
   {
    "duration": 26,
    "start_time": "2022-10-29T09:18:37.070Z"
   },
   {
    "duration": 10,
    "start_time": "2022-10-29T09:18:37.098Z"
   },
   {
    "duration": 8,
    "start_time": "2022-10-29T09:18:37.109Z"
   },
   {
    "duration": 7,
    "start_time": "2022-10-29T09:18:37.118Z"
   },
   {
    "duration": 13,
    "start_time": "2022-10-29T09:18:37.127Z"
   },
   {
    "duration": 24,
    "start_time": "2022-10-29T09:18:37.141Z"
   },
   {
    "duration": 149,
    "start_time": "2022-10-29T09:18:37.190Z"
   },
   {
    "duration": 308,
    "start_time": "2022-10-29T09:18:37.341Z"
   },
   {
    "duration": 441,
    "start_time": "2022-10-29T09:18:37.651Z"
   },
   {
    "duration": 4,
    "start_time": "2022-10-29T09:18:38.094Z"
   },
   {
    "duration": 88,
    "start_time": "2022-10-29T09:18:38.107Z"
   },
   {
    "duration": 19,
    "start_time": "2022-10-29T09:18:38.197Z"
   },
   {
    "duration": 4,
    "start_time": "2022-10-29T09:18:38.218Z"
   },
   {
    "duration": 142,
    "start_time": "2022-10-29T09:18:38.224Z"
   },
   {
    "duration": 0,
    "start_time": "2022-10-29T09:18:38.368Z"
   },
   {
    "duration": 0,
    "start_time": "2022-10-29T09:18:38.369Z"
   },
   {
    "duration": 0,
    "start_time": "2022-10-29T09:18:38.370Z"
   },
   {
    "duration": 13,
    "start_time": "2022-10-29T09:20:22.929Z"
   },
   {
    "duration": 12,
    "start_time": "2022-10-29T09:20:24.750Z"
   },
   {
    "duration": 1487,
    "start_time": "2022-10-29T09:21:15.796Z"
   },
   {
    "duration": 43,
    "start_time": "2022-10-29T09:21:17.285Z"
   },
   {
    "duration": 13,
    "start_time": "2022-10-29T09:21:17.330Z"
   },
   {
    "duration": 13,
    "start_time": "2022-10-29T09:21:17.345Z"
   },
   {
    "duration": 2,
    "start_time": "2022-10-29T09:21:17.360Z"
   },
   {
    "duration": 14,
    "start_time": "2022-10-29T09:21:17.364Z"
   },
   {
    "duration": 5,
    "start_time": "2022-10-29T09:21:17.391Z"
   },
   {
    "duration": 10,
    "start_time": "2022-10-29T09:21:17.398Z"
   },
   {
    "duration": 9,
    "start_time": "2022-10-29T09:21:17.409Z"
   },
   {
    "duration": 7,
    "start_time": "2022-10-29T09:21:17.421Z"
   },
   {
    "duration": 17,
    "start_time": "2022-10-29T09:21:17.429Z"
   },
   {
    "duration": 571,
    "start_time": "2022-10-29T09:21:17.447Z"
   },
   {
    "duration": 573,
    "start_time": "2022-10-29T09:21:18.020Z"
   },
   {
    "duration": 9,
    "start_time": "2022-10-29T09:21:18.595Z"
   },
   {
    "duration": 30,
    "start_time": "2022-10-29T09:21:18.606Z"
   },
   {
    "duration": 8,
    "start_time": "2022-10-29T09:21:18.638Z"
   },
   {
    "duration": 16,
    "start_time": "2022-10-29T09:21:18.648Z"
   },
   {
    "duration": 6,
    "start_time": "2022-10-29T09:21:18.665Z"
   },
   {
    "duration": 25,
    "start_time": "2022-10-29T09:21:18.673Z"
   },
   {
    "duration": 14,
    "start_time": "2022-10-29T09:21:18.700Z"
   },
   {
    "duration": 14,
    "start_time": "2022-10-29T09:21:18.715Z"
   },
   {
    "duration": 24,
    "start_time": "2022-10-29T09:21:18.730Z"
   },
   {
    "duration": 142,
    "start_time": "2022-10-29T09:21:18.756Z"
   },
   {
    "duration": 36,
    "start_time": "2022-10-29T09:21:18.900Z"
   },
   {
    "duration": 154,
    "start_time": "2022-10-29T09:21:18.938Z"
   },
   {
    "duration": 24,
    "start_time": "2022-10-29T09:21:19.094Z"
   },
   {
    "duration": 13,
    "start_time": "2022-10-29T09:21:19.120Z"
   },
   {
    "duration": 27,
    "start_time": "2022-10-29T09:21:19.138Z"
   },
   {
    "duration": 70,
    "start_time": "2022-10-29T09:21:19.191Z"
   },
   {
    "duration": 6,
    "start_time": "2022-10-29T09:21:19.262Z"
   },
   {
    "duration": 26,
    "start_time": "2022-10-29T09:21:19.270Z"
   },
   {
    "duration": 7,
    "start_time": "2022-10-29T09:21:19.298Z"
   },
   {
    "duration": 12,
    "start_time": "2022-10-29T09:21:19.306Z"
   },
   {
    "duration": 269,
    "start_time": "2022-10-29T09:21:19.319Z"
   },
   {
    "duration": 7,
    "start_time": "2022-10-29T09:21:19.591Z"
   },
   {
    "duration": 19,
    "start_time": "2022-10-29T09:21:19.600Z"
   },
   {
    "duration": 9,
    "start_time": "2022-10-29T09:21:19.621Z"
   },
   {
    "duration": 18,
    "start_time": "2022-10-29T09:21:19.632Z"
   },
   {
    "duration": 20,
    "start_time": "2022-10-29T09:21:19.651Z"
   },
   {
    "duration": 27,
    "start_time": "2022-10-29T09:21:19.673Z"
   },
   {
    "duration": 167,
    "start_time": "2022-10-29T09:21:19.702Z"
   },
   {
    "duration": 137,
    "start_time": "2022-10-29T09:21:19.870Z"
   },
   {
    "duration": 4,
    "start_time": "2022-10-29T09:21:20.009Z"
   },
   {
    "duration": 32,
    "start_time": "2022-10-29T09:21:20.015Z"
   },
   {
    "duration": 9,
    "start_time": "2022-10-29T09:21:20.049Z"
   },
   {
    "duration": 30,
    "start_time": "2022-10-29T09:21:20.059Z"
   },
   {
    "duration": 19,
    "start_time": "2022-10-29T09:21:20.091Z"
   },
   {
    "duration": 21,
    "start_time": "2022-10-29T09:21:20.111Z"
   },
   {
    "duration": 26,
    "start_time": "2022-10-29T09:21:20.134Z"
   },
   {
    "duration": 31,
    "start_time": "2022-10-29T09:21:20.161Z"
   },
   {
    "duration": 146,
    "start_time": "2022-10-29T09:21:20.193Z"
   },
   {
    "duration": 324,
    "start_time": "2022-10-29T09:21:20.341Z"
   },
   {
    "duration": 533,
    "start_time": "2022-10-29T09:21:20.666Z"
   },
   {
    "duration": 4,
    "start_time": "2022-10-29T09:21:21.200Z"
   },
   {
    "duration": 101,
    "start_time": "2022-10-29T09:21:21.292Z"
   },
   {
    "duration": 12,
    "start_time": "2022-10-29T09:21:21.396Z"
   },
   {
    "duration": 4,
    "start_time": "2022-10-29T09:21:21.410Z"
   },
   {
    "duration": 155,
    "start_time": "2022-10-29T09:21:21.416Z"
   },
   {
    "duration": 0,
    "start_time": "2022-10-29T09:21:21.573Z"
   },
   {
    "duration": 0,
    "start_time": "2022-10-29T09:21:21.574Z"
   },
   {
    "duration": 0,
    "start_time": "2022-10-29T09:21:21.576Z"
   },
   {
    "duration": 17,
    "start_time": "2022-10-29T09:23:11.743Z"
   },
   {
    "duration": 10,
    "start_time": "2022-10-29T09:55:25.286Z"
   },
   {
    "duration": 22,
    "start_time": "2022-10-29T09:55:37.909Z"
   },
   {
    "duration": 5,
    "start_time": "2022-10-29T09:56:47.653Z"
   },
   {
    "duration": 4,
    "start_time": "2022-10-29T09:57:59.943Z"
   },
   {
    "duration": 1412,
    "start_time": "2022-10-29T09:58:47.975Z"
   },
   {
    "duration": 42,
    "start_time": "2022-10-29T09:58:49.392Z"
   },
   {
    "duration": 13,
    "start_time": "2022-10-29T09:58:49.435Z"
   },
   {
    "duration": 12,
    "start_time": "2022-10-29T09:58:49.449Z"
   },
   {
    "duration": 3,
    "start_time": "2022-10-29T09:58:49.463Z"
   },
   {
    "duration": 15,
    "start_time": "2022-10-29T09:58:49.467Z"
   },
   {
    "duration": 7,
    "start_time": "2022-10-29T09:58:49.484Z"
   },
   {
    "duration": 10,
    "start_time": "2022-10-29T09:58:49.493Z"
   },
   {
    "duration": 9,
    "start_time": "2022-10-29T09:58:49.504Z"
   },
   {
    "duration": 7,
    "start_time": "2022-10-29T09:58:49.514Z"
   },
   {
    "duration": 18,
    "start_time": "2022-10-29T09:58:49.522Z"
   },
   {
    "duration": 577,
    "start_time": "2022-10-29T09:58:49.541Z"
   },
   {
    "duration": 571,
    "start_time": "2022-10-29T09:58:50.120Z"
   },
   {
    "duration": 10,
    "start_time": "2022-10-29T09:58:50.695Z"
   },
   {
    "duration": 13,
    "start_time": "2022-10-29T09:58:50.706Z"
   },
   {
    "duration": 7,
    "start_time": "2022-10-29T09:58:50.721Z"
   },
   {
    "duration": 6,
    "start_time": "2022-10-29T09:58:50.730Z"
   },
   {
    "duration": 9,
    "start_time": "2022-10-29T09:58:50.737Z"
   },
   {
    "duration": 9,
    "start_time": "2022-10-29T09:58:50.748Z"
   },
   {
    "duration": 37,
    "start_time": "2022-10-29T09:58:50.759Z"
   },
   {
    "duration": 6,
    "start_time": "2022-10-29T09:58:50.798Z"
   },
   {
    "duration": 15,
    "start_time": "2022-10-29T09:58:50.806Z"
   },
   {
    "duration": 142,
    "start_time": "2022-10-29T09:58:50.823Z"
   },
   {
    "duration": 37,
    "start_time": "2022-10-29T09:58:50.967Z"
   },
   {
    "duration": 119,
    "start_time": "2022-10-29T09:58:51.005Z"
   },
   {
    "duration": 21,
    "start_time": "2022-10-29T09:58:51.126Z"
   },
   {
    "duration": 8,
    "start_time": "2022-10-29T09:58:51.148Z"
   },
   {
    "duration": 45,
    "start_time": "2022-10-29T09:58:51.158Z"
   },
   {
    "duration": 72,
    "start_time": "2022-10-29T09:58:51.205Z"
   },
   {
    "duration": 15,
    "start_time": "2022-10-29T09:58:51.279Z"
   },
   {
    "duration": 15,
    "start_time": "2022-10-29T09:58:51.295Z"
   },
   {
    "duration": 8,
    "start_time": "2022-10-29T09:58:51.311Z"
   },
   {
    "duration": 14,
    "start_time": "2022-10-29T09:58:51.320Z"
   },
   {
    "duration": 258,
    "start_time": "2022-10-29T09:58:51.336Z"
   },
   {
    "duration": 7,
    "start_time": "2022-10-29T09:58:51.596Z"
   },
   {
    "duration": 13,
    "start_time": "2022-10-29T09:58:51.604Z"
   },
   {
    "duration": 5,
    "start_time": "2022-10-29T09:58:51.619Z"
   },
   {
    "duration": 6,
    "start_time": "2022-10-29T09:58:51.626Z"
   },
   {
    "duration": 17,
    "start_time": "2022-10-29T09:58:51.634Z"
   },
   {
    "duration": 11,
    "start_time": "2022-10-29T09:58:51.690Z"
   },
   {
    "duration": 143,
    "start_time": "2022-10-29T09:58:51.706Z"
   },
   {
    "duration": 141,
    "start_time": "2022-10-29T09:58:51.851Z"
   },
   {
    "duration": 4,
    "start_time": "2022-10-29T09:58:51.994Z"
   },
   {
    "duration": 16,
    "start_time": "2022-10-29T09:58:52.000Z"
   },
   {
    "duration": 7,
    "start_time": "2022-10-29T09:58:52.017Z"
   },
   {
    "duration": 11,
    "start_time": "2022-10-29T09:58:52.026Z"
   },
   {
    "duration": 9,
    "start_time": "2022-10-29T09:58:52.038Z"
   },
   {
    "duration": 8,
    "start_time": "2022-10-29T09:58:52.048Z"
   },
   {
    "duration": 42,
    "start_time": "2022-10-29T09:58:52.057Z"
   },
   {
    "duration": 4,
    "start_time": "2022-10-29T09:58:52.100Z"
   },
   {
    "duration": 6,
    "start_time": "2022-10-29T09:58:52.106Z"
   },
   {
    "duration": 22,
    "start_time": "2022-10-29T09:58:52.114Z"
   },
   {
    "duration": 163,
    "start_time": "2022-10-29T09:58:52.138Z"
   },
   {
    "duration": 273,
    "start_time": "2022-10-29T09:58:52.303Z"
   },
   {
    "duration": 518,
    "start_time": "2022-10-29T09:58:52.578Z"
   },
   {
    "duration": 3,
    "start_time": "2022-10-29T09:58:53.098Z"
   },
   {
    "duration": 12,
    "start_time": "2022-10-29T09:58:53.192Z"
   },
   {
    "duration": 16,
    "start_time": "2022-10-29T09:58:53.205Z"
   },
   {
    "duration": 75,
    "start_time": "2022-10-29T09:58:53.222Z"
   },
   {
    "duration": 6,
    "start_time": "2022-10-29T09:58:53.299Z"
   },
   {
    "duration": 5,
    "start_time": "2022-10-29T09:58:53.307Z"
   },
   {
    "duration": 4,
    "start_time": "2022-10-29T09:58:53.314Z"
   },
   {
    "duration": 134,
    "start_time": "2022-10-29T09:58:53.319Z"
   },
   {
    "duration": 0,
    "start_time": "2022-10-29T09:58:53.455Z"
   },
   {
    "duration": 0,
    "start_time": "2022-10-29T09:58:53.456Z"
   },
   {
    "duration": 0,
    "start_time": "2022-10-29T09:58:53.457Z"
   },
   {
    "duration": 14,
    "start_time": "2022-10-29T10:01:51.140Z"
   },
   {
    "duration": 3,
    "start_time": "2022-10-29T10:05:10.964Z"
   },
   {
    "duration": 2559,
    "start_time": "2022-10-29T10:05:14.557Z"
   },
   {
    "duration": 15,
    "start_time": "2022-10-29T10:08:32.459Z"
   },
   {
    "duration": 20760,
    "start_time": "2022-10-29T10:10:36.799Z"
   },
   {
    "duration": 426,
    "start_time": "2022-10-29T10:11:31.114Z"
   },
   {
    "duration": 5685,
    "start_time": "2022-10-29T10:12:12.720Z"
   },
   {
    "duration": 21887,
    "start_time": "2022-10-29T10:12:33.101Z"
   },
   {
    "duration": 502,
    "start_time": "2022-10-29T10:14:03.539Z"
   },
   {
    "duration": 1471,
    "start_time": "2022-10-29T10:17:12.838Z"
   },
   {
    "duration": 43,
    "start_time": "2022-10-29T10:17:14.311Z"
   },
   {
    "duration": 16,
    "start_time": "2022-10-29T10:17:14.356Z"
   },
   {
    "duration": 14,
    "start_time": "2022-10-29T10:17:14.374Z"
   },
   {
    "duration": 2,
    "start_time": "2022-10-29T10:17:14.391Z"
   },
   {
    "duration": 16,
    "start_time": "2022-10-29T10:17:14.395Z"
   },
   {
    "duration": 6,
    "start_time": "2022-10-29T10:17:14.414Z"
   },
   {
    "duration": 16,
    "start_time": "2022-10-29T10:17:14.421Z"
   },
   {
    "duration": 9,
    "start_time": "2022-10-29T10:17:14.439Z"
   },
   {
    "duration": 10,
    "start_time": "2022-10-29T10:17:14.450Z"
   },
   {
    "duration": 48,
    "start_time": "2022-10-29T10:17:14.462Z"
   },
   {
    "duration": 540,
    "start_time": "2022-10-29T10:17:14.512Z"
   },
   {
    "duration": 651,
    "start_time": "2022-10-29T10:17:15.054Z"
   },
   {
    "duration": 9,
    "start_time": "2022-10-29T10:17:15.708Z"
   },
   {
    "duration": 378,
    "start_time": "2022-10-29T10:17:15.719Z"
   },
   {
    "duration": 17,
    "start_time": "2022-10-29T10:17:16.099Z"
   },
   {
    "duration": 35,
    "start_time": "2022-10-29T10:17:16.118Z"
   },
   {
    "duration": 17,
    "start_time": "2022-10-29T10:17:16.155Z"
   },
   {
    "duration": 36,
    "start_time": "2022-10-29T10:17:16.174Z"
   },
   {
    "duration": 12,
    "start_time": "2022-10-29T10:17:16.212Z"
   },
   {
    "duration": 14,
    "start_time": "2022-10-29T10:17:16.226Z"
   },
   {
    "duration": 24,
    "start_time": "2022-10-29T10:17:16.242Z"
   },
   {
    "duration": 149,
    "start_time": "2022-10-29T10:17:16.268Z"
   },
   {
    "duration": 34,
    "start_time": "2022-10-29T10:17:16.419Z"
   },
   {
    "duration": 161,
    "start_time": "2022-10-29T10:17:16.455Z"
   },
   {
    "duration": 25,
    "start_time": "2022-10-29T10:17:16.618Z"
   },
   {
    "duration": 9,
    "start_time": "2022-10-29T10:17:16.645Z"
   },
   {
    "duration": 65,
    "start_time": "2022-10-29T10:17:16.656Z"
   },
   {
    "duration": 106,
    "start_time": "2022-10-29T10:17:16.724Z"
   },
   {
    "duration": 9,
    "start_time": "2022-10-29T10:17:16.832Z"
   },
   {
    "duration": 17,
    "start_time": "2022-10-29T10:17:16.843Z"
   },
   {
    "duration": 29,
    "start_time": "2022-10-29T10:17:16.864Z"
   },
   {
    "duration": 16,
    "start_time": "2022-10-29T10:17:16.896Z"
   },
   {
    "duration": 333,
    "start_time": "2022-10-29T10:17:16.914Z"
   },
   {
    "duration": 6,
    "start_time": "2022-10-29T10:17:17.249Z"
   },
   {
    "duration": 163,
    "start_time": "2022-10-29T10:17:17.257Z"
   },
   {
    "duration": 6,
    "start_time": "2022-10-29T10:17:17.422Z"
   },
   {
    "duration": 7,
    "start_time": "2022-10-29T10:17:17.430Z"
   },
   {
    "duration": 15,
    "start_time": "2022-10-29T10:17:17.439Z"
   },
   {
    "duration": 8,
    "start_time": "2022-10-29T10:17:17.456Z"
   },
   {
    "duration": 144,
    "start_time": "2022-10-29T10:17:17.468Z"
   },
   {
    "duration": 154,
    "start_time": "2022-10-29T10:17:17.613Z"
   },
   {
    "duration": 5,
    "start_time": "2022-10-29T10:17:17.769Z"
   },
   {
    "duration": 23,
    "start_time": "2022-10-29T10:17:17.776Z"
   },
   {
    "duration": 9,
    "start_time": "2022-10-29T10:17:17.800Z"
   },
   {
    "duration": 15,
    "start_time": "2022-10-29T10:17:17.810Z"
   },
   {
    "duration": 7,
    "start_time": "2022-10-29T10:17:17.827Z"
   },
   {
    "duration": 8,
    "start_time": "2022-10-29T10:17:17.836Z"
   },
   {
    "duration": 47,
    "start_time": "2022-10-29T10:17:17.846Z"
   },
   {
    "duration": 6,
    "start_time": "2022-10-29T10:17:17.895Z"
   },
   {
    "duration": 23,
    "start_time": "2022-10-29T10:17:17.904Z"
   },
   {
    "duration": 173,
    "start_time": "2022-10-29T10:17:17.928Z"
   },
   {
    "duration": 280,
    "start_time": "2022-10-29T10:17:18.103Z"
   },
   {
    "duration": 507,
    "start_time": "2022-10-29T10:17:18.384Z"
   },
   {
    "duration": 4,
    "start_time": "2022-10-29T10:17:18.893Z"
   },
   {
    "duration": 95,
    "start_time": "2022-10-29T10:17:18.899Z"
   },
   {
    "duration": 14,
    "start_time": "2022-10-29T10:17:18.996Z"
   },
   {
    "duration": 21,
    "start_time": "2022-10-29T10:17:19.012Z"
   },
   {
    "duration": 5,
    "start_time": "2022-10-29T10:17:19.035Z"
   },
   {
    "duration": 50,
    "start_time": "2022-10-29T10:17:19.042Z"
   },
   {
    "duration": 613,
    "start_time": "2022-10-29T10:17:19.094Z"
   },
   {
    "duration": 15,
    "start_time": "2022-10-29T10:17:19.709Z"
   },
   {
    "duration": 54212,
    "start_time": "2022-10-29T10:17:19.726Z"
   },
   {
    "duration": 2,
    "start_time": "2022-10-29T10:18:13.940Z"
   },
   {
    "duration": 144,
    "start_time": "2022-10-29T10:18:13.944Z"
   },
   {
    "duration": 0,
    "start_time": "2022-10-29T10:18:14.091Z"
   },
   {
    "duration": 147,
    "start_time": "2022-10-29T10:22:47.834Z"
   },
   {
    "duration": 526,
    "start_time": "2022-10-29T10:25:44.786Z"
   },
   {
    "duration": 75,
    "start_time": "2022-10-29T10:27:37.109Z"
   },
   {
    "duration": 19,
    "start_time": "2022-10-29T10:27:50.491Z"
   },
   {
    "duration": 231,
    "start_time": "2022-10-29T10:28:14.086Z"
   },
   {
    "duration": 13,
    "start_time": "2022-10-29T10:29:19.355Z"
   },
   {
    "duration": 12,
    "start_time": "2022-10-29T10:29:30.557Z"
   },
   {
    "duration": 237,
    "start_time": "2022-10-29T10:33:57.985Z"
   },
   {
    "duration": 250,
    "start_time": "2022-10-29T10:34:22.083Z"
   },
   {
    "duration": 553,
    "start_time": "2022-10-29T10:35:13.691Z"
   },
   {
    "duration": 554,
    "start_time": "2022-10-29T10:35:26.906Z"
   },
   {
    "duration": 254,
    "start_time": "2022-10-29T10:35:48.326Z"
   },
   {
    "duration": 288,
    "start_time": "2022-10-29T10:36:02.045Z"
   },
   {
    "duration": 55136,
    "start_time": "2022-10-29T10:39:02.883Z"
   },
   {
    "duration": 52605,
    "start_time": "2022-10-29T10:42:27.371Z"
   },
   {
    "duration": 27142,
    "start_time": "2022-10-29T10:47:46.791Z"
   },
   {
    "duration": 35596,
    "start_time": "2022-10-29T10:48:30.283Z"
   },
   {
    "duration": 2451,
    "start_time": "2022-10-29T10:54:43.844Z"
   },
   {
    "duration": 2431,
    "start_time": "2022-10-29T10:55:10.025Z"
   },
   {
    "duration": 2421,
    "start_time": "2022-10-29T10:57:37.006Z"
   },
   {
    "duration": 86,
    "start_time": "2022-10-29T10:59:00.388Z"
   },
   {
    "duration": 14820,
    "start_time": "2022-10-29T10:59:05.244Z"
   },
   {
    "duration": 18156,
    "start_time": "2022-10-29T11:00:06.769Z"
   },
   {
    "duration": 29,
    "start_time": "2022-10-29T11:14:30.412Z"
   },
   {
    "duration": 1555,
    "start_time": "2022-10-29T11:15:01.007Z"
   },
   {
    "duration": 47,
    "start_time": "2022-10-29T11:15:02.564Z"
   },
   {
    "duration": 13,
    "start_time": "2022-10-29T11:15:02.613Z"
   },
   {
    "duration": 24,
    "start_time": "2022-10-29T11:15:02.628Z"
   },
   {
    "duration": 5,
    "start_time": "2022-10-29T11:15:02.654Z"
   },
   {
    "duration": 33,
    "start_time": "2022-10-29T11:15:02.660Z"
   },
   {
    "duration": 9,
    "start_time": "2022-10-29T11:15:02.699Z"
   },
   {
    "duration": 16,
    "start_time": "2022-10-29T11:15:02.710Z"
   },
   {
    "duration": 25,
    "start_time": "2022-10-29T11:15:02.728Z"
   },
   {
    "duration": 9,
    "start_time": "2022-10-29T11:15:02.756Z"
   },
   {
    "duration": 54,
    "start_time": "2022-10-29T11:15:02.767Z"
   },
   {
    "duration": 524,
    "start_time": "2022-10-29T11:15:02.822Z"
   },
   {
    "duration": 660,
    "start_time": "2022-10-29T11:15:03.348Z"
   },
   {
    "duration": 13,
    "start_time": "2022-10-29T11:15:04.010Z"
   },
   {
    "duration": 46,
    "start_time": "2022-10-29T11:15:04.025Z"
   },
   {
    "duration": 21,
    "start_time": "2022-10-29T11:15:04.073Z"
   },
   {
    "duration": 26,
    "start_time": "2022-10-29T11:15:04.096Z"
   },
   {
    "duration": 16,
    "start_time": "2022-10-29T11:15:04.124Z"
   },
   {
    "duration": 6,
    "start_time": "2022-10-29T11:15:04.142Z"
   },
   {
    "duration": 5,
    "start_time": "2022-10-29T11:15:04.150Z"
   },
   {
    "duration": 9,
    "start_time": "2022-10-29T11:15:04.157Z"
   },
   {
    "duration": 12,
    "start_time": "2022-10-29T11:15:04.168Z"
   },
   {
    "duration": 147,
    "start_time": "2022-10-29T11:15:04.181Z"
   },
   {
    "duration": 30,
    "start_time": "2022-10-29T11:15:04.329Z"
   },
   {
    "duration": 170,
    "start_time": "2022-10-29T11:15:04.361Z"
   },
   {
    "duration": 23,
    "start_time": "2022-10-29T11:15:04.533Z"
   },
   {
    "duration": 10,
    "start_time": "2022-10-29T11:15:04.558Z"
   },
   {
    "duration": 32,
    "start_time": "2022-10-29T11:15:04.593Z"
   },
   {
    "duration": 90,
    "start_time": "2022-10-29T11:15:04.627Z"
   },
   {
    "duration": 6,
    "start_time": "2022-10-29T11:15:04.719Z"
   },
   {
    "duration": 13,
    "start_time": "2022-10-29T11:15:04.726Z"
   },
   {
    "duration": 8,
    "start_time": "2022-10-29T11:15:04.740Z"
   },
   {
    "duration": 13,
    "start_time": "2022-10-29T11:15:04.749Z"
   },
   {
    "duration": 302,
    "start_time": "2022-10-29T11:15:04.764Z"
   },
   {
    "duration": 7,
    "start_time": "2022-10-29T11:15:05.068Z"
   },
   {
    "duration": 49,
    "start_time": "2022-10-29T11:15:05.077Z"
   },
   {
    "duration": 17,
    "start_time": "2022-10-29T11:15:05.127Z"
   },
   {
    "duration": 10,
    "start_time": "2022-10-29T11:15:05.146Z"
   },
   {
    "duration": 20,
    "start_time": "2022-10-29T11:15:05.158Z"
   },
   {
    "duration": 27,
    "start_time": "2022-10-29T11:15:05.180Z"
   },
   {
    "duration": 141,
    "start_time": "2022-10-29T11:15:05.209Z"
   },
   {
    "duration": 167,
    "start_time": "2022-10-29T11:15:05.352Z"
   },
   {
    "duration": 6,
    "start_time": "2022-10-29T11:15:05.521Z"
   },
   {
    "duration": 16,
    "start_time": "2022-10-29T11:15:05.528Z"
   },
   {
    "duration": 10,
    "start_time": "2022-10-29T11:15:05.546Z"
   },
   {
    "duration": 46,
    "start_time": "2022-10-29T11:15:05.559Z"
   },
   {
    "duration": 14,
    "start_time": "2022-10-29T11:15:05.607Z"
   },
   {
    "duration": 14,
    "start_time": "2022-10-29T11:15:05.623Z"
   },
   {
    "duration": 17,
    "start_time": "2022-10-29T11:15:05.639Z"
   },
   {
    "duration": 12,
    "start_time": "2022-10-29T11:15:05.659Z"
   },
   {
    "duration": 41,
    "start_time": "2022-10-29T11:15:05.673Z"
   },
   {
    "duration": 169,
    "start_time": "2022-10-29T11:15:05.716Z"
   },
   {
    "duration": 295,
    "start_time": "2022-10-29T11:15:05.887Z"
   },
   {
    "duration": 504,
    "start_time": "2022-10-29T11:15:06.190Z"
   },
   {
    "duration": 14,
    "start_time": "2022-10-29T11:15:06.703Z"
   },
   {
    "duration": 27,
    "start_time": "2022-10-29T11:15:06.791Z"
   },
   {
    "duration": 16,
    "start_time": "2022-10-29T11:15:06.821Z"
   },
   {
    "duration": 35,
    "start_time": "2022-10-29T11:15:06.839Z"
   },
   {
    "duration": 20,
    "start_time": "2022-10-29T11:15:06.876Z"
   },
   {
    "duration": 20,
    "start_time": "2022-10-29T11:15:06.898Z"
   },
   {
    "duration": 291,
    "start_time": "2022-10-29T11:15:06.920Z"
   },
   {
    "duration": 396,
    "start_time": "2022-10-29T11:15:07.212Z"
   },
   {
    "duration": 15,
    "start_time": "2022-10-29T11:15:07.610Z"
   },
   {
    "duration": 2685,
    "start_time": "2022-10-29T11:15:07.627Z"
   },
   {
    "duration": 12813,
    "start_time": "2022-10-29T11:15:10.314Z"
   },
   {
    "duration": 17981,
    "start_time": "2022-10-29T11:15:23.128Z"
   },
   {
    "duration": 2,
    "start_time": "2022-10-29T11:15:41.111Z"
   },
   {
    "duration": 132,
    "start_time": "2022-10-29T11:15:41.115Z"
   },
   {
    "duration": 0,
    "start_time": "2022-10-29T11:15:41.248Z"
   },
   {
    "duration": 1496,
    "start_time": "2022-10-29T16:11:42.390Z"
   },
   {
    "duration": 42,
    "start_time": "2022-10-29T16:11:43.888Z"
   },
   {
    "duration": 12,
    "start_time": "2022-10-29T16:11:43.932Z"
   },
   {
    "duration": 13,
    "start_time": "2022-10-29T16:11:43.946Z"
   },
   {
    "duration": 3,
    "start_time": "2022-10-29T16:11:43.961Z"
   },
   {
    "duration": 27,
    "start_time": "2022-10-29T16:11:43.965Z"
   },
   {
    "duration": 6,
    "start_time": "2022-10-29T16:11:43.993Z"
   },
   {
    "duration": 14,
    "start_time": "2022-10-29T16:11:44.001Z"
   },
   {
    "duration": 13,
    "start_time": "2022-10-29T16:11:44.017Z"
   },
   {
    "duration": 10,
    "start_time": "2022-10-29T16:11:44.033Z"
   },
   {
    "duration": 49,
    "start_time": "2022-10-29T16:11:44.045Z"
   },
   {
    "duration": 540,
    "start_time": "2022-10-29T16:11:44.096Z"
   },
   {
    "duration": 561,
    "start_time": "2022-10-29T16:11:44.638Z"
   },
   {
    "duration": 12,
    "start_time": "2022-10-29T16:11:45.201Z"
   },
   {
    "duration": 11,
    "start_time": "2022-10-29T16:11:45.215Z"
   },
   {
    "duration": 6,
    "start_time": "2022-10-29T16:11:45.228Z"
   },
   {
    "duration": 8,
    "start_time": "2022-10-29T16:11:45.236Z"
   },
   {
    "duration": 7,
    "start_time": "2022-10-29T16:11:45.245Z"
   },
   {
    "duration": 42,
    "start_time": "2022-10-29T16:11:45.253Z"
   },
   {
    "duration": 4,
    "start_time": "2022-10-29T16:11:45.296Z"
   },
   {
    "duration": 5,
    "start_time": "2022-10-29T16:11:45.302Z"
   },
   {
    "duration": 13,
    "start_time": "2022-10-29T16:11:45.309Z"
   },
   {
    "duration": 135,
    "start_time": "2022-10-29T16:11:45.324Z"
   },
   {
    "duration": 53,
    "start_time": "2022-10-29T16:11:45.460Z"
   },
   {
    "duration": 129,
    "start_time": "2022-10-29T16:11:45.515Z"
   },
   {
    "duration": 22,
    "start_time": "2022-10-29T16:11:45.646Z"
   },
   {
    "duration": 29,
    "start_time": "2022-10-29T16:11:45.670Z"
   },
   {
    "duration": 40,
    "start_time": "2022-10-29T16:11:45.704Z"
   },
   {
    "duration": 94,
    "start_time": "2022-10-29T16:11:45.745Z"
   },
   {
    "duration": 6,
    "start_time": "2022-10-29T16:11:45.841Z"
   },
   {
    "duration": 11,
    "start_time": "2022-10-29T16:11:45.849Z"
   },
   {
    "duration": 8,
    "start_time": "2022-10-29T16:11:45.862Z"
   },
   {
    "duration": 12,
    "start_time": "2022-10-29T16:11:45.893Z"
   },
   {
    "duration": 260,
    "start_time": "2022-10-29T16:11:45.907Z"
   },
   {
    "duration": 7,
    "start_time": "2022-10-29T16:11:46.169Z"
   },
   {
    "duration": 22,
    "start_time": "2022-10-29T16:11:46.177Z"
   },
   {
    "duration": 5,
    "start_time": "2022-10-29T16:11:46.202Z"
   },
   {
    "duration": 6,
    "start_time": "2022-10-29T16:11:46.210Z"
   },
   {
    "duration": 17,
    "start_time": "2022-10-29T16:11:46.218Z"
   },
   {
    "duration": 10,
    "start_time": "2022-10-29T16:11:46.237Z"
   },
   {
    "duration": 175,
    "start_time": "2022-10-29T16:11:46.248Z"
   },
   {
    "duration": 166,
    "start_time": "2022-10-29T16:11:46.425Z"
   },
   {
    "duration": 6,
    "start_time": "2022-10-29T16:11:46.593Z"
   },
   {
    "duration": 20,
    "start_time": "2022-10-29T16:11:46.601Z"
   },
   {
    "duration": 11,
    "start_time": "2022-10-29T16:11:46.622Z"
   },
   {
    "duration": 14,
    "start_time": "2022-10-29T16:11:46.635Z"
   },
   {
    "duration": 40,
    "start_time": "2022-10-29T16:11:46.653Z"
   },
   {
    "duration": 10,
    "start_time": "2022-10-29T16:11:46.695Z"
   },
   {
    "duration": 16,
    "start_time": "2022-10-29T16:11:46.708Z"
   },
   {
    "duration": 6,
    "start_time": "2022-10-29T16:11:46.726Z"
   },
   {
    "duration": 58,
    "start_time": "2022-10-29T16:11:46.734Z"
   },
   {
    "duration": 156,
    "start_time": "2022-10-29T16:11:46.794Z"
   },
   {
    "duration": 296,
    "start_time": "2022-10-29T16:11:46.952Z"
   },
   {
    "duration": 541,
    "start_time": "2022-10-29T16:11:47.251Z"
   },
   {
    "duration": 4,
    "start_time": "2022-10-29T16:11:47.890Z"
   },
   {
    "duration": 12,
    "start_time": "2022-10-29T16:11:47.895Z"
   },
   {
    "duration": 15,
    "start_time": "2022-10-29T16:11:47.908Z"
   },
   {
    "duration": 21,
    "start_time": "2022-10-29T16:11:47.924Z"
   },
   {
    "duration": 5,
    "start_time": "2022-10-29T16:11:47.947Z"
   },
   {
    "duration": 46,
    "start_time": "2022-10-29T16:11:47.953Z"
   },
   {
    "duration": 230,
    "start_time": "2022-10-29T16:11:48.001Z"
   },
   {
    "duration": 385,
    "start_time": "2022-10-29T16:11:48.233Z"
   },
   {
    "duration": 14,
    "start_time": "2022-10-29T16:11:48.619Z"
   },
   {
    "duration": 2317,
    "start_time": "2022-10-29T16:11:48.635Z"
   },
   {
    "duration": 11517,
    "start_time": "2022-10-29T16:11:50.954Z"
   },
   {
    "duration": 17723,
    "start_time": "2022-10-29T16:12:02.472Z"
   },
   {
    "duration": 3,
    "start_time": "2022-10-29T16:12:20.197Z"
   },
   {
    "duration": 147,
    "start_time": "2022-10-29T16:12:20.201Z"
   },
   {
    "duration": 0,
    "start_time": "2022-10-29T16:12:20.351Z"
   },
   {
    "duration": 1468,
    "start_time": "2022-10-29T16:44:58.462Z"
   },
   {
    "duration": 42,
    "start_time": "2022-10-29T16:44:59.932Z"
   },
   {
    "duration": 12,
    "start_time": "2022-10-29T16:44:59.975Z"
   },
   {
    "duration": 12,
    "start_time": "2022-10-29T16:44:59.989Z"
   },
   {
    "duration": 2,
    "start_time": "2022-10-29T16:45:00.003Z"
   },
   {
    "duration": 22,
    "start_time": "2022-10-29T16:45:00.007Z"
   },
   {
    "duration": 4,
    "start_time": "2022-10-29T16:45:00.031Z"
   },
   {
    "duration": 9,
    "start_time": "2022-10-29T16:45:00.037Z"
   },
   {
    "duration": 9,
    "start_time": "2022-10-29T16:45:00.047Z"
   },
   {
    "duration": 7,
    "start_time": "2022-10-29T16:45:00.058Z"
   },
   {
    "duration": 17,
    "start_time": "2022-10-29T16:45:00.092Z"
   },
   {
    "duration": 514,
    "start_time": "2022-10-29T16:45:00.110Z"
   },
   {
    "duration": 576,
    "start_time": "2022-10-29T16:45:00.626Z"
   },
   {
    "duration": 9,
    "start_time": "2022-10-29T16:45:01.206Z"
   },
   {
    "duration": 22,
    "start_time": "2022-10-29T16:45:01.217Z"
   },
   {
    "duration": 8,
    "start_time": "2022-10-29T16:45:01.241Z"
   },
   {
    "duration": 7,
    "start_time": "2022-10-29T16:45:01.250Z"
   },
   {
    "duration": 7,
    "start_time": "2022-10-29T16:45:01.259Z"
   },
   {
    "duration": 27,
    "start_time": "2022-10-29T16:45:01.267Z"
   },
   {
    "duration": 7,
    "start_time": "2022-10-29T16:45:01.296Z"
   },
   {
    "duration": 5,
    "start_time": "2022-10-29T16:45:01.305Z"
   },
   {
    "duration": 19,
    "start_time": "2022-10-29T16:45:01.312Z"
   },
   {
    "duration": 143,
    "start_time": "2022-10-29T16:45:01.332Z"
   },
   {
    "duration": 37,
    "start_time": "2022-10-29T16:45:01.476Z"
   },
   {
    "duration": 122,
    "start_time": "2022-10-29T16:45:01.515Z"
   },
   {
    "duration": 24,
    "start_time": "2022-10-29T16:45:01.638Z"
   },
   {
    "duration": 29,
    "start_time": "2022-10-29T16:45:01.663Z"
   },
   {
    "duration": 25,
    "start_time": "2022-10-29T16:45:01.694Z"
   },
   {
    "duration": 88,
    "start_time": "2022-10-29T16:45:01.721Z"
   },
   {
    "duration": 6,
    "start_time": "2022-10-29T16:45:01.811Z"
   },
   {
    "duration": 15,
    "start_time": "2022-10-29T16:45:01.818Z"
   },
   {
    "duration": 9,
    "start_time": "2022-10-29T16:45:01.835Z"
   },
   {
    "duration": 12,
    "start_time": "2022-10-29T16:45:01.846Z"
   },
   {
    "duration": 278,
    "start_time": "2022-10-29T16:45:01.859Z"
   },
   {
    "duration": 7,
    "start_time": "2022-10-29T16:45:02.139Z"
   },
   {
    "duration": 22,
    "start_time": "2022-10-29T16:45:02.148Z"
   },
   {
    "duration": 10,
    "start_time": "2022-10-29T16:45:02.172Z"
   },
   {
    "duration": 5,
    "start_time": "2022-10-29T16:45:02.192Z"
   },
   {
    "duration": 17,
    "start_time": "2022-10-29T16:45:02.199Z"
   },
   {
    "duration": 9,
    "start_time": "2022-10-29T16:45:02.218Z"
   },
   {
    "duration": 155,
    "start_time": "2022-10-29T16:45:02.231Z"
   },
   {
    "duration": 157,
    "start_time": "2022-10-29T16:45:02.387Z"
   },
   {
    "duration": 4,
    "start_time": "2022-10-29T16:45:02.546Z"
   },
   {
    "duration": 18,
    "start_time": "2022-10-29T16:45:02.552Z"
   },
   {
    "duration": 20,
    "start_time": "2022-10-29T16:45:02.572Z"
   },
   {
    "duration": 11,
    "start_time": "2022-10-29T16:45:02.593Z"
   },
   {
    "duration": 7,
    "start_time": "2022-10-29T16:45:02.606Z"
   },
   {
    "duration": 7,
    "start_time": "2022-10-29T16:45:02.614Z"
   },
   {
    "duration": 12,
    "start_time": "2022-10-29T16:45:02.623Z"
   },
   {
    "duration": 5,
    "start_time": "2022-10-29T16:45:02.637Z"
   },
   {
    "duration": 52,
    "start_time": "2022-10-29T16:45:02.644Z"
   },
   {
    "duration": 148,
    "start_time": "2022-10-29T16:45:02.698Z"
   },
   {
    "duration": 317,
    "start_time": "2022-10-29T16:45:02.848Z"
   },
   {
    "duration": 433,
    "start_time": "2022-10-29T16:45:03.167Z"
   },
   {
    "duration": 4,
    "start_time": "2022-10-29T16:45:03.692Z"
   },
   {
    "duration": 103,
    "start_time": "2022-10-29T16:45:03.698Z"
   },
   {
    "duration": 22,
    "start_time": "2022-10-29T16:45:03.803Z"
   },
   {
    "duration": 24,
    "start_time": "2022-10-29T16:45:03.827Z"
   },
   {
    "duration": 5,
    "start_time": "2022-10-29T16:45:03.852Z"
   },
   {
    "duration": 39,
    "start_time": "2022-10-29T16:45:03.859Z"
   },
   {
    "duration": 246,
    "start_time": "2022-10-29T16:45:03.900Z"
   },
   {
    "duration": 402,
    "start_time": "2022-10-29T16:45:04.148Z"
   },
   {
    "duration": 13,
    "start_time": "2022-10-29T16:45:04.552Z"
   },
   {
    "duration": 48902,
    "start_time": "2022-10-29T16:45:04.566Z"
   },
   {
    "duration": 2470,
    "start_time": "2022-10-29T16:45:53.470Z"
   },
   {
    "duration": 1874,
    "start_time": "2022-10-29T16:45:55.942Z"
   },
   {
    "duration": 3,
    "start_time": "2022-10-29T16:45:57.817Z"
   },
   {
    "duration": 126,
    "start_time": "2022-10-29T16:45:57.822Z"
   },
   {
    "duration": 0,
    "start_time": "2022-10-29T16:45:57.949Z"
   },
   {
    "duration": 19,
    "start_time": "2022-10-29T16:53:55.253Z"
   },
   {
    "duration": 6339,
    "start_time": "2022-10-29T16:59:07.010Z"
   },
   {
    "duration": 2689,
    "start_time": "2022-10-29T16:59:51.922Z"
   },
   {
    "duration": 49756,
    "start_time": "2022-10-29T17:00:05.684Z"
   },
   {
    "duration": 2034,
    "start_time": "2022-10-29T17:00:55.442Z"
   },
   {
    "duration": 1488,
    "start_time": "2022-10-29T17:01:33.680Z"
   },
   {
    "duration": 46,
    "start_time": "2022-10-29T17:01:35.170Z"
   },
   {
    "duration": 13,
    "start_time": "2022-10-29T17:01:35.217Z"
   },
   {
    "duration": 16,
    "start_time": "2022-10-29T17:01:35.232Z"
   },
   {
    "duration": 3,
    "start_time": "2022-10-29T17:01:35.250Z"
   },
   {
    "duration": 18,
    "start_time": "2022-10-29T17:01:35.255Z"
   },
   {
    "duration": 23,
    "start_time": "2022-10-29T17:01:35.274Z"
   },
   {
    "duration": 12,
    "start_time": "2022-10-29T17:01:35.299Z"
   },
   {
    "duration": 13,
    "start_time": "2022-10-29T17:01:35.312Z"
   },
   {
    "duration": 8,
    "start_time": "2022-10-29T17:01:35.329Z"
   },
   {
    "duration": 17,
    "start_time": "2022-10-29T17:01:35.338Z"
   },
   {
    "duration": 578,
    "start_time": "2022-10-29T17:01:35.357Z"
   },
   {
    "duration": 667,
    "start_time": "2022-10-29T17:01:35.938Z"
   },
   {
    "duration": 10,
    "start_time": "2022-10-29T17:01:36.606Z"
   },
   {
    "duration": 15,
    "start_time": "2022-10-29T17:01:36.618Z"
   },
   {
    "duration": 9,
    "start_time": "2022-10-29T17:01:36.634Z"
   },
   {
    "duration": 10,
    "start_time": "2022-10-29T17:01:36.645Z"
   },
   {
    "duration": 36,
    "start_time": "2022-10-29T17:01:36.657Z"
   },
   {
    "duration": 7,
    "start_time": "2022-10-29T17:01:36.695Z"
   },
   {
    "duration": 7,
    "start_time": "2022-10-29T17:01:36.704Z"
   },
   {
    "duration": 11,
    "start_time": "2022-10-29T17:01:36.714Z"
   },
   {
    "duration": 19,
    "start_time": "2022-10-29T17:01:36.727Z"
   },
   {
    "duration": 218,
    "start_time": "2022-10-29T17:01:36.749Z"
   },
   {
    "duration": 44,
    "start_time": "2022-10-29T17:01:36.969Z"
   },
   {
    "duration": 139,
    "start_time": "2022-10-29T17:01:37.015Z"
   },
   {
    "duration": 36,
    "start_time": "2022-10-29T17:01:37.155Z"
   },
   {
    "duration": 9,
    "start_time": "2022-10-29T17:01:37.193Z"
   },
   {
    "duration": 28,
    "start_time": "2022-10-29T17:01:37.207Z"
   },
   {
    "duration": 111,
    "start_time": "2022-10-29T17:01:37.237Z"
   },
   {
    "duration": 6,
    "start_time": "2022-10-29T17:01:37.350Z"
   },
   {
    "duration": 15,
    "start_time": "2022-10-29T17:01:37.357Z"
   },
   {
    "duration": 17,
    "start_time": "2022-10-29T17:01:37.374Z"
   },
   {
    "duration": 15,
    "start_time": "2022-10-29T17:01:37.393Z"
   },
   {
    "duration": 271,
    "start_time": "2022-10-29T17:01:37.409Z"
   },
   {
    "duration": 14,
    "start_time": "2022-10-29T17:01:37.681Z"
   },
   {
    "duration": 13,
    "start_time": "2022-10-29T17:01:37.697Z"
   },
   {
    "duration": 6,
    "start_time": "2022-10-29T17:01:37.712Z"
   },
   {
    "duration": 10,
    "start_time": "2022-10-29T17:01:37.719Z"
   },
   {
    "duration": 16,
    "start_time": "2022-10-29T17:01:37.730Z"
   },
   {
    "duration": 11,
    "start_time": "2022-10-29T17:01:37.748Z"
   },
   {
    "duration": 145,
    "start_time": "2022-10-29T17:01:37.790Z"
   },
   {
    "duration": 151,
    "start_time": "2022-10-29T17:01:37.936Z"
   },
   {
    "duration": 5,
    "start_time": "2022-10-29T17:01:38.088Z"
   },
   {
    "duration": 15,
    "start_time": "2022-10-29T17:01:38.095Z"
   },
   {
    "duration": 9,
    "start_time": "2022-10-29T17:01:38.112Z"
   },
   {
    "duration": 11,
    "start_time": "2022-10-29T17:01:38.123Z"
   },
   {
    "duration": 6,
    "start_time": "2022-10-29T17:01:38.136Z"
   },
   {
    "duration": 8,
    "start_time": "2022-10-29T17:01:38.143Z"
   },
   {
    "duration": 12,
    "start_time": "2022-10-29T17:01:38.191Z"
   },
   {
    "duration": 5,
    "start_time": "2022-10-29T17:01:38.205Z"
   },
   {
    "duration": 20,
    "start_time": "2022-10-29T17:01:38.212Z"
   },
   {
    "duration": 168,
    "start_time": "2022-10-29T17:01:38.233Z"
   },
   {
    "duration": 272,
    "start_time": "2022-10-29T17:01:38.403Z"
   },
   {
    "duration": 418,
    "start_time": "2022-10-29T17:01:38.677Z"
   },
   {
    "duration": 4,
    "start_time": "2022-10-29T17:01:39.097Z"
   },
   {
    "duration": 98,
    "start_time": "2022-10-29T17:01:39.193Z"
   },
   {
    "duration": 14,
    "start_time": "2022-10-29T17:01:39.293Z"
   },
   {
    "duration": 23,
    "start_time": "2022-10-29T17:01:39.308Z"
   },
   {
    "duration": 5,
    "start_time": "2022-10-29T17:01:39.332Z"
   },
   {
    "duration": 16,
    "start_time": "2022-10-29T17:01:39.338Z"
   },
   {
    "duration": 274,
    "start_time": "2022-10-29T17:01:39.355Z"
   },
   {
    "duration": 387,
    "start_time": "2022-10-29T17:01:39.631Z"
   },
   {
    "duration": 14,
    "start_time": "2022-10-29T17:01:40.020Z"
   },
   {
    "duration": 48702,
    "start_time": "2022-10-29T17:01:40.036Z"
   },
   {
    "duration": 2506,
    "start_time": "2022-10-29T17:02:28.740Z"
   },
   {
    "duration": 1819,
    "start_time": "2022-10-29T17:02:31.248Z"
   },
   {
    "duration": 3,
    "start_time": "2022-10-29T17:02:33.069Z"
   },
   {
    "duration": 28,
    "start_time": "2022-10-29T17:02:33.073Z"
   },
   {
    "duration": 125,
    "start_time": "2022-10-29T17:02:33.102Z"
   },
   {
    "duration": 0,
    "start_time": "2022-10-29T17:02:33.228Z"
   },
   {
    "duration": 13,
    "start_time": "2022-10-29T17:15:42.936Z"
   },
   {
    "duration": 274,
    "start_time": "2022-10-29T17:16:03.744Z"
   },
   {
    "duration": 226,
    "start_time": "2022-10-29T17:16:48.892Z"
   },
   {
    "duration": 74,
    "start_time": "2022-10-29T17:17:25.026Z"
   },
   {
    "duration": 5,
    "start_time": "2022-10-29T17:17:31.701Z"
   },
   {
    "duration": 76,
    "start_time": "2022-10-29T17:29:44.342Z"
   },
   {
    "duration": 10,
    "start_time": "2022-10-29T17:31:05.020Z"
   },
   {
    "duration": 9,
    "start_time": "2022-10-29T17:32:53.978Z"
   },
   {
    "duration": 17,
    "start_time": "2022-10-29T17:33:20.940Z"
   },
   {
    "duration": 16,
    "start_time": "2022-10-29T17:33:21.185Z"
   },
   {
    "duration": 9,
    "start_time": "2022-10-29T17:33:33.900Z"
   },
   {
    "duration": 72,
    "start_time": "2022-10-29T17:39:31.754Z"
   },
   {
    "duration": 46,
    "start_time": "2022-10-29T17:40:56.658Z"
   },
   {
    "duration": 32,
    "start_time": "2022-10-29T17:42:11.140Z"
   },
   {
    "duration": 9,
    "start_time": "2022-10-29T17:43:25.841Z"
   },
   {
    "duration": 32,
    "start_time": "2022-10-29T17:45:03.182Z"
   },
   {
    "duration": 8,
    "start_time": "2022-10-29T17:47:11.195Z"
   },
   {
    "duration": 10,
    "start_time": "2022-10-29T17:47:57.866Z"
   },
   {
    "duration": 79,
    "start_time": "2022-10-29T17:49:20.373Z"
   },
   {
    "duration": 35,
    "start_time": "2022-10-29T17:50:42.640Z"
   },
   {
    "duration": 74,
    "start_time": "2022-10-29T17:51:00.876Z"
   },
   {
    "duration": 21,
    "start_time": "2022-10-29T17:51:25.477Z"
   },
   {
    "duration": 35,
    "start_time": "2022-10-29T17:52:30.171Z"
   },
   {
    "duration": 39,
    "start_time": "2022-10-29T17:54:04.446Z"
   },
   {
    "duration": 150,
    "start_time": "2022-10-29T18:07:52.517Z"
   },
   {
    "duration": 138,
    "start_time": "2022-10-29T18:08:13.319Z"
   },
   {
    "duration": 115,
    "start_time": "2022-10-29T18:08:22.300Z"
   },
   {
    "duration": 121,
    "start_time": "2022-10-29T18:08:23.851Z"
   },
   {
    "duration": 1362,
    "start_time": "2022-10-29T18:09:12.236Z"
   },
   {
    "duration": 43,
    "start_time": "2022-10-29T18:09:13.600Z"
   },
   {
    "duration": 12,
    "start_time": "2022-10-29T18:09:13.645Z"
   },
   {
    "duration": 13,
    "start_time": "2022-10-29T18:09:13.659Z"
   },
   {
    "duration": 3,
    "start_time": "2022-10-29T18:09:13.673Z"
   },
   {
    "duration": 18,
    "start_time": "2022-10-29T18:09:13.677Z"
   },
   {
    "duration": 5,
    "start_time": "2022-10-29T18:09:13.696Z"
   },
   {
    "duration": 11,
    "start_time": "2022-10-29T18:09:13.702Z"
   },
   {
    "duration": 8,
    "start_time": "2022-10-29T18:09:13.715Z"
   },
   {
    "duration": 6,
    "start_time": "2022-10-29T18:09:13.726Z"
   },
   {
    "duration": 17,
    "start_time": "2022-10-29T18:09:13.734Z"
   },
   {
    "duration": 566,
    "start_time": "2022-10-29T18:09:13.752Z"
   },
   {
    "duration": 562,
    "start_time": "2022-10-29T18:09:14.319Z"
   },
   {
    "duration": 10,
    "start_time": "2022-10-29T18:09:14.890Z"
   },
   {
    "duration": 15,
    "start_time": "2022-10-29T18:09:14.901Z"
   },
   {
    "duration": 6,
    "start_time": "2022-10-29T18:09:14.918Z"
   },
   {
    "duration": 7,
    "start_time": "2022-10-29T18:09:14.925Z"
   },
   {
    "duration": 5,
    "start_time": "2022-10-29T18:09:14.933Z"
   },
   {
    "duration": 5,
    "start_time": "2022-10-29T18:09:14.940Z"
   },
   {
    "duration": 4,
    "start_time": "2022-10-29T18:09:14.946Z"
   },
   {
    "duration": 40,
    "start_time": "2022-10-29T18:09:14.951Z"
   },
   {
    "duration": 10,
    "start_time": "2022-10-29T18:09:14.993Z"
   },
   {
    "duration": 142,
    "start_time": "2022-10-29T18:09:15.004Z"
   },
   {
    "duration": 29,
    "start_time": "2022-10-29T18:09:15.148Z"
   },
   {
    "duration": 126,
    "start_time": "2022-10-29T18:09:15.191Z"
   },
   {
    "duration": 26,
    "start_time": "2022-10-29T18:09:15.319Z"
   },
   {
    "duration": 9,
    "start_time": "2022-10-29T18:09:15.346Z"
   },
   {
    "duration": 43,
    "start_time": "2022-10-29T18:09:15.359Z"
   },
   {
    "duration": 71,
    "start_time": "2022-10-29T18:09:15.403Z"
   },
   {
    "duration": 17,
    "start_time": "2022-10-29T18:09:15.476Z"
   },
   {
    "duration": 18,
    "start_time": "2022-10-29T18:09:15.495Z"
   },
   {
    "duration": 6,
    "start_time": "2022-10-29T18:09:15.514Z"
   },
   {
    "duration": 15,
    "start_time": "2022-10-29T18:09:15.521Z"
   },
   {
    "duration": 311,
    "start_time": "2022-10-29T18:09:15.537Z"
   },
   {
    "duration": 7,
    "start_time": "2022-10-29T18:09:15.849Z"
   },
   {
    "duration": 17,
    "start_time": "2022-10-29T18:09:15.857Z"
   },
   {
    "duration": 17,
    "start_time": "2022-10-29T18:09:15.875Z"
   },
   {
    "duration": 6,
    "start_time": "2022-10-29T18:09:15.893Z"
   },
   {
    "duration": 31,
    "start_time": "2022-10-29T18:09:15.901Z"
   },
   {
    "duration": 13,
    "start_time": "2022-10-29T18:09:15.934Z"
   },
   {
    "duration": 137,
    "start_time": "2022-10-29T18:09:15.949Z"
   },
   {
    "duration": 141,
    "start_time": "2022-10-29T18:09:16.090Z"
   },
   {
    "duration": 4,
    "start_time": "2022-10-29T18:09:16.233Z"
   },
   {
    "duration": 14,
    "start_time": "2022-10-29T18:09:16.239Z"
   },
   {
    "duration": 7,
    "start_time": "2022-10-29T18:09:16.255Z"
   },
   {
    "duration": 32,
    "start_time": "2022-10-29T18:09:16.263Z"
   },
   {
    "duration": 9,
    "start_time": "2022-10-29T18:09:16.297Z"
   },
   {
    "duration": 7,
    "start_time": "2022-10-29T18:09:16.308Z"
   },
   {
    "duration": 18,
    "start_time": "2022-10-29T18:09:16.316Z"
   },
   {
    "duration": 5,
    "start_time": "2022-10-29T18:09:16.336Z"
   },
   {
    "duration": 50,
    "start_time": "2022-10-29T18:09:16.342Z"
   },
   {
    "duration": 151,
    "start_time": "2022-10-29T18:09:16.394Z"
   },
   {
    "duration": 329,
    "start_time": "2022-10-29T18:09:16.547Z"
   },
   {
    "duration": 523,
    "start_time": "2022-10-29T18:09:16.877Z"
   },
   {
    "duration": 6,
    "start_time": "2022-10-29T18:09:17.492Z"
   },
   {
    "duration": 99,
    "start_time": "2022-10-29T18:09:17.501Z"
   },
   {
    "duration": 13,
    "start_time": "2022-10-29T18:09:17.602Z"
   },
   {
    "duration": 21,
    "start_time": "2022-10-29T18:09:17.617Z"
   },
   {
    "duration": 5,
    "start_time": "2022-10-29T18:09:17.640Z"
   },
   {
    "duration": 47,
    "start_time": "2022-10-29T18:09:17.646Z"
   },
   {
    "duration": 236,
    "start_time": "2022-10-29T18:09:17.695Z"
   },
   {
    "duration": 353,
    "start_time": "2022-10-29T18:09:17.932Z"
   },
   {
    "duration": 13,
    "start_time": "2022-10-29T18:09:18.290Z"
   },
   {
    "duration": 127,
    "start_time": "2022-10-29T18:09:18.305Z"
   },
   {
    "duration": 127,
    "start_time": "2022-10-29T18:09:18.434Z"
   },
   {
    "duration": 132,
    "start_time": "2022-10-29T18:09:18.563Z"
   },
   {
    "duration": 3,
    "start_time": "2022-10-29T18:09:18.697Z"
   },
   {
    "duration": 15,
    "start_time": "2022-10-29T18:09:18.701Z"
   },
   {
    "duration": 4,
    "start_time": "2022-10-29T18:09:18.718Z"
   },
   {
    "duration": 9,
    "start_time": "2022-10-29T18:09:18.724Z"
   },
   {
    "duration": 153,
    "start_time": "2022-10-29T18:09:18.735Z"
   },
   {
    "duration": 0,
    "start_time": "2022-10-29T18:09:18.891Z"
   },
   {
    "duration": 0,
    "start_time": "2022-10-29T18:09:18.892Z"
   },
   {
    "duration": 3172,
    "start_time": "2022-10-29T18:15:02.087Z"
   },
   {
    "duration": 189,
    "start_time": "2022-10-29T18:15:57.376Z"
   },
   {
    "duration": 304,
    "start_time": "2022-10-29T18:16:21.673Z"
   },
   {
    "duration": 197,
    "start_time": "2022-10-29T18:16:42.182Z"
   },
   {
    "duration": 138,
    "start_time": "2022-10-29T18:17:34.873Z"
   },
   {
    "duration": 228,
    "start_time": "2022-10-29T18:17:54.350Z"
   },
   {
    "duration": 4,
    "start_time": "2022-10-29T18:44:31.699Z"
   },
   {
    "duration": 11,
    "start_time": "2022-10-29T18:44:39.039Z"
   },
   {
    "duration": 1331,
    "start_time": "2022-10-29T19:10:24.140Z"
   },
   {
    "duration": 41,
    "start_time": "2022-10-29T19:10:25.473Z"
   },
   {
    "duration": 13,
    "start_time": "2022-10-29T19:10:25.516Z"
   },
   {
    "duration": 22,
    "start_time": "2022-10-29T19:10:25.530Z"
   },
   {
    "duration": 23,
    "start_time": "2022-10-29T19:10:25.553Z"
   },
   {
    "duration": 21,
    "start_time": "2022-10-29T19:10:25.578Z"
   },
   {
    "duration": 5,
    "start_time": "2022-10-29T19:10:25.601Z"
   },
   {
    "duration": 16,
    "start_time": "2022-10-29T19:10:25.607Z"
   },
   {
    "duration": 11,
    "start_time": "2022-10-29T19:10:25.625Z"
   },
   {
    "duration": 16,
    "start_time": "2022-10-29T19:10:25.639Z"
   },
   {
    "duration": 32,
    "start_time": "2022-10-29T19:10:25.656Z"
   },
   {
    "duration": 534,
    "start_time": "2022-10-29T19:10:25.690Z"
   },
   {
    "duration": 628,
    "start_time": "2022-10-29T19:10:26.226Z"
   },
   {
    "duration": 11,
    "start_time": "2022-10-29T19:10:26.856Z"
   },
   {
    "duration": 25,
    "start_time": "2022-10-29T19:10:26.869Z"
   },
   {
    "duration": 7,
    "start_time": "2022-10-29T19:10:26.896Z"
   },
   {
    "duration": 6,
    "start_time": "2022-10-29T19:10:26.905Z"
   },
   {
    "duration": 5,
    "start_time": "2022-10-29T19:10:26.913Z"
   },
   {
    "duration": 6,
    "start_time": "2022-10-29T19:10:26.919Z"
   },
   {
    "duration": 5,
    "start_time": "2022-10-29T19:10:26.927Z"
   },
   {
    "duration": 7,
    "start_time": "2022-10-29T19:10:26.933Z"
   },
   {
    "duration": 12,
    "start_time": "2022-10-29T19:10:26.941Z"
   },
   {
    "duration": 170,
    "start_time": "2022-10-29T19:10:26.955Z"
   },
   {
    "duration": 28,
    "start_time": "2022-10-29T19:10:27.127Z"
   },
   {
    "duration": 123,
    "start_time": "2022-10-29T19:10:27.157Z"
   },
   {
    "duration": 24,
    "start_time": "2022-10-29T19:10:27.291Z"
   },
   {
    "duration": 10,
    "start_time": "2022-10-29T19:10:27.316Z"
   },
   {
    "duration": 27,
    "start_time": "2022-10-29T19:10:27.329Z"
   },
   {
    "duration": 96,
    "start_time": "2022-10-29T19:10:27.357Z"
   },
   {
    "duration": 6,
    "start_time": "2022-10-29T19:10:27.455Z"
   },
   {
    "duration": 11,
    "start_time": "2022-10-29T19:10:27.462Z"
   },
   {
    "duration": 22,
    "start_time": "2022-10-29T19:10:27.474Z"
   },
   {
    "duration": 13,
    "start_time": "2022-10-29T19:10:27.498Z"
   },
   {
    "duration": 265,
    "start_time": "2022-10-29T19:10:27.513Z"
   },
   {
    "duration": 13,
    "start_time": "2022-10-29T19:10:27.780Z"
   },
   {
    "duration": 12,
    "start_time": "2022-10-29T19:10:27.795Z"
   },
   {
    "duration": 5,
    "start_time": "2022-10-29T19:10:27.808Z"
   },
   {
    "duration": 4,
    "start_time": "2022-10-29T19:10:27.815Z"
   },
   {
    "duration": 15,
    "start_time": "2022-10-29T19:10:27.821Z"
   },
   {
    "duration": 9,
    "start_time": "2022-10-29T19:10:27.838Z"
   },
   {
    "duration": 175,
    "start_time": "2022-10-29T19:10:27.849Z"
   },
   {
    "duration": 155,
    "start_time": "2022-10-29T19:10:28.026Z"
   },
   {
    "duration": 9,
    "start_time": "2022-10-29T19:10:28.183Z"
   },
   {
    "duration": 16,
    "start_time": "2022-10-29T19:10:28.193Z"
   },
   {
    "duration": 9,
    "start_time": "2022-10-29T19:10:28.210Z"
   },
   {
    "duration": 11,
    "start_time": "2022-10-29T19:10:28.221Z"
   },
   {
    "duration": 7,
    "start_time": "2022-10-29T19:10:28.234Z"
   },
   {
    "duration": 8,
    "start_time": "2022-10-29T19:10:28.242Z"
   },
   {
    "duration": 49,
    "start_time": "2022-10-29T19:10:28.251Z"
   },
   {
    "duration": 6,
    "start_time": "2022-10-29T19:10:28.301Z"
   },
   {
    "duration": 20,
    "start_time": "2022-10-29T19:10:28.309Z"
   },
   {
    "duration": 164,
    "start_time": "2022-10-29T19:10:28.331Z"
   },
   {
    "duration": 267,
    "start_time": "2022-10-29T19:10:28.497Z"
   },
   {
    "duration": 430,
    "start_time": "2022-10-29T19:10:28.766Z"
   },
   {
    "duration": 93,
    "start_time": "2022-10-29T19:10:29.198Z"
   },
   {
    "duration": 12,
    "start_time": "2022-10-29T19:10:29.293Z"
   },
   {
    "duration": 10,
    "start_time": "2022-10-29T19:10:29.307Z"
   },
   {
    "duration": 85,
    "start_time": "2022-10-29T19:10:29.318Z"
   },
   {
    "duration": 24,
    "start_time": "2022-10-29T19:10:29.405Z"
   },
   {
    "duration": 4,
    "start_time": "2022-10-29T19:10:29.430Z"
   },
   {
    "duration": 12,
    "start_time": "2022-10-29T19:10:29.436Z"
   },
   {
    "duration": 259,
    "start_time": "2022-10-29T19:10:29.450Z"
   },
   {
    "duration": 367,
    "start_time": "2022-10-29T19:10:29.711Z"
   },
   {
    "duration": 20,
    "start_time": "2022-10-29T19:10:30.080Z"
   },
   {
    "duration": 207,
    "start_time": "2022-10-29T19:10:30.101Z"
   },
   {
    "duration": 223,
    "start_time": "2022-10-29T19:10:30.310Z"
   },
   {
    "duration": 213,
    "start_time": "2022-10-29T19:10:30.535Z"
   },
   {
    "duration": 2,
    "start_time": "2022-10-29T19:10:30.750Z"
   },
   {
    "duration": 22,
    "start_time": "2022-10-29T19:10:30.754Z"
   },
   {
    "duration": 18,
    "start_time": "2022-10-29T19:10:30.778Z"
   },
   {
    "duration": 18,
    "start_time": "2022-10-29T19:10:30.797Z"
   },
   {
    "duration": 136,
    "start_time": "2022-10-29T19:10:30.817Z"
   },
   {
    "duration": 0,
    "start_time": "2022-10-29T19:10:30.955Z"
   },
   {
    "duration": 1,
    "start_time": "2022-10-29T19:10:30.956Z"
   },
   {
    "duration": 606,
    "start_time": "2022-10-29T19:22:40.649Z"
   },
   {
    "duration": 240,
    "start_time": "2022-10-29T19:37:50.369Z"
   },
   {
    "duration": 265,
    "start_time": "2022-10-29T19:38:03.676Z"
   },
   {
    "duration": 685,
    "start_time": "2022-10-29T19:38:20.879Z"
   },
   {
    "duration": 204,
    "start_time": "2022-10-29T19:38:43.361Z"
   },
   {
    "duration": 252,
    "start_time": "2022-10-29T19:38:52.836Z"
   },
   {
    "duration": 293,
    "start_time": "2022-10-29T19:39:35.914Z"
   },
   {
    "duration": 1453,
    "start_time": "2022-10-29T19:39:57.554Z"
   },
   {
    "duration": 42,
    "start_time": "2022-10-29T19:39:59.009Z"
   },
   {
    "duration": 12,
    "start_time": "2022-10-29T19:39:59.053Z"
   },
   {
    "duration": 13,
    "start_time": "2022-10-29T19:39:59.067Z"
   },
   {
    "duration": 3,
    "start_time": "2022-10-29T19:39:59.082Z"
   },
   {
    "duration": 17,
    "start_time": "2022-10-29T19:39:59.087Z"
   },
   {
    "duration": 5,
    "start_time": "2022-10-29T19:39:59.105Z"
   },
   {
    "duration": 8,
    "start_time": "2022-10-29T19:39:59.112Z"
   },
   {
    "duration": 9,
    "start_time": "2022-10-29T19:39:59.122Z"
   },
   {
    "duration": 7,
    "start_time": "2022-10-29T19:39:59.133Z"
   },
   {
    "duration": 17,
    "start_time": "2022-10-29T19:39:59.142Z"
   },
   {
    "duration": 555,
    "start_time": "2022-10-29T19:39:59.192Z"
   },
   {
    "duration": 572,
    "start_time": "2022-10-29T19:39:59.749Z"
   },
   {
    "duration": 10,
    "start_time": "2022-10-29T19:40:00.322Z"
   },
   {
    "duration": 30,
    "start_time": "2022-10-29T19:40:00.334Z"
   },
   {
    "duration": 9,
    "start_time": "2022-10-29T19:40:00.366Z"
   },
   {
    "duration": 15,
    "start_time": "2022-10-29T19:40:00.376Z"
   },
   {
    "duration": 13,
    "start_time": "2022-10-29T19:40:00.392Z"
   },
   {
    "duration": 13,
    "start_time": "2022-10-29T19:40:00.407Z"
   },
   {
    "duration": 5,
    "start_time": "2022-10-29T19:40:00.424Z"
   },
   {
    "duration": 16,
    "start_time": "2022-10-29T19:40:00.430Z"
   },
   {
    "duration": 28,
    "start_time": "2022-10-29T19:40:00.448Z"
   },
   {
    "duration": 137,
    "start_time": "2022-10-29T19:40:00.477Z"
   },
   {
    "duration": 29,
    "start_time": "2022-10-29T19:40:00.615Z"
   },
   {
    "duration": 125,
    "start_time": "2022-10-29T19:40:00.646Z"
   },
   {
    "duration": 36,
    "start_time": "2022-10-29T19:40:00.773Z"
   },
   {
    "duration": 21,
    "start_time": "2022-10-29T19:40:00.811Z"
   },
   {
    "duration": 26,
    "start_time": "2022-10-29T19:40:00.836Z"
   },
   {
    "duration": 91,
    "start_time": "2022-10-29T19:40:00.864Z"
   },
   {
    "duration": 6,
    "start_time": "2022-10-29T19:40:00.957Z"
   },
   {
    "duration": 12,
    "start_time": "2022-10-29T19:40:00.965Z"
   },
   {
    "duration": 10,
    "start_time": "2022-10-29T19:40:00.992Z"
   },
   {
    "duration": 22,
    "start_time": "2022-10-29T19:40:01.003Z"
   },
   {
    "duration": 265,
    "start_time": "2022-10-29T19:40:01.027Z"
   },
   {
    "duration": 9,
    "start_time": "2022-10-29T19:40:01.294Z"
   },
   {
    "duration": 14,
    "start_time": "2022-10-29T19:40:01.305Z"
   },
   {
    "duration": 9,
    "start_time": "2022-10-29T19:40:01.321Z"
   },
   {
    "duration": 13,
    "start_time": "2022-10-29T19:40:01.332Z"
   },
   {
    "duration": 45,
    "start_time": "2022-10-29T19:40:01.347Z"
   },
   {
    "duration": 9,
    "start_time": "2022-10-29T19:40:01.394Z"
   },
   {
    "duration": 138,
    "start_time": "2022-10-29T19:40:01.405Z"
   },
   {
    "duration": 153,
    "start_time": "2022-10-29T19:40:01.544Z"
   },
   {
    "duration": 5,
    "start_time": "2022-10-29T19:40:01.699Z"
   },
   {
    "duration": 19,
    "start_time": "2022-10-29T19:40:01.706Z"
   },
   {
    "duration": 8,
    "start_time": "2022-10-29T19:40:01.727Z"
   },
   {
    "duration": 12,
    "start_time": "2022-10-29T19:40:01.737Z"
   },
   {
    "duration": 7,
    "start_time": "2022-10-29T19:40:01.751Z"
   },
   {
    "duration": 38,
    "start_time": "2022-10-29T19:40:01.759Z"
   },
   {
    "duration": 17,
    "start_time": "2022-10-29T19:40:01.798Z"
   },
   {
    "duration": 5,
    "start_time": "2022-10-29T19:40:01.817Z"
   },
   {
    "duration": 25,
    "start_time": "2022-10-29T19:40:01.825Z"
   },
   {
    "duration": 213,
    "start_time": "2022-10-29T19:40:01.852Z"
   },
   {
    "duration": 284,
    "start_time": "2022-10-29T19:40:02.067Z"
   },
   {
    "duration": 643,
    "start_time": "2022-10-29T19:40:02.353Z"
   },
   {
    "duration": 6,
    "start_time": "2022-10-29T19:40:03.000Z"
   },
   {
    "duration": 101,
    "start_time": "2022-10-29T19:40:03.090Z"
   },
   {
    "duration": 14,
    "start_time": "2022-10-29T19:40:03.193Z"
   },
   {
    "duration": 17,
    "start_time": "2022-10-29T19:40:03.209Z"
   },
   {
    "duration": 26,
    "start_time": "2022-10-29T19:40:03.228Z"
   },
   {
    "duration": 5,
    "start_time": "2022-10-29T19:40:03.256Z"
   },
   {
    "duration": 43,
    "start_time": "2022-10-29T19:40:03.262Z"
   },
   {
    "duration": 265,
    "start_time": "2022-10-29T19:40:03.307Z"
   },
   {
    "duration": 369,
    "start_time": "2022-10-29T19:40:03.575Z"
   },
   {
    "duration": 685,
    "start_time": "2022-10-29T19:40:03.945Z"
   },
   {
    "duration": 3,
    "start_time": "2022-10-29T19:40:04.631Z"
   },
   {
    "duration": 16,
    "start_time": "2022-10-29T19:40:04.635Z"
   },
   {
    "duration": 5,
    "start_time": "2022-10-29T19:40:04.653Z"
   },
   {
    "duration": 35,
    "start_time": "2022-10-29T19:40:04.660Z"
   },
   {
    "duration": 144,
    "start_time": "2022-10-29T19:40:04.697Z"
   },
   {
    "duration": 0,
    "start_time": "2022-10-29T19:40:04.843Z"
   },
   {
    "duration": 0,
    "start_time": "2022-10-29T19:40:04.844Z"
   },
   {
    "duration": 218,
    "start_time": "2022-10-29T19:41:29.703Z"
   },
   {
    "duration": 231,
    "start_time": "2022-10-29T19:44:55.405Z"
   },
   {
    "duration": 1407,
    "start_time": "2022-10-29T19:45:10.713Z"
   },
   {
    "duration": 43,
    "start_time": "2022-10-29T19:45:12.122Z"
   },
   {
    "duration": 13,
    "start_time": "2022-10-29T19:45:12.167Z"
   },
   {
    "duration": 19,
    "start_time": "2022-10-29T19:45:12.181Z"
   },
   {
    "duration": 3,
    "start_time": "2022-10-29T19:45:12.202Z"
   },
   {
    "duration": 16,
    "start_time": "2022-10-29T19:45:12.206Z"
   },
   {
    "duration": 6,
    "start_time": "2022-10-29T19:45:12.224Z"
   },
   {
    "duration": 10,
    "start_time": "2022-10-29T19:45:12.232Z"
   },
   {
    "duration": 12,
    "start_time": "2022-10-29T19:45:12.244Z"
   },
   {
    "duration": 8,
    "start_time": "2022-10-29T19:45:12.290Z"
   },
   {
    "duration": 23,
    "start_time": "2022-10-29T19:45:12.300Z"
   },
   {
    "duration": 602,
    "start_time": "2022-10-29T19:45:12.325Z"
   },
   {
    "duration": 583,
    "start_time": "2022-10-29T19:45:12.929Z"
   },
   {
    "duration": 9,
    "start_time": "2022-10-29T19:45:13.515Z"
   },
   {
    "duration": 12,
    "start_time": "2022-10-29T19:45:13.526Z"
   },
   {
    "duration": 8,
    "start_time": "2022-10-29T19:45:13.540Z"
   },
   {
    "duration": 7,
    "start_time": "2022-10-29T19:45:13.549Z"
   },
   {
    "duration": 4,
    "start_time": "2022-10-29T19:45:13.591Z"
   },
   {
    "duration": 6,
    "start_time": "2022-10-29T19:45:13.597Z"
   },
   {
    "duration": 3,
    "start_time": "2022-10-29T19:45:13.605Z"
   },
   {
    "duration": 5,
    "start_time": "2022-10-29T19:45:13.609Z"
   },
   {
    "duration": 9,
    "start_time": "2022-10-29T19:45:13.615Z"
   },
   {
    "duration": 156,
    "start_time": "2022-10-29T19:45:13.626Z"
   },
   {
    "duration": 30,
    "start_time": "2022-10-29T19:45:13.791Z"
   },
   {
    "duration": 129,
    "start_time": "2022-10-29T19:45:13.823Z"
   },
   {
    "duration": 20,
    "start_time": "2022-10-29T19:45:13.954Z"
   },
   {
    "duration": 9,
    "start_time": "2022-10-29T19:45:13.991Z"
   },
   {
    "duration": 24,
    "start_time": "2022-10-29T19:45:14.002Z"
   },
   {
    "duration": 83,
    "start_time": "2022-10-29T19:45:14.028Z"
   },
   {
    "duration": 5,
    "start_time": "2022-10-29T19:45:14.113Z"
   },
   {
    "duration": 11,
    "start_time": "2022-10-29T19:45:14.120Z"
   },
   {
    "duration": 7,
    "start_time": "2022-10-29T19:45:14.132Z"
   },
   {
    "duration": 11,
    "start_time": "2022-10-29T19:45:14.140Z"
   },
   {
    "duration": 292,
    "start_time": "2022-10-29T19:45:14.153Z"
   },
   {
    "duration": 8,
    "start_time": "2022-10-29T19:45:14.447Z"
   },
   {
    "duration": 34,
    "start_time": "2022-10-29T19:45:14.457Z"
   },
   {
    "duration": 5,
    "start_time": "2022-10-29T19:45:14.493Z"
   },
   {
    "duration": 6,
    "start_time": "2022-10-29T19:45:14.502Z"
   },
   {
    "duration": 20,
    "start_time": "2022-10-29T19:45:14.509Z"
   },
   {
    "duration": 11,
    "start_time": "2022-10-29T19:45:14.531Z"
   },
   {
    "duration": 181,
    "start_time": "2022-10-29T19:45:14.547Z"
   },
   {
    "duration": 144,
    "start_time": "2022-10-29T19:45:14.730Z"
   },
   {
    "duration": 5,
    "start_time": "2022-10-29T19:45:14.875Z"
   },
   {
    "duration": 13,
    "start_time": "2022-10-29T19:45:14.891Z"
   },
   {
    "duration": 7,
    "start_time": "2022-10-29T19:45:14.906Z"
   },
   {
    "duration": 14,
    "start_time": "2022-10-29T19:45:14.915Z"
   },
   {
    "duration": 10,
    "start_time": "2022-10-29T19:45:14.931Z"
   },
   {
    "duration": 13,
    "start_time": "2022-10-29T19:45:14.943Z"
   },
   {
    "duration": 33,
    "start_time": "2022-10-29T19:45:14.958Z"
   },
   {
    "duration": 5,
    "start_time": "2022-10-29T19:45:14.992Z"
   },
   {
    "duration": 43,
    "start_time": "2022-10-29T19:45:14.998Z"
   },
   {
    "duration": 149,
    "start_time": "2022-10-29T19:45:15.042Z"
   },
   {
    "duration": 276,
    "start_time": "2022-10-29T19:45:15.192Z"
   },
   {
    "duration": 430,
    "start_time": "2022-10-29T19:45:15.470Z"
   },
   {
    "duration": 3,
    "start_time": "2022-10-29T19:45:15.992Z"
   },
   {
    "duration": 96,
    "start_time": "2022-10-29T19:45:15.997Z"
   },
   {
    "duration": 10,
    "start_time": "2022-10-29T19:45:16.095Z"
   },
   {
    "duration": 14,
    "start_time": "2022-10-29T19:45:16.106Z"
   },
   {
    "duration": 20,
    "start_time": "2022-10-29T19:45:16.121Z"
   },
   {
    "duration": 4,
    "start_time": "2022-10-29T19:45:16.143Z"
   },
   {
    "duration": 50,
    "start_time": "2022-10-29T19:45:16.148Z"
   },
   {
    "duration": 246,
    "start_time": "2022-10-29T19:45:16.200Z"
   },
   {
    "duration": 433,
    "start_time": "2022-10-29T19:45:16.448Z"
   },
   {
    "duration": 599,
    "start_time": "2022-10-29T19:45:16.883Z"
   },
   {
    "duration": 7,
    "start_time": "2022-10-29T19:45:17.484Z"
   },
   {
    "duration": 16,
    "start_time": "2022-10-29T19:45:17.493Z"
   },
   {
    "duration": 4,
    "start_time": "2022-10-29T19:45:17.511Z"
   },
   {
    "duration": 15,
    "start_time": "2022-10-29T19:45:17.517Z"
   },
   {
    "duration": 141,
    "start_time": "2022-10-29T19:45:17.533Z"
   },
   {
    "duration": 0,
    "start_time": "2022-10-29T19:45:17.676Z"
   },
   {
    "duration": 0,
    "start_time": "2022-10-29T19:45:17.677Z"
   },
   {
    "duration": 22,
    "start_time": "2022-10-29T19:45:47.506Z"
   },
   {
    "duration": 603,
    "start_time": "2022-10-29T19:46:34.963Z"
   },
   {
    "duration": 6,
    "start_time": "2022-10-29T20:03:14.436Z"
   },
   {
    "duration": 4,
    "start_time": "2022-10-29T20:05:29.343Z"
   },
   {
    "duration": 5,
    "start_time": "2022-10-29T20:25:30.259Z"
   },
   {
    "duration": 4,
    "start_time": "2022-10-29T20:25:45.544Z"
   },
   {
    "duration": 4,
    "start_time": "2022-10-29T20:25:54.088Z"
   },
   {
    "duration": 77,
    "start_time": "2022-10-29T20:29:26.724Z"
   },
   {
    "duration": 31,
    "start_time": "2022-10-29T20:29:50.512Z"
   },
   {
    "duration": 33,
    "start_time": "2022-10-29T20:30:06.258Z"
   },
   {
    "duration": 10,
    "start_time": "2022-10-29T20:30:19.532Z"
   },
   {
    "duration": 9,
    "start_time": "2022-10-29T20:30:58.977Z"
   },
   {
    "duration": 37,
    "start_time": "2022-10-29T20:32:39.598Z"
   },
   {
    "duration": 5,
    "start_time": "2022-10-29T20:33:51.758Z"
   },
   {
    "duration": 3,
    "start_time": "2022-10-29T20:33:57.381Z"
   },
   {
    "duration": 15,
    "start_time": "2022-10-29T21:12:54.286Z"
   },
   {
    "duration": 12,
    "start_time": "2022-10-29T21:13:14.118Z"
   },
   {
    "duration": 237,
    "start_time": "2022-10-29T21:20:37.893Z"
   },
   {
    "duration": 222,
    "start_time": "2022-10-29T21:20:51.680Z"
   },
   {
    "duration": 13,
    "start_time": "2022-10-29T21:21:26.840Z"
   },
   {
    "duration": 138,
    "start_time": "2022-10-29T21:22:10.939Z"
   },
   {
    "duration": 137,
    "start_time": "2022-10-29T21:22:24.641Z"
   },
   {
    "duration": 245,
    "start_time": "2022-10-29T21:23:08.266Z"
   },
   {
    "duration": 129,
    "start_time": "2022-10-29T21:23:54.729Z"
   },
   {
    "duration": 136,
    "start_time": "2022-10-29T21:24:28.212Z"
   },
   {
    "duration": 138,
    "start_time": "2022-10-29T21:25:23.824Z"
   },
   {
    "duration": 145,
    "start_time": "2022-10-29T21:26:00.224Z"
   },
   {
    "duration": 20,
    "start_time": "2022-10-29T21:35:14.649Z"
   },
   {
    "duration": 14,
    "start_time": "2022-10-29T21:35:26.543Z"
   },
   {
    "duration": 11,
    "start_time": "2022-10-29T21:35:44.249Z"
   },
   {
    "duration": 13,
    "start_time": "2022-10-29T21:38:39.622Z"
   },
   {
    "duration": 12,
    "start_time": "2022-10-29T21:38:45.917Z"
   },
   {
    "duration": 36,
    "start_time": "2022-10-29T21:54:45.647Z"
   },
   {
    "duration": 20,
    "start_time": "2022-10-29T22:03:18.832Z"
   },
   {
    "duration": 1110,
    "start_time": "2022-10-29T22:03:46.722Z"
   },
   {
    "duration": 20,
    "start_time": "2022-10-29T22:04:28.314Z"
   },
   {
    "duration": 14,
    "start_time": "2022-10-29T22:05:29.687Z"
   },
   {
    "duration": 13,
    "start_time": "2022-10-29T22:05:44.289Z"
   },
   {
    "duration": 12,
    "start_time": "2022-10-29T22:05:49.184Z"
   },
   {
    "duration": 47,
    "start_time": "2022-10-29T22:06:05.583Z"
   },
   {
    "duration": 35,
    "start_time": "2022-10-29T22:06:48.282Z"
   },
   {
    "duration": 1320,
    "start_time": "2022-10-29T22:10:06.752Z"
   },
   {
    "duration": 42,
    "start_time": "2022-10-29T22:10:08.074Z"
   },
   {
    "duration": 11,
    "start_time": "2022-10-29T22:10:08.118Z"
   },
   {
    "duration": 12,
    "start_time": "2022-10-29T22:10:08.131Z"
   },
   {
    "duration": 3,
    "start_time": "2022-10-29T22:10:08.144Z"
   },
   {
    "duration": 17,
    "start_time": "2022-10-29T22:10:08.149Z"
   },
   {
    "duration": 4,
    "start_time": "2022-10-29T22:10:08.168Z"
   },
   {
    "duration": 22,
    "start_time": "2022-10-29T22:10:08.174Z"
   },
   {
    "duration": 8,
    "start_time": "2022-10-29T22:10:08.199Z"
   },
   {
    "duration": 7,
    "start_time": "2022-10-29T22:10:08.209Z"
   },
   {
    "duration": 19,
    "start_time": "2022-10-29T22:10:08.218Z"
   },
   {
    "duration": 576,
    "start_time": "2022-10-29T22:10:08.238Z"
   },
   {
    "duration": 546,
    "start_time": "2022-10-29T22:10:08.816Z"
   },
   {
    "duration": 9,
    "start_time": "2022-10-29T22:10:09.363Z"
   },
   {
    "duration": 19,
    "start_time": "2022-10-29T22:10:09.373Z"
   },
   {
    "duration": 6,
    "start_time": "2022-10-29T22:10:09.394Z"
   },
   {
    "duration": 6,
    "start_time": "2022-10-29T22:10:09.401Z"
   },
   {
    "duration": 13,
    "start_time": "2022-10-29T22:10:09.408Z"
   },
   {
    "duration": 8,
    "start_time": "2022-10-29T22:10:09.423Z"
   },
   {
    "duration": 7,
    "start_time": "2022-10-29T22:10:09.432Z"
   },
   {
    "duration": 6,
    "start_time": "2022-10-29T22:10:09.441Z"
   },
   {
    "duration": 10,
    "start_time": "2022-10-29T22:10:09.449Z"
   },
   {
    "duration": 151,
    "start_time": "2022-10-29T22:10:09.460Z"
   },
   {
    "duration": 32,
    "start_time": "2022-10-29T22:10:09.613Z"
   },
   {
    "duration": 144,
    "start_time": "2022-10-29T22:10:09.647Z"
   },
   {
    "duration": 22,
    "start_time": "2022-10-29T22:10:09.793Z"
   },
   {
    "duration": 8,
    "start_time": "2022-10-29T22:10:09.816Z"
   },
   {
    "duration": 27,
    "start_time": "2022-10-29T22:10:09.829Z"
   },
   {
    "duration": 96,
    "start_time": "2022-10-29T22:10:09.857Z"
   },
   {
    "duration": 6,
    "start_time": "2022-10-29T22:10:09.954Z"
   },
   {
    "duration": 11,
    "start_time": "2022-10-29T22:10:09.961Z"
   },
   {
    "duration": 17,
    "start_time": "2022-10-29T22:10:09.974Z"
   },
   {
    "duration": 11,
    "start_time": "2022-10-29T22:10:09.993Z"
   },
   {
    "duration": 268,
    "start_time": "2022-10-29T22:10:10.006Z"
   },
   {
    "duration": 16,
    "start_time": "2022-10-29T22:10:10.276Z"
   },
   {
    "duration": 11,
    "start_time": "2022-10-29T22:10:10.294Z"
   },
   {
    "duration": 5,
    "start_time": "2022-10-29T22:10:10.306Z"
   },
   {
    "duration": 5,
    "start_time": "2022-10-29T22:10:10.312Z"
   },
   {
    "duration": 16,
    "start_time": "2022-10-29T22:10:10.318Z"
   },
   {
    "duration": 10,
    "start_time": "2022-10-29T22:10:10.336Z"
   },
   {
    "duration": 172,
    "start_time": "2022-10-29T22:10:10.348Z"
   },
   {
    "duration": 138,
    "start_time": "2022-10-29T22:10:10.522Z"
   },
   {
    "duration": 5,
    "start_time": "2022-10-29T22:10:10.662Z"
   },
   {
    "duration": 27,
    "start_time": "2022-10-29T22:10:10.668Z"
   },
   {
    "duration": 150,
    "start_time": "2022-10-29T22:10:10.697Z"
   },
   {
    "duration": 8,
    "start_time": "2022-10-29T22:10:10.849Z"
   },
   {
    "duration": 156,
    "start_time": "2022-10-29T22:10:10.859Z"
   },
   {
    "duration": 11,
    "start_time": "2022-10-29T22:10:11.017Z"
   },
   {
    "duration": 157,
    "start_time": "2022-10-29T22:10:11.030Z"
   },
   {
    "duration": 7,
    "start_time": "2022-10-29T22:10:11.189Z"
   },
   {
    "duration": 9,
    "start_time": "2022-10-29T22:10:11.197Z"
   },
   {
    "duration": 13,
    "start_time": "2022-10-29T22:10:11.208Z"
   },
   {
    "duration": 4,
    "start_time": "2022-10-29T22:10:11.223Z"
   },
   {
    "duration": 19,
    "start_time": "2022-10-29T22:10:11.229Z"
   },
   {
    "duration": 167,
    "start_time": "2022-10-29T22:10:11.250Z"
   },
   {
    "duration": 372,
    "start_time": "2022-10-29T22:10:11.419Z"
   },
   {
    "duration": 499,
    "start_time": "2022-10-29T22:10:11.792Z"
   },
   {
    "duration": 3,
    "start_time": "2022-10-29T22:10:12.293Z"
   },
   {
    "duration": 100,
    "start_time": "2022-10-29T22:10:12.300Z"
   },
   {
    "duration": 12,
    "start_time": "2022-10-29T22:10:12.401Z"
   },
   {
    "duration": 14,
    "start_time": "2022-10-29T22:10:12.415Z"
   },
   {
    "duration": 20,
    "start_time": "2022-10-29T22:10:12.430Z"
   },
   {
    "duration": 4,
    "start_time": "2022-10-29T22:10:12.452Z"
   },
   {
    "duration": 44,
    "start_time": "2022-10-29T22:10:12.458Z"
   },
   {
    "duration": 223,
    "start_time": "2022-10-29T22:10:12.503Z"
   },
   {
    "duration": 258,
    "start_time": "2022-10-29T22:10:12.728Z"
   },
   {
    "duration": 590,
    "start_time": "2022-10-29T22:10:12.987Z"
   },
   {
    "duration": 12,
    "start_time": "2022-10-29T22:10:13.579Z"
   },
   {
    "duration": 14,
    "start_time": "2022-10-29T22:10:13.593Z"
   },
   {
    "duration": 12,
    "start_time": "2022-10-29T22:10:13.609Z"
   },
   {
    "duration": 5,
    "start_time": "2022-10-29T22:10:13.622Z"
   },
   {
    "duration": 67,
    "start_time": "2022-10-29T22:10:13.629Z"
   },
   {
    "duration": 35,
    "start_time": "2022-10-29T22:10:13.698Z"
   },
   {
    "duration": 1703,
    "start_time": "2022-10-30T07:25:41.257Z"
   },
   {
    "duration": 168,
    "start_time": "2022-10-30T07:25:42.963Z"
   },
   {
    "duration": 14,
    "start_time": "2022-10-30T07:25:43.132Z"
   },
   {
    "duration": 40,
    "start_time": "2022-10-30T07:25:43.148Z"
   },
   {
    "duration": 3,
    "start_time": "2022-10-30T07:25:43.191Z"
   },
   {
    "duration": 23,
    "start_time": "2022-10-30T07:25:43.196Z"
   },
   {
    "duration": 5,
    "start_time": "2022-10-30T07:25:43.221Z"
   },
   {
    "duration": 13,
    "start_time": "2022-10-30T07:25:43.228Z"
   },
   {
    "duration": 10,
    "start_time": "2022-10-30T07:25:43.243Z"
   },
   {
    "duration": 8,
    "start_time": "2022-10-30T07:25:43.256Z"
   },
   {
    "duration": 18,
    "start_time": "2022-10-30T07:25:43.265Z"
   },
   {
    "duration": 586,
    "start_time": "2022-10-30T07:25:43.284Z"
   },
   {
    "duration": 578,
    "start_time": "2022-10-30T07:25:43.872Z"
   },
   {
    "duration": 10,
    "start_time": "2022-10-30T07:25:44.452Z"
   },
   {
    "duration": 16,
    "start_time": "2022-10-30T07:25:44.464Z"
   },
   {
    "duration": 8,
    "start_time": "2022-10-30T07:25:44.482Z"
   },
   {
    "duration": 8,
    "start_time": "2022-10-30T07:25:44.492Z"
   },
   {
    "duration": 5,
    "start_time": "2022-10-30T07:25:44.534Z"
   },
   {
    "duration": 10,
    "start_time": "2022-10-30T07:25:44.540Z"
   },
   {
    "duration": 5,
    "start_time": "2022-10-30T07:25:44.552Z"
   },
   {
    "duration": 9,
    "start_time": "2022-10-30T07:25:44.559Z"
   },
   {
    "duration": 13,
    "start_time": "2022-10-30T07:25:44.570Z"
   },
   {
    "duration": 165,
    "start_time": "2022-10-30T07:25:44.586Z"
   },
   {
    "duration": 39,
    "start_time": "2022-10-30T07:25:44.752Z"
   },
   {
    "duration": 141,
    "start_time": "2022-10-30T07:25:44.793Z"
   },
   {
    "duration": 23,
    "start_time": "2022-10-30T07:25:44.935Z"
   },
   {
    "duration": 15,
    "start_time": "2022-10-30T07:25:44.962Z"
   },
   {
    "duration": 56,
    "start_time": "2022-10-30T07:25:44.983Z"
   },
   {
    "duration": 85,
    "start_time": "2022-10-30T07:25:45.041Z"
   },
   {
    "duration": 7,
    "start_time": "2022-10-30T07:25:45.128Z"
   },
   {
    "duration": 13,
    "start_time": "2022-10-30T07:25:45.137Z"
   },
   {
    "duration": 8,
    "start_time": "2022-10-30T07:25:45.152Z"
   },
   {
    "duration": 15,
    "start_time": "2022-10-30T07:25:45.162Z"
   },
   {
    "duration": 365,
    "start_time": "2022-10-30T07:25:45.180Z"
   },
   {
    "duration": 9,
    "start_time": "2022-10-30T07:25:45.548Z"
   },
   {
    "duration": 14,
    "start_time": "2022-10-30T07:25:45.559Z"
   },
   {
    "duration": 7,
    "start_time": "2022-10-30T07:25:45.575Z"
   },
   {
    "duration": 7,
    "start_time": "2022-10-30T07:25:45.584Z"
   },
   {
    "duration": 56,
    "start_time": "2022-10-30T07:25:45.593Z"
   },
   {
    "duration": 9,
    "start_time": "2022-10-30T07:25:45.651Z"
   },
   {
    "duration": 162,
    "start_time": "2022-10-30T07:25:45.662Z"
   },
   {
    "duration": 143,
    "start_time": "2022-10-30T07:25:45.826Z"
   },
   {
    "duration": 5,
    "start_time": "2022-10-30T07:25:45.971Z"
   },
   {
    "duration": 17,
    "start_time": "2022-10-30T07:25:45.977Z"
   },
   {
    "duration": 167,
    "start_time": "2022-10-30T07:25:45.996Z"
   },
   {
    "duration": 9,
    "start_time": "2022-10-30T07:25:46.165Z"
   },
   {
    "duration": 189,
    "start_time": "2022-10-30T07:25:46.176Z"
   },
   {
    "duration": 14,
    "start_time": "2022-10-30T07:25:46.367Z"
   },
   {
    "duration": 176,
    "start_time": "2022-10-30T07:25:46.383Z"
   },
   {
    "duration": 10,
    "start_time": "2022-10-30T07:25:46.562Z"
   },
   {
    "duration": 16,
    "start_time": "2022-10-30T07:25:46.573Z"
   },
   {
    "duration": 24,
    "start_time": "2022-10-30T07:25:46.591Z"
   },
   {
    "duration": 51,
    "start_time": "2022-10-30T07:25:46.617Z"
   },
   {
    "duration": 27,
    "start_time": "2022-10-30T07:25:46.670Z"
   },
   {
    "duration": 235,
    "start_time": "2022-10-30T07:25:46.699Z"
   },
   {
    "duration": 368,
    "start_time": "2022-10-30T07:25:46.937Z"
   },
   {
    "duration": 534,
    "start_time": "2022-10-30T07:25:47.307Z"
   },
   {
    "duration": 91,
    "start_time": "2022-10-30T07:25:47.844Z"
   },
   {
    "duration": 17,
    "start_time": "2022-10-30T07:25:47.937Z"
   },
   {
    "duration": 15,
    "start_time": "2022-10-30T07:25:47.956Z"
   },
   {
    "duration": 35,
    "start_time": "2022-10-30T07:25:47.973Z"
   },
   {
    "duration": 44,
    "start_time": "2022-10-30T07:25:48.010Z"
   },
   {
    "duration": 22,
    "start_time": "2022-10-30T07:25:48.056Z"
   },
   {
    "duration": 31,
    "start_time": "2022-10-30T07:25:48.080Z"
   },
   {
    "duration": 259,
    "start_time": "2022-10-30T07:25:48.113Z"
   },
   {
    "duration": 295,
    "start_time": "2022-10-30T07:25:48.374Z"
   },
   {
    "duration": 653,
    "start_time": "2022-10-30T07:25:48.671Z"
   },
   {
    "duration": 9,
    "start_time": "2022-10-30T07:25:49.326Z"
   },
   {
    "duration": 22,
    "start_time": "2022-10-30T07:25:49.337Z"
   },
   {
    "duration": 13,
    "start_time": "2022-10-30T07:25:49.361Z"
   },
   {
    "duration": 5,
    "start_time": "2022-10-30T07:25:49.376Z"
   },
   {
    "duration": 77,
    "start_time": "2022-10-30T07:25:49.383Z"
   },
   {
    "duration": 37,
    "start_time": "2022-10-30T07:25:49.462Z"
   },
   {
    "duration": 14,
    "start_time": "2022-10-30T07:45:13.251Z"
   },
   {
    "duration": 128,
    "start_time": "2022-10-30T07:47:30.690Z"
   },
   {
    "duration": 24,
    "start_time": "2022-10-30T07:47:39.106Z"
   },
   {
    "duration": 19,
    "start_time": "2022-10-30T07:54:44.997Z"
   },
   {
    "duration": 414,
    "start_time": "2022-10-30T07:55:20.630Z"
   },
   {
    "duration": 506,
    "start_time": "2022-10-30T07:57:35.344Z"
   },
   {
    "duration": 6,
    "start_time": "2022-10-30T08:03:55.045Z"
   },
   {
    "duration": 24,
    "start_time": "2022-10-30T08:04:14.550Z"
   },
   {
    "duration": 7,
    "start_time": "2022-10-30T08:04:35.130Z"
   },
   {
    "duration": 484,
    "start_time": "2022-10-30T08:05:36.669Z"
   },
   {
    "duration": 421,
    "start_time": "2022-10-30T08:05:52.355Z"
   },
   {
    "duration": 1550,
    "start_time": "2022-10-30T08:11:22.827Z"
   },
   {
    "duration": 57,
    "start_time": "2022-10-30T08:11:24.380Z"
   },
   {
    "duration": 12,
    "start_time": "2022-10-30T08:11:24.440Z"
   },
   {
    "duration": 14,
    "start_time": "2022-10-30T08:11:24.453Z"
   },
   {
    "duration": 4,
    "start_time": "2022-10-30T08:11:24.469Z"
   },
   {
    "duration": 17,
    "start_time": "2022-10-30T08:11:24.474Z"
   },
   {
    "duration": 5,
    "start_time": "2022-10-30T08:11:24.492Z"
   },
   {
    "duration": 44,
    "start_time": "2022-10-30T08:11:24.499Z"
   },
   {
    "duration": 11,
    "start_time": "2022-10-30T08:11:24.545Z"
   },
   {
    "duration": 9,
    "start_time": "2022-10-30T08:11:24.557Z"
   },
   {
    "duration": 20,
    "start_time": "2022-10-30T08:11:24.568Z"
   },
   {
    "duration": 570,
    "start_time": "2022-10-30T08:11:24.590Z"
   },
   {
    "duration": 561,
    "start_time": "2022-10-30T08:11:25.162Z"
   },
   {
    "duration": 9,
    "start_time": "2022-10-30T08:11:25.733Z"
   },
   {
    "duration": 13,
    "start_time": "2022-10-30T08:11:25.744Z"
   },
   {
    "duration": 8,
    "start_time": "2022-10-30T08:11:25.759Z"
   },
   {
    "duration": 7,
    "start_time": "2022-10-30T08:11:25.769Z"
   },
   {
    "duration": 6,
    "start_time": "2022-10-30T08:11:25.778Z"
   },
   {
    "duration": 8,
    "start_time": "2022-10-30T08:11:25.786Z"
   },
   {
    "duration": 43,
    "start_time": "2022-10-30T08:11:25.796Z"
   },
   {
    "duration": 6,
    "start_time": "2022-10-30T08:11:25.841Z"
   },
   {
    "duration": 14,
    "start_time": "2022-10-30T08:11:25.849Z"
   },
   {
    "duration": 142,
    "start_time": "2022-10-30T08:11:25.865Z"
   },
   {
    "duration": 41,
    "start_time": "2022-10-30T08:11:26.008Z"
   },
   {
    "duration": 127,
    "start_time": "2022-10-30T08:11:26.051Z"
   },
   {
    "duration": 37,
    "start_time": "2022-10-30T08:11:26.184Z"
   },
   {
    "duration": 15,
    "start_time": "2022-10-30T08:11:26.234Z"
   },
   {
    "duration": 34,
    "start_time": "2022-10-30T08:11:26.251Z"
   },
   {
    "duration": 133,
    "start_time": "2022-10-30T08:11:26.287Z"
   },
   {
    "duration": 15,
    "start_time": "2022-10-30T08:11:26.422Z"
   },
   {
    "duration": 16,
    "start_time": "2022-10-30T08:11:26.440Z"
   },
   {
    "duration": 9,
    "start_time": "2022-10-30T08:11:26.459Z"
   },
   {
    "duration": 25,
    "start_time": "2022-10-30T08:11:26.471Z"
   },
   {
    "duration": 276,
    "start_time": "2022-10-30T08:11:26.498Z"
   },
   {
    "duration": 8,
    "start_time": "2022-10-30T08:11:26.777Z"
   },
   {
    "duration": 17,
    "start_time": "2022-10-30T08:11:26.788Z"
   },
   {
    "duration": 25,
    "start_time": "2022-10-30T08:11:26.808Z"
   },
   {
    "duration": 7,
    "start_time": "2022-10-30T08:11:26.836Z"
   },
   {
    "duration": 25,
    "start_time": "2022-10-30T08:11:26.845Z"
   },
   {
    "duration": 13,
    "start_time": "2022-10-30T08:11:26.873Z"
   },
   {
    "duration": 187,
    "start_time": "2022-10-30T08:11:26.895Z"
   },
   {
    "duration": 152,
    "start_time": "2022-10-30T08:11:27.083Z"
   },
   {
    "duration": 6,
    "start_time": "2022-10-30T08:11:27.237Z"
   },
   {
    "duration": 15,
    "start_time": "2022-10-30T08:11:27.245Z"
   },
   {
    "duration": 187,
    "start_time": "2022-10-30T08:11:27.262Z"
   },
   {
    "duration": 11,
    "start_time": "2022-10-30T08:11:27.451Z"
   },
   {
    "duration": 169,
    "start_time": "2022-10-30T08:11:27.464Z"
   },
   {
    "duration": 12,
    "start_time": "2022-10-30T08:11:27.635Z"
   },
   {
    "duration": 163,
    "start_time": "2022-10-30T08:11:27.649Z"
   },
   {
    "duration": 20,
    "start_time": "2022-10-30T08:11:27.814Z"
   },
   {
    "duration": 10,
    "start_time": "2022-10-30T08:11:27.835Z"
   },
   {
    "duration": 12,
    "start_time": "2022-10-30T08:11:27.846Z"
   },
   {
    "duration": 14,
    "start_time": "2022-10-30T08:11:27.859Z"
   },
   {
    "duration": 13,
    "start_time": "2022-10-30T08:11:27.875Z"
   },
   {
    "duration": 124,
    "start_time": "2022-10-30T08:11:27.890Z"
   },
   {
    "duration": 0,
    "start_time": "2022-10-30T08:11:28.015Z"
   },
   {
    "duration": 0,
    "start_time": "2022-10-30T08:11:28.016Z"
   },
   {
    "duration": 0,
    "start_time": "2022-10-30T08:11:28.017Z"
   },
   {
    "duration": 0,
    "start_time": "2022-10-30T08:11:28.019Z"
   },
   {
    "duration": 0,
    "start_time": "2022-10-30T08:11:28.020Z"
   },
   {
    "duration": 0,
    "start_time": "2022-10-30T08:11:28.021Z"
   },
   {
    "duration": 0,
    "start_time": "2022-10-30T08:11:28.033Z"
   },
   {
    "duration": 0,
    "start_time": "2022-10-30T08:11:28.034Z"
   },
   {
    "duration": 0,
    "start_time": "2022-10-30T08:11:28.036Z"
   },
   {
    "duration": 0,
    "start_time": "2022-10-30T08:11:28.037Z"
   },
   {
    "duration": 0,
    "start_time": "2022-10-30T08:11:28.038Z"
   },
   {
    "duration": 0,
    "start_time": "2022-10-30T08:11:28.039Z"
   },
   {
    "duration": 0,
    "start_time": "2022-10-30T08:11:28.040Z"
   },
   {
    "duration": 0,
    "start_time": "2022-10-30T08:11:28.041Z"
   },
   {
    "duration": 0,
    "start_time": "2022-10-30T08:11:28.042Z"
   },
   {
    "duration": 0,
    "start_time": "2022-10-30T08:11:28.043Z"
   },
   {
    "duration": 0,
    "start_time": "2022-10-30T08:11:28.044Z"
   },
   {
    "duration": 0,
    "start_time": "2022-10-30T08:11:28.045Z"
   },
   {
    "duration": 0,
    "start_time": "2022-10-30T08:11:28.046Z"
   },
   {
    "duration": 0,
    "start_time": "2022-10-30T08:11:28.047Z"
   },
   {
    "duration": 0,
    "start_time": "2022-10-30T08:11:28.048Z"
   },
   {
    "duration": 1425,
    "start_time": "2022-10-30T08:14:10.167Z"
   },
   {
    "duration": 46,
    "start_time": "2022-10-30T08:14:11.595Z"
   },
   {
    "duration": 14,
    "start_time": "2022-10-30T08:14:11.643Z"
   },
   {
    "duration": 14,
    "start_time": "2022-10-30T08:14:11.659Z"
   },
   {
    "duration": 3,
    "start_time": "2022-10-30T08:14:11.676Z"
   },
   {
    "duration": 16,
    "start_time": "2022-10-30T08:14:11.680Z"
   },
   {
    "duration": 6,
    "start_time": "2022-10-30T08:14:11.698Z"
   },
   {
    "duration": 10,
    "start_time": "2022-10-30T08:14:11.734Z"
   },
   {
    "duration": 10,
    "start_time": "2022-10-30T08:14:11.746Z"
   },
   {
    "duration": 8,
    "start_time": "2022-10-30T08:14:11.758Z"
   },
   {
    "duration": 23,
    "start_time": "2022-10-30T08:14:11.767Z"
   },
   {
    "duration": 573,
    "start_time": "2022-10-30T08:14:11.792Z"
   },
   {
    "duration": 557,
    "start_time": "2022-10-30T08:14:12.366Z"
   },
   {
    "duration": 10,
    "start_time": "2022-10-30T08:14:12.934Z"
   },
   {
    "duration": 14,
    "start_time": "2022-10-30T08:14:12.945Z"
   },
   {
    "duration": 10,
    "start_time": "2022-10-30T08:14:12.960Z"
   },
   {
    "duration": 10,
    "start_time": "2022-10-30T08:14:12.972Z"
   },
   {
    "duration": 10,
    "start_time": "2022-10-30T08:14:12.984Z"
   },
   {
    "duration": 12,
    "start_time": "2022-10-30T08:14:12.995Z"
   },
   {
    "duration": 25,
    "start_time": "2022-10-30T08:14:13.009Z"
   },
   {
    "duration": 4,
    "start_time": "2022-10-30T08:14:13.036Z"
   },
   {
    "duration": 12,
    "start_time": "2022-10-30T08:14:13.041Z"
   },
   {
    "duration": 146,
    "start_time": "2022-10-30T08:14:13.055Z"
   },
   {
    "duration": 40,
    "start_time": "2022-10-30T08:14:13.202Z"
   },
   {
    "duration": 127,
    "start_time": "2022-10-30T08:14:13.244Z"
   },
   {
    "duration": 21,
    "start_time": "2022-10-30T08:14:13.373Z"
   },
   {
    "duration": 20,
    "start_time": "2022-10-30T08:14:13.396Z"
   },
   {
    "duration": 38,
    "start_time": "2022-10-30T08:14:13.418Z"
   },
   {
    "duration": 84,
    "start_time": "2022-10-30T08:14:13.458Z"
   },
   {
    "duration": 7,
    "start_time": "2022-10-30T08:14:13.544Z"
   },
   {
    "duration": 13,
    "start_time": "2022-10-30T08:14:13.553Z"
   },
   {
    "duration": 8,
    "start_time": "2022-10-30T08:14:13.567Z"
   },
   {
    "duration": 12,
    "start_time": "2022-10-30T08:14:13.576Z"
   },
   {
    "duration": 311,
    "start_time": "2022-10-30T08:14:13.590Z"
   },
   {
    "duration": 7,
    "start_time": "2022-10-30T08:14:13.903Z"
   },
   {
    "duration": 26,
    "start_time": "2022-10-30T08:14:13.911Z"
   },
   {
    "duration": 11,
    "start_time": "2022-10-30T08:14:13.939Z"
   },
   {
    "duration": 10,
    "start_time": "2022-10-30T08:14:13.952Z"
   },
   {
    "duration": 21,
    "start_time": "2022-10-30T08:14:13.964Z"
   },
   {
    "duration": 11,
    "start_time": "2022-10-30T08:14:13.987Z"
   },
   {
    "duration": 168,
    "start_time": "2022-10-30T08:14:14.002Z"
   },
   {
    "duration": 152,
    "start_time": "2022-10-30T08:14:14.171Z"
   },
   {
    "duration": 8,
    "start_time": "2022-10-30T08:14:14.329Z"
   },
   {
    "duration": 32,
    "start_time": "2022-10-30T08:14:14.339Z"
   },
   {
    "duration": 189,
    "start_time": "2022-10-30T08:14:14.373Z"
   },
   {
    "duration": 11,
    "start_time": "2022-10-30T08:14:14.564Z"
   },
   {
    "duration": 195,
    "start_time": "2022-10-30T08:14:14.578Z"
   },
   {
    "duration": 12,
    "start_time": "2022-10-30T08:14:14.775Z"
   },
   {
    "duration": 166,
    "start_time": "2022-10-30T08:14:14.788Z"
   },
   {
    "duration": 5,
    "start_time": "2022-10-30T08:14:14.956Z"
   },
   {
    "duration": 11,
    "start_time": "2022-10-30T08:14:14.963Z"
   },
   {
    "duration": 18,
    "start_time": "2022-10-30T08:14:14.976Z"
   },
   {
    "duration": 12,
    "start_time": "2022-10-30T08:14:14.996Z"
   },
   {
    "duration": 24,
    "start_time": "2022-10-30T08:14:15.009Z"
   },
   {
    "duration": 960,
    "start_time": "2022-10-30T08:14:15.035Z"
   },
   {
    "duration": 22,
    "start_time": "2022-10-30T08:14:15.996Z"
   },
   {
    "duration": 213,
    "start_time": "2022-10-30T08:14:16.033Z"
   },
   {
    "duration": 307,
    "start_time": "2022-10-30T08:14:16.247Z"
   },
   {
    "duration": 479,
    "start_time": "2022-10-30T08:14:16.557Z"
   },
   {
    "duration": 5,
    "start_time": "2022-10-30T08:14:17.038Z"
   },
   {
    "duration": 20,
    "start_time": "2022-10-30T08:14:17.134Z"
   },
   {
    "duration": 11,
    "start_time": "2022-10-30T08:14:17.155Z"
   },
   {
    "duration": 13,
    "start_time": "2022-10-30T08:14:17.168Z"
   },
   {
    "duration": 71,
    "start_time": "2022-10-30T08:14:17.183Z"
   },
   {
    "duration": 4,
    "start_time": "2022-10-30T08:14:17.256Z"
   },
   {
    "duration": 14,
    "start_time": "2022-10-30T08:14:17.262Z"
   },
   {
    "duration": 522,
    "start_time": "2022-10-30T08:14:17.277Z"
   },
   {
    "duration": 253,
    "start_time": "2022-10-30T08:14:17.800Z"
   },
   {
    "duration": 305,
    "start_time": "2022-10-30T08:14:18.054Z"
   },
   {
    "duration": 639,
    "start_time": "2022-10-30T08:14:18.361Z"
   },
   {
    "duration": 5,
    "start_time": "2022-10-30T08:14:19.002Z"
   },
   {
    "duration": 25,
    "start_time": "2022-10-30T08:14:19.009Z"
   },
   {
    "duration": 11,
    "start_time": "2022-10-30T08:14:19.036Z"
   },
   {
    "duration": 5,
    "start_time": "2022-10-30T08:14:19.049Z"
   },
   {
    "duration": 157,
    "start_time": "2022-10-30T08:14:19.055Z"
   },
   {
    "duration": 47,
    "start_time": "2022-10-30T08:14:19.214Z"
   },
   {
    "duration": 118,
    "start_time": "2022-10-30T08:15:42.984Z"
   },
   {
    "duration": 1180,
    "start_time": "2022-10-30T08:15:55.561Z"
   },
   {
    "duration": 360,
    "start_time": "2022-10-30T08:17:28.607Z"
   },
   {
    "duration": 296,
    "start_time": "2022-10-30T08:18:04.007Z"
   },
   {
    "duration": 319,
    "start_time": "2022-10-30T08:18:20.865Z"
   },
   {
    "duration": 1561,
    "start_time": "2022-10-30T08:19:34.544Z"
   },
   {
    "duration": 984,
    "start_time": "2022-10-30T08:21:48.433Z"
   },
   {
    "duration": 22,
    "start_time": "2022-10-30T08:22:35.986Z"
   },
   {
    "duration": 27,
    "start_time": "2022-10-30T08:22:45.680Z"
   },
   {
    "duration": 18,
    "start_time": "2022-10-30T08:23:42.220Z"
   },
   {
    "duration": 16,
    "start_time": "2022-10-30T08:25:24.667Z"
   },
   {
    "duration": 16,
    "start_time": "2022-10-30T08:25:29.450Z"
   },
   {
    "duration": 849,
    "start_time": "2022-10-30T08:25:31.161Z"
   },
   {
    "duration": 18,
    "start_time": "2022-10-30T08:26:15.971Z"
   },
   {
    "duration": 996,
    "start_time": "2022-10-30T08:27:39.795Z"
   },
   {
    "duration": 374,
    "start_time": "2022-10-30T08:28:38.817Z"
   },
   {
    "duration": 299,
    "start_time": "2022-10-30T08:29:11.361Z"
   },
   {
    "duration": 267,
    "start_time": "2022-10-30T08:33:19.835Z"
   },
   {
    "duration": 286,
    "start_time": "2022-10-30T08:33:32.606Z"
   },
   {
    "duration": 273,
    "start_time": "2022-10-30T08:33:43.708Z"
   },
   {
    "duration": 318,
    "start_time": "2022-10-30T08:34:24.846Z"
   },
   {
    "duration": 418,
    "start_time": "2022-10-30T08:37:30.600Z"
   },
   {
    "duration": 7,
    "start_time": "2022-10-30T08:38:03.674Z"
   },
   {
    "duration": 1505,
    "start_time": "2022-10-30T08:38:10.499Z"
   },
   {
    "duration": 47,
    "start_time": "2022-10-30T08:38:12.006Z"
   },
   {
    "duration": 14,
    "start_time": "2022-10-30T08:38:12.055Z"
   },
   {
    "duration": 22,
    "start_time": "2022-10-30T08:38:12.071Z"
   },
   {
    "duration": 3,
    "start_time": "2022-10-30T08:38:12.094Z"
   },
   {
    "duration": 16,
    "start_time": "2022-10-30T08:38:12.099Z"
   },
   {
    "duration": 16,
    "start_time": "2022-10-30T08:38:12.117Z"
   },
   {
    "duration": 9,
    "start_time": "2022-10-30T08:38:12.136Z"
   },
   {
    "duration": 16,
    "start_time": "2022-10-30T08:38:12.147Z"
   },
   {
    "duration": 8,
    "start_time": "2022-10-30T08:38:12.164Z"
   },
   {
    "duration": 22,
    "start_time": "2022-10-30T08:38:12.173Z"
   },
   {
    "duration": 561,
    "start_time": "2022-10-30T08:38:12.202Z"
   },
   {
    "duration": 585,
    "start_time": "2022-10-30T08:38:12.765Z"
   },
   {
    "duration": 14,
    "start_time": "2022-10-30T08:38:13.352Z"
   },
   {
    "duration": 14,
    "start_time": "2022-10-30T08:38:13.368Z"
   },
   {
    "duration": 7,
    "start_time": "2022-10-30T08:38:13.384Z"
   },
   {
    "duration": 7,
    "start_time": "2022-10-30T08:38:13.393Z"
   },
   {
    "duration": 34,
    "start_time": "2022-10-30T08:38:13.401Z"
   },
   {
    "duration": 6,
    "start_time": "2022-10-30T08:38:13.437Z"
   },
   {
    "duration": 9,
    "start_time": "2022-10-30T08:38:13.446Z"
   },
   {
    "duration": 12,
    "start_time": "2022-10-30T08:38:13.457Z"
   },
   {
    "duration": 15,
    "start_time": "2022-10-30T08:38:13.470Z"
   },
   {
    "duration": 164,
    "start_time": "2022-10-30T08:38:13.489Z"
   },
   {
    "duration": 30,
    "start_time": "2022-10-30T08:38:13.656Z"
   },
   {
    "duration": 163,
    "start_time": "2022-10-30T08:38:13.688Z"
   },
   {
    "duration": 25,
    "start_time": "2022-10-30T08:38:13.853Z"
   },
   {
    "duration": 12,
    "start_time": "2022-10-30T08:38:13.880Z"
   },
   {
    "duration": 50,
    "start_time": "2022-10-30T08:38:13.894Z"
   },
   {
    "duration": 87,
    "start_time": "2022-10-30T08:38:13.946Z"
   },
   {
    "duration": 7,
    "start_time": "2022-10-30T08:38:14.036Z"
   },
   {
    "duration": 14,
    "start_time": "2022-10-30T08:38:14.045Z"
   },
   {
    "duration": 7,
    "start_time": "2022-10-30T08:38:14.061Z"
   },
   {
    "duration": 18,
    "start_time": "2022-10-30T08:38:14.070Z"
   },
   {
    "duration": 318,
    "start_time": "2022-10-30T08:38:14.090Z"
   },
   {
    "duration": 9,
    "start_time": "2022-10-30T08:38:14.411Z"
   },
   {
    "duration": 27,
    "start_time": "2022-10-30T08:38:14.422Z"
   },
   {
    "duration": 8,
    "start_time": "2022-10-30T08:38:14.451Z"
   },
   {
    "duration": 6,
    "start_time": "2022-10-30T08:38:14.461Z"
   },
   {
    "duration": 18,
    "start_time": "2022-10-30T08:38:14.469Z"
   },
   {
    "duration": 45,
    "start_time": "2022-10-30T08:38:14.489Z"
   },
   {
    "duration": 155,
    "start_time": "2022-10-30T08:38:14.536Z"
   },
   {
    "duration": 154,
    "start_time": "2022-10-30T08:38:14.693Z"
   },
   {
    "duration": 5,
    "start_time": "2022-10-30T08:38:14.849Z"
   },
   {
    "duration": 22,
    "start_time": "2022-10-30T08:38:14.856Z"
   },
   {
    "duration": 195,
    "start_time": "2022-10-30T08:38:14.880Z"
   },
   {
    "duration": 9,
    "start_time": "2022-10-30T08:38:15.076Z"
   },
   {
    "duration": 176,
    "start_time": "2022-10-30T08:38:15.087Z"
   },
   {
    "duration": 13,
    "start_time": "2022-10-30T08:38:15.266Z"
   },
   {
    "duration": 163,
    "start_time": "2022-10-30T08:38:15.281Z"
   },
   {
    "duration": 7,
    "start_time": "2022-10-30T08:38:15.446Z"
   },
   {
    "duration": 8,
    "start_time": "2022-10-30T08:38:15.455Z"
   },
   {
    "duration": 12,
    "start_time": "2022-10-30T08:38:15.465Z"
   },
   {
    "duration": 9,
    "start_time": "2022-10-30T08:38:15.478Z"
   },
   {
    "duration": 9,
    "start_time": "2022-10-30T08:38:15.488Z"
   },
   {
    "duration": 432,
    "start_time": "2022-10-30T08:38:15.499Z"
   },
   {
    "duration": 21,
    "start_time": "2022-10-30T08:38:15.933Z"
   },
   {
    "duration": 176,
    "start_time": "2022-10-30T08:38:15.956Z"
   },
   {
    "duration": 304,
    "start_time": "2022-10-30T08:38:16.134Z"
   },
   {
    "duration": 501,
    "start_time": "2022-10-30T08:38:16.440Z"
   },
   {
    "duration": 92,
    "start_time": "2022-10-30T08:38:16.943Z"
   },
   {
    "duration": 100,
    "start_time": "2022-10-30T08:38:17.037Z"
   },
   {
    "duration": 13,
    "start_time": "2022-10-30T08:38:17.138Z"
   },
   {
    "duration": 14,
    "start_time": "2022-10-30T08:38:17.153Z"
   },
   {
    "duration": 66,
    "start_time": "2022-10-30T08:38:17.168Z"
   },
   {
    "duration": 4,
    "start_time": "2022-10-30T08:38:17.236Z"
   },
   {
    "duration": 15,
    "start_time": "2022-10-30T08:38:17.241Z"
   },
   {
    "duration": 513,
    "start_time": "2022-10-30T08:38:17.257Z"
   },
   {
    "duration": 305,
    "start_time": "2022-10-30T08:38:17.774Z"
   },
   {
    "duration": 295,
    "start_time": "2022-10-30T08:38:18.081Z"
   },
   {
    "duration": 679,
    "start_time": "2022-10-30T08:38:18.377Z"
   },
   {
    "duration": 5,
    "start_time": "2022-10-30T08:38:19.058Z"
   },
   {
    "duration": 14,
    "start_time": "2022-10-30T08:38:19.065Z"
   },
   {
    "duration": 11,
    "start_time": "2022-10-30T08:38:19.081Z"
   },
   {
    "duration": 6,
    "start_time": "2022-10-30T08:38:19.094Z"
   },
   {
    "duration": 172,
    "start_time": "2022-10-30T08:38:19.101Z"
   },
   {
    "duration": 37,
    "start_time": "2022-10-30T08:38:19.274Z"
   },
   {
    "duration": 273,
    "start_time": "2022-10-30T08:40:08.199Z"
   },
   {
    "duration": 254,
    "start_time": "2022-10-30T08:42:24.267Z"
   },
   {
    "duration": 286,
    "start_time": "2022-10-30T08:44:51.003Z"
   },
   {
    "duration": 278,
    "start_time": "2022-10-30T08:46:38.966Z"
   },
   {
    "duration": 268,
    "start_time": "2022-10-30T08:46:43.571Z"
   },
   {
    "duration": 386,
    "start_time": "2022-10-30T08:47:27.558Z"
   },
   {
    "duration": 267,
    "start_time": "2022-10-30T08:48:10.895Z"
   },
   {
    "duration": 31,
    "start_time": "2022-10-30T10:46:09.446Z"
   },
   {
    "duration": 1464,
    "start_time": "2022-10-30T10:46:20.993Z"
   },
   {
    "duration": 44,
    "start_time": "2022-10-30T10:46:22.459Z"
   },
   {
    "duration": 13,
    "start_time": "2022-10-30T10:46:22.505Z"
   },
   {
    "duration": 13,
    "start_time": "2022-10-30T10:46:22.520Z"
   },
   {
    "duration": 8,
    "start_time": "2022-10-30T10:46:22.534Z"
   },
   {
    "duration": 25,
    "start_time": "2022-10-30T10:46:22.543Z"
   },
   {
    "duration": 6,
    "start_time": "2022-10-30T10:46:22.570Z"
   },
   {
    "duration": 16,
    "start_time": "2022-10-30T10:46:22.577Z"
   },
   {
    "duration": 9,
    "start_time": "2022-10-30T10:46:22.595Z"
   },
   {
    "duration": 7,
    "start_time": "2022-10-30T10:46:22.608Z"
   },
   {
    "duration": 34,
    "start_time": "2022-10-30T10:46:22.617Z"
   },
   {
    "duration": 512,
    "start_time": "2022-10-30T10:46:22.653Z"
   },
   {
    "duration": 581,
    "start_time": "2022-10-30T10:46:23.167Z"
   },
   {
    "duration": 9,
    "start_time": "2022-10-30T10:46:23.750Z"
   },
   {
    "duration": 18,
    "start_time": "2022-10-30T10:46:23.761Z"
   },
   {
    "duration": 6,
    "start_time": "2022-10-30T10:46:23.781Z"
   },
   {
    "duration": 6,
    "start_time": "2022-10-30T10:46:23.789Z"
   },
   {
    "duration": 10,
    "start_time": "2022-10-30T10:46:23.796Z"
   },
   {
    "duration": 6,
    "start_time": "2022-10-30T10:46:23.834Z"
   },
   {
    "duration": 6,
    "start_time": "2022-10-30T10:46:23.842Z"
   },
   {
    "duration": 8,
    "start_time": "2022-10-30T10:46:23.850Z"
   },
   {
    "duration": 16,
    "start_time": "2022-10-30T10:46:23.859Z"
   },
   {
    "duration": 158,
    "start_time": "2022-10-30T10:46:23.877Z"
   },
   {
    "duration": 31,
    "start_time": "2022-10-30T10:46:24.037Z"
   },
   {
    "duration": 144,
    "start_time": "2022-10-30T10:46:24.070Z"
   },
   {
    "duration": 31,
    "start_time": "2022-10-30T10:46:24.216Z"
   },
   {
    "duration": 14,
    "start_time": "2022-10-30T10:46:24.249Z"
   },
   {
    "duration": 31,
    "start_time": "2022-10-30T10:46:24.267Z"
   },
   {
    "duration": 92,
    "start_time": "2022-10-30T10:46:24.300Z"
   },
   {
    "duration": 6,
    "start_time": "2022-10-30T10:46:24.394Z"
   },
   {
    "duration": 22,
    "start_time": "2022-10-30T10:46:24.402Z"
   },
   {
    "duration": 11,
    "start_time": "2022-10-30T10:46:24.426Z"
   },
   {
    "duration": 12,
    "start_time": "2022-10-30T10:46:24.439Z"
   },
   {
    "duration": 263,
    "start_time": "2022-10-30T10:46:24.453Z"
   },
   {
    "duration": 6,
    "start_time": "2022-10-30T10:46:24.718Z"
   },
   {
    "duration": 12,
    "start_time": "2022-10-30T10:46:24.733Z"
   },
   {
    "duration": 7,
    "start_time": "2022-10-30T10:46:24.746Z"
   },
   {
    "duration": 6,
    "start_time": "2022-10-30T10:46:24.754Z"
   },
   {
    "duration": 15,
    "start_time": "2022-10-30T10:46:24.762Z"
   },
   {
    "duration": 9,
    "start_time": "2022-10-30T10:46:24.778Z"
   },
   {
    "duration": 162,
    "start_time": "2022-10-30T10:46:24.788Z"
   },
   {
    "duration": 154,
    "start_time": "2022-10-30T10:46:24.952Z"
   },
   {
    "duration": 4,
    "start_time": "2022-10-30T10:46:25.108Z"
   },
   {
    "duration": 26,
    "start_time": "2022-10-30T10:46:25.114Z"
   },
   {
    "duration": 151,
    "start_time": "2022-10-30T10:46:25.141Z"
   },
   {
    "duration": 8,
    "start_time": "2022-10-30T10:46:25.295Z"
   },
   {
    "duration": 189,
    "start_time": "2022-10-30T10:46:25.305Z"
   },
   {
    "duration": 14,
    "start_time": "2022-10-30T10:46:25.496Z"
   },
   {
    "duration": 166,
    "start_time": "2022-10-30T10:46:25.512Z"
   },
   {
    "duration": 6,
    "start_time": "2022-10-30T10:46:25.680Z"
   },
   {
    "duration": 7,
    "start_time": "2022-10-30T10:46:25.688Z"
   },
   {
    "duration": 16,
    "start_time": "2022-10-30T10:46:25.697Z"
   },
   {
    "duration": 29,
    "start_time": "2022-10-30T10:46:25.714Z"
   },
   {
    "duration": 9,
    "start_time": "2022-10-30T10:46:25.744Z"
   },
   {
    "duration": 391,
    "start_time": "2022-10-30T10:46:25.755Z"
   },
   {
    "duration": 21,
    "start_time": "2022-10-30T10:46:26.148Z"
   },
   {
    "duration": 207,
    "start_time": "2022-10-30T10:46:26.171Z"
   },
   {
    "duration": 317,
    "start_time": "2022-10-30T10:46:26.380Z"
   },
   {
    "duration": 541,
    "start_time": "2022-10-30T10:46:26.698Z"
   },
   {
    "duration": 92,
    "start_time": "2022-10-30T10:46:27.242Z"
   },
   {
    "duration": 97,
    "start_time": "2022-10-30T10:46:27.337Z"
   },
   {
    "duration": 15,
    "start_time": "2022-10-30T10:46:27.436Z"
   },
   {
    "duration": 14,
    "start_time": "2022-10-30T10:46:27.453Z"
   },
   {
    "duration": 21,
    "start_time": "2022-10-30T10:46:27.469Z"
   },
   {
    "duration": 4,
    "start_time": "2022-10-30T10:46:27.492Z"
   },
   {
    "duration": 44,
    "start_time": "2022-10-30T10:46:27.498Z"
   },
   {
    "duration": 253,
    "start_time": "2022-10-30T10:46:27.545Z"
   },
   {
    "duration": 280,
    "start_time": "2022-10-30T10:46:27.800Z"
   },
   {
    "duration": 657,
    "start_time": "2022-10-30T10:46:28.082Z"
   },
   {
    "duration": 263,
    "start_time": "2022-10-30T10:46:28.741Z"
   },
   {
    "duration": 5,
    "start_time": "2022-10-30T10:46:29.006Z"
   },
   {
    "duration": 28,
    "start_time": "2022-10-30T10:46:29.013Z"
   },
   {
    "duration": 24,
    "start_time": "2022-10-30T10:46:29.042Z"
   },
   {
    "duration": 31,
    "start_time": "2022-10-30T10:46:29.067Z"
   },
   {
    "duration": 46,
    "start_time": "2022-10-30T10:46:29.099Z"
   },
   {
    "duration": 36,
    "start_time": "2022-10-30T10:46:29.146Z"
   },
   {
    "duration": 291,
    "start_time": "2022-10-30T11:10:20.292Z"
   },
   {
    "duration": 403,
    "start_time": "2022-10-30T11:11:04.416Z"
   },
   {
    "duration": 29,
    "start_time": "2022-10-30T11:19:23.794Z"
   },
   {
    "duration": 10,
    "start_time": "2022-10-30T11:19:47.673Z"
   },
   {
    "duration": 318,
    "start_time": "2022-10-30T11:20:00.437Z"
   },
   {
    "duration": 305,
    "start_time": "2022-10-30T11:23:42.121Z"
   },
   {
    "duration": 261,
    "start_time": "2022-10-30T11:26:05.095Z"
   },
   {
    "duration": 289,
    "start_time": "2022-10-30T11:26:18.780Z"
   },
   {
    "duration": 289,
    "start_time": "2022-10-30T11:26:36.953Z"
   },
   {
    "duration": 282,
    "start_time": "2022-10-30T11:26:51.299Z"
   },
   {
    "duration": 284,
    "start_time": "2022-10-30T11:26:58.773Z"
   },
   {
    "duration": 269,
    "start_time": "2022-10-30T11:27:31.000Z"
   },
   {
    "duration": 377,
    "start_time": "2022-10-30T11:27:36.896Z"
   },
   {
    "duration": 281,
    "start_time": "2022-10-30T11:27:43.006Z"
   },
   {
    "duration": 276,
    "start_time": "2022-10-30T11:27:48.765Z"
   },
   {
    "duration": 258,
    "start_time": "2022-10-30T11:27:53.712Z"
   },
   {
    "duration": 251,
    "start_time": "2022-10-30T11:27:58.950Z"
   },
   {
    "duration": 260,
    "start_time": "2022-10-30T11:28:05.228Z"
   },
   {
    "duration": 280,
    "start_time": "2022-10-30T11:31:48.129Z"
   },
   {
    "duration": 259,
    "start_time": "2022-10-30T11:31:58.895Z"
   },
   {
    "duration": 255,
    "start_time": "2022-10-30T11:32:03.612Z"
   },
   {
    "duration": 293,
    "start_time": "2022-10-30T11:32:48.424Z"
   },
   {
    "duration": 29,
    "start_time": "2022-10-30T11:59:27.593Z"
   },
   {
    "duration": 167,
    "start_time": "2022-10-30T11:59:49.543Z"
   },
   {
    "duration": 1484,
    "start_time": "2022-10-30T12:01:12.724Z"
   },
   {
    "duration": 45,
    "start_time": "2022-10-30T12:01:14.210Z"
   },
   {
    "duration": 12,
    "start_time": "2022-10-30T12:01:14.257Z"
   },
   {
    "duration": 14,
    "start_time": "2022-10-30T12:01:14.271Z"
   },
   {
    "duration": 3,
    "start_time": "2022-10-30T12:01:14.286Z"
   },
   {
    "duration": 18,
    "start_time": "2022-10-30T12:01:14.290Z"
   },
   {
    "duration": 24,
    "start_time": "2022-10-30T12:01:14.310Z"
   },
   {
    "duration": 10,
    "start_time": "2022-10-30T12:01:14.336Z"
   },
   {
    "duration": 14,
    "start_time": "2022-10-30T12:01:14.347Z"
   },
   {
    "duration": 7,
    "start_time": "2022-10-30T12:01:14.364Z"
   },
   {
    "duration": 24,
    "start_time": "2022-10-30T12:01:14.373Z"
   },
   {
    "duration": 588,
    "start_time": "2022-10-30T12:01:14.399Z"
   },
   {
    "duration": 613,
    "start_time": "2022-10-30T12:01:14.989Z"
   },
   {
    "duration": 10,
    "start_time": "2022-10-30T12:01:15.603Z"
   },
   {
    "duration": 29,
    "start_time": "2022-10-30T12:01:15.614Z"
   },
   {
    "duration": 9,
    "start_time": "2022-10-30T12:01:15.645Z"
   },
   {
    "duration": 8,
    "start_time": "2022-10-30T12:01:15.656Z"
   },
   {
    "duration": 7,
    "start_time": "2022-10-30T12:01:15.665Z"
   },
   {
    "duration": 8,
    "start_time": "2022-10-30T12:01:15.674Z"
   },
   {
    "duration": 4,
    "start_time": "2022-10-30T12:01:15.684Z"
   },
   {
    "duration": 6,
    "start_time": "2022-10-30T12:01:15.690Z"
   },
   {
    "duration": 47,
    "start_time": "2022-10-30T12:01:15.698Z"
   },
   {
    "duration": 168,
    "start_time": "2022-10-30T12:01:15.747Z"
   },
   {
    "duration": 45,
    "start_time": "2022-10-30T12:01:15.917Z"
   },
   {
    "duration": 132,
    "start_time": "2022-10-30T12:01:15.965Z"
   },
   {
    "duration": 37,
    "start_time": "2022-10-30T12:01:16.100Z"
   },
   {
    "duration": 9,
    "start_time": "2022-10-30T12:01:16.139Z"
   },
   {
    "duration": 35,
    "start_time": "2022-10-30T12:01:16.152Z"
   },
   {
    "duration": 129,
    "start_time": "2022-10-30T12:01:16.190Z"
   },
   {
    "duration": 14,
    "start_time": "2022-10-30T12:01:16.321Z"
   },
   {
    "duration": 22,
    "start_time": "2022-10-30T12:01:16.337Z"
   },
   {
    "duration": 13,
    "start_time": "2022-10-30T12:01:16.361Z"
   },
   {
    "duration": 25,
    "start_time": "2022-10-30T12:01:16.376Z"
   },
   {
    "duration": 306,
    "start_time": "2022-10-30T12:01:16.403Z"
   },
   {
    "duration": 36,
    "start_time": "2022-10-30T12:01:16.710Z"
   },
   {
    "duration": 14,
    "start_time": "2022-10-30T12:01:16.748Z"
   },
   {
    "duration": 6,
    "start_time": "2022-10-30T12:01:16.763Z"
   },
   {
    "duration": 5,
    "start_time": "2022-10-30T12:01:16.771Z"
   },
   {
    "duration": 15,
    "start_time": "2022-10-30T12:01:16.778Z"
   },
   {
    "duration": 44,
    "start_time": "2022-10-30T12:01:16.795Z"
   },
   {
    "duration": 150,
    "start_time": "2022-10-30T12:01:16.841Z"
   },
   {
    "duration": 148,
    "start_time": "2022-10-30T12:01:16.993Z"
   },
   {
    "duration": 5,
    "start_time": "2022-10-30T12:01:17.143Z"
   },
   {
    "duration": 19,
    "start_time": "2022-10-30T12:01:17.149Z"
   },
   {
    "duration": 176,
    "start_time": "2022-10-30T12:01:17.169Z"
   },
   {
    "duration": 10,
    "start_time": "2022-10-30T12:01:17.346Z"
   },
   {
    "duration": 175,
    "start_time": "2022-10-30T12:01:17.358Z"
   },
   {
    "duration": 13,
    "start_time": "2022-10-30T12:01:17.535Z"
   },
   {
    "duration": 162,
    "start_time": "2022-10-30T12:01:17.550Z"
   },
   {
    "duration": 7,
    "start_time": "2022-10-30T12:01:17.714Z"
   },
   {
    "duration": 9,
    "start_time": "2022-10-30T12:01:17.734Z"
   },
   {
    "duration": 13,
    "start_time": "2022-10-30T12:01:17.744Z"
   },
   {
    "duration": 7,
    "start_time": "2022-10-30T12:01:17.759Z"
   },
   {
    "duration": 9,
    "start_time": "2022-10-30T12:01:17.768Z"
   },
   {
    "duration": 149,
    "start_time": "2022-10-30T12:01:17.779Z"
   },
   {
    "duration": 0,
    "start_time": "2022-10-30T12:01:17.930Z"
   },
   {
    "duration": 0,
    "start_time": "2022-10-30T12:01:17.933Z"
   },
   {
    "duration": 0,
    "start_time": "2022-10-30T12:01:17.934Z"
   },
   {
    "duration": 0,
    "start_time": "2022-10-30T12:01:17.935Z"
   },
   {
    "duration": 0,
    "start_time": "2022-10-30T12:01:17.936Z"
   },
   {
    "duration": 0,
    "start_time": "2022-10-30T12:01:17.937Z"
   },
   {
    "duration": 0,
    "start_time": "2022-10-30T12:01:17.938Z"
   },
   {
    "duration": 0,
    "start_time": "2022-10-30T12:01:17.939Z"
   },
   {
    "duration": 0,
    "start_time": "2022-10-30T12:01:17.941Z"
   },
   {
    "duration": 0,
    "start_time": "2022-10-30T12:01:17.942Z"
   },
   {
    "duration": 0,
    "start_time": "2022-10-30T12:01:17.943Z"
   },
   {
    "duration": 0,
    "start_time": "2022-10-30T12:01:17.944Z"
   },
   {
    "duration": 0,
    "start_time": "2022-10-30T12:01:17.945Z"
   },
   {
    "duration": 0,
    "start_time": "2022-10-30T12:01:17.946Z"
   },
   {
    "duration": 0,
    "start_time": "2022-10-30T12:01:17.947Z"
   },
   {
    "duration": 0,
    "start_time": "2022-10-30T12:01:17.948Z"
   },
   {
    "duration": 0,
    "start_time": "2022-10-30T12:01:17.950Z"
   },
   {
    "duration": 0,
    "start_time": "2022-10-30T12:01:17.951Z"
   },
   {
    "duration": 0,
    "start_time": "2022-10-30T12:01:17.952Z"
   },
   {
    "duration": 0,
    "start_time": "2022-10-30T12:01:17.953Z"
   },
   {
    "duration": 0,
    "start_time": "2022-10-30T12:01:17.954Z"
   },
   {
    "duration": 0,
    "start_time": "2022-10-30T12:01:17.955Z"
   },
   {
    "duration": 301,
    "start_time": "2022-10-30T12:02:44.285Z"
   },
   {
    "duration": 385,
    "start_time": "2022-10-30T12:03:05.472Z"
   },
   {
    "duration": 278,
    "start_time": "2022-10-30T12:03:13.821Z"
   },
   {
    "duration": 1533,
    "start_time": "2022-10-30T12:03:36.836Z"
   },
   {
    "duration": 44,
    "start_time": "2022-10-30T12:03:38.371Z"
   },
   {
    "duration": 13,
    "start_time": "2022-10-30T12:03:38.417Z"
   },
   {
    "duration": 16,
    "start_time": "2022-10-30T12:03:38.431Z"
   },
   {
    "duration": 3,
    "start_time": "2022-10-30T12:03:38.449Z"
   },
   {
    "duration": 16,
    "start_time": "2022-10-30T12:03:38.454Z"
   },
   {
    "duration": 5,
    "start_time": "2022-10-30T12:03:38.472Z"
   },
   {
    "duration": 10,
    "start_time": "2022-10-30T12:03:38.479Z"
   },
   {
    "duration": 11,
    "start_time": "2022-10-30T12:03:38.491Z"
   },
   {
    "duration": 10,
    "start_time": "2022-10-30T12:03:38.535Z"
   },
   {
    "duration": 19,
    "start_time": "2022-10-30T12:03:38.547Z"
   },
   {
    "duration": 624,
    "start_time": "2022-10-30T12:03:38.567Z"
   },
   {
    "duration": 606,
    "start_time": "2022-10-30T12:03:39.192Z"
   },
   {
    "duration": 10,
    "start_time": "2022-10-30T12:03:39.801Z"
   },
   {
    "duration": 29,
    "start_time": "2022-10-30T12:03:39.812Z"
   },
   {
    "duration": 7,
    "start_time": "2022-10-30T12:03:39.843Z"
   },
   {
    "duration": 7,
    "start_time": "2022-10-30T12:03:39.852Z"
   },
   {
    "duration": 11,
    "start_time": "2022-10-30T12:03:39.861Z"
   },
   {
    "duration": 7,
    "start_time": "2022-10-30T12:03:39.874Z"
   },
   {
    "duration": 6,
    "start_time": "2022-10-30T12:03:39.883Z"
   },
   {
    "duration": 7,
    "start_time": "2022-10-30T12:03:39.891Z"
   },
   {
    "duration": 42,
    "start_time": "2022-10-30T12:03:39.900Z"
   },
   {
    "duration": 153,
    "start_time": "2022-10-30T12:03:39.944Z"
   },
   {
    "duration": 62,
    "start_time": "2022-10-30T12:03:40.099Z"
   },
   {
    "duration": 124,
    "start_time": "2022-10-30T12:03:40.163Z"
   },
   {
    "duration": 23,
    "start_time": "2022-10-30T12:03:40.289Z"
   },
   {
    "duration": 34,
    "start_time": "2022-10-30T12:03:40.314Z"
   },
   {
    "duration": 34,
    "start_time": "2022-10-30T12:03:40.351Z"
   },
   {
    "duration": 94,
    "start_time": "2022-10-30T12:03:40.386Z"
   },
   {
    "duration": 6,
    "start_time": "2022-10-30T12:03:40.482Z"
   },
   {
    "duration": 16,
    "start_time": "2022-10-30T12:03:40.490Z"
   },
   {
    "duration": 25,
    "start_time": "2022-10-30T12:03:40.508Z"
   },
   {
    "duration": 14,
    "start_time": "2022-10-30T12:03:40.536Z"
   },
   {
    "duration": 317,
    "start_time": "2022-10-30T12:03:40.552Z"
   },
   {
    "duration": 30,
    "start_time": "2022-10-30T12:03:40.871Z"
   },
   {
    "duration": 15,
    "start_time": "2022-10-30T12:03:40.933Z"
   },
   {
    "duration": 8,
    "start_time": "2022-10-30T12:03:40.949Z"
   },
   {
    "duration": 6,
    "start_time": "2022-10-30T12:03:40.959Z"
   },
   {
    "duration": 76,
    "start_time": "2022-10-30T12:03:40.967Z"
   },
   {
    "duration": 13,
    "start_time": "2022-10-30T12:03:41.045Z"
   },
   {
    "duration": 317,
    "start_time": "2022-10-30T12:03:41.064Z"
   },
   {
    "duration": 183,
    "start_time": "2022-10-30T12:03:41.383Z"
   },
   {
    "duration": 6,
    "start_time": "2022-10-30T12:03:41.568Z"
   },
   {
    "duration": 23,
    "start_time": "2022-10-30T12:03:41.576Z"
   },
   {
    "duration": 201,
    "start_time": "2022-10-30T12:03:41.601Z"
   },
   {
    "duration": 11,
    "start_time": "2022-10-30T12:03:41.804Z"
   },
   {
    "duration": 181,
    "start_time": "2022-10-30T12:03:41.817Z"
   },
   {
    "duration": 12,
    "start_time": "2022-10-30T12:03:42.000Z"
   },
   {
    "duration": 162,
    "start_time": "2022-10-30T12:03:42.013Z"
   },
   {
    "duration": 7,
    "start_time": "2022-10-30T12:03:42.177Z"
   },
   {
    "duration": 20,
    "start_time": "2022-10-30T12:03:42.186Z"
   },
   {
    "duration": 26,
    "start_time": "2022-10-30T12:03:42.208Z"
   },
   {
    "duration": 4,
    "start_time": "2022-10-30T12:03:42.236Z"
   },
   {
    "duration": 10,
    "start_time": "2022-10-30T12:03:42.242Z"
   },
   {
    "duration": 428,
    "start_time": "2022-10-30T12:03:42.254Z"
   },
   {
    "duration": 21,
    "start_time": "2022-10-30T12:03:42.685Z"
   },
   {
    "duration": 175,
    "start_time": "2022-10-30T12:03:42.708Z"
   },
   {
    "duration": 328,
    "start_time": "2022-10-30T12:03:42.885Z"
   },
   {
    "duration": 624,
    "start_time": "2022-10-30T12:03:43.215Z"
   },
   {
    "duration": 92,
    "start_time": "2022-10-30T12:03:43.842Z"
   },
   {
    "duration": 14,
    "start_time": "2022-10-30T12:03:43.936Z"
   },
   {
    "duration": 12,
    "start_time": "2022-10-30T12:03:43.951Z"
   },
   {
    "duration": 12,
    "start_time": "2022-10-30T12:03:43.965Z"
   },
   {
    "duration": 78,
    "start_time": "2022-10-30T12:03:43.979Z"
   },
   {
    "duration": 5,
    "start_time": "2022-10-30T12:03:44.059Z"
   },
   {
    "duration": 20,
    "start_time": "2022-10-30T12:03:44.065Z"
   },
   {
    "duration": 263,
    "start_time": "2022-10-30T12:03:44.086Z"
   },
   {
    "duration": 127,
    "start_time": "2022-10-30T12:03:44.351Z"
   },
   {
    "duration": 0,
    "start_time": "2022-10-30T12:03:44.480Z"
   },
   {
    "duration": 0,
    "start_time": "2022-10-30T12:03:44.482Z"
   },
   {
    "duration": 0,
    "start_time": "2022-10-30T12:03:44.483Z"
   },
   {
    "duration": 0,
    "start_time": "2022-10-30T12:03:44.485Z"
   },
   {
    "duration": 0,
    "start_time": "2022-10-30T12:03:44.486Z"
   },
   {
    "duration": 0,
    "start_time": "2022-10-30T12:03:44.488Z"
   },
   {
    "duration": 0,
    "start_time": "2022-10-30T12:03:44.490Z"
   },
   {
    "duration": 0,
    "start_time": "2022-10-30T12:03:44.491Z"
   },
   {
    "duration": 0,
    "start_time": "2022-10-30T12:03:44.493Z"
   },
   {
    "duration": 330,
    "start_time": "2022-10-30T12:04:38.445Z"
   },
   {
    "duration": 707,
    "start_time": "2022-10-30T12:05:07.896Z"
   },
   {
    "duration": 1550,
    "start_time": "2022-10-30T12:05:25.728Z"
   },
   {
    "duration": 48,
    "start_time": "2022-10-30T12:05:27.280Z"
   },
   {
    "duration": 17,
    "start_time": "2022-10-30T12:05:27.330Z"
   },
   {
    "duration": 18,
    "start_time": "2022-10-30T12:05:27.349Z"
   },
   {
    "duration": 3,
    "start_time": "2022-10-30T12:05:27.370Z"
   },
   {
    "duration": 27,
    "start_time": "2022-10-30T12:05:27.375Z"
   },
   {
    "duration": 6,
    "start_time": "2022-10-30T12:05:27.404Z"
   },
   {
    "duration": 11,
    "start_time": "2022-10-30T12:05:27.433Z"
   },
   {
    "duration": 12,
    "start_time": "2022-10-30T12:05:27.446Z"
   },
   {
    "duration": 13,
    "start_time": "2022-10-30T12:05:27.461Z"
   },
   {
    "duration": 37,
    "start_time": "2022-10-30T12:05:27.476Z"
   },
   {
    "duration": 561,
    "start_time": "2022-10-30T12:05:27.514Z"
   },
   {
    "duration": 612,
    "start_time": "2022-10-30T12:05:28.077Z"
   },
   {
    "duration": 10,
    "start_time": "2022-10-30T12:05:28.691Z"
   },
   {
    "duration": 34,
    "start_time": "2022-10-30T12:05:28.703Z"
   },
   {
    "duration": 9,
    "start_time": "2022-10-30T12:05:28.739Z"
   },
   {
    "duration": 13,
    "start_time": "2022-10-30T12:05:28.750Z"
   },
   {
    "duration": 7,
    "start_time": "2022-10-30T12:05:28.765Z"
   },
   {
    "duration": 6,
    "start_time": "2022-10-30T12:05:28.773Z"
   },
   {
    "duration": 9,
    "start_time": "2022-10-30T12:05:28.781Z"
   },
   {
    "duration": 20,
    "start_time": "2022-10-30T12:05:28.792Z"
   },
   {
    "duration": 28,
    "start_time": "2022-10-30T12:05:28.815Z"
   },
   {
    "duration": 149,
    "start_time": "2022-10-30T12:05:28.845Z"
   },
   {
    "duration": 41,
    "start_time": "2022-10-30T12:05:28.996Z"
   },
   {
    "duration": 128,
    "start_time": "2022-10-30T12:05:29.039Z"
   },
   {
    "duration": 26,
    "start_time": "2022-10-30T12:05:29.168Z"
   },
   {
    "duration": 11,
    "start_time": "2022-10-30T12:05:29.196Z"
   },
   {
    "duration": 28,
    "start_time": "2022-10-30T12:05:29.238Z"
   },
   {
    "duration": 93,
    "start_time": "2022-10-30T12:05:29.268Z"
   },
   {
    "duration": 6,
    "start_time": "2022-10-30T12:05:29.363Z"
   },
   {
    "duration": 29,
    "start_time": "2022-10-30T12:05:29.370Z"
   },
   {
    "duration": 12,
    "start_time": "2022-10-30T12:05:29.401Z"
   },
   {
    "duration": 24,
    "start_time": "2022-10-30T12:05:29.415Z"
   },
   {
    "duration": 297,
    "start_time": "2022-10-30T12:05:29.441Z"
   },
   {
    "duration": 45,
    "start_time": "2022-10-30T12:05:29.740Z"
   },
   {
    "duration": 17,
    "start_time": "2022-10-30T12:05:29.787Z"
   },
   {
    "duration": 9,
    "start_time": "2022-10-30T12:05:29.806Z"
   },
   {
    "duration": 6,
    "start_time": "2022-10-30T12:05:29.834Z"
   },
   {
    "duration": 18,
    "start_time": "2022-10-30T12:05:29.841Z"
   },
   {
    "duration": 9,
    "start_time": "2022-10-30T12:05:29.861Z"
   },
   {
    "duration": 158,
    "start_time": "2022-10-30T12:05:29.872Z"
   },
   {
    "duration": 148,
    "start_time": "2022-10-30T12:05:30.034Z"
   },
   {
    "duration": 6,
    "start_time": "2022-10-30T12:05:30.184Z"
   },
   {
    "duration": 30,
    "start_time": "2022-10-30T12:05:30.192Z"
   },
   {
    "duration": 164,
    "start_time": "2022-10-30T12:05:30.233Z"
   },
   {
    "duration": 10,
    "start_time": "2022-10-30T12:05:30.399Z"
   },
   {
    "duration": 179,
    "start_time": "2022-10-30T12:05:30.410Z"
   },
   {
    "duration": 12,
    "start_time": "2022-10-30T12:05:30.592Z"
   },
   {
    "duration": 212,
    "start_time": "2022-10-30T12:05:30.606Z"
   },
   {
    "duration": 7,
    "start_time": "2022-10-30T12:05:30.820Z"
   },
   {
    "duration": 15,
    "start_time": "2022-10-30T12:05:30.828Z"
   },
   {
    "duration": 49,
    "start_time": "2022-10-30T12:05:30.845Z"
   },
   {
    "duration": 12,
    "start_time": "2022-10-30T12:05:30.896Z"
   },
   {
    "duration": 19,
    "start_time": "2022-10-30T12:05:30.910Z"
   },
   {
    "duration": 427,
    "start_time": "2022-10-30T12:05:30.930Z"
   },
   {
    "duration": 23,
    "start_time": "2022-10-30T12:05:31.359Z"
   },
   {
    "duration": 169,
    "start_time": "2022-10-30T12:05:31.384Z"
   },
   {
    "duration": 314,
    "start_time": "2022-10-30T12:05:31.554Z"
   },
   {
    "duration": 864,
    "start_time": "2022-10-30T12:05:31.870Z"
   },
   {
    "duration": 6,
    "start_time": "2022-10-30T12:05:32.736Z"
   },
   {
    "duration": 95,
    "start_time": "2022-10-30T12:05:32.747Z"
   },
   {
    "duration": 13,
    "start_time": "2022-10-30T12:05:32.844Z"
   },
   {
    "duration": 13,
    "start_time": "2022-10-30T12:05:32.858Z"
   },
   {
    "duration": 21,
    "start_time": "2022-10-30T12:05:32.873Z"
   },
   {
    "duration": 37,
    "start_time": "2022-10-30T12:05:32.897Z"
   },
   {
    "duration": 17,
    "start_time": "2022-10-30T12:05:32.936Z"
   },
   {
    "duration": 256,
    "start_time": "2022-10-30T12:05:32.956Z"
   },
   {
    "duration": 371,
    "start_time": "2022-10-30T12:05:33.214Z"
   },
   {
    "duration": 673,
    "start_time": "2022-10-30T12:05:33.587Z"
   },
   {
    "duration": 135,
    "start_time": "2022-10-30T12:05:34.262Z"
   },
   {
    "duration": 0,
    "start_time": "2022-10-30T12:05:34.399Z"
   },
   {
    "duration": 0,
    "start_time": "2022-10-30T12:05:34.401Z"
   },
   {
    "duration": 0,
    "start_time": "2022-10-30T12:05:34.403Z"
   },
   {
    "duration": 0,
    "start_time": "2022-10-30T12:05:34.404Z"
   },
   {
    "duration": 0,
    "start_time": "2022-10-30T12:05:34.406Z"
   },
   {
    "duration": 0,
    "start_time": "2022-10-30T12:05:34.407Z"
   },
   {
    "duration": 0,
    "start_time": "2022-10-30T12:05:34.408Z"
   },
   {
    "duration": 284,
    "start_time": "2022-10-30T12:05:45.598Z"
   },
   {
    "duration": 267,
    "start_time": "2022-10-30T12:06:46.540Z"
   },
   {
    "duration": 417,
    "start_time": "2022-10-30T12:07:10.649Z"
   },
   {
    "duration": 260,
    "start_time": "2022-10-30T12:07:24.336Z"
   },
   {
    "duration": 249,
    "start_time": "2022-10-30T12:07:31.515Z"
   },
   {
    "duration": 358,
    "start_time": "2022-10-30T12:07:36.196Z"
   },
   {
    "duration": 273,
    "start_time": "2022-10-30T12:07:42.017Z"
   },
   {
    "duration": 256,
    "start_time": "2022-10-30T12:07:46.485Z"
   },
   {
    "duration": 248,
    "start_time": "2022-10-30T12:07:53.061Z"
   },
   {
    "duration": 254,
    "start_time": "2022-10-30T12:08:38.785Z"
   },
   {
    "duration": 255,
    "start_time": "2022-10-30T12:09:15.407Z"
   },
   {
    "duration": 241,
    "start_time": "2022-10-30T12:09:23.513Z"
   },
   {
    "duration": 236,
    "start_time": "2022-10-30T12:09:29.871Z"
   },
   {
    "duration": 404,
    "start_time": "2022-10-30T12:09:41.357Z"
   },
   {
    "duration": 279,
    "start_time": "2022-10-30T12:09:46.960Z"
   },
   {
    "duration": 354,
    "start_time": "2022-10-30T12:10:36.159Z"
   },
   {
    "duration": 1878,
    "start_time": "2022-10-30T12:13:10.855Z"
   },
   {
    "duration": 55,
    "start_time": "2022-10-30T12:13:12.736Z"
   },
   {
    "duration": 17,
    "start_time": "2022-10-30T12:13:12.793Z"
   },
   {
    "duration": 18,
    "start_time": "2022-10-30T12:13:12.812Z"
   },
   {
    "duration": 4,
    "start_time": "2022-10-30T12:13:12.835Z"
   },
   {
    "duration": 29,
    "start_time": "2022-10-30T12:13:12.842Z"
   },
   {
    "duration": 7,
    "start_time": "2022-10-30T12:13:12.874Z"
   },
   {
    "duration": 24,
    "start_time": "2022-10-30T12:13:12.883Z"
   },
   {
    "duration": 35,
    "start_time": "2022-10-30T12:13:12.909Z"
   },
   {
    "duration": 10,
    "start_time": "2022-10-30T12:13:12.947Z"
   },
   {
    "duration": 29,
    "start_time": "2022-10-30T12:13:12.959Z"
   },
   {
    "duration": 684,
    "start_time": "2022-10-30T12:13:12.991Z"
   },
   {
    "duration": 762,
    "start_time": "2022-10-30T12:13:13.677Z"
   },
   {
    "duration": 19,
    "start_time": "2022-10-30T12:13:14.444Z"
   },
   {
    "duration": 15,
    "start_time": "2022-10-30T12:13:14.466Z"
   },
   {
    "duration": 11,
    "start_time": "2022-10-30T12:13:14.483Z"
   },
   {
    "duration": 12,
    "start_time": "2022-10-30T12:13:14.496Z"
   },
   {
    "duration": 9,
    "start_time": "2022-10-30T12:13:14.535Z"
   },
   {
    "duration": 17,
    "start_time": "2022-10-30T12:13:14.547Z"
   },
   {
    "duration": 8,
    "start_time": "2022-10-30T12:13:14.567Z"
   },
   {
    "duration": 10,
    "start_time": "2022-10-30T12:13:14.578Z"
   },
   {
    "duration": 17,
    "start_time": "2022-10-30T12:13:14.590Z"
   },
   {
    "duration": 263,
    "start_time": "2022-10-30T12:13:14.610Z"
   },
   {
    "duration": 63,
    "start_time": "2022-10-30T12:13:14.875Z"
   },
   {
    "duration": 229,
    "start_time": "2022-10-30T12:13:14.940Z"
   },
   {
    "duration": 26,
    "start_time": "2022-10-30T12:13:15.171Z"
   },
   {
    "duration": 18,
    "start_time": "2022-10-30T12:13:15.199Z"
   },
   {
    "duration": 46,
    "start_time": "2022-10-30T12:13:15.234Z"
   },
   {
    "duration": 171,
    "start_time": "2022-10-30T12:13:15.281Z"
   },
   {
    "duration": 10,
    "start_time": "2022-10-30T12:13:15.454Z"
   },
   {
    "duration": 23,
    "start_time": "2022-10-30T12:13:15.466Z"
   },
   {
    "duration": 10,
    "start_time": "2022-10-30T12:13:15.492Z"
   },
   {
    "duration": 43,
    "start_time": "2022-10-30T12:13:15.504Z"
   },
   {
    "duration": 408,
    "start_time": "2022-10-30T12:13:15.550Z"
   },
   {
    "duration": 53,
    "start_time": "2022-10-30T12:13:15.961Z"
   },
   {
    "duration": 34,
    "start_time": "2022-10-30T12:13:16.017Z"
   },
   {
    "duration": 10,
    "start_time": "2022-10-30T12:13:16.053Z"
   },
   {
    "duration": 8,
    "start_time": "2022-10-30T12:13:16.068Z"
   },
   {
    "duration": 29,
    "start_time": "2022-10-30T12:13:16.078Z"
   },
   {
    "duration": 14,
    "start_time": "2022-10-30T12:13:16.135Z"
   },
   {
    "duration": 214,
    "start_time": "2022-10-30T12:13:16.155Z"
   },
   {
    "duration": 215,
    "start_time": "2022-10-30T12:13:16.371Z"
   },
   {
    "duration": 6,
    "start_time": "2022-10-30T12:13:16.589Z"
   },
   {
    "duration": 39,
    "start_time": "2022-10-30T12:13:16.599Z"
   },
   {
    "duration": 169,
    "start_time": "2022-10-30T12:13:16.640Z"
   },
   {
    "duration": 11,
    "start_time": "2022-10-30T12:13:16.810Z"
   },
   {
    "duration": 272,
    "start_time": "2022-10-30T12:13:16.834Z"
   },
   {
    "duration": 15,
    "start_time": "2022-10-30T12:13:17.109Z"
   },
   {
    "duration": 159,
    "start_time": "2022-10-30T12:13:17.134Z"
   },
   {
    "duration": 7,
    "start_time": "2022-10-30T12:13:17.295Z"
   },
   {
    "duration": 9,
    "start_time": "2022-10-30T12:13:17.305Z"
   },
   {
    "duration": 21,
    "start_time": "2022-10-30T12:13:17.334Z"
   },
   {
    "duration": 8,
    "start_time": "2022-10-30T12:13:17.358Z"
   },
   {
    "duration": 10,
    "start_time": "2022-10-30T12:13:17.368Z"
   },
   {
    "duration": 556,
    "start_time": "2022-10-30T12:13:17.380Z"
   },
   {
    "duration": 23,
    "start_time": "2022-10-30T12:13:17.938Z"
   },
   {
    "duration": 216,
    "start_time": "2022-10-30T12:13:17.963Z"
   },
   {
    "duration": 374,
    "start_time": "2022-10-30T12:13:18.181Z"
   },
   {
    "duration": 576,
    "start_time": "2022-10-30T12:13:18.558Z"
   },
   {
    "duration": 5,
    "start_time": "2022-10-30T12:13:19.140Z"
   },
   {
    "duration": 100,
    "start_time": "2022-10-30T12:13:19.154Z"
   },
   {
    "duration": 16,
    "start_time": "2022-10-30T12:13:19.257Z"
   },
   {
    "duration": 18,
    "start_time": "2022-10-30T12:13:19.275Z"
   },
   {
    "duration": 64,
    "start_time": "2022-10-30T12:13:19.295Z"
   },
   {
    "duration": 5,
    "start_time": "2022-10-30T12:13:19.361Z"
   },
   {
    "duration": 27,
    "start_time": "2022-10-30T12:13:19.368Z"
   },
   {
    "duration": 330,
    "start_time": "2022-10-30T12:13:19.397Z"
   },
   {
    "duration": 375,
    "start_time": "2022-10-30T12:13:19.729Z"
   },
   {
    "duration": 768,
    "start_time": "2022-10-30T12:13:20.106Z"
   },
   {
    "duration": 280,
    "start_time": "2022-10-30T12:13:20.876Z"
   },
   {
    "duration": 8,
    "start_time": "2022-10-30T12:13:21.159Z"
   },
   {
    "duration": 19,
    "start_time": "2022-10-30T12:13:21.169Z"
   },
   {
    "duration": 15,
    "start_time": "2022-10-30T12:13:21.190Z"
   },
   {
    "duration": 32,
    "start_time": "2022-10-30T12:13:21.207Z"
   },
   {
    "duration": 75,
    "start_time": "2022-10-30T12:13:21.241Z"
   },
   {
    "duration": 62,
    "start_time": "2022-10-30T12:13:21.318Z"
   },
   {
    "duration": 254,
    "start_time": "2022-10-30T12:13:21.383Z"
   },
   {
    "duration": 400,
    "start_time": "2022-10-30T12:13:56.308Z"
   },
   {
    "duration": 440,
    "start_time": "2022-10-30T12:14:17.843Z"
   },
   {
    "duration": 297,
    "start_time": "2022-10-30T12:14:23.168Z"
   },
   {
    "duration": 328,
    "start_time": "2022-10-30T12:14:28.784Z"
   },
   {
    "duration": 308,
    "start_time": "2022-10-30T12:14:34.284Z"
   },
   {
    "duration": 283,
    "start_time": "2022-10-30T12:14:39.401Z"
   },
   {
    "duration": 279,
    "start_time": "2022-10-30T12:14:46.528Z"
   },
   {
    "duration": 375,
    "start_time": "2022-10-30T12:22:54.039Z"
   },
   {
    "duration": 326,
    "start_time": "2022-10-30T12:37:15.249Z"
   },
   {
    "duration": 387,
    "start_time": "2022-10-30T12:37:33.509Z"
   },
   {
    "duration": 386,
    "start_time": "2022-10-30T12:51:32.358Z"
   },
   {
    "duration": 349,
    "start_time": "2022-10-30T12:52:05.027Z"
   },
   {
    "duration": 321,
    "start_time": "2022-10-30T12:52:25.571Z"
   },
   {
    "duration": 511,
    "start_time": "2022-10-30T12:52:34.458Z"
   },
   {
    "duration": 358,
    "start_time": "2022-10-30T12:52:43.176Z"
   },
   {
    "duration": 341,
    "start_time": "2022-10-30T12:52:51.277Z"
   },
   {
    "duration": 330,
    "start_time": "2022-10-30T12:52:58.779Z"
   },
   {
    "duration": 21,
    "start_time": "2022-10-30T13:00:08.936Z"
   },
   {
    "duration": 340,
    "start_time": "2022-10-30T13:00:22.935Z"
   },
   {
    "duration": 427,
    "start_time": "2022-10-30T13:00:45.223Z"
   },
   {
    "duration": 342,
    "start_time": "2022-10-30T13:00:55.155Z"
   },
   {
    "duration": 336,
    "start_time": "2022-10-30T13:01:05.762Z"
   },
   {
    "duration": 337,
    "start_time": "2022-10-30T13:01:12.753Z"
   },
   {
    "duration": 366,
    "start_time": "2022-10-30T13:01:20.645Z"
   },
   {
    "duration": 450,
    "start_time": "2022-10-30T13:01:25.270Z"
   },
   {
    "duration": 350,
    "start_time": "2022-10-30T13:01:30.349Z"
   },
   {
    "duration": 323,
    "start_time": "2022-10-30T13:01:40.296Z"
   },
   {
    "duration": 331,
    "start_time": "2022-10-30T13:01:45.253Z"
   },
   {
    "duration": 337,
    "start_time": "2022-10-30T13:03:31.640Z"
   },
   {
    "duration": 1574,
    "start_time": "2022-10-30T13:50:58.861Z"
   },
   {
    "duration": 53,
    "start_time": "2022-10-30T13:51:00.438Z"
   },
   {
    "duration": 14,
    "start_time": "2022-10-30T13:51:00.493Z"
   },
   {
    "duration": 27,
    "start_time": "2022-10-30T13:51:00.509Z"
   },
   {
    "duration": 22,
    "start_time": "2022-10-30T13:51:00.538Z"
   },
   {
    "duration": 40,
    "start_time": "2022-10-30T13:51:00.561Z"
   },
   {
    "duration": 18,
    "start_time": "2022-10-30T13:51:00.602Z"
   },
   {
    "duration": 43,
    "start_time": "2022-10-30T13:51:00.622Z"
   },
   {
    "duration": 29,
    "start_time": "2022-10-30T13:51:00.667Z"
   },
   {
    "duration": 24,
    "start_time": "2022-10-30T13:51:00.699Z"
   },
   {
    "duration": 66,
    "start_time": "2022-10-30T13:51:00.725Z"
   },
   {
    "duration": 582,
    "start_time": "2022-10-30T13:51:00.793Z"
   },
   {
    "duration": 583,
    "start_time": "2022-10-30T13:51:01.376Z"
   },
   {
    "duration": 10,
    "start_time": "2022-10-30T13:51:01.961Z"
   },
   {
    "duration": 28,
    "start_time": "2022-10-30T13:51:01.972Z"
   },
   {
    "duration": 29,
    "start_time": "2022-10-30T13:51:02.002Z"
   },
   {
    "duration": 41,
    "start_time": "2022-10-30T13:51:02.033Z"
   },
   {
    "duration": 36,
    "start_time": "2022-10-30T13:51:02.075Z"
   },
   {
    "duration": 48,
    "start_time": "2022-10-30T13:51:02.113Z"
   },
   {
    "duration": 37,
    "start_time": "2022-10-30T13:51:02.163Z"
   },
   {
    "duration": 51,
    "start_time": "2022-10-30T13:51:02.202Z"
   },
   {
    "duration": 31,
    "start_time": "2022-10-30T13:51:02.255Z"
   },
   {
    "duration": 146,
    "start_time": "2022-10-30T13:51:02.288Z"
   },
   {
    "duration": 34,
    "start_time": "2022-10-30T13:51:02.436Z"
   },
   {
    "duration": 133,
    "start_time": "2022-10-30T13:51:02.472Z"
   },
   {
    "duration": 33,
    "start_time": "2022-10-30T13:51:02.606Z"
   },
   {
    "duration": 23,
    "start_time": "2022-10-30T13:51:02.641Z"
   },
   {
    "duration": 34,
    "start_time": "2022-10-30T13:51:02.670Z"
   },
   {
    "duration": 101,
    "start_time": "2022-10-30T13:51:02.705Z"
   },
   {
    "duration": 6,
    "start_time": "2022-10-30T13:51:02.808Z"
   },
   {
    "duration": 22,
    "start_time": "2022-10-30T13:51:02.817Z"
   },
   {
    "duration": 7,
    "start_time": "2022-10-30T13:51:02.841Z"
   },
   {
    "duration": 17,
    "start_time": "2022-10-30T13:51:02.850Z"
   },
   {
    "duration": 278,
    "start_time": "2022-10-30T13:51:02.868Z"
   },
   {
    "duration": 31,
    "start_time": "2022-10-30T13:51:03.147Z"
   },
   {
    "duration": 32,
    "start_time": "2022-10-30T13:51:03.180Z"
   },
   {
    "duration": 19,
    "start_time": "2022-10-30T13:51:03.213Z"
   },
   {
    "duration": 38,
    "start_time": "2022-10-30T13:51:03.233Z"
   },
   {
    "duration": 33,
    "start_time": "2022-10-30T13:51:03.272Z"
   },
   {
    "duration": 10,
    "start_time": "2022-10-30T13:51:03.306Z"
   },
   {
    "duration": 133,
    "start_time": "2022-10-30T13:51:03.318Z"
   },
   {
    "duration": 153,
    "start_time": "2022-10-30T13:51:03.453Z"
   },
   {
    "duration": 4,
    "start_time": "2022-10-30T13:51:03.608Z"
   },
   {
    "duration": 29,
    "start_time": "2022-10-30T13:51:03.614Z"
   },
   {
    "duration": 154,
    "start_time": "2022-10-30T13:51:03.645Z"
   },
   {
    "duration": 9,
    "start_time": "2022-10-30T13:51:03.801Z"
   },
   {
    "duration": 182,
    "start_time": "2022-10-30T13:51:03.811Z"
   },
   {
    "duration": 11,
    "start_time": "2022-10-30T13:51:03.995Z"
   },
   {
    "duration": 165,
    "start_time": "2022-10-30T13:51:04.008Z"
   },
   {
    "duration": 6,
    "start_time": "2022-10-30T13:51:04.175Z"
   },
   {
    "duration": 36,
    "start_time": "2022-10-30T13:51:04.183Z"
   },
   {
    "duration": 15,
    "start_time": "2022-10-30T13:51:04.221Z"
   },
   {
    "duration": 23,
    "start_time": "2022-10-30T13:51:04.238Z"
   },
   {
    "duration": 53,
    "start_time": "2022-10-30T13:51:04.262Z"
   },
   {
    "duration": 390,
    "start_time": "2022-10-30T13:51:04.317Z"
   },
   {
    "duration": 30,
    "start_time": "2022-10-30T13:51:04.709Z"
   },
   {
    "duration": 168,
    "start_time": "2022-10-30T13:51:04.741Z"
   },
   {
    "duration": 296,
    "start_time": "2022-10-30T13:51:04.911Z"
   },
   {
    "duration": 530,
    "start_time": "2022-10-30T13:51:05.209Z"
   },
   {
    "duration": 93,
    "start_time": "2022-10-30T13:51:05.742Z"
   },
   {
    "duration": 110,
    "start_time": "2022-10-30T13:51:05.838Z"
   },
   {
    "duration": 15,
    "start_time": "2022-10-30T13:51:05.950Z"
   },
   {
    "duration": 17,
    "start_time": "2022-10-30T13:51:05.967Z"
   },
   {
    "duration": 27,
    "start_time": "2022-10-30T13:51:05.986Z"
   },
   {
    "duration": 22,
    "start_time": "2022-10-30T13:51:06.015Z"
   },
   {
    "duration": 18,
    "start_time": "2022-10-30T13:51:06.038Z"
   },
   {
    "duration": 319,
    "start_time": "2022-10-30T13:51:06.058Z"
   },
   {
    "duration": 337,
    "start_time": "2022-10-30T13:51:06.379Z"
   },
   {
    "duration": 624,
    "start_time": "2022-10-30T13:51:06.718Z"
   },
   {
    "duration": 246,
    "start_time": "2022-10-30T13:51:07.344Z"
   },
   {
    "duration": 5,
    "start_time": "2022-10-30T13:51:07.592Z"
   },
   {
    "duration": 66,
    "start_time": "2022-10-30T13:51:07.599Z"
   },
   {
    "duration": 11,
    "start_time": "2022-10-30T13:51:07.667Z"
   },
   {
    "duration": 7,
    "start_time": "2022-10-30T13:51:07.680Z"
   },
   {
    "duration": 42,
    "start_time": "2022-10-30T13:51:07.689Z"
   },
   {
    "duration": 38,
    "start_time": "2022-10-30T13:51:07.733Z"
   },
   {
    "duration": 412,
    "start_time": "2022-10-30T13:51:07.773Z"
   },
   {
    "duration": 354,
    "start_time": "2022-10-30T13:51:08.187Z"
   },
   {
    "duration": 355,
    "start_time": "2022-10-30T13:51:08.543Z"
   },
   {
    "duration": 255,
    "start_time": "2022-10-30T13:51:08.900Z"
   },
   {
    "duration": 329,
    "start_time": "2022-10-30T13:51:09.157Z"
   },
   {
    "duration": 2049,
    "start_time": "2022-10-31T07:42:41.243Z"
   },
   {
    "duration": 181,
    "start_time": "2022-10-31T07:42:43.294Z"
   },
   {
    "duration": 14,
    "start_time": "2022-10-31T07:42:43.476Z"
   },
   {
    "duration": 14,
    "start_time": "2022-10-31T07:42:43.492Z"
   },
   {
    "duration": 6,
    "start_time": "2022-10-31T07:42:43.509Z"
   },
   {
    "duration": 30,
    "start_time": "2022-10-31T07:42:43.516Z"
   },
   {
    "duration": 23,
    "start_time": "2022-10-31T07:42:43.548Z"
   },
   {
    "duration": 21,
    "start_time": "2022-10-31T07:42:43.573Z"
   },
   {
    "duration": 19,
    "start_time": "2022-10-31T07:42:43.596Z"
   },
   {
    "duration": 9,
    "start_time": "2022-10-31T07:42:43.617Z"
   },
   {
    "duration": 30,
    "start_time": "2022-10-31T07:42:43.627Z"
   },
   {
    "duration": 532,
    "start_time": "2022-10-31T07:42:43.658Z"
   },
   {
    "duration": 629,
    "start_time": "2022-10-31T07:42:44.193Z"
   },
   {
    "duration": 9,
    "start_time": "2022-10-31T07:42:44.833Z"
   },
   {
    "duration": 62,
    "start_time": "2022-10-31T07:42:44.843Z"
   },
   {
    "duration": 22,
    "start_time": "2022-10-31T07:42:44.907Z"
   },
   {
    "duration": 21,
    "start_time": "2022-10-31T07:42:44.931Z"
   },
   {
    "duration": 20,
    "start_time": "2022-10-31T07:42:44.954Z"
   },
   {
    "duration": 36,
    "start_time": "2022-10-31T07:42:44.976Z"
   },
   {
    "duration": 35,
    "start_time": "2022-10-31T07:42:45.014Z"
   },
   {
    "duration": 38,
    "start_time": "2022-10-31T07:42:45.050Z"
   },
   {
    "duration": 23,
    "start_time": "2022-10-31T07:42:45.090Z"
   },
   {
    "duration": 163,
    "start_time": "2022-10-31T07:42:45.115Z"
   },
   {
    "duration": 33,
    "start_time": "2022-10-31T07:42:45.280Z"
   },
   {
    "duration": 136,
    "start_time": "2022-10-31T07:42:45.315Z"
   },
   {
    "duration": 25,
    "start_time": "2022-10-31T07:42:45.453Z"
   },
   {
    "duration": 39,
    "start_time": "2022-10-31T07:42:45.480Z"
   },
   {
    "duration": 51,
    "start_time": "2022-10-31T07:42:45.521Z"
   },
   {
    "duration": 123,
    "start_time": "2022-10-31T07:42:45.574Z"
   },
   {
    "duration": 6,
    "start_time": "2022-10-31T07:42:45.699Z"
   },
   {
    "duration": 24,
    "start_time": "2022-10-31T07:42:45.706Z"
   },
   {
    "duration": 11,
    "start_time": "2022-10-31T07:42:45.732Z"
   },
   {
    "duration": 21,
    "start_time": "2022-10-31T07:42:45.745Z"
   },
   {
    "duration": 282,
    "start_time": "2022-10-31T07:42:45.767Z"
   },
   {
    "duration": 30,
    "start_time": "2022-10-31T07:42:46.050Z"
   },
   {
    "duration": 20,
    "start_time": "2022-10-31T07:42:46.082Z"
   },
   {
    "duration": 11,
    "start_time": "2022-10-31T07:42:46.103Z"
   },
   {
    "duration": 17,
    "start_time": "2022-10-31T07:42:46.116Z"
   },
   {
    "duration": 33,
    "start_time": "2022-10-31T07:42:46.135Z"
   },
   {
    "duration": 36,
    "start_time": "2022-10-31T07:42:46.170Z"
   },
   {
    "duration": 199,
    "start_time": "2022-10-31T07:42:46.210Z"
   },
   {
    "duration": 149,
    "start_time": "2022-10-31T07:42:46.411Z"
   },
   {
    "duration": 5,
    "start_time": "2022-10-31T07:42:46.562Z"
   },
   {
    "duration": 22,
    "start_time": "2022-10-31T07:42:46.568Z"
   },
   {
    "duration": 158,
    "start_time": "2022-10-31T07:42:46.592Z"
   },
   {
    "duration": 9,
    "start_time": "2022-10-31T07:42:46.752Z"
   },
   {
    "duration": 170,
    "start_time": "2022-10-31T07:42:46.763Z"
   },
   {
    "duration": 12,
    "start_time": "2022-10-31T07:42:46.934Z"
   },
   {
    "duration": 156,
    "start_time": "2022-10-31T07:42:46.947Z"
   },
   {
    "duration": 6,
    "start_time": "2022-10-31T07:42:47.105Z"
   },
   {
    "duration": 23,
    "start_time": "2022-10-31T07:42:47.112Z"
   },
   {
    "duration": 32,
    "start_time": "2022-10-31T07:42:47.137Z"
   },
   {
    "duration": 25,
    "start_time": "2022-10-31T07:42:47.171Z"
   },
   {
    "duration": 27,
    "start_time": "2022-10-31T07:42:47.198Z"
   },
   {
    "duration": 392,
    "start_time": "2022-10-31T07:42:47.227Z"
   },
   {
    "duration": 30,
    "start_time": "2022-10-31T07:42:47.621Z"
   },
   {
    "duration": 156,
    "start_time": "2022-10-31T07:42:47.654Z"
   },
   {
    "duration": 324,
    "start_time": "2022-10-31T07:42:47.812Z"
   },
   {
    "duration": 596,
    "start_time": "2022-10-31T07:42:48.138Z"
   },
   {
    "duration": 5,
    "start_time": "2022-10-31T07:42:48.736Z"
   },
   {
    "duration": 119,
    "start_time": "2022-10-31T07:42:48.743Z"
   },
   {
    "duration": 25,
    "start_time": "2022-10-31T07:42:48.863Z"
   },
   {
    "duration": 33,
    "start_time": "2022-10-31T07:42:48.889Z"
   },
   {
    "duration": 26,
    "start_time": "2022-10-31T07:42:48.923Z"
   },
   {
    "duration": 21,
    "start_time": "2022-10-31T07:42:48.950Z"
   },
   {
    "duration": 25,
    "start_time": "2022-10-31T07:42:48.973Z"
   },
   {
    "duration": 267,
    "start_time": "2022-10-31T07:42:49.000Z"
   },
   {
    "duration": 306,
    "start_time": "2022-10-31T07:42:49.268Z"
   },
   {
    "duration": 661,
    "start_time": "2022-10-31T07:42:49.576Z"
   },
   {
    "duration": 247,
    "start_time": "2022-10-31T07:42:50.238Z"
   },
   {
    "duration": 5,
    "start_time": "2022-10-31T07:42:50.487Z"
   },
   {
    "duration": 41,
    "start_time": "2022-10-31T07:42:50.493Z"
   },
   {
    "duration": 33,
    "start_time": "2022-10-31T07:42:50.535Z"
   },
   {
    "duration": 50,
    "start_time": "2022-10-31T07:42:50.569Z"
   },
   {
    "duration": 55,
    "start_time": "2022-10-31T07:42:50.621Z"
   },
   {
    "duration": 35,
    "start_time": "2022-10-31T07:42:50.677Z"
   },
   {
    "duration": 379,
    "start_time": "2022-10-31T07:42:50.714Z"
   },
   {
    "duration": 340,
    "start_time": "2022-10-31T07:42:51.095Z"
   },
   {
    "duration": 333,
    "start_time": "2022-10-31T07:42:51.437Z"
   },
   {
    "duration": 241,
    "start_time": "2022-10-31T07:42:51.772Z"
   },
   {
    "duration": 344,
    "start_time": "2022-10-31T07:42:52.015Z"
   }
  ],
  "kernelspec": {
   "display_name": "Python 3",
   "language": "python",
   "name": "python3"
  },
  "language_info": {
   "codemirror_mode": {
    "name": "ipython",
    "version": 3
   },
   "file_extension": ".py",
   "mimetype": "text/x-python",
   "name": "python",
   "nbconvert_exporter": "python",
   "pygments_lexer": "ipython3",
   "version": "3.8.3"
  },
  "toc": {
   "base_numbering": 1,
   "nav_menu": {},
   "number_sections": true,
   "sideBar": true,
   "skip_h1_title": true,
   "title_cell": "Содержание",
   "title_sidebar": "Contents",
   "toc_cell": true,
   "toc_position": {
    "height": "calc(100% - 180px)",
    "left": "10px",
    "top": "150px",
    "width": "173.011px"
   },
   "toc_section_display": true,
   "toc_window_display": true
  }
 },
 "nbformat": 4,
 "nbformat_minor": 2
}
