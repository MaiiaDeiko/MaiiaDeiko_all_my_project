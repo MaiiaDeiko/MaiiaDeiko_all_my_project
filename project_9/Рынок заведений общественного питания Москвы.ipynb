{
 "cells": [
  {
   "cell_type": "markdown",
   "metadata": {},
   "source": [
    "# Рынок заведений общественного питания Москвы"
   ]
  },
  {
   "cell_type": "markdown",
   "metadata": {
    "toc": true
   },
   "source": [
    "<h1>Содержание<span class=\"tocSkip\"></span></h1>\n",
    "<div class=\"toc\"><ul class=\"toc-item\"><li><span><a href=\"#Описание-проекта\" data-toc-modified-id=\"Описание-проекта-1\"><span class=\"toc-item-num\">1&nbsp;&nbsp;</span>Описание проекта</a></span></li><li><span><a href=\"#Этапы-выполнения-проекта\" data-toc-modified-id=\"Этапы-выполнения-проекта-2\"><span class=\"toc-item-num\">2&nbsp;&nbsp;</span>Этапы выполнения проекта</a></span></li><li><span><a href=\"#Описание-данных\" data-toc-modified-id=\"Описание-данных-3\"><span class=\"toc-item-num\">3&nbsp;&nbsp;</span>Описание данных</a></span></li><li><span><a href=\"#Шаг-№1.-Предобработка-данных\" data-toc-modified-id=\"Шаг-№1.-Предобработка-данных-4\"><span class=\"toc-item-num\">4&nbsp;&nbsp;</span>Шаг №1. Предобработка данных</a></span><ul class=\"toc-item\"><li><span><a href=\"#Обзор-данных\" data-toc-modified-id=\"Обзор-данных-4.1\"><span class=\"toc-item-num\">4.1&nbsp;&nbsp;</span>Обзор данных</a></span><ul class=\"toc-item\"><li><span><a href=\"#Выводы\" data-toc-modified-id=\"Выводы-4.1.1\"><span class=\"toc-item-num\">4.1.1&nbsp;&nbsp;</span>Выводы</a></span></li></ul></li><li><span><a href=\"#Поиск-дубликатов\" data-toc-modified-id=\"Поиск-дубликатов-4.2\"><span class=\"toc-item-num\">4.2&nbsp;&nbsp;</span>Поиск дубликатов</a></span><ul class=\"toc-item\"><li><span><a href=\"#Вывод\" data-toc-modified-id=\"Вывод-4.2.1\"><span class=\"toc-item-num\">4.2.1&nbsp;&nbsp;</span>Вывод</a></span></li></ul></li></ul></li><li><span><a href=\"#Шаг-№2.-Анализ-данных\" data-toc-modified-id=\"Шаг-№2.-Анализ-данных-5\"><span class=\"toc-item-num\">5&nbsp;&nbsp;</span>Шаг №2. Анализ данных</a></span><ul class=\"toc-item\"><li><ul class=\"toc-item\"><li><span><a href=\"#Cоотношение-видов-объектов-общественного-питания-по-количеству\" data-toc-modified-id=\"Cоотношение-видов-объектов-общественного-питания-по-количеству-5.0.1\"><span class=\"toc-item-num\">5.0.1&nbsp;&nbsp;</span>Cоотношение видов объектов общественного питания по количеству</a></span><ul class=\"toc-item\"><li><span><a href=\"#Вывод\" data-toc-modified-id=\"Вывод-5.0.1.1\"><span class=\"toc-item-num\">5.0.1.1&nbsp;&nbsp;</span>Вывод</a></span></li></ul></li></ul></li><li><span><a href=\"#Cоотношение-сетевых-и-несетевых-заведений-по-количеству\" data-toc-modified-id=\"Cоотношение-сетевых-и-несетевых-заведений-по-количеству-5.1\"><span class=\"toc-item-num\">5.1&nbsp;&nbsp;</span>Cоотношение сетевых и несетевых заведений по количеству</a></span><ul class=\"toc-item\"><li><span><a href=\"#Вывод\" data-toc-modified-id=\"Вывод-5.1.1\"><span class=\"toc-item-num\">5.1.1&nbsp;&nbsp;</span>Вывод</a></span></li></ul></li><li><span><a href=\"#Сетевое-распространение-по-видам-объектов\" data-toc-modified-id=\"Сетевое-распространение-по-видам-объектов-5.2\"><span class=\"toc-item-num\">5.2&nbsp;&nbsp;</span>Сетевое распространение по видам объектов</a></span><ul class=\"toc-item\"><li><span><a href=\"#Вывод\" data-toc-modified-id=\"Вывод-5.2.1\"><span class=\"toc-item-num\">5.2.1&nbsp;&nbsp;</span>Вывод</a></span></li></ul></li><li><span><a href=\"#Количество-посадочных-мест-в-сетевых-заведениях\" data-toc-modified-id=\"Количество-посадочных-мест-в-сетевых-заведениях-5.3\"><span class=\"toc-item-num\">5.3&nbsp;&nbsp;</span>Количество посадочных мест в сетевых заведениях</a></span><ul class=\"toc-item\"><li><span><a href=\"#Вывод\" data-toc-modified-id=\"Вывод-5.3.1\"><span class=\"toc-item-num\">5.3.1&nbsp;&nbsp;</span>Вывод</a></span></li></ul></li><li><span><a href=\"#Характерное-количество-посадочных-мест-по-типам-заведений\" data-toc-modified-id=\"Характерное-количество-посадочных-мест-по-типам-заведений-5.4\"><span class=\"toc-item-num\">5.4&nbsp;&nbsp;</span>Характерное количество посадочных мест по типам заведений</a></span><ul class=\"toc-item\"><li><span><a href=\"#Вывод\" data-toc-modified-id=\"Вывод-5.4.1\"><span class=\"toc-item-num\">5.4.1&nbsp;&nbsp;</span>Вывод</a></span></li></ul></li><li><span><a href=\"#Зависимость-от-расположения-ПОП\" data-toc-modified-id=\"Зависимость-от-расположения-ПОП-5.5\"><span class=\"toc-item-num\">5.5&nbsp;&nbsp;</span>Зависимость от расположения ПОП</a></span><ul class=\"toc-item\"><li><span><a href=\"#Вывод-ТОП-10\" data-toc-modified-id=\"Вывод-ТОП-10-5.5.1\"><span class=\"toc-item-num\">5.5.1&nbsp;&nbsp;</span>Вывод ТОП-10</a></span></li><li><span><a href=\"#Вывод:-улицы-с-одним-объектом-ПОП\" data-toc-modified-id=\"Вывод:-улицы-с-одним-объектом-ПОП-5.5.2\"><span class=\"toc-item-num\">5.5.2&nbsp;&nbsp;</span>Вывод: улицы с одним объектом ПОП</a></span></li></ul></li></ul></li><li><span><a href=\"#Общий-вывод\" data-toc-modified-id=\"Общий-вывод-6\"><span class=\"toc-item-num\">6&nbsp;&nbsp;</span>Общий вывод</a></span></li><li><span><a href=\"#Шаг-№3.-Презентация\" data-toc-modified-id=\"Шаг-№3.-Презентация-7\"><span class=\"toc-item-num\">7&nbsp;&nbsp;</span>Шаг №3. Презентация</a></span></li></ul></div>"
   ]
  },
  {
   "cell_type": "markdown",
   "metadata": {},
   "source": [
    "## Описание проекта\n",
    "\n",
    "**Задачи:**\n",
    "\n",
    "Исследование рынка общественного питания на основе открытых данных, подготовка презентации для инвесторов.\n",
    "\n",
    "\n",
    "Подробно в файле `README.md`"
   ]
  },
  {
   "cell_type": "markdown",
   "metadata": {},
   "source": [
    "## Этапы выполнения проекта\n",
    "**Шаг №1. Загрузка данных и подготовка их к анализу**   \n",
    "\n",
    "Загрузим данные о заведениях общественного питания Москвы. Убедимся, что тип данных в каждой колонке — правильный, а также отсутствуют пропущенные значения и дубликаты. При необходимости обработаем их.\n",
    "\n",
    "**Шаг №2. Анализ данных**"
   ]
  },
  {
   "cell_type": "markdown",
   "metadata": {},
   "source": [
    "**Шаг №3. Подготовка презентации**   \n",
    "\n",
    "Подготовим презентацию исследования для инвесторов."
   ]
  },
  {
   "cell_type": "markdown",
   "metadata": {},
   "source": [
    "## Описание данных"
   ]
  },
  {
   "cell_type": "markdown",
   "metadata": {},
   "source": [
    "**Таблица rest_data:**   \n",
    "* `id` — идентификатор объекта;\n",
    "* `object_name` — название объекта общественного питания;\n",
    "* `chain` — сетевой ресторан;\n",
    "* `object_type` — тип объекта общественного питания;\n",
    "* `address` — адрес;\n",
    "* `number` — количество посадочных мест."
   ]
  },
  {
   "cell_type": "markdown",
   "metadata": {},
   "source": [
    "## Шаг №1. Предобработка данных"
   ]
  },
  {
   "cell_type": "markdown",
   "metadata": {},
   "source": [
    "### Обзор данных"
   ]
  },
  {
   "cell_type": "code",
   "execution_count": 1,
   "metadata": {},
   "outputs": [],
   "source": [
    "import pandas as pd\n",
    "import matplotlib.pyplot as plt\n",
    "import seaborn as sns\n",
    "from io import BytesIO\n",
    "import requests"
   ]
  },
  {
   "cell_type": "code",
   "execution_count": 2,
   "metadata": {},
   "outputs": [],
   "source": [
    "rest_data = pd.read_csv(r'C:\\Users\\802279\\Downloads\\Аналитик данных\\Проекты\\9 Исследования рынка общепита в Москве для принятия решения об\\rest_data.csv')"
   ]
  },
  {
   "cell_type": "code",
   "execution_count": 3,
   "metadata": {},
   "outputs": [
    {
     "name": "stdout",
     "output_type": "stream",
     "text": [
      "<class 'pandas.core.frame.DataFrame'>\n",
      "RangeIndex: 15366 entries, 0 to 15365\n",
      "Data columns (total 6 columns):\n",
      " #   Column       Non-Null Count  Dtype \n",
      "---  ------       --------------  ----- \n",
      " 0   id           15366 non-null  int64 \n",
      " 1   object_name  15366 non-null  object\n",
      " 2   chain        15366 non-null  object\n",
      " 3   object_type  15366 non-null  object\n",
      " 4   address      15366 non-null  object\n",
      " 5   number       15366 non-null  int64 \n",
      "dtypes: int64(2), object(4)\n",
      "memory usage: 720.4+ KB\n"
     ]
    }
   ],
   "source": [
    "rest_data.info()"
   ]
  },
  {
   "cell_type": "code",
   "execution_count": 4,
   "metadata": {},
   "outputs": [
    {
     "data": {
      "text/html": [
       "<div>\n",
       "<style scoped>\n",
       "    .dataframe tbody tr th:only-of-type {\n",
       "        vertical-align: middle;\n",
       "    }\n",
       "\n",
       "    .dataframe tbody tr th {\n",
       "        vertical-align: top;\n",
       "    }\n",
       "\n",
       "    .dataframe thead th {\n",
       "        text-align: right;\n",
       "    }\n",
       "</style>\n",
       "<table border=\"1\" class=\"dataframe\">\n",
       "  <thead>\n",
       "    <tr style=\"text-align: right;\">\n",
       "      <th></th>\n",
       "      <th>id</th>\n",
       "      <th>object_name</th>\n",
       "      <th>chain</th>\n",
       "      <th>object_type</th>\n",
       "      <th>address</th>\n",
       "      <th>number</th>\n",
       "    </tr>\n",
       "  </thead>\n",
       "  <tbody>\n",
       "    <tr>\n",
       "      <th>0</th>\n",
       "      <td>151635</td>\n",
       "      <td>СМЕТАНА</td>\n",
       "      <td>нет</td>\n",
       "      <td>кафе</td>\n",
       "      <td>город Москва, улица Егора Абакумова, дом 9</td>\n",
       "      <td>48</td>\n",
       "    </tr>\n",
       "    <tr>\n",
       "      <th>1</th>\n",
       "      <td>77874</td>\n",
       "      <td>Родник</td>\n",
       "      <td>нет</td>\n",
       "      <td>кафе</td>\n",
       "      <td>город Москва, улица Талалихина, дом 2/1, корпус 1</td>\n",
       "      <td>35</td>\n",
       "    </tr>\n",
       "    <tr>\n",
       "      <th>2</th>\n",
       "      <td>24309</td>\n",
       "      <td>Кафе «Академия»</td>\n",
       "      <td>нет</td>\n",
       "      <td>кафе</td>\n",
       "      <td>город Москва, Абельмановская улица, дом 6</td>\n",
       "      <td>95</td>\n",
       "    </tr>\n",
       "    <tr>\n",
       "      <th>3</th>\n",
       "      <td>21894</td>\n",
       "      <td>ПИЦЦЕТОРИЯ</td>\n",
       "      <td>да</td>\n",
       "      <td>кафе</td>\n",
       "      <td>город Москва, Абрамцевская улица, дом 1</td>\n",
       "      <td>40</td>\n",
       "    </tr>\n",
       "    <tr>\n",
       "      <th>4</th>\n",
       "      <td>119365</td>\n",
       "      <td>Кафе «Вишневая метель»</td>\n",
       "      <td>нет</td>\n",
       "      <td>кафе</td>\n",
       "      <td>город Москва, Абрамцевская улица, дом 9, корпус 1</td>\n",
       "      <td>50</td>\n",
       "    </tr>\n",
       "  </tbody>\n",
       "</table>\n",
       "</div>"
      ],
      "text/plain": [
       "       id             object_name chain object_type  \\\n",
       "0  151635                 СМЕТАНА   нет        кафе   \n",
       "1   77874                  Родник   нет        кафе   \n",
       "2   24309         Кафе «Академия»   нет        кафе   \n",
       "3   21894              ПИЦЦЕТОРИЯ    да        кафе   \n",
       "4  119365  Кафе «Вишневая метель»   нет        кафе   \n",
       "\n",
       "                                             address  number  \n",
       "0         город Москва, улица Егора Абакумова, дом 9      48  \n",
       "1  город Москва, улица Талалихина, дом 2/1, корпус 1      35  \n",
       "2          город Москва, Абельмановская улица, дом 6      95  \n",
       "3            город Москва, Абрамцевская улица, дом 1      40  \n",
       "4  город Москва, Абрамцевская улица, дом 9, корпус 1      50  "
      ]
     },
     "execution_count": 4,
     "metadata": {},
     "output_type": "execute_result"
    }
   ],
   "source": [
    "rest_data.head()"
   ]
  },
  {
   "cell_type": "markdown",
   "metadata": {},
   "source": [
    "#### Выводы"
   ]
  },
  {
   "cell_type": "markdown",
   "metadata": {},
   "source": [
    "В таблице 15366 строк и 6 столбцов, пропусков в данных нет. Заголовки соответствуют хорошему стилю и не требуют переименования. Типы данных также не требуют изменений.   \n",
    "Что требуется сделать: Привести все текстовые строки к нижнему регистру и проверить их на явные и неявные дубликаты."
   ]
  },
  {
   "cell_type": "markdown",
   "metadata": {},
   "source": [
    "### Поиск дубликатов"
   ]
  },
  {
   "cell_type": "code",
   "execution_count": 5,
   "metadata": {},
   "outputs": [
    {
     "data": {
      "text/plain": [
       "163840    1\n",
       "207007    1\n",
       "58806     1\n",
       "198074    1\n",
       "150035    1\n",
       "         ..\n",
       "29419     1\n",
       "69506     1\n",
       "23278     1\n",
       "185071    1\n",
       "167934    1\n",
       "Name: id, Length: 15366, dtype: int64"
      ]
     },
     "execution_count": 5,
     "metadata": {},
     "output_type": "execute_result"
    }
   ],
   "source": [
    "rest_data['id'].value_counts()"
   ]
  },
  {
   "cell_type": "markdown",
   "metadata": {},
   "source": [
    "Все `id` уникальны, поэтому столбец с `id` надо исключить при поиске поных явных дуликатов: если все остальные данные, кроме `id`  совпадут - это одно и то же кафе. "
   ]
  },
  {
   "cell_type": "code",
   "execution_count": 6,
   "metadata": {},
   "outputs": [
    {
     "name": "stdout",
     "output_type": "stream",
     "text": [
      "Явных дубликтов: 82\n"
     ]
    }
   ],
   "source": [
    "# поиск и подсчёт явных дубликатов\n",
    "\n",
    "print('Явных дубликтов:', \n",
    "      rest_data.duplicated(subset=['object_name', 'chain', \n",
    "                                   'object_type', 'address', 'number']).sum()\n",
    "     )"
   ]
  },
  {
   "cell_type": "markdown",
   "metadata": {},
   "source": [
    "Поищем их после устранения неявных дубликатов"
   ]
  },
  {
   "cell_type": "code",
   "execution_count": 7,
   "metadata": {},
   "outputs": [
    {
     "data": {
      "text/plain": [
       "array(['нет', 'да'], dtype=object)"
      ]
     },
     "execution_count": 7,
     "metadata": {},
     "output_type": "execute_result"
    }
   ],
   "source": [
    "# \n",
    "rest_data['chain'].unique()"
   ]
  },
  {
   "cell_type": "code",
   "execution_count": 8,
   "metadata": {},
   "outputs": [
    {
     "data": {
      "text/plain": [
       "array(['кафе', 'столовая', 'закусочная',\n",
       "       'предприятие быстрого обслуживания', 'ресторан', 'кафетерий',\n",
       "       'буфет', 'бар', 'магазин (отдел кулинарии)'], dtype=object)"
      ]
     },
     "execution_count": 8,
     "metadata": {},
     "output_type": "execute_result"
    }
   ],
   "source": [
    "#\n",
    "rest_data['object_type'].unique()"
   ]
  },
  {
   "cell_type": "code",
   "execution_count": 9,
   "metadata": {},
   "outputs": [
    {
     "data": {
      "text/plain": [
       "['1-ЫЙ МОСКОВСКИЙ КАДЕТСКИЙ КОРПУС',\n",
       " '1-й МОК',\n",
       " '100 личная столовая',\n",
       " '100 личное кафе',\n",
       " '1001 ночь',\n",
       " '100лоФФка',\n",
       " '101 вкус',\n",
       " '13 RULES',\n",
       " '13 RULES KRAFT BEER',\n",
       " '13 Rules',\n",
       " '15 Kitchen+bar',\n",
       " '18 АВТОБУСНЫЙ ПАРК',\n",
       " '19bar Atmosphere',\n",
       " '1x bet',\n",
       " '2-Й АВТОБУСНЫЙ ПАРК',\n",
       " \"23'00\",\n",
       " '24 Градуса',\n",
       " '259',\n",
       " '3 Skovorodki',\n",
       " '3 правила',\n",
       " '33 пингвина',\n",
       " '37-37',\n",
       " '44 Чашма',\n",
       " '495',\n",
       " '5звезд Юг 52',\n",
       " '68. ПАУЗА',\n",
       " '69 Pints Бар',\n",
       " '69 pints',\n",
       " '7 Сендвичей',\n",
       " '7 злаков',\n",
       " '7 сэндвичей-Meating',\n",
       " '7717 LOUNGE (Кальянная)',\n",
       " '8 OZ Унций',\n",
       " '8-ОЙ ТРОЛЛЕЙБУСНЫЙ ПАРК',\n",
       " '9 АВТОБУСНЫЙ ПАРК',\n",
       " '9bar',\n",
       " 'ABC Coffee Roasters',\n",
       " 'ACCENTI',\n",
       " 'ADRY',\n",
       " 'AGLOMERAT',\n",
       " 'AL33 Пиццерия Бар Ботега',\n",
       " 'ALOHA POKE BAR',\n",
       " 'AMARSI',\n",
       " 'AMG',\n",
       " 'APARTAMENT Пар Бар',\n",
       " 'AQKitchen',\n",
       " 'ART PUB',\n",
       " 'Abbey Players Irish Pub',\n",
       " 'Absolem',\n",
       " 'Acai Family',\n",
       " 'Alex Пекарня',\n",
       " 'Amande Cafe',\n",
       " 'Americano Кафе',\n",
       " 'Amerigos Pizza',\n",
       " 'Amore Grande',\n",
       " 'Amore, итальянское мороженое',\n",
       " 'Amster bar snacks',\n",
       " 'An Nam',\n",
       " 'Andiamo',\n",
       " \"Andy's friends\",\n",
       " 'Arahis Pub',\n",
       " 'Arbat hall',\n",
       " 'Arena by Soho Family',\n",
       " 'Aroma',\n",
       " 'Art Cafe',\n",
       " 'Art lunch',\n",
       " 'Art&Food',\n",
       " 'Avenue 6',\n",
       " 'BARBADOS',\n",
       " 'BARRIQUE',\n",
       " 'BAZAR',\n",
       " 'BB & Burgers',\n",
       " 'BB Grill',\n",
       " 'BB энд Burger',\n",
       " 'BB&BURGERS',\n",
       " 'BB&Burgers',\n",
       " 'BBBurgers',\n",
       " 'BBQ',\n",
       " 'BBQ AM Барбекю',\n",
       " 'BEER BEER bar',\n",
       " 'BEER DOCK',\n",
       " 'BENEFIT фреш бар',\n",
       " 'BIBI-ДОНЕР',\n",
       " 'BIG суши',\n",
       " 'BISTROT',\n",
       " 'BLACK STAR BURGER',\n",
       " 'BLIN.RU FOOD&TEA',\n",
       " 'BLINДАЖ',\n",
       " 'BO',\n",
       " 'BOKKER',\n",
       " 'BORODA BURGER',\n",
       " 'BOSTON',\n",
       " 'BP',\n",
       " 'BQ Cafe & Osteria Mario',\n",
       " 'BRASSERIE МОСТ',\n",
       " 'BRB',\n",
       " 'BREAC CAFE',\n",
       " 'BREWERY&BAR POET',\n",
       " 'BRawleRS PAB',\n",
       " 'BUBA by SUMOSAN',\n",
       " 'BUBBA SHERI',\n",
       " 'BURGER HEROES',\n",
       " 'BURO TSUM',\n",
       " 'BUZfood',\n",
       " 'BaMi',\n",
       " 'Babbles dessert&babbles',\n",
       " 'Bambule',\n",
       " 'Bananas',\n",
       " 'Bar BQ',\n",
       " 'Bar BQ Cafe',\n",
       " 'Bar Dag',\n",
       " 'Bar LosBandidos',\n",
       " 'Bar for Bikers',\n",
       " 'BarBQcafe',\n",
       " 'Barbecue Beer Bar',\n",
       " 'Barbecue bbq storege',\n",
       " 'Barbeque',\n",
       " 'Barbeque bbq',\n",
       " 'Bardak кафе по-турецки',\n",
       " 'Baristo Coffee',\n",
       " 'Barrister',\n",
       " 'Barton',\n",
       " 'Baskin Robbins',\n",
       " 'Be Positive',\n",
       " 'Be my pizza',\n",
       " 'Beef Роял',\n",
       " 'Beer Gik',\n",
       " 'Beer Happens',\n",
       " 'Beer Harbor',\n",
       " 'Beer and Fries',\n",
       " 'BeerNation',\n",
       " 'Beermood',\n",
       " 'Beertep',\n",
       " \"Benner's\",\n",
       " 'Berikoni',\n",
       " 'Berry Fruit',\n",
       " 'Beverly Hills Diner',\n",
       " 'Bierloga',\n",
       " 'Big Wall Cafe',\n",
       " 'Big boys',\n",
       " 'Bigati Bar',\n",
       " 'Bistrof & Boutigue №7',\n",
       " 'Bizone Hookah',\n",
       " 'Bizone Антикафе',\n",
       " 'Black & White',\n",
       " 'Black Hat',\n",
       " 'Black Star Burger',\n",
       " 'Black Star Burger Prime',\n",
       " 'Black Star Burgers',\n",
       " 'Black Swan pub&shop',\n",
       " 'Black cafe',\n",
       " 'Black coffe and food',\n",
       " 'Black star burgers',\n",
       " 'Black&Black',\n",
       " 'Blak Tai',\n",
       " \"Blak's\",\n",
       " 'Bloom-n-brew',\n",
       " 'Blush',\n",
       " 'Bo',\n",
       " 'Bo-Bo Lounge',\n",
       " \"Bob's Your Uncle\",\n",
       " 'Bocconcino',\n",
       " 'Bodrero',\n",
       " 'Bodro coffee',\n",
       " 'Bodrum',\n",
       " 'Boilerman craft beer',\n",
       " 'Bokker',\n",
       " 'Bolognetta',\n",
       " 'Bon App',\n",
       " 'Bongo coffee',\n",
       " 'BooBo',\n",
       " 'Bootleggers',\n",
       " 'Born to Burn',\n",
       " 'Boroda',\n",
       " 'Bosco Bar',\n",
       " 'Bosco Cafe',\n",
       " 'BottomsUp',\n",
       " 'Bridge Coffee',\n",
       " 'Brioche',\n",
       " 'Brisket BBQ',\n",
       " 'Broms',\n",
       " 'Brooklyn Burgers Bar',\n",
       " 'Brou star Броубар',\n",
       " 'Brut Bar',\n",
       " 'Buba by Sumosan',\n",
       " 'Bubble Mania',\n",
       " 'Bubbleology',\n",
       " 'Bucks Coffee',\n",
       " 'Buffalo',\n",
       " \"Buffalo's & Tacodor\",\n",
       " 'Buffalos',\n",
       " 'Burger & Pizzetta',\n",
       " 'Burger Club',\n",
       " 'Burger First',\n",
       " 'Burger Heroes',\n",
       " 'Burger №1',\n",
       " 'BurgerKing',\n",
       " 'Burgerbar Dos Bandidos',\n",
       " 'Bushe',\n",
       " 'Buthers Стейк бар',\n",
       " 'C CUPS сеть стильных кофеен',\n",
       " 'CAFE DE ARTS',\n",
       " 'CASA LEONE',\n",
       " 'CATCH',\n",
       " 'CEDRO',\n",
       " 'CHEESE connection',\n",
       " 'CHEHONTE',\n",
       " 'CHILL&BEER',\n",
       " 'CIAO BELLA',\n",
       " 'CIAO PIZZA',\n",
       " 'CIDERELLA',\n",
       " 'CINNABON',\n",
       " 'CITO',\n",
       " 'COFE FEST',\n",
       " 'COFFE',\n",
       " 'COFFE NOBE',\n",
       " 'COFFE WAY',\n",
       " 'COFFEE BAR',\n",
       " 'COFFEE GATE',\n",
       " 'COFFEE LIKE',\n",
       " 'COFFEE SOVA',\n",
       " 'COFFEE WAY',\n",
       " 'COFIX',\n",
       " 'COFIX+PLOMBIR',\n",
       " 'COLLIDER',\n",
       " 'COLORS',\n",
       " 'CORREAS',\n",
       " 'CRAFTER',\n",
       " 'CRECO',\n",
       " 'CROSS KEYS PAB',\n",
       " 'CUBA ПАБ',\n",
       " 'CUPS & HUGS',\n",
       " 'Cafe 88',\n",
       " 'Cafe Giusto',\n",
       " 'Cafe Rioba',\n",
       " 'Cafe del Parco',\n",
       " 'Cafe&Spa Art De Vie',\n",
       " 'Cafetera',\n",
       " 'Caffeine',\n",
       " 'Calabash Club',\n",
       " 'Camera Obscura',\n",
       " 'Carte D Or',\n",
       " 'Casa di Moska',\n",
       " 'Casa di familiya',\n",
       " 'Cash&Curry',\n",
       " 'Cassette Cafe',\n",
       " 'Castle DiSH',\n",
       " 'Catavina',\n",
       " 'Cavlar bar',\n",
       " 'Cernovar',\n",
       " 'Cevicheria.Tartaria',\n",
       " 'Cezve Coffee',\n",
       " 'Chaikhana Shurpa',\n",
       " \"Charley's\",\n",
       " 'Charlie Moscow',\n",
       " 'Chefs Table',\n",
       " 'Chicken Duck',\n",
       " 'Chilling Moscow',\n",
       " 'Chilling Time',\n",
       " 'China Blue',\n",
       " 'China Street',\n",
       " 'Chinese Market',\n",
       " 'Chinook ресторан',\n",
       " 'Chipl',\n",
       " 'Chips',\n",
       " 'Choice bar',\n",
       " 'ChopEat',\n",
       " 'Ciao Pizza',\n",
       " 'Cihan Steak and Kebab',\n",
       " 'Cinnabon',\n",
       " 'Cinnabon2',\n",
       " 'CityLunch',\n",
       " 'Classiko Bar',\n",
       " 'Club Le Shateau',\n",
       " 'Cobra Game House',\n",
       " 'Cofe Mix',\n",
       " 'Coffe & master',\n",
       " 'Coffe Bar',\n",
       " 'Coffe Ko',\n",
       " 'Coffe Point',\n",
       " 'Coffe TO GO',\n",
       " 'Coffe crew',\n",
       " 'Coffe in time',\n",
       " 'Coffe to go',\n",
       " 'Coffe&Kitchen',\n",
       " 'Coffe-like',\n",
       " 'CoffeBrain',\n",
       " 'Coffee',\n",
       " 'Coffee & Talk',\n",
       " 'Coffee & Waffles & Movenpick',\n",
       " 'Coffee Bo',\n",
       " 'Coffee Energy',\n",
       " 'Coffee Good',\n",
       " 'Coffee Like',\n",
       " 'Coffee Moose',\n",
       " 'Coffee Play',\n",
       " 'Coffee in',\n",
       " 'Coffee moments',\n",
       " 'Coffee moose кофейня',\n",
       " 'Coffee port',\n",
       " 'Coffee smile',\n",
       " 'CoffeeShop',\n",
       " 'Coffeefresh',\n",
       " 'Coffeeist',\n",
       " 'Coffeek',\n",
       " 'Coffeeshop Company',\n",
       " 'Coffey',\n",
       " 'Cofix',\n",
       " 'Cofix-Bright',\n",
       " 'Cola Burger',\n",
       " 'Community',\n",
       " 'Cookhouse',\n",
       " 'Copybara',\n",
       " 'Corner Burger',\n",
       " 'Corner cafe kitchen',\n",
       " 'Correas',\n",
       " 'Cosmohookah bar',\n",
       " 'Costa Coffee',\n",
       " 'Courvoisier',\n",
       " 'Craft & Draft',\n",
       " 'Craft Beer',\n",
       " 'Craft Beer RePUBlic',\n",
       " 'Craft RePUBlic',\n",
       " 'Craft Station',\n",
       " 'Craft beer',\n",
       " 'Crafted',\n",
       " 'Craftlaand',\n",
       " 'Crazy Brothers',\n",
       " 'Cream Station',\n",
       " 'Crema espresso bar',\n",
       " 'Crop',\n",
       " 'Croquette cafe',\n",
       " 'Crush Hof',\n",
       " 'Crystal',\n",
       " 'Cure Bar',\n",
       " 'Curry Up',\n",
       " 'Cutlet',\n",
       " 'CУШИ.ПИЦЦА',\n",
       " 'Cити Гольф',\n",
       " 'D Wine',\n",
       " 'D&D cafe',\n",
       " 'DANTE bar and kitchen',\n",
       " 'DIM SUM',\n",
       " 'DIMSUM&CO',\n",
       " 'DISTRICT',\n",
       " 'DONER KEBAB',\n",
       " 'DONER ШАУРМА',\n",
       " 'DONER-JN',\n",
       " 'DOUBLE B',\n",
       " 'DRAKE',\n",
       " 'DUCK IT',\n",
       " 'DUCKIT',\n",
       " 'DUCKSTARS',\n",
       " 'Dagda Irish Pub',\n",
       " 'Daily Chef',\n",
       " 'Danatos пицца',\n",
       " 'Dankin Donats',\n",
       " 'Darbars',\n",
       " \"Dark Patrik's Pub\",\n",
       " 'Dead Rabbit Pub',\n",
       " 'Deli by Prime Прайм-кафе',\n",
       " 'Devi',\n",
       " 'Di ПАОЛО',\n",
       " 'Dim Sum',\n",
       " 'Dim Sum & Co',\n",
       " 'Dim Sum&Co',\n",
       " 'Dim Sun',\n",
       " 'Dim&Sam',\n",
       " 'Dippin Dots',\n",
       " 'Dippin dots, мороженое',\n",
       " 'Dizengof99',\n",
       " 'Django Lounge Кальян-бар',\n",
       " 'Do Do пицца',\n",
       " 'Dobrosco',\n",
       " 'Dodici wine and Kitchen',\n",
       " 'Dolce Gamarjoba',\n",
       " 'Dolce crema',\n",
       " 'Domino-s Pizza',\n",
       " 'Dominos Pizza',\n",
       " \"Donatello's\",\n",
       " 'Doner Club',\n",
       " 'Doner House',\n",
       " 'Doner Kebab',\n",
       " 'Doner Kebab-Куры Гриль',\n",
       " 'Doner Хаус',\n",
       " 'Doubl B',\n",
       " 'Double Pizza',\n",
       " 'Doughnats Coffee',\n",
       " 'Down House',\n",
       " 'Dream & Drink Caffee',\n",
       " 'Dream Lounge Moscow Кальянная',\n",
       " 'DreamWok',\n",
       " 'Drive',\n",
       " 'DroVa',\n",
       " 'Dry and wet Bar',\n",
       " \"Duck Star'S\",\n",
       " 'DuckIt',\n",
       " 'Dunkin Donuts',\n",
       " 'Dunkin Donuts (Азия Box - Бургер Box)',\n",
       " 'Dым Вино',\n",
       " 'EATALY',\n",
       " 'EFIR lounge',\n",
       " 'EL CAFE',\n",
       " 'ELSE kafe',\n",
       " 'ESHAK',\n",
       " 'EVEREST HOOKAH Кальянная',\n",
       " 'EXLIBRIS',\n",
       " 'Easy Brix',\n",
       " 'Eat Georgian',\n",
       " 'Eat Market',\n",
       " 'Eat and talk',\n",
       " 'EateriaKitchen (Паста)',\n",
       " 'Ecook',\n",
       " 'Edison',\n",
       " 'El Inka',\n",
       " 'Eleven-Hall',\n",
       " 'Embers Speakeasy',\n",
       " 'Enjoylife',\n",
       " 'Eshak',\n",
       " 'Executive lounge (Клубная гостинная)',\n",
       " 'Extra Lounge',\n",
       " 'FABRIKA DELI',\n",
       " 'FAN FOOD',\n",
       " 'FARRO',\n",
       " 'FARШ',\n",
       " 'FOOD PLACE',\n",
       " 'FOOD POINT',\n",
       " 'FOOD STORE еда&бар',\n",
       " 'FRESH CAFE',\n",
       " 'FRIDAYS',\n",
       " 'FROM ROME TO HOME',\n",
       " 'FUMISAWA SUSHI',\n",
       " 'Fair play',\n",
       " 'Fame',\n",
       " 'Familly Film',\n",
       " 'Family Farm Burgers',\n",
       " 'Fan Zone',\n",
       " 'Farinari',\n",
       " 'Farsh',\n",
       " 'Farш',\n",
       " 'Fibonacci',\n",
       " 'Filin good bar',\n",
       " 'Filini',\n",
       " 'Fish Me',\n",
       " 'Fish burger',\n",
       " 'Fishop и Ramen&Noodles',\n",
       " 'Five',\n",
       " 'Flames Lounge',\n",
       " 'Fleur Cafe',\n",
       " 'Flight Club',\n",
       " 'Florentini',\n",
       " 'Food Cafe',\n",
       " 'Food Embassy Юлии Высоцкой',\n",
       " 'Food Mama',\n",
       " 'Food Market',\n",
       " 'Food Place',\n",
       " 'Food Room',\n",
       " 'Food Store',\n",
       " 'Food Trip Cafe',\n",
       " 'Food and Cakes',\n",
       " 'Foood bazar',\n",
       " 'Forest',\n",
       " 'Forneria',\n",
       " 'Fornetto',\n",
       " 'Forte Bello, Zafferano, Edoko',\n",
       " 'Frank by Баста',\n",
       " \"Franklin's Roll&Burger\",\n",
       " 'Franklins',\n",
       " 'Franklins Roll&Burger,Yamkee',\n",
       " 'Franllins',\n",
       " 'French kiss',\n",
       " 'Frenchkiss',\n",
       " 'Frenchkiss Free',\n",
       " 'Fresh Bar',\n",
       " 'Fresh Cacao',\n",
       " 'Fresh bar',\n",
       " 'Fresh for you',\n",
       " 'FreshCafe',\n",
       " 'FreshUP & Cream Bar',\n",
       " 'Frid Chicken',\n",
       " 'Fridays KFC',\n",
       " 'Fried chicken',\n",
       " 'Friends',\n",
       " 'Friends&Family',\n",
       " 'Fritado Мир на сковороде',\n",
       " 'Froyolla',\n",
       " 'Fruit Lab',\n",
       " 'Fruity yummy',\n",
       " 'Fudzy',\n",
       " 'Fusion',\n",
       " 'Fusion Menu',\n",
       " 'Fарш',\n",
       " 'G arbuz',\n",
       " 'GAGAWA',\n",
       " 'GARDEN',\n",
       " 'GIANFRANCO',\n",
       " 'GIPSY',\n",
       " 'GOKOS греческая кухня',\n",
       " 'GOOD ENOUGH',\n",
       " 'GRAMMY S',\n",
       " 'GRAND УРЮК',\n",
       " 'GRANNY Кафе ОШ',\n",
       " 'GRILLFEST (колбаски гриль)',\n",
       " 'Gagawa',\n",
       " 'Galateria plombir',\n",
       " 'Gallo pizza burger',\n",
       " 'Garden Lounge кальянная',\n",
       " 'Garnets & Рассольников',\n",
       " 'Gelateria Plombir',\n",
       " 'Gelato Bacio',\n",
       " 'Genso',\n",
       " 'Genso Sushi, Явтай',\n",
       " 'Gentleman coffee',\n",
       " 'Geometric Pizza',\n",
       " 'Get Lucky',\n",
       " 'Get and Jerry',\n",
       " 'Glenuill',\n",
       " 'Gloster',\n",
       " 'Glow sabs',\n",
       " 'GlowSubs Sandwiches',\n",
       " 'Go Кофе',\n",
       " 'GoCoffe',\n",
       " 'Goat Metal Bar',\n",
       " 'Gold',\n",
       " 'Golden Palace',\n",
       " 'Goncharov',\n",
       " 'Gonzo LOUNGE',\n",
       " 'Good Food',\n",
       " 'Good chillout коллекция',\n",
       " 'Goodman Гудман',\n",
       " 'Gotham lounge',\n",
       " 'Gournest гнездо гурмана',\n",
       " 'Graff Lounge',\n",
       " 'Granat',\n",
       " 'Grand Cru',\n",
       " 'Grano',\n",
       " 'Greek Freak',\n",
       " 'Grill Room',\n",
       " 'Grill&Garden',\n",
       " 'Grill-House',\n",
       " 'Guinness Steak Pub',\n",
       " 'Gvido',\n",
       " 'Gvido Gelato',\n",
       " 'HAGGIS',\n",
       " \"HAMM'S FOOD\",\n",
       " 'HAND',\n",
       " 'HANG KONG',\n",
       " 'HEALTHY Food',\n",
       " 'HELP and FRIEND',\n",
       " 'HERITAGE',\n",
       " 'HYGGE',\n",
       " 'Hadwok',\n",
       " 'Happy Cup club',\n",
       " \"Harat's Pub\",\n",
       " 'Harats Pub',\n",
       " 'Hard Wok Cafe',\n",
       " 'Hardy Lounge Bar',\n",
       " 'Healthy Food',\n",
       " 'Healthy food',\n",
       " 'Helthy Food',\n",
       " 'Hidden bar',\n",
       " 'High Wok & Sushi',\n",
       " 'Holy Vegan',\n",
       " 'Hook Time',\n",
       " 'Hookah Burger',\n",
       " 'Hookah Cloud Lounge',\n",
       " 'Hookah Maryino',\n",
       " 'Hookah Place',\n",
       " 'Hookah Place Semenovskaya',\n",
       " 'Hookah Time',\n",
       " 'Hookah burger',\n",
       " 'Hookah place',\n",
       " 'HookahPlace',\n",
       " 'HookahXV',\n",
       " 'HookanPlace',\n",
       " 'Hot Noodle',\n",
       " 'Howards Loves Craft',\n",
       " 'Hub столовая',\n",
       " 'Hudson Bar',\n",
       " 'Hungry wolf',\n",
       " 'Hunters',\n",
       " 'I AM OK',\n",
       " 'I Like Craft',\n",
       " 'I Like Grill',\n",
       " 'I Lounge',\n",
       " 'I Van Gogh',\n",
       " 'I like bar',\n",
       " 'I-Chef',\n",
       " 'I-Chet',\n",
       " 'IBROHIM Кебаб',\n",
       " 'ICE TUBE',\n",
       " 'ICON',\n",
       " 'ID Cafe здоровое питание',\n",
       " 'IL Borgo',\n",
       " 'IL FORNETTO',\n",
       " 'IL Forno Иль Форно',\n",
       " 'IL PATIO',\n",
       " 'IL PIZZAIOLO',\n",
       " 'IL Patio',\n",
       " 'IL Pizzaiolo',\n",
       " 'IL Tocco',\n",
       " 'IL Патио',\n",
       " 'IL ПатиоПланета Суши',\n",
       " 'IN ROCKI',\n",
       " 'INDIYSKAYA TOCHKA',\n",
       " 'IPho cafe',\n",
       " 'IQ Wine',\n",
       " 'IQOS',\n",
       " 'IRISH MIST PUB',\n",
       " 'ISTANBUL corner',\n",
       " 'IVAS LOUNGE',\n",
       " 'Ibis kitchen',\n",
       " 'Idola',\n",
       " 'Il Massimo',\n",
       " 'Il pizzaolo',\n",
       " 'Im smoking',\n",
       " 'Imho bar',\n",
       " 'InDuke',\n",
       " 'Inbox',\n",
       " 'Inferno',\n",
       " 'Inferno Kitchen правильная еда',\n",
       " 'Italy',\n",
       " 'J cafe Moscow',\n",
       " 'J.Gilroys Pub',\n",
       " 'JACK & JANE',\n",
       " 'JD Burgers',\n",
       " 'JJ Coffee',\n",
       " 'JUNGLE JOY',\n",
       " 'JW Джерри Вингс (Jerry Wings)',\n",
       " 'Jacky Jacky Gastrobar',\n",
       " 'Jai Hind',\n",
       " 'Jamies italian',\n",
       " 'Jeffreys Coffee',\n",
       " 'Jeffreys coffee',\n",
       " 'Jis Asian Bistro & Wine',\n",
       " 'Johny Friends',\n",
       " 'JohnyJosper Pub',\n",
       " 'Jpan bistro',\n",
       " 'K-Grill',\n",
       " 'K-Town',\n",
       " 'K-Town Korean Noodle Bar',\n",
       " 'KAFIN',\n",
       " 'KFC',\n",
       " 'KFC Волгоградский',\n",
       " 'KFC.',\n",
       " 'KINGBERRY',\n",
       " 'KREVETKA Seafood',\n",
       " 'KROMBACHER BEER KITCHEN',\n",
       " 'KU Рамен Изакая Бар',\n",
       " 'KULINARI',\n",
       " 'KURKUMA',\n",
       " 'KUZINA',\n",
       " 'KVARTA',\n",
       " 'KVARTAL',\n",
       " 'Kafe Les',\n",
       " 'Kafin. best coffe. best price',\n",
       " 'Kalimera',\n",
       " 'Kalyan4you',\n",
       " 'Karaoke Lounge VS',\n",
       " 'Katie OSheas',\n",
       " 'Kaufman кафе',\n",
       " 'Kebab grill',\n",
       " 'Kebab house',\n",
       " 'KebabLab',\n",
       " 'Ketch Up',\n",
       " 'Ketch up',\n",
       " 'Khinkalnaya',\n",
       " 'KillFish',\n",
       " 'Kislovsky',\n",
       " 'Kitchen',\n",
       " 'KofeWay',\n",
       " 'Koffee Moose',\n",
       " 'Kombinat Deli',\n",
       " 'Kombinat Deli Кафе Кулинария',\n",
       " 'Kozlovna',\n",
       " 'KoпTeam',\n",
       " 'Kripto Cafe and Bar',\n",
       " 'Krispy Creme',\n",
       " 'Krispy Krem',\n",
       " 'Krispy Kreme',\n",
       " 'Kuksu House',\n",
       " 'Kurnik русские традиции сегодня',\n",
       " 'Kusselita',\n",
       " 'Kuvings',\n",
       " 'Kuzina',\n",
       " 'LA CASA DEL VINO',\n",
       " 'LA VERONA',\n",
       " 'LAFKA BAR',\n",
       " 'LALTRO BOSCO',\n",
       " 'LAMBIC',\n",
       " 'LAMBIC Брассерия',\n",
       " 'LATINOS',\n",
       " 'LAVKA Хлеб',\n",
       " 'LAVKALAVKA',\n",
       " 'LAWSON BAR',\n",
       " 'LES',\n",
       " 'LIFE BOWL',\n",
       " 'LIFT',\n",
       " 'LOCALS',\n",
       " 'LOFT Bar',\n",
       " 'LOFTSMOKE Кальянная',\n",
       " 'LUCE',\n",
       " 'LUNA караоке-ресторан',\n",
       " 'LUNCHROOM',\n",
       " 'LUSUN',\n",
       " 'La Casa Cubana',\n",
       " 'La Corte di Milano',\n",
       " 'La Mia Georgia',\n",
       " 'La Piazza',\n",
       " 'La Provincia',\n",
       " 'La SPEZIA',\n",
       " 'La Scala',\n",
       " 'La Scarpetta',\n",
       " 'La cafe',\n",
       " 'La casa',\n",
       " 'Laboratoria coffee',\n",
       " 'Lacky Ducks bar',\n",
       " 'Laffa Laffa',\n",
       " 'Lambic',\n",
       " 'Lampa cafe',\n",
       " 'Lancheria by Bruno',\n",
       " 'Lao Lee',\n",
       " 'Lari Georgian Kitchen',\n",
       " 'Larionov Grill & Bar',\n",
       " 'Larionov Grill and Bar',\n",
       " 'Le Bar A Vin',\n",
       " 'Legendario',\n",
       " 'Legio Syshi',\n",
       " 'Legion',\n",
       " 'Leningrad',\n",
       " 'Leto Lounge',\n",
       " 'Lets Rok bar',\n",
       " 'Lift',\n",
       " 'Ligeros Club',\n",
       " 'Like wine',\n",
       " 'Limassol',\n",
       " \"Lion's head Pub\",\n",
       " 'Lions Lairs',\n",
       " 'Litro',\n",
       " 'Little Garden Kitchen&Bar',\n",
       " 'Little Osaka',\n",
       " 'Little БЕЙРУТ',\n",
       " 'Live Stars',\n",
       " 'Local Band',\n",
       " 'Local Bar by Timur Lansky',\n",
       " 'Lock Stock',\n",
       " 'Loft 17',\n",
       " 'Loft Hall',\n",
       " 'Loft Soft Bar',\n",
       " 'London beer&grill',\n",
       " 'Look in Rooms',\n",
       " 'Lookin Rooms, Диско 90-х',\n",
       " 'Los Bandidos',\n",
       " 'Lost Bar',\n",
       " 'Louis',\n",
       " 'Lounge 1847',\n",
       " 'Lounge Bar 19-90',\n",
       " 'Lounge bar M&F',\n",
       " 'Lova Lova Multibar',\n",
       " 'Love',\n",
       " 'Love Coffee',\n",
       " 'Love Suchi and...',\n",
       " 'Lovin kafe',\n",
       " 'Lowenbrau Haus',\n",
       " 'Luciano',\n",
       " 'Lucky B Starols',\n",
       " 'Lumberjack Bar',\n",
       " 'LunchJoy Ресторан Китайской Кухни',\n",
       " 'LЮSTRA',\n",
       " 'M Cafe Хинкальная',\n",
       " 'MADEO',\n",
       " 'MASHUP',\n",
       " 'MATCHA Sushi&Bento',\n",
       " 'MATRЁSHKA ФРИ',\n",
       " 'MAX BaKery',\n",
       " 'MEAT PUPPETS',\n",
       " 'MEATSTREET',\n",
       " 'MEDUZZA Lounge Bar',\n",
       " 'MEL кафе',\n",
       " 'MELT ME',\n",
       " 'MICHAELS ISLAND CAFE',\n",
       " 'MOJO бар',\n",
       " 'MR. BURGEROVICH',\n",
       " 'MUKUZANI',\n",
       " 'Ma Mi ХАНОЙСКАЯ ЛАПША',\n",
       " 'Mac&Cheese',\n",
       " 'Macaronika',\n",
       " 'Mad Man',\n",
       " 'Mad city bar',\n",
       " 'Mad wine bar',\n",
       " 'Maestro Wok',\n",
       " 'Magic Fox',\n",
       " 'Main Street кафе',\n",
       " 'Maison Declair',\n",
       " 'Maison declaiz',\n",
       " 'Maki Maki',\n",
       " \"Mandy's Apothecary Irish Pub\",\n",
       " 'Maneki Neko',\n",
       " 'Marfino Delivery',\n",
       " 'Market Burger Bar',\n",
       " 'Market Place',\n",
       " 'Marmalato',\n",
       " 'Marrakesh Хинкальная',\n",
       " 'Marx Urban Grill',\n",
       " 'Masons lounge bar',\n",
       " 'Massala House',\n",
       " 'Master Gyros',\n",
       " 'MatchA DOPE',\n",
       " 'Matcha Botanicals',\n",
       " 'Matcha Sushi Bento',\n",
       " 'Matreshka Coffee',\n",
       " 'Matreshka Free',\n",
       " 'Maxi Pizza',\n",
       " 'Maxima cafe',\n",
       " 'McDonalds',\n",
       " 'Mealty',\n",
       " 'Meat Avenue',\n",
       " 'Meat Meet',\n",
       " 'Meat and Fish',\n",
       " 'Meat love burger',\n",
       " 'MeatChell',\n",
       " 'Meatless',\n",
       " 'Medusa Asian Kitchen bar',\n",
       " 'Meduzzza Кальян-бар',\n",
       " 'Meet Meat',\n",
       " 'Mentano',\n",
       " 'Mery',\n",
       " 'Metafora Bar',\n",
       " 'Miles',\n",
       " 'Milk&Beans',\n",
       " 'Milky Moons',\n",
       " 'Mini Pizza E.F.',\n",
       " 'Mino biFF burger',\n",
       " 'Minori Sushi',\n",
       " 'Mister X',\n",
       " 'Mitrofood',\n",
       " 'MixSalad',\n",
       " 'Modus Friends',\n",
       " 'Mojo',\n",
       " 'Momento eat',\n",
       " 'Mon Bon',\n",
       " 'MondriannLounge',\n",
       " \"Monkeys'S\",\n",
       " 'Monster Hills',\n",
       " 'Moregrill',\n",
       " 'MosInYaz кафе',\n",
       " 'MosKalyan',\n",
       " 'Movenpick',\n",
       " 'Mr Doodls',\n",
       " 'Mr Falafel',\n",
       " 'Mr. Kiko',\n",
       " 'Mr.Chef',\n",
       " 'Mr.Doner',\n",
       " 'Mr.Ginger',\n",
       " 'Mr.Tutti - 2',\n",
       " 'Mr.Тутти',\n",
       " 'Much more',\n",
       " 'Mukuzani',\n",
       " 'Mulberry lounge',\n",
       " 'Munchies pizza&bierra',\n",
       " 'Mushrooms',\n",
       " 'My Gelato',\n",
       " 'My Place',\n",
       " 'My box',\n",
       " 'My gelato КАФЕ',\n",
       " 'MyBar',\n",
       " 'Mystery Hookah Bar',\n",
       " 'MОS Gastronomic Smart и Casual',\n",
       " 'NATHANS',\n",
       " 'NGON',\n",
       " 'NICE TO MEAT YOU Бургерная',\n",
       " 'NOBU',\n",
       " 'NOODLE BAR',\n",
       " 'NOOSH',\n",
       " 'Nargilia Loft. Кальянная. Центр паровых коктелей',\n",
       " 'Natura Sanat',\n",
       " 'Nem & Pho',\n",
       " 'New York Pizza',\n",
       " 'Ngon',\n",
       " 'No Security Grill & Bar',\n",
       " 'Non La',\n",
       " 'Noodles',\n",
       " 'Nook Cofee',\n",
       " 'Nordiclub',\n",
       " 'O Eskimo Chistaya Liniya',\n",
       " 'O escimo',\n",
       " \"O'Donoghue's\",\n",
       " 'OConnells Pub',\n",
       " 'OK DONER',\n",
       " 'OK Food Story',\n",
       " 'OMGcoffee',\n",
       " 'ORIGINAL',\n",
       " 'OVO',\n",
       " 'OXUS',\n",
       " 'Officina',\n",
       " 'Oh My Pho',\n",
       " 'Oki Sushi',\n",
       " 'Oli oli',\n",
       " \"Olster's Pub\",\n",
       " 'One Level',\n",
       " 'One More Pub',\n",
       " 'One Price Coffe',\n",
       " 'One Price Coffee',\n",
       " 'One bucks coffee',\n",
       " 'One more pab',\n",
       " 'One price coffee',\n",
       " 'OnePrice',\n",
       " 'OnePriceCoffe',\n",
       " 'OnePriceCoffee',\n",
       " 'Oriental',\n",
       " 'Osteria Mario',\n",
       " 'Osteria Mario+Швили',\n",
       " 'Osteria Toscana',\n",
       " 'OsteriaMario',\n",
       " 'OverSalad',\n",
       " 'P.Square',\n",
       " 'P4B Lounge Bar',\n",
       " 'PARTY BUN',\n",
       " 'PASTA',\n",
       " 'PAUL',\n",
       " 'PAUL Поль',\n",
       " 'PECIVO',\n",
       " 'PETRUSHKA',\n",
       " 'PHO BO 360',\n",
       " 'PHO U',\n",
       " 'PHO U Вьетнамская еда',\n",
       " 'PHO VIET Въетнамская кухня',\n",
       " 'PHO вкусный',\n",
       " 'PICNIC Cafe',\n",
       " 'PINOCCHIO',\n",
       " 'PINSAPOINT',\n",
       " 'PIOPPO ALBERO',\n",
       " 'PITAS',\n",
       " 'PIVBAR',\n",
       " 'PIZZA HUT',\n",
       " 'PLAN B',\n",
       " 'PLOV BOX',\n",
       " 'PLOV.COM',\n",
       " 'PLPB пицца',\n",
       " 'POINTCoffe&Food',\n",
       " 'PQ Coffee and Friends',\n",
       " 'PRIME',\n",
       " 'PRIME STAR Прайм стар',\n",
       " 'PRIME Прайм стар Прайм-кафе',\n",
       " 'PRO Суши Пицца',\n",
       " 'PS Гвозди',\n",
       " 'PUBLIC CAFE',\n",
       " 'Palacio',\n",
       " 'Palas des Thes',\n",
       " 'Panda Express',\n",
       " 'Papa Grill',\n",
       " 'Papas Burgers',\n",
       " 'Paprika Picante',\n",
       " 'Paradise SPA Club',\n",
       " 'Pari-Joli',\n",
       " 'Passion',\n",
       " 'Pasta + Salsa',\n",
       " 'Pasta Cup&pinsa',\n",
       " 'Pasta Deli',\n",
       " 'Pastoria',\n",
       " 'Paul Cafe',\n",
       " 'Paulaner Brauhaus',\n",
       " 'Pelmeniki Club',\n",
       " 'Pelmesh',\n",
       " 'Per se Cafe',\n",
       " 'Peri',\n",
       " 'Peshi',\n",
       " 'Petite Pierre Cafe',\n",
       " 'Pho',\n",
       " 'Pho Bo',\n",
       " 'Pho Bo ханойский стрит-фуд',\n",
       " 'Pho Fighters',\n",
       " 'Pho Hanoi',\n",
       " 'Pho Point',\n",
       " 'Pho Viet',\n",
       " 'Pho Viet (Вьетнамский стритфуд)',\n",
       " 'Pho bo San',\n",
       " 'PhoBo',\n",
       " 'Picciotti',\n",
       " 'Piccolo',\n",
       " 'Pie Factore',\n",
       " 'Pinsapositana',\n",
       " 'PinzaUno',\n",
       " 'Pinzeria by Bontempi',\n",
       " 'Pinzeria by Bontempo',\n",
       " 'Pioppo Albero',\n",
       " 'PitStopКафе',\n",
       " 'Pita Gyros',\n",
       " 'Pita Mix',\n",
       " 'Pita&meat',\n",
       " 'Piu del Cibo',\n",
       " 'PivBar',\n",
       " 'Pizengof99 СПБ',\n",
       " 'Pizza 24 express',\n",
       " 'Pizza Express',\n",
       " 'Pizza Hut',\n",
       " 'Pizza Loft Coffee',\n",
       " 'Pizza Mia',\n",
       " 'Pizza Napoleana',\n",
       " 'Pizza OH',\n",
       " ...]"
      ]
     },
     "execution_count": 9,
     "metadata": {},
     "output_type": "execute_result"
    }
   ],
   "source": [
    "sorted(rest_data['object_name'].unique())"
   ]
  },
  {
   "cell_type": "code",
   "execution_count": 10,
   "metadata": {},
   "outputs": [
    {
     "name": "stderr",
     "output_type": "stream",
     "text": [
      "<ipython-input-10-1517ae7a1e7c>:4: FutureWarning: The default value of regex will change from True to False in a future version. In addition, single character regular expressions will*not* be treated as literal strings when regex=True.\n",
      "  rest_data['object_name'] =rest_data['object_name'].str.replace('.' , '')\n"
     ]
    },
    {
     "data": {
      "text/plain": [
       "['&iamo',\n",
       " \"&y'sfriends\",\n",
       " '1-ймок',\n",
       " '1-ыймосковскийкадетскийкорпус',\n",
       " '1001ночь',\n",
       " '100личнаястоловая',\n",
       " '100личноекафе',\n",
       " '100лоффка',\n",
       " '101вкус',\n",
       " '13rules',\n",
       " '13ruleskraftbeer',\n",
       " '15kitchen+bar',\n",
       " '18автобусныйпарк',\n",
       " '19baratmosphere',\n",
       " '1xbet',\n",
       " '2-йавтобусныйпарк',\n",
       " \"23'00\",\n",
       " '24градуса',\n",
       " '259',\n",
       " '33пингвина',\n",
       " '37-37',\n",
       " '3skovorodki',\n",
       " '3правила',\n",
       " '44чашма',\n",
       " '495',\n",
       " '5звездюг52',\n",
       " '68пауза',\n",
       " '69pints',\n",
       " '69pintsбар',\n",
       " '7717lounge(кальянная)',\n",
       " '7злаков',\n",
       " '7с&вичей-meating',\n",
       " '7сендвичей',\n",
       " '8-ойтроллейбусныйпарк',\n",
       " '8ozунций',\n",
       " '9bar',\n",
       " '9автобусныйпарк',\n",
       " 'abbeyplayersirishpub',\n",
       " 'abccoffeeroasters',\n",
       " 'absolem',\n",
       " 'acaifamily',\n",
       " 'accenti',\n",
       " 'adry',\n",
       " 'aglomerat',\n",
       " 'al33пиццериябарботега',\n",
       " 'alexпекарня',\n",
       " 'alohapokebar',\n",
       " 'am&ecafe',\n",
       " 'amarsi',\n",
       " 'americanoкафе',\n",
       " 'amerigospizza',\n",
       " 'amg',\n",
       " 'amoregr&e',\n",
       " 'amoreитальянскоемороженое',\n",
       " 'amsterbarsnacks',\n",
       " 'annam',\n",
       " 'apartamentпарбар',\n",
       " 'aqkitchen',\n",
       " 'arahispub',\n",
       " 'arbathall',\n",
       " 'arenabysohofamily',\n",
       " 'aroma',\n",
       " 'art&food',\n",
       " 'artcafe',\n",
       " 'artlunch',\n",
       " 'artpub',\n",
       " 'avenue6',\n",
       " 'babblesdessert&babbles',\n",
       " 'bambule',\n",
       " 'bami',\n",
       " 'bananas',\n",
       " 'barbados',\n",
       " 'barbecuebbqstorege',\n",
       " 'barbecuebeerbar',\n",
       " 'barbeque',\n",
       " 'barbequebbq',\n",
       " 'barbq',\n",
       " 'barbqcafe',\n",
       " 'bardag',\n",
       " 'bardakкафепо-турецки',\n",
       " 'barforbikers',\n",
       " 'baristocoffee',\n",
       " 'barlosb&idos',\n",
       " 'barrique',\n",
       " 'barrister',\n",
       " 'barton',\n",
       " 'baskinrobbins',\n",
       " 'bazar',\n",
       " 'bb&burger',\n",
       " 'bb&burgers',\n",
       " 'bbburgers',\n",
       " 'bbgrill',\n",
       " 'bbq',\n",
       " 'bbqamбарбекю',\n",
       " 'beefроял',\n",
       " 'beer&fries',\n",
       " 'beerbeerbar',\n",
       " 'beerdock',\n",
       " 'beergik',\n",
       " 'beerhappens',\n",
       " 'beerharbor',\n",
       " 'beermood',\n",
       " 'beernation',\n",
       " 'beertep',\n",
       " 'bemypizza',\n",
       " 'benefitфрешбар',\n",
       " \"benner's\",\n",
       " 'bepositive',\n",
       " 'berikoni',\n",
       " 'berryfruit',\n",
       " 'beverlyhillsdiner',\n",
       " 'bibi-донер',\n",
       " 'bierloga',\n",
       " 'bigatibar',\n",
       " 'bigboys',\n",
       " 'bigwallcafe',\n",
       " 'bigсуши',\n",
       " 'bistrof&boutigue№7',\n",
       " 'bistrot',\n",
       " 'bizonehookah',\n",
       " 'bizoneантикафе',\n",
       " 'black&black',\n",
       " 'black&white',\n",
       " 'blackcafe',\n",
       " 'blackcoffe&food',\n",
       " 'blackhat',\n",
       " 'blackstarburger',\n",
       " 'blackstarburgerprime',\n",
       " 'blackstarburgers',\n",
       " 'blackswanpub&shop',\n",
       " \"blak's\",\n",
       " 'blaktai',\n",
       " 'blinrufood&tea',\n",
       " 'blinдаж',\n",
       " 'bloom-n-brew',\n",
       " 'blush',\n",
       " 'bo',\n",
       " 'bo-bolounge',\n",
       " \"bob'syouruncle\",\n",
       " 'bocconcino',\n",
       " 'bodrero',\n",
       " 'bodrocoffee',\n",
       " 'bodrum',\n",
       " 'boilermancraftbeer',\n",
       " 'bokker',\n",
       " 'bolognetta',\n",
       " 'bonapp',\n",
       " 'bongocoffee',\n",
       " 'boobo',\n",
       " 'bootleggers',\n",
       " 'borntoburn',\n",
       " 'boroda',\n",
       " 'borodaburger',\n",
       " 'boscobar',\n",
       " 'boscocafe',\n",
       " 'boston',\n",
       " 'bottomsup',\n",
       " 'bp',\n",
       " 'bqcafe&osteriamario',\n",
       " 'brasserieмост',\n",
       " 'brawlerspab',\n",
       " 'brb',\n",
       " 'breaccafe',\n",
       " 'brewery&barpoet',\n",
       " 'bridgecoffee',\n",
       " 'brioche',\n",
       " 'brisketbbq',\n",
       " 'broms',\n",
       " 'brooklynburgersbar',\n",
       " 'broustarброубар',\n",
       " 'brutbar',\n",
       " 'bubabysumosan',\n",
       " 'bubbasheri',\n",
       " 'bubblemania',\n",
       " 'bubbleology',\n",
       " 'buckscoffee',\n",
       " 'buffalo',\n",
       " \"buffalo's&tacodor\",\n",
       " 'buffalos',\n",
       " 'burger&pizzetta',\n",
       " 'burgerbardosb&idos',\n",
       " 'burgerclub',\n",
       " 'burgerfirst',\n",
       " 'burgerheroes',\n",
       " 'burgerking',\n",
       " 'burger№1',\n",
       " 'burotsum',\n",
       " 'bushe',\n",
       " 'buthersстейкбар',\n",
       " 'buzfood',\n",
       " 'cafe&spaartdevie',\n",
       " 'cafe88',\n",
       " 'cafedearts',\n",
       " 'cafedelparco',\n",
       " 'cafegiusto',\n",
       " 'caferioba',\n",
       " 'cafetera',\n",
       " 'caffeine',\n",
       " 'calabashclub',\n",
       " 'cameraobscura',\n",
       " 'cartedor',\n",
       " 'casadifamiliya',\n",
       " 'casadimoska',\n",
       " 'casaleone',\n",
       " 'cash&curry',\n",
       " 'cassettecafe',\n",
       " 'castledish',\n",
       " 'catavina',\n",
       " 'catch',\n",
       " 'cavlarbar',\n",
       " 'ccupsсетьстильныхкофеен',\n",
       " 'cedro',\n",
       " 'cernovar',\n",
       " 'cevicheriatartaria',\n",
       " 'cezvecoffee',\n",
       " 'chaikhanashurpa',\n",
       " \"charley's\",\n",
       " 'charliemoscow',\n",
       " 'cheeseconnection',\n",
       " 'chefstable',\n",
       " 'chehonte',\n",
       " 'chickenduck',\n",
       " 'chill&beer',\n",
       " 'chillingmoscow',\n",
       " 'chillingtime',\n",
       " 'chinablue',\n",
       " 'chinastreet',\n",
       " 'chinesemarket',\n",
       " 'chinookресторан',\n",
       " 'chipl',\n",
       " 'chips',\n",
       " 'choicebar',\n",
       " 'chopeat',\n",
       " 'ciaobella',\n",
       " 'ciaopizza',\n",
       " 'ciderella',\n",
       " 'cihansteak&kebab',\n",
       " 'cinnabon',\n",
       " 'cinnabon2',\n",
       " 'cito',\n",
       " 'citylunch',\n",
       " 'classikobar',\n",
       " 'clubleshateau',\n",
       " 'cobragamehouse',\n",
       " 'cofefest',\n",
       " 'cofemix',\n",
       " 'coffe',\n",
       " 'coffe&kitchen',\n",
       " 'coffe&master',\n",
       " 'coffe-like',\n",
       " 'coffebar',\n",
       " 'coffebrain',\n",
       " 'coffecrew',\n",
       " 'coffee',\n",
       " 'coffee&talk',\n",
       " 'coffee&waffles&movenpick',\n",
       " 'coffeebar',\n",
       " 'coffeebo',\n",
       " 'coffeeenergy',\n",
       " 'coffeefresh',\n",
       " 'coffeegate',\n",
       " 'coffeegood',\n",
       " 'coffeein',\n",
       " 'coffeeist',\n",
       " 'coffeek',\n",
       " 'coffeelike',\n",
       " 'coffeemoments',\n",
       " 'coffeemoose',\n",
       " 'coffeemooseкофейня',\n",
       " 'coffeeplay',\n",
       " 'coffeeport',\n",
       " 'coffeeshop',\n",
       " 'coffeeshopcompany',\n",
       " 'coffeesmile',\n",
       " 'coffeesova',\n",
       " 'coffeeway',\n",
       " 'coffeintime',\n",
       " 'coffeko',\n",
       " 'coffenobe',\n",
       " 'coffepoint',\n",
       " 'coffetogo',\n",
       " 'coffeway',\n",
       " 'coffey',\n",
       " 'cofix',\n",
       " 'cofix+plombir',\n",
       " 'cofix-bright',\n",
       " 'colaburger',\n",
       " 'collider',\n",
       " 'colors',\n",
       " 'community',\n",
       " 'cookhouse',\n",
       " 'copybara',\n",
       " 'cornerburger',\n",
       " 'cornercafekitchen',\n",
       " 'correas',\n",
       " 'cosmohookahbar',\n",
       " 'costacoffee',\n",
       " 'courvoisier',\n",
       " 'craft&draft',\n",
       " 'craftbeer',\n",
       " 'craftbeerrepublic',\n",
       " 'crafted',\n",
       " 'crafter',\n",
       " 'craftla&',\n",
       " 'craftrepublic',\n",
       " 'craftstation',\n",
       " 'crazybrothers',\n",
       " 'creamstation',\n",
       " 'creco',\n",
       " 'cremaespressobar',\n",
       " 'crop',\n",
       " 'croquettecafe',\n",
       " 'crosskeyspab',\n",
       " 'crushhof',\n",
       " 'crystal',\n",
       " 'cubaпаб',\n",
       " 'cups&hugs',\n",
       " 'curebar',\n",
       " 'curryup',\n",
       " 'cutlet',\n",
       " 'cитигольф',\n",
       " 'cушипицца',\n",
       " 'd&dcafe',\n",
       " 'dagdairishpub',\n",
       " 'dailychef',\n",
       " 'danatosпицца',\n",
       " 'dankindonats',\n",
       " 'dantebar&kitchen',\n",
       " 'darbars',\n",
       " \"darkpatrik'spub\",\n",
       " 'deadrabbitpub',\n",
       " 'delibyprimeпрайм-кафе',\n",
       " 'devi',\n",
       " 'dim&sam',\n",
       " 'dimsum',\n",
       " 'dimsum&co',\n",
       " 'dimsun',\n",
       " 'dippindots',\n",
       " 'dippindotsмороженое',\n",
       " 'district',\n",
       " 'dizengof99',\n",
       " 'diпаоло',\n",
       " 'djangoloungeкальян-бар',\n",
       " 'dobrosco',\n",
       " 'dodiciwine&kitchen',\n",
       " 'dodoпицца',\n",
       " 'dolcecrema',\n",
       " 'dolcegamarjoba',\n",
       " 'domino-spizza',\n",
       " 'dominospizza',\n",
       " \"donatello's\",\n",
       " 'doner-jn',\n",
       " 'donerclub',\n",
       " 'donerhouse',\n",
       " 'donerkebab',\n",
       " 'donerkebab-курыгриль',\n",
       " 'donerхаус',\n",
       " 'donerшаурма',\n",
       " 'doublb',\n",
       " 'doubleb',\n",
       " 'doublepizza',\n",
       " 'doughnatscoffee',\n",
       " 'downhouse',\n",
       " 'drake',\n",
       " 'dream&drinkcaffee',\n",
       " 'dreamloungemoscowкальянная',\n",
       " 'dreamwok',\n",
       " 'drive',\n",
       " 'drova',\n",
       " 'dry&wetbar',\n",
       " 'duckit',\n",
       " \"duckstar's\",\n",
       " 'duckstars',\n",
       " 'dunkindonuts',\n",
       " 'dunkindonuts(азияbox-бургерbox)',\n",
       " 'dwine',\n",
       " 'dымвино',\n",
       " 'easybrix',\n",
       " 'eat&talk',\n",
       " 'eataly',\n",
       " 'eateriakitchen(паста)',\n",
       " 'eatgeorgian',\n",
       " 'eatmarket',\n",
       " 'ecook',\n",
       " 'edison',\n",
       " 'efirlounge',\n",
       " 'elcafe',\n",
       " 'eleven-hall',\n",
       " 'elinka',\n",
       " 'elsekafe',\n",
       " 'embersspeakeasy',\n",
       " 'enjoylife',\n",
       " 'eshak',\n",
       " 'everesthookahкальянная',\n",
       " 'executivelounge(клубнаягостинная)',\n",
       " 'exlibris',\n",
       " 'extralounge',\n",
       " 'fabrikadeli',\n",
       " 'fairplay',\n",
       " 'fame',\n",
       " 'famillyfilm',\n",
       " 'familyfarmburgers',\n",
       " 'fanfood',\n",
       " 'fanzone',\n",
       " 'farinari',\n",
       " 'farro',\n",
       " 'farsh',\n",
       " 'farш',\n",
       " 'fibonacci',\n",
       " 'filingoodbar',\n",
       " 'filini',\n",
       " 'fishburger',\n",
       " 'fishme',\n",
       " 'fishopиramen&noodles',\n",
       " 'five',\n",
       " 'flameslounge',\n",
       " 'fleurcafe',\n",
       " 'flightclub',\n",
       " 'florentini',\n",
       " 'food&cakes',\n",
       " 'foodcafe',\n",
       " 'foodembassyюлиивысоцкой',\n",
       " 'foodmama',\n",
       " 'foodmarket',\n",
       " 'foodplace',\n",
       " 'foodpoint',\n",
       " 'foodroom',\n",
       " 'foodstore',\n",
       " 'foodstoreеда&бар',\n",
       " 'foodtripcafe',\n",
       " 'fooodbazar',\n",
       " 'forest',\n",
       " 'forneria',\n",
       " 'fornetto',\n",
       " 'fortebellozafferanoedoko',\n",
       " 'frankbyбаста',\n",
       " \"franklin'sroll&burger\",\n",
       " 'franklins',\n",
       " 'franklinsroll&burgeryamkee',\n",
       " 'franllins',\n",
       " 'frenchkiss',\n",
       " 'frenchkissfree',\n",
       " 'freshbar',\n",
       " 'freshcacao',\n",
       " 'freshcafe',\n",
       " 'freshforyou',\n",
       " 'freshup&creambar',\n",
       " 'fridays',\n",
       " 'fridayskfc',\n",
       " 'fridchicken',\n",
       " 'friedchicken',\n",
       " 'friends',\n",
       " 'friends&family',\n",
       " 'fritadoмирнасковороде',\n",
       " 'fromrometohome',\n",
       " 'froyolla',\n",
       " 'fruitlab',\n",
       " 'fruityyummy',\n",
       " 'fudzy',\n",
       " 'fumisawasushi',\n",
       " 'fusion',\n",
       " 'fusionmenu',\n",
       " 'fарш',\n",
       " 'gagawa',\n",
       " 'galateriaplombir',\n",
       " 'gallopizzaburger',\n",
       " 'garbuz',\n",
       " 'garden',\n",
       " 'gardenloungeкальянная',\n",
       " 'garnets&рассольников',\n",
       " 'gelateriaplombir',\n",
       " 'gelatobacio',\n",
       " 'genso',\n",
       " 'gensosushiявтай',\n",
       " 'gentlemancoffee',\n",
       " 'geometricpizza',\n",
       " 'get&jerry',\n",
       " 'getlucky',\n",
       " 'gianfranco',\n",
       " 'gipsy',\n",
       " 'glenuill',\n",
       " 'gloster',\n",
       " 'glowsabs',\n",
       " 'glowsubss&wiches',\n",
       " 'goatmetalbar',\n",
       " 'gocoffe',\n",
       " 'gokosгреческаякухня',\n",
       " 'gold',\n",
       " 'goldenpalace',\n",
       " 'goncharov',\n",
       " 'gonzolounge',\n",
       " 'goodchilloutколлекция',\n",
       " 'goodenough',\n",
       " 'goodfood',\n",
       " 'goodmanгудман',\n",
       " 'gothamlounge',\n",
       " 'gournestгнездогурмана',\n",
       " 'goкофе',\n",
       " 'gr&cru',\n",
       " 'gr&урюк',\n",
       " 'grafflounge',\n",
       " 'grammys',\n",
       " 'granat',\n",
       " 'grannyкафеош',\n",
       " 'grano',\n",
       " 'greekfreak',\n",
       " 'grill&garden',\n",
       " 'grill-house',\n",
       " 'grillfest(колбаскигриль)',\n",
       " 'grillroom',\n",
       " 'guinnesssteakpub',\n",
       " 'gvido',\n",
       " 'gvidogelato',\n",
       " 'h&',\n",
       " 'hadwok',\n",
       " 'haggis',\n",
       " \"hamm'sfood\",\n",
       " 'hangkong',\n",
       " 'happycupclub',\n",
       " \"harat'spub\",\n",
       " 'haratspub',\n",
       " 'hardwokcafe',\n",
       " 'hardyloungebar',\n",
       " 'healthyfood',\n",
       " 'help&friend',\n",
       " 'helthyfood',\n",
       " 'heritage',\n",
       " 'hiddenbar',\n",
       " 'highwok&sushi',\n",
       " 'holyvegan',\n",
       " 'hookahburger',\n",
       " 'hookahcloudlounge',\n",
       " 'hookahmaryino',\n",
       " 'hookahplace',\n",
       " 'hookahplacesemenovskaya',\n",
       " 'hookahtime',\n",
       " 'hookahxv',\n",
       " 'hookanplace',\n",
       " 'hooktime',\n",
       " 'hotnoodle',\n",
       " 'howardslovescraft',\n",
       " 'hubстоловая',\n",
       " 'hudsonbar',\n",
       " 'hungrywolf',\n",
       " 'hunters',\n",
       " 'hygge',\n",
       " 'i-chef',\n",
       " 'i-chet',\n",
       " 'iamok',\n",
       " 'ibiskitchen',\n",
       " 'ibrohimкебаб',\n",
       " 'icetube',\n",
       " 'icon',\n",
       " 'idcafeздоровоепитание',\n",
       " 'idola',\n",
       " 'ilborgo',\n",
       " 'ilfornetto',\n",
       " 'ilfornoильфорно',\n",
       " 'ilikebar',\n",
       " 'ilikecraft',\n",
       " 'ilikegrill',\n",
       " 'ilmassimo',\n",
       " 'ilounge',\n",
       " 'ilpatio',\n",
       " 'ilpizzaiolo',\n",
       " 'ilpizzaolo',\n",
       " 'iltocco',\n",
       " 'ilпатио',\n",
       " 'ilпатиопланетасуши',\n",
       " 'imhobar',\n",
       " 'imsmoking',\n",
       " 'inbox',\n",
       " 'indiyskayatochka',\n",
       " 'induke',\n",
       " 'inferno',\n",
       " 'infernokitchenправильнаяеда',\n",
       " 'inrocki',\n",
       " 'iphocafe',\n",
       " 'iqos',\n",
       " 'iqwine',\n",
       " 'irishmistpub',\n",
       " 'istanbulcorner',\n",
       " 'italy',\n",
       " 'ivangogh',\n",
       " 'ivaslounge',\n",
       " 'jack&jane',\n",
       " 'jackyjackygastrobar',\n",
       " 'jaihind',\n",
       " 'jamiesitalian',\n",
       " 'jcafemoscow',\n",
       " 'jdburgers',\n",
       " 'jeffreyscoffee',\n",
       " 'jgilroyspub',\n",
       " 'jisasianbistro&wine',\n",
       " 'jjcoffee',\n",
       " 'johnyfriends',\n",
       " 'johnyjosperpub',\n",
       " 'jpanbistro',\n",
       " 'junglejoy',\n",
       " 'jwджерривингс(jerrywings)',\n",
       " 'k-grill',\n",
       " 'k-town',\n",
       " 'k-townkoreannoodlebar',\n",
       " 'kafeles',\n",
       " 'kafin',\n",
       " 'kafinbestcoffebestprice',\n",
       " 'kalimera',\n",
       " 'kalyan4you',\n",
       " 'karaokeloungevs',\n",
       " 'katieosheas',\n",
       " 'kaufmanкафе',\n",
       " 'kebabgrill',\n",
       " 'kebabhouse',\n",
       " 'kebablab',\n",
       " 'ketchup',\n",
       " 'kfc',\n",
       " 'kfcволгоградский',\n",
       " 'khinkalnaya',\n",
       " 'killfish',\n",
       " 'kingberry',\n",
       " 'kislovsky',\n",
       " 'kitchen',\n",
       " 'kofeway',\n",
       " 'koffeemoose',\n",
       " 'kombinatdeli',\n",
       " 'kombinatdeliкафекулинария',\n",
       " 'kozlovna',\n",
       " 'koпteam',\n",
       " 'krevetkaseafood',\n",
       " 'kriptocafe&bar',\n",
       " 'krispycreme',\n",
       " 'krispykrem',\n",
       " 'krispykreme',\n",
       " 'krombacherbeerkitchen',\n",
       " 'kuksuhouse',\n",
       " 'kulinari',\n",
       " 'kurkuma',\n",
       " 'kurnikрусскиетрадициисегодня',\n",
       " 'kusselita',\n",
       " 'kuvings',\n",
       " 'kuzina',\n",
       " 'kuраменизакаябар',\n",
       " 'kvarta',\n",
       " 'kvartal',\n",
       " 'laboratoriacoffee',\n",
       " 'lacafe',\n",
       " 'lacasa',\n",
       " 'lacasacubana',\n",
       " 'lacasadelvino',\n",
       " 'lackyducksbar',\n",
       " 'lacortedimilano',\n",
       " 'laffalaffa',\n",
       " 'lafkabar',\n",
       " 'laltrobosco',\n",
       " 'lambic',\n",
       " 'lambicбрассерия',\n",
       " 'lamiageorgia',\n",
       " 'lampacafe',\n",
       " 'lancheriabybruno',\n",
       " 'laolee',\n",
       " 'lapiazza',\n",
       " 'laprovincia',\n",
       " 'larigeorgiankitchen',\n",
       " 'larionovgrill&bar',\n",
       " 'lascala',\n",
       " 'lascarpetta',\n",
       " 'laspezia',\n",
       " 'latinos',\n",
       " 'laverona',\n",
       " 'lavkalavka',\n",
       " 'lavkaхлеб',\n",
       " 'lawsonbar',\n",
       " 'lebaravin',\n",
       " 'legendario',\n",
       " 'legion',\n",
       " 'legiosyshi',\n",
       " 'leningrad',\n",
       " 'les',\n",
       " 'letolounge',\n",
       " 'letsrokbar',\n",
       " 'lifebowl',\n",
       " 'lift',\n",
       " 'ligerosclub',\n",
       " 'likewine',\n",
       " 'limassol',\n",
       " \"lion'sheadpub\",\n",
       " 'lionslairs',\n",
       " 'litro',\n",
       " 'littlegardenkitchen&bar',\n",
       " 'littleosaka',\n",
       " 'littleбейрут',\n",
       " 'livestars',\n",
       " 'localb&',\n",
       " 'localbarbytimurlansky',\n",
       " 'locals',\n",
       " 'lockstock',\n",
       " 'loft17',\n",
       " 'loftbar',\n",
       " 'lofthall',\n",
       " 'loftsmokeкальянная',\n",
       " 'loftsoftbar',\n",
       " 'londonbeer&grill',\n",
       " 'lookinrooms',\n",
       " 'lookinroomsдиско90-х',\n",
       " 'losb&idos',\n",
       " 'lostbar',\n",
       " 'louis',\n",
       " 'lounge1847',\n",
       " 'loungebar19-90',\n",
       " 'loungebarm&f',\n",
       " 'lovalovamultibar',\n",
       " 'love',\n",
       " 'lovecoffee',\n",
       " 'lovesuchi&',\n",
       " 'lovinkafe',\n",
       " 'lowenbrauhaus',\n",
       " 'luce',\n",
       " 'luciano',\n",
       " 'luckybstarols',\n",
       " 'lumberjackbar',\n",
       " 'lunaкараоке-ресторан',\n",
       " 'lunchjoyресторанкитайскойкухни',\n",
       " 'lunchroom',\n",
       " 'lusun',\n",
       " 'lюstra',\n",
       " \"m&y'sapothecaryirishpub\",\n",
       " 'mac&cheese',\n",
       " 'macaronika',\n",
       " 'madcitybar',\n",
       " 'madeo',\n",
       " 'madman',\n",
       " 'madwinebar',\n",
       " 'maestrowok',\n",
       " 'magicfox',\n",
       " 'mainstreetкафе',\n",
       " 'maisondeclair',\n",
       " 'maisondeclaiz',\n",
       " 'makimaki',\n",
       " 'mamiханойскаялапша',\n",
       " 'manekineko',\n",
       " 'marfinodelivery',\n",
       " 'marketburgerbar',\n",
       " 'marketplace',\n",
       " 'marmalato',\n",
       " 'marrakeshхинкальная',\n",
       " 'marxurbangrill',\n",
       " 'mashup',\n",
       " 'masonsloungebar',\n",
       " 'massalahouse',\n",
       " 'mastergyros',\n",
       " 'matchabotanicals',\n",
       " 'matchadope',\n",
       " 'matchasushi&bento',\n",
       " 'matchasushibento',\n",
       " 'matreshkacoffee',\n",
       " 'matreshkafree',\n",
       " 'matrёshkaфри',\n",
       " 'maxbakery',\n",
       " 'maximacafe',\n",
       " 'maxipizza',\n",
       " 'mcafeхинкальная',\n",
       " 'mcdonalds',\n",
       " 'mealty',\n",
       " 'meat&fish',\n",
       " 'meatavenue',\n",
       " 'meatchell',\n",
       " 'meatless',\n",
       " 'meatloveburger',\n",
       " 'meatmeet',\n",
       " 'meatpuppets',\n",
       " 'meatstreet',\n",
       " 'medusaasiankitchenbar',\n",
       " 'meduzzaloungebar',\n",
       " 'meduzzzaкальян-бар',\n",
       " 'meetmeat',\n",
       " 'meltme',\n",
       " 'melкафе',\n",
       " 'mentano',\n",
       " 'mery',\n",
       " 'metaforabar',\n",
       " 'michaelsisl&cafe',\n",
       " 'miles',\n",
       " 'milk&beans',\n",
       " 'milkymoons',\n",
       " 'minipizzaef',\n",
       " 'minobiffburger',\n",
       " 'minorisushi',\n",
       " 'misterx',\n",
       " 'mitrofood',\n",
       " 'mixsalad',\n",
       " 'modusfriends',\n",
       " 'mojo',\n",
       " 'mojoбар',\n",
       " 'momentoeat',\n",
       " 'monbon',\n",
       " 'mondriannlounge',\n",
       " \"monkeys's\",\n",
       " 'monsterhills',\n",
       " 'moregrill',\n",
       " 'mosinyazкафе',\n",
       " 'moskalyan',\n",
       " 'movenpick',\n",
       " 'mrburgerovich',\n",
       " 'mrchef',\n",
       " 'mrdoner',\n",
       " 'mrdoodls',\n",
       " 'mrfalafel',\n",
       " 'mrginger',\n",
       " 'mrkiko',\n",
       " 'mrtutti-2',\n",
       " 'mrтутти',\n",
       " 'muchmore',\n",
       " 'mukuzani',\n",
       " 'mulberrylounge',\n",
       " 'munchiespizza&bierra',\n",
       " 'mushrooms',\n",
       " 'mybar',\n",
       " 'mybox',\n",
       " 'mygelato',\n",
       " 'mygelatoкафе',\n",
       " 'myplace',\n",
       " 'mysteryhookahbar',\n",
       " 'mоsgastronomicsmartиcasual',\n",
       " 'nargilialoftкальяннаяцентрпаровыхкоктелей',\n",
       " 'nathans',\n",
       " 'naturasanat',\n",
       " 'nem&pho',\n",
       " 'newyorkpizza',\n",
       " 'ngon',\n",
       " 'nicetomeatyouбургерная',\n",
       " 'nobu',\n",
       " 'nonla',\n",
       " 'noodlebar',\n",
       " 'noodles',\n",
       " 'nookcofee',\n",
       " 'noosh',\n",
       " 'nordiclub',\n",
       " 'nosecuritygrill&bar',\n",
       " \"o'donoghue's\",\n",
       " 'oconnellspub',\n",
       " 'oescimo',\n",
       " 'oeskimochistayaliniya',\n",
       " 'officina',\n",
       " 'ohmypho',\n",
       " 'okdoner',\n",
       " 'okfoodstory',\n",
       " 'okisushi',\n",
       " 'olioli',\n",
       " \"olster'spub\",\n",
       " 'omgcoffee',\n",
       " 'onebuckscoffee',\n",
       " 'onelevel',\n",
       " 'onemorepab',\n",
       " 'onemorepub',\n",
       " 'oneprice',\n",
       " 'onepricecoffe',\n",
       " 'onepricecoffee',\n",
       " 'oriental',\n",
       " 'original',\n",
       " 'osteriamario',\n",
       " 'osteriamario+швили',\n",
       " 'osteriatoscana',\n",
       " 'oversalad',\n",
       " 'ovo',\n",
       " 'oxus',\n",
       " 'p&aexpress',\n",
       " 'p4bloungebar',\n",
       " 'palacio',\n",
       " 'palasdesthes',\n",
       " 'papagrill',\n",
       " 'papasburgers',\n",
       " 'paprikapicante',\n",
       " 'paradisespaclub',\n",
       " 'pari-joli',\n",
       " 'partybun',\n",
       " 'passion',\n",
       " 'pasta',\n",
       " 'pasta+salsa',\n",
       " 'pastacup&pinsa',\n",
       " 'pastadeli',\n",
       " 'pastoria',\n",
       " 'paul',\n",
       " 'paulanerbrauhaus',\n",
       " 'paulcafe',\n",
       " 'paulполь',\n",
       " 'pecivo',\n",
       " 'pelmenikiclub',\n",
       " 'pelmesh',\n",
       " 'peri',\n",
       " 'persecafe',\n",
       " 'peshi',\n",
       " 'petitepierrecafe',\n",
       " 'petrushka',\n",
       " 'pho',\n",
       " 'phobo',\n",
       " 'phobo360',\n",
       " 'phobosan',\n",
       " 'phoboханойскийстрит-фуд',\n",
       " 'phofighters',\n",
       " 'phohanoi',\n",
       " 'phopoint',\n",
       " 'phou',\n",
       " 'phouвьетнамскаяеда',\n",
       " 'phoviet',\n",
       " 'phoviet(вьетнамскийстритфуд)',\n",
       " 'phovietвъетнамскаякухня',\n",
       " 'phoвкусный',\n",
       " 'picciotti',\n",
       " 'piccolo',\n",
       " 'picniccafe',\n",
       " 'piefactore',\n",
       " 'pinocchio',\n",
       " 'pinsapoint',\n",
       " 'pinsapositana',\n",
       " 'pinzauno',\n",
       " 'pinzeriabybontempi',\n",
       " 'pinzeriabybontempo',\n",
       " 'pioppoalbero',\n",
       " 'pita&meat',\n",
       " 'pitagyros',\n",
       " 'pitamix',\n",
       " 'pitas',\n",
       " 'pitstopкафе',\n",
       " 'piudelcibo',\n",
       " 'pivbar',\n",
       " 'pizengof99спб',\n",
       " 'pizza24express',\n",
       " 'pizzaexpress',\n",
       " 'pizzahut',\n",
       " 'pizzaloftcoffee',\n",
       " 'pizzamento',\n",
       " 'pizzamia',\n",
       " 'pizzanapoleana',\n",
       " 'pizzaoh',\n",
       " 'pizzapreferita',\n",
       " 'pizzarim',\n",
       " 'pizzeria360',\n",
       " 'pizzetta',\n",
       " 'planb',\n",
       " 'planetasushiilpatio',\n",
       " 'plovberry',\n",
       " 'plovbox',\n",
       " 'plovcom',\n",
       " 'ploveberry',\n",
       " 'plovprofi',\n",
       " 'plpbпицца',\n",
       " 'point242',\n",
       " 'point58',\n",
       " 'pointcoffe&food',\n",
       " 'pokehouse',\n",
       " 'pomodorro',\n",
       " 'porto-pomodoro',\n",
       " 'portomaltese',\n",
       " 'poutinerie',\n",
       " 'pqcoffee&friends',\n",
       " 'pricecoffee',\n",
       " 'prim',\n",
       " 'prime',\n",
       " 'primebeef',\n",
       " 'primecafe',\n",
       " 'primestarпраймстар',\n",
       " 'primeпраймстар',\n",
       " 'primeпраймстарпрайм-кафе',\n",
       " 'privatelounge',\n",
       " 'propscoffee',\n",
       " 'proseccobarpr11',\n",
       " 'proпельмени',\n",
       " 'proсушипицца',\n",
       " 'psquare',\n",
       " 'psгвозди',\n",
       " 'publiccafe',\n",
       " 'pubnopub',\n",
       " 'pushka',\n",
       " 'q2lounge',\n",
       " 'quanviet',\n",
       " 'raffle',\n",
       " 'rainbowpub',\n",
       " 'ramen+noodles',\n",
       " 'ramen-club',\n",
       " 'rarepastrami',\n",
       " 'rdcafe',\n",
       " 'redblackfamily',\n",
       " 'redbuffet',\n",
       " 'redfood',\n",
       " 'redmango',\n",
       " 'redrocketbar',\n",
       " 'redspoon',\n",
       " 'redstarcafe',\n",
       " 'regent',\n",
       " 'remyburger',\n",
       " 'rest',\n",
       " 'restarantclubkaraokebar«tarhun»',\n",
       " 'rfatkurkuma',\n",
       " 'ribambelle',\n",
       " 'richlounge',\n",
       " 'righthops',\n",
       " 'rioba',\n",
       " 'rixrestaurant',\n",
       " 'roastercoffee',\n",
       " 'rocky215',\n",
       " ...]"
      ]
     },
     "execution_count": 10,
     "metadata": {},
     "output_type": "execute_result"
    }
   ],
   "source": [
    "# приведем к нижнему регистру\n",
    "rest_data['object_name'] = rest_data['object_name'].str.lower()\n",
    "# избависмя от нежелательных симоволов и пробелов\n",
    "rest_data['object_name'] =rest_data['object_name'].str.replace('.' , '')\n",
    "#\n",
    "rest_data['object_name'] =rest_data['object_name'].str.replace(',' , '')\n",
    "#\n",
    "rest_data['object_name'] =rest_data['object_name'].str.replace(' ' , '')\n",
    "#\n",
    "rest_data['object_name'] =rest_data['object_name'].str.replace('энд' , '&')\n",
    "#\n",
    "rest_data['object_name'] =rest_data['object_name'].str.replace('and' , '&')\n",
    "\n",
    "sorted(rest_data['object_name'].unique())"
   ]
  },
  {
   "cell_type": "code",
   "execution_count": 11,
   "metadata": {},
   "outputs": [],
   "source": [
    "# преведем к нижнему регистру\n",
    "rest_data['address'] = rest_data['address'].str.lower()\n",
    "# sorted(rest_data['address'].unique())"
   ]
  },
  {
   "cell_type": "code",
   "execution_count": 12,
   "metadata": {},
   "outputs": [
    {
     "data": {
      "text/plain": [
       "6258"
      ]
     },
     "execution_count": 12,
     "metadata": {},
     "output_type": "execute_result"
    }
   ],
   "source": [
    "rest_data['address'].duplicated().sum()"
   ]
  },
  {
   "cell_type": "markdown",
   "metadata": {},
   "source": [
    "По одному адресу может находиться несколько разных кафе. "
   ]
  },
  {
   "cell_type": "code",
   "execution_count": 13,
   "metadata": {},
   "outputs": [
    {
     "name": "stdout",
     "output_type": "stream",
     "text": [
      "Явных дубликтов после преобразваний стало: 87\n"
     ]
    }
   ],
   "source": [
    "duplicate_rows = rest_data.duplicated(subset=['object_name', 'chain', \n",
    "                                              'object_type', 'address', \n",
    "                                              'number']).sum()\n",
    "print('Явных дубликтов после преобразваний стало:', duplicate_rows)"
   ]
  },
  {
   "cell_type": "markdown",
   "metadata": {},
   "source": [
    "87 из 15366 можно смело удалить. "
   ]
  },
  {
   "cell_type": "code",
   "execution_count": 14,
   "metadata": {},
   "outputs": [],
   "source": [
    "# удалим дубликаты\n",
    "rest_data = rest_data.drop_duplicates(subset=['object_name', 'chain', 'object_type', 'address','number'])"
   ]
  },
  {
   "cell_type": "code",
   "execution_count": 15,
   "metadata": {},
   "outputs": [
    {
     "name": "stdout",
     "output_type": "stream",
     "text": [
      "Явных дубликтов после удаления стало: 0\n"
     ]
    }
   ],
   "source": [
    "# проверим, что осталось\n",
    "duplicate_rows = rest_data.duplicated(subset=['object_name', 'chain', \n",
    "                                              'object_type', 'address', \n",
    "                                              'number']).sum()\n",
    "print('Явных дубликтов после удаления стало:', duplicate_rows)"
   ]
  },
  {
   "cell_type": "markdown",
   "metadata": {},
   "source": [
    "#### Вывод\n",
    "Неявные дубликаты устранены"
   ]
  },
  {
   "cell_type": "markdown",
   "metadata": {},
   "source": [
    "## Шаг №2. Анализ данных"
   ]
  },
  {
   "cell_type": "markdown",
   "metadata": {},
   "source": [
    "#### Cоотношение видов объектов общественного питания по количеству"
   ]
  },
  {
   "cell_type": "markdown",
   "metadata": {},
   "source": [
    "* **Исследуем соотношение видов объектов общественного питания по количеству.**"
   ]
  },
  {
   "cell_type": "code",
   "execution_count": 16,
   "metadata": {},
   "outputs": [
    {
     "data": {
      "text/plain": [
       "кафе                                 6070\n",
       "столовая                             2584\n",
       "ресторан                             2282\n",
       "предприятие быстрого обслуживания    1897\n",
       "бар                                   855\n",
       "буфет                                 575\n",
       "кафетерий                             395\n",
       "закусочная                            348\n",
       "магазин (отдел кулинарии)             273\n",
       "Name: object_type, dtype: int64"
      ]
     },
     "execution_count": 16,
     "metadata": {},
     "output_type": "execute_result"
    }
   ],
   "source": [
    "#\n",
    "rest_data['object_type'].value_counts()"
   ]
  },
  {
   "cell_type": "code",
   "execution_count": 17,
   "metadata": {},
   "outputs": [
    {
     "data": {
      "image/png": "[encoded data removed]",
      "text/plain": [
       "<Figure size 576x288 with 1 Axes>"
      ]
     },
     "metadata": {
      "needs_background": "light"
     },
     "output_type": "display_data"
    }
   ],
   "source": [
    "# строим график\n",
    "f, ax = plt.subplots(figsize=(8, 4))\n",
    "sns.countplot(y='object_type', data=rest_data, color='c', order=['кафе', 'столовая','ресторан', \n",
    "                                                                'предприятие быстрого обслуживания',\n",
    "                                                                'бар', 'буфет', 'кафетерий','закусочная',\n",
    "                                                                'магазин (отдел кулинарии)'])\n",
    "plt.ylabel('Виды объектов')\n",
    "plt.xlabel('Количество')\n",
    "plt.title('Соотношение видов объектов общественного питания по количеству')\n",
    "plt.show()"
   ]
  },
  {
   "cell_type": "markdown",
   "metadata": {},
   "source": [
    "##### Вывод\n",
    "Среди типов объектов ПОП безусловном лидером является кафе - отрыв более чем в 2,5 раза. Далее идут столовая, ресторан и предприятие быстрого обслуживания с незначительными разрывами по количеству."
   ]
  },
  {
   "cell_type": "markdown",
   "metadata": {},
   "source": [
    "###  Cоотношение сетевых и несетевых заведений по количеству"
   ]
  },
  {
   "cell_type": "markdown",
   "metadata": {},
   "source": [
    "* **Исследуем соотношение сетевых и несетевых заведений по количеству**"
   ]
  },
  {
   "cell_type": "code",
   "execution_count": 18,
   "metadata": {},
   "outputs": [
    {
     "data": {
      "text/plain": [
       "нет    12315\n",
       "да      2964\n",
       "Name: chain, dtype: int64"
      ]
     },
     "execution_count": 18,
     "metadata": {},
     "output_type": "execute_result"
    }
   ],
   "source": [
    "#\n",
    "rest_data['chain'].value_counts()"
   ]
  },
  {
   "cell_type": "code",
   "execution_count": 19,
   "metadata": {
    "scrolled": true
   },
   "outputs": [
    {
     "data": {
      "image/png": "[encoded data removed]",
      "text/plain": [
       "<Figure size 432x216 with 1 Axes>"
      ]
     },
     "metadata": {
      "needs_background": "light"
     },
     "output_type": "display_data"
    }
   ],
   "source": [
    "#\n",
    "f, ax = plt.subplots(figsize=(6, 3))\n",
    "sns.countplot(y='chain', data=rest_data, color='c', order=['да', 'нет'])\n",
    "plt.ylabel('Является сетевым')\n",
    "plt.xlabel('Количество')\n",
    "plt.title('Cоотношение сетевых и несетевых заведений по количеству')\n",
    "plt.show()"
   ]
  },
  {
   "cell_type": "markdown",
   "metadata": {},
   "source": [
    "#### Вывод\n",
    "Примерно 3 из 4-х ПОП не являются сетевыми."
   ]
  },
  {
   "cell_type": "markdown",
   "metadata": {},
   "source": [
    "### Сетевое распространение по видам объектов"
   ]
  },
  {
   "cell_type": "markdown",
   "metadata": {},
   "source": [
    "* **Для какого вида объекта общественного питания характерно сетевое распространение?**"
   ]
  },
  {
   "cell_type": "code",
   "execution_count": 20,
   "metadata": {},
   "outputs": [
    {
     "data": {
      "text/plain": [
       "кафе                                 1396\n",
       "предприятие быстрого обслуживания     788\n",
       "ресторан                              543\n",
       "магазин (отдел кулинарии)              78\n",
       "закусочная                             56\n",
       "кафетерий                              52\n",
       "бар                                    37\n",
       "буфет                                  11\n",
       "столовая                                3\n",
       "Name: object_type, dtype: int64"
      ]
     },
     "execution_count": 20,
     "metadata": {},
     "output_type": "execute_result"
    }
   ],
   "source": [
    "#\n",
    "copy_rest_data = rest_data.query('chain == \"да\"')\n",
    "copy_rest_data['object_type'].value_counts()"
   ]
  },
  {
   "cell_type": "code",
   "execution_count": 21,
   "metadata": {},
   "outputs": [
    {
     "data": {
      "image/png": "[encoded data removed]",
      "text/plain": [
       "<Figure size 576x288 with 1 Axes>"
      ]
     },
     "metadata": {
      "needs_background": "light"
     },
     "output_type": "display_data"
    }
   ],
   "source": [
    "f, ax = plt.subplots(figsize=(8, 4))\n",
    "sns.countplot(y='object_type', data=copy_rest_data, color='c', order=['кафе', 'предприятие быстрого обслуживания',\n",
    "                                                                      'ресторан', 'магазин (отдел кулинарии)',\n",
    "                                                                      'закусочная', 'кафетерий', 'бар', 'буфет',\n",
    "                                                                      'столовая',])\n",
    "plt.ylabel('Виды объектов')\n",
    "plt.xlabel('Количество')\n",
    "plt.title('Соотношение видов объектов общественного питания по количеству')\n",
    "plt.show()"
   ]
  },
  {
   "cell_type": "markdown",
   "metadata": {},
   "source": [
    "#### Вывод\n",
    "Для сетевых ПОП также лидером является кафе, затем следует ПБО и ресторан. Но здесь кафе встречается уже не так часто: примерно 2:1."
   ]
  },
  {
   "cell_type": "markdown",
   "metadata": {},
   "source": [
    "### Количество посадочных мест в сетевых заведениях"
   ]
  },
  {
   "cell_type": "markdown",
   "metadata": {},
   "source": [
    "* **Что характерно для сетевых заведений: много заведений с небольшим числом посадочных мест в каждом или мало заведений с большим количеством посадочных мест?**"
   ]
  },
  {
   "cell_type": "code",
   "execution_count": 22,
   "metadata": {},
   "outputs": [
    {
     "data": {
      "text/html": [
       "<div>\n",
       "<style scoped>\n",
       "    .dataframe tbody tr th:only-of-type {\n",
       "        vertical-align: middle;\n",
       "    }\n",
       "\n",
       "    .dataframe tbody tr th {\n",
       "        vertical-align: top;\n",
       "    }\n",
       "\n",
       "    .dataframe thead th {\n",
       "        text-align: right;\n",
       "    }\n",
       "</style>\n",
       "<table border=\"1\" class=\"dataframe\">\n",
       "  <thead>\n",
       "    <tr style=\"text-align: right;\">\n",
       "      <th></th>\n",
       "      <th>id</th>\n",
       "      <th>object_name</th>\n",
       "      <th>chain</th>\n",
       "      <th>object_type</th>\n",
       "      <th>address</th>\n",
       "      <th>number</th>\n",
       "    </tr>\n",
       "  </thead>\n",
       "  <tbody>\n",
       "    <tr>\n",
       "      <th>3</th>\n",
       "      <td>21894</td>\n",
       "      <td>пиццетория</td>\n",
       "      <td>да</td>\n",
       "      <td>кафе</td>\n",
       "      <td>город москва, абрамцевская улица, дом 1</td>\n",
       "      <td>40</td>\n",
       "    </tr>\n",
       "  </tbody>\n",
       "</table>\n",
       "</div>"
      ],
      "text/plain": [
       "      id object_name chain object_type  \\\n",
       "3  21894  пиццетория    да        кафе   \n",
       "\n",
       "                                   address  number  \n",
       "3  город москва, абрамцевская улица, дом 1      40  "
      ]
     },
     "execution_count": 22,
     "metadata": {},
     "output_type": "execute_result"
    }
   ],
   "source": [
    "copy_rest_data.head(1)"
   ]
  },
  {
   "cell_type": "code",
   "execution_count": 23,
   "metadata": {},
   "outputs": [
    {
     "data": {
      "text/html": [
       "<div>\n",
       "<style scoped>\n",
       "    .dataframe tbody tr th:only-of-type {\n",
       "        vertical-align: middle;\n",
       "    }\n",
       "\n",
       "    .dataframe tbody tr th {\n",
       "        vertical-align: top;\n",
       "    }\n",
       "\n",
       "    .dataframe thead th {\n",
       "        text-align: right;\n",
       "    }\n",
       "</style>\n",
       "<table border=\"1\" class=\"dataframe\">\n",
       "  <thead>\n",
       "    <tr style=\"text-align: right;\">\n",
       "      <th></th>\n",
       "      <th>object_type</th>\n",
       "      <th>count_chain</th>\n",
       "      <th>sum_number</th>\n",
       "      <th>avg_number</th>\n",
       "    </tr>\n",
       "  </thead>\n",
       "  <tbody>\n",
       "    <tr>\n",
       "      <th>3</th>\n",
       "      <td>кафе</td>\n",
       "      <td>1396</td>\n",
       "      <td>66208</td>\n",
       "      <td>47.426934</td>\n",
       "    </tr>\n",
       "    <tr>\n",
       "      <th>6</th>\n",
       "      <td>предприятие быстрого обслуживания</td>\n",
       "      <td>788</td>\n",
       "      <td>31772</td>\n",
       "      <td>40.319797</td>\n",
       "    </tr>\n",
       "    <tr>\n",
       "      <th>7</th>\n",
       "      <td>ресторан</td>\n",
       "      <td>543</td>\n",
       "      <td>54497</td>\n",
       "      <td>100.362799</td>\n",
       "    </tr>\n",
       "    <tr>\n",
       "      <th>5</th>\n",
       "      <td>магазин (отдел кулинарии)</td>\n",
       "      <td>78</td>\n",
       "      <td>677</td>\n",
       "      <td>8.679487</td>\n",
       "    </tr>\n",
       "    <tr>\n",
       "      <th>2</th>\n",
       "      <td>закусочная</td>\n",
       "      <td>56</td>\n",
       "      <td>805</td>\n",
       "      <td>14.375000</td>\n",
       "    </tr>\n",
       "    <tr>\n",
       "      <th>4</th>\n",
       "      <td>кафетерий</td>\n",
       "      <td>52</td>\n",
       "      <td>638</td>\n",
       "      <td>12.269231</td>\n",
       "    </tr>\n",
       "    <tr>\n",
       "      <th>0</th>\n",
       "      <td>бар</td>\n",
       "      <td>37</td>\n",
       "      <td>1962</td>\n",
       "      <td>53.027027</td>\n",
       "    </tr>\n",
       "    <tr>\n",
       "      <th>1</th>\n",
       "      <td>буфет</td>\n",
       "      <td>11</td>\n",
       "      <td>140</td>\n",
       "      <td>12.727273</td>\n",
       "    </tr>\n",
       "    <tr>\n",
       "      <th>8</th>\n",
       "      <td>столовая</td>\n",
       "      <td>3</td>\n",
       "      <td>337</td>\n",
       "      <td>112.333333</td>\n",
       "    </tr>\n",
       "  </tbody>\n",
       "</table>\n",
       "</div>"
      ],
      "text/plain": [
       "                         object_type  count_chain  sum_number  avg_number\n",
       "3                               кафе         1396       66208   47.426934\n",
       "6  предприятие быстрого обслуживания          788       31772   40.319797\n",
       "7                           ресторан          543       54497  100.362799\n",
       "5          магазин (отдел кулинарии)           78         677    8.679487\n",
       "2                         закусочная           56         805   14.375000\n",
       "4                          кафетерий           52         638   12.269231\n",
       "0                                бар           37        1962   53.027027\n",
       "1                              буфет           11         140   12.727273\n",
       "8                           столовая            3         337  112.333333"
      ]
     },
     "execution_count": 23,
     "metadata": {},
     "output_type": "execute_result"
    }
   ],
   "source": [
    "chain_rest_data = (\n",
    "    copy_rest_data\n",
    "    .groupby('object_type', as_index = False)\n",
    "    .agg({'chain':'count','number':'sum'})\n",
    "    .sort_values(by='chain', ascending=False)\n",
    ")\n",
    "#\n",
    "chain_rest_data.columns = ['object_type', 'count_chain', 'sum_number']\n",
    "#\n",
    "chain_rest_data['avg_number'] = chain_rest_data['sum_number']/chain_rest_data['count_chain']\n",
    "chain_rest_data"
   ]
  },
  {
   "cell_type": "markdown",
   "metadata": {},
   "source": [
    "#### Вывод\n",
    "Наибольшее количество посадочных мест в сетевых заведениях характерно для столовой и ресторана. Утверждать, что для сетевых ПОП характерно много заведений с небольшим числом посадочных мест в каждом ИЛИ мало заведений с большим количеством посадочных мест. Скорее есть и то и другое. Так, в ресторане много заведений и много посадочных мест, а у кафе и ПБО - много заведений и мало посадочных мест."
   ]
  },
  {
   "cell_type": "markdown",
   "metadata": {},
   "source": [
    "### Характерное количество посадочных мест по типам заведений"
   ]
  },
  {
   "cell_type": "markdown",
   "metadata": {},
   "source": [
    "* **Для каждого вида объекта общественного питания опишем среднее количество посадочных мест. Какой вид предоставляет в среднем самое большое количество посадочных мест?**"
   ]
  },
  {
   "cell_type": "code",
   "execution_count": 24,
   "metadata": {},
   "outputs": [],
   "source": [
    "rest_data_number = (\n",
    "    rest_data\n",
    "    .groupby('object_type', as_index = False)\n",
    "    .agg({'chain':'count','number':'sum'})\n",
    ")\n",
    "#\n",
    "rest_data_number.columns = ['object_type', 'count_chain', 'sum_number']\n",
    "#\n",
    "rest_data_number['avg_number'] = rest_data_number['sum_number']/rest_data_number['count_chain']\n",
    "rest_data_number = rest_data_number.sort_values(by='avg_number', ascending=False)\n"
   ]
  },
  {
   "cell_type": "code",
   "execution_count": 25,
   "metadata": {},
   "outputs": [
    {
     "data": {
      "image/png": "[encoded data removed]",
      "text/plain": [
       "<Figure size 576x288 with 1 Axes>"
      ]
     },
     "metadata": {
      "needs_background": "light"
     },
     "output_type": "display_data"
    }
   ],
   "source": [
    "f, ax = plt.subplots(figsize=(8, 4))\n",
    "ax=sns.barplot(y='object_type', x= 'avg_number', data=rest_data_number, color='c')\n",
    "plt.ylabel('Виды объектов')\n",
    "plt.xlabel('Среднее количество посадочных мест')\n",
    "plt.title('Соотношение среднего количества посадочных мест с видом ПОП')\n",
    "plt.show()"
   ]
  },
  {
   "cell_type": "markdown",
   "metadata": {},
   "source": [
    "#### Вывод\n",
    "Закономерность сохраняется и для данных без привязки к приндлежности к сети. Наибольшее количество посадочных мест характерно для столовых и ресторанов. "
   ]
  },
  {
   "cell_type": "markdown",
   "metadata": {},
   "source": [
    "### Зависимость от расположения ПОП"
   ]
  },
  {
   "cell_type": "markdown",
   "metadata": {},
   "source": [
    "Загрузим таблицу с данными по районам Москвы"
   ]
  },
  {
   "cell_type": "code",
   "execution_count": 26,
   "metadata": {
    "scrolled": true
   },
   "outputs": [
    {
     "data": {
      "text/html": [
       "<div>\n",
       "<style scoped>\n",
       "    .dataframe tbody tr th:only-of-type {\n",
       "        vertical-align: middle;\n",
       "    }\n",
       "\n",
       "    .dataframe tbody tr th {\n",
       "        vertical-align: top;\n",
       "    }\n",
       "\n",
       "    .dataframe thead th {\n",
       "        text-align: right;\n",
       "    }\n",
       "</style>\n",
       "<table border=\"1\" class=\"dataframe\">\n",
       "  <thead>\n",
       "    <tr style=\"text-align: right;\">\n",
       "      <th></th>\n",
       "      <th>ID</th>\n",
       "      <th>Name</th>\n",
       "      <th>global_id</th>\n",
       "      <th>IsNetObject</th>\n",
       "      <th>OperatingCompany</th>\n",
       "      <th>TypeObject</th>\n",
       "      <th>AdmArea</th>\n",
       "      <th>District</th>\n",
       "      <th>Address</th>\n",
       "      <th>PublicPhone</th>\n",
       "      <th>SeatsCount</th>\n",
       "      <th>SocialPrivileges</th>\n",
       "      <th>Longitude_WGS84</th>\n",
       "      <th>Latitude_WGS84</th>\n",
       "      <th>geodata_center</th>\n",
       "      <th>geoarea</th>\n",
       "    </tr>\n",
       "  </thead>\n",
       "  <tbody>\n",
       "    <tr>\n",
       "      <th>0</th>\n",
       "      <td>151635</td>\n",
       "      <td>СМЕТАНА</td>\n",
       "      <td>637376221</td>\n",
       "      <td>нет</td>\n",
       "      <td>NaN</td>\n",
       "      <td>кафе</td>\n",
       "      <td>Северо-Восточный административный округ</td>\n",
       "      <td>Ярославский район</td>\n",
       "      <td>город Москва, улица Егора Абакумова, дом 9</td>\n",
       "      <td>PublicPhone:(499) 183-14-10\\n\\n</td>\n",
       "      <td>48</td>\n",
       "      <td>нет</td>\n",
       "      <td>37.714565</td>\n",
       "      <td>55.879002</td>\n",
       "      <td>NaN</td>\n",
       "      <td>NaN</td>\n",
       "    </tr>\n",
       "  </tbody>\n",
       "</table>\n",
       "</div>"
      ],
      "text/plain": [
       "       ID     Name  global_id IsNetObject OperatingCompany TypeObject  \\\n",
       "0  151635  СМЕТАНА  637376221         нет              NaN       кафе   \n",
       "\n",
       "                                   AdmArea           District  \\\n",
       "0  Северо-Восточный административный округ  Ярославский район   \n",
       "\n",
       "                                      Address  \\\n",
       "0  город Москва, улица Егора Абакумова, дом 9   \n",
       "\n",
       "                       PublicPhone  SeatsCount SocialPrivileges  \\\n",
       "0  PublicPhone:(499) 183-14-10\\n\\n          48              нет   \n",
       "\n",
       "   Longitude_WGS84  Latitude_WGS84 geodata_center  geoarea  \n",
       "0        37.714565       55.879002            NaN      NaN  "
      ]
     },
     "execution_count": 26,
     "metadata": {},
     "output_type": "execute_result"
    }
   ],
   "source": [
    "#\n",
    "spreadsheet_id = '1VHxM3U8OANaLikeYeHzckBJmdpDa3H-jYOzfRd7h9Do'\n",
    "file_name = 'https://docs.google.com/spreadsheets/d/{}/export?format=csv'.format(spreadsheet_id)\n",
    "r = requests.get(file_name)\n",
    "df = pd.read_csv(BytesIO(r.content))\n",
    "df.head(1)"
   ]
  },
  {
   "cell_type": "code",
   "execution_count": 27,
   "metadata": {},
   "outputs": [
    {
     "data": {
      "text/html": [
       "<div>\n",
       "<style scoped>\n",
       "    .dataframe tbody tr th:only-of-type {\n",
       "        vertical-align: middle;\n",
       "    }\n",
       "\n",
       "    .dataframe tbody tr th {\n",
       "        vertical-align: top;\n",
       "    }\n",
       "\n",
       "    .dataframe thead th {\n",
       "        text-align: right;\n",
       "    }\n",
       "</style>\n",
       "<table border=\"1\" class=\"dataframe\">\n",
       "  <thead>\n",
       "    <tr style=\"text-align: right;\">\n",
       "      <th></th>\n",
       "      <th>address</th>\n",
       "      <th>district</th>\n",
       "    </tr>\n",
       "  </thead>\n",
       "  <tbody>\n",
       "    <tr>\n",
       "      <th>0</th>\n",
       "      <td>город москва, улица егора абакумова, дом 9</td>\n",
       "      <td>ярославский район</td>\n",
       "    </tr>\n",
       "    <tr>\n",
       "      <th>1</th>\n",
       "      <td>город москва, улица талалихина, дом 2/1, корпус 1</td>\n",
       "      <td>таганский район</td>\n",
       "    </tr>\n",
       "    <tr>\n",
       "      <th>2</th>\n",
       "      <td>российская федерация, город москва, внутригоро...</td>\n",
       "      <td>таганский район</td>\n",
       "    </tr>\n",
       "    <tr>\n",
       "      <th>3</th>\n",
       "      <td>город москва, угличская улица, дом 17</td>\n",
       "      <td>район лианозово</td>\n",
       "    </tr>\n",
       "    <tr>\n",
       "      <th>4</th>\n",
       "      <td>город москва, переулок сивцев вражек, дом 6/2</td>\n",
       "      <td>район арбат</td>\n",
       "    </tr>\n",
       "  </tbody>\n",
       "</table>\n",
       "</div>"
      ],
      "text/plain": [
       "                                             address           district\n",
       "0         город москва, улица егора абакумова, дом 9  ярославский район\n",
       "1  город москва, улица талалихина, дом 2/1, корпус 1    таганский район\n",
       "2  российская федерация, город москва, внутригоро...    таганский район\n",
       "3              город москва, угличская улица, дом 17    район лианозово\n",
       "4      город москва, переулок сивцев вражек, дом 6/2        район арбат"
      ]
     },
     "execution_count": 27,
     "metadata": {},
     "output_type": "execute_result"
    }
   ],
   "source": [
    "df['Address'] = df['Address'].str.lower()\n",
    "df['District'] = df['District'].str.lower()\n",
    "\n",
    "# переименуем столбцы\n",
    "data_district = df[['Address', 'District']]\n",
    "data_district.columns = ['address', 'district']\n",
    "data_district.head()"
   ]
  },
  {
   "cell_type": "markdown",
   "metadata": {},
   "source": [
    "* **Выделим в отдельный столбец информацию об улице из столбца `address`**"
   ]
  },
  {
   "cell_type": "code",
   "execution_count": 28,
   "metadata": {
    "scrolled": true
   },
   "outputs": [
    {
     "data": {
      "text/html": [
       "<div>\n",
       "<style scoped>\n",
       "    .dataframe tbody tr th:only-of-type {\n",
       "        vertical-align: middle;\n",
       "    }\n",
       "\n",
       "    .dataframe tbody tr th {\n",
       "        vertical-align: top;\n",
       "    }\n",
       "\n",
       "    .dataframe thead th {\n",
       "        text-align: right;\n",
       "    }\n",
       "</style>\n",
       "<table border=\"1\" class=\"dataframe\">\n",
       "  <thead>\n",
       "    <tr style=\"text-align: right;\">\n",
       "      <th></th>\n",
       "      <th>id</th>\n",
       "      <th>object_name</th>\n",
       "      <th>chain</th>\n",
       "      <th>object_type</th>\n",
       "      <th>address</th>\n",
       "      <th>number</th>\n",
       "    </tr>\n",
       "  </thead>\n",
       "  <tbody>\n",
       "    <tr>\n",
       "      <th>0</th>\n",
       "      <td>151635</td>\n",
       "      <td>сметана</td>\n",
       "      <td>нет</td>\n",
       "      <td>кафе</td>\n",
       "      <td>город москва, улица егора абакумова, дом 9</td>\n",
       "      <td>48</td>\n",
       "    </tr>\n",
       "    <tr>\n",
       "      <th>1</th>\n",
       "      <td>77874</td>\n",
       "      <td>родник</td>\n",
       "      <td>нет</td>\n",
       "      <td>кафе</td>\n",
       "      <td>город москва, улица талалихина, дом 2/1, корпус 1</td>\n",
       "      <td>35</td>\n",
       "    </tr>\n",
       "    <tr>\n",
       "      <th>2</th>\n",
       "      <td>24309</td>\n",
       "      <td>кафе«академия»</td>\n",
       "      <td>нет</td>\n",
       "      <td>кафе</td>\n",
       "      <td>город москва, абельмановская улица, дом 6</td>\n",
       "      <td>95</td>\n",
       "    </tr>\n",
       "    <tr>\n",
       "      <th>3</th>\n",
       "      <td>21894</td>\n",
       "      <td>пиццетория</td>\n",
       "      <td>да</td>\n",
       "      <td>кафе</td>\n",
       "      <td>город москва, абрамцевская улица, дом 1</td>\n",
       "      <td>40</td>\n",
       "    </tr>\n",
       "    <tr>\n",
       "      <th>4</th>\n",
       "      <td>119365</td>\n",
       "      <td>кафе«вишневаяметель»</td>\n",
       "      <td>нет</td>\n",
       "      <td>кафе</td>\n",
       "      <td>город москва, абрамцевская улица, дом 9, корпус 1</td>\n",
       "      <td>50</td>\n",
       "    </tr>\n",
       "  </tbody>\n",
       "</table>\n",
       "</div>"
      ],
      "text/plain": [
       "       id           object_name chain object_type  \\\n",
       "0  151635               сметана   нет        кафе   \n",
       "1   77874                родник   нет        кафе   \n",
       "2   24309        кафе«академия»   нет        кафе   \n",
       "3   21894            пиццетория    да        кафе   \n",
       "4  119365  кафе«вишневаяметель»   нет        кафе   \n",
       "\n",
       "                                             address  number  \n",
       "0         город москва, улица егора абакумова, дом 9      48  \n",
       "1  город москва, улица талалихина, дом 2/1, корпус 1      35  \n",
       "2          город москва, абельмановская улица, дом 6      95  \n",
       "3            город москва, абрамцевская улица, дом 1      40  \n",
       "4  город москва, абрамцевская улица, дом 9, корпус 1      50  "
      ]
     },
     "execution_count": 28,
     "metadata": {},
     "output_type": "execute_result"
    }
   ],
   "source": [
    "rest_data.head()"
   ]
  },
  {
   "cell_type": "code",
   "execution_count": 29,
   "metadata": {},
   "outputs": [
    {
     "data": {
      "text/html": [
       "<div>\n",
       "<style scoped>\n",
       "    .dataframe tbody tr th:only-of-type {\n",
       "        vertical-align: middle;\n",
       "    }\n",
       "\n",
       "    .dataframe tbody tr th {\n",
       "        vertical-align: top;\n",
       "    }\n",
       "\n",
       "    .dataframe thead th {\n",
       "        text-align: right;\n",
       "    }\n",
       "</style>\n",
       "<table border=\"1\" class=\"dataframe\">\n",
       "  <thead>\n",
       "    <tr style=\"text-align: right;\">\n",
       "      <th></th>\n",
       "      <th>id</th>\n",
       "      <th>object_name</th>\n",
       "      <th>chain</th>\n",
       "      <th>object_type</th>\n",
       "      <th>address</th>\n",
       "      <th>number</th>\n",
       "      <th>street</th>\n",
       "      <th>city</th>\n",
       "    </tr>\n",
       "  </thead>\n",
       "  <tbody>\n",
       "    <tr>\n",
       "      <th>0</th>\n",
       "      <td>151635</td>\n",
       "      <td>сметана</td>\n",
       "      <td>нет</td>\n",
       "      <td>кафе</td>\n",
       "      <td>город москва, улица егора абакумова, дом 9</td>\n",
       "      <td>48</td>\n",
       "      <td>улица егора абакумова</td>\n",
       "      <td>город москва</td>\n",
       "    </tr>\n",
       "    <tr>\n",
       "      <th>1</th>\n",
       "      <td>77874</td>\n",
       "      <td>родник</td>\n",
       "      <td>нет</td>\n",
       "      <td>кафе</td>\n",
       "      <td>город москва, улица талалихина, дом 2/1, корпус 1</td>\n",
       "      <td>35</td>\n",
       "      <td>улица талалихина</td>\n",
       "      <td>город москва</td>\n",
       "    </tr>\n",
       "    <tr>\n",
       "      <th>2</th>\n",
       "      <td>24309</td>\n",
       "      <td>кафе«академия»</td>\n",
       "      <td>нет</td>\n",
       "      <td>кафе</td>\n",
       "      <td>город москва, абельмановская улица, дом 6</td>\n",
       "      <td>95</td>\n",
       "      <td>абельмановская улица</td>\n",
       "      <td>город москва</td>\n",
       "    </tr>\n",
       "    <tr>\n",
       "      <th>3</th>\n",
       "      <td>21894</td>\n",
       "      <td>пиццетория</td>\n",
       "      <td>да</td>\n",
       "      <td>кафе</td>\n",
       "      <td>город москва, абрамцевская улица, дом 1</td>\n",
       "      <td>40</td>\n",
       "      <td>абрамцевская улица</td>\n",
       "      <td>город москва</td>\n",
       "    </tr>\n",
       "    <tr>\n",
       "      <th>4</th>\n",
       "      <td>119365</td>\n",
       "      <td>кафе«вишневаяметель»</td>\n",
       "      <td>нет</td>\n",
       "      <td>кафе</td>\n",
       "      <td>город москва, абрамцевская улица, дом 9, корпус 1</td>\n",
       "      <td>50</td>\n",
       "      <td>абрамцевская улица</td>\n",
       "      <td>город москва</td>\n",
       "    </tr>\n",
       "  </tbody>\n",
       "</table>\n",
       "</div>"
      ],
      "text/plain": [
       "       id           object_name chain object_type  \\\n",
       "0  151635               сметана   нет        кафе   \n",
       "1   77874                родник   нет        кафе   \n",
       "2   24309        кафе«академия»   нет        кафе   \n",
       "3   21894            пиццетория    да        кафе   \n",
       "4  119365  кафе«вишневаяметель»   нет        кафе   \n",
       "\n",
       "                                             address  number  \\\n",
       "0         город москва, улица егора абакумова, дом 9      48   \n",
       "1  город москва, улица талалихина, дом 2/1, корпус 1      35   \n",
       "2          город москва, абельмановская улица, дом 6      95   \n",
       "3            город москва, абрамцевская улица, дом 1      40   \n",
       "4  город москва, абрамцевская улица, дом 9, корпус 1      50   \n",
       "\n",
       "                   street          city  \n",
       "0   улица егора абакумова  город москва  \n",
       "1        улица талалихина  город москва  \n",
       "2    абельмановская улица  город москва  \n",
       "3      абрамцевская улица  город москва  \n",
       "4      абрамцевская улица  город москва  "
      ]
     },
     "execution_count": 29,
     "metadata": {},
     "output_type": "execute_result"
    }
   ],
   "source": [
    "rest_data['street'] = rest_data['address'].str.split(\",\")\n",
    "rest_data['city'] = rest_data['street'].apply(lambda x: x[0])\n",
    "rest_data['street'] = rest_data['street'].apply(lambda x: x[1])\n",
    "rest_data.head()"
   ]
  },
  {
   "cell_type": "code",
   "execution_count": 30,
   "metadata": {
    "scrolled": true
   },
   "outputs": [
    {
     "data": {
      "text/html": [
       "<div>\n",
       "<style scoped>\n",
       "    .dataframe tbody tr th:only-of-type {\n",
       "        vertical-align: middle;\n",
       "    }\n",
       "\n",
       "    .dataframe tbody tr th {\n",
       "        vertical-align: top;\n",
       "    }\n",
       "\n",
       "    .dataframe thead th {\n",
       "        text-align: right;\n",
       "    }\n",
       "</style>\n",
       "<table border=\"1\" class=\"dataframe\">\n",
       "  <thead>\n",
       "    <tr style=\"text-align: right;\">\n",
       "      <th></th>\n",
       "      <th>id</th>\n",
       "      <th>object_name</th>\n",
       "      <th>chain</th>\n",
       "      <th>object_type</th>\n",
       "      <th>address</th>\n",
       "      <th>number</th>\n",
       "      <th>street</th>\n",
       "      <th>city</th>\n",
       "      <th>district</th>\n",
       "    </tr>\n",
       "  </thead>\n",
       "  <tbody>\n",
       "    <tr>\n",
       "      <th>0</th>\n",
       "      <td>151635</td>\n",
       "      <td>сметана</td>\n",
       "      <td>нет</td>\n",
       "      <td>кафе</td>\n",
       "      <td>город москва, улица егора абакумова, дом 9</td>\n",
       "      <td>48</td>\n",
       "      <td>улица егора абакумова</td>\n",
       "      <td>город москва</td>\n",
       "      <td>ярославский район</td>\n",
       "    </tr>\n",
       "    <tr>\n",
       "      <th>1</th>\n",
       "      <td>77874</td>\n",
       "      <td>родник</td>\n",
       "      <td>нет</td>\n",
       "      <td>кафе</td>\n",
       "      <td>город москва, улица талалихина, дом 2/1, корпус 1</td>\n",
       "      <td>35</td>\n",
       "      <td>улица талалихина</td>\n",
       "      <td>город москва</td>\n",
       "      <td>таганский район</td>\n",
       "    </tr>\n",
       "    <tr>\n",
       "      <th>2</th>\n",
       "      <td>21894</td>\n",
       "      <td>пиццетория</td>\n",
       "      <td>да</td>\n",
       "      <td>кафе</td>\n",
       "      <td>город москва, абрамцевская улица, дом 1</td>\n",
       "      <td>40</td>\n",
       "      <td>абрамцевская улица</td>\n",
       "      <td>город москва</td>\n",
       "      <td>район лианозово</td>\n",
       "    </tr>\n",
       "    <tr>\n",
       "      <th>4</th>\n",
       "      <td>148815</td>\n",
       "      <td>брусника</td>\n",
       "      <td>да</td>\n",
       "      <td>кафе</td>\n",
       "      <td>город москва, переулок сивцев вражек, дом 6/2</td>\n",
       "      <td>10</td>\n",
       "      <td>переулок сивцев вражек</td>\n",
       "      <td>город москва</td>\n",
       "      <td>район арбат</td>\n",
       "    </tr>\n",
       "    <tr>\n",
       "      <th>5</th>\n",
       "      <td>20957</td>\n",
       "      <td>буфетмтуси</td>\n",
       "      <td>нет</td>\n",
       "      <td>столовая</td>\n",
       "      <td>город москва, авиамоторная улица, дом 8, строе...</td>\n",
       "      <td>90</td>\n",
       "      <td>авиамоторная улица</td>\n",
       "      <td>город москва</td>\n",
       "      <td>район лефортово</td>\n",
       "    </tr>\n",
       "  </tbody>\n",
       "</table>\n",
       "</div>"
      ],
      "text/plain": [
       "       id object_name chain object_type  \\\n",
       "0  151635     сметана   нет        кафе   \n",
       "1   77874      родник   нет        кафе   \n",
       "2   21894  пиццетория    да        кафе   \n",
       "4  148815    брусника    да        кафе   \n",
       "5   20957  буфетмтуси   нет    столовая   \n",
       "\n",
       "                                             address  number  \\\n",
       "0         город москва, улица егора абакумова, дом 9      48   \n",
       "1  город москва, улица талалихина, дом 2/1, корпус 1      35   \n",
       "2            город москва, абрамцевская улица, дом 1      40   \n",
       "4      город москва, переулок сивцев вражек, дом 6/2      10   \n",
       "5  город москва, авиамоторная улица, дом 8, строе...      90   \n",
       "\n",
       "                    street          city           district  \n",
       "0    улица егора абакумова  город москва  ярославский район  \n",
       "1         улица талалихина  город москва    таганский район  \n",
       "2       абрамцевская улица  город москва    район лианозово  \n",
       "4   переулок сивцев вражек  город москва        район арбат  \n",
       "5       авиамоторная улица  город москва    район лефортово  "
      ]
     },
     "execution_count": 30,
     "metadata": {},
     "output_type": "execute_result"
    }
   ],
   "source": [
    "# объединим таблицы\n",
    "rest_data = rest_data.merge(data_district, on='address', how='inner').drop_duplicates()\n",
    "rest_data.head()"
   ]
  },
  {
   "cell_type": "markdown",
   "metadata": {},
   "source": [
    "* **Построим график топ-10 улиц по количеству объектов общественного питания. В каких районах Москвы находятся эти улицы?**"
   ]
  },
  {
   "cell_type": "code",
   "execution_count": 31,
   "metadata": {},
   "outputs": [],
   "source": [
    "# группируем по улице и району\n",
    "top_street = (\n",
    "    rest_data\n",
    "    .groupby(['street', 'district'], as_index = False) \n",
    "    .agg({'id':'count'})   \n",
    ")\n",
    "# сортируем по убыванию\n",
    "top_street.columns = ['street', 'district', 'count'] \n",
    "top_street = top_street.sort_values(by= 'count', ascending=False).head(10)\n"
   ]
  },
  {
   "cell_type": "code",
   "execution_count": 32,
   "metadata": {},
   "outputs": [
    {
     "data": {
      "image/png": "[encoded data removed]",
      "text/plain": [
       "<Figure size 720x360 with 1 Axes>"
      ]
     },
     "metadata": {
      "needs_background": "light"
     },
     "output_type": "display_data"
    }
   ],
   "source": [
    "# \n",
    "f, ax = plt.subplots(figsize=(10, 5))\n",
    "ax=sns.barplot(y='street', x= 'count', data=top_street, color='c')\n",
    "plt.ylabel('Улица')\n",
    "plt.xlabel('Количество ПОП')\n",
    "plt.title('Топ-10 улиц по количеству ПОП')\n",
    "plt.show()"
   ]
  },
  {
   "cell_type": "markdown",
   "metadata": {},
   "source": [
    "#### Вывод ТОП-10"
   ]
  },
  {
   "cell_type": "code",
   "execution_count": 33,
   "metadata": {},
   "outputs": [
    {
     "name": "stdout",
     "output_type": "stream",
     "text": [
      "Топ-10 улиц по количеству ПОП:\n"
     ]
    },
    {
     "data": {
      "text/html": [
       "<div>\n",
       "<style scoped>\n",
       "    .dataframe tbody tr th:only-of-type {\n",
       "        vertical-align: middle;\n",
       "    }\n",
       "\n",
       "    .dataframe tbody tr th {\n",
       "        vertical-align: top;\n",
       "    }\n",
       "\n",
       "    .dataframe thead th {\n",
       "        text-align: right;\n",
       "    }\n",
       "</style>\n",
       "<table border=\"1\" class=\"dataframe\">\n",
       "  <thead>\n",
       "    <tr style=\"text-align: right;\">\n",
       "      <th></th>\n",
       "      <th>street</th>\n",
       "      <th>district</th>\n",
       "      <th>count</th>\n",
       "    </tr>\n",
       "  </thead>\n",
       "  <tbody>\n",
       "    <tr>\n",
       "      <th>985</th>\n",
       "      <td>пресненская набережная</td>\n",
       "      <td>пресненский район</td>\n",
       "      <td>135</td>\n",
       "    </tr>\n",
       "    <tr>\n",
       "      <th>975</th>\n",
       "      <td>поселение сосенское</td>\n",
       "      <td>поселение сосенское</td>\n",
       "      <td>101</td>\n",
       "    </tr>\n",
       "    <tr>\n",
       "      <th>1748</th>\n",
       "      <td>ходынский бульвар</td>\n",
       "      <td>хорошёвский район</td>\n",
       "      <td>99</td>\n",
       "    </tr>\n",
       "    <tr>\n",
       "      <th>1559</th>\n",
       "      <td>улица новый арбат</td>\n",
       "      <td>район арбат</td>\n",
       "      <td>87</td>\n",
       "    </tr>\n",
       "    <tr>\n",
       "      <th>1481</th>\n",
       "      <td>улица ленинская слобода</td>\n",
       "      <td>даниловский район</td>\n",
       "      <td>77</td>\n",
       "    </tr>\n",
       "    <tr>\n",
       "      <th>587</th>\n",
       "      <td>кировоградская улица</td>\n",
       "      <td>район чертаново центральное</td>\n",
       "      <td>76</td>\n",
       "    </tr>\n",
       "    <tr>\n",
       "      <th>666</th>\n",
       "      <td>ленинградское шоссе</td>\n",
       "      <td>войковский район</td>\n",
       "      <td>70</td>\n",
       "    </tr>\n",
       "    <tr>\n",
       "      <th>1593</th>\n",
       "      <td>улица покровка</td>\n",
       "      <td>басманный район</td>\n",
       "      <td>70</td>\n",
       "    </tr>\n",
       "    <tr>\n",
       "      <th>1043</th>\n",
       "      <td>пятницкая улица</td>\n",
       "      <td>район замоскворечье</td>\n",
       "      <td>64</td>\n",
       "    </tr>\n",
       "    <tr>\n",
       "      <th>653</th>\n",
       "      <td>кутузовский проспект</td>\n",
       "      <td>район фили-давыдково</td>\n",
       "      <td>63</td>\n",
       "    </tr>\n",
       "  </tbody>\n",
       "</table>\n",
       "</div>"
      ],
      "text/plain": [
       "                        street                     district  count\n",
       "985     пресненская набережная            пресненский район    135\n",
       "975        поселение сосенское          поселение сосенское    101\n",
       "1748         ходынский бульвар            хорошёвский район     99\n",
       "1559         улица новый арбат                  район арбат     87\n",
       "1481   улица ленинская слобода            даниловский район     77\n",
       "587       кировоградская улица  район чертаново центральное     76\n",
       "666        ленинградское шоссе             войковский район     70\n",
       "1593            улица покровка              басманный район     70\n",
       "1043           пятницкая улица          район замоскворечье     64\n",
       "653       кутузовский проспект         район фили-давыдково     63"
      ]
     },
     "execution_count": 33,
     "metadata": {},
     "output_type": "execute_result"
    }
   ],
   "source": [
    "print('Топ-10 улиц по количеству ПОП:')\n",
    "top_street"
   ]
  },
  {
   "cell_type": "markdown",
   "metadata": {},
   "source": [
    "* **Найдём число улиц с одним объектом общественного питания. В каких районах Москвы находятся эти улицы?**   "
   ]
  },
  {
   "cell_type": "code",
   "execution_count": 34,
   "metadata": {
    "scrolled": true
   },
   "outputs": [
    {
     "data": {
      "text/html": [
       "<div>\n",
       "<style scoped>\n",
       "    .dataframe tbody tr th:only-of-type {\n",
       "        vertical-align: middle;\n",
       "    }\n",
       "\n",
       "    .dataframe tbody tr th {\n",
       "        vertical-align: top;\n",
       "    }\n",
       "\n",
       "    .dataframe thead th {\n",
       "        text-align: right;\n",
       "    }\n",
       "</style>\n",
       "<table border=\"1\" class=\"dataframe\">\n",
       "  <thead>\n",
       "    <tr style=\"text-align: right;\">\n",
       "      <th></th>\n",
       "      <th>street</th>\n",
       "      <th>district</th>\n",
       "      <th>count_object</th>\n",
       "    </tr>\n",
       "  </thead>\n",
       "  <tbody>\n",
       "    <tr>\n",
       "      <th>1816</th>\n",
       "      <td>яузский бульвар</td>\n",
       "      <td>таганский район</td>\n",
       "      <td>1</td>\n",
       "    </tr>\n",
       "    <tr>\n",
       "      <th>1229</th>\n",
       "      <td>тихвинский переулок</td>\n",
       "      <td>тверской район</td>\n",
       "      <td>1</td>\n",
       "    </tr>\n",
       "    <tr>\n",
       "      <th>1228</th>\n",
       "      <td>тихвинская улица</td>\n",
       "      <td>тверской район</td>\n",
       "      <td>1</td>\n",
       "    </tr>\n",
       "    <tr>\n",
       "      <th>1227</th>\n",
       "      <td>тихвинская улица</td>\n",
       "      <td>район марьина роща</td>\n",
       "      <td>1</td>\n",
       "    </tr>\n",
       "    <tr>\n",
       "      <th>481</th>\n",
       "      <td>дом 38/14/23</td>\n",
       "      <td>таганский район</td>\n",
       "      <td>1</td>\n",
       "    </tr>\n",
       "    <tr>\n",
       "      <th>...</th>\n",
       "      <td>...</td>\n",
       "      <td>...</td>\n",
       "      <td>...</td>\n",
       "    </tr>\n",
       "    <tr>\n",
       "      <th>1527</th>\n",
       "      <td>улица медведева</td>\n",
       "      <td>район косино-ухтомский</td>\n",
       "      <td>1</td>\n",
       "    </tr>\n",
       "    <tr>\n",
       "      <th>241</th>\n",
       "      <td>бескудниковский проезд</td>\n",
       "      <td>бескудниковский район</td>\n",
       "      <td>1</td>\n",
       "    </tr>\n",
       "    <tr>\n",
       "      <th>1524</th>\n",
       "      <td>улица матросская тишина</td>\n",
       "      <td>район сокольники</td>\n",
       "      <td>1</td>\n",
       "    </tr>\n",
       "    <tr>\n",
       "      <th>240</th>\n",
       "      <td>бескудниковский переулок</td>\n",
       "      <td>бескудниковский район</td>\n",
       "      <td>1</td>\n",
       "    </tr>\n",
       "    <tr>\n",
       "      <th>243</th>\n",
       "      <td>библиотечная улица</td>\n",
       "      <td>таганский район</td>\n",
       "      <td>1</td>\n",
       "    </tr>\n",
       "  </tbody>\n",
       "</table>\n",
       "<p>617 rows × 3 columns</p>\n",
       "</div>"
      ],
      "text/plain": [
       "                         street                district  count_object\n",
       "1816            яузский бульвар         таганский район             1\n",
       "1229        тихвинский переулок          тверской район             1\n",
       "1228           тихвинская улица          тверской район             1\n",
       "1227           тихвинская улица      район марьина роща             1\n",
       "481                дом 38/14/23         таганский район             1\n",
       "...                         ...                     ...           ...\n",
       "1527            улица медведева  район косино-ухтомский             1\n",
       "241      бескудниковский проезд   бескудниковский район             1\n",
       "1524    улица матросская тишина        район сокольники             1\n",
       "240    бескудниковский переулок   бескудниковский район             1\n",
       "243          библиотечная улица         таганский район             1\n",
       "\n",
       "[617 rows x 3 columns]"
      ]
     },
     "execution_count": 34,
     "metadata": {},
     "output_type": "execute_result"
    }
   ],
   "source": [
    "#\n",
    "street_with_one_object = (\n",
    "    rest_data\n",
    "    .groupby(['street', 'district'], as_index = False)\n",
    "    .agg({'id':'count'})   \n",
    ")\n",
    "#\n",
    "street_with_one_object.columns = ['street', 'district', 'count_object'] \n",
    "street_with_one_object = street_with_one_object.sort_values(by= 'count_object')\n",
    "street_with_one_object = street_with_one_object.query('count_object == 1')\n",
    "street_with_one_object\n"
   ]
  },
  {
   "cell_type": "code",
   "execution_count": 35,
   "metadata": {
    "scrolled": true
   },
   "outputs": [
    {
     "data": {
      "text/html": [
       "<div>\n",
       "<style scoped>\n",
       "    .dataframe tbody tr th:only-of-type {\n",
       "        vertical-align: middle;\n",
       "    }\n",
       "\n",
       "    .dataframe tbody tr th {\n",
       "        vertical-align: top;\n",
       "    }\n",
       "\n",
       "    .dataframe thead th {\n",
       "        text-align: right;\n",
       "    }\n",
       "</style>\n",
       "<table border=\"1\" class=\"dataframe\">\n",
       "  <thead>\n",
       "    <tr style=\"text-align: right;\">\n",
       "      <th></th>\n",
       "      <th>district</th>\n",
       "      <th>count_street</th>\n",
       "    </tr>\n",
       "  </thead>\n",
       "  <tbody>\n",
       "    <tr>\n",
       "      <th>60</th>\n",
       "      <td>район левобережный</td>\n",
       "      <td>1</td>\n",
       "    </tr>\n",
       "    <tr>\n",
       "      <th>83</th>\n",
       "      <td>район проспект вернадского</td>\n",
       "      <td>1</td>\n",
       "    </tr>\n",
       "    <tr>\n",
       "      <th>30</th>\n",
       "      <td>поселение щербинка</td>\n",
       "      <td>1</td>\n",
       "    </tr>\n",
       "    <tr>\n",
       "      <th>29</th>\n",
       "      <td>поселение сосенское</td>\n",
       "      <td>1</td>\n",
       "    </tr>\n",
       "    <tr>\n",
       "      <th>28</th>\n",
       "      <td>поселение роговское</td>\n",
       "      <td>1</td>\n",
       "    </tr>\n",
       "    <tr>\n",
       "      <th>...</th>\n",
       "      <td>...</td>\n",
       "      <td>...</td>\n",
       "    </tr>\n",
       "    <tr>\n",
       "      <th>116</th>\n",
       "      <td>тверской район</td>\n",
       "      <td>19</td>\n",
       "    </tr>\n",
       "    <tr>\n",
       "      <th>31</th>\n",
       "      <td>пресненский район</td>\n",
       "      <td>23</td>\n",
       "    </tr>\n",
       "    <tr>\n",
       "      <th>101</th>\n",
       "      <td>район хамовники</td>\n",
       "      <td>25</td>\n",
       "    </tr>\n",
       "    <tr>\n",
       "      <th>4</th>\n",
       "      <td>басманный район</td>\n",
       "      <td>27</td>\n",
       "    </tr>\n",
       "    <tr>\n",
       "      <th>115</th>\n",
       "      <td>таганский район</td>\n",
       "      <td>29</td>\n",
       "    </tr>\n",
       "  </tbody>\n",
       "</table>\n",
       "<p>121 rows × 2 columns</p>\n",
       "</div>"
      ],
      "text/plain": [
       "                       district  count_street\n",
       "60           район левобережный             1\n",
       "83   район проспект вернадского             1\n",
       "30           поселение щербинка             1\n",
       "29          поселение сосенское             1\n",
       "28          поселение роговское             1\n",
       "..                          ...           ...\n",
       "116              тверской район            19\n",
       "31            пресненский район            23\n",
       "101             район хамовники            25\n",
       "4               басманный район            27\n",
       "115             таганский район            29\n",
       "\n",
       "[121 rows x 2 columns]"
      ]
     },
     "execution_count": 35,
     "metadata": {},
     "output_type": "execute_result"
    }
   ],
   "source": [
    "#\n",
    "street_with_one_object = (\n",
    "    street_with_one_object\n",
    "    .groupby('district', as_index = False)\n",
    "    .agg({'street':'count'})   \n",
    ")\n",
    "#\n",
    "street_with_one_object.columns = ['district', 'count_street'] \n",
    "street_with_one_object = street_with_one_object.sort_values(by= 'count_street')\n",
    "#street_with_one_object = street_with_one_object.query('count == 1')\n",
    "street_with_one_object\n"
   ]
  },
  {
   "cell_type": "markdown",
   "metadata": {},
   "source": [
    "#### Вывод: улицы с одним объектом ПОП\n",
    "По одному ПОП нахоится на 617-ти улицах в 121-м районе Москвы (включая поселения), т.е. почти в каждом районе есть улица с одним ПОП.       \n",
    "Для справки: в Москве 125 районов и 21 поселение. "
   ]
  },
  {
   "cell_type": "code",
   "execution_count": 36,
   "metadata": {
    "scrolled": true
   },
   "outputs": [
    {
     "name": "stdout",
     "output_type": "stream",
     "text": [
      "Улицы с одним объектом общественного питания находятся в следующих районах:\n"
     ]
    },
    {
     "data": {
      "text/plain": [
       "array(['район левобережный', 'район проспект вернадского',\n",
       "       'поселение щербинка', 'поселение сосенское', 'поселение роговское',\n",
       "       'поселение московский', 'поселение михайлово-ярцевское',\n",
       "       'поселение марушкинское', 'поселение кокошкино',\n",
       "       'поселение вороновское', 'поселение внуковское',\n",
       "       'поселение \"мосрентген\"', 'район орехово-борисово южное',\n",
       "       'район северный', 'район орехово-борисово северное',\n",
       "       'район северное тушино', 'район западное дегунино',\n",
       "       'район москворечье-сабурово', 'район коптево', 'район ховрино',\n",
       "       'район царицыно', 'район чертаново южное', 'район тёплый стан',\n",
       "       'район капотня', 'район южное медведково', 'район крылатское',\n",
       "       'район вешняки', 'район нагатинский затон', 'район некрасовка',\n",
       "       'район перово', 'район восточный', 'район ново-переделкино',\n",
       "       'район братеево', 'район ивановское', 'район печатники',\n",
       "       'район лианозово', 'алтуфьевский район', 'останкинский район',\n",
       "       'войковский район', 'район северное измайлово',\n",
       "       'ломоносовский район', 'район бирюлёво западное', 'район марфино',\n",
       "       'район куркино', 'район нагатино-садовники', 'район ясенево',\n",
       "       'район черёмушки', 'район бирюлёво восточное', 'дмитровский район',\n",
       "       'район строгино', 'район гольяново', 'район отрадное',\n",
       "       'район северное бутово', 'район очаково-матвеевское',\n",
       "       'район покровское-стрешнево', 'район филёвский парк',\n",
       "       'район южное тушино', 'район люблино', 'савёловский район',\n",
       "       'район митино', 'район метрогородок', 'район преображенское',\n",
       "       'район ростокино', 'академический район', 'район зюзино',\n",
       "       'бескудниковский район', 'район беговой', 'бутырский район',\n",
       "       'донской район', 'район коньково', 'район восточное измайлово',\n",
       "       'район северное медведково', 'нагорный район',\n",
       "       'район текстильщики', 'район сокол', 'район фили-давыдково',\n",
       "       'район котловка', 'район марьино', 'район лефортово',\n",
       "       'головинский район', 'нижегородский район', 'обручевский район',\n",
       "       'район свиблово', 'район раменки', 'ярославский район',\n",
       "       'район косино-ухтомский', 'район дорогомилово', 'район кунцево',\n",
       "       'район кузьминки', 'район новогиреево', 'хорошёвский район',\n",
       "       'алексеевский район', 'рязанский район', 'район марьина роща',\n",
       "       'даниловский район', 'район измайлово', 'южнопортовый район',\n",
       "       'район солнцево', 'район внуково', 'район выхино-жулебино',\n",
       "       'район соколиная гора', 'лосиноостровский район',\n",
       "       'район богородское', 'бабушкинский район', 'район замоскворечье',\n",
       "       'район щукино', 'тимирязевский район', 'район южное бутово',\n",
       "       'район хорошёво-мнёвники', 'район арбат', 'район якиманка',\n",
       "       'мещанский район', 'красносельский район', 'район аэропорт',\n",
       "       'можайский район', 'район сокольники', 'тверской район',\n",
       "       'пресненский район', 'район хамовники', 'басманный район',\n",
       "       'таганский район'], dtype=object)"
      ]
     },
     "execution_count": 36,
     "metadata": {},
     "output_type": "execute_result"
    }
   ],
   "source": [
    "print('Улицы с одним объектом общественного питания находятся в следующих районах:')\n",
    "street_with_one_object['district'].unique()"
   ]
  },
  {
   "cell_type": "markdown",
   "metadata": {},
   "source": [
    "Наличие на улице одного заведения ПОП не дает оснований делать какие-либо выводы. Надо провести дополнительные исследования."
   ]
  },
  {
   "cell_type": "markdown",
   "metadata": {},
   "source": [
    "## Общий вывод\n"
   ]
  },
  {
   "cell_type": "markdown",
   "metadata": {},
   "source": [
    "* Самый распространенный тип ПОП  - кафе, встречается чаще в 2,5 раза\n",
    "* Несетевые заведения преобладают над сетевыми 4:1.\n",
    "* Наибольшее количество посадочных мест характерны для столовых (112) и ресторанов (100).\n",
    "* Наибольшая концентрация заведений характерна для районов с высокой проходимостью."
   ]
  },
  {
   "cell_type": "markdown",
   "metadata": {},
   "source": [
    "**Рекомендации:**   \n",
    "Предлагаю рассмотреть тип - кафе с 40-60 количеством посадочных мест в туристических районах города."
   ]
  },
  {
   "cell_type": "markdown",
   "metadata": {},
   "source": [
    "## Шаг №3. Презентация"
   ]
  },
  {
   "cell_type": "markdown",
   "metadata": {},
   "source": [
    "**`Презентация доступна по ссылке:`**"
   ]
  },
  {
   "cell_type": "markdown",
   "metadata": {},
   "source": [
    "https://drive.google.com/file/d/14NTLl2er9Ldjk_-otMr31jT_C26puEVv/view?usp=sharing"
   ]
  }
 ],
 "metadata": {
  "ExecuteTimeLog": [
   {
    "duration": 1125,
    "start_time": "2022-08-25T15:35:26.895Z"
   },
   {
    "duration": 126,
    "start_time": "2022-08-25T15:36:14.346Z"
   },
   {
    "duration": 15,
    "start_time": "2022-08-25T15:36:27.509Z"
   },
   {
    "duration": 16,
    "start_time": "2022-08-25T15:36:49.734Z"
   },
   {
    "duration": 8,
    "start_time": "2022-08-25T15:48:16.146Z"
   },
   {
    "duration": 75,
    "start_time": "2022-08-25T15:49:48.395Z"
   },
   {
    "duration": 5,
    "start_time": "2022-08-25T15:50:52.346Z"
   },
   {
    "duration": 7,
    "start_time": "2022-08-25T15:51:27.377Z"
   },
   {
    "duration": 22,
    "start_time": "2022-08-25T15:54:40.184Z"
   },
   {
    "duration": 63,
    "start_time": "2022-08-25T16:49:05.966Z"
   },
   {
    "duration": 399,
    "start_time": "2022-08-25T16:49:12.499Z"
   },
   {
    "duration": 273,
    "start_time": "2022-08-25T16:49:12.900Z"
   },
   {
    "duration": 25,
    "start_time": "2022-08-25T16:49:13.174Z"
   },
   {
    "duration": 18,
    "start_time": "2022-08-25T16:49:13.201Z"
   },
   {
    "duration": 5,
    "start_time": "2022-08-25T16:49:13.221Z"
   },
   {
    "duration": 8,
    "start_time": "2022-08-25T16:49:13.227Z"
   },
   {
    "duration": 21,
    "start_time": "2022-08-25T16:49:13.236Z"
   },
   {
    "duration": 75,
    "start_time": "2022-08-25T16:49:13.259Z"
   },
   {
    "duration": 4,
    "start_time": "2022-08-25T16:55:23.351Z"
   },
   {
    "duration": 82,
    "start_time": "2022-08-25T16:56:21.634Z"
   },
   {
    "duration": 15,
    "start_time": "2022-08-25T16:56:31.306Z"
   },
   {
    "duration": 18,
    "start_time": "2022-08-25T16:57:26.004Z"
   },
   {
    "duration": 373,
    "start_time": "2022-08-25T16:57:37.824Z"
   },
   {
    "duration": 69,
    "start_time": "2022-08-25T16:57:38.198Z"
   },
   {
    "duration": 13,
    "start_time": "2022-08-25T16:57:38.269Z"
   },
   {
    "duration": 22,
    "start_time": "2022-08-25T16:57:38.285Z"
   },
   {
    "duration": 16,
    "start_time": "2022-08-25T16:57:38.309Z"
   },
   {
    "duration": 5,
    "start_time": "2022-08-25T16:57:38.326Z"
   },
   {
    "duration": 10,
    "start_time": "2022-08-25T16:57:38.333Z"
   },
   {
    "duration": 22,
    "start_time": "2022-08-25T16:57:38.345Z"
   },
   {
    "duration": 51,
    "start_time": "2022-08-25T16:57:38.368Z"
   },
   {
    "duration": 62,
    "start_time": "2022-08-25T17:24:50.790Z"
   },
   {
    "duration": 16,
    "start_time": "2022-08-25T17:25:22.919Z"
   },
   {
    "duration": 29,
    "start_time": "2022-08-25T17:25:45.725Z"
   },
   {
    "duration": 30,
    "start_time": "2022-08-25T17:26:27.010Z"
   },
   {
    "duration": 6,
    "start_time": "2022-08-25T17:27:34.972Z"
   },
   {
    "duration": 8,
    "start_time": "2022-08-25T17:30:20.768Z"
   },
   {
    "duration": 6,
    "start_time": "2022-08-25T17:30:50.619Z"
   },
   {
    "duration": 2,
    "start_time": "2022-08-25T17:36:34.236Z"
   },
   {
    "duration": 8,
    "start_time": "2022-08-25T17:36:47.876Z"
   },
   {
    "duration": 48,
    "start_time": "2022-08-25T17:52:56.119Z"
   },
   {
    "duration": 15,
    "start_time": "2022-08-25T17:53:25.056Z"
   },
   {
    "duration": 11,
    "start_time": "2022-08-25T17:53:54.196Z"
   },
   {
    "duration": 16,
    "start_time": "2022-08-25T17:54:01.952Z"
   },
   {
    "duration": 2,
    "start_time": "2022-08-25T18:59:47.054Z"
   },
   {
    "duration": 12,
    "start_time": "2022-08-25T19:00:47.863Z"
   },
   {
    "duration": 24,
    "start_time": "2022-08-25T19:01:21.566Z"
   },
   {
    "duration": 16,
    "start_time": "2022-08-25T19:02:48.062Z"
   },
   {
    "duration": 7,
    "start_time": "2022-08-25T19:04:10.532Z"
   },
   {
    "duration": 15,
    "start_time": "2022-08-25T19:05:37.683Z"
   },
   {
    "duration": 4,
    "start_time": "2022-08-25T19:08:23.962Z"
   },
   {
    "duration": 24,
    "start_time": "2022-08-25T19:08:32.567Z"
   },
   {
    "duration": 14,
    "start_time": "2022-08-25T19:08:44.267Z"
   },
   {
    "duration": 21,
    "start_time": "2022-08-25T19:10:11.977Z"
   },
   {
    "duration": 29,
    "start_time": "2022-08-25T19:11:03.233Z"
   },
   {
    "duration": 10,
    "start_time": "2022-08-25T19:17:51.642Z"
   },
   {
    "duration": 8,
    "start_time": "2022-08-25T19:18:02.960Z"
   },
   {
    "duration": 8,
    "start_time": "2022-08-25T19:18:14.946Z"
   },
   {
    "duration": 34,
    "start_time": "2022-08-25T19:19:25.181Z"
   },
   {
    "duration": 9,
    "start_time": "2022-08-25T19:21:29.343Z"
   },
   {
    "duration": 11,
    "start_time": "2022-08-25T19:21:54.920Z"
   },
   {
    "duration": 4,
    "start_time": "2022-08-25T19:22:14.629Z"
   },
   {
    "duration": 28,
    "start_time": "2022-08-25T19:28:01.175Z"
   },
   {
    "duration": 17,
    "start_time": "2022-08-25T19:36:11.603Z"
   },
   {
    "duration": 21,
    "start_time": "2022-08-25T19:37:16.754Z"
   },
   {
    "duration": 10,
    "start_time": "2022-08-25T19:46:36.303Z"
   },
   {
    "duration": 8,
    "start_time": "2022-08-25T19:48:00.763Z"
   },
   {
    "duration": 14,
    "start_time": "2022-08-25T19:48:11.088Z"
   },
   {
    "duration": 8,
    "start_time": "2022-08-25T19:49:36.605Z"
   },
   {
    "duration": 19,
    "start_time": "2022-08-25T19:49:39.874Z"
   },
   {
    "duration": 409,
    "start_time": "2022-08-25T19:50:48.769Z"
   },
   {
    "duration": 68,
    "start_time": "2022-08-25T19:50:49.179Z"
   },
   {
    "duration": 12,
    "start_time": "2022-08-25T19:50:49.249Z"
   },
   {
    "duration": 15,
    "start_time": "2022-08-25T19:50:49.263Z"
   },
   {
    "duration": 21,
    "start_time": "2022-08-25T19:50:49.281Z"
   },
   {
    "duration": 5,
    "start_time": "2022-08-25T19:50:49.303Z"
   },
   {
    "duration": 11,
    "start_time": "2022-08-25T19:50:49.309Z"
   },
   {
    "duration": 18,
    "start_time": "2022-08-25T19:50:49.321Z"
   },
   {
    "duration": 25,
    "start_time": "2022-08-25T19:50:49.341Z"
   },
   {
    "duration": 22,
    "start_time": "2022-08-25T19:50:49.368Z"
   },
   {
    "duration": 25,
    "start_time": "2022-08-25T19:50:49.391Z"
   },
   {
    "duration": 7,
    "start_time": "2022-08-25T19:50:49.418Z"
   },
   {
    "duration": 29,
    "start_time": "2022-08-25T19:50:49.427Z"
   },
   {
    "duration": 7,
    "start_time": "2022-08-25T19:50:49.459Z"
   },
   {
    "duration": 34,
    "start_time": "2022-08-25T19:50:49.468Z"
   },
   {
    "duration": 54,
    "start_time": "2022-08-25T19:52:00.047Z"
   },
   {
    "duration": 399,
    "start_time": "2022-08-25T19:52:22.304Z"
   },
   {
    "duration": 71,
    "start_time": "2022-08-25T19:52:22.704Z"
   },
   {
    "duration": 22,
    "start_time": "2022-08-25T19:52:22.777Z"
   },
   {
    "duration": 16,
    "start_time": "2022-08-25T19:52:22.801Z"
   },
   {
    "duration": 16,
    "start_time": "2022-08-25T19:52:22.820Z"
   },
   {
    "duration": 5,
    "start_time": "2022-08-25T19:52:22.838Z"
   },
   {
    "duration": 7,
    "start_time": "2022-08-25T19:52:22.844Z"
   },
   {
    "duration": 34,
    "start_time": "2022-08-25T19:52:22.853Z"
   },
   {
    "duration": 47,
    "start_time": "2022-08-25T19:52:22.898Z"
   },
   {
    "duration": 3,
    "start_time": "2022-08-25T19:52:22.946Z"
   },
   {
    "duration": 15,
    "start_time": "2022-08-25T19:52:22.950Z"
   },
   {
    "duration": 5,
    "start_time": "2022-08-25T19:52:22.967Z"
   },
   {
    "duration": 39,
    "start_time": "2022-08-25T19:52:22.973Z"
   },
   {
    "duration": 7,
    "start_time": "2022-08-25T19:52:23.015Z"
   },
   {
    "duration": 26,
    "start_time": "2022-08-25T19:52:23.023Z"
   },
   {
    "duration": 403,
    "start_time": "2022-08-25T19:52:34.963Z"
   },
   {
    "duration": 72,
    "start_time": "2022-08-25T19:52:35.368Z"
   },
   {
    "duration": 14,
    "start_time": "2022-08-25T19:52:35.441Z"
   },
   {
    "duration": 14,
    "start_time": "2022-08-25T19:52:35.457Z"
   },
   {
    "duration": 31,
    "start_time": "2022-08-25T19:52:35.474Z"
   },
   {
    "duration": 4,
    "start_time": "2022-08-25T19:52:35.506Z"
   },
   {
    "duration": 9,
    "start_time": "2022-08-25T19:52:35.512Z"
   },
   {
    "duration": 18,
    "start_time": "2022-08-25T19:52:35.522Z"
   },
   {
    "duration": 59,
    "start_time": "2022-08-25T19:52:35.541Z"
   },
   {
    "duration": 2,
    "start_time": "2022-08-25T19:52:35.602Z"
   },
   {
    "duration": 17,
    "start_time": "2022-08-25T19:52:35.605Z"
   },
   {
    "duration": 13,
    "start_time": "2022-08-25T19:52:35.623Z"
   },
   {
    "duration": 29,
    "start_time": "2022-08-25T19:52:35.637Z"
   },
   {
    "duration": 6,
    "start_time": "2022-08-25T19:52:35.668Z"
   },
   {
    "duration": 26,
    "start_time": "2022-08-25T19:52:35.676Z"
   },
   {
    "duration": 2,
    "start_time": "2022-08-25T19:52:51.313Z"
   },
   {
    "duration": 2,
    "start_time": "2022-08-25T19:53:03.041Z"
   },
   {
    "duration": 360,
    "start_time": "2022-08-25T19:53:21.654Z"
   },
   {
    "duration": 68,
    "start_time": "2022-08-25T19:53:22.016Z"
   },
   {
    "duration": 21,
    "start_time": "2022-08-25T19:53:22.086Z"
   },
   {
    "duration": 29,
    "start_time": "2022-08-25T19:53:22.109Z"
   },
   {
    "duration": 19,
    "start_time": "2022-08-25T19:53:22.139Z"
   },
   {
    "duration": 4,
    "start_time": "2022-08-25T19:53:22.160Z"
   },
   {
    "duration": 11,
    "start_time": "2022-08-25T19:53:22.165Z"
   },
   {
    "duration": 39,
    "start_time": "2022-08-25T19:53:22.177Z"
   },
   {
    "duration": 34,
    "start_time": "2022-08-25T19:53:22.218Z"
   },
   {
    "duration": 2,
    "start_time": "2022-08-25T19:53:22.254Z"
   },
   {
    "duration": 21,
    "start_time": "2022-08-25T19:53:22.257Z"
   },
   {
    "duration": 6,
    "start_time": "2022-08-25T19:53:22.279Z"
   },
   {
    "duration": 48,
    "start_time": "2022-08-25T19:53:22.286Z"
   },
   {
    "duration": 3,
    "start_time": "2022-08-25T19:53:22.335Z"
   },
   {
    "duration": 13,
    "start_time": "2022-08-25T19:53:22.339Z"
   },
   {
    "duration": 34,
    "start_time": "2022-08-25T19:54:25.620Z"
   },
   {
    "duration": 51,
    "start_time": "2022-08-25T20:01:36.719Z"
   },
   {
    "duration": 66,
    "start_time": "2022-08-25T20:02:37.267Z"
   },
   {
    "duration": 71,
    "start_time": "2022-08-25T20:03:22.144Z"
   },
   {
    "duration": 30,
    "start_time": "2022-08-25T20:03:40.165Z"
   },
   {
    "duration": 81,
    "start_time": "2022-08-25T20:05:41.614Z"
   },
   {
    "duration": 20,
    "start_time": "2022-08-25T20:05:47.281Z"
   },
   {
    "duration": 83,
    "start_time": "2022-08-25T20:10:36.533Z"
   },
   {
    "duration": 19,
    "start_time": "2022-08-25T20:10:42.324Z"
   },
   {
    "duration": 18,
    "start_time": "2022-08-25T20:13:03.720Z"
   },
   {
    "duration": 70,
    "start_time": "2022-08-25T20:13:53.242Z"
   },
   {
    "duration": 7,
    "start_time": "2022-08-25T20:15:08.099Z"
   },
   {
    "duration": 5,
    "start_time": "2022-08-25T20:21:13.322Z"
   },
   {
    "duration": 642,
    "start_time": "2022-08-25T20:21:26.890Z"
   },
   {
    "duration": 13,
    "start_time": "2022-08-25T20:21:56.192Z"
   },
   {
    "duration": 14,
    "start_time": "2022-08-25T20:22:53.423Z"
   },
   {
    "duration": 370,
    "start_time": "2022-08-25T20:24:04.425Z"
   },
   {
    "duration": 73,
    "start_time": "2022-08-25T20:24:04.797Z"
   },
   {
    "duration": 14,
    "start_time": "2022-08-25T20:24:04.872Z"
   },
   {
    "duration": 32,
    "start_time": "2022-08-25T20:24:04.889Z"
   },
   {
    "duration": 6,
    "start_time": "2022-08-25T20:24:04.924Z"
   },
   {
    "duration": 21,
    "start_time": "2022-08-25T20:24:04.931Z"
   },
   {
    "duration": 6,
    "start_time": "2022-08-25T20:24:04.953Z"
   },
   {
    "duration": 7,
    "start_time": "2022-08-25T20:24:04.960Z"
   },
   {
    "duration": 48,
    "start_time": "2022-08-25T20:24:04.969Z"
   },
   {
    "duration": 89,
    "start_time": "2022-08-25T20:24:05.019Z"
   },
   {
    "duration": 2,
    "start_time": "2022-08-25T20:24:05.110Z"
   },
   {
    "duration": 17,
    "start_time": "2022-08-25T20:24:05.113Z"
   },
   {
    "duration": 6,
    "start_time": "2022-08-25T20:24:05.131Z"
   },
   {
    "duration": 22,
    "start_time": "2022-08-25T20:24:05.140Z"
   },
   {
    "duration": 2,
    "start_time": "2022-08-25T20:24:05.188Z"
   },
   {
    "duration": 8,
    "start_time": "2022-08-25T20:24:05.199Z"
   },
   {
    "duration": 18,
    "start_time": "2022-08-25T20:24:05.209Z"
   },
   {
    "duration": 12,
    "start_time": "2022-08-25T20:24:53.950Z"
   },
   {
    "duration": 14,
    "start_time": "2022-08-25T20:25:02.571Z"
   },
   {
    "duration": 39,
    "start_time": "2022-08-25T20:29:03.875Z"
   },
   {
    "duration": 20,
    "start_time": "2022-08-25T20:29:32.635Z"
   },
   {
    "duration": 16,
    "start_time": "2022-08-25T20:30:14.136Z"
   },
   {
    "duration": 406,
    "start_time": "2022-08-25T20:30:45.702Z"
   },
   {
    "duration": 67,
    "start_time": "2022-08-25T20:30:46.110Z"
   },
   {
    "duration": 30,
    "start_time": "2022-08-25T20:30:46.180Z"
   },
   {
    "duration": 32,
    "start_time": "2022-08-25T20:30:46.214Z"
   },
   {
    "duration": 14,
    "start_time": "2022-08-25T20:30:46.248Z"
   },
   {
    "duration": 29,
    "start_time": "2022-08-25T20:30:46.265Z"
   },
   {
    "duration": 22,
    "start_time": "2022-08-25T20:30:46.300Z"
   },
   {
    "duration": 13,
    "start_time": "2022-08-25T20:30:46.324Z"
   },
   {
    "duration": 30,
    "start_time": "2022-08-25T20:30:46.339Z"
   },
   {
    "duration": 96,
    "start_time": "2022-08-25T20:30:46.372Z"
   },
   {
    "duration": 2,
    "start_time": "2022-08-25T20:30:46.470Z"
   },
   {
    "duration": 31,
    "start_time": "2022-08-25T20:30:46.474Z"
   },
   {
    "duration": 15,
    "start_time": "2022-08-25T20:30:46.508Z"
   },
   {
    "duration": 28,
    "start_time": "2022-08-25T20:30:46.529Z"
   },
   {
    "duration": 3,
    "start_time": "2022-08-25T20:30:46.559Z"
   },
   {
    "duration": 16,
    "start_time": "2022-08-25T20:30:46.564Z"
   },
   {
    "duration": 35,
    "start_time": "2022-08-25T20:30:46.582Z"
   },
   {
    "duration": 21,
    "start_time": "2022-08-25T20:30:46.619Z"
   },
   {
    "duration": 20,
    "start_time": "2022-08-25T20:30:46.642Z"
   },
   {
    "duration": 3,
    "start_time": "2022-08-25T20:31:20.082Z"
   },
   {
    "duration": 14,
    "start_time": "2022-08-25T20:35:13.587Z"
   },
   {
    "duration": 454,
    "start_time": "2022-08-25T20:36:43.070Z"
   },
   {
    "duration": 70,
    "start_time": "2022-08-25T20:36:43.525Z"
   },
   {
    "duration": 19,
    "start_time": "2022-08-25T20:36:43.597Z"
   },
   {
    "duration": 32,
    "start_time": "2022-08-25T20:36:43.619Z"
   },
   {
    "duration": 17,
    "start_time": "2022-08-25T20:36:43.653Z"
   },
   {
    "duration": 33,
    "start_time": "2022-08-25T20:36:43.671Z"
   },
   {
    "duration": 25,
    "start_time": "2022-08-25T20:36:43.706Z"
   },
   {
    "duration": 26,
    "start_time": "2022-08-25T20:36:43.733Z"
   },
   {
    "duration": 50,
    "start_time": "2022-08-25T20:36:43.761Z"
   },
   {
    "duration": 79,
    "start_time": "2022-08-25T20:36:43.813Z"
   },
   {
    "duration": 13,
    "start_time": "2022-08-25T20:36:43.894Z"
   },
   {
    "duration": 33,
    "start_time": "2022-08-25T20:36:43.909Z"
   },
   {
    "duration": 54,
    "start_time": "2022-08-25T20:36:43.944Z"
   },
   {
    "duration": 17,
    "start_time": "2022-08-25T20:36:43.999Z"
   },
   {
    "duration": 52,
    "start_time": "2022-08-25T20:36:44.017Z"
   },
   {
    "duration": 3,
    "start_time": "2022-08-25T20:36:44.070Z"
   },
   {
    "duration": 440,
    "start_time": "2022-08-25T20:39:56.852Z"
   },
   {
    "duration": 71,
    "start_time": "2022-08-25T20:39:57.295Z"
   },
   {
    "duration": 15,
    "start_time": "2022-08-25T20:39:57.367Z"
   },
   {
    "duration": 15,
    "start_time": "2022-08-25T20:39:57.383Z"
   },
   {
    "duration": 6,
    "start_time": "2022-08-25T20:39:57.400Z"
   },
   {
    "duration": 22,
    "start_time": "2022-08-25T20:39:57.407Z"
   },
   {
    "duration": 7,
    "start_time": "2022-08-25T20:39:57.431Z"
   },
   {
    "duration": 9,
    "start_time": "2022-08-25T20:39:57.439Z"
   },
   {
    "duration": 51,
    "start_time": "2022-08-25T20:39:57.450Z"
   },
   {
    "duration": 100,
    "start_time": "2022-08-25T20:39:57.503Z"
   },
   {
    "duration": 17,
    "start_time": "2022-08-25T20:39:57.605Z"
   },
   {
    "duration": 18,
    "start_time": "2022-08-25T20:39:57.625Z"
   },
   {
    "duration": 50,
    "start_time": "2022-08-25T20:39:57.646Z"
   },
   {
    "duration": 15,
    "start_time": "2022-08-25T20:39:57.699Z"
   },
   {
    "duration": 13,
    "start_time": "2022-08-25T20:39:57.716Z"
   },
   {
    "duration": 14,
    "start_time": "2022-08-25T20:39:57.731Z"
   },
   {
    "duration": 4,
    "start_time": "2022-08-25T20:41:41.409Z"
   },
   {
    "duration": 5,
    "start_time": "2022-08-25T20:51:10.255Z"
   },
   {
    "duration": 69,
    "start_time": "2022-08-25T20:51:27.584Z"
   },
   {
    "duration": 9,
    "start_time": "2022-08-25T20:51:47.229Z"
   },
   {
    "duration": 7,
    "start_time": "2022-08-25T20:51:52.726Z"
   },
   {
    "duration": 52,
    "start_time": "2022-08-25T20:56:31.115Z"
   },
   {
    "duration": 3,
    "start_time": "2022-08-25T20:56:43.049Z"
   },
   {
    "duration": 4,
    "start_time": "2022-08-25T20:56:47.919Z"
   },
   {
    "duration": 56,
    "start_time": "2022-08-25T20:57:05.207Z"
   },
   {
    "duration": 4,
    "start_time": "2022-08-25T20:57:13.061Z"
   },
   {
    "duration": 3,
    "start_time": "2022-08-25T20:57:58.829Z"
   },
   {
    "duration": 4,
    "start_time": "2022-08-25T20:58:49.126Z"
   },
   {
    "duration": 3,
    "start_time": "2022-08-25T20:59:13.567Z"
   },
   {
    "duration": 4,
    "start_time": "2022-08-25T20:59:25.886Z"
   },
   {
    "duration": 3,
    "start_time": "2022-08-25T20:59:34.793Z"
   },
   {
    "duration": 74,
    "start_time": "2022-08-25T21:00:22.008Z"
   },
   {
    "duration": 3,
    "start_time": "2022-08-25T21:00:30.136Z"
   },
   {
    "duration": 8,
    "start_time": "2022-08-25T21:00:50.180Z"
   },
   {
    "duration": 3,
    "start_time": "2022-08-25T21:01:10.755Z"
   },
   {
    "duration": 58,
    "start_time": "2022-08-25T21:01:51.041Z"
   },
   {
    "duration": 13,
    "start_time": "2022-08-25T21:01:56.937Z"
   },
   {
    "duration": 391,
    "start_time": "2022-08-25T21:02:05.649Z"
   },
   {
    "duration": 77,
    "start_time": "2022-08-25T21:02:06.042Z"
   },
   {
    "duration": 14,
    "start_time": "2022-08-25T21:02:06.121Z"
   },
   {
    "duration": 14,
    "start_time": "2022-08-25T21:02:06.137Z"
   },
   {
    "duration": 5,
    "start_time": "2022-08-25T21:02:06.153Z"
   },
   {
    "duration": 49,
    "start_time": "2022-08-25T21:02:06.160Z"
   },
   {
    "duration": 70,
    "start_time": "2022-08-25T21:02:06.211Z"
   },
   {
    "duration": 0,
    "start_time": "2022-08-25T21:02:06.288Z"
   },
   {
    "duration": 0,
    "start_time": "2022-08-25T21:02:06.289Z"
   },
   {
    "duration": 0,
    "start_time": "2022-08-25T21:02:06.290Z"
   },
   {
    "duration": 0,
    "start_time": "2022-08-25T21:02:06.292Z"
   },
   {
    "duration": 0,
    "start_time": "2022-08-25T21:02:06.295Z"
   },
   {
    "duration": 0,
    "start_time": "2022-08-25T21:02:06.296Z"
   },
   {
    "duration": 0,
    "start_time": "2022-08-25T21:02:06.298Z"
   },
   {
    "duration": 0,
    "start_time": "2022-08-25T21:02:06.298Z"
   },
   {
    "duration": 0,
    "start_time": "2022-08-25T21:02:06.299Z"
   },
   {
    "duration": 0,
    "start_time": "2022-08-25T21:02:06.300Z"
   },
   {
    "duration": 4,
    "start_time": "2022-08-25T21:04:20.416Z"
   },
   {
    "duration": 3,
    "start_time": "2022-08-25T21:05:57.757Z"
   },
   {
    "duration": 8,
    "start_time": "2022-08-25T21:06:19.415Z"
   },
   {
    "duration": 13,
    "start_time": "2022-08-25T21:06:31.951Z"
   },
   {
    "duration": 389,
    "start_time": "2022-08-25T21:07:13.740Z"
   },
   {
    "duration": 72,
    "start_time": "2022-08-25T21:07:14.131Z"
   },
   {
    "duration": 15,
    "start_time": "2022-08-25T21:07:14.204Z"
   },
   {
    "duration": 15,
    "start_time": "2022-08-25T21:07:14.221Z"
   },
   {
    "duration": 6,
    "start_time": "2022-08-25T21:07:14.238Z"
   },
   {
    "duration": 88,
    "start_time": "2022-08-25T21:07:14.245Z"
   },
   {
    "duration": 0,
    "start_time": "2022-08-25T21:07:14.335Z"
   },
   {
    "duration": 0,
    "start_time": "2022-08-25T21:07:14.336Z"
   },
   {
    "duration": 0,
    "start_time": "2022-08-25T21:07:14.337Z"
   },
   {
    "duration": 0,
    "start_time": "2022-08-25T21:07:14.339Z"
   },
   {
    "duration": 0,
    "start_time": "2022-08-25T21:07:14.339Z"
   },
   {
    "duration": 0,
    "start_time": "2022-08-25T21:07:14.341Z"
   },
   {
    "duration": 0,
    "start_time": "2022-08-25T21:07:14.341Z"
   },
   {
    "duration": 0,
    "start_time": "2022-08-25T21:07:14.342Z"
   },
   {
    "duration": 0,
    "start_time": "2022-08-25T21:07:14.343Z"
   },
   {
    "duration": 0,
    "start_time": "2022-08-25T21:07:14.344Z"
   },
   {
    "duration": 0,
    "start_time": "2022-08-25T21:07:14.345Z"
   },
   {
    "duration": 4,
    "start_time": "2022-08-25T21:07:47.820Z"
   },
   {
    "duration": 402,
    "start_time": "2022-08-25T21:08:07.882Z"
   },
   {
    "duration": 82,
    "start_time": "2022-08-25T21:08:08.286Z"
   },
   {
    "duration": 14,
    "start_time": "2022-08-25T21:08:08.369Z"
   },
   {
    "duration": 30,
    "start_time": "2022-08-25T21:08:08.385Z"
   },
   {
    "duration": 11,
    "start_time": "2022-08-25T21:08:08.416Z"
   },
   {
    "duration": 3,
    "start_time": "2022-08-25T21:08:08.428Z"
   },
   {
    "duration": 70,
    "start_time": "2022-08-25T21:08:08.433Z"
   },
   {
    "duration": 0,
    "start_time": "2022-08-25T21:08:08.504Z"
   },
   {
    "duration": 0,
    "start_time": "2022-08-25T21:08:08.506Z"
   },
   {
    "duration": 0,
    "start_time": "2022-08-25T21:08:08.507Z"
   },
   {
    "duration": 0,
    "start_time": "2022-08-25T21:08:08.508Z"
   },
   {
    "duration": 0,
    "start_time": "2022-08-25T21:08:08.509Z"
   },
   {
    "duration": 0,
    "start_time": "2022-08-25T21:08:08.510Z"
   },
   {
    "duration": 0,
    "start_time": "2022-08-25T21:08:08.512Z"
   },
   {
    "duration": 0,
    "start_time": "2022-08-25T21:08:08.513Z"
   },
   {
    "duration": 0,
    "start_time": "2022-08-25T21:08:08.514Z"
   },
   {
    "duration": 0,
    "start_time": "2022-08-25T21:08:08.515Z"
   },
   {
    "duration": 10,
    "start_time": "2022-08-25T21:08:27.633Z"
   },
   {
    "duration": 7,
    "start_time": "2022-08-25T21:08:34.254Z"
   },
   {
    "duration": 4,
    "start_time": "2022-08-25T21:08:46.967Z"
   },
   {
    "duration": 8,
    "start_time": "2022-08-25T21:19:11.183Z"
   },
   {
    "duration": 7,
    "start_time": "2022-08-25T21:20:46.151Z"
   },
   {
    "duration": 425,
    "start_time": "2022-08-29T06:24:48.200Z"
   },
   {
    "duration": 244,
    "start_time": "2022-08-29T06:24:48.627Z"
   },
   {
    "duration": 14,
    "start_time": "2022-08-29T06:24:48.873Z"
   },
   {
    "duration": 14,
    "start_time": "2022-08-29T06:24:48.889Z"
   },
   {
    "duration": 6,
    "start_time": "2022-08-29T06:24:48.905Z"
   },
   {
    "duration": 223,
    "start_time": "2022-08-29T06:24:48.912Z"
   },
   {
    "duration": 0,
    "start_time": "2022-08-29T06:24:49.137Z"
   },
   {
    "duration": 0,
    "start_time": "2022-08-29T06:24:49.139Z"
   },
   {
    "duration": 0,
    "start_time": "2022-08-29T06:24:49.141Z"
   },
   {
    "duration": 0,
    "start_time": "2022-08-29T06:24:49.142Z"
   },
   {
    "duration": 0,
    "start_time": "2022-08-29T06:24:49.144Z"
   },
   {
    "duration": 1,
    "start_time": "2022-08-29T06:24:49.145Z"
   },
   {
    "duration": 0,
    "start_time": "2022-08-29T06:24:49.147Z"
   },
   {
    "duration": 0,
    "start_time": "2022-08-29T06:24:49.149Z"
   },
   {
    "duration": 0,
    "start_time": "2022-08-29T06:24:49.151Z"
   },
   {
    "duration": 0,
    "start_time": "2022-08-29T06:24:49.152Z"
   },
   {
    "duration": 0,
    "start_time": "2022-08-29T06:24:49.153Z"
   },
   {
    "duration": 18,
    "start_time": "2022-08-29T06:26:18.273Z"
   },
   {
    "duration": 441,
    "start_time": "2022-08-29T06:28:40.534Z"
   },
   {
    "duration": 69,
    "start_time": "2022-08-29T06:28:40.977Z"
   },
   {
    "duration": 14,
    "start_time": "2022-08-29T06:28:41.047Z"
   },
   {
    "duration": 15,
    "start_time": "2022-08-29T06:28:41.063Z"
   },
   {
    "duration": 31,
    "start_time": "2022-08-29T06:28:41.079Z"
   },
   {
    "duration": 28,
    "start_time": "2022-08-29T06:28:41.112Z"
   },
   {
    "duration": 7,
    "start_time": "2022-08-29T06:28:41.142Z"
   },
   {
    "duration": 8,
    "start_time": "2022-08-29T06:28:41.150Z"
   },
   {
    "duration": 22,
    "start_time": "2022-08-29T06:28:41.160Z"
   },
   {
    "duration": 77,
    "start_time": "2022-08-29T06:28:41.208Z"
   },
   {
    "duration": 30,
    "start_time": "2022-08-29T06:28:41.286Z"
   },
   {
    "duration": 9,
    "start_time": "2022-08-29T06:28:41.318Z"
   },
   {
    "duration": 28,
    "start_time": "2022-08-29T06:28:41.328Z"
   },
   {
    "duration": 16,
    "start_time": "2022-08-29T06:28:41.358Z"
   },
   {
    "duration": 43,
    "start_time": "2022-08-29T06:28:41.375Z"
   },
   {
    "duration": 49,
    "start_time": "2022-08-29T06:28:41.420Z"
   },
   {
    "duration": 16,
    "start_time": "2022-08-29T06:28:53.073Z"
   },
   {
    "duration": 10,
    "start_time": "2022-08-29T06:42:31.300Z"
   },
   {
    "duration": 13,
    "start_time": "2022-08-29T06:50:28.792Z"
   },
   {
    "duration": 1269,
    "start_time": "2022-08-29T06:54:09.758Z"
   },
   {
    "duration": 70,
    "start_time": "2022-08-29T06:54:11.029Z"
   },
   {
    "duration": 18,
    "start_time": "2022-08-29T06:54:11.100Z"
   },
   {
    "duration": 19,
    "start_time": "2022-08-29T06:54:11.120Z"
   },
   {
    "duration": 7,
    "start_time": "2022-08-29T06:54:11.141Z"
   },
   {
    "duration": 18,
    "start_time": "2022-08-29T06:54:11.150Z"
   },
   {
    "duration": 5,
    "start_time": "2022-08-29T06:54:11.171Z"
   },
   {
    "duration": 32,
    "start_time": "2022-08-29T06:54:11.178Z"
   },
   {
    "duration": 22,
    "start_time": "2022-08-29T06:54:11.212Z"
   },
   {
    "duration": 96,
    "start_time": "2022-08-29T06:54:11.235Z"
   },
   {
    "duration": 13,
    "start_time": "2022-08-29T06:54:11.333Z"
   },
   {
    "duration": 10,
    "start_time": "2022-08-29T06:54:11.348Z"
   },
   {
    "duration": 25,
    "start_time": "2022-08-29T06:54:11.359Z"
   },
   {
    "duration": 31,
    "start_time": "2022-08-29T06:54:11.387Z"
   },
   {
    "duration": 15,
    "start_time": "2022-08-29T06:54:11.420Z"
   },
   {
    "duration": 15,
    "start_time": "2022-08-29T06:54:11.437Z"
   },
   {
    "duration": 10,
    "start_time": "2022-08-29T06:54:11.454Z"
   },
   {
    "duration": 18,
    "start_time": "2022-08-29T06:54:11.465Z"
   },
   {
    "duration": 11,
    "start_time": "2022-08-29T06:58:59.040Z"
   },
   {
    "duration": 220,
    "start_time": "2022-08-29T07:09:26.951Z"
   },
   {
    "duration": 200,
    "start_time": "2022-08-29T07:09:44.523Z"
   },
   {
    "duration": 172,
    "start_time": "2022-08-29T07:10:05.727Z"
   },
   {
    "duration": 177,
    "start_time": "2022-08-29T07:15:21.283Z"
   },
   {
    "duration": 9,
    "start_time": "2022-08-29T07:19:11.041Z"
   },
   {
    "duration": 179,
    "start_time": "2022-08-29T07:19:12.730Z"
   },
   {
    "duration": 105,
    "start_time": "2022-08-29T07:25:38.564Z"
   },
   {
    "duration": 41,
    "start_time": "2022-08-29T07:25:59.339Z"
   },
   {
    "duration": 43,
    "start_time": "2022-08-29T07:26:08.767Z"
   },
   {
    "duration": 6,
    "start_time": "2022-08-29T07:26:31.617Z"
   },
   {
    "duration": 14,
    "start_time": "2022-08-29T07:30:09.269Z"
   },
   {
    "duration": 11,
    "start_time": "2022-08-29T07:30:43.237Z"
   },
   {
    "duration": 140,
    "start_time": "2022-08-29T07:31:22.946Z"
   },
   {
    "duration": 129,
    "start_time": "2022-08-29T07:34:53.705Z"
   },
   {
    "duration": 120,
    "start_time": "2022-08-29T07:35:02.393Z"
   },
   {
    "duration": 189,
    "start_time": "2022-08-29T07:35:23.427Z"
   },
   {
    "duration": 171,
    "start_time": "2022-08-29T07:41:34.188Z"
   },
   {
    "duration": 176,
    "start_time": "2022-08-29T07:41:41.795Z"
   },
   {
    "duration": 191,
    "start_time": "2022-08-29T07:41:47.197Z"
   },
   {
    "duration": 136,
    "start_time": "2022-08-29T07:41:51.823Z"
   },
   {
    "duration": 175,
    "start_time": "2022-08-29T07:41:57.972Z"
   },
   {
    "duration": 183,
    "start_time": "2022-08-29T07:42:06.271Z"
   },
   {
    "duration": 185,
    "start_time": "2022-08-29T07:42:13.138Z"
   },
   {
    "duration": 8,
    "start_time": "2022-08-29T07:51:49.951Z"
   },
   {
    "duration": 10,
    "start_time": "2022-08-29T07:51:55.792Z"
   },
   {
    "duration": 13,
    "start_time": "2022-08-29T07:53:03.037Z"
   },
   {
    "duration": 14,
    "start_time": "2022-08-29T07:53:12.208Z"
   },
   {
    "duration": 8,
    "start_time": "2022-08-29T07:54:07.394Z"
   },
   {
    "duration": 178,
    "start_time": "2022-08-29T07:54:38.718Z"
   },
   {
    "duration": 5,
    "start_time": "2022-08-29T08:05:32.115Z"
   },
   {
    "duration": 13,
    "start_time": "2022-08-29T08:16:11.213Z"
   },
   {
    "duration": 10,
    "start_time": "2022-08-29T08:18:53.089Z"
   },
   {
    "duration": 9,
    "start_time": "2022-08-29T08:18:57.960Z"
   },
   {
    "duration": 7,
    "start_time": "2022-08-29T08:23:23.660Z"
   },
   {
    "duration": 6,
    "start_time": "2022-08-29T08:23:29.764Z"
   },
   {
    "duration": 6,
    "start_time": "2022-08-29T08:23:58.331Z"
   },
   {
    "duration": 9,
    "start_time": "2022-08-29T08:24:26.546Z"
   },
   {
    "duration": 12,
    "start_time": "2022-08-29T08:25:26.211Z"
   },
   {
    "duration": 13,
    "start_time": "2022-08-29T08:25:46.000Z"
   },
   {
    "duration": 12,
    "start_time": "2022-08-29T08:26:26.871Z"
   },
   {
    "duration": 14,
    "start_time": "2022-08-29T08:28:06.154Z"
   },
   {
    "duration": 13,
    "start_time": "2022-08-29T08:28:42.911Z"
   },
   {
    "duration": 13,
    "start_time": "2022-08-29T08:29:12.771Z"
   },
   {
    "duration": 23,
    "start_time": "2022-08-29T08:33:16.741Z"
   },
   {
    "duration": 13,
    "start_time": "2022-08-29T08:33:48.857Z"
   },
   {
    "duration": 16,
    "start_time": "2022-08-29T08:34:08.349Z"
   },
   {
    "duration": 13,
    "start_time": "2022-08-29T08:38:09.459Z"
   },
   {
    "duration": 14,
    "start_time": "2022-08-29T08:39:29.929Z"
   },
   {
    "duration": 16,
    "start_time": "2022-08-29T08:39:51.197Z"
   },
   {
    "duration": 1005,
    "start_time": "2022-08-29T08:40:19.509Z"
   },
   {
    "duration": 11,
    "start_time": "2022-08-29T08:40:40.355Z"
   },
   {
    "duration": 18,
    "start_time": "2022-08-29T08:40:55.975Z"
   },
   {
    "duration": 16,
    "start_time": "2022-08-29T09:02:22.829Z"
   },
   {
    "duration": 14,
    "start_time": "2022-08-29T09:03:23.845Z"
   },
   {
    "duration": 17,
    "start_time": "2022-08-29T09:03:53.093Z"
   },
   {
    "duration": 175,
    "start_time": "2022-08-29T09:09:36.099Z"
   },
   {
    "duration": 135,
    "start_time": "2022-08-29T09:10:19.279Z"
   },
   {
    "duration": 402,
    "start_time": "2022-08-29T09:10:46.496Z"
   },
   {
    "duration": 466,
    "start_time": "2022-08-29T09:11:10.823Z"
   },
   {
    "duration": 113,
    "start_time": "2022-08-29T09:11:37.524Z"
   },
   {
    "duration": 121,
    "start_time": "2022-08-29T09:11:48.211Z"
   },
   {
    "duration": 170,
    "start_time": "2022-08-29T09:12:38.658Z"
   },
   {
    "duration": 190,
    "start_time": "2022-08-29T09:12:55.095Z"
   },
   {
    "duration": 10,
    "start_time": "2022-08-29T09:13:49.406Z"
   },
   {
    "duration": 178,
    "start_time": "2022-08-29T09:13:51.790Z"
   },
   {
    "duration": 10,
    "start_time": "2022-08-29T09:21:10.357Z"
   },
   {
    "duration": 1166,
    "start_time": "2022-08-29T09:29:42.555Z"
   },
   {
    "duration": 71,
    "start_time": "2022-08-29T09:29:43.723Z"
   },
   {
    "duration": 14,
    "start_time": "2022-08-29T09:29:43.796Z"
   },
   {
    "duration": 18,
    "start_time": "2022-08-29T09:29:43.812Z"
   },
   {
    "duration": 15,
    "start_time": "2022-08-29T09:29:43.831Z"
   },
   {
    "duration": 31,
    "start_time": "2022-08-29T09:29:43.847Z"
   },
   {
    "duration": 5,
    "start_time": "2022-08-29T09:29:43.879Z"
   },
   {
    "duration": 16,
    "start_time": "2022-08-29T09:29:43.885Z"
   },
   {
    "duration": 24,
    "start_time": "2022-08-29T09:29:43.903Z"
   },
   {
    "duration": 81,
    "start_time": "2022-08-29T09:29:43.930Z"
   },
   {
    "duration": 3,
    "start_time": "2022-08-29T09:29:44.013Z"
   },
   {
    "duration": 14,
    "start_time": "2022-08-29T09:29:44.017Z"
   },
   {
    "duration": 27,
    "start_time": "2022-08-29T09:29:44.033Z"
   },
   {
    "duration": 13,
    "start_time": "2022-08-29T09:29:44.062Z"
   },
   {
    "duration": 40,
    "start_time": "2022-08-29T09:29:44.078Z"
   },
   {
    "duration": 20,
    "start_time": "2022-08-29T09:29:44.120Z"
   },
   {
    "duration": 7,
    "start_time": "2022-08-29T09:29:44.142Z"
   },
   {
    "duration": 206,
    "start_time": "2022-08-29T09:29:44.150Z"
   },
   {
    "duration": 6,
    "start_time": "2022-08-29T09:29:44.358Z"
   },
   {
    "duration": 136,
    "start_time": "2022-08-29T09:29:44.366Z"
   },
   {
    "duration": 13,
    "start_time": "2022-08-29T09:29:44.503Z"
   },
   {
    "duration": 203,
    "start_time": "2022-08-29T09:29:44.518Z"
   },
   {
    "duration": 9,
    "start_time": "2022-08-29T09:29:44.723Z"
   },
   {
    "duration": 18,
    "start_time": "2022-08-29T09:29:44.734Z"
   },
   {
    "duration": 10,
    "start_time": "2022-08-29T09:29:44.754Z"
   },
   {
    "duration": 213,
    "start_time": "2022-08-29T09:29:44.766Z"
   },
   {
    "duration": 11,
    "start_time": "2022-08-29T09:29:44.980Z"
   },
   {
    "duration": 1121,
    "start_time": "2022-08-29T09:31:27.990Z"
   },
   {
    "duration": 71,
    "start_time": "2022-08-29T09:31:29.113Z"
   },
   {
    "duration": 15,
    "start_time": "2022-08-29T09:31:29.186Z"
   },
   {
    "duration": 14,
    "start_time": "2022-08-29T09:31:29.203Z"
   },
   {
    "duration": 6,
    "start_time": "2022-08-29T09:31:29.219Z"
   },
   {
    "duration": 17,
    "start_time": "2022-08-29T09:31:29.227Z"
   },
   {
    "duration": 5,
    "start_time": "2022-08-29T09:31:29.245Z"
   },
   {
    "duration": 7,
    "start_time": "2022-08-29T09:31:29.252Z"
   },
   {
    "duration": 49,
    "start_time": "2022-08-29T09:31:29.260Z"
   },
   {
    "duration": 72,
    "start_time": "2022-08-29T09:31:29.311Z"
   },
   {
    "duration": 31,
    "start_time": "2022-08-29T09:31:29.385Z"
   },
   {
    "duration": 11,
    "start_time": "2022-08-29T09:31:29.418Z"
   },
   {
    "duration": 25,
    "start_time": "2022-08-29T09:31:29.431Z"
   },
   {
    "duration": 20,
    "start_time": "2022-08-29T09:31:29.459Z"
   },
   {
    "duration": 37,
    "start_time": "2022-08-29T09:31:29.481Z"
   },
   {
    "duration": 15,
    "start_time": "2022-08-29T09:31:29.519Z"
   },
   {
    "duration": 7,
    "start_time": "2022-08-29T09:31:29.535Z"
   },
   {
    "duration": 218,
    "start_time": "2022-08-29T09:31:29.544Z"
   },
   {
    "duration": 7,
    "start_time": "2022-08-29T09:31:29.764Z"
   },
   {
    "duration": 137,
    "start_time": "2022-08-29T09:31:29.773Z"
   },
   {
    "duration": 11,
    "start_time": "2022-08-29T09:31:29.912Z"
   },
   {
    "duration": 196,
    "start_time": "2022-08-29T09:31:29.924Z"
   },
   {
    "duration": 11,
    "start_time": "2022-08-29T09:31:30.121Z"
   },
   {
    "duration": 24,
    "start_time": "2022-08-29T09:31:30.134Z"
   },
   {
    "duration": 11,
    "start_time": "2022-08-29T09:31:30.160Z"
   },
   {
    "duration": 202,
    "start_time": "2022-08-29T09:31:30.173Z"
   },
   {
    "duration": 10,
    "start_time": "2022-08-29T09:31:30.376Z"
   },
   {
    "duration": 97,
    "start_time": "2022-08-29T09:56:12.968Z"
   },
   {
    "duration": 48,
    "start_time": "2022-08-29T09:56:34.345Z"
   },
   {
    "duration": 40,
    "start_time": "2022-08-29T10:00:20.760Z"
   },
   {
    "duration": 108,
    "start_time": "2022-08-29T10:00:28.914Z"
   },
   {
    "duration": 50,
    "start_time": "2022-08-29T10:01:05.857Z"
   },
   {
    "duration": 44,
    "start_time": "2022-08-29T10:01:14.408Z"
   },
   {
    "duration": 48,
    "start_time": "2022-08-29T10:02:13.989Z"
   },
   {
    "duration": 46,
    "start_time": "2022-08-29T10:02:42.520Z"
   },
   {
    "duration": 57,
    "start_time": "2022-08-29T10:02:48.561Z"
   },
   {
    "duration": 124,
    "start_time": "2022-08-29T10:03:02.586Z"
   },
   {
    "duration": 23,
    "start_time": "2022-08-29T10:11:15.631Z"
   },
   {
    "duration": 28,
    "start_time": "2022-08-29T10:11:44.300Z"
   },
   {
    "duration": 35,
    "start_time": "2022-08-29T10:12:42.423Z"
   },
   {
    "duration": 37,
    "start_time": "2022-08-29T10:13:13.400Z"
   },
   {
    "duration": 43,
    "start_time": "2022-08-29T10:13:27.756Z"
   },
   {
    "duration": 103,
    "start_time": "2022-08-29T10:14:18.992Z"
   },
   {
    "duration": 32,
    "start_time": "2022-08-29T10:15:03.307Z"
   },
   {
    "duration": 44,
    "start_time": "2022-08-29T10:15:17.391Z"
   },
   {
    "duration": 42,
    "start_time": "2022-08-29T10:16:18.736Z"
   },
   {
    "duration": 53,
    "start_time": "2022-08-29T10:17:03.396Z"
   },
   {
    "duration": 43,
    "start_time": "2022-08-29T10:18:28.125Z"
   },
   {
    "duration": 1207,
    "start_time": "2022-08-29T10:18:44.962Z"
   },
   {
    "duration": 75,
    "start_time": "2022-08-29T10:18:46.171Z"
   },
   {
    "duration": 15,
    "start_time": "2022-08-29T10:18:46.247Z"
   },
   {
    "duration": 40,
    "start_time": "2022-08-29T10:18:46.264Z"
   },
   {
    "duration": 19,
    "start_time": "2022-08-29T10:18:46.306Z"
   },
   {
    "duration": 30,
    "start_time": "2022-08-29T10:18:46.327Z"
   },
   {
    "duration": 5,
    "start_time": "2022-08-29T10:18:46.359Z"
   },
   {
    "duration": 15,
    "start_time": "2022-08-29T10:18:46.366Z"
   },
   {
    "duration": 45,
    "start_time": "2022-08-29T10:18:46.382Z"
   },
   {
    "duration": 78,
    "start_time": "2022-08-29T10:18:46.429Z"
   },
   {
    "duration": 18,
    "start_time": "2022-08-29T10:18:46.509Z"
   },
   {
    "duration": 16,
    "start_time": "2022-08-29T10:18:46.529Z"
   },
   {
    "duration": 32,
    "start_time": "2022-08-29T10:18:46.547Z"
   },
   {
    "duration": 27,
    "start_time": "2022-08-29T10:18:46.582Z"
   },
   {
    "duration": 14,
    "start_time": "2022-08-29T10:18:46.610Z"
   },
   {
    "duration": 16,
    "start_time": "2022-08-29T10:18:46.626Z"
   },
   {
    "duration": 24,
    "start_time": "2022-08-29T10:18:46.643Z"
   },
   {
    "duration": 200,
    "start_time": "2022-08-29T10:18:46.668Z"
   },
   {
    "duration": 7,
    "start_time": "2022-08-29T10:18:46.870Z"
   },
   {
    "duration": 147,
    "start_time": "2022-08-29T10:18:46.878Z"
   },
   {
    "duration": 10,
    "start_time": "2022-08-29T10:18:47.027Z"
   },
   {
    "duration": 190,
    "start_time": "2022-08-29T10:18:47.039Z"
   },
   {
    "duration": 10,
    "start_time": "2022-08-29T10:18:47.231Z"
   },
   {
    "duration": 29,
    "start_time": "2022-08-29T10:18:47.243Z"
   },
   {
    "duration": 18,
    "start_time": "2022-08-29T10:18:47.274Z"
   },
   {
    "duration": 218,
    "start_time": "2022-08-29T10:18:47.294Z"
   },
   {
    "duration": 9,
    "start_time": "2022-08-29T10:18:47.513Z"
   },
   {
    "duration": 46,
    "start_time": "2022-08-29T10:18:47.524Z"
   },
   {
    "duration": 53,
    "start_time": "2022-08-29T10:18:47.572Z"
   },
   {
    "duration": 28,
    "start_time": "2022-08-29T10:20:30.999Z"
   },
   {
    "duration": 1124,
    "start_time": "2022-08-29T10:21:12.822Z"
   },
   {
    "duration": 74,
    "start_time": "2022-08-29T10:21:13.948Z"
   },
   {
    "duration": 14,
    "start_time": "2022-08-29T10:21:14.024Z"
   },
   {
    "duration": 13,
    "start_time": "2022-08-29T10:21:14.040Z"
   },
   {
    "duration": 6,
    "start_time": "2022-08-29T10:21:14.055Z"
   },
   {
    "duration": 18,
    "start_time": "2022-08-29T10:21:14.062Z"
   },
   {
    "duration": 5,
    "start_time": "2022-08-29T10:21:14.109Z"
   },
   {
    "duration": 20,
    "start_time": "2022-08-29T10:21:14.115Z"
   },
   {
    "duration": 22,
    "start_time": "2022-08-29T10:21:14.137Z"
   },
   {
    "duration": 83,
    "start_time": "2022-08-29T10:21:14.162Z"
   },
   {
    "duration": 16,
    "start_time": "2022-08-29T10:21:14.247Z"
   },
   {
    "duration": 12,
    "start_time": "2022-08-29T10:21:14.265Z"
   },
   {
    "duration": 40,
    "start_time": "2022-08-29T10:21:14.278Z"
   },
   {
    "duration": 17,
    "start_time": "2022-08-29T10:21:14.320Z"
   },
   {
    "duration": 14,
    "start_time": "2022-08-29T10:21:14.339Z"
   },
   {
    "duration": 18,
    "start_time": "2022-08-29T10:21:14.355Z"
   },
   {
    "duration": 6,
    "start_time": "2022-08-29T10:21:14.375Z"
   },
   {
    "duration": 212,
    "start_time": "2022-08-29T10:21:14.383Z"
   },
   {
    "duration": 15,
    "start_time": "2022-08-29T10:21:14.597Z"
   },
   {
    "duration": 128,
    "start_time": "2022-08-29T10:21:14.614Z"
   },
   {
    "duration": 9,
    "start_time": "2022-08-29T10:21:14.743Z"
   },
   {
    "duration": 181,
    "start_time": "2022-08-29T10:21:14.754Z"
   },
   {
    "duration": 10,
    "start_time": "2022-08-29T10:21:14.936Z"
   },
   {
    "duration": 18,
    "start_time": "2022-08-29T10:21:14.947Z"
   },
   {
    "duration": 10,
    "start_time": "2022-08-29T10:21:14.967Z"
   },
   {
    "duration": 212,
    "start_time": "2022-08-29T10:21:14.978Z"
   },
   {
    "duration": 18,
    "start_time": "2022-08-29T10:21:15.191Z"
   },
   {
    "duration": 2,
    "start_time": "2022-08-29T10:21:15.212Z"
   },
   {
    "duration": 50,
    "start_time": "2022-08-29T10:21:15.215Z"
   },
   {
    "duration": 338,
    "start_time": "2022-08-29T10:21:27.702Z"
   },
   {
    "duration": 1051,
    "start_time": "2022-08-29T10:21:51.649Z"
   },
   {
    "duration": 71,
    "start_time": "2022-08-29T10:21:52.702Z"
   },
   {
    "duration": 14,
    "start_time": "2022-08-29T10:21:52.775Z"
   },
   {
    "duration": 12,
    "start_time": "2022-08-29T10:21:52.790Z"
   },
   {
    "duration": 6,
    "start_time": "2022-08-29T10:21:52.804Z"
   },
   {
    "duration": 17,
    "start_time": "2022-08-29T10:21:52.811Z"
   },
   {
    "duration": 4,
    "start_time": "2022-08-29T10:21:52.829Z"
   },
   {
    "duration": 7,
    "start_time": "2022-08-29T10:21:52.835Z"
   },
   {
    "duration": 20,
    "start_time": "2022-08-29T10:21:52.844Z"
   },
   {
    "duration": 100,
    "start_time": "2022-08-29T10:21:52.865Z"
   },
   {
    "duration": 16,
    "start_time": "2022-08-29T10:21:52.966Z"
   },
   {
    "duration": 25,
    "start_time": "2022-08-29T10:21:52.984Z"
   },
   {
    "duration": 22,
    "start_time": "2022-08-29T10:21:53.010Z"
   },
   {
    "duration": 16,
    "start_time": "2022-08-29T10:21:53.035Z"
   },
   {
    "duration": 14,
    "start_time": "2022-08-29T10:21:53.052Z"
   },
   {
    "duration": 42,
    "start_time": "2022-08-29T10:21:53.067Z"
   },
   {
    "duration": 6,
    "start_time": "2022-08-29T10:21:53.111Z"
   },
   {
    "duration": 195,
    "start_time": "2022-08-29T10:21:53.118Z"
   },
   {
    "duration": 7,
    "start_time": "2022-08-29T10:21:53.315Z"
   },
   {
    "duration": 140,
    "start_time": "2022-08-29T10:21:53.324Z"
   },
   {
    "duration": 8,
    "start_time": "2022-08-29T10:21:53.466Z"
   },
   {
    "duration": 191,
    "start_time": "2022-08-29T10:21:53.476Z"
   },
   {
    "duration": 10,
    "start_time": "2022-08-29T10:21:53.668Z"
   },
   {
    "duration": 35,
    "start_time": "2022-08-29T10:21:53.680Z"
   },
   {
    "duration": 13,
    "start_time": "2022-08-29T10:21:53.717Z"
   },
   {
    "duration": 194,
    "start_time": "2022-08-29T10:21:53.732Z"
   },
   {
    "duration": 10,
    "start_time": "2022-08-29T10:21:53.928Z"
   },
   {
    "duration": 7,
    "start_time": "2022-08-29T10:21:53.939Z"
   },
   {
    "duration": 42,
    "start_time": "2022-08-29T10:21:53.948Z"
   },
   {
    "duration": 10,
    "start_time": "2022-08-29T10:25:14.107Z"
   },
   {
    "duration": 12,
    "start_time": "2022-08-29T10:27:01.027Z"
   },
   {
    "duration": 102,
    "start_time": "2022-08-29T10:27:57.818Z"
   },
   {
    "duration": 14,
    "start_time": "2022-08-29T10:29:02.500Z"
   },
   {
    "duration": 9,
    "start_time": "2022-08-29T10:29:29.546Z"
   },
   {
    "duration": 10,
    "start_time": "2022-08-29T10:33:52.094Z"
   },
   {
    "duration": 9,
    "start_time": "2022-08-29T10:36:43.715Z"
   },
   {
    "duration": 7,
    "start_time": "2022-08-29T10:36:51.846Z"
   },
   {
    "duration": 8,
    "start_time": "2022-08-29T10:37:32.017Z"
   },
   {
    "duration": 8,
    "start_time": "2022-08-29T10:39:09.428Z"
   },
   {
    "duration": 8,
    "start_time": "2022-08-29T10:39:26.737Z"
   },
   {
    "duration": 9,
    "start_time": "2022-08-29T10:40:01.001Z"
   },
   {
    "duration": 64,
    "start_time": "2022-08-29T10:45:30.774Z"
   },
   {
    "duration": 95,
    "start_time": "2022-08-29T10:45:38.024Z"
   },
   {
    "duration": 20,
    "start_time": "2022-08-29T10:45:42.288Z"
   },
   {
    "duration": 17,
    "start_time": "2022-08-29T10:46:16.786Z"
   },
   {
    "duration": 18,
    "start_time": "2022-08-29T10:47:09.062Z"
   },
   {
    "duration": 15,
    "start_time": "2022-08-29T10:47:31.037Z"
   },
   {
    "duration": 19,
    "start_time": "2022-08-29T10:48:35.715Z"
   },
   {
    "duration": 19,
    "start_time": "2022-08-29T10:49:26.013Z"
   },
   {
    "duration": 20,
    "start_time": "2022-08-29T10:49:44.995Z"
   },
   {
    "duration": 15,
    "start_time": "2022-08-29T10:50:41.208Z"
   },
   {
    "duration": 20,
    "start_time": "2022-08-29T10:51:07.109Z"
   },
   {
    "duration": 16,
    "start_time": "2022-08-29T10:56:07.203Z"
   },
   {
    "duration": 179,
    "start_time": "2022-08-29T10:59:22.094Z"
   },
   {
    "duration": 115,
    "start_time": "2022-08-29T10:59:43.323Z"
   },
   {
    "duration": 263,
    "start_time": "2022-08-29T11:00:37.668Z"
   },
   {
    "duration": 192,
    "start_time": "2022-08-29T11:01:28.017Z"
   },
   {
    "duration": 205,
    "start_time": "2022-08-29T11:01:40.690Z"
   },
   {
    "duration": 24,
    "start_time": "2022-08-29T11:03:51.974Z"
   },
   {
    "duration": 198,
    "start_time": "2022-08-29T11:03:58.602Z"
   },
   {
    "duration": 17,
    "start_time": "2022-08-29T11:04:13.474Z"
   },
   {
    "duration": 195,
    "start_time": "2022-08-29T11:04:34.580Z"
   },
   {
    "duration": 188,
    "start_time": "2022-08-29T11:05:32.777Z"
   },
   {
    "duration": 20,
    "start_time": "2022-08-29T11:45:04.713Z"
   },
   {
    "duration": 18,
    "start_time": "2022-08-29T11:45:24.337Z"
   },
   {
    "duration": 17,
    "start_time": "2022-08-29T11:46:02.581Z"
   },
   {
    "duration": 20,
    "start_time": "2022-08-29T11:46:18.262Z"
   },
   {
    "duration": 40,
    "start_time": "2022-08-29T11:49:01.594Z"
   },
   {
    "duration": 23,
    "start_time": "2022-08-29T11:50:40.908Z"
   },
   {
    "duration": 20,
    "start_time": "2022-08-29T11:50:49.060Z"
   },
   {
    "duration": 18,
    "start_time": "2022-08-29T12:15:47.962Z"
   },
   {
    "duration": 19,
    "start_time": "2022-08-29T12:17:28.783Z"
   },
   {
    "duration": 325,
    "start_time": "2022-08-29T12:54:38.874Z"
   },
   {
    "duration": 2477,
    "start_time": "2022-08-29T12:55:20.232Z"
   },
   {
    "duration": 2042,
    "start_time": "2022-08-29T12:56:54.893Z"
   },
   {
    "duration": 1782,
    "start_time": "2022-08-29T12:57:53.818Z"
   },
   {
    "duration": 1290,
    "start_time": "2022-08-29T13:05:46.191Z"
   },
   {
    "duration": 75,
    "start_time": "2022-08-29T13:05:47.483Z"
   },
   {
    "duration": 19,
    "start_time": "2022-08-29T13:05:47.559Z"
   },
   {
    "duration": 12,
    "start_time": "2022-08-29T13:05:47.581Z"
   },
   {
    "duration": 8,
    "start_time": "2022-08-29T13:05:47.608Z"
   },
   {
    "duration": 21,
    "start_time": "2022-08-29T13:05:47.618Z"
   },
   {
    "duration": 22,
    "start_time": "2022-08-29T13:05:47.641Z"
   },
   {
    "duration": 27,
    "start_time": "2022-08-29T13:05:47.665Z"
   },
   {
    "duration": 32,
    "start_time": "2022-08-29T13:05:47.695Z"
   },
   {
    "duration": 93,
    "start_time": "2022-08-29T13:05:47.729Z"
   },
   {
    "duration": 20,
    "start_time": "2022-08-29T13:05:47.824Z"
   },
   {
    "duration": 26,
    "start_time": "2022-08-29T13:05:47.845Z"
   },
   {
    "duration": 46,
    "start_time": "2022-08-29T13:05:47.873Z"
   },
   {
    "duration": 21,
    "start_time": "2022-08-29T13:05:47.923Z"
   },
   {
    "duration": 23,
    "start_time": "2022-08-29T13:05:47.946Z"
   },
   {
    "duration": 34,
    "start_time": "2022-08-29T13:05:47.971Z"
   },
   {
    "duration": 42,
    "start_time": "2022-08-29T13:05:48.009Z"
   },
   {
    "duration": 238,
    "start_time": "2022-08-29T13:05:48.052Z"
   },
   {
    "duration": 6,
    "start_time": "2022-08-29T13:05:48.291Z"
   },
   {
    "duration": 143,
    "start_time": "2022-08-29T13:05:48.299Z"
   },
   {
    "duration": 10,
    "start_time": "2022-08-29T13:05:48.444Z"
   },
   {
    "duration": 183,
    "start_time": "2022-08-29T13:05:48.456Z"
   },
   {
    "duration": 9,
    "start_time": "2022-08-29T13:05:48.640Z"
   },
   {
    "duration": 18,
    "start_time": "2022-08-29T13:05:48.651Z"
   },
   {
    "duration": 10,
    "start_time": "2022-08-29T13:05:48.670Z"
   },
   {
    "duration": 219,
    "start_time": "2022-08-29T13:05:48.682Z"
   },
   {
    "duration": 14,
    "start_time": "2022-08-29T13:05:48.903Z"
   },
   {
    "duration": 11,
    "start_time": "2022-08-29T13:05:48.919Z"
   },
   {
    "duration": 42,
    "start_time": "2022-08-29T13:05:48.932Z"
   },
   {
    "duration": 19,
    "start_time": "2022-08-29T13:05:48.976Z"
   },
   {
    "duration": 205,
    "start_time": "2022-08-29T13:05:49.009Z"
   },
   {
    "duration": 19,
    "start_time": "2022-08-29T13:05:49.216Z"
   },
   {
    "duration": 2643,
    "start_time": "2022-08-29T13:05:49.237Z"
   },
   {
    "duration": 731,
    "start_time": "2022-08-29T13:08:09.533Z"
   },
   {
    "duration": 2278,
    "start_time": "2022-08-29T13:08:46.268Z"
   },
   {
    "duration": 1745,
    "start_time": "2022-08-29T14:53:15.761Z"
   },
   {
    "duration": 1945,
    "start_time": "2022-08-29T15:18:29.908Z"
   },
   {
    "duration": 1828,
    "start_time": "2022-08-29T15:20:26.265Z"
   },
   {
    "duration": 1122,
    "start_time": "2022-08-29T15:32:01.590Z"
   },
   {
    "duration": 69,
    "start_time": "2022-08-29T15:32:02.714Z"
   },
   {
    "duration": 15,
    "start_time": "2022-08-29T15:32:02.784Z"
   },
   {
    "duration": 15,
    "start_time": "2022-08-29T15:32:02.801Z"
   },
   {
    "duration": 6,
    "start_time": "2022-08-29T15:32:02.819Z"
   },
   {
    "duration": 20,
    "start_time": "2022-08-29T15:32:02.827Z"
   },
   {
    "duration": 4,
    "start_time": "2022-08-29T15:32:02.849Z"
   },
   {
    "duration": 9,
    "start_time": "2022-08-29T15:32:02.855Z"
   },
   {
    "duration": 19,
    "start_time": "2022-08-29T15:32:02.865Z"
   },
   {
    "duration": 70,
    "start_time": "2022-08-29T15:32:02.909Z"
   },
   {
    "duration": 30,
    "start_time": "2022-08-29T15:32:02.981Z"
   },
   {
    "duration": 9,
    "start_time": "2022-08-29T15:32:03.013Z"
   },
   {
    "duration": 25,
    "start_time": "2022-08-29T15:32:03.024Z"
   },
   {
    "duration": 22,
    "start_time": "2022-08-29T15:32:03.053Z"
   },
   {
    "duration": 39,
    "start_time": "2022-08-29T15:32:03.077Z"
   },
   {
    "duration": 15,
    "start_time": "2022-08-29T15:32:03.118Z"
   },
   {
    "duration": 7,
    "start_time": "2022-08-29T15:32:03.135Z"
   },
   {
    "duration": 209,
    "start_time": "2022-08-29T15:32:03.143Z"
   },
   {
    "duration": 7,
    "start_time": "2022-08-29T15:32:03.354Z"
   },
   {
    "duration": 136,
    "start_time": "2022-08-29T15:32:03.363Z"
   },
   {
    "duration": 14,
    "start_time": "2022-08-29T15:32:03.501Z"
   },
   {
    "duration": 195,
    "start_time": "2022-08-29T15:32:03.516Z"
   },
   {
    "duration": 14,
    "start_time": "2022-08-29T15:32:03.713Z"
   },
   {
    "duration": 38,
    "start_time": "2022-08-29T15:32:03.729Z"
   },
   {
    "duration": 11,
    "start_time": "2022-08-29T15:32:03.769Z"
   },
   {
    "duration": 206,
    "start_time": "2022-08-29T15:32:03.781Z"
   },
   {
    "duration": 2131,
    "start_time": "2022-08-29T15:32:03.989Z"
   },
   {
    "duration": 8,
    "start_time": "2022-08-29T15:32:06.123Z"
   },
   {
    "duration": 8,
    "start_time": "2022-08-29T15:32:06.133Z"
   },
   {
    "duration": 42,
    "start_time": "2022-08-29T15:32:06.143Z"
   },
   {
    "duration": 28,
    "start_time": "2022-08-29T15:32:06.187Z"
   },
   {
    "duration": 200,
    "start_time": "2022-08-29T15:32:06.217Z"
   },
   {
    "duration": 18,
    "start_time": "2022-08-29T15:32:06.418Z"
   },
   {
    "duration": 942,
    "start_time": "2022-08-29T15:35:30.307Z"
   },
   {
    "duration": 137,
    "start_time": "2022-08-29T15:36:32.692Z"
   },
   {
    "duration": 5,
    "start_time": "2022-08-29T15:38:30.866Z"
   },
   {
    "duration": 347,
    "start_time": "2022-08-29T16:09:16.256Z"
   },
   {
    "duration": 1064,
    "start_time": "2022-08-29T16:09:38.439Z"
   },
   {
    "duration": 69,
    "start_time": "2022-08-29T16:09:39.505Z"
   },
   {
    "duration": 15,
    "start_time": "2022-08-29T16:09:39.576Z"
   },
   {
    "duration": 14,
    "start_time": "2022-08-29T16:09:39.592Z"
   },
   {
    "duration": 6,
    "start_time": "2022-08-29T16:09:39.608Z"
   },
   {
    "duration": 17,
    "start_time": "2022-08-29T16:09:39.615Z"
   },
   {
    "duration": 4,
    "start_time": "2022-08-29T16:09:39.634Z"
   },
   {
    "duration": 8,
    "start_time": "2022-08-29T16:09:39.640Z"
   },
   {
    "duration": 20,
    "start_time": "2022-08-29T16:09:39.650Z"
   },
   {
    "duration": 97,
    "start_time": "2022-08-29T16:09:39.672Z"
   },
   {
    "duration": 15,
    "start_time": "2022-08-29T16:09:39.771Z"
   },
   {
    "duration": 24,
    "start_time": "2022-08-29T16:09:39.787Z"
   },
   {
    "duration": 21,
    "start_time": "2022-08-29T16:09:39.813Z"
   },
   {
    "duration": 16,
    "start_time": "2022-08-29T16:09:39.836Z"
   },
   {
    "duration": 15,
    "start_time": "2022-08-29T16:09:39.853Z"
   },
   {
    "duration": 41,
    "start_time": "2022-08-29T16:09:39.871Z"
   },
   {
    "duration": 7,
    "start_time": "2022-08-29T16:09:39.913Z"
   },
   {
    "duration": 200,
    "start_time": "2022-08-29T16:09:39.921Z"
   },
   {
    "duration": 7,
    "start_time": "2022-08-29T16:09:40.123Z"
   },
   {
    "duration": 140,
    "start_time": "2022-08-29T16:09:40.131Z"
   },
   {
    "duration": 15,
    "start_time": "2022-08-29T16:09:40.272Z"
   },
   {
    "duration": 189,
    "start_time": "2022-08-29T16:09:40.288Z"
   },
   {
    "duration": 9,
    "start_time": "2022-08-29T16:09:40.478Z"
   },
   {
    "duration": 24,
    "start_time": "2022-08-29T16:09:40.489Z"
   },
   {
    "duration": 10,
    "start_time": "2022-08-29T16:09:40.515Z"
   },
   {
    "duration": 200,
    "start_time": "2022-08-29T16:09:40.527Z"
   },
   {
    "duration": 2815,
    "start_time": "2022-08-29T16:09:40.729Z"
   },
   {
    "duration": 63,
    "start_time": "2022-08-29T16:09:43.546Z"
   },
   {
    "duration": 25,
    "start_time": "2022-08-29T16:09:43.611Z"
   },
   {
    "duration": 9,
    "start_time": "2022-08-29T16:09:43.637Z"
   },
   {
    "duration": 7,
    "start_time": "2022-08-29T16:09:43.648Z"
   },
   {
    "duration": 130,
    "start_time": "2022-08-29T16:09:43.657Z"
   },
   {
    "duration": 24,
    "start_time": "2022-08-29T16:09:43.789Z"
   },
   {
    "duration": 206,
    "start_time": "2022-08-29T16:09:43.814Z"
   },
   {
    "duration": 18,
    "start_time": "2022-08-29T16:09:44.022Z"
   },
   {
    "duration": 949,
    "start_time": "2022-08-29T16:12:44.498Z"
   },
   {
    "duration": 1159,
    "start_time": "2022-08-29T16:13:15.996Z"
   },
   {
    "duration": 1546,
    "start_time": "2022-08-29T16:13:26.166Z"
   },
   {
    "duration": 20,
    "start_time": "2022-08-29T16:13:40.210Z"
   },
   {
    "duration": 16,
    "start_time": "2022-08-29T16:14:09.138Z"
   },
   {
    "duration": 1048,
    "start_time": "2022-08-29T16:14:20.236Z"
   },
   {
    "duration": 66,
    "start_time": "2022-08-29T16:14:21.286Z"
   },
   {
    "duration": 13,
    "start_time": "2022-08-29T16:14:21.354Z"
   },
   {
    "duration": 13,
    "start_time": "2022-08-29T16:14:21.368Z"
   },
   {
    "duration": 6,
    "start_time": "2022-08-29T16:14:21.383Z"
   },
   {
    "duration": 30,
    "start_time": "2022-08-29T16:14:21.391Z"
   },
   {
    "duration": 4,
    "start_time": "2022-08-29T16:14:21.423Z"
   },
   {
    "duration": 8,
    "start_time": "2022-08-29T16:14:21.429Z"
   },
   {
    "duration": 24,
    "start_time": "2022-08-29T16:14:21.439Z"
   },
   {
    "duration": 83,
    "start_time": "2022-08-29T16:14:21.465Z"
   },
   {
    "duration": 15,
    "start_time": "2022-08-29T16:14:21.549Z"
   },
   {
    "duration": 16,
    "start_time": "2022-08-29T16:14:21.566Z"
   },
   {
    "duration": 31,
    "start_time": "2022-08-29T16:14:21.584Z"
   },
   {
    "duration": 17,
    "start_time": "2022-08-29T16:14:21.617Z"
   },
   {
    "duration": 14,
    "start_time": "2022-08-29T16:14:21.635Z"
   },
   {
    "duration": 14,
    "start_time": "2022-08-29T16:14:21.650Z"
   },
   {
    "duration": 6,
    "start_time": "2022-08-29T16:14:21.665Z"
   },
   {
    "duration": 211,
    "start_time": "2022-08-29T16:14:21.673Z"
   },
   {
    "duration": 6,
    "start_time": "2022-08-29T16:14:21.886Z"
   },
   {
    "duration": 128,
    "start_time": "2022-08-29T16:14:21.894Z"
   },
   {
    "duration": 9,
    "start_time": "2022-08-29T16:14:22.023Z"
   },
   {
    "duration": 184,
    "start_time": "2022-08-29T16:14:22.034Z"
   },
   {
    "duration": 10,
    "start_time": "2022-08-29T16:14:22.220Z"
   },
   {
    "duration": 17,
    "start_time": "2022-08-29T16:14:22.231Z"
   },
   {
    "duration": 8,
    "start_time": "2022-08-29T16:14:22.250Z"
   },
   {
    "duration": 196,
    "start_time": "2022-08-29T16:14:22.259Z"
   },
   {
    "duration": 1904,
    "start_time": "2022-08-29T16:14:22.457Z"
   },
   {
    "duration": 60,
    "start_time": "2022-08-29T16:14:24.362Z"
   },
   {
    "duration": 33,
    "start_time": "2022-08-29T16:14:24.424Z"
   },
   {
    "duration": 11,
    "start_time": "2022-08-29T16:14:24.459Z"
   },
   {
    "duration": 15,
    "start_time": "2022-08-29T16:14:24.471Z"
   },
   {
    "duration": 125,
    "start_time": "2022-08-29T16:14:24.487Z"
   },
   {
    "duration": 16,
    "start_time": "2022-08-29T16:14:24.614Z"
   },
   {
    "duration": 201,
    "start_time": "2022-08-29T16:14:24.631Z"
   },
   {
    "duration": 19,
    "start_time": "2022-08-29T16:14:24.833Z"
   },
   {
    "duration": 109,
    "start_time": "2022-08-29T16:16:25.169Z"
   },
   {
    "duration": 1145,
    "start_time": "2022-08-29T16:16:36.753Z"
   },
   {
    "duration": 69,
    "start_time": "2022-08-29T16:16:37.900Z"
   },
   {
    "duration": 15,
    "start_time": "2022-08-29T16:16:37.971Z"
   },
   {
    "duration": 12,
    "start_time": "2022-08-29T16:16:37.987Z"
   },
   {
    "duration": 6,
    "start_time": "2022-08-29T16:16:38.000Z"
   },
   {
    "duration": 17,
    "start_time": "2022-08-29T16:16:38.009Z"
   },
   {
    "duration": 5,
    "start_time": "2022-08-29T16:16:38.028Z"
   },
   {
    "duration": 9,
    "start_time": "2022-08-29T16:16:38.034Z"
   },
   {
    "duration": 37,
    "start_time": "2022-08-29T16:16:38.044Z"
   },
   {
    "duration": 85,
    "start_time": "2022-08-29T16:16:38.084Z"
   },
   {
    "duration": 17,
    "start_time": "2022-08-29T16:16:38.171Z"
   },
   {
    "duration": 21,
    "start_time": "2022-08-29T16:16:38.190Z"
   },
   {
    "duration": 23,
    "start_time": "2022-08-29T16:16:38.213Z"
   },
   {
    "duration": 19,
    "start_time": "2022-08-29T16:16:38.237Z"
   },
   {
    "duration": 16,
    "start_time": "2022-08-29T16:16:38.258Z"
   },
   {
    "duration": 44,
    "start_time": "2022-08-29T16:16:38.276Z"
   },
   {
    "duration": 6,
    "start_time": "2022-08-29T16:16:38.322Z"
   },
   {
    "duration": 197,
    "start_time": "2022-08-29T16:16:38.329Z"
   },
   {
    "duration": 7,
    "start_time": "2022-08-29T16:16:38.527Z"
   },
   {
    "duration": 138,
    "start_time": "2022-08-29T16:16:38.535Z"
   },
   {
    "duration": 9,
    "start_time": "2022-08-29T16:16:38.674Z"
   },
   {
    "duration": 181,
    "start_time": "2022-08-29T16:16:38.684Z"
   },
   {
    "duration": 8,
    "start_time": "2022-08-29T16:16:38.867Z"
   },
   {
    "duration": 16,
    "start_time": "2022-08-29T16:16:38.877Z"
   },
   {
    "duration": 21,
    "start_time": "2022-08-29T16:16:38.894Z"
   },
   {
    "duration": 179,
    "start_time": "2022-08-29T16:16:38.916Z"
   },
   {
    "duration": 1932,
    "start_time": "2022-08-29T16:16:39.096Z"
   },
   {
    "duration": 988,
    "start_time": "2022-08-29T16:16:41.031Z"
   },
   {
    "duration": 0,
    "start_time": "2022-08-29T16:16:42.021Z"
   },
   {
    "duration": 0,
    "start_time": "2022-08-29T16:16:42.023Z"
   },
   {
    "duration": 0,
    "start_time": "2022-08-29T16:16:42.024Z"
   },
   {
    "duration": 0,
    "start_time": "2022-08-29T16:16:42.025Z"
   },
   {
    "duration": 0,
    "start_time": "2022-08-29T16:16:42.026Z"
   },
   {
    "duration": 0,
    "start_time": "2022-08-29T16:16:42.027Z"
   },
   {
    "duration": 34,
    "start_time": "2022-08-29T16:17:00.604Z"
   },
   {
    "duration": 1129,
    "start_time": "2022-08-29T16:17:25.923Z"
   },
   {
    "duration": 68,
    "start_time": "2022-08-29T16:17:27.054Z"
   },
   {
    "duration": 13,
    "start_time": "2022-08-29T16:17:27.124Z"
   },
   {
    "duration": 14,
    "start_time": "2022-08-29T16:17:27.139Z"
   },
   {
    "duration": 7,
    "start_time": "2022-08-29T16:17:27.154Z"
   },
   {
    "duration": 22,
    "start_time": "2022-08-29T16:17:27.162Z"
   },
   {
    "duration": 6,
    "start_time": "2022-08-29T16:17:27.210Z"
   },
   {
    "duration": 17,
    "start_time": "2022-08-29T16:17:27.219Z"
   },
   {
    "duration": 24,
    "start_time": "2022-08-29T16:17:27.238Z"
   },
   {
    "duration": 106,
    "start_time": "2022-08-29T16:17:27.266Z"
   },
   {
    "duration": 20,
    "start_time": "2022-08-29T16:17:27.374Z"
   },
   {
    "duration": 7,
    "start_time": "2022-08-29T16:17:27.408Z"
   },
   {
    "duration": 25,
    "start_time": "2022-08-29T16:17:27.417Z"
   },
   {
    "duration": 17,
    "start_time": "2022-08-29T16:17:27.443Z"
   },
   {
    "duration": 15,
    "start_time": "2022-08-29T16:17:27.462Z"
   },
   {
    "duration": 40,
    "start_time": "2022-08-29T16:17:27.478Z"
   },
   {
    "duration": 7,
    "start_time": "2022-08-29T16:17:27.519Z"
   },
   {
    "duration": 201,
    "start_time": "2022-08-29T16:17:27.527Z"
   },
   {
    "duration": 6,
    "start_time": "2022-08-29T16:17:27.729Z"
   },
   {
    "duration": 138,
    "start_time": "2022-08-29T16:17:27.737Z"
   },
   {
    "duration": 9,
    "start_time": "2022-08-29T16:17:27.877Z"
   },
   {
    "duration": 176,
    "start_time": "2022-08-29T16:17:27.887Z"
   },
   {
    "duration": 8,
    "start_time": "2022-08-29T16:17:28.065Z"
   },
   {
    "duration": 30,
    "start_time": "2022-08-29T16:17:28.075Z"
   },
   {
    "duration": 10,
    "start_time": "2022-08-29T16:17:28.106Z"
   },
   {
    "duration": 194,
    "start_time": "2022-08-29T16:17:28.117Z"
   },
   {
    "duration": 1833,
    "start_time": "2022-08-29T16:17:28.312Z"
   },
   {
    "duration": 87,
    "start_time": "2022-08-29T16:17:30.148Z"
   },
   {
    "duration": 10,
    "start_time": "2022-08-29T16:17:30.236Z"
   },
   {
    "duration": 10,
    "start_time": "2022-08-29T16:17:30.247Z"
   },
   {
    "duration": 126,
    "start_time": "2022-08-29T16:17:30.259Z"
   },
   {
    "duration": 24,
    "start_time": "2022-08-29T16:17:30.386Z"
   },
   {
    "duration": 203,
    "start_time": "2022-08-29T16:17:30.411Z"
   },
   {
    "duration": 20,
    "start_time": "2022-08-29T16:17:30.615Z"
   },
   {
    "duration": 123,
    "start_time": "2022-08-29T16:20:14.694Z"
   },
   {
    "duration": 1059,
    "start_time": "2022-08-29T16:20:49.150Z"
   },
   {
    "duration": 70,
    "start_time": "2022-08-29T16:20:50.211Z"
   },
   {
    "duration": 13,
    "start_time": "2022-08-29T16:20:50.282Z"
   },
   {
    "duration": 12,
    "start_time": "2022-08-29T16:20:50.296Z"
   },
   {
    "duration": 6,
    "start_time": "2022-08-29T16:20:50.310Z"
   },
   {
    "duration": 17,
    "start_time": "2022-08-29T16:20:50.317Z"
   },
   {
    "duration": 5,
    "start_time": "2022-08-29T16:20:50.335Z"
   },
   {
    "duration": 8,
    "start_time": "2022-08-29T16:20:50.342Z"
   },
   {
    "duration": 19,
    "start_time": "2022-08-29T16:20:50.351Z"
   },
   {
    "duration": 98,
    "start_time": "2022-08-29T16:20:50.371Z"
   },
   {
    "duration": 15,
    "start_time": "2022-08-29T16:20:50.471Z"
   },
   {
    "duration": 23,
    "start_time": "2022-08-29T16:20:50.488Z"
   },
   {
    "duration": 24,
    "start_time": "2022-08-29T16:20:50.512Z"
   },
   {
    "duration": 17,
    "start_time": "2022-08-29T16:20:50.539Z"
   },
   {
    "duration": 14,
    "start_time": "2022-08-29T16:20:50.558Z"
   },
   {
    "duration": 39,
    "start_time": "2022-08-29T16:20:50.573Z"
   },
   {
    "duration": 6,
    "start_time": "2022-08-29T16:20:50.614Z"
   },
   {
    "duration": 195,
    "start_time": "2022-08-29T16:20:50.622Z"
   },
   {
    "duration": 6,
    "start_time": "2022-08-29T16:20:50.819Z"
   },
   {
    "duration": 135,
    "start_time": "2022-08-29T16:20:50.827Z"
   },
   {
    "duration": 9,
    "start_time": "2022-08-29T16:20:50.964Z"
   },
   {
    "duration": 182,
    "start_time": "2022-08-29T16:20:50.975Z"
   },
   {
    "duration": 10,
    "start_time": "2022-08-29T16:20:51.159Z"
   },
   {
    "duration": 16,
    "start_time": "2022-08-29T16:20:51.170Z"
   },
   {
    "duration": 21,
    "start_time": "2022-08-29T16:20:51.188Z"
   },
   {
    "duration": 197,
    "start_time": "2022-08-29T16:20:51.211Z"
   },
   {
    "duration": 1865,
    "start_time": "2022-08-29T16:20:51.410Z"
   },
   {
    "duration": 78,
    "start_time": "2022-08-29T16:20:53.277Z"
   },
   {
    "duration": 9,
    "start_time": "2022-08-29T16:20:53.357Z"
   },
   {
    "duration": 10,
    "start_time": "2022-08-29T16:20:53.367Z"
   },
   {
    "duration": 108,
    "start_time": "2022-08-29T16:20:53.379Z"
   },
   {
    "duration": 31,
    "start_time": "2022-08-29T16:20:53.489Z"
   },
   {
    "duration": 200,
    "start_time": "2022-08-29T16:20:53.522Z"
   },
   {
    "duration": 19,
    "start_time": "2022-08-29T16:20:53.724Z"
   },
   {
    "duration": 123,
    "start_time": "2022-08-29T16:22:56.379Z"
   },
   {
    "duration": 1104,
    "start_time": "2022-08-29T16:23:06.541Z"
   },
   {
    "duration": 78,
    "start_time": "2022-08-29T16:23:07.647Z"
   },
   {
    "duration": 15,
    "start_time": "2022-08-29T16:23:07.727Z"
   },
   {
    "duration": 12,
    "start_time": "2022-08-29T16:23:07.744Z"
   },
   {
    "duration": 8,
    "start_time": "2022-08-29T16:23:07.758Z"
   },
   {
    "duration": 42,
    "start_time": "2022-08-29T16:23:07.767Z"
   },
   {
    "duration": 5,
    "start_time": "2022-08-29T16:23:07.810Z"
   },
   {
    "duration": 8,
    "start_time": "2022-08-29T16:23:07.816Z"
   },
   {
    "duration": 19,
    "start_time": "2022-08-29T16:23:07.825Z"
   },
   {
    "duration": 86,
    "start_time": "2022-08-29T16:23:07.845Z"
   },
   {
    "duration": 15,
    "start_time": "2022-08-29T16:23:07.933Z"
   },
   {
    "duration": 17,
    "start_time": "2022-08-29T16:23:07.949Z"
   },
   {
    "duration": 22,
    "start_time": "2022-08-29T16:23:07.968Z"
   },
   {
    "duration": 30,
    "start_time": "2022-08-29T16:23:07.993Z"
   },
   {
    "duration": 13,
    "start_time": "2022-08-29T16:23:08.024Z"
   },
   {
    "duration": 14,
    "start_time": "2022-08-29T16:23:08.039Z"
   },
   {
    "duration": 6,
    "start_time": "2022-08-29T16:23:08.054Z"
   },
   {
    "duration": 216,
    "start_time": "2022-08-29T16:23:08.062Z"
   },
   {
    "duration": 7,
    "start_time": "2022-08-29T16:23:08.280Z"
   },
   {
    "duration": 137,
    "start_time": "2022-08-29T16:23:08.288Z"
   },
   {
    "duration": 9,
    "start_time": "2022-08-29T16:23:08.427Z"
   },
   {
    "duration": 199,
    "start_time": "2022-08-29T16:23:08.438Z"
   },
   {
    "duration": 10,
    "start_time": "2022-08-29T16:23:08.640Z"
   },
   {
    "duration": 24,
    "start_time": "2022-08-29T16:23:08.652Z"
   },
   {
    "duration": 20,
    "start_time": "2022-08-29T16:23:08.678Z"
   },
   {
    "duration": 195,
    "start_time": "2022-08-29T16:23:08.700Z"
   },
   {
    "duration": 1950,
    "start_time": "2022-08-29T16:23:08.898Z"
   },
   {
    "duration": 86,
    "start_time": "2022-08-29T16:23:10.849Z"
   },
   {
    "duration": 9,
    "start_time": "2022-08-29T16:23:10.937Z"
   },
   {
    "duration": 7,
    "start_time": "2022-08-29T16:23:10.948Z"
   },
   {
    "duration": 126,
    "start_time": "2022-08-29T16:23:10.957Z"
   },
   {
    "duration": 26,
    "start_time": "2022-08-29T16:23:11.085Z"
   },
   {
    "duration": 192,
    "start_time": "2022-08-29T16:23:11.112Z"
   },
   {
    "duration": 19,
    "start_time": "2022-08-29T16:23:11.308Z"
   },
   {
    "duration": 1195,
    "start_time": "2022-08-29T16:25:46.777Z"
   },
   {
    "duration": 69,
    "start_time": "2022-08-29T16:25:47.974Z"
   },
   {
    "duration": 13,
    "start_time": "2022-08-29T16:25:48.045Z"
   },
   {
    "duration": 11,
    "start_time": "2022-08-29T16:25:48.060Z"
   },
   {
    "duration": 6,
    "start_time": "2022-08-29T16:25:48.073Z"
   },
   {
    "duration": 40,
    "start_time": "2022-08-29T16:25:48.080Z"
   },
   {
    "duration": 5,
    "start_time": "2022-08-29T16:25:48.122Z"
   },
   {
    "duration": 10,
    "start_time": "2022-08-29T16:25:48.128Z"
   },
   {
    "duration": 19,
    "start_time": "2022-08-29T16:25:48.139Z"
   },
   {
    "duration": 91,
    "start_time": "2022-08-29T16:25:48.160Z"
   },
   {
    "duration": 15,
    "start_time": "2022-08-29T16:25:48.253Z"
   },
   {
    "duration": 13,
    "start_time": "2022-08-29T16:25:48.270Z"
   },
   {
    "duration": 30,
    "start_time": "2022-08-29T16:25:48.285Z"
   },
   {
    "duration": 13,
    "start_time": "2022-08-29T16:25:48.317Z"
   },
   {
    "duration": 14,
    "start_time": "2022-08-29T16:25:48.331Z"
   },
   {
    "duration": 6,
    "start_time": "2022-08-29T16:25:48.346Z"
   },
   {
    "duration": 200,
    "start_time": "2022-08-29T16:25:48.353Z"
   },
   {
    "duration": 6,
    "start_time": "2022-08-29T16:25:48.554Z"
   },
   {
    "duration": 123,
    "start_time": "2022-08-29T16:25:48.561Z"
   },
   {
    "duration": 9,
    "start_time": "2022-08-29T16:25:48.686Z"
   },
   {
    "duration": 176,
    "start_time": "2022-08-29T16:25:48.697Z"
   },
   {
    "duration": 8,
    "start_time": "2022-08-29T16:25:48.875Z"
   },
   {
    "duration": 29,
    "start_time": "2022-08-29T16:25:48.885Z"
   },
   {
    "duration": 11,
    "start_time": "2022-08-29T16:25:48.915Z"
   },
   {
    "duration": 184,
    "start_time": "2022-08-29T16:25:48.927Z"
   },
   {
    "duration": 1691,
    "start_time": "2022-08-29T16:25:49.113Z"
   },
   {
    "duration": 75,
    "start_time": "2022-08-29T16:25:50.805Z"
   },
   {
    "duration": 26,
    "start_time": "2022-08-29T16:25:50.883Z"
   },
   {
    "duration": 3,
    "start_time": "2022-08-29T16:25:50.910Z"
   },
   {
    "duration": 120,
    "start_time": "2022-08-29T16:25:50.914Z"
   },
   {
    "duration": 17,
    "start_time": "2022-08-29T16:25:51.037Z"
   },
   {
    "duration": 201,
    "start_time": "2022-08-29T16:25:51.056Z"
   },
   {
    "duration": 19,
    "start_time": "2022-08-29T16:25:51.260Z"
   },
   {
    "duration": 6,
    "start_time": "2022-08-29T16:28:29.409Z"
   },
   {
    "duration": 248,
    "start_time": "2022-08-29T16:28:37.062Z"
   },
   {
    "duration": 7,
    "start_time": "2022-08-29T16:29:33.568Z"
   },
   {
    "duration": 177,
    "start_time": "2022-08-29T16:29:39.689Z"
   },
   {
    "duration": 9,
    "start_time": "2022-08-29T16:37:48.262Z"
   },
   {
    "duration": 552,
    "start_time": "2022-08-29T16:37:57.057Z"
   },
   {
    "duration": 1063,
    "start_time": "2022-08-29T16:38:33.728Z"
   },
   {
    "duration": 69,
    "start_time": "2022-08-29T16:38:34.793Z"
   },
   {
    "duration": 13,
    "start_time": "2022-08-29T16:38:34.864Z"
   },
   {
    "duration": 12,
    "start_time": "2022-08-29T16:38:34.879Z"
   },
   {
    "duration": 5,
    "start_time": "2022-08-29T16:38:34.893Z"
   },
   {
    "duration": 22,
    "start_time": "2022-08-29T16:38:34.900Z"
   },
   {
    "duration": 3,
    "start_time": "2022-08-29T16:38:34.924Z"
   },
   {
    "duration": 7,
    "start_time": "2022-08-29T16:38:34.929Z"
   },
   {
    "duration": 18,
    "start_time": "2022-08-29T16:38:34.937Z"
   },
   {
    "duration": 95,
    "start_time": "2022-08-29T16:38:34.957Z"
   },
   {
    "duration": 15,
    "start_time": "2022-08-29T16:38:35.054Z"
   },
   {
    "duration": 31,
    "start_time": "2022-08-29T16:38:35.070Z"
   },
   {
    "duration": 31,
    "start_time": "2022-08-29T16:38:35.103Z"
   },
   {
    "duration": 13,
    "start_time": "2022-08-29T16:38:35.136Z"
   },
   {
    "duration": 20,
    "start_time": "2022-08-29T16:38:35.151Z"
   },
   {
    "duration": 8,
    "start_time": "2022-08-29T16:38:35.173Z"
   },
   {
    "duration": 200,
    "start_time": "2022-08-29T16:38:35.183Z"
   },
   {
    "duration": 5,
    "start_time": "2022-08-29T16:38:35.385Z"
   },
   {
    "duration": 120,
    "start_time": "2022-08-29T16:38:35.392Z"
   },
   {
    "duration": 9,
    "start_time": "2022-08-29T16:38:35.514Z"
   },
   {
    "duration": 184,
    "start_time": "2022-08-29T16:38:35.525Z"
   },
   {
    "duration": 10,
    "start_time": "2022-08-29T16:38:35.711Z"
   },
   {
    "duration": 35,
    "start_time": "2022-08-29T16:38:35.723Z"
   },
   {
    "duration": 9,
    "start_time": "2022-08-29T16:38:35.760Z"
   },
   {
    "duration": 191,
    "start_time": "2022-08-29T16:38:35.770Z"
   },
   {
    "duration": 3010,
    "start_time": "2022-08-29T16:38:35.962Z"
   },
   {
    "duration": 75,
    "start_time": "2022-08-29T16:38:38.974Z"
   },
   {
    "duration": 8,
    "start_time": "2022-08-29T16:38:39.052Z"
   },
   {
    "duration": 684,
    "start_time": "2022-08-29T16:38:39.061Z"
   },
   {
    "duration": 0,
    "start_time": "2022-08-29T16:38:39.747Z"
   },
   {
    "duration": 0,
    "start_time": "2022-08-29T16:38:39.748Z"
   },
   {
    "duration": 0,
    "start_time": "2022-08-29T16:38:39.749Z"
   },
   {
    "duration": 0,
    "start_time": "2022-08-29T16:38:39.751Z"
   },
   {
    "duration": 113,
    "start_time": "2022-08-29T16:40:27.008Z"
   },
   {
    "duration": 603,
    "start_time": "2022-08-29T16:40:30.542Z"
   },
   {
    "duration": 36,
    "start_time": "2022-08-29T16:45:30.587Z"
   },
   {
    "duration": 1129,
    "start_time": "2022-08-29T16:45:44.625Z"
   },
   {
    "duration": 68,
    "start_time": "2022-08-29T16:45:45.757Z"
   },
   {
    "duration": 14,
    "start_time": "2022-08-29T16:45:45.826Z"
   },
   {
    "duration": 17,
    "start_time": "2022-08-29T16:45:45.842Z"
   },
   {
    "duration": 7,
    "start_time": "2022-08-29T16:45:45.861Z"
   },
   {
    "duration": 24,
    "start_time": "2022-08-29T16:45:45.869Z"
   },
   {
    "duration": 6,
    "start_time": "2022-08-29T16:45:45.910Z"
   },
   {
    "duration": 25,
    "start_time": "2022-08-29T16:45:45.918Z"
   },
   {
    "duration": 33,
    "start_time": "2022-08-29T16:45:45.949Z"
   },
   {
    "duration": 88,
    "start_time": "2022-08-29T16:45:45.984Z"
   },
   {
    "duration": 18,
    "start_time": "2022-08-29T16:45:46.074Z"
   },
   {
    "duration": 17,
    "start_time": "2022-08-29T16:45:46.094Z"
   },
   {
    "duration": 25,
    "start_time": "2022-08-29T16:45:46.113Z"
   },
   {
    "duration": 22,
    "start_time": "2022-08-29T16:45:46.141Z"
   },
   {
    "duration": 22,
    "start_time": "2022-08-29T16:45:46.165Z"
   },
   {
    "duration": 6,
    "start_time": "2022-08-29T16:45:46.209Z"
   },
   {
    "duration": 205,
    "start_time": "2022-08-29T16:45:46.217Z"
   },
   {
    "duration": 7,
    "start_time": "2022-08-29T16:45:46.423Z"
   },
   {
    "duration": 135,
    "start_time": "2022-08-29T16:45:46.431Z"
   },
   {
    "duration": 13,
    "start_time": "2022-08-29T16:45:46.568Z"
   },
   {
    "duration": 179,
    "start_time": "2022-08-29T16:45:46.583Z"
   },
   {
    "duration": 9,
    "start_time": "2022-08-29T16:45:46.763Z"
   },
   {
    "duration": 19,
    "start_time": "2022-08-29T16:45:46.773Z"
   },
   {
    "duration": 22,
    "start_time": "2022-08-29T16:45:46.793Z"
   },
   {
    "duration": 192,
    "start_time": "2022-08-29T16:45:46.817Z"
   },
   {
    "duration": 1903,
    "start_time": "2022-08-29T16:45:47.010Z"
   },
   {
    "duration": 74,
    "start_time": "2022-08-29T16:45:48.915Z"
   },
   {
    "duration": 26,
    "start_time": "2022-08-29T16:45:48.991Z"
   },
   {
    "duration": 126,
    "start_time": "2022-08-29T16:45:49.019Z"
   },
   {
    "duration": 681,
    "start_time": "2022-08-29T16:45:49.148Z"
   },
   {
    "duration": 0,
    "start_time": "2022-08-29T16:45:49.832Z"
   },
   {
    "duration": 0,
    "start_time": "2022-08-29T16:45:49.834Z"
   },
   {
    "duration": 0,
    "start_time": "2022-08-29T16:45:49.836Z"
   },
   {
    "duration": 222,
    "start_time": "2022-08-29T16:47:35.099Z"
   },
   {
    "duration": 1130,
    "start_time": "2022-08-29T16:47:52.573Z"
   },
   {
    "duration": 69,
    "start_time": "2022-08-29T16:47:53.706Z"
   },
   {
    "duration": 16,
    "start_time": "2022-08-29T16:47:53.777Z"
   },
   {
    "duration": 21,
    "start_time": "2022-08-29T16:47:53.796Z"
   },
   {
    "duration": 7,
    "start_time": "2022-08-29T16:47:53.819Z"
   },
   {
    "duration": 27,
    "start_time": "2022-08-29T16:47:53.828Z"
   },
   {
    "duration": 5,
    "start_time": "2022-08-29T16:47:53.857Z"
   },
   {
    "duration": 7,
    "start_time": "2022-08-29T16:47:53.864Z"
   },
   {
    "duration": 45,
    "start_time": "2022-08-29T16:47:53.873Z"
   },
   {
    "duration": 72,
    "start_time": "2022-08-29T16:47:53.920Z"
   },
   {
    "duration": 34,
    "start_time": "2022-08-29T16:47:53.994Z"
   },
   {
    "duration": 13,
    "start_time": "2022-08-29T16:47:54.030Z"
   },
   {
    "duration": 34,
    "start_time": "2022-08-29T16:47:54.045Z"
   },
   {
    "duration": 33,
    "start_time": "2022-08-29T16:47:54.083Z"
   },
   {
    "duration": 16,
    "start_time": "2022-08-29T16:47:54.117Z"
   },
   {
    "duration": 7,
    "start_time": "2022-08-29T16:47:54.135Z"
   },
   {
    "duration": 202,
    "start_time": "2022-08-29T16:47:54.144Z"
   },
   {
    "duration": 7,
    "start_time": "2022-08-29T16:47:54.348Z"
   },
   {
    "duration": 147,
    "start_time": "2022-08-29T16:47:54.357Z"
   },
   {
    "duration": 10,
    "start_time": "2022-08-29T16:47:54.508Z"
   },
   {
    "duration": 180,
    "start_time": "2022-08-29T16:47:54.520Z"
   },
   {
    "duration": 13,
    "start_time": "2022-08-29T16:47:54.702Z"
   },
   {
    "duration": 20,
    "start_time": "2022-08-29T16:47:54.716Z"
   },
   {
    "duration": 10,
    "start_time": "2022-08-29T16:47:54.738Z"
   },
   {
    "duration": 203,
    "start_time": "2022-08-29T16:47:54.750Z"
   },
   {
    "duration": 1933,
    "start_time": "2022-08-29T16:47:54.955Z"
   },
   {
    "duration": 79,
    "start_time": "2022-08-29T16:47:56.890Z"
   },
   {
    "duration": 9,
    "start_time": "2022-08-29T16:47:56.970Z"
   },
   {
    "duration": 124,
    "start_time": "2022-08-29T16:47:56.981Z"
   },
   {
    "duration": 63,
    "start_time": "2022-08-29T16:47:57.109Z"
   },
   {
    "duration": 36,
    "start_time": "2022-08-29T16:47:57.175Z"
   },
   {
    "duration": 261,
    "start_time": "2022-08-29T16:47:57.213Z"
   },
   {
    "duration": 20,
    "start_time": "2022-08-29T16:47:57.476Z"
   },
   {
    "duration": 122,
    "start_time": "2022-08-29T16:48:13.516Z"
   },
   {
    "duration": 41,
    "start_time": "2022-08-29T16:49:50.856Z"
   },
   {
    "duration": 27,
    "start_time": "2022-08-29T16:51:16.990Z"
   },
   {
    "duration": 911,
    "start_time": "2022-08-29T16:51:57.814Z"
   },
   {
    "duration": 42,
    "start_time": "2022-08-29T16:52:30.049Z"
   },
   {
    "duration": 14,
    "start_time": "2022-08-29T16:52:40.899Z"
   },
   {
    "duration": 40,
    "start_time": "2022-08-29T16:52:47.759Z"
   },
   {
    "duration": 40,
    "start_time": "2022-08-29T16:52:53.999Z"
   },
   {
    "duration": 25,
    "start_time": "2022-08-29T16:53:06.861Z"
   },
   {
    "duration": 16,
    "start_time": "2022-08-29T16:53:18.994Z"
   },
   {
    "duration": 13,
    "start_time": "2022-08-29T16:54:35.398Z"
   },
   {
    "duration": 11,
    "start_time": "2022-08-29T16:55:28.927Z"
   },
   {
    "duration": 12,
    "start_time": "2022-08-29T16:55:53.539Z"
   },
   {
    "duration": 1072,
    "start_time": "2022-08-29T16:56:03.737Z"
   },
   {
    "duration": 68,
    "start_time": "2022-08-29T16:56:04.811Z"
   },
   {
    "duration": 15,
    "start_time": "2022-08-29T16:56:04.881Z"
   },
   {
    "duration": 15,
    "start_time": "2022-08-29T16:56:04.898Z"
   },
   {
    "duration": 6,
    "start_time": "2022-08-29T16:56:04.916Z"
   },
   {
    "duration": 17,
    "start_time": "2022-08-29T16:56:04.923Z"
   },
   {
    "duration": 4,
    "start_time": "2022-08-29T16:56:04.942Z"
   },
   {
    "duration": 10,
    "start_time": "2022-08-29T16:56:04.948Z"
   },
   {
    "duration": 25,
    "start_time": "2022-08-29T16:56:04.959Z"
   },
   {
    "duration": 93,
    "start_time": "2022-08-29T16:56:04.986Z"
   },
   {
    "duration": 32,
    "start_time": "2022-08-29T16:56:05.081Z"
   },
   {
    "duration": 11,
    "start_time": "2022-08-29T16:56:05.115Z"
   },
   {
    "duration": 21,
    "start_time": "2022-08-29T16:56:05.127Z"
   },
   {
    "duration": 15,
    "start_time": "2022-08-29T16:56:05.151Z"
   },
   {
    "duration": 15,
    "start_time": "2022-08-29T16:56:05.168Z"
   },
   {
    "duration": 27,
    "start_time": "2022-08-29T16:56:05.185Z"
   },
   {
    "duration": 208,
    "start_time": "2022-08-29T16:56:05.214Z"
   },
   {
    "duration": 6,
    "start_time": "2022-08-29T16:56:05.423Z"
   },
   {
    "duration": 130,
    "start_time": "2022-08-29T16:56:05.431Z"
   },
   {
    "duration": 10,
    "start_time": "2022-08-29T16:56:05.563Z"
   },
   {
    "duration": 191,
    "start_time": "2022-08-29T16:56:05.574Z"
   },
   {
    "duration": 8,
    "start_time": "2022-08-29T16:56:05.766Z"
   },
   {
    "duration": 37,
    "start_time": "2022-08-29T16:56:05.776Z"
   },
   {
    "duration": 9,
    "start_time": "2022-08-29T16:56:05.815Z"
   },
   {
    "duration": 208,
    "start_time": "2022-08-29T16:56:05.825Z"
   },
   {
    "duration": 2209,
    "start_time": "2022-08-29T16:56:06.035Z"
   },
   {
    "duration": 37,
    "start_time": "2022-08-29T16:56:08.246Z"
   },
   {
    "duration": 9,
    "start_time": "2022-08-29T16:56:08.285Z"
   },
   {
    "duration": 47,
    "start_time": "2022-08-29T16:56:08.295Z"
   },
   {
    "duration": 39,
    "start_time": "2022-08-29T16:56:08.344Z"
   },
   {
    "duration": 133,
    "start_time": "2022-08-29T16:56:08.384Z"
   },
   {
    "duration": 0,
    "start_time": "2022-08-29T16:56:08.519Z"
   },
   {
    "duration": 0,
    "start_time": "2022-08-29T16:56:08.520Z"
   },
   {
    "duration": 12,
    "start_time": "2022-08-29T16:56:50.921Z"
   },
   {
    "duration": 13,
    "start_time": "2022-08-29T17:00:59.821Z"
   },
   {
    "duration": 11,
    "start_time": "2022-08-29T17:01:14.236Z"
   },
   {
    "duration": 38,
    "start_time": "2022-08-29T17:02:01.284Z"
   },
   {
    "duration": 11,
    "start_time": "2022-08-29T17:02:55.450Z"
   },
   {
    "duration": 1145,
    "start_time": "2022-08-29T17:03:00.387Z"
   },
   {
    "duration": 72,
    "start_time": "2022-08-29T17:03:01.534Z"
   },
   {
    "duration": 16,
    "start_time": "2022-08-29T17:03:01.607Z"
   },
   {
    "duration": 45,
    "start_time": "2022-08-29T17:03:01.625Z"
   },
   {
    "duration": 62,
    "start_time": "2022-08-29T17:03:01.673Z"
   },
   {
    "duration": 32,
    "start_time": "2022-08-29T17:03:01.737Z"
   },
   {
    "duration": 4,
    "start_time": "2022-08-29T17:03:01.771Z"
   },
   {
    "duration": 13,
    "start_time": "2022-08-29T17:03:01.777Z"
   },
   {
    "duration": 36,
    "start_time": "2022-08-29T17:03:01.792Z"
   },
   {
    "duration": 80,
    "start_time": "2022-08-29T17:03:01.830Z"
   },
   {
    "duration": 17,
    "start_time": "2022-08-29T17:03:01.912Z"
   },
   {
    "duration": 20,
    "start_time": "2022-08-29T17:03:01.930Z"
   },
   {
    "duration": 34,
    "start_time": "2022-08-29T17:03:01.952Z"
   },
   {
    "duration": 20,
    "start_time": "2022-08-29T17:03:01.989Z"
   },
   {
    "duration": 16,
    "start_time": "2022-08-29T17:03:02.010Z"
   },
   {
    "duration": 12,
    "start_time": "2022-08-29T17:03:02.028Z"
   },
   {
    "duration": 203,
    "start_time": "2022-08-29T17:03:02.042Z"
   },
   {
    "duration": 7,
    "start_time": "2022-08-29T17:03:02.246Z"
   },
   {
    "duration": 142,
    "start_time": "2022-08-29T17:03:02.254Z"
   },
   {
    "duration": 12,
    "start_time": "2022-08-29T17:03:02.398Z"
   },
   {
    "duration": 199,
    "start_time": "2022-08-29T17:03:02.412Z"
   },
   {
    "duration": 8,
    "start_time": "2022-08-29T17:03:02.613Z"
   },
   {
    "duration": 29,
    "start_time": "2022-08-29T17:03:02.622Z"
   },
   {
    "duration": 16,
    "start_time": "2022-08-29T17:03:02.653Z"
   },
   {
    "duration": 189,
    "start_time": "2022-08-29T17:03:02.670Z"
   },
   {
    "duration": 3165,
    "start_time": "2022-08-29T17:03:02.861Z"
   },
   {
    "duration": 38,
    "start_time": "2022-08-29T17:03:06.028Z"
   },
   {
    "duration": 9,
    "start_time": "2022-08-29T17:03:06.067Z"
   },
   {
    "duration": 59,
    "start_time": "2022-08-29T17:03:06.078Z"
   },
   {
    "duration": 35,
    "start_time": "2022-08-29T17:03:06.138Z"
   },
   {
    "duration": 114,
    "start_time": "2022-08-29T17:03:06.175Z"
   },
   {
    "duration": 0,
    "start_time": "2022-08-29T17:03:06.290Z"
   },
   {
    "duration": 0,
    "start_time": "2022-08-29T17:03:06.291Z"
   },
   {
    "duration": 22,
    "start_time": "2022-08-29T17:04:58.727Z"
   },
   {
    "duration": 44,
    "start_time": "2022-08-29T17:05:29.902Z"
   },
   {
    "duration": 37,
    "start_time": "2022-08-29T17:05:35.735Z"
   },
   {
    "duration": 31,
    "start_time": "2022-08-29T17:06:06.669Z"
   },
   {
    "duration": 30,
    "start_time": "2022-08-29T17:06:39.456Z"
   },
   {
    "duration": 29,
    "start_time": "2022-08-29T17:06:55.397Z"
   },
   {
    "duration": 187,
    "start_time": "2022-08-29T17:07:37.828Z"
   },
   {
    "duration": 30,
    "start_time": "2022-08-29T17:08:46.166Z"
   },
   {
    "duration": 248,
    "start_time": "2022-08-29T17:08:56.872Z"
   },
   {
    "duration": 24,
    "start_time": "2022-08-29T17:10:27.733Z"
   },
   {
    "duration": 260,
    "start_time": "2022-08-29T17:12:32.600Z"
   },
   {
    "duration": 44,
    "start_time": "2022-08-29T17:13:25.532Z"
   },
   {
    "duration": 1147,
    "start_time": "2022-08-29T17:13:36.944Z"
   },
   {
    "duration": 246,
    "start_time": "2022-08-29T17:13:38.093Z"
   },
   {
    "duration": 13,
    "start_time": "2022-08-29T17:13:38.341Z"
   },
   {
    "duration": 13,
    "start_time": "2022-08-29T17:13:38.356Z"
   },
   {
    "duration": 6,
    "start_time": "2022-08-29T17:13:38.371Z"
   },
   {
    "duration": 18,
    "start_time": "2022-08-29T17:13:38.378Z"
   },
   {
    "duration": 4,
    "start_time": "2022-08-29T17:13:38.410Z"
   },
   {
    "duration": 7,
    "start_time": "2022-08-29T17:13:38.415Z"
   },
   {
    "duration": 17,
    "start_time": "2022-08-29T17:13:38.424Z"
   },
   {
    "duration": 92,
    "start_time": "2022-08-29T17:13:38.443Z"
   },
   {
    "duration": 15,
    "start_time": "2022-08-29T17:13:38.537Z"
   },
   {
    "duration": 13,
    "start_time": "2022-08-29T17:13:38.554Z"
   },
   {
    "duration": 19,
    "start_time": "2022-08-29T17:13:38.569Z"
   },
   {
    "duration": 30,
    "start_time": "2022-08-29T17:13:38.590Z"
   },
   {
    "duration": 15,
    "start_time": "2022-08-29T17:13:38.621Z"
   },
   {
    "duration": 6,
    "start_time": "2022-08-29T17:13:38.637Z"
   },
   {
    "duration": 213,
    "start_time": "2022-08-29T17:13:38.645Z"
   },
   {
    "duration": 7,
    "start_time": "2022-08-29T17:13:38.860Z"
   },
   {
    "duration": 136,
    "start_time": "2022-08-29T17:13:38.869Z"
   },
   {
    "duration": 9,
    "start_time": "2022-08-29T17:13:39.008Z"
   },
   {
    "duration": 177,
    "start_time": "2022-08-29T17:13:39.018Z"
   },
   {
    "duration": 16,
    "start_time": "2022-08-29T17:13:39.196Z"
   },
   {
    "duration": 16,
    "start_time": "2022-08-29T17:13:39.214Z"
   },
   {
    "duration": 10,
    "start_time": "2022-08-29T17:13:39.232Z"
   },
   {
    "duration": 189,
    "start_time": "2022-08-29T17:13:39.244Z"
   },
   {
    "duration": 3036,
    "start_time": "2022-08-29T17:13:39.435Z"
   },
   {
    "duration": 45,
    "start_time": "2022-08-29T17:13:42.472Z"
   },
   {
    "duration": 17,
    "start_time": "2022-08-29T17:13:42.518Z"
   },
   {
    "duration": 37,
    "start_time": "2022-08-29T17:13:42.537Z"
   },
   {
    "duration": 53,
    "start_time": "2022-08-29T17:13:42.576Z"
   },
   {
    "duration": 31,
    "start_time": "2022-08-29T17:13:42.631Z"
   },
   {
    "duration": 196,
    "start_time": "2022-08-29T17:13:42.664Z"
   },
   {
    "duration": 21,
    "start_time": "2022-08-29T17:13:42.862Z"
   },
   {
    "duration": 252,
    "start_time": "2022-08-29T17:14:19.472Z"
   },
   {
    "duration": 1200,
    "start_time": "2022-08-29T17:14:33.702Z"
   },
   {
    "duration": 69,
    "start_time": "2022-08-29T17:14:34.904Z"
   },
   {
    "duration": 13,
    "start_time": "2022-08-29T17:14:34.975Z"
   },
   {
    "duration": 11,
    "start_time": "2022-08-29T17:14:34.990Z"
   },
   {
    "duration": 10,
    "start_time": "2022-08-29T17:14:35.002Z"
   },
   {
    "duration": 16,
    "start_time": "2022-08-29T17:14:35.014Z"
   },
   {
    "duration": 4,
    "start_time": "2022-08-29T17:14:35.032Z"
   },
   {
    "duration": 9,
    "start_time": "2022-08-29T17:14:35.038Z"
   },
   {
    "duration": 19,
    "start_time": "2022-08-29T17:14:35.048Z"
   },
   {
    "duration": 90,
    "start_time": "2022-08-29T17:14:35.070Z"
   },
   {
    "duration": 15,
    "start_time": "2022-08-29T17:14:35.162Z"
   },
   {
    "duration": 9,
    "start_time": "2022-08-29T17:14:35.179Z"
   },
   {
    "duration": 35,
    "start_time": "2022-08-29T17:14:35.190Z"
   },
   {
    "duration": 15,
    "start_time": "2022-08-29T17:14:35.227Z"
   },
   {
    "duration": 15,
    "start_time": "2022-08-29T17:14:35.243Z"
   },
   {
    "duration": 6,
    "start_time": "2022-08-29T17:14:35.259Z"
   },
   {
    "duration": 206,
    "start_time": "2022-08-29T17:14:35.267Z"
   },
   {
    "duration": 6,
    "start_time": "2022-08-29T17:14:35.474Z"
   },
   {
    "duration": 129,
    "start_time": "2022-08-29T17:14:35.482Z"
   },
   {
    "duration": 8,
    "start_time": "2022-08-29T17:14:35.613Z"
   },
   {
    "duration": 183,
    "start_time": "2022-08-29T17:14:35.623Z"
   },
   {
    "duration": 8,
    "start_time": "2022-08-29T17:14:35.808Z"
   },
   {
    "duration": 18,
    "start_time": "2022-08-29T17:14:35.817Z"
   },
   {
    "duration": 10,
    "start_time": "2022-08-29T17:14:35.836Z"
   },
   {
    "duration": 228,
    "start_time": "2022-08-29T17:14:35.847Z"
   },
   {
    "duration": 2300,
    "start_time": "2022-08-29T17:14:36.077Z"
   },
   {
    "duration": 52,
    "start_time": "2022-08-29T17:14:38.379Z"
   },
   {
    "duration": 8,
    "start_time": "2022-08-29T17:14:38.434Z"
   },
   {
    "duration": 39,
    "start_time": "2022-08-29T17:14:38.443Z"
   },
   {
    "duration": 56,
    "start_time": "2022-08-29T17:14:38.484Z"
   },
   {
    "duration": 36,
    "start_time": "2022-08-29T17:14:38.542Z"
   },
   {
    "duration": 208,
    "start_time": "2022-08-29T17:14:38.579Z"
   },
   {
    "duration": 28,
    "start_time": "2022-08-29T17:14:38.789Z"
   },
   {
    "duration": 321,
    "start_time": "2022-08-29T17:16:19.612Z"
   },
   {
    "duration": 1504,
    "start_time": "2022-08-29T17:16:35.212Z"
   },
   {
    "duration": 15,
    "start_time": "2022-08-29T17:16:44.705Z"
   },
   {
    "duration": 1115,
    "start_time": "2022-08-29T17:17:07.078Z"
   },
   {
    "duration": 72,
    "start_time": "2022-08-29T17:17:08.195Z"
   },
   {
    "duration": 13,
    "start_time": "2022-08-29T17:17:08.269Z"
   },
   {
    "duration": 13,
    "start_time": "2022-08-29T17:17:08.283Z"
   },
   {
    "duration": 6,
    "start_time": "2022-08-29T17:17:08.298Z"
   },
   {
    "duration": 18,
    "start_time": "2022-08-29T17:17:08.309Z"
   },
   {
    "duration": 5,
    "start_time": "2022-08-29T17:17:08.328Z"
   },
   {
    "duration": 19,
    "start_time": "2022-08-29T17:17:08.335Z"
   },
   {
    "duration": 23,
    "start_time": "2022-08-29T17:17:08.356Z"
   },
   {
    "duration": 89,
    "start_time": "2022-08-29T17:17:08.381Z"
   },
   {
    "duration": 17,
    "start_time": "2022-08-29T17:17:08.472Z"
   },
   {
    "duration": 8,
    "start_time": "2022-08-29T17:17:08.509Z"
   },
   {
    "duration": 20,
    "start_time": "2022-08-29T17:17:08.519Z"
   },
   {
    "duration": 16,
    "start_time": "2022-08-29T17:17:08.543Z"
   },
   {
    "duration": 17,
    "start_time": "2022-08-29T17:17:08.561Z"
   },
   {
    "duration": 33,
    "start_time": "2022-08-29T17:17:08.580Z"
   },
   {
    "duration": 203,
    "start_time": "2022-08-29T17:17:08.615Z"
   },
   {
    "duration": 7,
    "start_time": "2022-08-29T17:17:08.819Z"
   },
   {
    "duration": 123,
    "start_time": "2022-08-29T17:17:08.827Z"
   },
   {
    "duration": 9,
    "start_time": "2022-08-29T17:17:08.952Z"
   },
   {
    "duration": 178,
    "start_time": "2022-08-29T17:17:08.962Z"
   },
   {
    "duration": 8,
    "start_time": "2022-08-29T17:17:09.142Z"
   },
   {
    "duration": 18,
    "start_time": "2022-08-29T17:17:09.151Z"
   },
   {
    "duration": 10,
    "start_time": "2022-08-29T17:17:09.171Z"
   },
   {
    "duration": 195,
    "start_time": "2022-08-29T17:17:09.182Z"
   },
   {
    "duration": 1920,
    "start_time": "2022-08-29T17:17:09.379Z"
   },
   {
    "duration": 43,
    "start_time": "2022-08-29T17:17:11.300Z"
   },
   {
    "duration": 8,
    "start_time": "2022-08-29T17:17:11.345Z"
   },
   {
    "duration": 37,
    "start_time": "2022-08-29T17:17:11.355Z"
   },
   {
    "duration": 124,
    "start_time": "2022-08-29T17:17:11.394Z"
   },
   {
    "duration": 17,
    "start_time": "2022-08-29T17:17:11.520Z"
   },
   {
    "duration": 213,
    "start_time": "2022-08-29T17:17:11.539Z"
   },
   {
    "duration": 17,
    "start_time": "2022-08-29T17:17:11.754Z"
   },
   {
    "duration": 260,
    "start_time": "2022-08-29T17:18:19.968Z"
   },
   {
    "duration": 19,
    "start_time": "2022-08-29T17:18:35.194Z"
   },
   {
    "duration": 186,
    "start_time": "2022-08-29T17:18:38.158Z"
   },
   {
    "duration": 14,
    "start_time": "2022-08-29T17:19:42.946Z"
   },
   {
    "duration": 8,
    "start_time": "2022-08-29T17:20:50.589Z"
   },
   {
    "duration": 17,
    "start_time": "2022-08-29T17:21:36.925Z"
   },
   {
    "duration": 54,
    "start_time": "2022-08-29T17:22:28.034Z"
   },
   {
    "duration": 353,
    "start_time": "2022-08-29T17:22:34.047Z"
   },
   {
    "duration": 1136,
    "start_time": "2022-08-29T17:23:25.358Z"
   },
   {
    "duration": 67,
    "start_time": "2022-08-29T17:23:26.496Z"
   },
   {
    "duration": 14,
    "start_time": "2022-08-29T17:23:26.564Z"
   },
   {
    "duration": 15,
    "start_time": "2022-08-29T17:23:26.580Z"
   },
   {
    "duration": 6,
    "start_time": "2022-08-29T17:23:26.597Z"
   },
   {
    "duration": 16,
    "start_time": "2022-08-29T17:23:26.609Z"
   },
   {
    "duration": 5,
    "start_time": "2022-08-29T17:23:26.626Z"
   },
   {
    "duration": 8,
    "start_time": "2022-08-29T17:23:26.632Z"
   },
   {
    "duration": 20,
    "start_time": "2022-08-29T17:23:26.641Z"
   },
   {
    "duration": 98,
    "start_time": "2022-08-29T17:23:26.663Z"
   },
   {
    "duration": 14,
    "start_time": "2022-08-29T17:23:26.763Z"
   },
   {
    "duration": 16,
    "start_time": "2022-08-29T17:23:26.779Z"
   },
   {
    "duration": 24,
    "start_time": "2022-08-29T17:23:26.796Z"
   },
   {
    "duration": 13,
    "start_time": "2022-08-29T17:23:26.823Z"
   },
   {
    "duration": 18,
    "start_time": "2022-08-29T17:23:26.838Z"
   },
   {
    "duration": 6,
    "start_time": "2022-08-29T17:23:26.858Z"
   },
   {
    "duration": 200,
    "start_time": "2022-08-29T17:23:26.866Z"
   },
   {
    "duration": 6,
    "start_time": "2022-08-29T17:23:27.067Z"
   },
   {
    "duration": 136,
    "start_time": "2022-08-29T17:23:27.074Z"
   },
   {
    "duration": 10,
    "start_time": "2022-08-29T17:23:27.212Z"
   },
   {
    "duration": 230,
    "start_time": "2022-08-29T17:23:27.224Z"
   },
   {
    "duration": 8,
    "start_time": "2022-08-29T17:23:27.456Z"
   },
   {
    "duration": 20,
    "start_time": "2022-08-29T17:23:27.466Z"
   },
   {
    "duration": 26,
    "start_time": "2022-08-29T17:23:27.488Z"
   },
   {
    "duration": 185,
    "start_time": "2022-08-29T17:23:27.516Z"
   },
   {
    "duration": 2129,
    "start_time": "2022-08-29T17:23:27.703Z"
   },
   {
    "duration": 36,
    "start_time": "2022-08-29T17:23:29.834Z"
   },
   {
    "duration": 8,
    "start_time": "2022-08-29T17:23:29.872Z"
   },
   {
    "duration": 56,
    "start_time": "2022-08-29T17:23:29.881Z"
   },
   {
    "duration": 118,
    "start_time": "2022-08-29T17:23:29.939Z"
   },
   {
    "duration": 16,
    "start_time": "2022-08-29T17:23:30.059Z"
   },
   {
    "duration": 200,
    "start_time": "2022-08-29T17:23:30.077Z"
   },
   {
    "duration": 9,
    "start_time": "2022-08-29T17:23:30.279Z"
   },
   {
    "duration": 317,
    "start_time": "2022-08-29T17:23:30.290Z"
   },
   {
    "duration": 25,
    "start_time": "2022-08-29T17:24:02.319Z"
   },
   {
    "duration": 15,
    "start_time": "2022-08-29T17:24:46.924Z"
   },
   {
    "duration": 18,
    "start_time": "2022-08-29T17:25:21.866Z"
   },
   {
    "duration": 91,
    "start_time": "2022-08-29T17:39:24.903Z"
   },
   {
    "duration": 17,
    "start_time": "2022-08-29T17:39:50.296Z"
   },
   {
    "duration": 19,
    "start_time": "2022-08-29T17:39:59.634Z"
   },
   {
    "duration": 30,
    "start_time": "2022-08-29T17:41:08.798Z"
   },
   {
    "duration": 25,
    "start_time": "2022-08-29T17:43:10.191Z"
   },
   {
    "duration": 24,
    "start_time": "2022-08-29T17:43:37.089Z"
   },
   {
    "duration": 23,
    "start_time": "2022-08-29T17:44:42.121Z"
   },
   {
    "duration": 24,
    "start_time": "2022-08-29T17:45:40.266Z"
   },
   {
    "duration": 21,
    "start_time": "2022-08-29T17:46:11.120Z"
   },
   {
    "duration": 19,
    "start_time": "2022-08-29T17:46:18.720Z"
   },
   {
    "duration": 18,
    "start_time": "2022-08-29T17:46:48.368Z"
   },
   {
    "duration": 21,
    "start_time": "2022-08-29T17:47:29.494Z"
   },
   {
    "duration": 879,
    "start_time": "2022-08-29T17:50:00.632Z"
   },
   {
    "duration": 727,
    "start_time": "2022-08-29T17:50:50.522Z"
   },
   {
    "duration": 22,
    "start_time": "2022-08-29T17:51:33.171Z"
   },
   {
    "duration": 5,
    "start_time": "2022-08-29T17:51:36.123Z"
   },
   {
    "duration": 6,
    "start_time": "2022-08-29T17:52:27.777Z"
   },
   {
    "duration": 22,
    "start_time": "2022-08-29T17:53:32.612Z"
   },
   {
    "duration": 6,
    "start_time": "2022-08-29T17:53:38.393Z"
   },
   {
    "duration": 1132,
    "start_time": "2022-08-29T17:57:56.577Z"
   },
   {
    "duration": 80,
    "start_time": "2022-08-29T17:57:57.712Z"
   },
   {
    "duration": 16,
    "start_time": "2022-08-29T17:57:57.794Z"
   },
   {
    "duration": 19,
    "start_time": "2022-08-29T17:57:57.811Z"
   },
   {
    "duration": 11,
    "start_time": "2022-08-29T17:57:57.832Z"
   },
   {
    "duration": 23,
    "start_time": "2022-08-29T17:57:57.845Z"
   },
   {
    "duration": 5,
    "start_time": "2022-08-29T17:57:57.869Z"
   },
   {
    "duration": 12,
    "start_time": "2022-08-29T17:57:57.875Z"
   },
   {
    "duration": 31,
    "start_time": "2022-08-29T17:57:57.889Z"
   },
   {
    "duration": 86,
    "start_time": "2022-08-29T17:57:57.922Z"
   },
   {
    "duration": 20,
    "start_time": "2022-08-29T17:57:58.010Z"
   },
   {
    "duration": 19,
    "start_time": "2022-08-29T17:57:58.032Z"
   },
   {
    "duration": 19,
    "start_time": "2022-08-29T17:57:58.053Z"
   },
   {
    "duration": 33,
    "start_time": "2022-08-29T17:57:58.076Z"
   },
   {
    "duration": 16,
    "start_time": "2022-08-29T17:57:58.111Z"
   },
   {
    "duration": 5,
    "start_time": "2022-08-29T17:57:58.129Z"
   },
   {
    "duration": 202,
    "start_time": "2022-08-29T17:57:58.136Z"
   },
   {
    "duration": 7,
    "start_time": "2022-08-29T17:57:58.339Z"
   },
   {
    "duration": 129,
    "start_time": "2022-08-29T17:57:58.348Z"
   },
   {
    "duration": 10,
    "start_time": "2022-08-29T17:57:58.479Z"
   },
   {
    "duration": 172,
    "start_time": "2022-08-29T17:57:58.491Z"
   },
   {
    "duration": 8,
    "start_time": "2022-08-29T17:57:58.665Z"
   },
   {
    "duration": 18,
    "start_time": "2022-08-29T17:57:58.674Z"
   },
   {
    "duration": 22,
    "start_time": "2022-08-29T17:57:58.693Z"
   },
   {
    "duration": 180,
    "start_time": "2022-08-29T17:57:58.717Z"
   },
   {
    "duration": 3062,
    "start_time": "2022-08-29T17:57:58.898Z"
   },
   {
    "duration": 50,
    "start_time": "2022-08-29T17:58:01.962Z"
   },
   {
    "duration": 9,
    "start_time": "2022-08-29T17:58:02.014Z"
   },
   {
    "duration": 60,
    "start_time": "2022-08-29T17:58:02.024Z"
   },
   {
    "duration": 129,
    "start_time": "2022-08-29T17:58:02.086Z"
   },
   {
    "duration": 15,
    "start_time": "2022-08-29T17:58:02.217Z"
   },
   {
    "duration": 236,
    "start_time": "2022-08-29T17:58:02.233Z"
   },
   {
    "duration": 8,
    "start_time": "2022-08-29T17:58:02.470Z"
   },
   {
    "duration": 39,
    "start_time": "2022-08-29T17:58:02.479Z"
   },
   {
    "duration": 5,
    "start_time": "2022-08-29T17:58:02.520Z"
   },
   {
    "duration": 1282,
    "start_time": "2022-08-31T05:35:47.218Z"
   },
   {
    "duration": 261,
    "start_time": "2022-08-31T05:35:48.502Z"
   },
   {
    "duration": 15,
    "start_time": "2022-08-31T05:35:48.764Z"
   },
   {
    "duration": 12,
    "start_time": "2022-08-31T05:35:48.781Z"
   },
   {
    "duration": 6,
    "start_time": "2022-08-31T05:35:48.795Z"
   },
   {
    "duration": 17,
    "start_time": "2022-08-31T05:35:48.802Z"
   },
   {
    "duration": 4,
    "start_time": "2022-08-31T05:35:48.821Z"
   },
   {
    "duration": 6,
    "start_time": "2022-08-31T05:35:48.827Z"
   },
   {
    "duration": 35,
    "start_time": "2022-08-31T05:35:48.834Z"
   },
   {
    "duration": 77,
    "start_time": "2022-08-31T05:35:48.872Z"
   },
   {
    "duration": 14,
    "start_time": "2022-08-31T05:35:48.950Z"
   },
   {
    "duration": 9,
    "start_time": "2022-08-31T05:35:48.966Z"
   },
   {
    "duration": 34,
    "start_time": "2022-08-31T05:35:48.977Z"
   },
   {
    "duration": 14,
    "start_time": "2022-08-31T05:35:49.012Z"
   },
   {
    "duration": 14,
    "start_time": "2022-08-31T05:35:49.027Z"
   },
   {
    "duration": 3,
    "start_time": "2022-08-31T05:35:49.042Z"
   },
   {
    "duration": 109,
    "start_time": "2022-08-31T05:35:49.046Z"
   },
   {
    "duration": 0,
    "start_time": "2022-08-31T05:35:49.157Z"
   },
   {
    "duration": 0,
    "start_time": "2022-08-31T05:35:49.158Z"
   },
   {
    "duration": 0,
    "start_time": "2022-08-31T05:35:49.159Z"
   },
   {
    "duration": 0,
    "start_time": "2022-08-31T05:35:49.160Z"
   },
   {
    "duration": 0,
    "start_time": "2022-08-31T05:35:49.162Z"
   },
   {
    "duration": 0,
    "start_time": "2022-08-31T05:35:49.163Z"
   },
   {
    "duration": 0,
    "start_time": "2022-08-31T05:35:49.164Z"
   },
   {
    "duration": 0,
    "start_time": "2022-08-31T05:35:49.165Z"
   },
   {
    "duration": 0,
    "start_time": "2022-08-31T05:35:49.166Z"
   },
   {
    "duration": 0,
    "start_time": "2022-08-31T05:35:49.167Z"
   },
   {
    "duration": 0,
    "start_time": "2022-08-31T05:35:49.168Z"
   },
   {
    "duration": 0,
    "start_time": "2022-08-31T05:35:49.169Z"
   },
   {
    "duration": 0,
    "start_time": "2022-08-31T05:35:49.170Z"
   },
   {
    "duration": 0,
    "start_time": "2022-08-31T05:35:49.171Z"
   },
   {
    "duration": 0,
    "start_time": "2022-08-31T05:35:49.172Z"
   },
   {
    "duration": 0,
    "start_time": "2022-08-31T05:35:49.173Z"
   },
   {
    "duration": 0,
    "start_time": "2022-08-31T05:35:49.174Z"
   },
   {
    "duration": 0,
    "start_time": "2022-08-31T05:35:49.175Z"
   },
   {
    "duration": 0,
    "start_time": "2022-08-31T05:35:49.175Z"
   },
   {
    "duration": 7,
    "start_time": "2022-08-31T05:36:04.567Z"
   },
   {
    "duration": 6,
    "start_time": "2022-08-31T05:36:11.750Z"
   },
   {
    "duration": 129,
    "start_time": "2022-08-31T05:36:23.136Z"
   },
   {
    "duration": 7,
    "start_time": "2022-08-31T05:37:04.585Z"
   },
   {
    "duration": 120,
    "start_time": "2022-08-31T05:37:06.464Z"
   },
   {
    "duration": 10,
    "start_time": "2022-08-31T05:37:15.855Z"
   },
   {
    "duration": 219,
    "start_time": "2022-08-31T05:37:17.175Z"
   },
   {
    "duration": 130,
    "start_time": "2022-08-31T05:45:59.789Z"
   },
   {
    "duration": 9,
    "start_time": "2022-08-31T05:46:27.224Z"
   },
   {
    "duration": 112,
    "start_time": "2022-08-31T05:49:48.182Z"
   },
   {
    "duration": 169,
    "start_time": "2022-08-31T05:50:10.542Z"
   },
   {
    "duration": 100,
    "start_time": "2022-08-31T05:52:00.162Z"
   },
   {
    "duration": 7,
    "start_time": "2022-08-31T05:52:10.815Z"
   },
   {
    "duration": 198,
    "start_time": "2022-08-31T05:52:37.053Z"
   },
   {
    "duration": 160,
    "start_time": "2022-08-31T05:52:52.826Z"
   },
   {
    "duration": 1069,
    "start_time": "2022-08-31T05:54:52.426Z"
   },
   {
    "duration": 68,
    "start_time": "2022-08-31T05:54:53.497Z"
   },
   {
    "duration": 13,
    "start_time": "2022-08-31T05:54:53.567Z"
   },
   {
    "duration": 12,
    "start_time": "2022-08-31T05:54:53.583Z"
   },
   {
    "duration": 7,
    "start_time": "2022-08-31T05:54:53.597Z"
   },
   {
    "duration": 18,
    "start_time": "2022-08-31T05:54:53.609Z"
   },
   {
    "duration": 5,
    "start_time": "2022-08-31T05:54:53.629Z"
   },
   {
    "duration": 12,
    "start_time": "2022-08-31T05:54:53.635Z"
   },
   {
    "duration": 25,
    "start_time": "2022-08-31T05:54:53.649Z"
   },
   {
    "duration": 90,
    "start_time": "2022-08-31T05:54:53.676Z"
   },
   {
    "duration": 15,
    "start_time": "2022-08-31T05:54:53.767Z"
   },
   {
    "duration": 11,
    "start_time": "2022-08-31T05:54:53.784Z"
   },
   {
    "duration": 16,
    "start_time": "2022-08-31T05:54:53.809Z"
   },
   {
    "duration": 14,
    "start_time": "2022-08-31T05:54:53.828Z"
   },
   {
    "duration": 15,
    "start_time": "2022-08-31T05:54:53.844Z"
   },
   {
    "duration": 6,
    "start_time": "2022-08-31T05:54:53.861Z"
   },
   {
    "duration": 209,
    "start_time": "2022-08-31T05:54:53.868Z"
   },
   {
    "duration": 6,
    "start_time": "2022-08-31T05:54:54.079Z"
   },
   {
    "duration": 124,
    "start_time": "2022-08-31T05:54:54.086Z"
   },
   {
    "duration": 9,
    "start_time": "2022-08-31T05:54:54.212Z"
   },
   {
    "duration": 187,
    "start_time": "2022-08-31T05:54:54.222Z"
   },
   {
    "duration": 8,
    "start_time": "2022-08-31T05:54:54.411Z"
   },
   {
    "duration": 23,
    "start_time": "2022-08-31T05:54:54.420Z"
   },
   {
    "duration": 21,
    "start_time": "2022-08-31T05:54:54.444Z"
   },
   {
    "duration": 165,
    "start_time": "2022-08-31T05:54:54.467Z"
   },
   {
    "duration": 2602,
    "start_time": "2022-08-31T05:54:54.634Z"
   },
   {
    "duration": 44,
    "start_time": "2022-08-31T05:54:57.238Z"
   },
   {
    "duration": 34,
    "start_time": "2022-08-31T05:54:57.284Z"
   },
   {
    "duration": 39,
    "start_time": "2022-08-31T05:54:57.320Z"
   },
   {
    "duration": 115,
    "start_time": "2022-08-31T05:54:57.361Z"
   },
   {
    "duration": 13,
    "start_time": "2022-08-31T05:54:57.478Z"
   },
   {
    "duration": 203,
    "start_time": "2022-08-31T05:54:57.493Z"
   },
   {
    "duration": 12,
    "start_time": "2022-08-31T05:54:57.698Z"
   },
   {
    "duration": 23,
    "start_time": "2022-08-31T05:54:57.712Z"
   },
   {
    "duration": 5,
    "start_time": "2022-08-31T05:54:57.737Z"
   },
   {
    "duration": 279,
    "start_time": "2022-08-31T06:10:37.050Z"
   },
   {
    "duration": 169,
    "start_time": "2022-08-31T06:11:20.543Z"
   },
   {
    "duration": 160,
    "start_time": "2022-08-31T06:11:38.977Z"
   },
   {
    "duration": 93,
    "start_time": "2022-08-31T06:12:09.800Z"
   },
   {
    "duration": 155,
    "start_time": "2022-08-31T06:12:42.559Z"
   },
   {
    "duration": 165,
    "start_time": "2022-08-31T06:14:08.695Z"
   },
   {
    "duration": 107,
    "start_time": "2022-08-31T06:20:08.793Z"
   },
   {
    "duration": 16,
    "start_time": "2022-08-31T06:20:48.563Z"
   },
   {
    "duration": 17,
    "start_time": "2022-08-31T06:20:52.639Z"
   },
   {
    "duration": 175,
    "start_time": "2022-08-31T06:21:14.081Z"
   },
   {
    "duration": 22,
    "start_time": "2022-08-31T06:22:45.083Z"
   },
   {
    "duration": 6,
    "start_time": "2022-08-31T06:23:04.215Z"
   },
   {
    "duration": 13,
    "start_time": "2022-08-31T06:24:36.400Z"
   },
   {
    "duration": 15,
    "start_time": "2022-08-31T06:25:59.482Z"
   },
   {
    "duration": 13,
    "start_time": "2022-08-31T06:26:25.333Z"
   },
   {
    "duration": 1206,
    "start_time": "2022-08-31T06:28:04.897Z"
   },
   {
    "duration": 77,
    "start_time": "2022-08-31T06:28:06.105Z"
   },
   {
    "duration": 19,
    "start_time": "2022-08-31T06:28:06.185Z"
   },
   {
    "duration": 22,
    "start_time": "2022-08-31T06:28:06.206Z"
   },
   {
    "duration": 20,
    "start_time": "2022-08-31T06:28:06.230Z"
   },
   {
    "duration": 19,
    "start_time": "2022-08-31T06:28:06.252Z"
   },
   {
    "duration": 9,
    "start_time": "2022-08-31T06:28:06.273Z"
   },
   {
    "duration": 17,
    "start_time": "2022-08-31T06:28:06.285Z"
   },
   {
    "duration": 40,
    "start_time": "2022-08-31T06:28:06.304Z"
   },
   {
    "duration": 84,
    "start_time": "2022-08-31T06:28:06.346Z"
   },
   {
    "duration": 18,
    "start_time": "2022-08-31T06:28:06.431Z"
   },
   {
    "duration": 20,
    "start_time": "2022-08-31T06:28:06.451Z"
   },
   {
    "duration": 22,
    "start_time": "2022-08-31T06:28:06.473Z"
   },
   {
    "duration": 23,
    "start_time": "2022-08-31T06:28:06.508Z"
   },
   {
    "duration": 24,
    "start_time": "2022-08-31T06:28:06.533Z"
   },
   {
    "duration": 7,
    "start_time": "2022-08-31T06:28:06.558Z"
   },
   {
    "duration": 206,
    "start_time": "2022-08-31T06:28:06.566Z"
   },
   {
    "duration": 7,
    "start_time": "2022-08-31T06:28:06.774Z"
   },
   {
    "duration": 145,
    "start_time": "2022-08-31T06:28:06.784Z"
   },
   {
    "duration": 8,
    "start_time": "2022-08-31T06:28:06.931Z"
   },
   {
    "duration": 193,
    "start_time": "2022-08-31T06:28:06.941Z"
   },
   {
    "duration": 8,
    "start_time": "2022-08-31T06:28:07.135Z"
   },
   {
    "duration": 20,
    "start_time": "2022-08-31T06:28:07.145Z"
   },
   {
    "duration": 17,
    "start_time": "2022-08-31T06:28:07.167Z"
   },
   {
    "duration": 263,
    "start_time": "2022-08-31T06:28:07.186Z"
   },
   {
    "duration": 2711,
    "start_time": "2022-08-31T06:28:07.452Z"
   },
   {
    "duration": 59,
    "start_time": "2022-08-31T06:28:10.165Z"
   },
   {
    "duration": 10,
    "start_time": "2022-08-31T06:28:10.227Z"
   },
   {
    "duration": 52,
    "start_time": "2022-08-31T06:28:10.239Z"
   },
   {
    "duration": 165,
    "start_time": "2022-08-31T06:28:10.294Z"
   },
   {
    "duration": 15,
    "start_time": "2022-08-31T06:28:10.463Z"
   },
   {
    "duration": 242,
    "start_time": "2022-08-31T06:28:10.480Z"
   },
   {
    "duration": 9,
    "start_time": "2022-08-31T06:28:10.724Z"
   },
   {
    "duration": 38,
    "start_time": "2022-08-31T06:28:10.735Z"
   },
   {
    "duration": 18,
    "start_time": "2022-08-31T06:28:10.775Z"
   },
   {
    "duration": 7,
    "start_time": "2022-08-31T06:28:10.810Z"
   },
   {
    "duration": 5,
    "start_time": "2022-08-31T06:29:20.691Z"
   },
   {
    "duration": 104,
    "start_time": "2022-08-31T06:34:25.277Z"
   },
   {
    "duration": 1195,
    "start_time": "2022-08-31T06:34:43.983Z"
   },
   {
    "duration": 71,
    "start_time": "2022-08-31T06:34:45.180Z"
   },
   {
    "duration": 14,
    "start_time": "2022-08-31T06:34:45.252Z"
   },
   {
    "duration": 14,
    "start_time": "2022-08-31T06:34:45.268Z"
   },
   {
    "duration": 6,
    "start_time": "2022-08-31T06:34:45.284Z"
   },
   {
    "duration": 18,
    "start_time": "2022-08-31T06:34:45.309Z"
   },
   {
    "duration": 6,
    "start_time": "2022-08-31T06:34:45.328Z"
   },
   {
    "duration": 7,
    "start_time": "2022-08-31T06:34:45.336Z"
   },
   {
    "duration": 24,
    "start_time": "2022-08-31T06:34:45.344Z"
   },
   {
    "duration": 104,
    "start_time": "2022-08-31T06:34:45.372Z"
   },
   {
    "duration": 16,
    "start_time": "2022-08-31T06:34:45.478Z"
   },
   {
    "duration": 19,
    "start_time": "2022-08-31T06:34:45.496Z"
   },
   {
    "duration": 21,
    "start_time": "2022-08-31T06:34:45.516Z"
   },
   {
    "duration": 16,
    "start_time": "2022-08-31T06:34:45.538Z"
   },
   {
    "duration": 16,
    "start_time": "2022-08-31T06:34:45.556Z"
   },
   {
    "duration": 6,
    "start_time": "2022-08-31T06:34:45.574Z"
   },
   {
    "duration": 189,
    "start_time": "2022-08-31T06:34:45.610Z"
   },
   {
    "duration": 9,
    "start_time": "2022-08-31T06:34:45.801Z"
   },
   {
    "duration": 118,
    "start_time": "2022-08-31T06:34:45.812Z"
   },
   {
    "duration": 12,
    "start_time": "2022-08-31T06:34:45.932Z"
   },
   {
    "duration": 192,
    "start_time": "2022-08-31T06:34:45.946Z"
   },
   {
    "duration": 8,
    "start_time": "2022-08-31T06:34:46.140Z"
   },
   {
    "duration": 15,
    "start_time": "2022-08-31T06:34:46.150Z"
   },
   {
    "duration": 9,
    "start_time": "2022-08-31T06:34:46.167Z"
   },
   {
    "duration": 203,
    "start_time": "2022-08-31T06:34:46.177Z"
   },
   {
    "duration": 2631,
    "start_time": "2022-08-31T06:34:46.382Z"
   },
   {
    "duration": 35,
    "start_time": "2022-08-31T06:34:49.015Z"
   },
   {
    "duration": 10,
    "start_time": "2022-08-31T06:34:49.052Z"
   },
   {
    "duration": 53,
    "start_time": "2022-08-31T06:34:49.064Z"
   },
   {
    "duration": 115,
    "start_time": "2022-08-31T06:34:49.119Z"
   },
   {
    "duration": 13,
    "start_time": "2022-08-31T06:34:49.236Z"
   },
   {
    "duration": 198,
    "start_time": "2022-08-31T06:34:49.250Z"
   },
   {
    "duration": 8,
    "start_time": "2022-08-31T06:34:49.450Z"
   },
   {
    "duration": 23,
    "start_time": "2022-08-31T06:34:49.460Z"
   },
   {
    "duration": 32,
    "start_time": "2022-08-31T06:34:49.484Z"
   },
   {
    "duration": 14,
    "start_time": "2022-08-31T06:34:49.518Z"
   },
   {
    "duration": 1204,
    "start_time": "2022-08-31T06:38:17.405Z"
   },
   {
    "duration": 72,
    "start_time": "2022-08-31T06:38:18.611Z"
   },
   {
    "duration": 14,
    "start_time": "2022-08-31T06:38:18.685Z"
   },
   {
    "duration": 11,
    "start_time": "2022-08-31T06:38:18.701Z"
   },
   {
    "duration": 7,
    "start_time": "2022-08-31T06:38:18.714Z"
   },
   {
    "duration": 20,
    "start_time": "2022-08-31T06:38:18.722Z"
   },
   {
    "duration": 5,
    "start_time": "2022-08-31T06:38:18.744Z"
   },
   {
    "duration": 12,
    "start_time": "2022-08-31T06:38:18.750Z"
   },
   {
    "duration": 18,
    "start_time": "2022-08-31T06:38:18.764Z"
   },
   {
    "duration": 76,
    "start_time": "2022-08-31T06:38:18.810Z"
   },
   {
    "duration": 28,
    "start_time": "2022-08-31T06:38:18.888Z"
   },
   {
    "duration": 17,
    "start_time": "2022-08-31T06:38:18.918Z"
   },
   {
    "duration": 19,
    "start_time": "2022-08-31T06:38:18.938Z"
   },
   {
    "duration": 15,
    "start_time": "2022-08-31T06:38:18.958Z"
   },
   {
    "duration": 15,
    "start_time": "2022-08-31T06:38:18.975Z"
   },
   {
    "duration": 7,
    "start_time": "2022-08-31T06:38:19.009Z"
   },
   {
    "duration": 188,
    "start_time": "2022-08-31T06:38:19.017Z"
   },
   {
    "duration": 7,
    "start_time": "2022-08-31T06:38:19.208Z"
   },
   {
    "duration": 121,
    "start_time": "2022-08-31T06:38:19.216Z"
   },
   {
    "duration": 9,
    "start_time": "2022-08-31T06:38:19.339Z"
   },
   {
    "duration": 192,
    "start_time": "2022-08-31T06:38:19.349Z"
   },
   {
    "duration": 8,
    "start_time": "2022-08-31T06:38:19.543Z"
   },
   {
    "duration": 27,
    "start_time": "2022-08-31T06:38:19.553Z"
   },
   {
    "duration": 12,
    "start_time": "2022-08-31T06:38:19.582Z"
   },
   {
    "duration": 198,
    "start_time": "2022-08-31T06:38:19.596Z"
   },
   {
    "duration": 1762,
    "start_time": "2022-08-31T06:38:19.796Z"
   },
   {
    "duration": 37,
    "start_time": "2022-08-31T06:38:21.559Z"
   },
   {
    "duration": 10,
    "start_time": "2022-08-31T06:38:21.612Z"
   },
   {
    "duration": 54,
    "start_time": "2022-08-31T06:38:21.623Z"
   },
   {
    "duration": 141,
    "start_time": "2022-08-31T06:38:21.679Z"
   },
   {
    "duration": 14,
    "start_time": "2022-08-31T06:38:21.821Z"
   },
   {
    "duration": 192,
    "start_time": "2022-08-31T06:38:21.837Z"
   },
   {
    "duration": 9,
    "start_time": "2022-08-31T06:38:22.030Z"
   },
   {
    "duration": 41,
    "start_time": "2022-08-31T06:38:22.040Z"
   },
   {
    "duration": 13,
    "start_time": "2022-08-31T06:38:22.082Z"
   },
   {
    "duration": 28,
    "start_time": "2022-08-31T06:38:22.097Z"
   },
   {
    "duration": 1164,
    "start_time": "2022-08-31T06:51:27.060Z"
   },
   {
    "duration": 70,
    "start_time": "2022-08-31T06:51:28.226Z"
   },
   {
    "duration": 14,
    "start_time": "2022-08-31T06:51:28.298Z"
   },
   {
    "duration": 31,
    "start_time": "2022-08-31T06:51:28.314Z"
   },
   {
    "duration": 26,
    "start_time": "2022-08-31T06:51:28.346Z"
   },
   {
    "duration": 24,
    "start_time": "2022-08-31T06:51:28.374Z"
   },
   {
    "duration": 12,
    "start_time": "2022-08-31T06:51:28.400Z"
   },
   {
    "duration": 18,
    "start_time": "2022-08-31T06:51:28.414Z"
   },
   {
    "duration": 26,
    "start_time": "2022-08-31T06:51:28.434Z"
   },
   {
    "duration": 76,
    "start_time": "2022-08-31T06:51:28.463Z"
   },
   {
    "duration": 18,
    "start_time": "2022-08-31T06:51:28.541Z"
   },
   {
    "duration": 25,
    "start_time": "2022-08-31T06:51:28.561Z"
   },
   {
    "duration": 38,
    "start_time": "2022-08-31T06:51:28.588Z"
   },
   {
    "duration": 17,
    "start_time": "2022-08-31T06:51:28.627Z"
   },
   {
    "duration": 16,
    "start_time": "2022-08-31T06:51:28.646Z"
   },
   {
    "duration": 26,
    "start_time": "2022-08-31T06:51:28.664Z"
   },
   {
    "duration": 211,
    "start_time": "2022-08-31T06:51:28.692Z"
   },
   {
    "duration": 7,
    "start_time": "2022-08-31T06:51:28.905Z"
   },
   {
    "duration": 136,
    "start_time": "2022-08-31T06:51:28.914Z"
   },
   {
    "duration": 10,
    "start_time": "2022-08-31T06:51:29.052Z"
   },
   {
    "duration": 194,
    "start_time": "2022-08-31T06:51:29.064Z"
   },
   {
    "duration": 9,
    "start_time": "2022-08-31T06:51:29.260Z"
   },
   {
    "duration": 18,
    "start_time": "2022-08-31T06:51:29.271Z"
   },
   {
    "duration": 26,
    "start_time": "2022-08-31T06:51:29.291Z"
   },
   {
    "duration": 188,
    "start_time": "2022-08-31T06:51:29.319Z"
   },
   {
    "duration": 2557,
    "start_time": "2022-08-31T06:51:29.509Z"
   },
   {
    "duration": 41,
    "start_time": "2022-08-31T06:51:32.068Z"
   },
   {
    "duration": 34,
    "start_time": "2022-08-31T06:51:32.112Z"
   },
   {
    "duration": 41,
    "start_time": "2022-08-31T06:51:32.147Z"
   },
   {
    "duration": 104,
    "start_time": "2022-08-31T06:51:32.189Z"
   },
   {
    "duration": 16,
    "start_time": "2022-08-31T06:51:32.295Z"
   },
   {
    "duration": 198,
    "start_time": "2022-08-31T06:51:32.312Z"
   },
   {
    "duration": 7,
    "start_time": "2022-08-31T06:51:32.512Z"
   },
   {
    "duration": 149,
    "start_time": "2022-08-31T06:51:32.521Z"
   },
   {
    "duration": 0,
    "start_time": "2022-08-31T06:51:32.672Z"
   },
   {
    "duration": 0,
    "start_time": "2022-08-31T06:51:32.674Z"
   },
   {
    "duration": 24,
    "start_time": "2022-08-31T06:51:53.723Z"
   },
   {
    "duration": 1129,
    "start_time": "2022-08-31T06:52:05.372Z"
   },
   {
    "duration": 70,
    "start_time": "2022-08-31T06:52:06.503Z"
   },
   {
    "duration": 14,
    "start_time": "2022-08-31T06:52:06.574Z"
   },
   {
    "duration": 13,
    "start_time": "2022-08-31T06:52:06.590Z"
   },
   {
    "duration": 7,
    "start_time": "2022-08-31T06:52:06.605Z"
   },
   {
    "duration": 21,
    "start_time": "2022-08-31T06:52:06.614Z"
   },
   {
    "duration": 4,
    "start_time": "2022-08-31T06:52:06.637Z"
   },
   {
    "duration": 15,
    "start_time": "2022-08-31T06:52:06.643Z"
   },
   {
    "duration": 35,
    "start_time": "2022-08-31T06:52:06.660Z"
   },
   {
    "duration": 82,
    "start_time": "2022-08-31T06:52:06.696Z"
   },
   {
    "duration": 31,
    "start_time": "2022-08-31T06:52:06.780Z"
   },
   {
    "duration": 22,
    "start_time": "2022-08-31T06:52:06.813Z"
   },
   {
    "duration": 20,
    "start_time": "2022-08-31T06:52:06.836Z"
   },
   {
    "duration": 13,
    "start_time": "2022-08-31T06:52:06.859Z"
   },
   {
    "duration": 16,
    "start_time": "2022-08-31T06:52:06.874Z"
   },
   {
    "duration": 22,
    "start_time": "2022-08-31T06:52:06.891Z"
   },
   {
    "duration": 241,
    "start_time": "2022-08-31T06:52:06.915Z"
   },
   {
    "duration": 7,
    "start_time": "2022-08-31T06:52:07.158Z"
   },
   {
    "duration": 159,
    "start_time": "2022-08-31T06:52:07.166Z"
   },
   {
    "duration": 13,
    "start_time": "2022-08-31T06:52:07.327Z"
   },
   {
    "duration": 221,
    "start_time": "2022-08-31T06:52:07.342Z"
   },
   {
    "duration": 8,
    "start_time": "2022-08-31T06:52:07.565Z"
   },
   {
    "duration": 33,
    "start_time": "2022-08-31T06:52:07.574Z"
   },
   {
    "duration": 16,
    "start_time": "2022-08-31T06:52:07.608Z"
   },
   {
    "duration": 203,
    "start_time": "2022-08-31T06:52:07.626Z"
   },
   {
    "duration": 1995,
    "start_time": "2022-08-31T06:52:07.831Z"
   },
   {
    "duration": 34,
    "start_time": "2022-08-31T06:52:09.828Z"
   },
   {
    "duration": 8,
    "start_time": "2022-08-31T06:52:09.863Z"
   },
   {
    "duration": 57,
    "start_time": "2022-08-31T06:52:09.872Z"
   },
   {
    "duration": 113,
    "start_time": "2022-08-31T06:52:09.930Z"
   },
   {
    "duration": 14,
    "start_time": "2022-08-31T06:52:10.045Z"
   },
   {
    "duration": 201,
    "start_time": "2022-08-31T06:52:10.061Z"
   },
   {
    "duration": 9,
    "start_time": "2022-08-31T06:52:10.264Z"
   },
   {
    "duration": 38,
    "start_time": "2022-08-31T06:52:10.275Z"
   },
   {
    "duration": 16,
    "start_time": "2022-08-31T06:52:10.315Z"
   },
   {
    "duration": 12,
    "start_time": "2022-08-31T06:52:10.333Z"
   },
   {
    "duration": 1112,
    "start_time": "2022-08-31T06:54:28.899Z"
   },
   {
    "duration": 70,
    "start_time": "2022-08-31T06:54:30.013Z"
   },
   {
    "duration": 14,
    "start_time": "2022-08-31T06:54:30.085Z"
   },
   {
    "duration": 20,
    "start_time": "2022-08-31T06:54:30.101Z"
   },
   {
    "duration": 16,
    "start_time": "2022-08-31T06:54:30.122Z"
   },
   {
    "duration": 31,
    "start_time": "2022-08-31T06:54:30.140Z"
   },
   {
    "duration": 17,
    "start_time": "2022-08-31T06:54:30.173Z"
   },
   {
    "duration": 31,
    "start_time": "2022-08-31T06:54:30.192Z"
   },
   {
    "duration": 31,
    "start_time": "2022-08-31T06:54:30.225Z"
   },
   {
    "duration": 65,
    "start_time": "2022-08-31T06:54:30.259Z"
   },
   {
    "duration": 15,
    "start_time": "2022-08-31T06:54:30.326Z"
   },
   {
    "duration": 13,
    "start_time": "2022-08-31T06:54:30.343Z"
   },
   {
    "duration": 59,
    "start_time": "2022-08-31T06:54:30.359Z"
   },
   {
    "duration": 22,
    "start_time": "2022-08-31T06:54:30.420Z"
   },
   {
    "duration": 28,
    "start_time": "2022-08-31T06:54:30.444Z"
   },
   {
    "duration": 6,
    "start_time": "2022-08-31T06:54:30.474Z"
   },
   {
    "duration": 196,
    "start_time": "2022-08-31T06:54:30.482Z"
   },
   {
    "duration": 7,
    "start_time": "2022-08-31T06:54:30.680Z"
   },
   {
    "duration": 120,
    "start_time": "2022-08-31T06:54:30.689Z"
   },
   {
    "duration": 10,
    "start_time": "2022-08-31T06:54:30.810Z"
   },
   {
    "duration": 182,
    "start_time": "2022-08-31T06:54:30.821Z"
   },
   {
    "duration": 10,
    "start_time": "2022-08-31T06:54:31.005Z"
   },
   {
    "duration": 61,
    "start_time": "2022-08-31T06:54:31.017Z"
   },
   {
    "duration": 86,
    "start_time": "2022-08-31T06:54:31.079Z"
   },
   {
    "duration": 195,
    "start_time": "2022-08-31T06:54:31.167Z"
   },
   {
    "duration": 1903,
    "start_time": "2022-08-31T06:54:31.364Z"
   },
   {
    "duration": 46,
    "start_time": "2022-08-31T06:54:33.269Z"
   },
   {
    "duration": 9,
    "start_time": "2022-08-31T06:54:33.319Z"
   },
   {
    "duration": 41,
    "start_time": "2022-08-31T06:54:33.329Z"
   },
   {
    "duration": 127,
    "start_time": "2022-08-31T06:54:33.371Z"
   },
   {
    "duration": 18,
    "start_time": "2022-08-31T06:54:33.500Z"
   },
   {
    "duration": 201,
    "start_time": "2022-08-31T06:54:33.520Z"
   },
   {
    "duration": 8,
    "start_time": "2022-08-31T06:54:33.722Z"
   },
   {
    "duration": 26,
    "start_time": "2022-08-31T06:54:33.732Z"
   },
   {
    "duration": 13,
    "start_time": "2022-08-31T06:54:33.760Z"
   },
   {
    "duration": 10,
    "start_time": "2022-08-31T06:54:33.775Z"
   },
   {
    "duration": 1104,
    "start_time": "2022-08-31T09:28:49.084Z"
   },
   {
    "duration": 69,
    "start_time": "2022-08-31T09:28:50.190Z"
   },
   {
    "duration": 13,
    "start_time": "2022-08-31T09:28:50.261Z"
   },
   {
    "duration": 11,
    "start_time": "2022-08-31T09:28:50.276Z"
   },
   {
    "duration": 6,
    "start_time": "2022-08-31T09:28:50.289Z"
   },
   {
    "duration": 27,
    "start_time": "2022-08-31T09:28:50.297Z"
   },
   {
    "duration": 4,
    "start_time": "2022-08-31T09:28:50.326Z"
   },
   {
    "duration": 13,
    "start_time": "2022-08-31T09:28:50.332Z"
   },
   {
    "duration": 21,
    "start_time": "2022-08-31T09:28:50.347Z"
   },
   {
    "duration": 73,
    "start_time": "2022-08-31T09:28:50.370Z"
   },
   {
    "duration": 14,
    "start_time": "2022-08-31T09:28:50.445Z"
   },
   {
    "duration": 10,
    "start_time": "2022-08-31T09:28:50.461Z"
   },
   {
    "duration": 37,
    "start_time": "2022-08-31T09:28:50.473Z"
   },
   {
    "duration": 14,
    "start_time": "2022-08-31T09:28:50.511Z"
   },
   {
    "duration": 16,
    "start_time": "2022-08-31T09:28:50.527Z"
   },
   {
    "duration": 6,
    "start_time": "2022-08-31T09:28:50.544Z"
   },
   {
    "duration": 196,
    "start_time": "2022-08-31T09:28:50.551Z"
   },
   {
    "duration": 6,
    "start_time": "2022-08-31T09:28:50.749Z"
   },
   {
    "duration": 120,
    "start_time": "2022-08-31T09:28:50.756Z"
   },
   {
    "duration": 9,
    "start_time": "2022-08-31T09:28:50.877Z"
   },
   {
    "duration": 193,
    "start_time": "2022-08-31T09:28:50.888Z"
   },
   {
    "duration": 8,
    "start_time": "2022-08-31T09:28:51.082Z"
   },
   {
    "duration": 27,
    "start_time": "2022-08-31T09:28:51.092Z"
   },
   {
    "duration": 9,
    "start_time": "2022-08-31T09:28:51.120Z"
   },
   {
    "duration": 180,
    "start_time": "2022-08-31T09:28:51.130Z"
   },
   {
    "duration": 1953,
    "start_time": "2022-08-31T09:28:51.312Z"
   },
   {
    "duration": 44,
    "start_time": "2022-08-31T09:28:53.267Z"
   },
   {
    "duration": 8,
    "start_time": "2022-08-31T09:28:53.314Z"
   },
   {
    "duration": 48,
    "start_time": "2022-08-31T09:28:53.324Z"
   },
   {
    "duration": 135,
    "start_time": "2022-08-31T09:28:53.374Z"
   },
   {
    "duration": 15,
    "start_time": "2022-08-31T09:28:53.510Z"
   },
   {
    "duration": 211,
    "start_time": "2022-08-31T09:28:53.527Z"
   },
   {
    "duration": 8,
    "start_time": "2022-08-31T09:28:53.740Z"
   },
   {
    "duration": 32,
    "start_time": "2022-08-31T09:28:53.749Z"
   },
   {
    "duration": 28,
    "start_time": "2022-08-31T09:28:53.783Z"
   },
   {
    "duration": 9,
    "start_time": "2022-08-31T09:28:53.812Z"
   },
   {
    "duration": 178,
    "start_time": "2022-09-01T06:27:28.724Z"
   },
   {
    "duration": 1304,
    "start_time": "2022-09-01T06:38:50.747Z"
   },
   {
    "duration": 242,
    "start_time": "2022-09-01T06:38:52.054Z"
   },
   {
    "duration": 14,
    "start_time": "2022-09-01T06:38:52.297Z"
   },
   {
    "duration": 14,
    "start_time": "2022-09-01T06:38:52.313Z"
   },
   {
    "duration": 6,
    "start_time": "2022-09-01T06:38:52.328Z"
   },
   {
    "duration": 18,
    "start_time": "2022-09-01T06:38:52.335Z"
   },
   {
    "duration": 4,
    "start_time": "2022-09-01T06:38:52.354Z"
   },
   {
    "duration": 9,
    "start_time": "2022-09-01T06:38:52.360Z"
   },
   {
    "duration": 22,
    "start_time": "2022-09-01T06:38:52.370Z"
   },
   {
    "duration": 82,
    "start_time": "2022-09-01T06:38:52.394Z"
   },
   {
    "duration": 15,
    "start_time": "2022-09-01T06:38:52.478Z"
   },
   {
    "duration": 14,
    "start_time": "2022-09-01T06:38:52.494Z"
   },
   {
    "duration": 29,
    "start_time": "2022-09-01T06:38:52.509Z"
   },
   {
    "duration": 14,
    "start_time": "2022-09-01T06:38:52.540Z"
   },
   {
    "duration": 15,
    "start_time": "2022-09-01T06:38:52.556Z"
   },
   {
    "duration": 6,
    "start_time": "2022-09-01T06:38:52.573Z"
   },
   {
    "duration": 205,
    "start_time": "2022-09-01T06:38:52.580Z"
   },
   {
    "duration": 7,
    "start_time": "2022-09-01T06:38:52.787Z"
   },
   {
    "duration": 123,
    "start_time": "2022-09-01T06:38:52.796Z"
   },
   {
    "duration": 18,
    "start_time": "2022-09-01T06:38:52.921Z"
   },
   {
    "duration": 179,
    "start_time": "2022-09-01T06:38:52.941Z"
   },
   {
    "duration": 16,
    "start_time": "2022-09-01T06:38:53.122Z"
   },
   {
    "duration": 21,
    "start_time": "2022-09-01T06:38:53.140Z"
   },
   {
    "duration": 12,
    "start_time": "2022-09-01T06:38:53.163Z"
   },
   {
    "duration": 262,
    "start_time": "2022-09-01T06:38:53.177Z"
   },
   {
    "duration": 2815,
    "start_time": "2022-09-01T06:38:53.441Z"
   },
   {
    "duration": 37,
    "start_time": "2022-09-01T06:38:56.258Z"
   },
   {
    "duration": 25,
    "start_time": "2022-09-01T06:38:56.298Z"
   },
   {
    "duration": 52,
    "start_time": "2022-09-01T06:38:56.324Z"
   },
   {
    "duration": 104,
    "start_time": "2022-09-01T06:38:56.378Z"
   },
   {
    "duration": 13,
    "start_time": "2022-09-01T06:38:56.484Z"
   },
   {
    "duration": 198,
    "start_time": "2022-09-01T06:38:56.498Z"
   },
   {
    "duration": 8,
    "start_time": "2022-09-01T06:38:56.698Z"
   },
   {
    "duration": 43,
    "start_time": "2022-09-01T06:38:56.707Z"
   },
   {
    "duration": 12,
    "start_time": "2022-09-01T06:38:56.751Z"
   },
   {
    "duration": 24,
    "start_time": "2022-09-01T06:38:56.765Z"
   },
   {
    "duration": 1220,
    "start_time": "2022-09-23T15:29:48.349Z"
   },
   {
    "duration": 109,
    "start_time": "2022-09-23T15:29:49.571Z"
   },
   {
    "duration": 11,
    "start_time": "2022-09-23T15:29:49.681Z"
   },
   {
    "duration": 45,
    "start_time": "2022-09-23T15:29:49.694Z"
   },
   {
    "duration": 23,
    "start_time": "2022-09-23T15:29:49.742Z"
   },
   {
    "duration": 53,
    "start_time": "2022-09-23T15:29:49.766Z"
   },
   {
    "duration": 4,
    "start_time": "2022-09-23T15:29:49.821Z"
   },
   {
    "duration": 16,
    "start_time": "2022-09-23T15:29:49.827Z"
   },
   {
    "duration": 32,
    "start_time": "2022-09-23T15:29:49.844Z"
   },
   {
    "duration": 66,
    "start_time": "2022-09-23T15:29:49.877Z"
   },
   {
    "duration": 14,
    "start_time": "2022-09-23T15:29:49.945Z"
   },
   {
    "duration": 15,
    "start_time": "2022-09-23T15:29:49.960Z"
   },
   {
    "duration": 20,
    "start_time": "2022-09-23T15:29:49.977Z"
   },
   {
    "duration": 23,
    "start_time": "2022-09-23T15:29:49.999Z"
   },
   {
    "duration": 19,
    "start_time": "2022-09-23T15:29:50.023Z"
   },
   {
    "duration": 26,
    "start_time": "2022-09-23T15:29:50.044Z"
   },
   {
    "duration": 182,
    "start_time": "2022-09-23T15:29:50.072Z"
   },
   {
    "duration": 6,
    "start_time": "2022-09-23T15:29:50.255Z"
   },
   {
    "duration": 112,
    "start_time": "2022-09-23T15:29:50.262Z"
   },
   {
    "duration": 8,
    "start_time": "2022-09-23T15:29:50.376Z"
   },
   {
    "duration": 163,
    "start_time": "2022-09-23T15:29:50.385Z"
   },
   {
    "duration": 7,
    "start_time": "2022-09-23T15:29:50.550Z"
   },
   {
    "duration": 37,
    "start_time": "2022-09-23T15:29:50.559Z"
   },
   {
    "duration": 20,
    "start_time": "2022-09-23T15:29:50.597Z"
   },
   {
    "duration": 184,
    "start_time": "2022-09-23T15:29:50.618Z"
   },
   {
    "duration": 2918,
    "start_time": "2022-09-23T15:29:50.803Z"
   },
   {
    "duration": 32,
    "start_time": "2022-09-23T15:29:53.723Z"
   },
   {
    "duration": 26,
    "start_time": "2022-09-23T15:29:53.756Z"
   },
   {
    "duration": 65,
    "start_time": "2022-09-23T15:29:53.784Z"
   },
   {
    "duration": 160,
    "start_time": "2022-09-23T15:29:53.851Z"
   },
   {
    "duration": 20,
    "start_time": "2022-09-23T15:29:54.013Z"
   },
   {
    "duration": 193,
    "start_time": "2022-09-23T15:29:54.035Z"
   },
   {
    "duration": 7,
    "start_time": "2022-09-23T15:29:54.230Z"
   },
   {
    "duration": 54,
    "start_time": "2022-09-23T15:29:54.239Z"
   },
   {
    "duration": 28,
    "start_time": "2022-09-23T15:29:54.295Z"
   },
   {
    "duration": 35,
    "start_time": "2022-09-23T15:29:54.325Z"
   }
  ],
  "kernelspec": {
   "display_name": "Python 3",
   "language": "python",
   "name": "python3"
  },
  "language_info": {
   "codemirror_mode": {
    "name": "ipython",
    "version": 3
   },
   "file_extension": ".py",
   "mimetype": "text/x-python",
   "name": "python",
   "nbconvert_exporter": "python",
   "pygments_lexer": "ipython3",
   "version": "3.8.3"
  },
  "toc": {
   "base_numbering": 1,
   "nav_menu": {},
   "number_sections": true,
   "sideBar": true,
   "skip_h1_title": true,
   "title_cell": "Содержание",
   "title_sidebar": "Contents",
   "toc_cell": true,
   "toc_position": {
    "height": "calc(100% - 180px)",
    "left": "10px",
    "top": "150px",
    "width": "166.009px"
   },
   "toc_section_display": true,
   "toc_window_display": true
  }
 },
 "nbformat": 4,
 "nbformat_minor": 2
}
